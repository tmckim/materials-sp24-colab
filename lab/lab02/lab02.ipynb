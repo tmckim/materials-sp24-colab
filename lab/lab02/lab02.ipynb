{
  "cells": [
    {
      "cell_type": "markdown",
      "id": "18e733f4",
      "metadata": {
        "id": "18e733f4"
      },
      "source": [
        "<a href=\"https://colab.research.google.com/github/tmckim/materials-sp24-colab/blob/main/lab/lab02/lab02.ipynb\" target=\"_parent\"><img src=\"https://colab.research.google.com/assets/colab-badge.svg\" alt=\"Open In Colab\"/></a>"
      ]
    },
    {
      "cell_type": "markdown",
      "id": "99448dfe",
      "metadata": {
        "id": "99448dfe"
      },
      "source": [
        "## Before you start - Save this notebook!\n",
        "\n",
        "When you open a new Colab notebook from the WebCampus (like you hopefully did for this one), you cannot save changes. So it's  best to store the Colab notebook in your personal drive `\"File > Save a copy in drive...\"` **before** you do anything else.\n",
        "\n",
        "The file will open in a new tab in your web browser, and it is automatically named something like: \"**Copy of lab02.ipynb**\". You can rename this to just the title of the assignment \"**lab02.ipynb**\". Make sure you do keep an informative name (like the name of the assignment) so that you know which files to submit back to WebCampus for grading! More instructions on this are at the end of the notebook.\n",
        "\n",
        "\n",
        "**Where does the notebook get saved in Google Drive?**\n",
        "\n",
        "By default, the notebook will be copied to a folder called “Colab Notebooks” at the root (home directory) of your Google Drive. If you use this for other courses or personal code notebooks, I recommend creating a folder for this course and then moving the assignments AFTER you have completed them. <br>\n",
        "\n",
        "I also recommend you give the folder where you save your notebooks^ a different name than the folder we create below that will store the notebook resources you need each time you work through a course notebook. This includes any data files you will need, links to the images that appear in the notebook, and the files associated with the autograder for answer checking.<br>\n",
        "You should select a name other than '**NS499-DataSci-course-materials**'. <br>\n",
        "This folder gets overwritten with each assignment you work on in the course, so you should **NOT** store your notebooks in this folder that we use for course materials! <br><br>For example, you could create a folder called 'NS499-**notebooks**' or something along those lines. \n",
        "\n",
        "__________"
      ]
    },
    {
      "cell_type": "code",
      "execution_count": null,
      "id": "7LJkewHr9Ghq",
      "metadata": {
        "deletable": false,
        "editable": false,
        "id": "7LJkewHr9Ghq"
      },
      "outputs": [],
      "source": [
        "# Setup and add files needed to access gdrive\n",
        "# If you restart colab, start by re-running this cell first!\n",
        "from google.colab import drive                                   # these lines mount your gdrive to access the files we import below\n",
        "drive.mount('/content/gdrive', force_remount=True)\n",
        "\n",
        "# We make this folder (dir) for all your course materials this semester!\n",
        "# You only need to do this once, so if you already ran this during the lecture demo or lab01, then you do *NOT* need it here (leave commented out behind the #)\n",
        "# !mkdir -p '/content/gdrive/My Drive/NS499-DataSci-course-materials/'  # Don't change this name! This is where everything gets stored in gdrive, consistent for the semester\n",
        "\n",
        "%cd /content/gdrive/MyDrive/NS499-DataSci-course-materials/     # Change directory to the correct location in gdrive\n",
        "!rm -r materials-sp24-colab                                     # Remove the files that were previously there- we will replace with all the old + new ones for this assignment\n",
        "\n",
        "# These lines clone (copy) all the files you will need from where I store the code+data for the course (github)\n",
        "# Second part of the code copies the files to this location and folder in your own gdrive\n",
        "!git clone https://github.com/tmckim/materials-sp24-colab '/content/gdrive/My Drive/NS499-DataSci-course-materials/materials-sp24-colab/'\n",
        "\n",
        "# This installs the autograder, the system that helps you check your answers - more on this later\n",
        "%pip install otter-grader==4.3.4\n",
        "\n",
        "# Change directory (cd) into the folder where the resources for this hw are stored in gdrive\n",
        "%cd /content/gdrive/MyDrive/colab-materials-NS499DataSci-notebooks/materials-sp24-colab/lab/lab02/\n",
        "\n",
        "# Initialize Otter\n",
        "import otter\n",
        "grader = otter.Notebook(colab=True)"
      ]
    },
    {
      "cell_type": "markdown",
      "id": "_bVG9kn99Ghr",
      "metadata": {
        "id": "_bVG9kn99Ghr"
      },
      "source": [
        "# Lab 2: Table Operations\n",
        "\n",
        "Welcome to Lab 2!  This week, we'll learn how to import a module and practice table operations. The [Python Reference](http://data8.org/sp22/python-reference.html) has information that will be useful for this lab.\n",
        "\n",
        "**Recommended Reading**:\n",
        " * [Introduction to Tables](https://www.inferentialthinking.com/chapters/03/4/Introduction_to_Tables)\n",
        "\n",
        "\n",
        "**Submission**: Once you’re finished, run all cells besides the last one, and make sure no error messages are present. Also check that the grader checks have said that you passed. Follow the instructions at the end to submit your notebook online.\n",
        "\n",
        "Let's begin by setting up the tests and imports by running the cell below."
      ]
    },
    {
      "cell_type": "markdown",
      "id": "c184c6d6",
      "metadata": {
        "id": "c184c6d6"
      },
      "source": [
        "#### Today's lab\n",
        "\n",
        "In today's lab, you'll learn how to:\n",
        "\n",
        "1. practice working with call expressions\n",
        "2. import packages to use methods and functions\n",
        "3. try out various table operations"
      ]
    },
    {
      "cell_type": "code",
      "execution_count": null,
      "id": "E5KXVDic9Ghs",
      "metadata": {
        "id": "E5KXVDic9Ghs"
      },
      "outputs": [],
      "source": [
        "# Import packages and other things needed\n",
        "# Don't change this cell; Just run this cell\n",
        "# If you restart colab, make sure to run this cell again after the first one above^\n",
        "\n",
        "import numpy as np\n",
        "from datascience import *\n",
        "import d8error"
      ]
    },
    {
      "cell_type": "markdown",
      "id": "T3Y2x4x59Ghs",
      "metadata": {
        "id": "T3Y2x4x59Ghs"
      },
      "source": [
        "# 1. Review: The Building Blocks of Python Code\n",
        "\n",
        "The two building blocks of Python code are *expressions* and *statements*.  An **expression** is a piece of code that\n",
        "\n",
        "* is self-contained, meaning it would make sense to write it on a line by itself, and\n",
        "* usually evaluates to a value.\n",
        "\n",
        "\n",
        "Here are two expressions that both evaluate to 3:\n",
        "\n",
        "    3\n",
        "    5 - 2\n",
        "    \n",
        "One important type of expression is the **call expression**. A call expression begins with the name of a function and is followed by the argument(s) of that function in parentheses. The function returns some value, based on its arguments. Some important mathematical functions are listed below.\n",
        "\n",
        "| Function | Description                                                   |\n",
        "|----------|---------------------------------------------------------------|\n",
        "| `abs`      | Returns the absolute value of its argument                    |\n",
        "| `max`      | Returns the maximum of all its arguments                      |\n",
        "| `min`      | Returns the minimum of all its arguments                      |\n",
        "| `pow`      | Raises its first argument to the power of its second argument |\n",
        "| `round`    | Rounds its argument to the nearest integer                     |\n",
        "\n",
        "Here are two call expressions that both evaluate to 3:\n",
        "\n",
        "    abs(2 - 5)\n",
        "    max(round(2.8), min(pow(2, 10), -1 * pow(2, 10)))\n",
        "\n",
        "The expression `2 - 5` and the two call expressions given above are examples of **compound expressions**, meaning that they are actually combinations of several smaller expressions.  `2 - 5` combines the expressions `2` and `5` by subtraction.  In this case, `2` and `5` are called **subexpressions** because they're expressions that are part of a larger expression.\n",
        "\n",
        "A **statement** is a whole line of code.  Some statements are just expressions.  The expressions listed above are examples.\n",
        "\n",
        "Other statements *make something happen* rather than *having a value*. For example, an **assignment statement** assigns a value to a name.\n",
        "\n",
        "A good way to think about this is that we're **evaluating the right-hand side** of the equals sign and **assigning it to the left-hand side**. Here are some assignment statements:\n",
        "    \n",
        "    height = 1.3\n",
        "    the_number_five = abs(-5)\n",
        "    absolute_height_difference = abs(height - 1.688)\n",
        "\n",
        "An important idea in programming is that large, interesting things can be built by combining many simple, uninteresting things.  The key to understanding a complicated piece of code is breaking it down into its simple components.\n",
        "\n",
        "For example, a lot is going on in the last statement above, but it's really just a combination of a few things.  This picture describes what's going on.\n",
        "\n",
        "<img src=\"https://github.com/tmckim/materials-fa23-colab/blob/main/lab/lab02/statement.png?raw=1\">"
      ]
    },
    {
      "cell_type": "markdown",
      "id": "yr5TYFEe9Ght",
      "metadata": {
        "id": "yr5TYFEe9Ght"
      },
      "source": [
        "**Question 1.1.** In the next cell, assign the name `new_year` to the larger number among the following two numbers:\n",
        "\n",
        "* the **absolute value** of $2^{5}-2^{11}-2^1 + 1$, and\n",
        "* $5 \\times 13 \\times 31 + 7$.\n",
        "\n",
        "Try to use just one statement (one line of code). Be sure to check your work by executing the test cell afterward.\n"
      ]
    },
    {
      "cell_type": "code",
      "execution_count": null,
      "id": "kSt6_deL9Ght",
      "metadata": {
        "deletable": false,
        "id": "kSt6_deL9Ght",
        "tags": []
      },
      "outputs": [],
      "source": [
        "new_year = ...\n",
        "new_year"
      ]
    },
    {
      "cell_type": "code",
      "execution_count": null,
      "id": "YiortFgO9Ght",
      "metadata": {
        "deletable": false,
        "editable": false,
        "id": "YiortFgO9Ght"
      },
      "outputs": [],
      "source": [
        "grader.check(\"q11\")"
      ]
    },
    {
      "cell_type": "markdown",
      "id": "YlFPW0Tm9Ghu",
      "metadata": {
        "id": "YlFPW0Tm9Ghu"
      },
      "source": [
        "We've asked you to use one line of code in the question above because it only involves mathematical operations. However, more complicated programming questions will more require more steps. It isn’t always a good idea to jam these steps into a single line because it can make the code harder to read and harder to debug.\n",
        "\n",
        "Good programming practice involves splitting up your code into smaller steps and using appropriate names. You'll have plenty of practice in the rest of this course!"
      ]
    },
    {
      "cell_type": "markdown",
      "id": "kN9QymKr9Ghu",
      "metadata": {
        "id": "kN9QymKr9Ghu"
      },
      "source": [
        "# 2. Importing Code\n",
        "\n",
        "Most programming involves work that is very similar to work that has been done before.  Since writing code is time-consuming, it's good to rely on others' published code when you can.  Rather than copy-pasting, Python allows us to **import modules**. A module is a file with Python code that has defined variables and functions. By importing a module, we are able to use its code in our own notebook.\n",
        "\n",
        "Python includes many useful modules that are just an `import` away.  We'll look at the `math` module as a first example. The `math` module is extremely useful in computing mathematical expressions in Python.\n",
        "\n",
        "Suppose we want to very accurately compute the area of a circle with a radius of 5 meters.  For that, we need the constant $\\pi$, which is roughly 3.14.  Conveniently, the `math` module has `pi` defined for us. Run the following cell to import the math module:"
      ]
    },
    {
      "cell_type": "code",
      "execution_count": null,
      "id": "O_w77K2C9Ghu",
      "metadata": {
        "id": "O_w77K2C9Ghu"
      },
      "outputs": [],
      "source": [
        "import math\n",
        "radius = 5\n",
        "area_of_circle = radius**2 * math.pi\n",
        "area_of_circle"
      ]
    },
    {
      "cell_type": "markdown",
      "id": "bMMPswtF9Ghu",
      "metadata": {
        "id": "bMMPswtF9Ghu"
      },
      "source": [
        "In the code above, the line `import math` imports the math module. This statement creates a module and then assigns the name `math` to that module. We are now able to access any variables or functions defined within `math` by typing the name of the module followed by a dot, then followed by the name of the variable or function we want.\n",
        "\n",
        "    <module name>.<name>"
      ]
    },
    {
      "cell_type": "markdown",
      "id": "oltTAwiF9Ghu",
      "metadata": {
        "id": "oltTAwiF9Ghu"
      },
      "source": [
        "**Question 2.1.** The module `math` also provides the name `e` for the base of the natural logarithm, which is roughly 2.71. Compute $e^{\\pi}-\\pi$, giving it the name `near_twenty`.\n",
        "\n",
        "*Remember: You can access `pi` from the `math` module as well!*\n"
      ]
    },
    {
      "cell_type": "code",
      "execution_count": null,
      "id": "0tqqJs2U9Ghu",
      "metadata": {
        "deletable": false,
        "id": "0tqqJs2U9Ghu",
        "tags": []
      },
      "outputs": [],
      "source": [
        "near_twenty = ...\n",
        "near_twenty"
      ]
    },
    {
      "cell_type": "code",
      "execution_count": null,
      "id": "JxNzIclg9Ghv",
      "metadata": {
        "deletable": false,
        "editable": false,
        "id": "JxNzIclg9Ghv"
      },
      "outputs": [],
      "source": [
        "grader.check(\"q21\")"
      ]
    },
    {
      "cell_type": "markdown",
      "id": "jfqAq0CY9Ghv",
      "metadata": {
        "id": "jfqAq0CY9Ghv"
      },
      "source": [
        "## 2.1. Accessing Functions\n",
        "\n",
        "In the question above, you accessed variables within the `math` module.\n",
        "\n",
        "**Modules** also define **functions**.  For example, `math` provides the name `floor` for the floor function.  Having imported `math` already, we can write `math.floor(7.5)` to compute the floor of 7.5.  (Note that the floor function returns the largest integer less than or equal to a given number.)\n",
        "\n",
        "**Question 2.1.1.** Compute the floor of pi using `floor` and `pi` from the `math` module.  Give the result the name `floor_of_pi`.\n"
      ]
    },
    {
      "cell_type": "code",
      "execution_count": null,
      "id": "1h5WM6Zp9Ghv",
      "metadata": {
        "deletable": false,
        "id": "1h5WM6Zp9Ghv",
        "tags": []
      },
      "outputs": [],
      "source": [
        "floor_of_pi = ...\n",
        "floor_of_pi"
      ]
    },
    {
      "cell_type": "code",
      "execution_count": null,
      "id": "FiHq8itY9Ghv",
      "metadata": {
        "deletable": false,
        "editable": false,
        "id": "FiHq8itY9Ghv"
      },
      "outputs": [],
      "source": [
        "grader.check(\"q211\")"
      ]
    },
    {
      "cell_type": "markdown",
      "id": "ejbskBAH9Ghv",
      "metadata": {
        "id": "ejbskBAH9Ghv"
      },
      "source": [
        "For your reference, below are some more examples of functions from the `math` module.\n",
        "\n",
        "Notice how different functions take in different numbers of arguments. Often, the [documentation](https://docs.python.org/3/library/math.html) of the module will provide information on how many arguments are required for each function.\n",
        "\n",
        "*Hint: If you press `shift+tab` while next to the function call, the documentation for that function will appear.*"
      ]
    },
    {
      "cell_type": "code",
      "execution_count": null,
      "id": "O60PqXsm9Ghv",
      "metadata": {
        "id": "O60PqXsm9Ghv"
      },
      "outputs": [],
      "source": [
        "# Calculating logarithms (the logarithm of 8 in base 2).\n",
        "# The result is 3 because 2 to the power of 3 is 8.\n",
        "math.log(8, 2)"
      ]
    },
    {
      "cell_type": "code",
      "execution_count": null,
      "id": "mAaeo1Gr9Ghv",
      "metadata": {
        "id": "mAaeo1Gr9Ghv"
      },
      "outputs": [],
      "source": [
        "# Calculating square roots.\n",
        "math.sqrt(5)"
      ]
    },
    {
      "cell_type": "markdown",
      "id": "9V6r__vU9Ghv",
      "metadata": {
        "id": "9V6r__vU9Ghv"
      },
      "source": [
        "There are various ways to import and access code from outside sources. The method we used above — `import <module_name>` — imports the entire module and requires that we use `<module_name>.<name>` to access its code.\n",
        "\n",
        "We can also import a specific constant or function instead of the entire module. Notice that you don't have to use the module name beforehand to reference that particular value. However, you do have to be careful about reassigning the names of the constants or functions to other values!"
      ]
    },
    {
      "cell_type": "code",
      "execution_count": null,
      "id": "Z0b1m3Sf9Ghv",
      "metadata": {
        "id": "Z0b1m3Sf9Ghv"
      },
      "outputs": [],
      "source": [
        "# Importing just cos and pi from math.\n",
        "# We don't have to use `math.` in front of cos or pi\n",
        "from math import cos, pi\n",
        "print(cos(pi))\n",
        "\n",
        "# We do have to use it in front of other functions from math, though\n",
        "math.log(pi)"
      ]
    },
    {
      "cell_type": "markdown",
      "id": "4By1B2Gc9Ghw",
      "metadata": {
        "id": "4By1B2Gc9Ghw"
      },
      "source": [
        "Or we can import every function and value from the entire module."
      ]
    },
    {
      "cell_type": "code",
      "execution_count": null,
      "id": "0vE44ytD9Ghw",
      "metadata": {
        "id": "0vE44ytD9Ghw"
      },
      "outputs": [],
      "source": [
        "# Lastly, we can import everything from math using the *\n",
        "# Once again, we don't have to use 'math.' beforehand\n",
        "from math import *\n",
        "log(pi)"
      ]
    },
    {
      "cell_type": "markdown",
      "id": "ziEfn0TH9Ghw",
      "metadata": {
        "id": "ziEfn0TH9Ghw"
      },
      "source": [
        "Don't worry too much about which type of import to use. It's often a coding style choice left up to each programmer. In this course, you'll always import the necessary modules when you run the setup cell (like the first code cell in this lab).\n",
        "\n",
        "Let's move on to practicing some of the table operations you've learned in lecture!"
      ]
    },
    {
      "cell_type": "markdown",
      "id": "V_2T3Vor9Ghw",
      "metadata": {
        "id": "V_2T3Vor9Ghw"
      },
      "source": [
        "# 3. Table Operations\n",
        "\n",
        "The table `farmers_markets.csv` contains data on farmers' markets in the United States  (data associated with [the USDA](https://apps.ams.usda.gov/FarmersMarketsExport/ExcelExport.aspx)).  Each row represents one such market.\n",
        "\n",
        "Run the next cell to load the `farmers_markets` table. There will be no output -- no output is expected as the cell contains an assignment statement. An assignment statement does not produce any output (it does not yield any value)."
      ]
    },
    {
      "cell_type": "code",
      "execution_count": null,
      "id": "eSG7YU-59Ghw",
      "metadata": {
        "deletable": false,
        "id": "eSG7YU-59Ghw"
      },
      "outputs": [],
      "source": [
        "# Just run this cell\n",
        "\n",
        "farmers_markets = Table.read_table('farmers_markets.csv')"
      ]
    },
    {
      "cell_type": "markdown",
      "id": "ygG76-a59Ghw",
      "metadata": {
        "id": "ygG76-a59Ghw"
      },
      "source": [
        "Let's examine our table to see what data it contains.\n",
        "\n",
        "**Question 3.1.** Use the method `show` to display the first 5 rows of `farmers_markets`.\n",
        "\n",
        "*Note:* The terms \"method\" and \"function\" are technically not the same thing, but for the purposes of this course, we will use them interchangeably.\n",
        "\n",
        "**Hint:** `tbl.show(3)` will show the first 3 rows of the table named `tbl`. Additionally, make sure not to call `.show()` without an argument, as this will crash your kernel!\n"
      ]
    },
    {
      "cell_type": "code",
      "execution_count": null,
      "id": "f728y8r29Ghw",
      "metadata": {
        "deletable": false,
        "id": "f728y8r29Ghw",
        "tags": []
      },
      "outputs": [],
      "source": [
        "..."
      ]
    },
    {
      "cell_type": "markdown",
      "id": "upKrq1879Ghw",
      "metadata": {
        "id": "upKrq1879Ghw"
      },
      "source": [
        "Notice that some of the values in this table are missing, as denoted by \"nan.\" This means either that the value is not available (e.g. if we don’t know the market’s street address) or not applicable (e.g. if the market doesn’t have a street address). You'll also notice that the table has a large number of columns in it!\n",
        "\n",
        "### `num_columns`\n",
        "\n",
        "The table property `num_columns` returns the number of columns in a table. (A \"property\" is just a method that doesn't need to be called by adding parentheses.)\n",
        "\n",
        "Example call: `tbl.num_columns` will return the number of columns in a table called `tbl`\n",
        "\n",
        "**Question 3.2.** Use `num_columns` to find the number of columns in our farmers' markets dataset.\n",
        "\n",
        "Assign the number of columns to `num_farmers_markets_columns`.\n"
      ]
    },
    {
      "cell_type": "code",
      "execution_count": null,
      "id": "yhx8fquu9Ghw",
      "metadata": {
        "deletable": false,
        "id": "yhx8fquu9Ghw",
        "tags": []
      },
      "outputs": [],
      "source": [
        "num_farmers_markets_columns = ...\n",
        "print(\"The table has\", num_farmers_markets_columns, \"columns in it!\")"
      ]
    },
    {
      "cell_type": "code",
      "execution_count": null,
      "id": "srxkzQUl9Ghw",
      "metadata": {
        "deletable": false,
        "editable": false,
        "id": "srxkzQUl9Ghw"
      },
      "outputs": [],
      "source": [
        "grader.check(\"q32\")"
      ]
    },
    {
      "cell_type": "markdown",
      "id": "jZoXX-VE9Ghx",
      "metadata": {
        "id": "jZoXX-VE9Ghx"
      },
      "source": [
        "### `num_rows`\n",
        "\n",
        "Similarly, the property `num_rows` tells you how many rows are in a table."
      ]
    },
    {
      "cell_type": "code",
      "execution_count": null,
      "id": "j9NUc4qm9Ghx",
      "metadata": {
        "deletable": false,
        "id": "j9NUc4qm9Ghx"
      },
      "outputs": [],
      "source": [
        "# Just run this cell\n",
        "\n",
        "num_farmers_markets_rows = farmers_markets.num_rows\n",
        "print(\"The table has\", num_farmers_markets_rows, \"rows in it!\")"
      ]
    },
    {
      "cell_type": "markdown",
      "id": "aecJNyFA9Ghx",
      "metadata": {
        "id": "aecJNyFA9Ghx"
      },
      "source": [
        "### `select`\n",
        "\n",
        "Most of the columns are about particular products -- whether the market sells tofu, pet food, etc.  If we're not interested in that information, it just makes the table difficult to read.  This comes up more than you might think, because people who collect and publish data may not know ahead of time what people will want to do with it.\n",
        "\n",
        "In such situations, we can use the table method `select` to choose only the columns that we want in a particular table. It takes any number of arguments. Each should be the name of a column in the table. It returns a new table with only those columns in it. The columns are in the order *in which they were listed as arguments*.\n",
        "\n",
        "For example, the value of `farmers_markets.select(\"MarketName\", \"State\")` is a table with only the name and the state of each farmers' market in `farmers_markets`.\n",
        "\n",
        "\n",
        "\n",
        "**Question 3.3.** Use `select` to create a table with only the name, city, state, latitude (`y`), and longitude (`x`) of each market.  Call that new table `farmers_markets_locations`.\n",
        "\n",
        "*Hint:* Make sure to be exact when using column names with `select`; double-check capitalization!\n"
      ]
    },
    {
      "cell_type": "code",
      "execution_count": null,
      "id": "V0qSGmhW9Ghx",
      "metadata": {
        "deletable": false,
        "id": "V0qSGmhW9Ghx",
        "tags": []
      },
      "outputs": [],
      "source": [
        "farmers_markets_locations = ...\n",
        "farmers_markets_locations"
      ]
    },
    {
      "cell_type": "code",
      "execution_count": null,
      "id": "aEGiA0OK9Gh0",
      "metadata": {
        "deletable": false,
        "editable": false,
        "id": "aEGiA0OK9Gh0"
      },
      "outputs": [],
      "source": [
        "grader.check(\"q33\")"
      ]
    },
    {
      "cell_type": "markdown",
      "id": "9iYi6zns9Gh1",
      "metadata": {
        "id": "9iYi6zns9Gh1"
      },
      "source": [
        "### `drop`\n",
        "\n",
        "`drop` serves the same purpose as `select`, but it takes away the columns that you provide rather than the ones that you don't provide. Like `select`, `drop` returns a new table.\n",
        "\n",
        "**Question 3.4.** Suppose you just didn't want the `FMID` and `updateTime` columns in `farmers_markets`.  Create a table that's a copy of `farmers_markets` but doesn't include those columns.  Call that table `farmers_markets_without_fmid`.\n"
      ]
    },
    {
      "cell_type": "code",
      "execution_count": null,
      "id": "foRATHEz9Gh1",
      "metadata": {
        "deletable": false,
        "id": "foRATHEz9Gh1",
        "tags": []
      },
      "outputs": [],
      "source": [
        "farmers_markets_without_fmid = ...\n",
        "farmers_markets_without_fmid"
      ]
    },
    {
      "cell_type": "code",
      "execution_count": null,
      "id": "iIaMTiYd9Gh1",
      "metadata": {
        "deletable": false,
        "editable": false,
        "id": "iIaMTiYd9Gh1"
      },
      "outputs": [],
      "source": [
        "grader.check(\"q34\")"
      ]
    },
    {
      "cell_type": "markdown",
      "id": "Ss2u5LmD9Gh1",
      "metadata": {
        "id": "Ss2u5LmD9Gh1"
      },
      "source": [
        "Now, suppose we want to answer some questions about farmers' markets in the US. For example, which market(s) have the largest longitude (given by the `x` column)?\n",
        "\n",
        "To answer this, we'll sort `farmers_markets_locations` by longitude."
      ]
    },
    {
      "cell_type": "code",
      "execution_count": null,
      "id": "Xprv6q0U9Gh1",
      "metadata": {
        "id": "Xprv6q0U9Gh1"
      },
      "outputs": [],
      "source": [
        "farmers_markets_locations.sort('x')"
      ]
    },
    {
      "cell_type": "markdown",
      "id": "sepnnvJE9Gh1",
      "metadata": {
        "id": "sepnnvJE9Gh1"
      },
      "source": [
        "Oops, that didn't answer our question because we sorted from smallest to largest longitude. To look at the largest longitudes, we'll have to sort in reverse order."
      ]
    },
    {
      "cell_type": "code",
      "execution_count": null,
      "id": "ghqrn5Th9Gh1",
      "metadata": {
        "id": "ghqrn5Th9Gh1"
      },
      "outputs": [],
      "source": [
        "farmers_markets_locations.sort('x', descending=True)"
      ]
    },
    {
      "cell_type": "markdown",
      "id": "8-Kqb7xJ9Gh1",
      "metadata": {
        "id": "8-Kqb7xJ9Gh1"
      },
      "source": [
        "(The `descending=True` bit is called an *optional argument*. It has a default value of `False`, so when you explicitly tell the function `descending=True`, then the function will sort in descending order.)\n",
        "\n",
        "### `sort`\n",
        "\n",
        "Some details about sort:\n",
        "\n",
        "1. The first argument to `sort` is the name of a column to sort by.\n",
        "2. If the column has text in it, `sort` will sort alphabetically; if the column has numbers, it will sort numerically - both in ascending order by default.\n",
        "3. The value of `farmers_markets_locations.sort(\"x\")` is a *copy* of `farmers_markets_locations`; the `farmers_markets_locations` table doesn't get modified. For example, if we called `farmers_markets_locations.sort(\"x\")`, then running `farmers_markets_locations` by itself would still return the unsorted table.\n",
        "4. Rows always stick together when a table is sorted.  It wouldn't make sense to sort just one column and leave the other columns alone.  For example, in this case, if we sorted just the `x` column, the farmers' markets would all end up with the wrong longitudes.\n",
        "\n",
        "**Question 3.5.** Create a version of `farmers_markets_locations` that's sorted by **latitude (`y`)**, with the largest latitudes first.  Call it `farmers_markets_locations_by_latitude`.\n"
      ]
    },
    {
      "cell_type": "code",
      "execution_count": null,
      "id": "gE0_aLAT9Gh2",
      "metadata": {
        "deletable": false,
        "id": "gE0_aLAT9Gh2",
        "scrolled": true,
        "tags": []
      },
      "outputs": [],
      "source": [
        "farmers_markets_locations_by_latitude = ...\n",
        "farmers_markets_locations_by_latitude"
      ]
    },
    {
      "cell_type": "code",
      "execution_count": null,
      "id": "2krhL-uL9Gh2",
      "metadata": {
        "deletable": false,
        "editable": false,
        "id": "2krhL-uL9Gh2"
      },
      "outputs": [],
      "source": [
        "grader.check(\"q35\")"
      ]
    },
    {
      "cell_type": "markdown",
      "id": "SHcYiFLx9Gh2",
      "metadata": {
        "id": "SHcYiFLx9Gh2"
      },
      "source": [
        "Now let's say we want a table of all farmers' markets in California. Sorting won't help us much here because California  is closer to the middle of the dataset.\n",
        "\n",
        "Instead, we use the table method `where`."
      ]
    },
    {
      "cell_type": "code",
      "execution_count": null,
      "id": "Gk9yucCq9Gh2",
      "metadata": {
        "deletable": false,
        "id": "Gk9yucCq9Gh2"
      },
      "outputs": [],
      "source": [
        "california_farmers_markets = farmers_markets_locations.where('State', are.equal_to('California'))\n",
        "california_farmers_markets"
      ]
    },
    {
      "cell_type": "markdown",
      "id": "RR9HeBlZ9Gh2",
      "metadata": {
        "id": "RR9HeBlZ9Gh2"
      },
      "source": [
        "Ignore the syntax for the moment.  Instead, try to read that line like this:\n",
        "\n",
        "> Assign the name **`california_farmers_markets`** to a table whose rows are the rows in the **`farmers_markets_locations`** table **`where`** the **`\"State\"`** **`are equal to` `\"California\"`**."
      ]
    },
    {
      "cell_type": "markdown",
      "id": "xEOxN1O69Gh2",
      "metadata": {
        "id": "xEOxN1O69Gh2"
      },
      "source": [
        "### `where`\n",
        "\n",
        "Now let's dive into the details a bit more.  `where` takes 2 arguments:\n",
        "\n",
        "1. The name of a column.  `where` finds rows where that column's values meet some criterion.\n",
        "2. A predicate that describes the criterion that the column needs to meet.\n",
        "\n",
        "The predicate in the example above called the function `are.equal_to` with the value we wanted, 'California'.  We'll see other predicates soon.\n",
        "\n",
        "`where` returns a table that's a copy of the original table, but **with only the rows that meet the given predicate**."
      ]
    },
    {
      "cell_type": "markdown",
      "id": "8W1mm7FU9Gh2",
      "metadata": {
        "id": "8W1mm7FU9Gh2"
      },
      "source": [
        "**Question 3.6.** Use `california_farmers_markets` to create a table called `berkeley_markets` containing farmers' markets in Berkeley, California."
      ]
    },
    {
      "cell_type": "code",
      "execution_count": null,
      "id": "P6VeeeSN9Gh2",
      "metadata": {
        "deletable": false,
        "id": "P6VeeeSN9Gh2",
        "tags": []
      },
      "outputs": [],
      "source": [
        "berkeley_markets = ...\n",
        "berkeley_markets"
      ]
    },
    {
      "cell_type": "code",
      "execution_count": null,
      "id": "ZZ-bMMCM9Gh2",
      "metadata": {
        "deletable": false,
        "editable": false,
        "id": "ZZ-bMMCM9Gh2"
      },
      "outputs": [],
      "source": [
        "grader.check(\"q36\")"
      ]
    },
    {
      "cell_type": "markdown",
      "id": "X1XET_Xk9Gh2",
      "metadata": {
        "id": "X1XET_Xk9Gh2"
      },
      "source": [
        "So far we've only been using `where` with the predicate that requires finding the values in a column to be *exactly* equal to a certain value. However, there are many other predicates. Here are a few:\n",
        "\n",
        "|Predicate|Example|Result|\n",
        "|-|-|-|\n",
        "|`are.equal_to`|`are.equal_to(50)`|Find rows with values equal to 50|\n",
        "|`are.not_equal_to`|`are.not_equal_to(50)`|Find rows with values not equal to 50|\n",
        "|`are.above`|`are.above(50)`|Find rows with values above (and not equal to) 50|\n",
        "|`are.above_or_equal_to`|`are.above_or_equal_to(50)`|Find rows with values above 50 or equal to 50|\n",
        "|`are.below`|`are.below(50)`|Find rows with values below 50|\n",
        "|`are.between`|`are.between(2, 10)`|Find rows with values above or equal to 2 and below 10|\n",
        "|`are.between_or_equal_to`|`are.between_or_equal_to(2, 10)`|Find rows with values above or equal to 2 and below or equal to 10|"
      ]
    },
    {
      "cell_type": "markdown",
      "id": "Js7ZEE529Gh3",
      "metadata": {
        "id": "Js7ZEE529Gh3"
      },
      "source": [
        "## 4. Analyzing a dataset\n",
        "\n",
        "Now that you're familiar with table operations, let’s answer an interesting question about a dataset!\n",
        "\n",
        "Run the cell below to load the `imdb` table. It contains information about the 250 highest-rated movies on IMDb."
      ]
    },
    {
      "cell_type": "code",
      "execution_count": null,
      "id": "e3VBukl29Gh3",
      "metadata": {
        "deletable": false,
        "id": "e3VBukl29Gh3",
        "scrolled": true
      },
      "outputs": [],
      "source": [
        "# Just run this cell\n",
        "\n",
        "imdb = Table.read_table('imdb.csv')\n",
        "imdb"
      ]
    },
    {
      "cell_type": "markdown",
      "id": "lbx-mwd-9Gh3",
      "metadata": {
        "id": "lbx-mwd-9Gh3"
      },
      "source": [
        "Often, we want to perform multiple operations - sorting, filtering, or others - in order to turn a table we have into something more useful. You can do these operations one by one, e.g.\n",
        "\n",
        "```\n",
        "first_step = original_tbl.where(“col1”, are.equal_to(12))\n",
        "second_step = first_step.sort(‘col2’, descending=True)\n",
        "```\n",
        "\n",
        "However, since the value of the expression `original_tbl.where(“col1”, are.equal_to(12))` is itself a table, you can just call a table method on it:\n",
        "\n",
        "```\n",
        "original_tbl.where(“col1”, are.equal_to(12)).sort(‘col2’, descending=True)\n",
        "```\n",
        "You should organize your work in the way that makes the most sense to you, using informative names for any intermediate tables you create."
      ]
    },
    {
      "cell_type": "markdown",
      "id": "0sI89JZD9Gh3",
      "metadata": {
        "id": "0sI89JZD9Gh3"
      },
      "source": [
        "**Question 4.1.** Create a table of movies released between 2010 and 2015 (inclusive) with ratings above 8. The table should only contain the columns `Title` and `Rating`, **in that order**.\n",
        "\n",
        "Assign the table to the name `above_eight`.\n",
        "\n",
        "*Hint:* Think about the steps you need to take, and try to put them in an order that make sense. Feel free to create intermediate tables for each step, but please make sure you assign your final table the name `above_eight`!\n"
      ]
    },
    {
      "cell_type": "code",
      "execution_count": null,
      "id": "cwQv92A-9Gh3",
      "metadata": {
        "deletable": false,
        "id": "cwQv92A-9Gh3",
        "tags": []
      },
      "outputs": [],
      "source": [
        "above_eight = ...\n",
        "above_eight"
      ]
    },
    {
      "cell_type": "code",
      "execution_count": null,
      "id": "ycXFkrx09Gh3",
      "metadata": {
        "deletable": false,
        "editable": false,
        "id": "ycXFkrx09Gh3"
      },
      "outputs": [],
      "source": [
        "grader.check(\"q41\")"
      ]
    },
    {
      "cell_type": "markdown",
      "id": "3rX0guMv9Gh3",
      "metadata": {
        "id": "3rX0guMv9Gh3"
      },
      "source": [
        "**Question 4.2.** Use `num_rows` (and arithmetic) to find the *proportion* of movies in the dataset that were released 1900-1999, and the *proportion* of movies in the dataset that were released in the year 2000 or later.\n",
        "\n",
        "Assign `proportion_in_20th_century` to the proportion of movies in the dataset that were released 1900-1999, and `proportion_in_21st_century` to the proportion of movies in the dataset that were released in the year 2000 or later.\n",
        "\n",
        "*Hint:* The *proportion* of movies released in the 1900's is the *number* of movies released in the 1900's, divided by the *total number* of movies.\n"
      ]
    },
    {
      "cell_type": "code",
      "execution_count": null,
      "id": "ae0oCM6B9Gh3",
      "metadata": {
        "deletable": false,
        "id": "ae0oCM6B9Gh3",
        "tags": []
      },
      "outputs": [],
      "source": [
        "num_movies_in_dataset = ...\n",
        "num_in_20th_century = ...\n",
        "num_in_21st_century = ...\n",
        "proportion_in_20th_century = ...\n",
        "proportion_in_21st_century = ...\n",
        "print(\"Proportion in 20th century:\", proportion_in_20th_century)\n",
        "print(\"Proportion in 21st century:\", proportion_in_21st_century)"
      ]
    },
    {
      "cell_type": "code",
      "execution_count": null,
      "id": "EyXYtnzb9Gh4",
      "metadata": {
        "deletable": false,
        "editable": false,
        "id": "EyXYtnzb9Gh4"
      },
      "outputs": [],
      "source": [
        "grader.check(\"q42\")"
      ]
    },
    {
      "cell_type": "markdown",
      "id": "RWMRz_KJ9Gh4",
      "metadata": {
        "id": "RWMRz_KJ9Gh4"
      },
      "source": [
        "## 5. Summary\n",
        "\n",
        "For your reference, here's a table of all the functions and methods we saw in this lab. We'll learn more methods to add to this table in the coming week!\n",
        "\n",
        "|Name|Example|Purpose|\n",
        "|-|-|-|\n",
        "|`sort`|`tbl.sort(\"N\")`|Create a copy of a table sorted by the values in a column|\n",
        "|`where`|`tbl.where(\"N\", are.above(2))`|Create a copy of a table with only the rows that match some *predicate*|\n",
        "|`num_rows`|`tbl.num_rows`|Compute the number of rows in a table|\n",
        "|`num_columns`|`tbl.num_columns`|Compute the number of columns in a table|\n",
        "|`select`|`tbl.select(\"N\")`|Create a copy of a table with only some of the columns|\n",
        "|`drop`|`tbl.drop(\"N\")`|Create a copy of a table without some of the columns|"
      ]
    },
    {
      "cell_type": "markdown",
      "id": "729f7657",
      "metadata": {
        "id": "729f7657"
      },
      "source": [
        "## Lab 2 Complete  "
      ]
    },
    {
      "cell_type": "code",
      "execution_count": null,
      "id": "11226f77",
      "metadata": {
        "id": "11226f77"
      },
      "outputs": [],
      "source": [
        "# Run this cell for a fun animation and message!\n",
        "\n",
        "from IPython.display import HTML\n",
        "print('Woot- Enjoy the rest of your day!')\n",
        "HTML('<img src=\"https://media.giphy.com/media/qLVGt6Go1dQFp4qVcg/giphy-downsized-large.gif\">')"
      ]
    },
    {
      "cell_type": "markdown",
      "id": "9sTVwWWj9Gh4",
      "metadata": {
        "id": "9sTVwWWj9Gh4"
      },
      "source": [
        "\n",
        "## 6. Submission\n",
        "\n",
        "To double-check your work, the cell below will rerun all of the autograder tests."
      ]
    },
    {
      "cell_type": "code",
      "execution_count": null,
      "id": "b2df1b45",
      "metadata": {
        "id": "b2df1b45"
      },
      "outputs": [],
      "source": [
        "# Just run this cell\n",
        "grader.check_all()"
      ]
    },
    {
      "cell_type": "markdown",
      "id": "obhyWGmM9Gh4",
      "metadata": {
        "id": "obhyWGmM9Gh4"
      },
      "source": [
        "### **Important submission steps:**\n",
        "1. Run the tests and verify that they all pass.\n",
        "2. Choose **Save** (and make sure you've already saved a copy in your drive) from the **File** menu.\n",
        "3. You will make sure your notebook file is saved in the following steps.\n",
        "4. You will submit the notebook for this assignment to the corresponding Assignment on the WebCampus (Canvas) course website.\n",
        "\n",
        "**It is your responsibility to make sure your work is saved before following the instructions in the last cell.**"
      ]
    },
    {
      "cell_type": "markdown",
      "id": "MIPqcaiT9Gh4",
      "metadata": {
        "deletable": false,
        "editable": false,
        "id": "MIPqcaiT9Gh4"
      },
      "source": [
        "## Submission\n",
        "\n",
        "Make sure you have run all cells in your notebook in order before running the cell below, so that all images/graphs appear in the output.\n",
        "**Please save (or check again) before exporting!**\n",
        "You will save the notebook file (.ipynb):\n",
        "\n",
        "\n",
        "1.   Go to `\"File > Download\"` and choose the **.ipynb format** (first option)\n",
        "  - This will save a copy of the python notebook file- extension .ipynb- in the Downloads folder on your computer (or wherever you have opted to save files)\n",
        "\n",
        "\n",
        "2. If the above option is not available to you, make sure to use ctrl + s on a pc (press both keys at same time, do not include the + sign) or command + s (press both keys at same time, do not include the + sign) for apple devices. Look at the top of the Menu in google colab, and toward the middle, it might say that changes were saved. \n",
        "  * If you want to check that things were saved recently, go to your Google drive (via an online browser or from the app) and check the timestamp for when your notebook was last updated. If it wasn't saved recently, go back to the tab where you have your notebook open and resave.\n",
        "  * The notebook file `\"Copy of lab02.ipynb\"` will be in your google drive under the `\"Colab Notebooks\"` folder. (see info at top for more on where things get saved)"
      ]
    },
    {
      "cell_type": "markdown",
      "id": "75kTLQtr9Gh4",
      "metadata": {
        "id": "75kTLQtr9Gh4"
      },
      "source": []
    }
  ],
  "metadata": {
    "colab": {
      "provenance": []
    },
    "kernelspec": {
      "display_name": "Python 3.8.5 64-bit",
      "language": "python",
      "name": "python3"
    },
    "language_info": {
      "codemirror_mode": {
        "name": "ipython",
        "version": 3
      },
      "file_extension": ".py",
      "mimetype": "text/x-python",
      "name": "python",
      "nbconvert_exporter": "python",
      "pygments_lexer": "ipython3",
      "version": "3.8.5"
    },
    "vscode": {
      "interpreter": {
        "hash": "aee8b7b246df8f9039afb4144a1f6fd8d2ca17a180786b69acc140d282b71a49"
      }
    }
  },
  "nbformat": 4,
  "nbformat_minor": 5
}
