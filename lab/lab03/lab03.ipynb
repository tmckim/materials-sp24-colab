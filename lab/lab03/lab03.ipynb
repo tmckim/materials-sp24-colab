{
  "cells": [
    {
      "cell_type": "markdown",
      "id": "e782cc60",
      "metadata": {
        "id": "e782cc60"
      },
      "source": [
        "<a href=\"https://colab.research.google.com/github/tmckim/materials-sp24-colab/blob/main/lab/lab03/lab03.ipynb\" target=\"_parent\"><img src=\"https://colab.research.google.com/assets/colab-badge.svg\" alt=\"Open In Colab\"/></a>"
      ]
    },
    {
      "cell_type": "markdown",
      "id": "5a90b363",
      "metadata": {
        "id": "5a90b363"
      },
      "source": [
        "## Before you start - Save this notebook!\n",
        "\n",
        "When you open a new Colab notebook from the WebCampus (like you hopefully did for this one), you cannot save changes. So it's  best to store the Colab notebook in your personal drive `\"File > Save a copy in drive...\"` **before** you do anything else.\n",
        "\n",
        "The file will open in a new tab in your web browser, and it is automatically named something like: \"**Copy of lab03.ipynb**\". You can rename this to just the title of the assignment \"**lab03.ipynb**\". Make sure you do keep an informative name (like the name of the assignment) so that you know which files to submit back to WebCampus for grading! More instructions on this are at the end of the notebook.\n",
        "\n",
        "\n",
        "**Where does the notebook get saved in Google Drive?**\n",
        "\n",
        "By default, the notebook will be copied to a folder called “Colab Notebooks” at the root (home directory) of your Google Drive. If you use this for other courses or personal code notebooks, I recommend creating a folder for this course and then moving the assignments AFTER you have completed them. <br>\n",
        "\n",
        "I also recommend you give the folder where you save your notebooks^ a different name than the folder we create below that will store the notebook resources you need each time you work through a course notebook. This includes any data files you will need, links to the images that appear in the notebook, and the files associated with the autograder for answer checking.<br>\n",
        "You should select a name other than '**NS499-DataSci-course-materials**'. <br>\n",
        "This folder gets overwritten with each assignment you work on in the course, so you should **NOT** store your notebooks in this folder that we use for course materials! <br><br>For example, you could create a folder called 'NS499-**notebooks**' or something along those lines. \n",
        "\n",
        "__________"
      ]
    },
    {
      "cell_type": "markdown",
      "id": "c690c82b",
      "metadata": {},
      "source": [
        "### We will now do the setup steps as separate cells to help with issues finding files in google drive/colab. <br> If you restart colab, you must rerun all **7** steps in each of these cells!"
      ]
    },
    {
      "cell_type": "code",
      "execution_count": null,
      "id": "94a1a420",
      "metadata": {},
      "outputs": [],
      "source": [
        "# Step 1\n",
        "# Setup and add files needed to access gdrive\n",
        "from google.colab import drive                                   # these lines mount your gdrive to access the files we import below\n",
        "drive.mount('/content/gdrive', force_remount=True)"
      ]
    },
    {
      "cell_type": "code",
      "execution_count": null,
      "id": "c8ac035b",
      "metadata": {},
      "outputs": [],
      "source": [
        "# Step 2\n",
        "# Change directory to the correct location in gdrive (modified way to do this from before)\n",
        "import os\n",
        "os.chdir('/content/gdrive/MyDrive/NS499-DataSci-course-materials/')"
      ]
    },
    {
      "cell_type": "code",
      "execution_count": null,
      "id": "53041697",
      "metadata": {},
      "outputs": [],
      "source": [
        "# Step 3\n",
        "# Remove the files that were previously there- we will replace with all the old + new ones for this assignment\n",
        "!rm -r materials-sp24-colab   "
      ]
    },
    {
      "cell_type": "code",
      "execution_count": null,
      "id": "8a2d411b",
      "metadata": {},
      "outputs": [],
      "source": [
        "# Step 4\n",
        "# These lines clone (copy) all the files you will need from where I store the code+data for the course (github)\n",
        "# Second part of the code copies the files to this location and folder in your own gdrive\n",
        "!git clone https://github.com/tmckim/materials-sp24-colab '/content/gdrive/My Drive/NS499-DataSci-course-materials/materials-sp24-colab/'"
      ]
    },
    {
      "cell_type": "code",
      "execution_count": null,
      "id": "0f48fd6d",
      "metadata": {},
      "outputs": [],
      "source": [
        "# Step 5\n",
        "# This installs the autograder, the system that helps you check your answers - more on this later\n",
        "%pip install otter-grader==4.3.4"
      ]
    },
    {
      "cell_type": "code",
      "execution_count": null,
      "id": "78b5b1dd",
      "metadata": {},
      "outputs": [],
      "source": [
        "# Step 6\n",
        "# Change directory into the folder where the resources for this assignment are stored in gdrive (modified way from before)\n",
        "os.chdir('/content/gdrive/MyDrive/NS499-DataSci-course-materials/materials-sp24-colab/lab/lab03/')"
      ]
    },
    {
      "cell_type": "code",
      "execution_count": null,
      "id": "06f6d2e9",
      "metadata": {},
      "outputs": [],
      "source": [
        "# Step 7\n",
        "# Initialize Otter\n",
        "import otter\n",
        "grader = otter.Notebook(colab=True)"
      ]
    },
    {
      "cell_type": "markdown",
      "id": "z_BR3mMD5HFa",
      "metadata": {
        "id": "z_BR3mMD5HFa"
      },
      "source": [
        "# Lab 3: Data Types and Arrays\n",
        "Welcome to Lab 3!\n",
        "\n",
        "So far, we've used Python to manipulate numbers and work with tables. But we need to discuss data types to deepen our understanding of how to work with data in Python.\n",
        "\n",
        "In this lab, you will:\n",
        "* Learn how to represent and manipulate another fundamental type of data: text.  A piece of text is called a *string* in Python. \n",
        "* Practice working with *arrays* of data. An array could contain all the numbers between 0 and 100 or all the words in the chapter of a book. \n",
        "* Create tables and practice analyzing them with your knowledge of table operations. <br>\n",
        "\n",
        "The [Python Reference](http://data8.org/sp22/python-reference.html) has information that will be useful for this lab.\n",
        "\n",
        "\n",
        "**Submission**: Once you’re finished, run all cells besides the last one, and make sure no error messages are present. Also check that the grader checks have said that you passed. Follow the instructions at the end to submit your notebook file (.ipynb).\n",
        "\n",
        "Let's begin by setting up the tests and imports by running the cell below."
      ]
    },
    {
      "cell_type": "markdown",
      "id": "8ccbf972",
      "metadata": {
        "id": "8ccbf972"
      },
      "source": [
        "#### Today's lab\n",
        "\n",
        "In today's lab, you will:\n",
        "\n",
        "1. work with different types of data\n",
        "2. continue to learn about and practice working with arrays\n",
        "3. create and manipulate tables"
      ]
    },
    {
      "cell_type": "markdown",
      "id": "6fUgX_nl5HFa",
      "metadata": {
        "id": "6fUgX_nl5HFa"
      },
      "source": [
        "Set up the tests and imports by running the cell below."
      ]
    },
    {
      "cell_type": "code",
      "execution_count": null,
      "id": "VAOq9Vcz5HFb",
      "metadata": {
        "deletable": false,
        "id": "VAOq9Vcz5HFb"
      },
      "outputs": [],
      "source": [
        "# Import packages and other things needed\n",
        "# Don't change this cell; Just run this cell\n",
        "# If you restart colab, make sure to run this cell again after the cells above^\n",
        "import numpy as np\n",
        "import math\n",
        "from datascience import *\n",
        "import d8error"
      ]
    },
    {
      "cell_type": "markdown",
      "id": "OuNV1ILL5HFb",
      "metadata": {
        "id": "OuNV1ILL5HFb"
      },
      "source": [
        "# 1. Text\n",
        "Programming doesn't just concern numbers. Text is one of the most common data types used in programs.\n",
        "\n",
        "Text is represented by a **string value** in Python. The word \"string\" is a programming term for a sequence of characters. A string might contain a single character, a word, a sentence, or a whole book.\n",
        "\n",
        "To distinguish text data from actual code, we demarcate strings by putting quotation marks around them. Single quotes (`'`) and double quotes (`\"`) are both valid, but the types of opening and closing quotation marks must match. The contents can be any sequence of characters, including numbers and symbols.\n",
        "\n",
        "We've seen strings before in `print` statements.  Below, two different strings are passed as arguments to the `print` function."
      ]
    },
    {
      "cell_type": "code",
      "execution_count": null,
      "id": "v1ZzVYXz5HFb",
      "metadata": {
        "id": "v1ZzVYXz5HFb"
      },
      "outputs": [],
      "source": [
        "print(\"I <3\", 'Data Science')"
      ]
    },
    {
      "cell_type": "markdown",
      "id": "1QDyzI5y5HFb",
      "metadata": {
        "id": "1QDyzI5y5HFb"
      },
      "source": [
        "Just as names can be given to numbers, names can be given to string values.  The names and strings aren't required to be similar in any way. Any name can be assigned to any string."
      ]
    },
    {
      "cell_type": "code",
      "execution_count": null,
      "id": "2xllIVkq5HFc",
      "metadata": {
        "id": "2xllIVkq5HFc"
      },
      "outputs": [],
      "source": [
        "one = 'two'\n",
        "plus = '*'\n",
        "print(one, plus, one)"
      ]
    },
    {
      "cell_type": "markdown",
      "id": "Tz4pTyzi5HFc",
      "metadata": {
        "id": "Tz4pTyzi5HFc"
      },
      "source": [
        "**Question 1.1.** Yuri Gagarin was the first person to travel through outer space.  When he emerged from his capsule upon landing on Earth, he [reportedly](https://en.wikiquote.org/wiki/Yuri_Gagarin) had the following conversation with a woman and girl who saw the landing:\n",
        "\n",
        "    The woman asked: \"Can it be that you have come from outer space?\"\n",
        "    Gagarin replied: \"As a matter of fact, I have!\"\n",
        "\n",
        "The cell below contains unfinished code.  Fill in the `...`s so that it prints out this conversation *exactly* as it appears above.\n"
      ]
    },
    {
      "cell_type": "code",
      "execution_count": null,
      "id": "kGBKnOAJ5HFc",
      "metadata": {
        "deletable": false,
        "id": "kGBKnOAJ5HFc",
        "tags": []
      },
      "outputs": [],
      "source": [
        "woman_asking = ...\n",
        "woman_quote = '\"Can it be that you have come from outer space?\"'\n",
        "gagarin_reply = 'Gagarin replied:'\n",
        "gagarin_quote = ...\n",
        "\n",
        "print(woman_asking, woman_quote)\n",
        "print(gagarin_reply, gagarin_quote)"
      ]
    },
    {
      "cell_type": "code",
      "execution_count": null,
      "id": "k0VNflw75HFc",
      "metadata": {
        "deletable": false,
        "editable": false,
        "id": "k0VNflw75HFc"
      },
      "outputs": [],
      "source": [
        "grader.check(\"q11\")"
      ]
    },
    {
      "cell_type": "markdown",
      "id": "Ahfmi_nQ5HFc",
      "metadata": {
        "id": "Ahfmi_nQ5HFc"
      },
      "source": [
        "## 1.1. String Methods"
      ]
    },
    {
      "cell_type": "markdown",
      "id": "FIlP4hN15HFc",
      "metadata": {
        "id": "FIlP4hN15HFc"
      },
      "source": [
        "Strings can be transformed using **methods**. Recall that methods and functions are not the same thing. Here is the textbook section on string methods: [4.2.1 String Methods](https://inferentialthinking.com/chapters/04/2/1/String_Methods.html?highlight=methods).\n",
        "\n",
        "Here's a sketch of how to call methods on a string:\n",
        "\n",
        "    <expression that evaluates to a string>.<method name>(<argument>, <argument>, ...)\n",
        "    \n",
        "One example of a string method is `replace`, which replaces all instances of some part of the original string (or a *substring*) with a new string.\n",
        "\n",
        "    <original string>.replace(<old substring>, <new substring>)\n",
        "    \n",
        "`replace` returns (evaluates to) a new string, leaving the original string unchanged.\n",
        "    \n",
        "Try to predict the output of this example, then run the cell!"
      ]
    },
    {
      "cell_type": "code",
      "execution_count": null,
      "id": "j_xLsSuN5HFc",
      "metadata": {
        "id": "j_xLsSuN5HFc"
      },
      "outputs": [],
      "source": [
        "# Replace one letter\n",
        "bag = 'bag'\n",
        "print(bag.replace('g', 't'), bag)"
      ]
    },
    {
      "cell_type": "markdown",
      "id": "-8PKEJMH5HFd",
      "metadata": {
        "id": "-8PKEJMH5HFd"
      },
      "source": [
        "You can call functions on the results of other functions.  For example, `max(abs(-5), abs(3))` evaluates to 5.  Similarly, you can call methods on the results of other method or function calls.\n",
        "\n",
        "You may have already noticed one difference between functions and methods - a function like `max` does not require a `.` before it's called, but a string method like `replace` does. Here's a handy [Python reference](http://data8.org/sp22/python-reference.html) on the Data 8 website. It's a good idea to refer to this whenever you're unsure of how to call a function or method."
      ]
    },
    {
      "cell_type": "code",
      "execution_count": null,
      "id": "gyrdNG2R5HFd",
      "metadata": {
        "id": "gyrdNG2R5HFd",
        "scrolled": true
      },
      "outputs": [],
      "source": [
        "# Calling replace on the output of another call to replace\n",
        "'train'.replace('t', 'ing').replace('in', 'de')"
      ]
    },
    {
      "cell_type": "markdown",
      "id": "LEtwMSxI5HFd",
      "metadata": {
        "id": "LEtwMSxI5HFd"
      },
      "source": [
        "Here's a picture of how Python evaluates a \"chained\" method call like that:\n",
        "\n",
        "<img src=\"chaining_method_calls.png\"/>"
      ]
    },
    {
      "cell_type": "markdown",
      "id": "00gpI1pz5HFd",
      "metadata": {
        "id": "00gpI1pz5HFd"
      },
      "source": [
        "**Question 1.1.1.** Use `replace` to transform the string `'hitchhiker'` into `'matchmaker'`. Assign your result to `new_word`.\n"
      ]
    },
    {
      "cell_type": "code",
      "execution_count": null,
      "id": "Ot8wXMJc5HFd",
      "metadata": {
        "deletable": false,
        "id": "Ot8wXMJc5HFd",
        "tags": []
      },
      "outputs": [],
      "source": [
        "new_word = ...\n",
        "new_word"
      ]
    },
    {
      "cell_type": "code",
      "execution_count": null,
      "id": "9vnzAivN5HFe",
      "metadata": {
        "deletable": false,
        "editable": false,
        "id": "9vnzAivN5HFe"
      },
      "outputs": [],
      "source": [
        "grader.check(\"q111\")"
      ]
    },
    {
      "cell_type": "markdown",
      "id": "EbZ3U36b5HFe",
      "metadata": {
        "id": "EbZ3U36b5HFe"
      },
      "source": [
        "There are many more string methods in Python, but most programmers don't memorize their names or how to use them.  In the \"real world,\" people usually just search the internet for documentation and examples. A complete [list of string methods](https://docs.python.org/3/library/stdtypes.html#string-methods) appears in the Python language documentation. [Stack Overflow](http://stackoverflow.com) has a huge database of answered questions that often demonstrate how to use these methods to achieve various ends. Material covered in these resources that haven't already been introduced in this class will be out of scope."
      ]
    },
    {
      "cell_type": "markdown",
      "id": "fNnn47JD5HFe",
      "metadata": {
        "id": "fNnn47JD5HFe"
      },
      "source": [
        "## 1.2. Converting to and from Strings"
      ]
    },
    {
      "cell_type": "markdown",
      "id": "3OU-uXxt5HFe",
      "metadata": {
        "id": "3OU-uXxt5HFe"
      },
      "source": [
        "Strings and numbers are different *types* of values, even when a string contains the digits of a number. For example, evaluating the following cell causes an error because an integer cannot be added to a string."
      ]
    },
    {
      "cell_type": "code",
      "execution_count": null,
      "id": "LGcmi0rD5HFe",
      "metadata": {
        "id": "LGcmi0rD5HFe",
        "tags": [
          "raises-exception"
        ]
      },
      "outputs": [],
      "source": [
        "8 + \"8\""
      ]
    },
    {
      "cell_type": "markdown",
      "id": "6Aclv7mv5HFe",
      "metadata": {
        "id": "6Aclv7mv5HFe"
      },
      "source": [
        "However, there are built-in functions to convert numbers to strings and strings to numbers. Some of these built-in functions have restrictions on the type of argument they take:\n",
        "\n",
        "|Function |Description|\n",
        "|-|-|\n",
        "|`int`|Converts a string of digits or a float to an integer (\"int\") value|\n",
        "|`float`|Converts a string of digits (perhaps with a decimal point) or an int to a decimal (\"float\") value|\n",
        "|`str`|Converts any value to a string|"
      ]
    },
    {
      "cell_type": "markdown",
      "id": "MOF8nH175HFe",
      "metadata": {
        "id": "MOF8nH175HFe"
      },
      "source": [
        "Try to predict what data type and value `example` evaluates to, then run the cell."
      ]
    },
    {
      "cell_type": "code",
      "execution_count": null,
      "id": "JWzmojvH5HFe",
      "metadata": {
        "id": "JWzmojvH5HFe"
      },
      "outputs": [],
      "source": [
        "example = 8 + int(\"10\") + float(\"8\")\n",
        "\n",
        "print(example)\n",
        "print(\"This example returned a \" + str(type(example)) + \"!\")"
      ]
    },
    {
      "cell_type": "markdown",
      "id": "MGS4RIfy5HFe",
      "metadata": {
        "id": "MGS4RIfy5HFe"
      },
      "source": [
        "Suppose you're writing a program that looks for dates in a text, and you want your program to find the amount of time that elapsed between two years it has identified.  It doesn't make sense to subtract two texts, but you can first convert the text containing the years into numbers.\n",
        "\n",
        "**Question 1.2.1.** Finish the code below to compute the number of years that elapsed between `one_year` and `another_year`.  Don't just write the numbers `1618` and `1648` (or `30`); use a conversion function to turn the given text data into numbers.\n"
      ]
    },
    {
      "cell_type": "code",
      "execution_count": null,
      "id": "HpxHN2K65HFe",
      "metadata": {
        "deletable": false,
        "id": "HpxHN2K65HFe",
        "tags": []
      },
      "outputs": [],
      "source": [
        "# Some text data:\n",
        "one_year = \"1618\"\n",
        "another_year = \"1648\"\n",
        "\n",
        "# Complete the next line.  Note that we can't just write:\n",
        "#   another_year - one_year\n",
        "# If you don't see why, try seeing what happens when you\n",
        "# write that here.\n",
        "difference = ...\n",
        "difference"
      ]
    },
    {
      "cell_type": "code",
      "execution_count": null,
      "id": "GAH7EO8w5HFe",
      "metadata": {
        "deletable": false,
        "editable": false,
        "id": "GAH7EO8w5HFe"
      },
      "outputs": [],
      "source": [
        "grader.check(\"q121\")"
      ]
    },
    {
      "cell_type": "markdown",
      "id": "5bu9c8i05HFf",
      "metadata": {
        "id": "5bu9c8i05HFf"
      },
      "source": [
        "## 1.3. Passing strings to functions\n",
        "\n",
        "String values, like numbers, can be arguments to functions and can be returned by functions.\n",
        "\n",
        "The function `len` (derived from the word \"length\") takes a single string as its argument and returns the number of characters (including spaces) in the string.\n",
        "\n",
        "Note that it doesn't count *words*. `len(\"one small step for man\")` evaluates to 22 characters, not 5 words.\n",
        "\n",
        "**Question 1.3.1.**  Use `len` to find the number of characters in the long string in the next cell.  Characters include things like spaces and punctuation. Assign `sentence_length` to that number.\n",
        "\n",
        "(The string is the first sentence of the English translation of the French [Declaration of the Rights of Man](http://avalon.law.yale.edu/18th_century/rightsof.asp).)  \n"
      ]
    },
    {
      "cell_type": "code",
      "execution_count": null,
      "id": "2kO6gXzz5HFf",
      "metadata": {
        "deletable": false,
        "id": "2kO6gXzz5HFf",
        "tags": []
      },
      "outputs": [],
      "source": [
        "a_very_long_sentence = \"The representatives of the French people, organized as a National Assembly, believing that the ignorance, neglect, or contempt of the rights of man are the sole cause of public calamities and of the corruption of governments, have determined to set forth in a solemn declaration the natural, unalienable, and sacred rights of man, in order that this declaration, being constantly before all the members of the Social body, shall remind them continually of their rights and duties; in order that the acts of the legislative power, as well as those of the executive power, may be compared at any moment with the objects and purposes of all political institutions and may thus be more respected, and, lastly, in order that the grievances of the citizens, based hereafter upon simple and incontestable principles, shall tend to the maintenance of the constitution and redound to the happiness of all.\"\n",
        "sentence_length = ...\n",
        "sentence_length"
      ]
    },
    {
      "cell_type": "code",
      "execution_count": null,
      "id": "sWYBBrnr5HFf",
      "metadata": {
        "deletable": false,
        "editable": false,
        "id": "sWYBBrnr5HFf"
      },
      "outputs": [],
      "source": [
        "grader.check(\"q131\")"
      ]
    },
    {
      "cell_type": "markdown",
      "id": "epymOONX5HFf",
      "metadata": {
        "id": "epymOONX5HFf"
      },
      "source": [
        "# 2. Arrays\n",
        "\n",
        "Computers are most useful when you can use a small amount of code to *do the same action* to *many different things*.\n",
        "\n",
        "For example, in the time it takes you to calculate the 18% tip on a restaurant bill, a laptop can calculate 18% tips for every restaurant bill paid by every human on Earth that day.  (That's if you're pretty fast at doing arithmetic in your head!)\n",
        "\n",
        "**Arrays** are how we put many values in one place so that we can operate on them as a group. For example, if `billions_of_numbers` is an array of numbers, the expression\n",
        "\n",
        "    .18 * billions_of_numbers\n",
        "\n",
        "gives a new array of numbers that contains the result of multiplying **each number** in `billions_of_numbers` by .18.  Arrays are not limited to numbers; we can also put all the words in a book into an array of strings.\n",
        "\n",
        "Concretely, an array is a **collection of values of the same type**."
      ]
    },
    {
      "cell_type": "markdown",
      "id": "sh0xhYDN5HFf",
      "metadata": {
        "id": "sh0xhYDN5HFf"
      },
      "source": [
        "## 2.1. Making arrays\n",
        "\n",
        "First, let's learn how to manually input values into an array. This typically isn't how programs work. Normally, we create arrays by loading them from an external source, like a data file.\n",
        "\n",
        "To create an array by hand, call the function `make_array`.  Each argument you pass to `make_array` will be in the array it returns.  Run this cell to see an example:"
      ]
    },
    {
      "cell_type": "code",
      "execution_count": null,
      "id": "WY5Gr0BU5HFf",
      "metadata": {
        "id": "WY5Gr0BU5HFf",
        "scrolled": true
      },
      "outputs": [],
      "source": [
        "make_array(0.125, 4.75, -1.3)"
      ]
    },
    {
      "cell_type": "markdown",
      "id": "px9_Jca65HFg",
      "metadata": {
        "id": "px9_Jca65HFg"
      },
      "source": [
        "Each value in an array (in the above case, the numbers 0.125, 4.75, and -1.3) is called an *element* of that array.\n",
        "\n",
        "Arrays themselves are also values, just like numbers and strings.  That means you can assign them to names or use them as arguments to functions. For example, `len(<some_array>)` returns the number of elements in `some_array`."
      ]
    },
    {
      "cell_type": "markdown",
      "id": "UWrKUJ925HFg",
      "metadata": {
        "id": "UWrKUJ925HFg"
      },
      "source": [
        "**Question 2.1.1.** Make an array containing the numbers 0, 1, -1, and $\\pi$, in that order.  Name it `interesting_numbers`.  \n",
        "\n",
        "*Hint:* How did you get the value $\\pi$ in lab 2?  You can refer to it the same way here. The `math` module has been imported at the top of this notebook.\n"
      ]
    },
    {
      "cell_type": "code",
      "execution_count": null,
      "id": "UjtQLpAa5HFg",
      "metadata": {
        "deletable": false,
        "id": "UjtQLpAa5HFg",
        "tags": []
      },
      "outputs": [],
      "source": [
        "interesting_numbers = ...\n",
        "interesting_numbers"
      ]
    },
    {
      "cell_type": "code",
      "execution_count": null,
      "id": "Yqdh-nDT5HFg",
      "metadata": {
        "deletable": false,
        "editable": false,
        "id": "Yqdh-nDT5HFg"
      },
      "outputs": [],
      "source": [
        "grader.check(\"q211\")"
      ]
    },
    {
      "cell_type": "markdown",
      "id": "Mq4C3J9h5HFg",
      "metadata": {
        "id": "Mq4C3J9h5HFg"
      },
      "source": [
        "**Question 2.1.2.** Make an array containing the five strings `\"Hello\"`, `\",\"`, `\" \"`, `\"world\"`, and `\"!\"`.  (The third one is a single space inside quotes.)  Name it `hello_world_components`.\n",
        "\n",
        "*Note:* If you evaluate `hello_world_components`, you'll notice some extra information in addition to its contents: `dtype='<U5'`.  That's just NumPy's extremely cryptic way of saying that the data types in the array are strings.\n"
      ]
    },
    {
      "cell_type": "code",
      "execution_count": null,
      "id": "kYdZfl065HFg",
      "metadata": {
        "deletable": false,
        "id": "kYdZfl065HFg",
        "tags": []
      },
      "outputs": [],
      "source": [
        "hello_world_components = ...\n",
        "hello_world_components"
      ]
    },
    {
      "cell_type": "code",
      "execution_count": null,
      "id": "dRj3iKme5HFg",
      "metadata": {
        "deletable": false,
        "editable": false,
        "id": "dRj3iKme5HFg"
      },
      "outputs": [],
      "source": [
        "grader.check(\"q212\")"
      ]
    },
    {
      "cell_type": "markdown",
      "id": "AKP3Tqkc5HFg",
      "metadata": {
        "id": "AKP3Tqkc5HFg"
      },
      "source": [
        "###  `np.arange`\n",
        "Arrays are provided by a package called [NumPy](http://www.numpy.org/) (pronounced \"NUM-pie\"). The package is called `numpy`, but it's standard to rename it `np` for brevity.  You can do that with:\n",
        "\n",
        "    import numpy as np\n",
        "\n",
        "Very often in data science, we want to work with many numbers that are evenly spaced within some range.  NumPy provides a special function for this called `arange`.  The line of code `np.arange(start, stop, step)` evaluates to an array with all the numbers starting at `start` and counting up by `step`, stopping **before** `stop` is reached.\n",
        "\n",
        "Run the following cells to see some examples!"
      ]
    },
    {
      "cell_type": "code",
      "execution_count": null,
      "id": "qUCua9um5HFh",
      "metadata": {
        "id": "qUCua9um5HFh"
      },
      "outputs": [],
      "source": [
        "# This array starts at 1 and counts up by 2\n",
        "# and then stops before 6\n",
        "np.arange(1, 6, 2)"
      ]
    },
    {
      "cell_type": "code",
      "execution_count": null,
      "id": "7kOdlHSy5HFh",
      "metadata": {
        "id": "7kOdlHSy5HFh"
      },
      "outputs": [],
      "source": [
        "# This array doesn't contain 9\n",
        "# because np.arange stops *before* the stop value is reached\n",
        "np.arange(4, 9, 1)"
      ]
    },
    {
      "cell_type": "markdown",
      "id": "rYCjM6-o5HFh",
      "metadata": {
        "id": "rYCjM6-o5HFh"
      },
      "source": [
        "**Question 2.1.3.** Import `numpy` as `np` and then use `np.arange` to create an array with the multiples of 99 from 0 up to (**and including**) 9999.  (So its elements are 0, 99, 198, 297, etc.)\n"
      ]
    },
    {
      "cell_type": "code",
      "execution_count": null,
      "id": "LxYkOjaD5HFh",
      "metadata": {
        "deletable": false,
        "id": "LxYkOjaD5HFh",
        "tags": []
      },
      "outputs": [],
      "source": [
        "...\n",
        "multiples_of_99 = ...\n",
        "multiples_of_99"
      ]
    },
    {
      "cell_type": "code",
      "execution_count": null,
      "id": "x4fIpse15HFh",
      "metadata": {
        "deletable": false,
        "editable": false,
        "id": "x4fIpse15HFh"
      },
      "outputs": [],
      "source": [
        "grader.check(\"q213\")"
      ]
    },
    {
      "cell_type": "markdown",
      "id": "lJlzj_Xr5HFh",
      "metadata": {
        "deletable": false,
        "id": "lJlzj_Xr5HFh"
      },
      "source": [
        "## 2.2. Working with single elements of arrays (\"indexing\")\n",
        "Let's work with a more interesting dataset.  The next cell creates an array called `population_amounts` that includes estimated world populations of every year from **1950** to roughly the present.  (The estimates come from the US Census Bureau website.)\n",
        "\n",
        "Rather than type in the data manually, we've loaded them from a file on your computer called `world_population.csv`.  You'll learn how to do that later in this lab!"
      ]
    },
    {
      "cell_type": "code",
      "execution_count": null,
      "id": "wH5YIna85HFh",
      "metadata": {
        "deletable": false,
        "id": "wH5YIna85HFh"
      },
      "outputs": [],
      "source": [
        "population_amounts = Table.read_table(\"world_population.csv\").column(\"Population\")\n",
        "population_amounts"
      ]
    },
    {
      "cell_type": "markdown",
      "id": "PLQAMuiG5HFh",
      "metadata": {
        "id": "PLQAMuiG5HFh"
      },
      "source": [
        "Here's how we get the first element of `population_amounts`, which is the world population in the first year in the dataset, 1950."
      ]
    },
    {
      "cell_type": "code",
      "execution_count": null,
      "id": "wFGbLoSc5HFh",
      "metadata": {
        "id": "wFGbLoSc5HFh"
      },
      "outputs": [],
      "source": [
        "population_amounts.item(0)"
      ]
    },
    {
      "cell_type": "markdown",
      "id": "f3NP2jR45HFi",
      "metadata": {
        "id": "f3NP2jR45HFi"
      },
      "source": [
        "The value of that expression is the number 2,557,628,654 (around 2.5 billion), because that's the first thing in the array `population_amounts`.\n",
        "\n",
        "Notice that we wrote `.item(0)`, not `.item(1)`, to get the first element.  This is a weird convention in computer science.  **0 is called the *index* of the first item.**  It's the number of elements that appear *before* that item.  So 3 is the index of the 4th item.\n",
        "\n",
        "Here are some more examples.  In the examples, we've given names to the things we get out of `population_amounts`.  Read and run each cell."
      ]
    },
    {
      "cell_type": "code",
      "execution_count": null,
      "id": "B54G31mw5HFi",
      "metadata": {
        "id": "B54G31mw5HFi"
      },
      "outputs": [],
      "source": [
        "# The 13th element in the array is the population\n",
        "# in 1962 (which is 1950 + 12).\n",
        "population_1962 = population_amounts.item(12)\n",
        "population_1962"
      ]
    },
    {
      "cell_type": "code",
      "execution_count": null,
      "id": "x251u8Qc5HFi",
      "metadata": {
        "id": "x251u8Qc5HFi"
      },
      "outputs": [],
      "source": [
        "# The 66th element is the population in 2015.\n",
        "population_2015 = population_amounts.item(65)\n",
        "population_2015"
      ]
    },
    {
      "cell_type": "code",
      "execution_count": null,
      "id": "sW1W0TDE5HFi",
      "metadata": {
        "id": "sW1W0TDE5HFi",
        "tags": [
          "raises-exception"
        ]
      },
      "outputs": [],
      "source": [
        "# The array has only 66 elements, so this doesn't work.\n",
        "# (There's no element with 66 other elements before it.)\n",
        "population_2016 = population_amounts.item(66)\n",
        "population_2016"
      ]
    },
    {
      "cell_type": "markdown",
      "id": "TGhqOgtk5HFi",
      "metadata": {
        "id": "TGhqOgtk5HFi"
      },
      "source": [
        "Since `make_array` returns an array, we can call `.item(3)` on its output to get its 4th element, just like we \"chained\" together calls to the method `replace` earlier."
      ]
    },
    {
      "cell_type": "code",
      "execution_count": null,
      "id": "-F-AQ5Dx5HFi",
      "metadata": {
        "id": "-F-AQ5Dx5HFi"
      },
      "outputs": [],
      "source": [
        "make_array(-1, -3, 4, -2).item(3)"
      ]
    },
    {
      "cell_type": "markdown",
      "id": "_Nn5Qj_J5HFi",
      "metadata": {
        "id": "_Nn5Qj_J5HFi"
      },
      "source": [
        "**Question 2.2.1.** Set `population_1973` to the world population in 1973, by getting the appropriate element from `population_amounts` using `item`.\n"
      ]
    },
    {
      "cell_type": "code",
      "execution_count": null,
      "id": "0I8t350c5HFi",
      "metadata": {
        "deletable": false,
        "id": "0I8t350c5HFi",
        "tags": []
      },
      "outputs": [],
      "source": [
        "population_1973 = ...\n",
        "population_1973"
      ]
    },
    {
      "cell_type": "code",
      "execution_count": null,
      "id": "jjSeWz8Z5HFi",
      "metadata": {
        "deletable": false,
        "editable": false,
        "id": "jjSeWz8Z5HFi"
      },
      "outputs": [],
      "source": [
        "grader.check(\"q221\")"
      ]
    },
    {
      "cell_type": "markdown",
      "id": "-qwnTPUf5HFi",
      "metadata": {
        "id": "-qwnTPUf5HFi"
      },
      "source": [
        "## 2.3. Doing something to every element of an array\n",
        "Arrays are primarily useful for doing the same operation many times, so we don't often have to use `.item` and work with single elements.\n",
        "\n",
        "##### Rounding\n",
        "Here is one simple question we might ask about world population:\n",
        "\n",
        "> How big was the population in each year, rounded to the nearest million?\n",
        "\n",
        "Rounding is often used with large numbers when we don't need as much precision in our numbers. One example of this is when we present data in tables and visualizations.\n",
        "\n",
        "We could try to answer our question using the `round` function that is built into Python and the `item` method you just saw.\n",
        "\n",
        "**Note:** the `round` function takes in two arguments: the number to be rounded, and the number of decimal places to round to. The second argument can be thought of as how many steps right or left you move from the decimal point. Negative numbers tell us to move left, and positive numbers tell us to move right. So, if we have `round(1234.5, -2)`, it means that we should move two places left, and then make all numbers to the right of this place zeroes. This would output the number 1200.0. On the other hand, if we have `round(6.789, 1)`, we should move one place right, and then make all numbers to the right of this place zeroes. This would output the number 6.8."
      ]
    },
    {
      "cell_type": "code",
      "execution_count": null,
      "id": "-LGH7FjN5HFj",
      "metadata": {
        "id": "-LGH7FjN5HFj",
        "scrolled": true
      },
      "outputs": [],
      "source": [
        "population_1950_magnitude = round(population_amounts.item(0), -6)\n",
        "population_1951_magnitude = round(population_amounts.item(1), -6)\n",
        "population_1952_magnitude = round(population_amounts.item(2), -6)\n",
        "population_1953_magnitude = round(population_amounts.item(3), -6)"
      ]
    },
    {
      "cell_type": "markdown",
      "id": "UO2an7Hi5HFj",
      "metadata": {
        "id": "UO2an7Hi5HFj"
      },
      "source": [
        "But this is tedious and doesn't really take advantage of the fact that we are using a computer.\n",
        "\n",
        "Instead, NumPy provides its own version of `round` that rounds each element of an array.  It takes in two arguments: a single array of numbers, and the number of decimal places to round to.  It returns an array of the same length, where the first element of the result is the first element of the argument rounded, and so on.\n",
        "\n",
        "**Question 2.3.1.** Use `np.round` to compute the world population in every year, rounded to the nearest million (6 zeroes).  Give the result (an array of 66 numbers) the name `population_rounded`.  Your code should be very short.\n"
      ]
    },
    {
      "cell_type": "code",
      "execution_count": null,
      "id": "o6wvUH5o5HFj",
      "metadata": {
        "deletable": false,
        "id": "o6wvUH5o5HFj",
        "tags": []
      },
      "outputs": [],
      "source": [
        "population_rounded = ...\n",
        "population_rounded"
      ]
    },
    {
      "cell_type": "code",
      "execution_count": null,
      "id": "iK4WPOm45HFj",
      "metadata": {
        "deletable": false,
        "editable": false,
        "id": "iK4WPOm45HFj"
      },
      "outputs": [],
      "source": [
        "grader.check(\"q231\")"
      ]
    },
    {
      "cell_type": "markdown",
      "id": "TnIxZr9G5HFj",
      "metadata": {
        "id": "TnIxZr9G5HFj"
      },
      "source": [
        "What you just did is called **elementwise** application of `np.round`, since `np.round` operates separately on each element of the array that it's called on. Here's a picture of what's going on:"
      ]
    },
    {
      "cell_type": "markdown",
      "id": "qGnZMqrP5HFj",
      "metadata": {
        "id": "qGnZMqrP5HFj"
      },
      "source": [
        "<img src=\"array_round.jpg\">\n",
        "\n",
        "The textbook's [section](https://www.inferentialthinking.com/chapters/05/1/Arrays)  on arrays has a useful list of NumPy functions that are designed to work elementwise, like `np.round`."
      ]
    },
    {
      "cell_type": "markdown",
      "id": "mlDEICoR5HFj",
      "metadata": {
        "id": "mlDEICoR5HFj"
      },
      "source": [
        "##### Arithmetic\n",
        "Arithmetic also works elementwise on arrays, meaning that if you perform an arithmetic operation (like subtraction, division, etc) on an array, Python will do the operation to every element of the array individually and return an array of all of the results. For example, you can divide all the population numbers by 1 billion to get numbers in billions:"
      ]
    },
    {
      "cell_type": "code",
      "execution_count": null,
      "id": "rtd47fQl5HFj",
      "metadata": {
        "id": "rtd47fQl5HFj"
      },
      "outputs": [],
      "source": [
        "population_in_billions = population_amounts / 1000000000\n",
        "population_in_billions"
      ]
    },
    {
      "cell_type": "markdown",
      "id": "TBA_NMO25HFj",
      "metadata": {
        "id": "TBA_NMO25HFj"
      },
      "source": [
        "You can do the same with addition, subtraction, multiplication, and exponentiation (`**`).\n"
      ]
    },
    {
      "cell_type": "markdown",
      "id": "BshsVRHu5HFk",
      "metadata": {
        "deletable": false,
        "id": "BshsVRHu5HFk"
      },
      "source": [
        "## 3. Creating Tables\n",
        "\n",
        "An array is useful for describing a single attribute of each element in a collection. For example, let's say our collection is all US States. Then an array could describe the land area of each state.\n",
        "\n",
        "Tables extend this idea by containing multiple columns stored and represented as arrays, each one describing a different attribute for every element of a collection. In this way, tables allow us to not only store data about many entities but to also contain several kinds of data about each entity.\n",
        "\n",
        "For example, in the cell below we have two arrays. The first one, `population_amounts`, was defined above in section 2.2 and contains the world population in each year (estimated by the US Census Bureau). The second array, `years`, contains the years themselves. These elements are in order, so the year and the world population for that year have the same index in their corresponding arrays."
      ]
    },
    {
      "cell_type": "code",
      "execution_count": null,
      "id": "6faZGM4h5HFk",
      "metadata": {
        "deletable": false,
        "id": "6faZGM4h5HFk",
        "scrolled": true
      },
      "outputs": [],
      "source": [
        "# Just run this cell\n",
        "\n",
        "years = np.arange(1950, 2015+1)\n",
        "print(\"Population column:\", population_amounts)\n",
        "print(\"Years column:\", years)"
      ]
    },
    {
      "cell_type": "markdown",
      "id": "bJ4AWAk_5HFk",
      "metadata": {
        "deletable": false,
        "id": "bJ4AWAk_5HFk"
      },
      "source": [
        "Suppose we want to answer this question:\n",
        "\n",
        "> In which year did the world's population cross 6 billion?\n",
        "\n",
        "You could technically answer this question just from staring at the arrays, but it's a bit convoluted, since you would have to count the position where the population first crossed 6 billion, then find the corresponding element in the years array. In cases like these, it might be easier to put the data into a *`Table`*, a 2-dimensional type of dataset.\n",
        "\n",
        "The expression below:\n",
        "\n",
        "- creates an empty table using the expression `Table()`,\n",
        "- adds two columns by calling `with_columns` with four arguments,\n",
        "- assigns the result to the name `population`, and finally\n",
        "- evaluates `population` so that we can see the table.\n",
        "\n",
        "The strings `\"Year\"` and `\"Population\"` are column labels that we have chosen. The names `population_amounts` and `years` were assigned above to two arrays of the **same length**. The function `with_columns` (you can find the documentation [here](http://data8.org/sp22/python-reference.html)) takes in alternating strings (to represent column labels) and arrays (representing the data in those columns). The strings and arrays are separated by commas."
      ]
    },
    {
      "cell_type": "code",
      "execution_count": null,
      "id": "AWz6xlam5HFk",
      "metadata": {
        "deletable": false,
        "id": "AWz6xlam5HFk"
      },
      "outputs": [],
      "source": [
        "population = Table().with_columns(\n",
        "    \"Population\", population_amounts,\n",
        "    \"Year\", years\n",
        ")\n",
        "population"
      ]
    },
    {
      "cell_type": "markdown",
      "id": "q6YZWkk05HFk",
      "metadata": {
        "deletable": false,
        "id": "q6YZWkk05HFk"
      },
      "source": [
        "Now the data is combined into a single table! It's much easier to parse this data. If you need to know what the population was in 1959, for example, you can tell from a single glance."
      ]
    },
    {
      "cell_type": "markdown",
      "id": "I3n-UYhZ5HFk",
      "metadata": {
        "id": "I3n-UYhZ5HFk"
      },
      "source": [
        "**Question 3.1.** In the cell below, we've created 2 arrays. Using the steps above, assign `top_10_movies` to a table that has two columns called \"Name\" and \"Rating\", which hold `top_10_movie_names` and `top_10_movie_ratings` respectively.\n"
      ]
    },
    {
      "cell_type": "code",
      "execution_count": null,
      "id": "wGuurYZh5HFk",
      "metadata": {
        "deletable": false,
        "id": "wGuurYZh5HFk",
        "tags": []
      },
      "outputs": [],
      "source": [
        "top_10_movie_names = make_array(\n",
        "        'The Shawshank Redemption (1994)',\n",
        "        'The Godfather (1972)',\n",
        "        'The Godfather: Part II (1974)',\n",
        "        'Pulp Fiction (1994)',\n",
        "        \"Schindler's List (1993)\",\n",
        "        'The Lord of the Rings: The Return of the King (2003)',\n",
        "        '12 Angry Men (1957)',\n",
        "        'The Dark Knight (2008)',\n",
        "        'Il buono, il brutto, il cattivo (1966)',\n",
        "        'The Lord of the Rings: The Fellowship of the Ring (2001)')\n",
        "top_10_movie_ratings = make_array(9.2, 9.2, 9., 8.9, 8.9, 8.9, 8.9, 8.9, 8.9, 8.8)\n",
        "\n",
        "top_10_movies = ...\n",
        "\n",
        "# We've put this next line here\n",
        "# so your table will get printed out\n",
        "# when you run this cell.\n",
        "top_10_movies"
      ]
    },
    {
      "cell_type": "code",
      "execution_count": null,
      "id": "bq7hB5ex5HFk",
      "metadata": {
        "deletable": false,
        "editable": false,
        "id": "bq7hB5ex5HFk"
      },
      "outputs": [],
      "source": [
        "grader.check(\"q31\")"
      ]
    },
    {
      "cell_type": "markdown",
      "id": "WIhdEpS55HFl",
      "metadata": {
        "id": "WIhdEpS55HFl"
      },
      "source": [
        "#### Loading a table from a file\n",
        "\n",
        "In most cases, we aren't going to go through the trouble of typing in all the data manually. Instead, we load them in from an external source, like a data file. There are many formats for data files, but CSV (\"comma-separated values\") is the most common.\n",
        "\n",
        "`Table.read_table(...)` takes one argument (a path to a data file in **string** format) and returns a table.  \n",
        "\n",
        "**Question 3.2.** `imdb.csv` contains a table of information about the 250 highest-rated movies on IMDb.  Load it as a table called `imdb`.\n",
        "\n",
        "(You may remember working with this table in Lab 2!)\n"
      ]
    },
    {
      "cell_type": "code",
      "execution_count": null,
      "id": "XVYj4WuI5HFl",
      "metadata": {
        "deletable": false,
        "id": "XVYj4WuI5HFl",
        "tags": []
      },
      "outputs": [],
      "source": [
        "imdb = ...\n",
        "imdb"
      ]
    },
    {
      "cell_type": "code",
      "execution_count": null,
      "id": "deJ15htH5HFl",
      "metadata": {
        "deletable": false,
        "editable": false,
        "id": "deJ15htH5HFl"
      },
      "outputs": [],
      "source": [
        "grader.check(\"q32\")"
      ]
    },
    {
      "cell_type": "markdown",
      "id": "RTmrmtC75HFl",
      "metadata": {
        "id": "RTmrmtC75HFl"
      },
      "source": [
        "Where did `imdb.csv` come from? Take a look at the folder for this lab in your google drive by clicking this link ->(./content/gdrive/My Drive/NS499-DataSci-course-materials/materials-sp24-colab/lab/lab03/). It should open the 'File Viewer' to the left and you should see a file called `imdb.csv`.\n",
        "\n",
        "If the above link doesn't work, here is an example image of what you should see if you open your google drive:<br>\n",
        "<img src=\"CSVFilegdrive.jpg\">\n",
        "\n",
        "\n",
        "Open up the `imdb.csv` file in that folder and look at the format. What do you notice? The `.csv` filename ending says that this file is in the [CSV (comma-separated value) format](http://edoceo.com/utilitas/csv-file-format)."
      ]
    },
    {
      "cell_type": "markdown",
      "id": "MTprKyRo5HFl",
      "metadata": {
        "id": "MTprKyRo5HFl"
      },
      "source": [
        "## 4. More Table Operations!\n",
        "\n",
        "Now that you've worked with arrays, let's add a few more methods to the list of table operations that you saw in Lab 2.\n",
        "\n",
        "### `column`\n",
        "\n",
        "`column` takes the column name of a table (in string format) as its argument and returns the values in that column as an **array**."
      ]
    },
    {
      "cell_type": "code",
      "execution_count": null,
      "id": "fJeXeGdQ5HFl",
      "metadata": {
        "id": "fJeXeGdQ5HFl",
        "scrolled": true
      },
      "outputs": [],
      "source": [
        "# Returns an array of movie names\n",
        "top_10_movies.column('Name')"
      ]
    },
    {
      "cell_type": "markdown",
      "id": "0yclEkif5HFl",
      "metadata": {
        "id": "0yclEkif5HFl"
      },
      "source": [
        "### `take`\n",
        "The table method `take` takes as its argument an array of numbers.  Each number should be the index of a row in the table.  It returns a **new table** with only those rows.\n",
        "\n",
        "You'll usually want to use `take` in conjunction with `np.arange` to take the first few rows of a table."
      ]
    },
    {
      "cell_type": "code",
      "execution_count": null,
      "id": "hvtEopIF5HFl",
      "metadata": {
        "id": "hvtEopIF5HFl",
        "scrolled": true
      },
      "outputs": [],
      "source": [
        "# Take first 5 movies of top_10_movies\n",
        "top_10_movies.take(np.arange(0, 5, 1))"
      ]
    },
    {
      "cell_type": "markdown",
      "id": "VueiU8t05HFl",
      "metadata": {
        "id": "VueiU8t05HFl"
      },
      "source": [
        "The next three questions will give you practice with combining the operations you've learned in this lab and the previous one to answer questions about the `population` and `imdb` tables. First, check out the `population` table from section 2."
      ]
    },
    {
      "cell_type": "code",
      "execution_count": null,
      "id": "zP-Sw5-W5HFl",
      "metadata": {
        "id": "zP-Sw5-W5HFl"
      },
      "outputs": [],
      "source": [
        "# Run this cell to display the population table.\n",
        "population"
      ]
    },
    {
      "cell_type": "markdown",
      "id": "yXNoLuxP5HFm",
      "metadata": {
        "id": "yXNoLuxP5HFm"
      },
      "source": [
        "**Question 4.1.** Check out the `population` table from section 2 of this lab.  Compute the year when the world population first went above 6 billion. Assign the year to `year_population_crossed_6_billion`.\n"
      ]
    },
    {
      "cell_type": "code",
      "execution_count": null,
      "id": "Ljb4j7Ag5HFm",
      "metadata": {
        "deletable": false,
        "id": "Ljb4j7Ag5HFm",
        "tags": []
      },
      "outputs": [],
      "source": [
        "year_population_crossed_6_billion = ...\n",
        "year_population_crossed_6_billion"
      ]
    },
    {
      "cell_type": "code",
      "execution_count": null,
      "id": "qwLNvm0x5HFm",
      "metadata": {
        "deletable": false,
        "editable": false,
        "id": "qwLNvm0x5HFm"
      },
      "outputs": [],
      "source": [
        "grader.check(\"q41\")"
      ]
    },
    {
      "cell_type": "markdown",
      "id": "jz-o0L5_5HFm",
      "metadata": {
        "id": "jz-o0L5_5HFm"
      },
      "source": [
        "**Question 4.2.** Find the average rating for movies released before the year 2000 and the average rating for movies released in the year 2000 or after for the movies in `imdb`.\n",
        "\n",
        "*Hint*: Think of the steps you need to do (take the average, find the ratings, find movies released in 20th/21st centuries), and try to put them in an order that makes sense.\n"
      ]
    },
    {
      "cell_type": "code",
      "execution_count": null,
      "id": "kBc3GXWR5HFm",
      "metadata": {
        "deletable": false,
        "id": "kBc3GXWR5HFm",
        "tags": []
      },
      "outputs": [],
      "source": [
        "before_2000 = ...\n",
        "after_or_in_2000 = ...\n",
        "print(\"Average before 2000 rating:\", before_2000)\n",
        "print(\"Average after or in 2000 rating:\", after_or_in_2000)"
      ]
    },
    {
      "cell_type": "code",
      "execution_count": null,
      "id": "UUMVhUVL5HFm",
      "metadata": {
        "deletable": false,
        "editable": false,
        "id": "UUMVhUVL5HFm"
      },
      "outputs": [],
      "source": [
        "grader.check(\"q42\")"
      ]
    },
    {
      "cell_type": "markdown",
      "id": "F2BqEaIF5HFm",
      "metadata": {
        "id": "F2BqEaIF5HFm"
      },
      "source": [
        "**Question 4.3.** Here's a challenge: Find the number of movies that came out in *even* years.\n",
        "\n",
        "*Hint:* The operator `%` computes the remainder when dividing by a number.  So `5 % 2` is 1 and `6 % 2` is 0.  A number is even if the remainder is 0 when you divide by 2.\n",
        "\n",
        "*Hint 2:* `%` can be used on arrays, operating elementwise like `+` or `*`.  So `make_array(5, 6, 7) % 2` is `array([1, 0, 1])`.\n",
        "\n",
        "*Hint 3:* Add a new column called \"Year Remainder\" that's the remainder when each movie's release year is divided by 2. To do this, you can use `tbl.with_column(col_name, col_values)`: a table method that takes in the name of the new column and an array of values and returns a copy of the original `tbl` with the new column.  Then, use `where` to find rows where that new column is equal to 0.  Finally, use `num_rows` to count the number of such rows.\n",
        "\n",
        "*Note:* These steps can be chained in one single statement, or broken up across several lines with intermediate names assigned. You’re always welcome to break down problems however you wish!\n"
      ]
    },
    {
      "cell_type": "code",
      "execution_count": null,
      "id": "mKCCd-i25HFm",
      "metadata": {
        "deletable": false,
        "id": "mKCCd-i25HFm",
        "tags": []
      },
      "outputs": [],
      "source": [
        "num_even_year_movies = ...\n",
        "num_even_year_movies"
      ]
    },
    {
      "cell_type": "code",
      "execution_count": null,
      "id": "SGw174vK5HFm",
      "metadata": {
        "deletable": false,
        "editable": false,
        "id": "SGw174vK5HFm"
      },
      "outputs": [],
      "source": [
        "grader.check(\"q43\")"
      ]
    },
    {
      "cell_type": "markdown",
      "id": "wJGnF4C45HFm",
      "metadata": {
        "id": "wJGnF4C45HFm"
      },
      "source": [
        "## 5. More Array Practice\n",
        "\n",
        "The following questions will be great practice for learning how to generate arrays in different ways, as well as executing different methods of array arithmetic!"
      ]
    },
    {
      "cell_type": "markdown",
      "id": "HRIl_X735HFn",
      "metadata": {
        "id": "HRIl_X735HFn"
      },
      "source": [
        "###  5.1 `np.arange` (cont.)"
      ]
    },
    {
      "cell_type": "markdown",
      "id": "WZRDyTWE5HFn",
      "metadata": {
        "id": "WZRDyTWE5HFn"
      },
      "source": [
        "##### Temperature readings\n",
        "NOAA (the US National Oceanic and Atmospheric Administration) operates weather stations that measure surface temperatures at different sites around the United States.  The hourly readings are [publicly available](http://www.ncdc.noaa.gov/qclcd/QCLCD?prior=N).\n",
        "\n",
        "Suppose we download all the hourly data from the Oakland, California site for the month of December 2015.  To analyze the data, we want to know when each reading was taken, but we find that the data don't include the timestamps of the readings (the time at which each one was taken).\n",
        "\n",
        "However, we know the first reading was taken at the first instant of December 2015 (midnight on December 1st) and each subsequent reading was taken exactly 1 hour after the last.\n",
        "\n",
        "**Question 5.1.1.** Create an array of the *time, in seconds, since the start of the month* at which **each hourly reading** was taken.  Name it `collection_times`.\n",
        "\n",
        "*Hint 1:* There were 31 days in December, which is equivalent to ($31 \\times 24$) hours or ($31 \\times 24 \\times 60 \\times 60$) seconds.  So your array should have $31 \\times 24$ elements in it.\n",
        "\n",
        "*Hint 2:* The `len` function works on arrays, too!  If your `collection_times` isn't passing the tests, check its length and make sure it has $31 \\times 24$ elements.\n"
      ]
    },
    {
      "cell_type": "code",
      "execution_count": null,
      "id": "gybNc10H5HFn",
      "metadata": {
        "id": "gybNc10H5HFn",
        "tags": []
      },
      "outputs": [],
      "source": [
        "collection_times = ...\n",
        "collection_times"
      ]
    },
    {
      "cell_type": "code",
      "execution_count": null,
      "id": "YY-aaRgZ5HFn",
      "metadata": {
        "deletable": false,
        "editable": false,
        "id": "YY-aaRgZ5HFn"
      },
      "outputs": [],
      "source": [
        "grader.check(\"q511\")"
      ]
    },
    {
      "cell_type": "markdown",
      "id": "o5dcJtJ25HFn",
      "metadata": {
        "id": "o5dcJtJ25HFn"
      },
      "source": [
        "### 5.2 Doing something to every element of an array (cont.)\n",
        "\n",
        "Calculate a tip on several restaurant bills at once (in this case just 3):"
      ]
    },
    {
      "cell_type": "code",
      "execution_count": null,
      "id": "qkW81ZTQ5HFn",
      "metadata": {
        "id": "qkW81ZTQ5HFn"
      },
      "outputs": [],
      "source": [
        "restaurant_bills = make_array(20.12, 39.90, 31.01)\n",
        "print(\"Restaurant bills:\\t\", restaurant_bills)\n",
        "\n",
        "# Array multiplication\n",
        "tips = .2 * restaurant_bills\n",
        "print(\"Tips:\\t\\t\\t\", tips)"
      ]
    },
    {
      "cell_type": "markdown",
      "id": "Utqiujdw5HFn",
      "metadata": {
        "id": "Utqiujdw5HFn"
      },
      "source": [
        "<img src=\"array_multiplication.jpg\">\n",
        "\n",
        "**Question 5.2.1** Suppose the total charge at a restaurant is the original bill plus the tip. If the tip is 20%, that means we can multiply the original bill by 1.2 to get the total charge.  Compute the total charge for each bill in `restaurant_bills`, and assign the resulting array to `total_charges`.\n"
      ]
    },
    {
      "cell_type": "code",
      "execution_count": null,
      "id": "6c9ysk_w5HFn",
      "metadata": {
        "id": "6c9ysk_w5HFn",
        "tags": []
      },
      "outputs": [],
      "source": [
        "total_charges = ...\n",
        "total_charges"
      ]
    },
    {
      "cell_type": "code",
      "execution_count": null,
      "id": "0jOh0wWi5HFn",
      "metadata": {
        "deletable": false,
        "editable": false,
        "id": "0jOh0wWi5HFn"
      },
      "outputs": [],
      "source": [
        "grader.check(\"q521\")"
      ]
    },
    {
      "cell_type": "markdown",
      "id": "A85kV1gS5HFo",
      "metadata": {
        "id": "A85kV1gS5HFo"
      },
      "source": [
        "**Question 5.2.2.** The array `more_restaurant_bills` contains 100,000 bills!  Compute the total charge for each one in `more_restaurant_bills`.  How is your code different?\n"
      ]
    },
    {
      "cell_type": "code",
      "execution_count": null,
      "id": "ECiBSiFG5HFo",
      "metadata": {
        "id": "ECiBSiFG5HFo",
        "tags": []
      },
      "outputs": [],
      "source": [
        "more_restaurant_bills = Table.read_table(\"more_restaurant_bills.csv\").column(\"Bill\")\n",
        "more_total_charges = ...\n",
        "more_total_charges"
      ]
    },
    {
      "cell_type": "code",
      "execution_count": null,
      "id": "jCnMv64-5HFo",
      "metadata": {
        "deletable": false,
        "editable": false,
        "id": "jCnMv64-5HFo"
      },
      "outputs": [],
      "source": [
        "grader.check(\"q522\")"
      ]
    },
    {
      "cell_type": "markdown",
      "id": "hBcrGH5z5HFo",
      "metadata": {
        "id": "hBcrGH5z5HFo"
      },
      "source": [
        "The function `sum` takes a single array of numbers as its argument.  It returns the sum of all the numbers in that array (so it returns a single number, not an array).\n",
        "\n",
        "**Question 5.2.3.** What was the sum of all the bills in `more_restaurant_bills`, *including tips*?\n"
      ]
    },
    {
      "cell_type": "code",
      "execution_count": null,
      "id": "48bIlGk55HFo",
      "metadata": {
        "id": "48bIlGk55HFo",
        "tags": []
      },
      "outputs": [],
      "source": [
        "sum_of_bills = ...\n",
        "sum_of_bills"
      ]
    },
    {
      "cell_type": "code",
      "execution_count": null,
      "id": "M-LEKtWm5HFo",
      "metadata": {
        "deletable": false,
        "editable": false,
        "id": "M-LEKtWm5HFo"
      },
      "outputs": [],
      "source": [
        "grader.check(\"q523\")"
      ]
    },
    {
      "cell_type": "markdown",
      "id": "z8U6Q_dX5HFo",
      "metadata": {
        "id": "z8U6Q_dX5HFo"
      },
      "source": [
        "**Question 5.2.4.** The powers of 2 ($2^0 = 1$, $2^1 = 2$, $2^2 = 4$, etc) arise frequently in computer science.  (For example, you may have noticed that storage on smartphones or USBs come in powers of 2, like 16 GB, 32 GB, or 64 GB.)  Use `np.arange` and the exponentiation operator `**` to compute the first 30 powers of 2, starting from `2^0`.\n",
        "\n",
        "*Hint 1:* `np.arange(1, 2**30, 1)` creates an array with $2^{30}$ elements and **will crash your kernel**.\n",
        "\n",
        "*Hint 2:* Part of your solution will involve `np.arange`, but your array shouldn't have more than 30 elements.\n"
      ]
    },
    {
      "cell_type": "code",
      "execution_count": null,
      "id": "NUuYjIpT5HFo",
      "metadata": {
        "id": "NUuYjIpT5HFo",
        "tags": []
      },
      "outputs": [],
      "source": [
        "powers_of_2 = ...\n",
        "powers_of_2"
      ]
    },
    {
      "cell_type": "code",
      "execution_count": null,
      "id": "eB1uBJCP5HFo",
      "metadata": {
        "deletable": false,
        "editable": false,
        "id": "eB1uBJCP5HFo"
      },
      "outputs": [],
      "source": [
        "grader.check(\"q524\")"
      ]
    },
    {
      "cell_type": "markdown",
      "id": "3a996b06",
      "metadata": {
        "id": "3a996b06"
      },
      "source": [
        "## Lab 3 Complete  "
      ]
    },
    {
      "cell_type": "code",
      "execution_count": null,
      "id": "0154910d",
      "metadata": {
        "id": "0154910d"
      },
      "outputs": [],
      "source": [
        "# Run this cell for a fun animation and message!\n",
        "\n",
        "from IPython.display import HTML\n",
        "print('Celebrate with Kermit!')\n",
        "HTML('<img src=\"https://media.giphy.com/media/v1.Y2lkPTc5MGI3NjExZ2FqZGlzZWI1eTcyeXFvNDFoOHEzdjRrMTBrcjl4ZGppbGZnMW55biZlcD12MV9pbnRlcm5hbF9naWZfYnlfaWQmY3Q9Zw/ejm8tkFonl8o8/giphy.gif\">')"
      ]
    },
    {
      "cell_type": "markdown",
      "id": "fxhHIy0M5HFp",
      "metadata": {
        "id": "fxhHIy0M5HFp"
      },
      "source": [
        "\n",
        "## 6. Submission\n",
        "\n",
        "To double-check your work, the cell below will rerun all of the autograder tests."
      ]
    },
    {
      "cell_type": "code",
      "execution_count": null,
      "id": "2636b4d0",
      "metadata": {
        "id": "2636b4d0"
      },
      "outputs": [],
      "source": [
        "# Just run this cell\n",
        "grader.check_all()"
      ]
    },
    {
      "cell_type": "markdown",
      "id": "d09fb869",
      "metadata": {
        "id": "d09fb869"
      },
      "source": [
        "### **Important submission steps:**\n",
        "1. Run the tests and verify that they all pass.\n",
        "2. Choose **Save** (and make sure you've already saved a copy in your drive) from the **File** menu.\n",
        "3. You will make sure your notebook file is saved in the following steps.\n",
        "4. You will submit the notebook for this assignment to the corresponding Assignment on the WebCampus (Canvas) course website.\n",
        "\n",
        "**It is your responsibility to make sure your work is saved before following the instructions in the last cell.**"
      ]
    },
    {
      "cell_type": "markdown",
      "id": "NA4ovATu5HFp",
      "metadata": {
        "deletable": false,
        "editable": false,
        "id": "NA4ovATu5HFp"
      },
      "source": [
        "## Submission\n",
        "\n",
        "Make sure you have run all cells in your notebook in order before running the cell below, so that all images/graphs appear in the output.\n",
        "**Please save (or check again) before exporting!**\n",
        "You will save the notebook file (.ipynb):\n",
        "\n",
        "\n",
        "1.   Go to `\"File > Download\"` and choose the **.ipynb format** (first option)\n",
        "  - This will save a copy of the python notebook file- extension .ipynb- in the Downloads folder on your computer (or wherever you have opted to save files)\n",
        "\n",
        "\n",
        "2. If the above option is not available to you, make sure to use ctrl + s on a pc (press both keys at same time, do not include the + sign) or command + s (press both keys at same time, do not include the + sign) for apple devices. Look at the top of the Menu in google colab, and toward the middle, it might say that changes were saved. \n",
        "  * If you want to check that things were saved recently, go to your Google drive (via an online browser or from the app) and check the timestamp for when your notebook was last updated. If it wasn't saved recently, go back to the tab where you have your notebook open and resave.\n",
        "  * The notebook file `\"Copy of lab03.ipynb\"` will be in your google drive under the `\"Colab Notebooks\"` folder. (see info at top for more on where things get saved)"
      ]
    },
    {
      "cell_type": "markdown",
      "id": "Rkp-Nb_a5HFp",
      "metadata": {
        "id": "Rkp-Nb_a5HFp"
      },
      "source": []
    }
  ],
  "metadata": {
    "colab": {
      "provenance": []
    },
    "kernelspec": {
      "display_name": "Python 3 (ipykernel)",
      "language": "python",
      "name": "python3"
    },
    "language_info": {
      "codemirror_mode": {
        "name": "ipython",
        "version": 3
      },
      "file_extension": ".py",
      "mimetype": "text/x-python",
      "name": "python",
      "nbconvert_exporter": "python",
      "pygments_lexer": "ipython3",
      "version": "3.9.6"
    }
  },
  "nbformat": 4,
  "nbformat_minor": 5
}
