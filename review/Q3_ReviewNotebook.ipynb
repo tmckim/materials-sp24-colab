{
  "cells": [
    {
      "cell_type": "markdown",
      "source": [
        "<a href=\"https://colab.research.google.com/github/tmckim/materials-sp24-colab/blob/main/review/Q3_ReviewNotebook.ipynb\" target=\"_parent\"><img src=\"https://colab.research.google.com/assets/colab-badge.svg\" alt=\"Open In Colab\"/></a>\n"
      ],
      "metadata": {
        "id": "jR06zIn1v9nR"
      },
      "id": "jR06zIn1v9nR"
    },
    {
      "cell_type": "markdown",
      "source": [
        "## Before you start - Save this notebook!\n",
        "\n",
        "When you open a new Colab notebook from the WebCampus (like you hopefully did for this one), you cannot save changes. So it's  best to store the Colab notebook in your personal drive `\"File > Save a copy in drive...\"` **before** you do anything else.\n",
        "\n",
        "The file will open in a new tab in your web browser, and it is automatically named something like: \"**Copy of Q3_ReviewNotebook.ipynb**\". You can rename this to just the title of the assignment \"**Q3_ReviewNotebook.ipynb**\". Make sure you do keep an informative name (like the name of the assignment) so that you know which files to submit back to WebCampus for grading! More instructions on this are at the end of the notebook.\n",
        "\n",
        "\n",
        "**Where does the notebook get saved in Google Drive?**\n",
        "\n",
        "By default, the notebook will be copied to a folder called “Colab Notebooks” at the root (home directory) of your Google Drive. If you use this for other courses or personal code notebooks, I recommend creating a folder for this course and then moving the assignments AFTER you have completed them. <br>\n",
        "\n",
        "I also recommend you give the folder where you save your notebooks^ a different name than the folder we create below that will store the notebook resources you need each time you work through a course notebook. This includes any data files you will need, links to the images that appear in the notebook, and the files associated with the autograder for answer checking.<br>\n",
        "You should select a name other than '**NS499-DataSci-course-materials**'. <br>\n",
        "This folder gets overwritten with each assignment you work on in the course, so you should **NOT** store your notebooks in this folder that we use for course materials! <br><br>For example, you could create a folder called 'NS499-**notebooks**' or something along those lines.\n",
        "___"
      ],
      "metadata": {
        "id": "Aax7YezwwDDP"
      },
      "id": "Aax7YezwwDDP"
    },
    {
      "cell_type": "markdown",
      "metadata": {
        "id": "VJ-ZqsLVmadY"
      },
      "source": [
        "### We will now do the setup steps as separate cells to help with issues finding files in google drive/colab. <br> If you restart colab, you must rerun all **5** steps in each of these cells!"
      ],
      "id": "VJ-ZqsLVmadY"
    },
    {
      "cell_type": "code",
      "execution_count": null,
      "metadata": {
        "id": "5LmDb0xHmadZ"
      },
      "outputs": [],
      "source": [
        "# Step 1\n",
        "# Setup and add files needed to access gdrive\n",
        "from google.colab import drive                                   # these lines mount your gdrive to access the files we import below\n",
        "drive.mount('/content/gdrive', force_remount=True)"
      ],
      "id": "5LmDb0xHmadZ"
    },
    {
      "cell_type": "code",
      "execution_count": null,
      "metadata": {
        "id": "JnlD1zJjmadZ"
      },
      "outputs": [],
      "source": [
        "# Step 2\n",
        "# Change directory to the correct location in gdrive (modified way to do this from before)\n",
        "import os\n",
        "os.chdir('/content/gdrive/MyDrive/NS499-DataSci-course-materials/')"
      ],
      "id": "JnlD1zJjmadZ"
    },
    {
      "cell_type": "code",
      "execution_count": null,
      "metadata": {
        "id": "vUBCNdoumadZ"
      },
      "outputs": [],
      "source": [
        "# Step 3\n",
        "# Remove the files that were previously there- we will replace with all the old + new ones for this assignment\n",
        "!rm -r materials-sp24-colab"
      ],
      "id": "vUBCNdoumadZ"
    },
    {
      "cell_type": "code",
      "execution_count": null,
      "metadata": {
        "id": "J69HAfv5mada"
      },
      "outputs": [],
      "source": [
        "# Step 4\n",
        "# These lines clone (copy) all the files you will need from where I store the code+data for the course (github)\n",
        "# Second part of the code copies the files to this location and folder in your own gdrive\n",
        "!git clone https://github.com/tmckim/materials-sp24-colab '/content/gdrive/My Drive/NS499-DataSci-course-materials/materials-sp24-colab/'"
      ],
      "id": "J69HAfv5mada"
    },
    {
      "cell_type": "code",
      "execution_count": null,
      "metadata": {
        "id": "YBJcCuZhmada"
      },
      "outputs": [],
      "source": [
        "# Step 5\n",
        "# Change directory into the folder where the resources for this assignment are stored in gdrive (modified way from before)\n",
        "os.chdir('/content/gdrive/MyDrive/NS499-DataSci-course-materials/materials-sp24-colab/review/')"
      ],
      "id": "YBJcCuZhmada"
    },
    {
      "cell_type": "code",
      "execution_count": null,
      "metadata": {
        "id": "fxRt29ZRmada"
      },
      "outputs": [],
      "source": [
        "# Import packages and other things needed\n",
        "# Don't change this cell; Just run this cell\n",
        "# If you restart colab, make sure to run this cell again after the first ones above^\n",
        "\n",
        "# These lines import the Numpy and Datascience modules.\n",
        "import numpy as np\n",
        "from datascience import *\n",
        "import d8error\n",
        "\n",
        "# These lines do some fancy plotting magic.\n",
        "import matplotlib\n",
        "%matplotlib inline\n",
        "import matplotlib.pyplot as plt\n",
        "plt.style.use('fivethirtyeight')\n",
        "import warnings\n",
        "warnings.simplefilter('ignore', FutureWarning)"
      ],
      "id": "fxRt29ZRmada"
    },
    {
      "cell_type": "markdown",
      "id": "7e141ccd",
      "metadata": {
        "id": "7e141ccd"
      },
      "source": [
        "## Simulations & Defining Functions with Roulette"
      ]
    },
    {
      "cell_type": "markdown",
      "id": "75b32ad5",
      "metadata": {
        "id": "75b32ad5"
      },
      "source": [
        "A Nevada roulette wheel has 38 pockets and a small ball that rests on the wheel. When the wheel is spun, the ball comes to rest in one of the 38 pockets. That pocket is declared the winner.\n",
        "\n",
        "The pockets are labeled 0, 00, 1, 2, 3, 4, ... , 36. Pockets 0 and 00 are green, and the other pockets are alternately red and black. The table `wheel` is a representation of a Nevada roulette wheel. **Note that *both* columns consist of strings.** Below is an example of a roulette wheel!"
      ]
    },
    {
      "cell_type": "markdown",
      "id": "83cdd96a",
      "metadata": {
        "id": "83cdd96a"
      },
      "source": [
        "<img src=\"roulette_wheel.jpeg\" width=\"330px\">"
      ]
    },
    {
      "cell_type": "markdown",
      "id": "17c85bb8",
      "metadata": {
        "id": "17c85bb8"
      },
      "source": [
        "Run the cell below to load the `wheel` table."
      ]
    },
    {
      "cell_type": "code",
      "execution_count": null,
      "id": "fca2b413",
      "metadata": {
        "execution": {
          "iopub.execute_input": "2022-02-27T07:01:10.251261Z",
          "iopub.status.busy": "2022-02-27T07:01:10.250631Z",
          "iopub.status.idle": "2022-02-27T07:01:10.260957Z",
          "shell.execute_reply": "2022-02-27T07:01:10.261439Z"
        },
        "id": "fca2b413"
      },
      "outputs": [],
      "source": [
        "wheel = Table.read_table('roulette_wheel.csv')\n",
        "wheel"
      ]
    },
    {
      "cell_type": "markdown",
      "id": "c544cfb4",
      "metadata": {
        "id": "c544cfb4"
      },
      "source": [
        "### Betting on Red ###\n",
        "If you bet on *red*, you are betting that the winning pocket will be red. This bet *pays 1 to 1*. That means if you place a one-dollar bet on red, then:\n",
        "\n",
        "- If the winning pocket is red, you gain 1 dollar. That is, you get your original dollar back, plus one more dollar.\n",
        "- if the winning pocket is not red, you lose your dollar. In other words, you gain -1 dollars.\n",
        "\n",
        "**Hint:** This is like what we practiced in class when we compared my roll of a die to yours with simulation. One outcome was positive and one was negative."
      ]
    },
    {
      "cell_type": "markdown",
      "id": "319858e6",
      "metadata": {
        "id": "319858e6"
      },
      "source": [
        "**Question 1.** Define a function `dollar_bet_on_red` that takes the name of a color and returns your gain in dollars if that color had won and you had placed a one-dollar bet on red. Remember that the gain can be negative. Make sure your function returns an integer.\n",
        "\n",
        "*Note:* You can assume that the only colors that will be passed as arguments are red, black, and green. Your function doesn't have to check that.\n"
      ]
    },
    {
      "cell_type": "code",
      "execution_count": null,
      "id": "4b0704ee",
      "metadata": {
        "execution": {
          "iopub.execute_input": "2022-02-27T07:01:10.266520Z",
          "iopub.status.busy": "2022-02-27T07:01:10.266026Z",
          "iopub.status.idle": "2022-02-27T07:01:10.268709Z",
          "shell.execute_reply": "2022-02-27T07:01:10.268286Z"
        },
        "tags": [
          "otter_assign_solution_cell"
        ],
        "id": "4b0704ee"
      },
      "outputs": [],
      "source": [
        "def dollar_bet_on_red(color):"
      ]
    },
    {
      "cell_type": "code",
      "source": [
        "#@title Hidden Solution\n",
        "def dollar_bet_on_red(color):\n",
        "    if color == 'red':\n",
        "        return 1\n",
        "    else:\n",
        "        return -1"
      ],
      "metadata": {
        "cellView": "form",
        "id": "CVSWrdDKw1Rx"
      },
      "id": "CVSWrdDKw1Rx",
      "execution_count": null,
      "outputs": []
    },
    {
      "cell_type": "markdown",
      "id": "1360f942",
      "metadata": {
        "id": "1360f942"
      },
      "source": [
        "Run the cell below to make sure your function is working."
      ]
    },
    {
      "cell_type": "code",
      "execution_count": null,
      "id": "1f384d83",
      "metadata": {
        "execution": {
          "iopub.execute_input": "2022-02-27T07:01:10.287937Z",
          "iopub.status.busy": "2022-02-27T07:01:10.287457Z",
          "iopub.status.idle": "2022-02-27T07:01:10.289972Z",
          "shell.execute_reply": "2022-02-27T07:01:10.289503Z"
        },
        "id": "1f384d83"
      },
      "outputs": [],
      "source": [
        "print(dollar_bet_on_red('green'))\n",
        "print(dollar_bet_on_red('black'))\n",
        "print(dollar_bet_on_red('red'))"
      ]
    },
    {
      "cell_type": "markdown",
      "id": "3d874aff",
      "metadata": {
        "id": "3d874aff"
      },
      "source": [
        "**Question 2.** Now it's time to apply the function you just wrote. Your code should use the function `dollar_bet_on_red` on the correct column from the `wheel` table. The output array `red_winnings` should contain the gain in dollars if your pocket won and ou had bet one dollar on red.\n",
        "\n"
      ]
    },
    {
      "cell_type": "code",
      "execution_count": null,
      "id": "4df0fe48",
      "metadata": {
        "execution": {
          "iopub.execute_input": "2022-02-27T07:01:10.295863Z",
          "iopub.status.busy": "2022-02-27T07:01:10.295377Z",
          "iopub.status.idle": "2022-02-27T07:01:10.298076Z",
          "shell.execute_reply": "2022-02-27T07:01:10.298429Z"
        },
        "scrolled": true,
        "tags": [
          "otter_assign_solution_cell"
        ],
        "id": "4df0fe48"
      },
      "outputs": [],
      "source": [
        "red_winnings = ..."
      ]
    },
    {
      "cell_type": "code",
      "source": [
        "#@title Hidden Solution\n",
        "red_winnings = wheel.apply(dollar_bet_on_red, 'Color')"
      ],
      "metadata": {
        "cellView": "form",
        "id": "0K7Tr1LnxPVY"
      },
      "id": "0K7Tr1LnxPVY",
      "execution_count": null,
      "outputs": []
    },
    {
      "cell_type": "code",
      "execution_count": null,
      "id": "f3b493df",
      "metadata": {
        "deletable": false,
        "editable": false,
        "id": "f3b493df"
      },
      "outputs": [],
      "source": [
        "wheel = wheel.with_columns('Red Wins', red_winnings)\n",
        "wheel"
      ]
    },
    {
      "cell_type": "markdown",
      "id": "ccc837cd",
      "metadata": {
        "id": "ccc837cd"
      },
      "source": [
        "### Simulating 10 Bets on Red\n",
        "Roulette wheels are set up so that each time they are spun, the winning pocket is equally likely to be any of the 38 pockets regardless of the results of all other spins. Let's see what would happen if we decided to bet one dollar on red each round.\n",
        "\n",
        "**Question 3.** Write a line of code that creates a table `ten_bets` by sampling the table `wheel` to simulate 10 spins of the roulette wheel. Your table should have the same three column labels as in `wheel`.\n"
      ]
    },
    {
      "cell_type": "code",
      "execution_count": null,
      "id": "cc13a717",
      "metadata": {
        "execution": {
          "iopub.execute_input": "2022-02-27T07:01:10.317383Z",
          "iopub.status.busy": "2022-02-27T07:01:10.314765Z",
          "iopub.status.idle": "2022-02-27T07:01:10.319998Z",
          "shell.execute_reply": "2022-02-27T07:01:10.320357Z"
        },
        "tags": [
          "otter_assign_solution_cell"
        ],
        "id": "cc13a717"
      },
      "outputs": [],
      "source": [
        "ten_bets = ..."
      ]
    },
    {
      "cell_type": "code",
      "source": [
        "#@title Hidden Solution\n",
        "ten_bets = wheel.sample(10)"
      ],
      "metadata": {
        "cellView": "form",
        "id": "QKiM1HJixkLr"
      },
      "id": "QKiM1HJixkLr",
      "execution_count": null,
      "outputs": []
    },
    {
      "cell_type": "code",
      "source": [
        "# let's find the sum of our winnings\n",
        "total = sum(ten_bets.column('Red Wins'))\n",
        "total"
      ],
      "metadata": {
        "id": "_4HeLgkOxrQ5"
      },
      "id": "_4HeLgkOxrQ5",
      "execution_count": null,
      "outputs": []
    },
    {
      "cell_type": "markdown",
      "id": "1f43e252",
      "metadata": {
        "id": "1f43e252"
      },
      "source": [
        "Run the cells above a few times to see how much money you would make if you made 10 one-dollar bets on red. Making a negative amount of money doesn't feel good, but it is a reality in gambling. Casinos are a business, and they make money when gamblers lose."
      ]
    },
    {
      "cell_type": "markdown",
      "id": "ff3995e5",
      "metadata": {
        "id": "ff3995e5"
      },
      "source": [
        "**Question 4.** Let's see what would happen if you made more bets. Define a function `net_gain_red` that takes the number of bets and returns the net gain in that number of one-dollar bets on red.\n",
        "\n",
        "*Hint 1:* You should use your `wheel` table within your function, with similar code to what you wrote in the above question. <br>\n",
        "*Hint 2:* you should return the sum of the column `Red Wins` from your new table created in the function below\n"
      ]
    },
    {
      "cell_type": "code",
      "execution_count": null,
      "id": "4891dda0",
      "metadata": {
        "execution": {
          "iopub.execute_input": "2022-02-27T07:01:10.339738Z",
          "iopub.status.busy": "2022-02-27T07:01:10.339230Z",
          "iopub.status.idle": "2022-02-27T07:01:10.341526Z",
          "shell.execute_reply": "2022-02-27T07:01:10.341924Z"
        },
        "tags": [
          "otter_assign_solution_cell"
        ],
        "id": "4891dda0"
      },
      "outputs": [],
      "source": [
        "def net_gain_red(...):\n",
        "  all_bets = ...\n",
        "  return ...\n"
      ]
    },
    {
      "cell_type": "code",
      "execution_count": null,
      "id": "028f466f",
      "metadata": {
        "deletable": false,
        "editable": false,
        "id": "028f466f",
        "cellView": "form"
      },
      "outputs": [],
      "source": [
        "#@title Hidden Solution\n",
        "def net_gain_red(num_bets):\n",
        "    all_bets = wheel.sample(num_bets)\n",
        "    return sum(all_bets.column('Red Wins'))"
      ]
    },
    {
      "cell_type": "markdown",
      "id": "db412d5a",
      "metadata": {
        "id": "db412d5a"
      },
      "source": [
        "Run the cell below a few times to make sure that the results are similar to those you observed in the previous exercise."
      ]
    },
    {
      "cell_type": "code",
      "execution_count": null,
      "id": "c8d3cbfc",
      "metadata": {
        "execution": {
          "iopub.execute_input": "2022-02-27T07:01:10.467435Z",
          "iopub.status.busy": "2022-02-27T07:01:10.466912Z",
          "iopub.status.idle": "2022-02-27T07:01:10.469903Z",
          "shell.execute_reply": "2022-02-27T07:01:10.469502Z"
        },
        "id": "c8d3cbfc"
      },
      "outputs": [],
      "source": [
        "net_gain_red(10)"
      ]
    },
    {
      "cell_type": "markdown",
      "id": "80ae7016",
      "metadata": {
        "id": "80ae7016"
      },
      "source": [
        "**Question 5.** Complete the cell below to simulate the net gain in 200 one-dollar bets on red, repeating the process 10,000 times. After the cell is run, `all_gains_red` should be an array with 10,000 entries, each of which is the net gain in 200 one-dollar bets on red.\n",
        "\n",
        "*Hint:* For this question, you can assume that `numpy` has been imported as `np`.\n"
      ]
    },
    {
      "cell_type": "code",
      "execution_count": null,
      "id": "f15300ae",
      "metadata": {
        "execution": {
          "iopub.execute_input": "2022-02-27T07:01:10.482677Z",
          "iopub.status.busy": "2022-02-27T07:01:10.481816Z",
          "iopub.status.idle": "2022-02-27T07:01:14.645566Z",
          "shell.execute_reply": "2022-02-27T07:01:14.645024Z"
        },
        "tags": [
          "otter_assign_solution_cell"
        ],
        "id": "f15300ae"
      },
      "outputs": [],
      "source": [
        "num_bets = 200\n",
        "repetitions = 10000\n",
        "all_gains_red = make_array()\n",
        "\n",
        "\n",
        "for ... in ...(...):\n",
        "    new_net_gain = ...(...)\n",
        "    all_gains_red = ...(..., ...)\n",
        "\n",
        "len(all_gains_red)"
      ]
    },
    {
      "cell_type": "code",
      "source": [
        "#@title Hidden Solution\n",
        "num_bets = 200\n",
        "repetitions = 10000\n",
        "all_gains_red = make_array()\n",
        "\n",
        "for i in np.arange(repetitions):\n",
        "    new_net_gain = net_gain_red(num_bets)\n",
        "    all_gains_red = np.append(all_gains_red, new_net_gain)\n",
        "\n",
        "len(all_gains_red) # Do not change this line! Check that all_gains_red is length 10000."
      ],
      "metadata": {
        "cellView": "form",
        "id": "4P8vytNjyj7J"
      },
      "id": "4P8vytNjyj7J",
      "execution_count": null,
      "outputs": []
    },
    {
      "cell_type": "markdown",
      "id": "98435783",
      "metadata": {
        "id": "98435783"
      },
      "source": [
        "Run the cell below to visualize the results of your simulation."
      ]
    },
    {
      "cell_type": "code",
      "execution_count": null,
      "id": "4ac6eb1e",
      "metadata": {
        "execution": {
          "iopub.execute_input": "2022-02-27T07:01:14.700790Z",
          "iopub.status.busy": "2022-02-27T07:01:14.700123Z",
          "iopub.status.idle": "2022-02-27T07:01:15.007968Z",
          "shell.execute_reply": "2022-02-27T07:01:15.007403Z"
        },
        "id": "4ac6eb1e"
      },
      "outputs": [],
      "source": [
        "gains = Table().with_columns('Net Gain on Red', all_gains_red)\n",
        "gains.hist(bins = np.arange(-80, 41, 4))"
      ]
    },
    {
      "cell_type": "markdown",
      "id": "e81f5e1e",
      "metadata": {
        "id": "e81f5e1e"
      },
      "source": [
        "**Extra Thought Question:** Using the histogram above, decide whether the following statement is true or false:\n",
        "\n",
        ">If you make 200 one-dollar bets on red, your chance of losing money is more than 50%.\n",
        "\n",
        "Assign `loss_more_than_50` to either `True` or `False` depending on your answer to the question."
      ]
    },
    {
      "cell_type": "code",
      "execution_count": null,
      "id": "33b59826",
      "metadata": {
        "execution": {
          "iopub.execute_input": "2022-02-27T07:01:15.012354Z",
          "iopub.status.busy": "2022-02-27T07:01:15.011807Z",
          "iopub.status.idle": "2022-02-27T07:01:15.014415Z",
          "shell.execute_reply": "2022-02-27T07:01:15.013865Z"
        },
        "tags": [
          "otter_assign_solution_cell"
        ],
        "id": "33b59826",
        "cellView": "form"
      },
      "outputs": [],
      "source": [
        "#@title Hidden Solution\n",
        "loss_more_than_50 = True # SOLUTION"
      ]
    }
  ],
  "metadata": {
    "kernelspec": {
      "display_name": "Python 3 (ipykernel)",
      "language": "python",
      "name": "python3"
    },
    "language_info": {
      "codemirror_mode": {
        "name": "ipython",
        "version": 3
      },
      "file_extension": ".py",
      "mimetype": "text/x-python",
      "name": "python",
      "nbconvert_exporter": "python",
      "pygments_lexer": "ipython3",
      "version": "3.9.13"
    },
    "otter": {
      "OK_FORMAT": true,
      "tests": {
        "q1_1": {
          "name": "q1_1",
          "points": [
            2,
            2
          ],
          "suites": [
            {
              "cases": [
                {
                  "code": ">>> dollar_bet_on_red('red') == 1\nTrue",
                  "hidden": false,
                  "locked": false
                },
                {
                  "code": ">>> dollar_bet_on_red('green') == -1\nTrue",
                  "hidden": true,
                  "locked": false
                }
              ],
              "scored": true,
              "setup": "",
              "teardown": "",
              "type": "doctest"
            }
          ]
        },
        "q1_10": {
          "name": "q1_10",
          "points": [
            0,
            0,
            4
          ],
          "suites": [
            {
              "cases": [
                {
                  "code": ">>> # Make sure histogram_statements is an array.\n>>> import numpy as np\n>>> type(histogram_statements) == np.ndarray\nTrue",
                  "hidden": false,
                  "locked": false
                },
                {
                  "code": ">>> # Make sure you have set histogram_statements to an array with at least 1 number\n>>> 1 <= histogram_statements.item(0) <= 3\nTrue",
                  "hidden": false,
                  "locked": false
                },
                {
                  "code": ">>> histogram_statements.item(0) == 1 and histogram_statements.item(1) == 2 and histogram_statements.item(2) == 3\nTrue",
                  "hidden": true,
                  "locked": false
                }
              ],
              "scored": true,
              "setup": "",
              "teardown": "",
              "type": "doctest"
            }
          ]
        },
        "q1_2": {
          "name": "q1_2",
          "points": [
            0,
            4
          ],
          "suites": [
            {
              "cases": [
                {
                  "code": ">>> # Make sure your column names are correct\n>>> wheel.labels[2] == \"Winnings: Red\"\nTrue",
                  "hidden": false,
                  "locked": false
                },
                {
                  "code": ">>> sum(wheel.column(\"Winnings: Red\")) == -2\nTrue",
                  "hidden": true,
                  "locked": false
                }
              ],
              "scored": true,
              "setup": "",
              "teardown": "",
              "type": "doctest"
            }
          ]
        },
        "q1_3": {
          "name": "q1_3",
          "points": [
            0,
            4
          ],
          "suites": [
            {
              "cases": [
                {
                  "code": ">>> # If this test isn't passing, try running the cells from the top.\n>>> set([\"Pocket\", \"Color\", \"Winnings: Red\"]) == set(ten_bets.labels)\nTrue",
                  "hidden": false,
                  "locked": false
                },
                {
                  "code": ">>> ten_bets.num_rows == 10\nTrue",
                  "hidden": true,
                  "locked": false
                }
              ],
              "scored": true,
              "setup": "",
              "teardown": "",
              "type": "doctest"
            }
          ]
        },
        "q1_4": {
          "name": "q1_4",
          "points": [
            0,
            4
          ],
          "suites": [
            {
              "cases": [
                {
                  "code": ">>> net_gain_red(10000) != net_gain_red(10000)\nTrue",
                  "hidden": false,
                  "locked": false
                },
                {
                  "code": ">>> -10000 <= net_gain_red(10000) <= 10000\nTrue",
                  "hidden": true,
                  "locked": false
                }
              ],
              "scored": true,
              "setup": "",
              "teardown": "",
              "type": "doctest"
            }
          ]
        },
        "q1_5": {
          "name": "q1_5",
          "points": [
            0,
            4
          ],
          "suites": [
            {
              "cases": [
                {
                  "code": ">>> len(all_gains_red) == 10000\nTrue",
                  "hidden": false,
                  "locked": false
                },
                {
                  "code": ">>> np.count_nonzero(all_gains_red <= 100) == 10000\nTrue",
                  "hidden": true,
                  "locked": false
                }
              ],
              "scored": true,
              "setup": "",
              "teardown": "",
              "type": "doctest"
            }
          ]
        },
        "q1_6": {
          "name": "q1_6",
          "points": [
            0,
            4
          ],
          "suites": [
            {
              "cases": [
                {
                  "code": ">>> type(loss_more_than_50) == bool\nTrue",
                  "hidden": false,
                  "locked": false
                },
                {
                  "code": ">>> loss_more_than_50 == True\nTrue",
                  "hidden": true,
                  "locked": false
                }
              ],
              "scored": true,
              "setup": "",
              "teardown": "",
              "type": "doctest"
            }
          ]
        },
        "q1_7": {
          "name": "q1_7",
          "points": [
            2,
            1,
            1
          ],
          "suites": [
            {
              "cases": [
                {
                  "code": ">>> dollar_bet_on_split('5') == 17\nTrue",
                  "hidden": false,
                  "locked": false
                },
                {
                  "code": ">>> dollar_bet_on_split('6') == 17\nTrue",
                  "hidden": true,
                  "locked": false
                },
                {
                  "code": ">>> dollar_bet_on_split('10') == -1\nTrue",
                  "hidden": true,
                  "locked": false
                }
              ],
              "scored": true,
              "setup": "",
              "teardown": "",
              "type": "doctest"
            }
          ]
        },
        "q1_8": {
          "name": "q1_8",
          "points": [
            0,
            4
          ],
          "suites": [
            {
              "cases": [
                {
                  "code": ">>> # Make sure your column names are correct\n>>> wheel.labels[3] == \"Winnings: Split\"\nTrue",
                  "hidden": false,
                  "locked": false
                },
                {
                  "code": ">>> sum(wheel.column(\"Winnings: Split\")) == -2\nTrue",
                  "hidden": true,
                  "locked": false
                }
              ],
              "scored": true,
              "setup": "",
              "teardown": "",
              "type": "doctest"
            }
          ]
        },
        "q1_9": {
          "name": "q1_9",
          "points": [
            0,
            4
          ],
          "suites": [
            {
              "cases": [
                {
                  "code": ">>> len(all_gains_split) == 10000\nTrue",
                  "hidden": false,
                  "locked": false
                },
                {
                  "code": ">>> np.count_nonzero(all_gains_split >= -200) == 10000\nTrue",
                  "hidden": true,
                  "locked": false
                }
              ],
              "scored": true,
              "setup": "",
              "teardown": "",
              "type": "doctest"
            }
          ]
        },
        "q2_1": {
          "name": "q2_1",
          "points": [
            0,
            4
          ],
          "suites": [
            {
              "cases": [
                {
                  "code": ">>> # Your probability output should be a value between 0 and 1.\n>>> 0 < first_three_black < 1\nTrue",
                  "hidden": false,
                  "locked": false
                },
                {
                  "code": ">>> first_three_black\n0.10628371482723427",
                  "hidden": true,
                  "locked": false
                }
              ],
              "scored": true,
              "setup": "",
              "teardown": "",
              "type": "doctest"
            }
          ]
        },
        "q2_2": {
          "name": "q2_2",
          "points": [
            0,
            4
          ],
          "suites": [
            {
              "cases": [
                {
                  "code": ">>> # Your probability output should be a value between 0 and 1.\n>>> 0 < no_green < 1\nTrue",
                  "hidden": false,
                  "locked": false
                },
                {
                  "code": ">>> 0.582 < no_green < 0.583\nTrue",
                  "hidden": true,
                  "locked": false
                }
              ],
              "scored": true,
              "setup": "",
              "teardown": "",
              "type": "doctest"
            }
          ]
        },
        "q2_3": {
          "name": "q2_3",
          "points": [
            0,
            4
          ],
          "suites": [
            {
              "cases": [
                {
                  "code": ">>> # Your probability output should be a value between 0 and 1.\n>>> 0 < at_least_one_green < 1\nTrue",
                  "hidden": false,
                  "locked": false
                },
                {
                  "code": ">>> 0.417643346770 <= at_least_one_green <= 0.417643346771\nTrue",
                  "hidden": true,
                  "locked": false
                }
              ],
              "scored": true,
              "setup": "",
              "teardown": "",
              "type": "doctest"
            }
          ]
        },
        "q2_4": {
          "name": "q2_4",
          "points": [
            0,
            4
          ],
          "suites": [
            {
              "cases": [
                {
                  "code": ">>> # Your probability output should be a value between 0 and 1.\n>>> 0 < lone_winners < 1\nTrue",
                  "hidden": false,
                  "locked": false
                },
                {
                  "code": ">>> lone_winners\n0.0011374153385028288",
                  "hidden": true,
                  "locked": false
                }
              ],
              "scored": true,
              "setup": "",
              "teardown": "",
              "type": "doctest"
            }
          ]
        },
        "q2_5": {
          "name": "q2_5",
          "points": [
            0,
            0,
            4
          ],
          "suites": [
            {
              "cases": [
                {
                  "code": ">>> # Make sure you are setting toys_option to an int\n>>> type(toys_option) == int\nTrue",
                  "hidden": false,
                  "locked": false
                },
                {
                  "code": ">>> # toys_option should be assigned to either 1, 2 or 3.\n>>> 1 <= toys_option <= 3\nTrue",
                  "hidden": false,
                  "locked": false
                },
                {
                  "code": ">>> toys_option == 1\nTrue",
                  "hidden": true,
                  "locked": false
                }
              ],
              "scored": true,
              "setup": "",
              "teardown": "",
              "type": "doctest"
            }
          ]
        },
        "q2_6": {
          "name": "q2_6",
          "points": [
            0,
            0,
            4
          ],
          "suites": [
            {
              "cases": [
                {
                  "code": ">>> # Make sure you are setting lottery_option to an int\n>>> type(lottery_option) == int\nTrue",
                  "hidden": false,
                  "locked": false
                },
                {
                  "code": ">>> # toys_option should be assigned to either 1, 2 or 3.\n>>> 1 <= lottery_option <= 3\nTrue",
                  "hidden": false,
                  "locked": false
                },
                {
                  "code": ">>> lottery_option == 2\nTrue",
                  "hidden": true,
                  "locked": false
                }
              ],
              "scored": true,
              "setup": "",
              "teardown": "",
              "type": "doctest"
            }
          ]
        },
        "q2_7": {
          "name": "q2_7",
          "points": [
            0,
            0,
            4
          ],
          "suites": [
            {
              "cases": [
                {
                  "code": ">>> # Make sure you are setting coin_option to an int\n>>> type(coin_option) == int\nTrue",
                  "hidden": false,
                  "locked": false
                },
                {
                  "code": ">>> 1 <= coin_option <= 3\nTrue",
                  "hidden": false,
                  "locked": false
                },
                {
                  "code": ">>> coin_option == 1\nTrue",
                  "hidden": true,
                  "locked": false
                }
              ],
              "scored": true,
              "setup": "",
              "teardown": "",
              "type": "doctest"
            }
          ]
        },
        "q4_1": {
          "name": "q4_1",
          "points": [
            0,
            0,
            1,
            3
          ],
          "suites": [
            {
              "cases": [
                {
                  "code": ">>> # The array should have length 2\n>>> len(deck_model_probabilities) == 2\nTrue",
                  "hidden": false,
                  "locked": false
                },
                {
                  "code": ">>> # The elements in the array should add up to 1.\n>>> sum(deck_model_probabilities) == 1\nTrue",
                  "hidden": false,
                  "locked": false
                },
                {
                  "code": ">>> deck_model_probabilities.item(0) == 4/13\nTrue",
                  "hidden": true,
                  "locked": false
                },
                {
                  "code": ">>> deck_model_probabilities.item(1) == 9/13\nTrue",
                  "hidden": true,
                  "locked": false
                }
              ],
              "scored": true,
              "setup": "",
              "teardown": "",
              "type": "doctest"
            }
          ]
        },
        "q4_2": {
          "name": "q4_2",
          "points": [
            0,
            0,
            5
          ],
          "suites": [
            {
              "cases": [
                {
                  "code": ">>> # Make sure you are setting statistic_choice to an int\n>>> type(statistic_choice) == int\nTrue",
                  "hidden": false,
                  "locked": false
                },
                {
                  "code": ">>> # statistic_choice should be assigned to either 1, 2 or 3.\n>>> 1 <= statistic_choice <= 3\nTrue",
                  "hidden": false,
                  "locked": false
                },
                {
                  "code": ">>> statistic_choice == 3\nTrue",
                  "hidden": true,
                  "locked": false
                }
              ],
              "scored": true,
              "setup": "",
              "teardown": "",
              "type": "doctest"
            }
          ]
        },
        "q4_3": {
          "name": "q4_3",
          "points": [
            5
          ],
          "suites": [
            {
              "cases": [
                {
                  "code": ">>> # The statistic should be between 0 and 13 face cards for\n>>> # a sample size of 13\n>>> num_face = deck_simulation_and_statistic(13, deck_model_probabilities)\n>>> 0 <= num_face <= 13\nTrue",
                  "hidden": false,
                  "locked": false
                }
              ],
              "scored": true,
              "setup": "",
              "teardown": "",
              "type": "doctest"
            }
          ]
        },
        "q4_4": {
          "name": "q4_4",
          "points": [
            2,
            3
          ],
          "suites": [
            {
              "cases": [
                {
                  "code": ">>> # There should be exactly as many elements in deck_statistics\n>>> # as the number 'repetitions'\n>>> len(deck_statistics) == repetitions\nTrue",
                  "hidden": false,
                  "locked": false
                },
                {
                  "code": ">>> # Each element of deck_statistics should be between 0\n>>> # and 13 inclusive\n>>> all([0 <= k <= 13 for k in deck_statistics])\nTrue",
                  "hidden": false,
                  "locked": false
                }
              ],
              "scored": true,
              "setup": "",
              "teardown": "",
              "type": "doctest"
            }
          ]
        }
      }
    },
    "colab": {
      "provenance": []
    }
  },
  "nbformat": 4,
  "nbformat_minor": 5
}