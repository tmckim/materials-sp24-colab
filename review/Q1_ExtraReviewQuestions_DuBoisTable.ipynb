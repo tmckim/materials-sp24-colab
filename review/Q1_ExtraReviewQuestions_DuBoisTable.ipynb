{
  "nbformat": 4,
  "nbformat_minor": 0,
  "metadata": {
    "colab": {
      "provenance": []
    },
    "kernelspec": {
      "name": "python3",
      "display_name": "Python 3"
    },
    "language_info": {
      "name": "python"
    }
  },
  "cells": [
    {
      "cell_type": "markdown",
      "source": [
        "# Q1 Extra Review Questions - Notebook\n",
        "\n",
        "___"
      ],
      "metadata": {
        "id": "1vzbKPLHxxcP"
      }
    },
    {
      "cell_type": "markdown",
      "metadata": {
        "id": "CRuXL9VLIGcy"
      },
      "source": [
        "### Working with Tables and Data Organization"
      ]
    },
    {
      "cell_type": "markdown",
      "metadata": {
        "id": "zM0jgp4FZBnt"
      },
      "source": [
        "Case Study: Understanding the [W. E. B. Du Bois Visualization](https://en.wikipedia.org/wiki/W._E._B._Du_Bois)\n"
      ]
    },
    {
      "cell_type": "markdown",
      "metadata": {
        "id": "y83Z2p7DZGCt"
      },
      "source": [
        "From Wikipedia: William Edward Burghardt Du Bois (February 23, 1868 – August 27, 1963) was an American sociologist, socialist, historian, and Pan-Africanist civil rights activist. Born in Great Barrington, Massachusetts, Du Bois grew up in a relatively tolerant and integrated community. After completing graduate work at the University of Berlin and Harvard University, where he was the first African American to earn a doctorate, he became a professor of history, sociology, and economics at Atlanta University. Du Bois was one of the founders of the National Association for the Advancement of Colored People (NAACP) in 1909.\n",
        "\n",
        "For more context on the visualization in lecture checkout [Du Bois’ Data Portraits Tell A Story About Black Life In Georgia And Beyond](https://www.wabe.org/du-bois-data-portraits/) <br>\n",
        "\n",
        "The data we will be working with is from this image: <br>\n",
        "![](https://github.com/tmckim/materials-fa23-colab/blob/main/review/dubois_image.jpg?raw=1)\n",
        "\n",
        "\n",
        "____"
      ]
    },
    {
      "cell_type": "markdown",
      "source": [
        "## Setup and Import Steps"
      ],
      "metadata": {
        "id": "SYSwcbNJyTdv"
      }
    },
    {
      "cell_type": "code",
      "source": [
        "# Step 1\n",
        "# Setup and add files needed to access gdrive\n",
        "from google.colab import drive                                   # these lines mount your gdrive to access the files we import below\n",
        "drive.mount('/content/gdrive', force_remount=True)"
      ],
      "metadata": {
        "colab": {
          "base_uri": "https://localhost:8080/"
        },
        "id": "Aan0_pLQMM1Q",
        "outputId": "86df5e33-4ec3-467a-f636-d5bf19ec5919"
      },
      "execution_count": null,
      "outputs": [
        {
          "output_type": "stream",
          "name": "stdout",
          "text": [
            "Mounted at /content/gdrive\n"
          ]
        }
      ]
    },
    {
      "cell_type": "code",
      "source": [
        "# Step 2\n",
        "# Change directory to the correct location in gdrive (modified way to do this from before)\n",
        "# import os\n",
        "os.chdir('/content/gdrive/MyDrive/NS499-DataSci-course-materials/')"
      ],
      "metadata": {
        "id": "H5X3vExXxal0"
      },
      "execution_count": null,
      "outputs": []
    },
    {
      "cell_type": "code",
      "source": [
        "# Step 3\n",
        "# Remove the files that were previously there- we will replace with all the old + new ones for this assignment\n",
        "!rm -r materials-sp24-colab"
      ],
      "metadata": {
        "id": "RrGC8Tokxc9M"
      },
      "execution_count": null,
      "outputs": []
    },
    {
      "cell_type": "code",
      "source": [
        "# Step 4\n",
        "# These lines clone (copy) all the files you will need from where I store the code+data for the course (github)\n",
        "# Second part of the code copies the files to this location and folder in your own gdrive\n",
        "!git clone https://github.com/tmckim/materials-sp24-colab '/content/gdrive/My Drive/NS499-DataSci-course-materials/materials-sp24-colab/'"
      ],
      "metadata": {
        "id": "fnwu4W7cxfx_"
      },
      "execution_count": null,
      "outputs": []
    },
    {
      "cell_type": "code",
      "source": [
        "# Step 5\n",
        "# Change directory into the folder where the resources for this assignment are stored in gdrive (modified way from before)\n",
        "import os\n",
        "os.chdir('/content/gdrive/MyDrive/NS499-DataSci-course-materials/materials-sp24-colab/review/')"
      ],
      "metadata": {
        "id": "k6MDLgYvMvmQ"
      },
      "execution_count": null,
      "outputs": []
    },
    {
      "cell_type": "code",
      "source": [
        "# Import datascience package\n",
        "\n",
        "from datascience import *"
      ],
      "metadata": {
        "id": "V46Yu45NlyRa"
      },
      "execution_count": null,
      "outputs": []
    },
    {
      "cell_type": "markdown",
      "source": [
        "## Dataset to work with: `du_bois`"
      ],
      "metadata": {
        "id": "JX6W1hCfyWEy"
      }
    },
    {
      "cell_type": "code",
      "execution_count": null,
      "metadata": {
        "id": "jSuwzBrnMMSx"
      },
      "outputs": [],
      "source": [
        "# Read in the table for these exercises\n",
        "du_bois = Table.read_table('du_bois.csv')\n",
        "du_bois"
      ]
    },
    {
      "cell_type": "markdown",
      "source": [
        "Columns in the table are:\n",
        "\n",
        "`Class`: range of annual income values <br>\n",
        "`Actual Average`: Average value of annual income per class<br>\n",
        "`Rent`: % of income spent on rent<br>\n",
        "`Food`: % of income spent on food<br>\n",
        "`Clothes`: % of income spent on clothes<br>\n",
        "`Taxes`: % of income spent on taxes<br>\n",
        "`Other`: % of income spent on religion, art, education, health, savings, amusements, books, travel, etc.\n",
        "___\n",
        "\n"
      ],
      "metadata": {
        "id": "QBbRJpSGe2op"
      }
    },
    {
      "cell_type": "markdown",
      "source": [
        "## Review Questions"
      ],
      "metadata": {
        "id": "YhMo-_jsyb9s"
      }
    },
    {
      "cell_type": "code",
      "source": [
        "#@title Question 1\n",
        "from IPython.display import HTML\n",
        "\n",
        "alert_info = '''\n",
        "<div style= \"font-size: 20px\"; class=\"alert alert-info\" role=\"alert\">\n",
        "  <h3 class=\"alert-heading\">Question 1</h3>\n",
        " Get an array of the `Actual Average` column values.\n",
        "</div>\n",
        "'''\n",
        "\n",
        "display(HTML('<link href=\"https://nbviewer.org/static/build/styles.css\" rel=\"stylesheet\">'))\n",
        "display(HTML(alert_info))"
      ],
      "metadata": {
        "colab": {
          "base_uri": "https://localhost:8080/",
          "height": 227
        },
        "cellView": "form",
        "id": "HtYi61ZmfOaU",
        "outputId": "8285d2ef-101d-4f77-dac4-9b4ff1d273d2"
      },
      "execution_count": null,
      "outputs": [
        {
          "output_type": "display_data",
          "data": {
            "text/plain": [
              "<IPython.core.display.HTML object>"
            ],
            "text/html": [
              "<link href=\"https://nbviewer.org/static/build/styles.css\" rel=\"stylesheet\">"
            ]
          },
          "metadata": {}
        },
        {
          "output_type": "display_data",
          "data": {
            "text/plain": [
              "<IPython.core.display.HTML object>"
            ],
            "text/html": [
              "\n",
              "<div style= \"font-size: 20px\"; class=\"alert alert-info\" role=\"alert\">\n",
              "  <h3 class=\"alert-heading\">Question 1</h3>\n",
              " Get an array of the `Actual Average` column values.\n",
              "</div>\n"
            ]
          },
          "metadata": {}
        }
      ]
    },
    {
      "cell_type": "code",
      "execution_count": null,
      "metadata": {
        "id": "bUuxnVPzEfAO"
      },
      "outputs": [],
      "source": [
        "# Write an expression to access the values in the `Actual Average` column\n",
        "# the output should be an array of the 7 numbers\n",
        "\n",
        "\n"
      ]
    },
    {
      "cell_type": "code",
      "source": [
        "#@title Question 2\n",
        "from IPython.display import HTML\n",
        "\n",
        "alert_info = '''\n",
        "<div style= \"font-size: 20px\"; class=\"alert alert-info\" role=\"alert\">\n",
        "  <h3 class=\"alert-heading\">Question 2</h3>\n",
        " Compute the amount of money spent on food and add it to the table as \"FOOD $\":\n",
        " </div>\n",
        "'''\n",
        "\n",
        "display(HTML('<link href=\"https://nbviewer.org/static/build/styles.css\" rel=\"stylesheet\">'))\n",
        "display(HTML(alert_info))"
      ],
      "metadata": {
        "colab": {
          "base_uri": "https://localhost:8080/",
          "height": 227
        },
        "cellView": "form",
        "id": "kDKMFbBqfomh",
        "outputId": "4a17ba69-09fd-4483-8728-3fd9d92a4601"
      },
      "execution_count": null,
      "outputs": [
        {
          "output_type": "display_data",
          "data": {
            "text/plain": [
              "<IPython.core.display.HTML object>"
            ],
            "text/html": [
              "<link href=\"https://nbviewer.org/static/build/styles.css\" rel=\"stylesheet\">"
            ]
          },
          "metadata": {}
        },
        {
          "output_type": "display_data",
          "data": {
            "text/plain": [
              "<IPython.core.display.HTML object>"
            ],
            "text/html": [
              "\n",
              "<div style= \"font-size: 20px\"; class=\"alert alert-info\" role=\"alert\">\n",
              "  <h3 class=\"alert-heading\">Question 2</h3>\n",
              " Compute the amount of money spent on food and add it to the table as \"FOOD $\":\n",
              " </div>\n"
            ]
          },
          "metadata": {}
        }
      ]
    },
    {
      "cell_type": "code",
      "execution_count": null,
      "metadata": {
        "id": "BzUfaCTOEne0"
      },
      "outputs": [],
      "source": [
        "# Calculate the amount spent on food for each income level\n",
        "# Multiply all values for the income column (choose the correct one) by the % spent on food (choose the correct column)\n",
        "# Add your new values to the table in a new column with the correct name\n",
        "# Feel free to use mutiple lines of code or cells to arrive at the answer\n",
        "\n",
        "\n"
      ]
    },
    {
      "cell_type": "code",
      "source": [
        "#@title Question 3\n",
        "from IPython.display import HTML\n",
        "\n",
        "alert_info = '''\n",
        "<div style= \"font-size: 20px\"; class=\"alert alert-info\" role=\"alert\">\n",
        "  <h3 class=\"alert-heading\">Question 3</h3>\n",
        "Find the maximum and the minmum amount spent from the new column you added (`Food $`)\n",
        " </div>\n",
        "'''\n",
        "\n",
        "display(HTML('<link href=\"https://nbviewer.org/static/build/styles.css\" rel=\"stylesheet\">'))\n",
        "display(HTML(alert_info))"
      ],
      "metadata": {
        "colab": {
          "base_uri": "https://localhost:8080/",
          "height": 227
        },
        "cellView": "form",
        "id": "LLR4b-i9fxj9",
        "outputId": "349ff932-50e5-40b4-bb17-db6e34a64a48"
      },
      "execution_count": null,
      "outputs": [
        {
          "output_type": "display_data",
          "data": {
            "text/plain": [
              "<IPython.core.display.HTML object>"
            ],
            "text/html": [
              "<link href=\"https://nbviewer.org/static/build/styles.css\" rel=\"stylesheet\">"
            ]
          },
          "metadata": {}
        },
        {
          "output_type": "display_data",
          "data": {
            "text/plain": [
              "<IPython.core.display.HTML object>"
            ],
            "text/html": [
              "\n",
              "<div style= \"font-size: 20px\"; class=\"alert alert-info\" role=\"alert\">\n",
              "  <h3 class=\"alert-heading\">Question 3</h3>\n",
              "Find the maximum and the minmum amount spent from the new column you added (`Food $`)\n",
              " </div>\n"
            ]
          },
          "metadata": {}
        }
      ]
    },
    {
      "cell_type": "code",
      "execution_count": null,
      "metadata": {
        "id": "k0Hasy_IF5F_"
      },
      "outputs": [],
      "source": [
        "# Code goes here for max and min\n",
        "\n",
        "\n"
      ]
    },
    {
      "cell_type": "code",
      "source": [
        "#@title Question 4\n",
        "from IPython.display import HTML\n",
        "\n",
        "alert_info = '''\n",
        "<div style= \"font-size: 20px\"; class=\"alert alert-info\" role=\"alert\">\n",
        "  <h3 class=\"alert-heading\">Question 4</h3>\n",
        " Find the income bracket (\"class\") that spent the most money on rent.\n",
        "  </div>\n",
        "'''\n",
        "\n",
        "display(HTML('<link href=\"https://nbviewer.org/static/build/styles.css\" rel=\"stylesheet\">'))\n",
        "display(HTML(alert_info))"
      ],
      "metadata": {
        "cellView": "form",
        "colab": {
          "base_uri": "https://localhost:8080/",
          "height": 227
        },
        "id": "E0Y0lGSjf4hm",
        "outputId": "6bf3b985-cfd3-4a61-e1d9-651eca4aa39a"
      },
      "execution_count": null,
      "outputs": [
        {
          "output_type": "display_data",
          "data": {
            "text/plain": [
              "<IPython.core.display.HTML object>"
            ],
            "text/html": [
              "<link href=\"https://nbviewer.org/static/build/styles.css\" rel=\"stylesheet\">"
            ]
          },
          "metadata": {}
        },
        {
          "output_type": "display_data",
          "data": {
            "text/plain": [
              "<IPython.core.display.HTML object>"
            ],
            "text/html": [
              "\n",
              "<div style= \"font-size: 20px\"; class=\"alert alert-info\" role=\"alert\">\n",
              "  <h3 class=\"alert-heading\">Question 4</h3>\n",
              " Find the income bracket (\"class\") that spent the most money on rent.\n",
              "  </div>\n"
            ]
          },
          "metadata": {}
        }
      ]
    },
    {
      "cell_type": "code",
      "execution_count": null,
      "metadata": {
        "id": "SASho0OSF9wo"
      },
      "outputs": [],
      "source": [
        "# Similar to above- calculate the values you need and add the data as a new column to the table\n",
        "# Manipulate/rearrange the data to find the highest value\n",
        "# Your final expression should return the single highest value\n",
        "\n",
        "\n"
      ]
    }
  ]
}