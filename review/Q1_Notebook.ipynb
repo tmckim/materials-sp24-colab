{
  "cells": [
    {
      "cell_type": "markdown",
      "metadata": {
        "id": "fWkLTDd7y_NA"
      },
      "source": [
        "# Q1 Review Notebook"
      ]
    },
    {
      "cell_type": "markdown",
      "metadata": {
        "id": "YNz_VUDCzFcJ"
      },
      "source": [
        "## Setup and Import Steps"
      ]
    },
    {
      "cell_type": "code",
      "execution_count": null,
      "metadata": {
        "id": "d7uLiIot5YXg"
      },
      "outputs": [],
      "source": [
        "# Import packages and other things needed\n",
        "# Don't change this cell; Just run this cell\n",
        "# If you restart colab, make sure to run this cell again to start\n",
        "\n",
        "from datascience import *\n",
        "import numpy as np\n",
        "\n",
        "%matplotlib inline\n",
        "import matplotlib.pyplot as plots\n",
        "plots.style.use(\"fivethirtyeight\")"
      ]
    },
    {
      "cell_type": "markdown",
      "metadata": {
        "id": "9et0Cz8G-D8w"
      },
      "source": [
        "### Python Expressions"
      ]
    },
    {
      "cell_type": "code",
      "execution_count": null,
      "metadata": {
        "id": "-PpnJsnI9u01"
      },
      "outputs": [],
      "source": [
        "# Q1\n",
        "\"Valentine's Day is February\" + 14"
      ]
    },
    {
      "cell_type": "code",
      "execution_count": null,
      "metadata": {
        "id": "rVVelxh194sm"
      },
      "outputs": [],
      "source": [
        "# Q2\n",
        "make_array(5,9,12,20) + make_array(1,5,8)"
      ]
    },
    {
      "cell_type": "code",
      "execution_count": null,
      "metadata": {
        "id": "_iiqsgMt99pj"
      },
      "outputs": [],
      "source": [
        "# Q3\n",
        "5 + float(int('3'))"
      ]
    },
    {
      "cell_type": "code",
      "execution_count": null,
      "metadata": {
        "id": "R0FmrmC8-GGg"
      },
      "outputs": [],
      "source": [
        "# Q4\n",
        "a = 1\n",
        "b = a\n",
        "a = 2\n",
        "\n",
        "print(a)\n",
        "print(b)"
      ]
    },
    {
      "cell_type": "code",
      "execution_count": null,
      "metadata": {
        "id": "aIRIRjYjBLRE"
      },
      "outputs": [],
      "source": [
        "# Q5\n",
        "type(2.75)"
      ]
    },
    {
      "cell_type": "markdown",
      "metadata": {
        "id": "t6rh9BD7BSCp"
      },
      "source": [
        "## Valentine's Candy Table"
      ]
    },
    {
      "cell_type": "markdown",
      "metadata": {
        "id": "i3qqwOqVzM2h"
      },
      "source": [
        "This is an example of how to make a table from scratch"
      ]
    },
    {
      "cell_type": "code",
      "execution_count": null,
      "metadata": {
        "colab": {
          "base_uri": "https://localhost:8080/",
          "height": 237
        },
        "id": "323zhMeMBTrN",
        "outputId": "25c79078-3b35-45f3-a6ba-8c6409c4c386"
      },
      "outputs": [
        {
          "data": {
            "text/html": [
              "<table border=\"1\" class=\"dataframe\">\n",
              "    <thead>\n",
              "        <tr>\n",
              "            <th>brand</th> <th>chocolate</th> <th>shape</th> <th>rating</th> <th>price</th>\n",
              "        </tr>\n",
              "    </thead>\n",
              "    <tbody>\n",
              "        <tr>\n",
              "            <td>Hershey's  </td> <td>yes      </td> <td>kisses</td> <td>7     </td> <td>8.99 </td>\n",
              "        </tr>\n",
              "        <tr>\n",
              "            <td>Sweethearts</td> <td>no       </td> <td>heart </td> <td>5     </td> <td>5.75 </td>\n",
              "        </tr>\n",
              "        <tr>\n",
              "            <td>Lindt      </td> <td>yes      </td> <td>round </td> <td>3     </td> <td>10.99</td>\n",
              "        </tr>\n",
              "        <tr>\n",
              "            <td>Dove       </td> <td>yes      </td> <td>heart </td> <td>8     </td> <td>7.49 </td>\n",
              "        </tr>\n",
              "        <tr>\n",
              "            <td>Reese's    </td> <td>yes      </td> <td>heart </td> <td>9     </td> <td>3.99 </td>\n",
              "        </tr>\n",
              "        <tr>\n",
              "            <td>Sour Patch </td> <td>no       </td> <td>heart </td> <td>2     </td> <td>3.99 </td>\n",
              "        </tr>\n",
              "    </tbody>\n",
              "</table>"
            ],
            "text/plain": [
              "brand       | chocolate | shape  | rating | price\n",
              "Hershey's   | yes       | kisses | 7      | 8.99\n",
              "Sweethearts | no        | heart  | 5      | 5.75\n",
              "Lindt       | yes       | round  | 3      | 10.99\n",
              "Dove        | yes       | heart  | 8      | 7.49\n",
              "Reese's     | yes       | heart  | 9      | 3.99\n",
              "Sour Patch  | no        | heart  | 2      | 3.99"
            ]
          },
          "execution_count": 5,
          "metadata": {},
          "output_type": "execute_result"
        }
      ],
      "source": [
        "# Make the candy table in datascience package\n",
        "brand = make_array(\"Hershey's\", \"Sweethearts\", \"Lindt\", \"Dove\", \"Reese's\", \"Sour Patch\")\n",
        "chocolate = make_array(\"yes\", \"no\", \"yes\", \"yes\", \"yes\", \"no\")\n",
        "shape = make_array(\"kisses\", \"heart\", \"round\", \"heart\", \"heart\", \"heart\")\n",
        "rating = make_array(7,5,3,8,9,2)\n",
        "price = make_array(8.99,5.75,10.99,7.49,3.99,3.99)\n",
        "\n",
        "candy = Table().with_columns('brand', brand, 'chocolate', chocolate, 'shape', shape, 'rating', rating, 'price', price)\n",
        "\n",
        "candy"
      ]
    },
    {
      "cell_type": "code",
      "execution_count": null,
      "metadata": {
        "cellView": "form",
        "colab": {
          "base_uri": "https://localhost:8080/",
          "height": 255
        },
        "id": "mqGG0MuszU0V",
        "outputId": "2ca33309-d618-449d-9f76-4b12b9358ced"
      },
      "outputs": [
        {
          "data": {
            "text/html": [
              "<link href=\"https://nbviewer.org/static/build/styles.css\" rel=\"stylesheet\">"
            ],
            "text/plain": [
              "<IPython.core.display.HTML object>"
            ]
          },
          "metadata": {},
          "output_type": "display_data"
        },
        {
          "data": {
            "text/html": [
              "\n",
              "<div style= \"font-size: 20px\"; class=\"alert alert-info\" role=\"alert\">\n",
              "  <h3 class=\"alert-heading\">Question 1</h3>\n",
              " We are interested in the most expensive candy from the table. <br>\n",
              " Write code that outputs the *brand name* of the most expensive candy in the table.\n",
              "</div>\n"
            ],
            "text/plain": [
              "<IPython.core.display.HTML object>"
            ]
          },
          "metadata": {},
          "output_type": "display_data"
        }
      ],
      "source": [
        "#@title Question 1\n",
        "from IPython.display import HTML\n",
        "\n",
        "alert_info = '''\n",
        "<div style= \"font-size: 20px\"; class=\"alert alert-info\" role=\"alert\">\n",
        "  <h3 class=\"alert-heading\">Question 1</h3>\n",
        " We are interested in the most expensive candy from the table. <br>\n",
        " Write code that outputs the *brand name* of the most expensive candy in the table.\n",
        "</div>\n",
        "'''\n",
        "\n",
        "display(HTML('<link href=\"https://nbviewer.org/static/build/styles.css\" rel=\"stylesheet\">'))\n",
        "display(HTML(alert_info))"
      ]
    },
    {
      "cell_type": "code",
      "execution_count": null,
      "metadata": {
        "id": "THfTqLhxBOwj"
      },
      "outputs": [],
      "source": [
        "# Solution - add your code here\n",
        "\n",
        "\n",
        "\n"
      ]
    },
    {
      "cell_type": "code",
      "execution_count": null,
      "metadata": {
        "cellView": "form",
        "colab": {
          "base_uri": "https://localhost:8080/",
          "height": 227
        },
        "id": "rRieZFYczlPZ",
        "outputId": "197dc6be-c883-43a5-b603-82a9a46dbd0e"
      },
      "outputs": [
        {
          "data": {
            "text/html": [
              "<link href=\"https://nbviewer.org/static/build/styles.css\" rel=\"stylesheet\">"
            ],
            "text/plain": [
              "<IPython.core.display.HTML object>"
            ]
          },
          "metadata": {},
          "output_type": "display_data"
        },
        {
          "data": {
            "text/html": [
              "\n",
              "<div style= \"font-size: 20px\"; class=\"alert alert-info\" role=\"alert\">\n",
              "  <h3 class=\"alert-heading\">Question 2</h3>\n",
              "What is the average price of the candy listed in the table?\n",
              "</div>\n"
            ],
            "text/plain": [
              "<IPython.core.display.HTML object>"
            ]
          },
          "metadata": {},
          "output_type": "display_data"
        }
      ],
      "source": [
        "#@title Question 2\n",
        "from IPython.display import HTML\n",
        "\n",
        "alert_info = '''\n",
        "<div style= \"font-size: 20px\"; class=\"alert alert-info\" role=\"alert\">\n",
        "  <h3 class=\"alert-heading\">Question 2</h3>\n",
        "What is the average price of the candy listed in the table?\n",
        "</div>\n",
        "'''\n",
        "\n",
        "display(HTML('<link href=\"https://nbviewer.org/static/build/styles.css\" rel=\"stylesheet\">'))\n",
        "display(HTML(alert_info))"
      ]
    },
    {
      "cell_type": "code",
      "execution_count": null,
      "metadata": {
        "id": "ylO5UBnMBVbV"
      },
      "outputs": [],
      "source": [
        "# Solution - add your code here\n",
        "\n",
        "\n",
        "\n"
      ]
    },
    {
      "cell_type": "code",
      "execution_count": null,
      "metadata": {
        "cellView": "form",
        "colab": {
          "base_uri": "https://localhost:8080/",
          "height": 255
        },
        "id": "D7PvbGt8zrEc",
        "outputId": "6e967f22-f8fe-4139-decc-0bd15a4fc38a"
      },
      "outputs": [
        {
          "data": {
            "text/html": [
              "<link href=\"https://nbviewer.org/static/build/styles.css\" rel=\"stylesheet\">"
            ],
            "text/plain": [
              "<IPython.core.display.HTML object>"
            ]
          },
          "metadata": {},
          "output_type": "display_data"
        },
        {
          "data": {
            "text/html": [
              "\n",
              "<div style= \"font-size: 20px\"; class=\"alert alert-info\" role=\"alert\">\n",
              "  <h3 class=\"alert-heading\">Question 3</h3>\n",
              "We'd like to know the rating for Reese's candy. <br> \n",
              "Write code that outputs the *rating value* for this brand of candy.\n",
              "\n",
              "</div>\n"
            ],
            "text/plain": [
              "<IPython.core.display.HTML object>"
            ]
          },
          "metadata": {},
          "output_type": "display_data"
        }
      ],
      "source": [
        "#@title Question 3\n",
        "from IPython.display import HTML\n",
        "\n",
        "alert_info = '''\n",
        "<div style= \"font-size: 20px\"; class=\"alert alert-info\" role=\"alert\">\n",
        "  <h3 class=\"alert-heading\">Question 3</h3>\n",
        "We'd like to know the rating for Reese's candy. <br>\n",
        "Write code that outputs the *rating value* for this brand of candy.\n",
        "\n",
        "</div>\n",
        "'''\n",
        "\n",
        "display(HTML('<link href=\"https://nbviewer.org/static/build/styles.css\" rel=\"stylesheet\">'))\n",
        "display(HTML(alert_info))"
      ]
    },
    {
      "cell_type": "code",
      "execution_count": null,
      "metadata": {
        "id": "oFabFZGUBZbV"
      },
      "outputs": [],
      "source": [
        "# Solution - add your code here\n",
        "\n",
        "\n"
      ]
    },
    {
      "cell_type": "code",
      "execution_count": null,
      "metadata": {
        "cellView": "form",
        "colab": {
          "base_uri": "https://localhost:8080/",
          "height": 255
        },
        "id": "p2_xm9cnzsEe",
        "outputId": "42199aab-c883-4bf6-cd77-370558afff29"
      },
      "outputs": [
        {
          "data": {
            "text/html": [
              "<link href=\"https://nbviewer.org/static/build/styles.css\" rel=\"stylesheet\">"
            ],
            "text/plain": [
              "<IPython.core.display.HTML object>"
            ]
          },
          "metadata": {},
          "output_type": "display_data"
        },
        {
          "data": {
            "text/html": [
              "\n",
              "<div style= \"font-size: 20px\"; class=\"alert alert-info\" role=\"alert\">\n",
              "  <h3 class=\"alert-heading\">Question 4</h3>\n",
              "Write code that outputs a similar table to candy, but with only the rows for those candies are chocolate, <br>\n",
              "and without the chocolate column.\n",
              "</div>\n"
            ],
            "text/plain": [
              "<IPython.core.display.HTML object>"
            ]
          },
          "metadata": {},
          "output_type": "display_data"
        }
      ],
      "source": [
        "#@title Question 4\n",
        "from IPython.display import HTML\n",
        "\n",
        "alert_info = '''\n",
        "<div style= \"font-size: 20px\"; class=\"alert alert-info\" role=\"alert\">\n",
        "  <h3 class=\"alert-heading\">Question 4</h3>\n",
        "Write code that outputs a similar table to candy, but with only the rows for those candies are chocolate, <br>\n",
        "and without the chocolate column.\n",
        "</div>\n",
        "'''\n",
        "\n",
        "display(HTML('<link href=\"https://nbviewer.org/static/build/styles.css\" rel=\"stylesheet\">'))\n",
        "display(HTML(alert_info))"
      ]
    },
    {
      "cell_type": "code",
      "execution_count": null,
      "metadata": {
        "id": "yhgUx2HCBb7M"
      },
      "outputs": [],
      "source": [
        "# Solution - add your code here\n",
        "\n",
        "\n",
        "\n"
      ]
    },
    {
      "cell_type": "code",
      "execution_count": null,
      "metadata": {
        "cellView": "form",
        "colab": {
          "base_uri": "https://localhost:8080/",
          "height": 227
        },
        "id": "mTgDbZYfztGV",
        "outputId": "5b2d2cf1-98cf-45b3-c2d0-0c8e7ab094a6"
      },
      "outputs": [
        {
          "data": {
            "text/html": [
              "<link href=\"https://nbviewer.org/static/build/styles.css\" rel=\"stylesheet\">"
            ],
            "text/plain": [
              "<IPython.core.display.HTML object>"
            ]
          },
          "metadata": {},
          "output_type": "display_data"
        },
        {
          "data": {
            "text/html": [
              "\n",
              "<div style= \"font-size: 20px\"; class=\"alert alert-info\" role=\"alert\">\n",
              "  <h3 class=\"alert-heading\">Question 5</h3>\n",
              "Write a line of code to calculate the proportion of candies that are heart shaped.\n",
              "</div>\n"
            ],
            "text/plain": [
              "<IPython.core.display.HTML object>"
            ]
          },
          "metadata": {},
          "output_type": "display_data"
        }
      ],
      "source": [
        "#@title Question 5\n",
        "from IPython.display import HTML\n",
        "\n",
        "alert_info = '''\n",
        "<div style= \"font-size: 20px\"; class=\"alert alert-info\" role=\"alert\">\n",
        "  <h3 class=\"alert-heading\">Question 5</h3>\n",
        "Write a line of code to calculate the proportion of candies that are heart shaped.\n",
        "</div>\n",
        "'''\n",
        "\n",
        "display(HTML('<link href=\"https://nbviewer.org/static/build/styles.css\" rel=\"stylesheet\">'))\n",
        "display(HTML(alert_info))"
      ]
    },
    {
      "cell_type": "code",
      "execution_count": null,
      "metadata": {
        "id": "GHr63OZyBdkD"
      },
      "outputs": [],
      "source": [
        "# Solution - add your code here\n",
        "\n",
        "\n",
        "\n"
      ]
    },
    {
      "cell_type": "code",
      "execution_count": null,
      "metadata": {
        "cellView": "form",
        "colab": {
          "base_uri": "https://localhost:8080/",
          "height": 427
        },
        "id": "hZgMbvBoztwo",
        "outputId": "753cd038-a071-4987-fb96-5cc5c0fbfa93"
      },
      "outputs": [
        {
          "data": {
            "text/html": [
              "<link href=\"https://nbviewer.org/static/build/styles.css\" rel=\"stylesheet\">"
            ],
            "text/plain": [
              "<IPython.core.display.HTML object>"
            ]
          },
          "metadata": {},
          "output_type": "display_data"
        },
        {
          "data": {
            "text/html": [
              "\n",
              "<div style= \"font-size: 20px\"; class=\"alert alert-info\" role=\"alert\">\n",
              "  <h3 class=\"alert-heading\">Question 6</h3>\n",
              "You are at the store and there is a discount if you buy two of the same brand (name) of candy. <br>\n",
              "You want to know the total prices for all of the brands (names) if you bought 2 at the regular price listed in the table (so without the discount).<br>\n",
              "The tot_prices that you assign below should be an array. <br><br>\n",
              "\n",
              "Hint: You've learned how to do arithmetic with arrays.<br>\n",
              "Think about how to get the array of numbers from the table (candy) that you need to do the multiplication.\n",
              "</div>\n"
            ],
            "text/plain": [
              "<IPython.core.display.HTML object>"
            ]
          },
          "metadata": {},
          "output_type": "display_data"
        }
      ],
      "source": [
        "#@title Question 6\n",
        "from IPython.display import HTML\n",
        "\n",
        "alert_info = '''\n",
        "<div style= \"font-size: 20px\"; class=\"alert alert-info\" role=\"alert\">\n",
        "  <h3 class=\"alert-heading\">Question 6</h3>\n",
        "You are at the store and there is a discount if you buy two of the same brand (name) of candy. <br>\n",
        "You want to know the total prices for all of the brands (names) if you bought 2 at the regular price listed in the table (so without the discount).<br>\n",
        "The tot_prices that you assign below should be an array. <br><br>\n",
        "\n",
        "Hint: You've learned how to do arithmetic with arrays.<br>\n",
        "Think about how to get the array of numbers from the table (candy) that you need to do the multiplication.\n",
        "</div>\n",
        "'''\n",
        "\n",
        "display(HTML('<link href=\"https://nbviewer.org/static/build/styles.css\" rel=\"stylesheet\">'))\n",
        "display(HTML(alert_info))"
      ]
    },
    {
      "cell_type": "code",
      "execution_count": null,
      "metadata": {
        "id": "TelhsOmEBgw6"
      },
      "outputs": [],
      "source": [
        "# Solution - add your code here\n",
        "\n",
        "\n"
      ]
    },
    {
      "cell_type": "code",
      "execution_count": null,
      "metadata": {
        "cellView": "form",
        "colab": {
          "base_uri": "https://localhost:8080/",
          "height": 227
        },
        "id": "3NnDAoj7zuei",
        "outputId": "6db16183-c0b3-4b6b-a15c-cad829f62b6e"
      },
      "outputs": [
        {
          "data": {
            "text/html": [
              "<link href=\"https://nbviewer.org/static/build/styles.css\" rel=\"stylesheet\">"
            ],
            "text/plain": [
              "<IPython.core.display.HTML object>"
            ]
          },
          "metadata": {},
          "output_type": "display_data"
        },
        {
          "data": {
            "text/html": [
              "\n",
              "<div style= \"font-size: 20px\"; class=\"alert alert-info\" role=\"alert\">\n",
              "  <h3 class=\"alert-heading\">Question 7</h3>\n",
              "Simplify the candy table to only include 3 columns: brand, rating, and price\n",
              "</div>\n"
            ],
            "text/plain": [
              "<IPython.core.display.HTML object>"
            ]
          },
          "metadata": {},
          "output_type": "display_data"
        }
      ],
      "source": [
        "#@title Question 7\n",
        "from IPython.display import HTML\n",
        "\n",
        "alert_info = '''\n",
        "<div style= \"font-size: 20px\"; class=\"alert alert-info\" role=\"alert\">\n",
        "  <h3 class=\"alert-heading\">Question 7</h3>\n",
        "Simplify the candy table to only include 3 columns: brand, rating, and price\n",
        "</div>\n",
        "'''\n",
        "\n",
        "display(HTML('<link href=\"https://nbviewer.org/static/build/styles.css\" rel=\"stylesheet\">'))\n",
        "display(HTML(alert_info))"
      ]
    },
    {
      "cell_type": "code",
      "execution_count": null,
      "metadata": {
        "id": "nDeb7zVYBi97"
      },
      "outputs": [],
      "source": [
        "# Solution - add your code here\n",
        "\n",
        "\n",
        "\n"
      ]
    }
  ],
  "metadata": {
    "colab": {
      "provenance": [],
      "toc_visible": true
    },
    "kernelspec": {
      "display_name": "Python 3",
      "name": "python3"
    },
    "language_info": {
      "name": "python"
    }
  },
  "nbformat": 4,
  "nbformat_minor": 0
}
