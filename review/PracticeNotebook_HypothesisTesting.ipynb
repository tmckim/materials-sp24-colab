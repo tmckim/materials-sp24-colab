{
  "cells": [
    {
      "cell_type": "markdown",
      "metadata": {
        "id": "BxuZNpkj91ju"
      },
      "source": [
        "<a href=\"https://colab.research.google.com/github/tmckim/materials-sp24-colab/blob/main/review/PracticeNotebook_HypothesisTesting.ipynb\" target=\"_parent\"><img src=\"https://colab.research.google.com/assets/colab-badge.svg\" alt=\"Open In Colab\"/></a>"
      ]
    },
    {
      "cell_type": "markdown",
      "metadata": {
        "id": "MTOUEaqY9-7V"
      },
      "source": [
        "## Before you start - Save this notebook!\n",
        "\n",
        "When you open a new Colab notebook from the WebCampus (like you hopefully did for this one), you cannot save changes. So it's  best to store the Colab notebook in your personal drive `\"File > Save a copy in drive...\"` **before** you do anything else.\n",
        "\n",
        "The file will open in a new tab in your web browser, and it is automatically named something like: \"**Copy of PracticeNotebook_HypothesisTesting.ipynb**\". You can rename this to just the title of the assignment \"**PracticeNotebook_HypothesisTesting.ipynb**\". Make sure you do keep an informative name (like the name of the assignment) so that you know which files to submit back to WebCampus for grading! More instructions on this are at the end of the notebook.\n",
        "\n",
        "\n",
        "**Where does the notebook get saved in Google Drive?**\n",
        "\n",
        "By default, the notebook will be copied to a folder called “Colab Notebooks” at the root (home directory) of your Google Drive. If you use this for other courses or personal code notebooks, I recommend creating a folder for this course and then moving the assignments AFTER you have completed them. <br>\n",
        "\n",
        "I also recommend you give the folder where you save your notebooks^ a different name than the folder we create below that will store the notebook resources you need each time you work through a course notebook. This includes any data files you will need, links to the images that appear in the notebook, and the files associated with the autograder for answer checking.<br>\n",
        "You should select a name other than '**NS499-DataSci-course-materials**'. <br>\n",
        "This folder gets overwritten with each assignment you work on in the course, so you should **NOT** store your notebooks in this folder that we use for course materials! <br><br>For example, you could create a folder called 'NS499-**notebooks**' or something along those lines.\n",
        "___"
      ]
    },
    {
      "cell_type": "markdown",
      "metadata": {
        "id": "g9f4MA--5t15"
      },
      "source": [
        "## Setup and Import Steps"
      ]
    },
    {
      "cell_type": "code",
      "execution_count": null,
      "metadata": {
        "id": "0sBW9-G-5t15"
      },
      "outputs": [],
      "source": [
        "# Step 1\n",
        "# Setup and add files needed to access gdrive\n",
        "from google.colab import drive                                   # these lines mount your gdrive to access the files we import below\n",
        "drive.mount('/content/gdrive', force_remount=True)"
      ]
    },
    {
      "cell_type": "code",
      "execution_count": null,
      "metadata": {
        "id": "sebZtjuz5t15"
      },
      "outputs": [],
      "source": [
        "# Step 2\n",
        "# Change directory to the correct location in gdrive (modified way to do this from before)\n",
        "# import os\n",
        "os.chdir('/content/gdrive/MyDrive/NS499-DataSci-course-materials/')"
      ]
    },
    {
      "cell_type": "code",
      "execution_count": null,
      "metadata": {
        "id": "b9ROSiPL5t15"
      },
      "outputs": [],
      "source": [
        "# Step 3\n",
        "# Remove the files that were previously there- we will replace with all the old + new ones for this assignment\n",
        "!rm -r materials-sp24-colab"
      ]
    },
    {
      "cell_type": "code",
      "execution_count": null,
      "metadata": {
        "id": "W0vinBp_5t15"
      },
      "outputs": [],
      "source": [
        "# Step 4\n",
        "# These lines clone (copy) all the files you will need from where I store the code+data for the course (github)\n",
        "# Second part of the code copies the files to this location and folder in your own gdrive\n",
        "!git clone https://github.com/tmckim/materials-sp24-colab '/content/gdrive/My Drive/NS499-DataSci-course-materials/materials-sp24-colab/'"
      ]
    },
    {
      "cell_type": "code",
      "execution_count": null,
      "metadata": {
        "id": "HAji_TxN5t15"
      },
      "outputs": [],
      "source": [
        "# Step 5\n",
        "# Change directory into the folder where the resources for this assignment are stored in gdrive (modified way from before)\n",
        "import os\n",
        "os.chdir('/content/gdrive/MyDrive/NS499-DataSci-course-materials/materials-sp24-colab/review/')"
      ]
    },
    {
      "cell_type": "code",
      "execution_count": null,
      "metadata": {
        "id": "U_NtHJV95yI9"
      },
      "outputs": [],
      "source": [
        "# Import packages and other things needed\n",
        "# Don't change this cell; Just run this cell\n",
        "# If you restart colab, make sure to run this cell again after the first ones above^\n",
        "\n",
        "from datascience import *\n",
        "import numpy as np\n",
        "\n",
        "%matplotlib inline\n",
        "import matplotlib.pyplot as plt\n",
        "plt.style.use('fivethirtyeight')\n",
        "import warnings\n",
        "warnings.simplefilter(action='ignore',category=np.VisibleDeprecationWarning)"
      ]
    },
    {
      "cell_type": "markdown",
      "metadata": {
        "id": "6v3a5uiHcED3"
      },
      "source": [
        "# Hypothesis Testing Example"
      ]
    },
    {
      "cell_type": "markdown",
      "metadata": {
        "id": "SX3vNNsJcAkA"
      },
      "source": [
        "**Super Soda Co and the Case of Bad Taste** <br>\n",
        "Manufacturers of Super Soda run a taste test and 91 out of 200 tasters prefer Super Soda over its rival.<br>\n",
        "The boss is upset! He asks: <br>\n",
        "\n",
        "Do fewer people prefer Super Soda, or is this just chance?\n",
        "\n",
        "You run a hypothesis test:\n",
        "\n",
        "* **Null Hypothesis**: Equal proportions of the population prefer Super Soda as Rival and any variability is due to chance. <br>\n",
        "* **Alternative Hypothesis**: Fewer people in the population prefer Super Soda than its Rival.<br>\n",
        "* **Test Statistic**: Number of people who prefer Super Soda<br><br>\n",
        "\n",
        "You pick a p-value cutoff of 0.05"
      ]
    },
    {
      "cell_type": "markdown",
      "metadata": {
        "id": "jSwZcGF2lSy_"
      },
      "source": [
        "**Exercise**: Define the observed statistic from the sample given above"
      ]
    },
    {
      "cell_type": "code",
      "execution_count": null,
      "metadata": {
        "id": "frc-G2-R6ghL"
      },
      "outputs": [],
      "source": [
        "# Define the observed statistic\n",
        "obs_statistic = ..."
      ]
    },
    {
      "cell_type": "code",
      "source": [
        "# @title Solution\n",
        "obs_statistic = 91"
      ],
      "metadata": {
        "id": "JbIwdERF0xJJ",
        "cellView": "form"
      },
      "execution_count": null,
      "outputs": []
    },
    {
      "cell_type": "markdown",
      "metadata": {
        "id": "tBSI_SH8cdrq"
      },
      "source": [
        "**Exercise**: Just run the cell to define a function and then simulate the test statistic from the null hypothesis\n"
      ]
    },
    {
      "cell_type": "code",
      "execution_count": null,
      "metadata": {
        "id": "f2NZksA9cbFj"
      },
      "outputs": [],
      "source": [
        "# Function definition- don't change this name, it is used below\n",
        "def simulate_one_count(sample_size):\n",
        "    simulated_data = np.random.choice(['Super', 'Rival'], sample_size)\n",
        "    simulated_statistic = np.count_nonzero(simulated_data == \"Super\")\n",
        "    return simulated_statistic\n",
        "simulate_one_count(200)"
      ]
    },
    {
      "cell_type": "markdown",
      "source": [
        "Test the function and see how the output varies."
      ],
      "metadata": {
        "id": "SxvD-q0X6VNo"
      }
    },
    {
      "cell_type": "code",
      "source": [
        "simulate_one_count(200)"
      ],
      "metadata": {
        "id": "emDOPUffknXc"
      },
      "execution_count": null,
      "outputs": []
    },
    {
      "cell_type": "markdown",
      "source": [
        "Break down each component within the function and run it below. Make sure you understand what each line is doing before continuing."
      ],
      "metadata": {
        "id": "5PAMhMG-6cRJ"
      }
    },
    {
      "cell_type": "code",
      "source": [
        "# use np.random.choice to choose between the two outcomes a certain number of times\n",
        "simulated_data = np.random.choice(['Super', 'Rival'], 10)\n",
        "simulated_data"
      ],
      "metadata": {
        "id": "F-Pts3ZUj3e_"
      },
      "execution_count": null,
      "outputs": []
    },
    {
      "cell_type": "code",
      "source": [
        "# use np.count_nonzero to count within the simulated data where the option of Super soda was chosen\n",
        "simulated_statistic = np.count_nonzero(simulated_data == \"Super\")\n",
        "simulated_statistic"
      ],
      "metadata": {
        "id": "bEi3jn98kNlr"
      },
      "execution_count": null,
      "outputs": []
    },
    {
      "cell_type": "markdown",
      "metadata": {
        "id": "N-YgwPkk6zsz"
      },
      "source": [
        "**Exercise**: Complete the code to repeat simulation of the above process many times."
      ]
    },
    {
      "cell_type": "code",
      "source": [
        "# Simulation\n",
        "num_simulations = 10000\n",
        "\n",
        "counts = ...                                      # set this equal to your empty array\n",
        "for ... in ...:                                   # initiate your loop here\n",
        "    counts = ...                                  # here is where you add on to the counts array by using your function each time through the loop"
      ],
      "metadata": {
        "id": "8-yzOfJN708v"
      },
      "execution_count": null,
      "outputs": []
    },
    {
      "cell_type": "markdown",
      "source": [
        "Don't look yet! 🙈 Try writing out the code above like we've practiced before checking your solution below."
      ],
      "metadata": {
        "id": "hAylU-E78AgU"
      }
    },
    {
      "cell_type": "code",
      "source": [
        "# @title Solution\n",
        "\n",
        "num_simulations = 10000\n",
        "counts = make_array()\n",
        "for i in np.arange(num_simulations):\n",
        "    counts = np.append(counts, simulate_one_count(200))"
      ],
      "metadata": {
        "id": "oswJlB421MDZ",
        "cellView": "form"
      },
      "execution_count": null,
      "outputs": []
    },
    {
      "cell_type": "markdown",
      "metadata": {
        "id": "g3N13F6XciAH"
      },
      "source": [
        "**Exercise**: Just run the cell below to plot the distribution of the test statistic under the null hypothesis\n",
        "\n"
      ]
    },
    {
      "cell_type": "code",
      "execution_count": null,
      "metadata": {
        "id": "2n5o3aEkclHY"
      },
      "outputs": [],
      "source": [
        "# Plot the distribution\n",
        "trials = Table().with_column('Number of Super', counts)\n",
        "trials.hist(right_end=91)\n",
        "plt.ylim(-0.001, 0.055)\n",
        "plt.scatter(91, 0, color='red', s=40, zorder=3)\n",
        "plt.title('Prediction Under the Null');"
      ]
    },
    {
      "cell_type": "markdown",
      "metadata": {
        "id": "1F71HCzQlyob"
      },
      "source": [
        "**Exercise**: Calculate the p-value and make a conclusion"
      ]
    },
    {
      "cell_type": "code",
      "execution_count": null,
      "metadata": {
        "id": "qolUTdJD7KHP"
      },
      "outputs": [],
      "source": [
        "# Calculate the p-value\n",
        "p_value = ..."
      ]
    },
    {
      "cell_type": "markdown",
      "source": [
        "Again, don't look yet! 🙈 Try writing out the code above like we've practiced before checking your solution below."
      ],
      "metadata": {
        "id": "-FqaQ8__8RUV"
      }
    },
    {
      "cell_type": "code",
      "source": [
        "# @title Solution\n",
        "\n",
        "p_value = np.count_nonzero(counts <= 91)/len(counts)\n",
        "print(\"The p-value is\", p_value)"
      ],
      "metadata": {
        "id": "3F7h4huM1sZF",
        "cellView": "form"
      },
      "execution_count": null,
      "outputs": []
    },
    {
      "cell_type": "markdown",
      "metadata": {
        "id": "CH9AE0Z0cnBP"
      },
      "source": [
        "Conclusion:\n",
        "\n"
      ]
    },
    {
      "cell_type": "markdown",
      "metadata": {
        "id": "OCFOkhIlcoo_"
      },
      "source": [
        "*Type your response here*"
      ]
    },
    {
      "cell_type": "markdown",
      "source": [
        "Again, don't look yet! 🙈 Try writing out your conclusion to practice."
      ],
      "metadata": {
        "id": "vkqL6Y078VL1"
      }
    },
    {
      "cell_type": "code",
      "source": [
        "# @title Solution\n",
        "\n",
        "# We do not reject the null hypothesis based on our p-value. This could have happened by chance"
      ],
      "metadata": {
        "id": "MUI77hNj3ith",
        "cellView": "form"
      },
      "execution_count": null,
      "outputs": []
    },
    {
      "cell_type": "markdown",
      "metadata": {
        "id": "aLfZ1kd0csSW"
      },
      "source": [
        "### Changing the number of simulations"
      ]
    },
    {
      "cell_type": "markdown",
      "metadata": {
        "id": "l0dQX2kzc34U"
      },
      "source": [
        "**Exercise**: Just run the cells below to see what happens if we run a different number of simulations.\n",
        "\n"
      ]
    },
    {
      "cell_type": "code",
      "execution_count": null,
      "metadata": {
        "id": "KE8-cdlNc5G6"
      },
      "outputs": [],
      "source": [
        "# Keeping the data fixed, we can re-run the test with a new simulation under the null\n",
        "# Don't change the name of this function, just run this cell\n",
        "def simulate_null(num_simulations, sample_size):\n",
        "    counts = make_array()\n",
        "    for i in np.arange(num_simulations):\n",
        "        counts = np.append(counts, simulate_one_count(sample_size))\n",
        "    return counts"
      ]
    },
    {
      "cell_type": "code",
      "execution_count": null,
      "metadata": {
        "id": "oYHMhWGvc6lD"
      },
      "outputs": [],
      "source": [
        "# Keeping the data fixed, we can re-run the test with a new simulation under the null\n",
        "# Just run this cell\n",
        "def run_test(num_simulations, sample_size, obs_statistic):\n",
        "    counts = simulate_null(num_simulations, sample_size)\n",
        "    # compute the p value\n",
        "    p_value = np.count_nonzero(counts <= obs_statistic)/len(counts)\n",
        "    return p_value"
      ]
    },
    {
      "cell_type": "code",
      "source": [
        "p_value"
      ],
      "metadata": {
        "id": "zOuqR8724Gf0"
      },
      "execution_count": null,
      "outputs": []
    },
    {
      "cell_type": "markdown",
      "metadata": {
        "id": "gXHbHauGmHbP"
      },
      "source": [
        "**Exercise**: What do you conclude from the p-value?"
      ]
    },
    {
      "cell_type": "code",
      "source": [
        "# @title Solution\n",
        "\n",
        "# Not significant"
      ],
      "metadata": {
        "id": "_pQJJqLR4MNb",
        "cellView": "form"
      },
      "execution_count": null,
      "outputs": []
    },
    {
      "cell_type": "markdown",
      "source": [
        "## Optional: Additional Simulations with the Dataset to Review Concepts We've Covered in Class"
      ],
      "metadata": {
        "id": "ZnTmv62T8don"
      }
    },
    {
      "cell_type": "markdown",
      "metadata": {
        "id": "etqOD5ZJc8KU"
      },
      "source": [
        "### Simulating the Simulation (Again)"
      ]
    },
    {
      "cell_type": "markdown",
      "metadata": {
        "id": "bChfmsJwdAuw"
      },
      "source": [
        "**Exercise**: Just run this cell- this may take a minute or so\n"
      ]
    },
    {
      "cell_type": "code",
      "execution_count": null,
      "metadata": {
        "id": "_gcc_S36dB4w"
      },
      "outputs": [],
      "source": [
        "# Let's repeat that 50 times for each number of simulations\n",
        "tests = Table(['simulations', 'p-value for 91'])\n",
        "for k in np.arange(100): # will run the simulation 100 times\n",
        "    for num_sims in [100, 1000, 10000]:\n",
        "        p_value = run_test(num_sims, 200, 91)\n",
        "        tests = tests.with_row([num_sims, p_value])\n",
        "tests.show(3)"
      ]
    },
    {
      "cell_type": "markdown",
      "metadata": {
        "id": "zeDxyEOUdDaZ"
      },
      "source": [
        "**Exercise**: Run this cell to visualize the distribution of p-values.\n"
      ]
    },
    {
      "cell_type": "code",
      "execution_count": null,
      "metadata": {
        "id": "X8WAzmSJdEw4"
      },
      "outputs": [],
      "source": [
        "# For larger numbers of simulations, p-values are more consistent\n",
        "tests.hist(\"p-value for 91\", group='simulations', bins=20)"
      ]
    },
    {
      "cell_type": "markdown",
      "source": [
        "The more simulations you do, the more focused or concentrated the p-value will be around the true value for that hypothesis test.<br>\n",
        "More simulations give you a better estimate of your p-value"
      ],
      "metadata": {
        "id": "Qbu0z97K4kiZ"
      }
    },
    {
      "cell_type": "markdown",
      "metadata": {
        "id": "lVND0GhidGWg"
      },
      "source": [
        "### Law of Large Numbers"
      ]
    },
    {
      "cell_type": "markdown",
      "metadata": {
        "id": "TEK5dDzfdJBQ"
      },
      "source": [
        "The reason the p-values concentrate towards the true p-value is that the emprical distribution under the null is better approximates by increasing the number of simulations. More is better!\n",
        "\n"
      ]
    },
    {
      "cell_type": "code",
      "execution_count": null,
      "metadata": {
        "id": "lcivBu64dKjg"
      },
      "outputs": [],
      "source": [
        "# Just run this cell - it may take a minute or so\n",
        "t1 = Table().with_columns(\"Number of Heads\", simulate_null(100, 200),\n",
        "                           \"Simulation Size\", 100)\n",
        "t2 = Table().with_columns(\"Number of Heads\", simulate_null(100_000, 200),\n",
        "                           \"Simulation Size\", 100_000)\n",
        "t1.append(t2).hist(group='Simulation Size', bins=np.arange(70.5, 131, 1))"
      ]
    },
    {
      "cell_type": "markdown",
      "metadata": {
        "id": "4o3rdaVBdLpx"
      },
      "source": [
        "### The Importance of Sample Size"
      ]
    },
    {
      "cell_type": "markdown",
      "metadata": {
        "id": "z9C7MG1hdOcX"
      },
      "source": [
        "Larger samples give us more information about the population and also allow us to test more subtle differences.\n",
        "\n",
        "Suppose that the true proportion of people who prefer Super Soda is 45%"
      ]
    },
    {
      "cell_type": "code",
      "execution_count": null,
      "metadata": {
        "id": "TRKW-jAMdP4f"
      },
      "outputs": [],
      "source": [
        "true_proportion = 0.45\n",
        "true_distribution = make_array(true_proportion, 1 - true_proportion)\n",
        "true_distribution"
      ]
    },
    {
      "cell_type": "markdown",
      "metadata": {
        "id": "qprEGepcdSCH"
      },
      "source": [
        "Taste tests with 200 people will give varioius numbers of people who prefer Super Soda\n",
        "\n"
      ]
    },
    {
      "cell_type": "code",
      "execution_count": null,
      "metadata": {
        "id": "uZ85DMXrdTKl"
      },
      "outputs": [],
      "source": [
        "sample_size = 200\n",
        "sample_proportions(sample_size, true_distribution) * sample_size"
      ]
    },
    {
      "cell_type": "markdown",
      "metadata": {
        "id": "Q1dbf1FNmxlg"
      },
      "source": [
        "**Exercise**: Run this cell. What do you conclude based on the p-value?"
      ]
    },
    {
      "cell_type": "code",
      "execution_count": null,
      "metadata": {
        "id": "XXJp2ksNdUct"
      },
      "outputs": [],
      "source": [
        "def run_experiment(num_simulations, sample_size, true_proportion):\n",
        "    # Collect data\n",
        "    true_distribution = make_array(true_proportion, 1 - true_proportion)\n",
        "    taste_test_results = sample_proportions(sample_size, true_distribution) * sample_size\n",
        "    observed_stat_from_this_sample = taste_test_results.item(0)\n",
        "\n",
        "    # Conduct hypothesis test\n",
        "    p_value = run_test(num_simulations, sample_size, observed_stat_from_this_sample)\n",
        "    return p_value\n",
        "\n",
        "run_experiment(10000, 200, 0.45)"
      ]
    },
    {
      "cell_type": "markdown",
      "metadata": {
        "id": "h7kLOeOSdVqE"
      },
      "source": [
        "**Exercise**: Try using different values for the true_proportion and sample size. What happens to as the true proportion gets closer to 0.5? What happens if we increase the sample size?\n",
        "\n"
      ]
    },
    {
      "cell_type": "markdown",
      "metadata": {
        "id": "h9CTUmsrm5eW"
      },
      "source": [
        "*Type your response here*"
      ]
    },
    {
      "cell_type": "code",
      "source": [
        "# @title Solution\n",
        "\n",
        "# First time, p was close (0.0708), but not less than 0.05"
      ],
      "metadata": {
        "id": "QkCxv9XN4949",
        "cellView": "form"
      },
      "execution_count": null,
      "outputs": []
    },
    {
      "cell_type": "markdown",
      "metadata": {
        "id": "ZPrAKtC5m9Xd"
      },
      "source": [
        "**Exercise**: Just run this cell to demonstrate running our taste test repeatedly to see how often we reject the null hypothesis."
      ]
    },
    {
      "cell_type": "code",
      "execution_count": null,
      "metadata": {
        "id": "hlQmOJvDdYEk"
      },
      "outputs": [],
      "source": [
        "true_proportion = 0.45\n",
        "sample_size = 100\n",
        "p_values = make_array()\n",
        "for k in np.arange(100):\n",
        "    p_value = run_experiment(1000, sample_size, true_proportion)\n",
        "    p_values = np.append(p_values, p_value)\n",
        "Table().with_column('P-value', p_values).hist(0, right_end=0.05, bins=np.arange(0,1,0.1))\n",
        "print(\"Percent that correctly reject the null\", 100*np.mean(p_values <= 0.05))"
      ]
    },
    {
      "cell_type": "markdown",
      "metadata": {
        "id": "eSIE6gz5d8x7"
      },
      "source": [
        "## A/B Testing: Example ##"
      ]
    },
    {
      "cell_type": "code",
      "execution_count": null,
      "metadata": {
        "id": "lxawmStNd8x7"
      },
      "outputs": [],
      "source": [
        "# Read in the table of data for this example\n",
        "births = Table.read_table('baby.csv')"
      ]
    },
    {
      "cell_type": "code",
      "source": [
        "# show the table for review\n",
        "births"
      ],
      "metadata": {
        "id": "coBcunxJr06a"
      },
      "execution_count": null,
      "outputs": []
    },
    {
      "cell_type": "code",
      "execution_count": null,
      "metadata": {
        "id": "FUUaliPBd8x7"
      },
      "outputs": [],
      "source": [
        "# Plot and review the data\n",
        "births.hist('Maternal Age', group='Maternal Smoker')"
      ]
    },
    {
      "cell_type": "markdown",
      "metadata": {
        "id": "OTTXn7gfA5le"
      },
      "source": [
        "**Exercise**: We want to test whether there is a difference in maternal age based on smoking status.<br>\n",
        "Write the null and alternative hypotheses."
      ]
    },
    {
      "cell_type": "markdown",
      "metadata": {
        "id": "EOBAjY6MBINr"
      },
      "source": [
        "*Type your response here*"
      ]
    },
    {
      "cell_type": "markdown",
      "source": [
        "Don't peek yet 👀! Try writing these out for practice."
      ],
      "metadata": {
        "id": "xcyrXCA69ptA"
      }
    },
    {
      "cell_type": "code",
      "source": [
        "# @title Solution\n",
        "\n",
        "# Null: The age distribution in the smokers' population is the same as the age distribution\n",
        "# in the non-smoker's population.\n",
        "\n",
        "# (Note: In the case of an RCT, this would be:\n",
        "# The distribution of all potential treatment scores is the same as the distribution of all\n",
        "# potential control scores. Or simply, the treatment does nothing.)\n",
        "\n",
        "# Alternative: Depends on the question, but suppose the question asks whether the smokers are younger.\n",
        "# Then the alternative is that the smokers are younger, on average, than the nonsmokers."
      ],
      "metadata": {
        "id": "AH6C0VH-9D-T",
        "cellView": "form"
      },
      "execution_count": null,
      "outputs": []
    },
    {
      "cell_type": "markdown",
      "metadata": {
        "id": "t7j2_ueaBLOU"
      },
      "source": [
        "**Exercise**: What is the test statistic we should use, and which direction supports the alternative (where would we look on the plot)?"
      ]
    },
    {
      "cell_type": "markdown",
      "metadata": {
        "id": "qrFW6kEEBTYw"
      },
      "source": [
        "*Type your response here*"
      ]
    },
    {
      "cell_type": "markdown",
      "source": [
        "Don't peek yet 👀! Try writing these out for practice."
      ],
      "metadata": {
        "id": "liGHalFN90so"
      }
    },
    {
      "cell_type": "code",
      "source": [
        "# @title Solution\n",
        "\n",
        "# Test statistic: smokers' average - nonsmokers' average;\n",
        "# nonsmokers' average - smokers' average\n",
        "\n",
        "# (For the P-value) Direction that supports the alternative:\n",
        "# If you use the first statistic, negative values support the alternative, so look left.\n",
        "# If you use the second statistic, positive values support the alternative, so look right."
      ],
      "metadata": {
        "id": "ZFIzeD-A9GpS",
        "cellView": "form"
      },
      "execution_count": null,
      "outputs": []
    },
    {
      "cell_type": "markdown",
      "metadata": {
        "id": "PWBbEvAVd8x7"
      },
      "source": [
        "## Calculating the Observed Statistic ##\n",
        "This can be left till the end, but doing it now will help us understand how to code the simulation under the null."
      ]
    },
    {
      "cell_type": "code",
      "execution_count": null,
      "metadata": {
        "id": "dDwjpr5Ld8x7"
      },
      "outputs": [],
      "source": [
        "# This just selects only the two relevant columns; you don't have to do this.\n",
        "\n",
        "ages = births.select('Maternal Age', 'Maternal Smoker')\n",
        "ages = ages.relabeled(0, 'Age').relabeled(1, 'Smoker')"
      ]
    },
    {
      "cell_type": "code",
      "execution_count": null,
      "metadata": {
        "id": "5YHjBgzzd8x8"
      },
      "outputs": [],
      "source": [
        "ages"
      ]
    },
    {
      "cell_type": "markdown",
      "source": [
        "Use `group` to get the averages per group"
      ],
      "metadata": {
        "id": "r1HrskI394l3"
      }
    },
    {
      "cell_type": "code",
      "execution_count": null,
      "metadata": {
        "id": "c-KwON8Kd8x8"
      },
      "outputs": [],
      "source": [
        "# The group means in a table\n",
        "means_table = ages.group('Smoker', np.average)\n",
        "means_table"
      ]
    },
    {
      "cell_type": "markdown",
      "metadata": {
        "id": "uG4-fV5gBZTi"
      },
      "source": [
        "**Exercise**: Calculate the difference between the two means to get the observed difference."
      ]
    },
    {
      "cell_type": "code",
      "execution_count": null,
      "metadata": {
        "id": "-q2bdf5_Be1Z"
      },
      "outputs": [],
      "source": [
        "# Extract the difference between the two means\n",
        "\n",
        "means = ...\n",
        "observed_differences = ...\n",
        "observed_difference"
      ]
    },
    {
      "cell_type": "markdown",
      "source": [
        "Don't peek yet 👀! Write the code out yourself to practice."
      ],
      "metadata": {
        "id": "srdCitOy9_Y9"
      }
    },
    {
      "cell_type": "code",
      "source": [
        "# @title Solution\n",
        "\n",
        "means = means_table.column(1)\n",
        "observed_difference = means.item(1) - means.item(0)\n",
        "observed_difference"
      ],
      "metadata": {
        "id": "Tc6a5Ksc9Hvy",
        "cellView": "form"
      },
      "execution_count": null,
      "outputs": []
    },
    {
      "cell_type": "markdown",
      "metadata": {
        "id": "8QpHoMZNd8x8"
      },
      "source": [
        "## Simulating Under the Null ##"
      ]
    },
    {
      "cell_type": "code",
      "execution_count": null,
      "metadata": {
        "id": "xXzxP1xNd8x8"
      },
      "outputs": [],
      "source": [
        "# Review our table\n",
        "ages"
      ]
    },
    {
      "cell_type": "markdown",
      "metadata": {
        "id": "Gx_xQe4TBo9Q"
      },
      "source": [
        "**Exercise**: Since this is an A/B test, what method do we need to use next before simulation?<br>\n",
        "*Hint*: Use permutation."
      ]
    },
    {
      "cell_type": "code",
      "execution_count": null,
      "metadata": {
        "id": "OyKr2dswB5km"
      },
      "outputs": [],
      "source": [
        "# Code to shuffle"
      ]
    },
    {
      "cell_type": "markdown",
      "source": [
        "Don't peek yet 👀! Write the code out yourself to practice."
      ],
      "metadata": {
        "id": "Csf7bzYH-HRX"
      }
    },
    {
      "cell_type": "code",
      "source": [
        "# @title Solution\n",
        "\n",
        "ages.sample(with_replacement=False)"
      ],
      "metadata": {
        "id": "NDRwt9yC9cOA",
        "cellView": "form"
      },
      "execution_count": null,
      "outputs": []
    },
    {
      "cell_type": "markdown",
      "metadata": {
        "id": "JumNUcT9B_KH"
      },
      "source": [
        "**Exercise**: Add the data back into the original table for comparison."
      ]
    },
    {
      "cell_type": "code",
      "execution_count": null,
      "metadata": {
        "id": "X2Oz1SVHB8QG"
      },
      "outputs": [],
      "source": [
        "# Add the shuffled labels to the original `ages` table\n",
        "shuffled_labels = ...\n",
        "\n",
        "shuffled_table = ...\n",
        "shuffled_table"
      ]
    },
    {
      "cell_type": "markdown",
      "source": [
        "Don't peek yet 👀! Write the code out yourself to practice."
      ],
      "metadata": {
        "id": "UjeVVpRm-IS4"
      }
    },
    {
      "cell_type": "code",
      "source": [
        "# @title Solution\n",
        "shuffled_labels = ages.sample(with_replacement=False).column(1)\n",
        "\n",
        "shuffled_table = ages.select('Age').with_column('Shuffled Label', shuffled_labels)\n",
        "shuffled_table"
      ],
      "metadata": {
        "id": "6UxkHaiO9fhX",
        "cellView": "form"
      },
      "execution_count": null,
      "outputs": []
    },
    {
      "cell_type": "markdown",
      "metadata": {
        "id": "TuXCNqHJCEVO"
      },
      "source": [
        "**Exercise**: Do exactly what you did to find the observed statistic, that is, take the averages and subtract the difference. Make sure to use the same direction that you originally did."
      ]
    },
    {
      "cell_type": "code",
      "execution_count": null,
      "metadata": {
        "id": "19QTGmjxCTLc"
      },
      "outputs": [],
      "source": [
        "# Now do exactly what you did to find the observed statistic, but with this new shuffled_table\n",
        "\n",
        "# The shuffled group means in a table- fill in code here\n",
        "\n",
        "# The difference between the two shuffled group means - fill in code here"
      ]
    },
    {
      "cell_type": "markdown",
      "source": [
        "Don't peek yet 👀! Write the code out yourself to practice."
      ],
      "metadata": {
        "id": "rmW3BmCd-SMi"
      }
    },
    {
      "cell_type": "code",
      "source": [
        "# @title Solution\n",
        "\n",
        "# The shuffled group means in a table\n",
        "shuffled_means_table = shuffled_table.group('Shuffled Label', np.average)\n",
        "\n",
        "# The difference between the two shuffled group means\n",
        "shuffled_means = shuffled_means_table.column(1)\n",
        "shuffled_difference = shuffled_means.item(1) - shuffled_means.item(0)\n",
        "shuffled_difference\n"
      ],
      "metadata": {
        "id": "V3Khla2V9ghc",
        "cellView": "form"
      },
      "execution_count": null,
      "outputs": []
    },
    {
      "cell_type": "markdown",
      "metadata": {
        "id": "JLDGdynDCams"
      },
      "source": [
        "**Exercise**: Now we want to repeat this process many times, so setup a function for simulation. This is similar to the above steps you should have been doing along the way."
      ]
    },
    {
      "cell_type": "code",
      "execution_count": null,
      "metadata": {
        "id": "XvGUgY1ECnYL"
      },
      "outputs": [],
      "source": [
        "# Put it all together in a function.\n",
        "# You can just copy and paste the steps!\n",
        "\n",
        "def one_shuffled_difference():\n",
        "    shuffled_labels = ...               # step to shuffle the labels\n",
        "    shuffled_table =  ...               # select the shuffled labels columns\n",
        "    shuffled_means_table = ...          # average the means from the shuffling\n",
        "    shuffled_means = ...                # select the correct column\n",
        "    return                              # calculate the difference of the shuffled means"
      ]
    },
    {
      "cell_type": "markdown",
      "source": [
        "Don't peek yet 👀! Write the code out yourself to practice."
      ],
      "metadata": {
        "id": "6lmlImUi-VIJ"
      }
    },
    {
      "cell_type": "code",
      "source": [
        "# @title Solution\n",
        "\n",
        "def one_shuffled_difference():\n",
        "    shuffled_labels = ages.sample(with_replacement=False).column(1)\n",
        "    shuffled_table = ages.select('Age').with_column('Shuffled Label', shuffled_labels)\n",
        "    shuffled_means_table = shuffled_table.group('Shuffled Label', np.average)\n",
        "    shuffled_means = shuffled_means_table.column(1)\n",
        "    return shuffled_means.item(1) - shuffled_means.item(0)"
      ],
      "metadata": {
        "id": "M3ZBWy_I9hUN",
        "cellView": "form"
      },
      "execution_count": null,
      "outputs": []
    },
    {
      "cell_type": "markdown",
      "metadata": {
        "id": "v67uxLPQDEsB"
      },
      "source": [
        "**Exercise**: Simulate with a `for` loop and collect the results into an array to plot in the next step."
      ]
    },
    {
      "cell_type": "code",
      "execution_count": null,
      "metadata": {
        "id": "Dpp5bnmxDLeZ"
      },
      "outputs": [],
      "source": [
        "# Our old friends the for loop and collection array\n",
        "# This one takes a while to run.\n",
        "\n",
        "differences = ...                # Don't change the name, used next to plot\n",
        "for ... in ...:                  # fill in loop\n",
        "    differences = ...            # add on to the array using the function written above"
      ]
    },
    {
      "cell_type": "markdown",
      "source": [
        "Don't peek yet 👀! Write the code out yourself to practice."
      ],
      "metadata": {
        "id": "6Lolxarf-XIf"
      }
    },
    {
      "cell_type": "code",
      "source": [
        "# @title Solution\n",
        "\n",
        "differences = make_array()\n",
        "for i in np.arange(5000):\n",
        "    differences = np.append(differences, one_shuffled_difference())"
      ],
      "metadata": {
        "id": "X9Sfygco9io_",
        "cellView": "form"
      },
      "execution_count": null,
      "outputs": []
    },
    {
      "cell_type": "code",
      "execution_count": null,
      "metadata": {
        "id": "fXBgnHlud8x9"
      },
      "outputs": [],
      "source": [
        "# Plot the predicted distribution of the statistic under the null\n",
        "\n",
        "diff_table = Table().with_column('Difference', differences)\n",
        "diff_table.hist(bins=20)"
      ]
    },
    {
      "cell_type": "markdown",
      "metadata": {
        "id": "GcQMXzbODara"
      },
      "source": [
        "**Exercise**: Calculate the p-value."
      ]
    },
    {
      "cell_type": "code",
      "execution_count": null,
      "metadata": {
        "id": "vTCwAIEzDg0Z"
      },
      "outputs": [],
      "source": [
        "# Calculate the p-value\n",
        "p_val = ..."
      ]
    },
    {
      "cell_type": "markdown",
      "source": [
        "Don't peek yet 👀! Write the code out yourself to practice."
      ],
      "metadata": {
        "id": "FpZcOhAU-dyo"
      }
    },
    {
      "cell_type": "code",
      "source": [
        "# @title Solution\n",
        "p_val = np.count_nonzero(differences <= observed_difference)/5000\n",
        "p_val"
      ],
      "metadata": {
        "id": "Ymdi-1JM9jwQ",
        "cellView": "form"
      },
      "execution_count": null,
      "outputs": []
    },
    {
      "cell_type": "markdown",
      "metadata": {
        "id": "sgveMk9zDi-_"
      },
      "source": [
        "**Exercise**: With a 5% cutoff, what do you conclude?"
      ]
    },
    {
      "cell_type": "markdown",
      "metadata": {
        "id": "nPNZl3wXDmgw"
      },
      "source": [
        "*Type your response here*"
      ]
    },
    {
      "cell_type": "markdown",
      "source": [
        "Don't peek yet 👀! Write out the conclusions to check your understanding"
      ],
      "metadata": {
        "id": "Y3XyCPyq-hTY"
      }
    },
    {
      "cell_type": "code",
      "source": [
        "# @title Solution\n",
        "# With a 5% cutoff, you would pick the alternative over the null.\n"
      ],
      "metadata": {
        "id": "60hHNtVS9kWQ",
        "cellView": "form"
      },
      "execution_count": null,
      "outputs": []
    }
  ],
  "metadata": {
    "colab": {
      "provenance": [],
      "collapsed_sections": [
        "ZnTmv62T8don",
        "etqOD5ZJc8KU",
        "lVND0GhidGWg",
        "4o3rdaVBdLpx"
      ],
      "toc_visible": true
    },
    "kernelspec": {
      "display_name": "Python 3",
      "name": "python3"
    },
    "language_info": {
      "name": "python"
    }
  },
  "nbformat": 4,
  "nbformat_minor": 0
}