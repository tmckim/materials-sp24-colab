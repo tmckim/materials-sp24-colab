{
  "cells": [
    {
      "cell_type": "markdown",
      "id": "52160ff3",
      "metadata": {
        "id": "52160ff3"
      },
      "source": [
        "<a href=\"https://colab.research.google.com/github/tmckim/materials-sp24-colab/blob/main/hw/hw02/hw02.ipynb\" target=\"_parent\"><img src=\"https://colab.research.google.com/assets/colab-badge.svg\" alt=\"Open In Colab\"/></a>"
      ]
    },
    {
      "cell_type": "markdown",
      "id": "718832f6",
      "metadata": {
        "id": "718832f6"
      },
      "source": [
        "## Before you start - Save this notebook!\n",
        "\n",
        "When you open a new Colab notebook from the WebCampus (like you hopefully did for this one), you cannot save changes. So it's  best to store the Colab notebook in your personal drive `\"File > Save a copy in drive...\"` **before** you do anything else.\n",
        "\n",
        "The file will open in a new tab in your web browser, and it is automatically named something like: \"**Copy of hw02.ipynb**\". You can rename this to just the title of the assignment \"**hw02.ipynb**\". Make sure you do keep an informative name (like the name of the assignment) so that you know which files to submit back to WebCampus for grading! More instructions on this are at the end of the notebook.\n",
        "\n",
        "\n",
        "**Where does the notebook get saved in Google Drive?**\n",
        "\n",
        "By default, the notebook will be copied to a folder called “Colab Notebooks” at the root (home directory) of your Google Drive. If you use this for other courses or personal code notebooks, I recommend creating a folder for this course and then moving the assignments AFTER you have completed them. <br>\n",
        "\n",
        "I also recommend you give the folder where you save your notebooks^ a different name than the folder we create below that will store the notebook resources you need each time you work through a course notebook. This includes any data files you will need, links to the images that appear in the notebook, and the files associated with the autograder for answer checking.<br>\n",
        "You should select a name other than '**NS499-DataSci-course-materials**'. <br>\n",
        "This folder gets overwritten with each assignment you work on in the course, so you should **NOT** store your notebooks in this folder that we use for course materials! <br><br>For example, you could create a folder called 'NS499-**notebooks**' or something along those lines. \n",
        "\n",
        "__________"
      ]
    },
    {
      "cell_type": "code",
      "execution_count": null,
      "id": "tZU4L1nhusFR",
      "metadata": {
        "deletable": false,
        "editable": false,
        "id": "tZU4L1nhusFR"
      },
      "outputs": [],
      "source": [
        "# Setup and add files needed to access gdrive\n",
        "# If you restart colab, start by re-running this cell first!\n",
        "from google.colab import drive\n",
        "drive.mount('/content/gdrive', force_remount=True)\n",
        "\n",
        "# We make this folder (dir) for all your course materials this semester!\n",
        "# You only need to do this once, so if you already ran this during the lecture demo or lab01, then you do *NOT* need it here (leave commented out behind the #)\n",
        "# !mkdir -p '/content/gdrive/My Drive/NS499-DataSci-course-materials/'  # Don't change this name! This is where everything gets stored in gdrive, consistent for the semester\n",
        "\n",
        "%cd /content/gdrive/MyDrive/NS499-DataSci-course-materials/     # Change directory to the correct location in gdrive\n",
        "!rm -r materials-sp24-colab                                     # Remove the files that were previously there- we will replace with all the old + new ones for this assignment\n",
        "\n",
        "# These lines clone (copy) all the files you will need from where I store the code+data for the course (github)\n",
        "# Second part of the code copies the files to this location and folder in your own gdrive\n",
        "!git clone https://github.com/tmckim/materials-sp24-colab '/content/gdrive/My Drive/NS499-DataSci-course-materials/materials-sp24-colab/'\n",
        "\n",
        "# This installs the autograder, the system that helps you check your answers - more on this later\n",
        "%pip install otter-grader==4.3.4\n",
        "\n",
        "# Change directory (cd) into the folder where the resources for this hw are stored in gdrive\n",
        "%cd /content/gdrive/MyDrive/NS499-DataSci-course-materials/materials-sp24-colab/hw/hw02/\n",
        "\n",
        "# Initialize Otter\n",
        "import otter\n",
        "grader = otter.Notebook(colab=True)"
      ]
    },
    {
      "cell_type": "markdown",
      "id": "QeUBUOaZusFS",
      "metadata": {
        "id": "QeUBUOaZusFS"
      },
      "source": [
        "# Homework 2: Arrays and Tables\n",
        "\n",
        "Please complete this notebook by filling in the cells provided. Before you begin, execute the previous cell to load the provided tests."
      ]
    },
    {
      "cell_type": "code",
      "execution_count": null,
      "id": "LqLDXFJpusFT",
      "metadata": {
        "id": "LqLDXFJpusFT"
      },
      "outputs": [],
      "source": [
        "# Run this cell and ignore the output. It is checking to see if you ran the first cell!\n",
        "# If you get a NameError, please run the cell at the very TOP of this notebook!\n",
        "\n",
        "grader"
      ]
    },
    {
      "cell_type": "markdown",
      "id": "WqsMoCeWusFT",
      "metadata": {
        "id": "WqsMoCeWusFT"
      },
      "source": [
        "**Helpful Resource:**\n",
        "- [Python Reference](http://data8.org/sp22/python-reference.html): Cheat sheet of helpful array & table methods used in Data 8!\n",
        "\n",
        "**Recommended Readings:**\n",
        "- [Arrays](https://inferentialthinking.com/chapters/05/1/Arrays.html)\n",
        "- [What is Data Science?](http://www.inferentialthinking.com/chapters/01/what-is-data-science.html)\n",
        "- [Causality and Experiments](http://www.inferentialthinking.com/chapters/02/causality-and-experiments.html)\n",
        "- [Programming in Python](http://www.inferentialthinking.com/chapters/03/programming-in-python.html)\n",
        "\n",
        "For all problems that you must write explanations and sentences for, you **must** provide your answer in the designated space. Moreover, throughout this homework and all future ones, **please be sure to not re-assign variables throughout the notebook!** For example, if you use `max_temperature` in your answer to one question, do not reassign it later on. Otherwise, you will fail tests that you thought you were passing previously!\n",
        "\n",
        "\n",
        "**Note: This homework has hidden tests on it. That means even though tests may say 100% passed, it doesn't mean your final grade will be 100%. I will be running more tests for correctness once everyone turns in the homework.**\n",
        "\n",
        "Directly sharing answers is not okay, but discussing problems with the instructor or with other students is encouraged. Refer to the syllabus page on WebCampuns to learn more about how to learn cooperatively.\n",
        "\n",
        "You should start early so that you have time to get help if you're stuck."
      ]
    },
    {
      "cell_type": "markdown",
      "id": "wCqSQ5XCusFT",
      "metadata": {
        "id": "wCqSQ5XCusFT"
      },
      "source": [
        "## 1. Creating Arrays"
      ]
    },
    {
      "cell_type": "code",
      "execution_count": null,
      "id": "9FqiqWSzusFU",
      "metadata": {
        "id": "9FqiqWSzusFU"
      },
      "outputs": [],
      "source": [
        "# Import packages and other things needed\n",
        "# Don't change this cell; Just run this cell\n",
        "# If you restart colab, make sure to run this cell again after the first one above^\n",
        "\n",
        "import numpy as np\n",
        "from datascience import *\n",
        "import d8error\n",
        "import warnings\n",
        "warnings.simplefilter('ignore', FutureWarning)"
      ]
    },
    {
      "cell_type": "markdown",
      "id": "bHmoPIvXusFU",
      "metadata": {
        "id": "bHmoPIvXusFU"
      },
      "source": [
        "**Question 1.** Make an array called `weird_numbers` containing the following numbers (in the given order) **(4 Points)**:\n",
        "\n",
        "1. -2\n",
        "2. the floor of 12.6\n",
        "3. 3\n",
        "4. 5 to the power of the ceil of 5.3\n",
        "\n",
        "*Hint:* `floor` and `ceil` are functions in the `math` module. Importing modules is covered in Lab 2!\n",
        "\n",
        "*Note:* Python lists are different/behave differently than NumPy arrays. In this course, we use NumPy arrays, so please make an **array**, not a Python list.\n"
      ]
    },
    {
      "cell_type": "code",
      "execution_count": null,
      "id": "PWfUtTejusFV",
      "metadata": {
        "id": "PWfUtTejusFV",
        "tags": []
      },
      "outputs": [],
      "source": [
        "# Our solution involved one extra line of code before creating\n",
        "# weird_numbers, so you can add your code where you see '...'\n",
        "...\n",
        "weird_numbers = ...\n",
        "weird_numbers"
      ]
    },
    {
      "cell_type": "code",
      "execution_count": null,
      "id": "1kWFcCsCusFV",
      "metadata": {
        "deletable": false,
        "editable": false,
        "id": "1kWFcCsCusFV"
      },
      "outputs": [],
      "source": [
        "grader.check(\"q1_1\")"
      ]
    },
    {
      "cell_type": "markdown",
      "id": "P0Dpv8vEusFV",
      "metadata": {
        "id": "P0Dpv8vEusFV"
      },
      "source": [
        "**Question 2.** Make an array called `book_title_words` containing the following three strings: \"Eats\", \"Shoots\", and \"and Leaves\". **(4 Points)**\n"
      ]
    },
    {
      "cell_type": "code",
      "execution_count": null,
      "id": "a4j7vi61usFV",
      "metadata": {
        "id": "a4j7vi61usFV",
        "tags": []
      },
      "outputs": [],
      "source": [
        "book_title_words = ...\n",
        "book_title_words"
      ]
    },
    {
      "cell_type": "code",
      "execution_count": null,
      "id": "0tBI1t45usFV",
      "metadata": {
        "deletable": false,
        "editable": false,
        "id": "0tBI1t45usFV"
      },
      "outputs": [],
      "source": [
        "grader.check(\"q1_2\")"
      ]
    },
    {
      "cell_type": "markdown",
      "id": "iSnQD6vCusFW",
      "metadata": {
        "id": "iSnQD6vCusFW"
      },
      "source": [
        "Strings have a method called `join`.  `join` takes one argument, an array of strings.  It returns a single string.  Specifically, the value of `a_string.join(an_array)` is a single string that's the [concatenation](https://en.wikipedia.org/wiki/Concatenation) (\"putting together\") of all the strings in `an_array`, **except** `a_string` is inserted in between each string.\n",
        "\n",
        "**Question 3.** Use the array `book_title_words` and the method `join` to make two strings **(4 Points)**:\n",
        "\n",
        "1. \"Eats, Shoots, and Leaves\" (call this one `with_commas`)\n",
        "2. \"Eats Shoots and Leaves\" (call this one `without_commas`)\n",
        "\n",
        "*Hint:* If you're not sure what `join` does, first try just calling, for example, `\"data8\".join(book_title_words)` .\n"
      ]
    },
    {
      "cell_type": "code",
      "execution_count": null,
      "id": "5IYa8gwjusFW",
      "metadata": {
        "id": "5IYa8gwjusFW",
        "tags": []
      },
      "outputs": [],
      "source": [
        "with_commas = ...\n",
        "without_commas = ...\n",
        "\n",
        "# These lines are provided just to print out your answers.\n",
        "print('with_commas:', with_commas)\n",
        "print('without_commas:', without_commas)"
      ]
    },
    {
      "cell_type": "code",
      "execution_count": null,
      "id": "f2uDIAEZusFX",
      "metadata": {
        "deletable": false,
        "editable": false,
        "id": "f2uDIAEZusFX"
      },
      "outputs": [],
      "source": [
        "grader.check(\"q1_3\")"
      ]
    },
    {
      "cell_type": "markdown",
      "id": "sKXbIXkUusFX",
      "metadata": {
        "id": "sKXbIXkUusFX"
      },
      "source": [
        "## 2. Indexing Arrays"
      ]
    },
    {
      "cell_type": "markdown",
      "id": "HvmzL3vLusFX",
      "metadata": {
        "id": "HvmzL3vLusFX"
      },
      "source": [
        "These exercises give you practice accessing individual elements of arrays.  In Python (and in many programming languages), each element is accessed by its *index*; for example, the first element is the element at index 0. Indices must be **integers**.\n",
        "\n",
        "***Note:* If you have previous coding experience, you may be familiar with bracket notation. DO NOT use bracket notation when indexing (i.e. `arr[0]`), as this can yield different data type outputs than what we will be expecting. This can cause you to fail an autograder test.**\n",
        "\n",
        "Be sure to refer to the [Python Reference](http://data8.org/sp22/python-reference.html) on the website if you feel stuck!"
      ]
    },
    {
      "cell_type": "markdown",
      "id": "jMG4tNrLusFY",
      "metadata": {
        "id": "jMG4tNrLusFY"
      },
      "source": [
        "**Question 1.** The cell below creates an array of some numbers.  Set `third_element` to the third element of `some_numbers`. **(4 Points)**\n"
      ]
    },
    {
      "cell_type": "code",
      "execution_count": null,
      "id": "gyZ8slT2usFY",
      "metadata": {
        "id": "gyZ8slT2usFY",
        "tags": []
      },
      "outputs": [],
      "source": [
        "some_numbers = make_array(-1, -3, -6, -10, -15)\n",
        "\n",
        "third_element = ...\n",
        "third_element"
      ]
    },
    {
      "cell_type": "code",
      "execution_count": null,
      "id": "0N89whZRusFY",
      "metadata": {
        "deletable": false,
        "editable": false,
        "id": "0N89whZRusFY"
      },
      "outputs": [],
      "source": [
        "grader.check(\"q2_1\")"
      ]
    },
    {
      "cell_type": "markdown",
      "id": "1cAuJLRGusFY",
      "metadata": {
        "id": "1cAuJLRGusFY"
      },
      "source": [
        "**Question 2.** The next cell creates a table that displays some information about the elements of `some_numbers` and their order.  Run the cell to see the partially-completed table, then fill in the missing information (the cells that say \"Ellipsis\") by assigning `blank_a`, `blank_b`, `blank_c`, and `blank_d` to the correct elements in the table. **(4 Points)**\n",
        "\n",
        "*Hint:* Replace the `...` with strings or numbers. As a reminder, indices should be **integers**.\n"
      ]
    },
    {
      "cell_type": "code",
      "execution_count": null,
      "id": "7OztHiqjusFY",
      "metadata": {
        "for_assignment_type": "student",
        "id": "7OztHiqjusFY",
        "tags": []
      },
      "outputs": [],
      "source": [
        "blank_a = ...\n",
        "blank_b = ...\n",
        "blank_c = ...\n",
        "blank_d = ...\n",
        "elements_of_some_numbers = Table().with_columns(\n",
        "    \"English name for position\", make_array(\"first\", \"second\", blank_a, blank_b, \"fifth\"),\n",
        "    \"Index\",                     make_array(blank_c, 1, 2, blank_d, 4),\n",
        "    \"Element\",                   some_numbers)\n",
        "elements_of_some_numbers"
      ]
    },
    {
      "cell_type": "code",
      "execution_count": null,
      "id": "KAiFLnSVusFY",
      "metadata": {
        "deletable": false,
        "editable": false,
        "id": "KAiFLnSVusFY"
      },
      "outputs": [],
      "source": [
        "grader.check(\"q2_2\")"
      ]
    },
    {
      "cell_type": "markdown",
      "id": "qMOw1AvmusFY",
      "metadata": {
        "id": "qMOw1AvmusFY"
      },
      "source": [
        "**Question 3.** You'll sometimes want to find the **last** element of an array.  Suppose an array has 142 elements.  What is the index of its last element? **(4 Points)**\n"
      ]
    },
    {
      "cell_type": "code",
      "execution_count": null,
      "id": "Tq4hkqjnusFZ",
      "metadata": {
        "id": "Tq4hkqjnusFZ",
        "tags": []
      },
      "outputs": [],
      "source": [
        "index_of_last_element = ..."
      ]
    },
    {
      "cell_type": "code",
      "execution_count": null,
      "id": "v4i6VZWBusFZ",
      "metadata": {
        "deletable": false,
        "editable": false,
        "id": "v4i6VZWBusFZ"
      },
      "outputs": [],
      "source": [
        "grader.check(\"q2_3\")"
      ]
    },
    {
      "cell_type": "markdown",
      "id": "7sRZgNzhusFZ",
      "metadata": {
        "id": "7sRZgNzhusFZ"
      },
      "source": [
        "More often, you don't know the number of elements in an array, its *length*.  (For example, it might be a large dataset you found on the Internet.)  The function `len` takes a single argument, an array, and returns an integer that represents the `len`gth of that array.\n",
        "\n",
        "**Question 4.** The cell below loads an array called `president_birth_years`.  Calling `tbl.column(...)` on a table returns an array of the column specified, in this case the `Birth Year` column of the `president_births` table. The last element in that array is the most recent among the birth years of all the deceased Presidents. Assign that year to `most_recent_birth_year`. **(4 Points)**\n"
      ]
    },
    {
      "cell_type": "code",
      "execution_count": null,
      "id": "mmoraiJpusFZ",
      "metadata": {
        "id": "mmoraiJpusFZ",
        "tags": []
      },
      "outputs": [],
      "source": [
        "president_birth_years = Table.read_table(\"president_births.csv\").column('Birth Year')\n",
        "\n",
        "most_recent_birth_year = ...\n",
        "most_recent_birth_year"
      ]
    },
    {
      "cell_type": "code",
      "execution_count": null,
      "id": "RQlIy3INusFZ",
      "metadata": {
        "deletable": false,
        "editable": false,
        "id": "RQlIy3INusFZ"
      },
      "outputs": [],
      "source": [
        "grader.check(\"q2_4\")"
      ]
    },
    {
      "cell_type": "markdown",
      "id": "tSTgFRbRusFZ",
      "metadata": {
        "id": "tSTgFRbRusFZ"
      },
      "source": [
        "**Question 5.** Finally, assign `min_of_birth_years` to the minimum of the first, sixteenth, and last birth years listed in `president_birth_years`. **(4 Points)**\n"
      ]
    },
    {
      "cell_type": "code",
      "execution_count": null,
      "id": "PVbLvSRCusFZ",
      "metadata": {
        "id": "PVbLvSRCusFZ",
        "tags": []
      },
      "outputs": [],
      "source": [
        "min_of_birth_years = ...\n",
        "min_of_birth_years"
      ]
    },
    {
      "cell_type": "code",
      "execution_count": null,
      "id": "4ouQZcByusFZ",
      "metadata": {
        "deletable": false,
        "editable": false,
        "id": "4ouQZcByusFZ"
      },
      "outputs": [],
      "source": [
        "grader.check(\"q2_5\")"
      ]
    },
    {
      "cell_type": "markdown",
      "id": "WXjQTIYXusFa",
      "metadata": {
        "id": "WXjQTIYXusFa"
      },
      "source": [
        "## 3. Basic Array Arithmetic"
      ]
    },
    {
      "cell_type": "markdown",
      "id": "RIdICQ_CusFa",
      "metadata": {
        "id": "RIdICQ_CusFa"
      },
      "source": [
        "**Question 1.** Multiply the numbers 42, -4224, 424224242, and 250 by 157. Assign each variable below such that `first_product` is assigned to the result of $42 * 157$, `second_product` is assigned to the result of $-4224 * 157$, and so on. **(4 Points)**\n",
        "\n",
        "*Note*: For this question, **don't** use arrays.\n"
      ]
    },
    {
      "cell_type": "code",
      "execution_count": null,
      "id": "dUlGmYSmusFa",
      "metadata": {
        "id": "dUlGmYSmusFa",
        "tags": []
      },
      "outputs": [],
      "source": [
        "first_product = ...\n",
        "second_product = ...\n",
        "third_product = ...\n",
        "fourth_product = ...\n",
        "print(\"First Product:\", first_product)\n",
        "print(\"Second Product:\", second_product)\n",
        "print(\"Third Product:\", third_product)\n",
        "print(\"Fourth Product:\", fourth_product)"
      ]
    },
    {
      "cell_type": "code",
      "execution_count": null,
      "id": "Cpv-JVPTusFa",
      "metadata": {
        "deletable": false,
        "editable": false,
        "id": "Cpv-JVPTusFa"
      },
      "outputs": [],
      "source": [
        "grader.check(\"q3_1\")"
      ]
    },
    {
      "cell_type": "markdown",
      "id": "TrMneqbousFa",
      "metadata": {
        "id": "TrMneqbousFa"
      },
      "source": [
        "**Question 2.** Now, do the same calculation, but using an array called `numbers` and only a single multiplication (`*`) operator.  Store the 4 results in an array named `products`. **(4 Points)**\n"
      ]
    },
    {
      "cell_type": "code",
      "execution_count": null,
      "id": "wN_dVg7rusFb",
      "metadata": {
        "id": "wN_dVg7rusFb",
        "tags": []
      },
      "outputs": [],
      "source": [
        "numbers = ...\n",
        "products = ...\n",
        "products"
      ]
    },
    {
      "cell_type": "code",
      "execution_count": null,
      "id": "hZjFm1EuusFb",
      "metadata": {
        "deletable": false,
        "editable": false,
        "id": "hZjFm1EuusFb"
      },
      "outputs": [],
      "source": [
        "grader.check(\"q3_2\")"
      ]
    },
    {
      "cell_type": "markdown",
      "id": "jEaRdubdusFb",
      "metadata": {
        "id": "jEaRdubdusFb"
      },
      "source": [
        "**Question 3.** Oops, we made a typo!  Instead of 157, we wanted to multiply each number by 1577.  Compute the correct products in the cell below using array arithmetic.  Notice that your job is really easy if you previously defined an array containing the 4 numbers.  **(4 Points)**\n",
        "<br><br>\n",
        "*Hint:* You should use the array of numbers that you defined in the cell above for your answer here!\n"
      ]
    },
    {
      "cell_type": "code",
      "execution_count": null,
      "id": "ik6_V5NwusFb",
      "metadata": {
        "id": "ik6_V5NwusFb",
        "tags": []
      },
      "outputs": [],
      "source": [
        "correct_products = ...\n",
        "correct_products"
      ]
    },
    {
      "cell_type": "code",
      "execution_count": null,
      "id": "hyLZQV5HusFb",
      "metadata": {
        "deletable": false,
        "editable": false,
        "id": "hyLZQV5HusFb"
      },
      "outputs": [],
      "source": [
        "grader.check(\"q3_3\")"
      ]
    },
    {
      "cell_type": "markdown",
      "id": "f9cjfpbiusFc",
      "metadata": {
        "id": "f9cjfpbiusFc"
      },
      "source": [
        "**Question 4.** We've loaded an array of temperatures in the next cell.  Each number is the highest temperature observed on a day at a climate observation station, mostly from the US.  Since they're from the US government agency [NOAA](https://www.noaa.gov/), all the temperatures are in Fahrenheit.\n",
        "\n",
        "Convert all the temperatures to Celsius by first subtracting 32 from them, then multiplying the results by $\\frac{5}{9}$, i.e. $C = (F - 32) * \\frac{5}{9}$. After converting the temperatures to Celsius, make sure to **ROUND** the final result  to the nearest integer using the `np.round` function. **(4 Points)**\n"
      ]
    },
    {
      "cell_type": "code",
      "execution_count": null,
      "id": "pHcsnASJusGH",
      "metadata": {
        "id": "pHcsnASJusGH",
        "tags": []
      },
      "outputs": [],
      "source": [
        "max_temperatures = Table.read_table(\"temperatures.csv\").column(\"Daily Max Temperature\")  #.column is used here to give you an array of numbers from this column in the table\n",
        "\n",
        "celsius_max_temperatures = ...\n",
        "celsius_max_temperatures"
      ]
    },
    {
      "cell_type": "code",
      "execution_count": null,
      "id": "dDSInbnxusGI",
      "metadata": {
        "deletable": false,
        "editable": false,
        "id": "dDSInbnxusGI"
      },
      "outputs": [],
      "source": [
        "grader.check(\"q3_4\")"
      ]
    },
    {
      "cell_type": "markdown",
      "id": "2sJKCtv8usGI",
      "metadata": {
        "id": "2sJKCtv8usGI"
      },
      "source": [
        "**Question 5.** The cell below loads all the *lowest* temperatures from each day (in Fahrenheit).  Compute the daily temperature range for each day. That is, compute the difference between each daily maximum temperature and the corresponding daily minimum temperature.  **Pay attention to the units and give your answer in Celsius!** Make sure **NOT** to round your answer for this question! **(4 Points)**\n",
        "\n",
        "*Note:* Remember that in Question 4, `celsius_max_temperatures` was rounded, so you might not want to use that variable in this question.\n",
        "\n"
      ]
    },
    {
      "cell_type": "code",
      "execution_count": null,
      "id": "kowytlDiusGI",
      "metadata": {
        "id": "kowytlDiusGI",
        "tags": []
      },
      "outputs": [],
      "source": [
        "min_temperatures = Table.read_table(\"temperatures.csv\").column(\"Daily Min Temperature\")\n",
        "\n",
        "celsius_temperature_ranges = ...\n",
        "celsius_temperature_ranges"
      ]
    },
    {
      "cell_type": "code",
      "execution_count": null,
      "id": "WxQRcAuZusGJ",
      "metadata": {
        "deletable": false,
        "editable": false,
        "id": "WxQRcAuZusGJ"
      },
      "outputs": [],
      "source": [
        "grader.check(\"q3_5\")"
      ]
    },
    {
      "cell_type": "markdown",
      "id": "QLaJebuvusGJ",
      "metadata": {
        "id": "QLaJebuvusGJ"
      },
      "source": [
        "## 4. Old Faithful"
      ]
    },
    {
      "cell_type": "markdown",
      "id": "zAh2l_2zusGJ",
      "metadata": {
        "id": "zAh2l_2zusGJ"
      },
      "source": [
        "Old Faithful is a geyser in Yellowstone that erupts every 44 to 125 minutes (according to [Wikipedia](https://en.wikipedia.org/wiki/Old_Faithful)). People are [often told that the geyser erupts every hour](http://yellowstone.net/geysers/old-faithful/), but in fact the waiting time between eruptions is more variable. Let's take a look."
      ]
    },
    {
      "cell_type": "markdown",
      "id": "iok5OZ_cusGJ",
      "metadata": {
        "id": "iok5OZ_cusGJ"
      },
      "source": [
        "**Question 1.** The first line below assigns `waiting_times` to an array of 272 consecutive waiting times between eruptions, taken from a classic 1938 dataset. Assign the names `shortest`, `longest`, and `average` so that the `print` statement is correct. **(4 Points)**\n",
        "<br><br>\n",
        "*Hint:* You should use functions to help you find these values. Refer to the 'Array Functions and Methods' section of the [Python Reference](https://www.data8.org/sp22/python-reference.html)\n"
      ]
    },
    {
      "cell_type": "code",
      "execution_count": null,
      "id": "zVDsEmrpusGK",
      "metadata": {
        "id": "zVDsEmrpusGK",
        "tags": []
      },
      "outputs": [],
      "source": [
        "waiting_times = Table.read_table('old_faithful.csv').column('waiting')\n",
        "\n",
        "shortest = ...\n",
        "longest = ...\n",
        "average = ...\n",
        "\n",
        "print(\"Old Faithful erupts every\", shortest, \"to\", longest, \"minutes and every\", average, \"minutes on average.\")"
      ]
    },
    {
      "cell_type": "code",
      "execution_count": null,
      "id": "EdkONsP0usGK",
      "metadata": {
        "deletable": false,
        "editable": false,
        "id": "EdkONsP0usGK"
      },
      "outputs": [],
      "source": [
        "grader.check(\"q4_1\")"
      ]
    },
    {
      "cell_type": "markdown",
      "id": "4V411-bfusGK",
      "metadata": {
        "id": "4V411-bfusGK"
      },
      "source": [
        "**Question 2.** Assign `biggest_decrease` to the biggest decrease in waiting time between two consecutive eruptions. For example, the third eruption occurred after 74 minutes and the fourth after 62 minutes, so the decrease in waiting time was 74 - 62 = 12 minutes. **(4 Points)**\n",
        "\n",
        "*Hint*: We want to return the absolute value of the biggest decrease.\n",
        "\n",
        "*Note*: `np.diff()` calculates the difference between subsequent values in an array. For example, calling `np.diff()` on the array `make_array(1, 8, 3, 5)` evaluates to `array([8 - 1, 3 - 8, 5 - 3])`, or `array([7, -5, 2])`.\n",
        "\n",
        "<img src= \"array_diff.png\">"
      ]
    },
    {
      "cell_type": "code",
      "execution_count": null,
      "id": "qoYVR5AeusGK",
      "metadata": {
        "id": "qoYVR5AeusGK",
        "tags": []
      },
      "outputs": [],
      "source": [
        "# np.diff() calculates the difference between subsequent values\n",
        "# in a NumPy array.\n",
        "differences = np.diff(waiting_times)\n",
        "biggest_decrease = ...\n",
        "biggest_decrease"
      ]
    },
    {
      "cell_type": "code",
      "execution_count": null,
      "id": "FeESUTlfusGK",
      "metadata": {
        "deletable": false,
        "editable": false,
        "id": "FeESUTlfusGK"
      },
      "outputs": [],
      "source": [
        "grader.check(\"q4_2\")"
      ]
    },
    {
      "cell_type": "markdown",
      "id": "1khHHhouusGL",
      "metadata": {
        "id": "1khHHhouusGL"
      },
      "source": [
        "**Question 3.** The `faithful_with_eruption_nums` table contains two columns: `eruption_number`, which represents the number of that eruption, and `waiting`, which represents the time spent waiting after that eruption. For example, take the first two rows of the table:\n",
        "\n",
        "| eruption number | waiting |\n",
        "|-----------------|---------|\n",
        "| 1               | 79      |\n",
        "| 2               | 54      |\n",
        "\n",
        "We can read this as follows: after the first eruption, we waited 79 minutes for the second eruption. Then, after the second eruption, we waited 54 minutes for the third eruption.\n",
        "\n",
        "Suppose Oscar and Wendy started watching Old Faithful at the start of the first eruption. Assume that they watch until the end of the tenth eruption. For some of that time they will be watching eruptions, and for the rest of the time they will be waiting for Old Faithful to erupt. How many minutes will they spend waiting for eruptions? **(4 Points)**\n",
        "\n",
        "*Hint #1:* One way to approach this problem is to use the `take` or `where` method on the table `faithful_with_eruption_nums`.\n",
        "\n",
        "*Hint #2:* `first_nine_waiting_times` must be an array.\n"
      ]
    },
    {
      "cell_type": "code",
      "execution_count": null,
      "id": "6wrBQETkusGL",
      "metadata": {
        "id": "6wrBQETkusGL",
        "tags": []
      },
      "outputs": [],
      "source": [
        "# The following two lines load in our faithful_with_eruption_nums table\n",
        "faithful = Table.read_table('old_faithful.csv').drop(\"eruptions\")\n",
        "faithful_with_eruption_nums = faithful.with_column(\"eruption number\", np.arange(faithful.num_rows) + 1).select(1, 0)\n",
        "\n",
        "first_nine_waiting_times = ...\n",
        "total_waiting_time_until_tenth = ...\n",
        "total_waiting_time_until_tenth"
      ]
    },
    {
      "cell_type": "code",
      "execution_count": null,
      "id": "b-WsjIgjusGL",
      "metadata": {
        "deletable": false,
        "editable": false,
        "id": "b-WsjIgjusGL"
      },
      "outputs": [],
      "source": [
        "grader.check(\"q4_3\")"
      ]
    },
    {
      "cell_type": "markdown",
      "id": "JAoJRGvPusGM",
      "metadata": {
        "id": "JAoJRGvPusGM"
      },
      "source": [
        "**Question 4.** Let’s imagine your guess for the next waiting time was always just the length of the previous waiting time. If you always guessed the previous waiting time, how big would your error in guessing the waiting times be, on average? **(4 Points)**\n",
        "\n",
        "For example, since the first four waiting times are 79, 54, 74, and 62, the average difference between your guess and the actual time for just the second, third, and fourth eruptions would be $\\frac{|79-54|+ |54-74|+ |74-62|}{3} = 19$.\n"
      ]
    },
    {
      "cell_type": "code",
      "execution_count": null,
      "id": "hUu7bFRbusGN",
      "metadata": {
        "id": "hUu7bFRbusGN",
        "tags": []
      },
      "outputs": [],
      "source": [
        "differences = np.diff(waiting_times)\n",
        "average_error = ...\n",
        "average_error"
      ]
    },
    {
      "cell_type": "code",
      "execution_count": null,
      "id": "C1-An6dQusGO",
      "metadata": {
        "deletable": false,
        "editable": false,
        "id": "C1-An6dQusGO"
      },
      "outputs": [],
      "source": [
        "grader.check(\"q4_4\")"
      ]
    },
    {
      "cell_type": "markdown",
      "id": "WT72uIWousGP",
      "metadata": {
        "id": "WT72uIWousGP"
      },
      "source": [
        "## 5. Tables"
      ]
    },
    {
      "cell_type": "markdown",
      "id": "cwYxEu3MusGQ",
      "metadata": {
        "id": "cwYxEu3MusGQ"
      },
      "source": [
        "**Question 1.** Suppose you have 4 apples, 3 oranges, and 3 pineapples.  (Perhaps you're using Python to solve a high school Algebra problem.)  Create a table that contains this information.  It should have two columns: `fruit name` and `count`.  Assign the new table to the variable `fruits`. **(4 Points)**\n",
        "\n",
        "*Note:* Use lower-case and singular words for the name of each fruit, like `\"apple\"`.\n"
      ]
    },
    {
      "cell_type": "code",
      "execution_count": null,
      "id": "cIevDTX_usGQ",
      "metadata": {
        "id": "cIevDTX_usGQ",
        "tags": []
      },
      "outputs": [],
      "source": [
        "# Our solution uses 1 statement split over 3 lines.\n",
        "fruits = ...\n",
        "        ...\n",
        "        ...\n",
        "fruits"
      ]
    },
    {
      "cell_type": "code",
      "execution_count": null,
      "id": "T45ydp-JusGR",
      "metadata": {
        "deletable": false,
        "editable": false,
        "id": "T45ydp-JusGR"
      },
      "outputs": [],
      "source": [
        "grader.check(\"q5_1\")"
      ]
    },
    {
      "cell_type": "markdown",
      "id": "UEyMcXBnusGS",
      "metadata": {
        "id": "UEyMcXBnusGS"
      },
      "source": [
        "**Question 2.** The file `inventory.csv` contains information about the inventory at a fruit stand.  Each row represents the contents of one box of fruit. Load it as a table named `inventory` using the `Table.read_table()` function. `Table.read_table(...)` takes one argument (data file name in string format) and returns a table. **(4 Points)**\n"
      ]
    },
    {
      "cell_type": "code",
      "execution_count": null,
      "id": "G-5oov-SusGa",
      "metadata": {
        "id": "G-5oov-SusGa",
        "tags": []
      },
      "outputs": [],
      "source": [
        "inventory = ...\n",
        "inventory"
      ]
    },
    {
      "cell_type": "code",
      "execution_count": null,
      "id": "hhBQO_JeusGa",
      "metadata": {
        "deletable": false,
        "editable": false,
        "id": "hhBQO_JeusGa"
      },
      "outputs": [],
      "source": [
        "grader.check(\"q5_2\")"
      ]
    },
    {
      "cell_type": "markdown",
      "id": "FH5MDMUBusGa",
      "metadata": {
        "id": "FH5MDMUBusGa"
      },
      "source": [
        "**Question 3.** Does each box at the fruit stand contain a different fruit? Set `all_different` to `True` if each box contains a different fruit or to `False` if multiple boxes contain the same fruit. **(4 Points)**\n",
        "\n",
        "*Hint:* You don't have to write code to calculate the True/False value for `all_different`. Just look at the `inventory` table and assign `all_different` to either `True` or `False` according to what you can see from the table in answering the question.\n"
      ]
    },
    {
      "cell_type": "code",
      "execution_count": null,
      "id": "oFiD5XQiusGa",
      "metadata": {
        "id": "oFiD5XQiusGa",
        "tags": []
      },
      "outputs": [],
      "source": [
        "all_different = ...\n",
        "all_different"
      ]
    },
    {
      "cell_type": "code",
      "execution_count": null,
      "id": "D-Kq1V_9usGa",
      "metadata": {
        "deletable": false,
        "editable": false,
        "id": "D-Kq1V_9usGa"
      },
      "outputs": [],
      "source": [
        "grader.check(\"q5_3\")"
      ]
    },
    {
      "cell_type": "markdown",
      "id": "x-LaAdPFusGa",
      "metadata": {
        "id": "x-LaAdPFusGa"
      },
      "source": [
        "**Question 4.** The file `sales.csv` contains the number of fruit sold from each box last Saturday.  It has an extra column called `price per fruit ($)` that's the price *per item of fruit* for fruit in that box.  The rows are in the same order as the `inventory` table.  Load these data into a table called `sales`. **(5 Points)**\n"
      ]
    },
    {
      "cell_type": "code",
      "execution_count": null,
      "id": "4vd5hT5_usGc",
      "metadata": {
        "id": "4vd5hT5_usGc",
        "tags": []
      },
      "outputs": [],
      "source": [
        "sales = ...\n",
        "sales"
      ]
    },
    {
      "cell_type": "code",
      "execution_count": null,
      "id": "N0I1mdf2usGf",
      "metadata": {
        "deletable": false,
        "editable": false,
        "id": "N0I1mdf2usGf"
      },
      "outputs": [],
      "source": [
        "grader.check(\"q5_4\")"
      ]
    },
    {
      "cell_type": "markdown",
      "id": "4eYxLqGYusGs",
      "metadata": {
        "id": "4eYxLqGYusGs"
      },
      "source": [
        "**Question 5.** How many fruits did the store sell in total on that day? **(5 Points)**\n"
      ]
    },
    {
      "cell_type": "code",
      "execution_count": null,
      "id": "W4ZiEWodusGu",
      "metadata": {
        "id": "W4ZiEWodusGu",
        "tags": []
      },
      "outputs": [],
      "source": [
        "total_fruits_sold = ...\n",
        "total_fruits_sold"
      ]
    },
    {
      "cell_type": "code",
      "execution_count": null,
      "id": "WFO-4V0ousGv",
      "metadata": {
        "deletable": false,
        "editable": false,
        "id": "WFO-4V0ousGv"
      },
      "outputs": [],
      "source": [
        "grader.check(\"q5_5\")"
      ]
    },
    {
      "cell_type": "markdown",
      "id": "r5YTnD52usGv",
      "metadata": {
        "id": "r5YTnD52usGv"
      },
      "source": [
        "**Question 6.** What was the store's total revenue (the total price of all fruits sold) on that day? **(5 Points)**\n",
        "\n",
        "*Hint:* If you're stuck, think first about how you would compute the total revenue from just the grape sales.\n"
      ]
    },
    {
      "cell_type": "code",
      "execution_count": null,
      "id": "CTpULk2cusG-",
      "metadata": {
        "id": "CTpULk2cusG-",
        "tags": []
      },
      "outputs": [],
      "source": [
        "total_revenue = ...\n",
        "total_revenue"
      ]
    },
    {
      "cell_type": "code",
      "execution_count": null,
      "id": "AW_PGbD7usG_",
      "metadata": {
        "deletable": false,
        "editable": false,
        "id": "AW_PGbD7usG_"
      },
      "outputs": [],
      "source": [
        "grader.check(\"q5_6\")"
      ]
    },
    {
      "cell_type": "markdown",
      "id": "XRaqtzDRusG_",
      "metadata": {
        "id": "XRaqtzDRusG_"
      },
      "source": [
        "**Question 7.** Make a new table called `remaining_inventory`.  It should have the same rows and columns as `inventory`, except that the amount of fruit sold from each box should be subtracted from that box's **original** count, so that the `count` column is **updated to be** the amount of fruit remaining after Saturday. **(5 Points)**\n"
      ]
    },
    {
      "cell_type": "code",
      "execution_count": null,
      "id": "c8Xmoa1YusG_",
      "metadata": {
        "id": "c8Xmoa1YusG_",
        "tags": []
      },
      "outputs": [],
      "source": [
        "remaining_inventory = ...\n",
        "    ...\n",
        "    ...\n",
        "    ...\n",
        "remaining_inventory"
      ]
    },
    {
      "cell_type": "code",
      "execution_count": null,
      "id": "xkrX2i4ZusG_",
      "metadata": {
        "deletable": false,
        "editable": false,
        "id": "xkrX2i4ZusG_"
      },
      "outputs": [],
      "source": [
        "grader.check(\"q5_7\")"
      ]
    },
    {
      "cell_type": "markdown",
      "id": "913dbc2d",
      "metadata": {
        "id": "913dbc2d"
      },
      "source": [
        "## Homework 2 Complete"
      ]
    },
    {
      "cell_type": "markdown",
      "id": "caf61269",
      "metadata": {
        "id": "caf61269"
      },
      "source": [
        "To double-check your work, the cell below will rerun all of the autograder tests.\n"
      ]
    },
    {
      "cell_type": "code",
      "execution_count": null,
      "id": "2efdf32b",
      "metadata": {
        "id": "2efdf32b"
      },
      "outputs": [],
      "source": [
        "# Just run this cell.\n",
        "grader.check_all()"
      ]
    },
    {
      "cell_type": "code",
      "execution_count": null,
      "id": "16f5aa24",
      "metadata": {
        "id": "16f5aa24"
      },
      "outputs": [],
      "source": [
        "# Run this cell for a fun animation and message!\n",
        "\n",
        "from IPython.display import HTML\n",
        "print('Done, time to relax!')\n",
        "HTML('<img src=\"https://media.giphy.com/media/Asl8gq5stFCztHtPBC/giphy.gif\">')"
      ]
    },
    {
      "cell_type": "markdown",
      "id": "stT-aLRlusHA",
      "metadata": {
        "id": "stT-aLRlusHA"
      },
      "source": [
        "### **Important submission steps:**\n",
        "1. Run the tests and verify that they all pass.\n",
        "2. Choose **Save** (and make sure you've already saved a copy in your drive) from the **File** menu.\n",
        "3. You will make sure your notebook file is saved in the following steps.\n",
        "4. You will submit the notebook for this assignment to the corresponding Assignment on the WebCampus (Canvas) course website.\n",
        "\n",
        "**It is your responsibility to make sure your work is saved before following the instructions in the last cell.**"
      ]
    },
    {
      "cell_type": "markdown",
      "id": "n5nbT0d7usHA",
      "metadata": {
        "deletable": false,
        "editable": false,
        "id": "n5nbT0d7usHA"
      },
      "source": [
        "## Submission\n",
        "\n",
        "Make sure you have run all cells in your notebook in order before running the cell below, so that all images/graphs appear in the output.\n",
        "**Please save (or check again) before exporting!**\n",
        "You will save the notebook file (.ipynb):\n",
        "\n",
        "\n",
        "1.   Go to `\"File > Download\"` and choose the **.ipynb format** (first option)\n",
        "  - This will save a copy of the python notebook file- extension .ipynb- in the Downloads folder on your computer (or wherever you have opted to save files)\n",
        "\n",
        "\n",
        "2. If the above option is not available to you, make sure to use ctrl + s on a pc (press both keys at same time, do not include the + sign) or command + s (press both keys at same time, do not include the + sign) for apple devices. Look at the top of the Menu in google colab, and toward the middle, it might say that changes were saved. \n",
        "  * If you want to check that things were saved recently, go to your Google drive (via an online browser or from the app) and check the timestamp for when your notebook was last updated. If it wasn't saved recently, go back to the tab where you have your notebook open and resave.\n",
        "  * The notebook file `\"Copy of hw02.ipynb\"` will be in your google drive under the `\"Colab Notebooks\"` folder. (see info at top for more on where things get saved)"
      ]
    },
    {
      "cell_type": "markdown",
      "id": "yjy-1mI0usHA",
      "metadata": {
        "id": "yjy-1mI0usHA"
      },
      "source": []
    }
  ],
  "metadata": {
    "colab": {
      "provenance": []
    },
    "kernelspec": {
      "display_name": "Python 3.8.5 64-bit",
      "language": "python",
      "name": "python3"
    },
    "language_info": {
      "codemirror_mode": {
        "name": "ipython",
        "version": 3
      },
      "file_extension": ".py",
      "mimetype": "text/x-python",
      "name": "python",
      "nbconvert_exporter": "python",
      "pygments_lexer": "ipython3",
      "version": "3.8.5"
    },
    "vscode": {
      "interpreter": {
        "hash": "aee8b7b246df8f9039afb4144a1f6fd8d2ca17a180786b69acc140d282b71a49"
      }
    }
  },
  "nbformat": 4,
  "nbformat_minor": 5
}
