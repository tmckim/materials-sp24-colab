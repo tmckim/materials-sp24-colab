{
  "cells": [
    {
      "cell_type": "markdown",
      "metadata": {
        "id": "LMeq-VuZMF3G"
      },
      "source": [
        "<a href=\"https://colab.research.google.com/github/tmckim/materials-sp24-colab/blob/main/hw/hw11/hw11.ipynb\" target=\"_parent\"><img src=\"https://colab.research.google.com/assets/colab-badge.svg\" alt=\"Open In Colab\"/></a>"
      ]
    },
    {
      "cell_type": "markdown",
      "metadata": {
        "id": "uwG8xVXAJMT5"
      },
      "source": [
        "# Notebook for Epilepsy Case Study: Investigating Questions of Interest Using the Allen Institute Cell Types Dataset\n",
        "\n",
        "It's time to access the Allen Cell Types Database to do some analysis for Dr. Marsh's research 🧪  . Refer to the Case Study Document (HW09) for details on how this dataset was collected and how to interpret it.\n",
        "\n",
        "This notebook will help us investigate data collected from the [Cell Types](https://celltypes.brain-map.org/) dataset from the Allen Brain Institute.\n"
      ]
    },
    {
      "cell_type": "markdown",
      "metadata": {
        "id": "vaFkATheJFeB"
      },
      "source": [
        "---\n",
        "## Before you start - Save this notebook!\n",
        "\n",
        "When you open a new Colab notebook from the WebCampus (like you hopefully did for this one), you cannot save changes. So it's  best to store the Colab notebook in your personal drive `\"File > Save a copy in drive...\"` **before** you do anything else.\n",
        "\n",
        "The file will open in a new tab in your web browser, and it is automatically named something like: \"**Copy of hw11.ipynb**\". You can rename this to just the title of the assignment \"**hw11.ipynb**\". Make sure you do keep an informative name (like the name of the assignment) so that you know which files to submit back to WebCampus for grading! More instructions on this are at the end of the notebook.\n",
        "\n",
        "\n",
        "**Where does the notebook get saved in Google Drive?**\n",
        "\n",
        "By default, the notebook will be copied to a folder called “Colab Notebooks” at the root (home directory) of your Google Drive. If you use this for other courses or personal code notebooks, I recommend creating a folder for this course and then moving the assignments AFTER you have completed them. <br>\n",
        "\n",
        "I also recommend you give the folder where you save your notebooks^ a different name than the folder we create below that will store the notebook resources you need each time you work through a course notebook. This includes any data files you will need, links to the images that appear in the notebook, and the files associated with the autograder for answer checking.<br>\n",
        "You should select a name other than '**NS499-DataSci-course-materials**'. <br>\n",
        "This folder gets overwritten with each assignment you work on in the course, so you should **NOT** store your notebooks in this folder that we use for course materials! <br><br>For example, you could create a folder called 'NS499-**notebooks**' or something along those lines.\n",
        "\n"
      ]
    },
    {
      "cell_type": "markdown",
      "metadata": {
        "id": "dnc_ifOWI9ti"
      },
      "source": [
        "____\n",
        "# Learning Objectives\n",
        "## At the end of this assignment, you'll be able to:\n",
        "* Apply big data from high-throughput experiments to detect patterns and quantify data 🔎 📈\n",
        "* Apply appropriate statistics to quantitative results 💻\n",
        "* Describe practical considerations of data collection in humans 🖊 💭\n",
        "* Access data from high-throughput experiments on living human brain tissue in the Allen Institue database 🧠 🧬\n",
        "* Interpret basic science data in the context of pre-translational research ⚛ ⚕\n",
        "______"
      ]
    },
    {
      "cell_type": "markdown",
      "metadata": {
        "id": "ouCqGc10ZbFu"
      },
      "source": [
        "# Setup and import files needed"
      ]
    },
    {
      "cell_type": "markdown",
      "metadata": {
        "id": "jH7giKvGNVYQ"
      },
      "source": [
        "### We will now do the setup steps as separate cells to help with issues finding files in google drive/colab. <br> If you restart colab, you must rerun all **6** steps in each of these cells!\n",
        "\n",
        "\n"
      ]
    },
    {
      "cell_type": "code",
      "execution_count": null,
      "metadata": {
        "id": "UrApEi6vO05t"
      },
      "outputs": [],
      "source": [
        "# Step 1\n",
        "# Setup and add files needed to access gdrive\n",
        "from google.colab import drive                                   # these lines mount your gdrive to access the files we import below\n",
        "drive.mount('/content/gdrive', force_remount=True)"
      ]
    },
    {
      "cell_type": "code",
      "execution_count": null,
      "metadata": {
        "id": "jskq9hHvO1Yu"
      },
      "outputs": [],
      "source": [
        "# Step 2\n",
        "# Change directory to the correct location in gdrive (modified way to do this from before)\n",
        "import os\n",
        "os.chdir('/content/gdrive/MyDrive/NS499-DataSci-course-materials/')"
      ]
    },
    {
      "cell_type": "code",
      "execution_count": null,
      "metadata": {
        "id": "dYe8muhqO25N"
      },
      "outputs": [],
      "source": [
        "# Step 3\n",
        "# Remove the files that were previously there- we will replace with all the old + new ones for this assignment\n",
        "!rm -r materials-sp24-colab"
      ]
    },
    {
      "cell_type": "code",
      "execution_count": null,
      "metadata": {
        "id": "4KU7tsk5PRvL"
      },
      "outputs": [],
      "source": [
        "# Step 4\n",
        "# These lines clone (copy) all the files you will need from where I store the code+data for the course (github)\n",
        "# Second part of the code copies the files to this location and folder in your own gdrive\n",
        "!git clone https://github.com/tmckim/materials-sp24-colab '/content/gdrive/My Drive/NS499-DataSci-course-materials/materials-sp24-colab/'"
      ]
    },
    {
      "cell_type": "code",
      "execution_count": null,
      "metadata": {
        "id": "Q1ENnGC3PeCa"
      },
      "outputs": [],
      "source": [
        "# Step 5\n",
        "# Change directory into the folder where the resources for this assignment are stored in gdrive (modified way from before)\n",
        "os.chdir('/content/gdrive/MyDrive/NS499-DataSci-course-materials/materials-sp24-colab/hw/hw11/')"
      ]
    },
    {
      "cell_type": "code",
      "execution_count": null,
      "metadata": {
        "colab": {
          "base_uri": "https://localhost:8080/"
        },
        "id": "y-HTSyQCqmYx",
        "outputId": "5348ac25-f3d2-4f45-bd2a-dd7503166e66"
      },
      "outputs": [
        {
          "name": "stdout",
          "output_type": "stream",
          "text": [
            "Given directory exists\n"
          ]
        }
      ],
      "source": [
        "# Step 6\n",
        "# check if directory already exists; if not, make it\n",
        "# if it already exists, just set it as the savepath\n",
        "if os.path.isdir('/content/gdrive/MyDrive/Colab Notebooks/NS499-hw11-EpilepsyCaseStudy-Figs/'):\n",
        "   print(\"Given directory exists\")\n",
        "else:\n",
        "   print(\"Given directory doesn't exist, making it\")\n",
        "   !mkdir -p '/content/gdrive/MyDrive/Colab Notebooks/NS499-hw11-EpilepsyCaseStudy-Figs/'       # make the folder so it exists\n",
        "\n",
        "\n",
        "save_path = '/content/gdrive/MyDrive/Colab Notebooks/NS499-hw11-EpilepsyCaseStudy-Figs/'       # set the path to save figs later"
      ]
    },
    {
      "cell_type": "markdown",
      "metadata": {
        "id": "4XzotQBeZfOt"
      },
      "source": [
        "---\n",
        "## Import packages needed"
      ]
    },
    {
      "cell_type": "markdown",
      "metadata": {
        "id": "co2_VRS41XcB"
      },
      "source": [
        "For this Colab notebook we will be working with five packages that typically come pre-installed on most versions of Python. They are:\n",
        "\n",
        "- **[numpy](https://numpy.org/doc/stable/user/index.html)**: A library for working with numerical lists, called arrays\n",
        "- **[pandas](https://pandas.pydata.org/docs/user_guide/index.html)**: A library for working with two dimenional lists, called dataframes\n",
        "- **[matplotlib](https://matplotlib.org/stable/tutorials/index)**: A package for plotting, commonly used in tandem with numpy and pandas\n",
        "- **[seaborn](https://seaborn.pydata.org/tutorial.html)**: A package for plotting, commonly used in tandem with pandas\n",
        "- **[scipy](https://docs.scipy.org/doc/scipy/)**: A package for scientific computing (analysis) in python\n",
        "\n",
        "</br><img src=\"https://miro.medium.com/max/765/1*cyXCE-JcBelTyrK-58w6_Q.png\" width=200> <img src=\"https://upload.wikimedia.org/wikipedia/commons/thumb/e/ed/Pandas_logo.svg/1200px-Pandas_logo.svg.png\" width=200> </br><img src=\"https://matplotlib.org/stable/_static/logo_dark.svg\" width=200> <img src=\"https://seaborn.pydata.org/_images/logo-wide-lightbg.svg\" width=200><br>\n",
        "<img src=\"https://miro.medium.com/v2/resize:fit:672/0*ojdu3YHkpKVBMWgP.png\" width=150>\n",
        "</br></br>\n",
        "We can import these libraries (or certain classes/functions from these libraries) into our local runtime using the following code. The nicknames I used (np, plt, np, and sns) are pretty standard nicknames that most Python programmers use, though you could use anything.\n",
        "\n"
      ]
    },
    {
      "cell_type": "code",
      "execution_count": null,
      "metadata": {
        "cellView": "form",
        "colab": {
          "base_uri": "https://localhost:8080/",
          "height": 229
        },
        "id": "jnxohaYsvYR-",
        "outputId": "b7e8605a-2510-447a-cfc8-42d9f594acfc"
      },
      "outputs": [
        {
          "data": {
            "text/html": [
              "<link href=\"https://nbviewer.org/static/build/styles.css\" rel=\"stylesheet\">"
            ],
            "text/plain": [
              "<IPython.core.display.HTML object>"
            ]
          },
          "metadata": {},
          "output_type": "display_data"
        },
        {
          "data": {
            "text/html": [
              "\n",
              "<div style= \"font-size: 20px\"; class=\"alert alert-info\" role=\"alert\">\n",
              "  <h4 class=\"alert-heading\">Task</h4>\n",
              " Make sure our needed packages are installed in our coding environment by running the code below. For example, when you see <code>np</code> in our script, it's actually calling scripts from the <code>numpy</code> package.\n",
              " </div>\n"
            ],
            "text/plain": [
              "<IPython.core.display.HTML object>"
            ]
          },
          "metadata": {},
          "output_type": "display_data"
        }
      ],
      "source": [
        "#@title Task\n",
        "from IPython.display import HTML\n",
        "\n",
        "alert_info = '''\n",
        "<div style= \"font-size: 20px\"; class=\"alert alert-info\" role=\"alert\">\n",
        "  <h4 class=\"alert-heading\">Task</h4>\n",
        " Make sure our needed packages are installed in our coding environment by running the code below. For example, when you see <code>np</code> in our script, it's actually calling scripts from the <code>numpy</code> package.\n",
        " </div>\n",
        "'''\n",
        "\n",
        "display(HTML('<link href=\"https://nbviewer.org/static/build/styles.css\" rel=\"stylesheet\">'))\n",
        "display(HTML(alert_info))"
      ]
    },
    {
      "cell_type": "code",
      "execution_count": null,
      "metadata": {
        "id": "IUXV1xJHkIq8"
      },
      "outputs": [],
      "source": [
        "# Import our plotting package from matplotlib and shorten it to plt\n",
        "import matplotlib.pyplot as plt\n",
        "\n",
        "# Specify that all plots will happen inline & in high resolution\n",
        "%matplotlib inline\n",
        "%config InlineBackend.figure_format = 'retina'\n",
        "\n",
        "# Import pandas for working with databases and shorten it to pd\n",
        "import pandas as pd\n",
        "\n",
        "# Import numpy and shorten it to np\n",
        "import numpy as np\n",
        "\n",
        "# Import stats from scipy and shorten it to stats\n",
        "from scipy import stats\n",
        "\n",
        "# Import plotting package seaborn and shorten to sns\n",
        "import seaborn as sns\n",
        "\n",
        "# Print statement to confirm\n",
        "print('Packages imported!')"
      ]
    },
    {
      "cell_type": "markdown",
      "metadata": {
        "id": "a1pFULo8rRmk"
      },
      "source": [
        "---\n",
        "# Restarting your notebook 📔\n",
        "\n"
      ]
    },
    {
      "cell_type": "markdown",
      "metadata": {
        "id": "a3BEj57rvy7i"
      },
      "source": [
        "If your kernel stops working, or you close your notebook and come back to it: you  need to run the above cells ^^ and also the cell below (load the datafile) to make sure it will work properly.<br>\n",
        "\n",
        "This includes:\n",
        "\n",
        "1.   Setup steps (cells above)\n",
        "2.   Importing packages<br>\n",
        "(cell above)\n",
        "3.   Loading in the data file\n",
        "     * You can start from the beginning again and reload everything <br>\n",
        "     OR <br>\n",
        "     * If you've already completed up to the **Restarting: load organized data** section, you can skip the data cleaning/organizing steps (if you've already completed them) and jump to that section to start analyses."
      ]
    },
    {
      "cell_type": "markdown",
      "metadata": {
        "id": "Kl7_zvnQZuI7"
      },
      "source": [
        "---\n",
        "## Load in the data file ⌛\n",
        "\n",
        "The data was directly downloaded from the Allen Institute website to a csv file. It was copied to your google drive folder upon import at the beginning. This way we can easily import the data we want to work with."
      ]
    },
    {
      "cell_type": "code",
      "execution_count": null,
      "metadata": {
        "cellView": "form",
        "colab": {
          "base_uri": "https://localhost:8080/",
          "height": 229
        },
        "id": "u6ihsV65pvHC",
        "outputId": "49804fff-8e6e-4211-8796-8a2393060bf1"
      },
      "outputs": [
        {
          "data": {
            "text/html": [
              "<link href=\"https://nbviewer.org/static/build/styles.css\" rel=\"stylesheet\">"
            ],
            "text/plain": [
              "<IPython.core.display.HTML object>"
            ]
          },
          "metadata": {},
          "output_type": "display_data"
        },
        {
          "data": {
            "text/html": [
              "\n",
              "<div style= \"font-size: 20px\"; class=\"alert alert-info\" role=\"alert\">\n",
              "  <h4 class=\"alert-heading\">Task</h4>\n",
              "Run the cell below to import the data using the <code>pandas</code> package (which we shortened to <code>pd</code> when we imported it).\n",
              "</div>\n"
            ],
            "text/plain": [
              "<IPython.core.display.HTML object>"
            ]
          },
          "metadata": {},
          "output_type": "display_data"
        }
      ],
      "source": [
        "#@title Task\n",
        "from IPython.display import HTML\n",
        "\n",
        "alert_info = '''\n",
        "<div style= \"font-size: 20px\"; class=\"alert alert-info\" role=\"alert\">\n",
        "  <h4 class=\"alert-heading\">Task</h4>\n",
        "Run the cell below to import the data using the <code>pandas</code> package (which we shortened to <code>pd</code> when we imported it).\n",
        "</div>\n",
        "'''\n",
        "\n",
        "display(HTML('<link href=\"https://nbviewer.org/static/build/styles.css\" rel=\"stylesheet\">'))\n",
        "display(HTML(alert_info))"
      ]
    },
    {
      "cell_type": "code",
      "execution_count": null,
      "metadata": {
        "id": "EKNbbgpfIh0g"
      },
      "outputs": [],
      "source": [
        "## Import file\n",
        "all_data = pd.read_csv('Allen_celltypes_specimen_alldata_downloaded_11102023.csv')\n",
        "print('data imported!')"
      ]
    },
    {
      "cell_type": "markdown",
      "metadata": {
        "id": "CZyKdn1Kr_Hq"
      },
      "source": [
        "---\n",
        "## Viewing the Data 👀"
      ]
    },
    {
      "cell_type": "markdown",
      "metadata": {
        "id": "slrz_cwyRT5Q"
      },
      "source": [
        "Notice that when you write an assignment statement like the one above, python doesn't automatically print anything out or show you the dataset in this case."
      ]
    },
    {
      "cell_type": "code",
      "execution_count": null,
      "metadata": {
        "cellView": "form",
        "colab": {
          "base_uri": "https://localhost:8080/",
          "height": 200
        },
        "id": "M373mQuohH-_",
        "outputId": "fab0a07c-d485-47bb-d694-57cf141ed3bb"
      },
      "outputs": [
        {
          "data": {
            "text/html": [
              "<link href=\"https://nbviewer.org/static/build/styles.css\" rel=\"stylesheet\">"
            ],
            "text/plain": [
              "<IPython.core.display.HTML object>"
            ]
          },
          "metadata": {},
          "output_type": "display_data"
        },
        {
          "data": {
            "text/html": [
              "\n",
              "<div style= \"font-size: 20px\"; class=\"alert alert-info\" role=\"alert\">\n",
              "  <h4 class=\"alert-heading\">Task</h4>\n",
              "To show the data, run the cell below where we have typed out the name of the variable that contains our dataset.\n",
              "</div>\n"
            ],
            "text/plain": [
              "<IPython.core.display.HTML object>"
            ]
          },
          "metadata": {},
          "output_type": "display_data"
        }
      ],
      "source": [
        "#@title Task\n",
        "from IPython.display import HTML\n",
        "\n",
        "alert_info = '''\n",
        "<div style= \"font-size: 20px\"; class=\"alert alert-info\" role=\"alert\">\n",
        "  <h4 class=\"alert-heading\">Task</h4>\n",
        "To show the data, run the cell below where we have typed out the name of the variable that contains our dataset.\n",
        "</div>\n",
        "'''\n",
        "\n",
        "display(HTML('<link href=\"https://nbviewer.org/static/build/styles.css\" rel=\"stylesheet\">'))\n",
        "display(HTML(alert_info))"
      ]
    },
    {
      "cell_type": "code",
      "execution_count": null,
      "metadata": {
        "id": "t1O0MRCkRiRm"
      },
      "outputs": [],
      "source": [
        "# Show the dataset\n",
        "all_data"
      ]
    },
    {
      "cell_type": "markdown",
      "metadata": {
        "id": "zBm7Af3zI2Ox"
      },
      "source": [
        "### DataFrames"
      ]
    },
    {
      "cell_type": "markdown",
      "metadata": {
        "id": "Rwupbv34Rubq"
      },
      "source": [
        "The dataset above looks like it is in a format you may be familiar with, a table. However, we used the package `pandas` to import our data, so it is actually in a format called a `dataframe`. This is a fancy name for a table that allows you to flexibly work with large amounts of data."
      ]
    },
    {
      "cell_type": "markdown",
      "metadata": {
        "id": "lwSLrMH6JTTq"
      },
      "source": [
        "### DataFrame Index"
      ]
    },
    {
      "cell_type": "markdown",
      "metadata": {
        "id": "Wmpuv3LPTMHh"
      },
      "source": [
        "Notice how there is an extra column of numbers in the DataFrame that results. This first column contains numbers that are called the index of a DataFrame, and are useful if you need to select different rows from that data that you might be interested in. <br>\n",
        "\n",
        "More info can be found here on the [index](https://pandas.pydata.org/docs/reference/api/pandas.DataFrame.index.html) and [dataframes](https://pandas.pydata.org/docs/reference/api/pandas.DataFrame.html)"
      ]
    },
    {
      "cell_type": "markdown",
      "metadata": {
        "id": "xfjh91AdJf84"
      },
      "source": [
        "### DataFrames versus Series"
      ]
    },
    {
      "cell_type": "markdown",
      "metadata": {
        "id": "iUTJ9dtUTUzR"
      },
      "source": [
        "In `pandas`, we have two types of objects: DataFrames and Series. Series are similar to a DataFrame except there is only one column in a Series. You can think of Series as a single column of a DataFrame. <br><br>\n",
        "We learned about these in Lab10. You can also refer back to there for a refresher.\n",
        "\n",
        "You can learn more about DataFrames and Series with this [documentation](https://pandas.pydata.org/pandas-docs/stable/dsintro.html) as well."
      ]
    },
    {
      "cell_type": "markdown",
      "metadata": {
        "id": "zEokLjDCaM4N"
      },
      "source": [
        "---\n",
        "## Preview the data and columns"
      ]
    },
    {
      "cell_type": "code",
      "execution_count": null,
      "metadata": {
        "cellView": "form",
        "colab": {
          "base_uri": "https://localhost:8080/",
          "height": 200
        },
        "id": "v66zISukhQ6U",
        "outputId": "187ed655-cd67-409f-c576-d7e2626e0ad2"
      },
      "outputs": [
        {
          "data": {
            "text/html": [
              "<link href=\"https://nbviewer.org/static/build/styles.css\" rel=\"stylesheet\">"
            ],
            "text/plain": [
              "<IPython.core.display.HTML object>"
            ]
          },
          "metadata": {},
          "output_type": "display_data"
        },
        {
          "data": {
            "text/html": [
              "\n",
              "<div style= \"font-size: 20px\"; class=\"alert alert-info\" role=\"alert\">\n",
              "  <h4 class=\"alert-heading\">Task</h4>\n",
              "Run the cell below to preview the data.\n",
              "</div>\n"
            ],
            "text/plain": [
              "<IPython.core.display.HTML object>"
            ]
          },
          "metadata": {},
          "output_type": "display_data"
        }
      ],
      "source": [
        "#@title Task\n",
        "from IPython.display import HTML\n",
        "\n",
        "alert_info = '''\n",
        "<div style= \"font-size: 20px\"; class=\"alert alert-info\" role=\"alert\">\n",
        "  <h4 class=\"alert-heading\">Task</h4>\n",
        "Run the cell below to preview the data.\n",
        "</div>\n",
        "'''\n",
        "\n",
        "display(HTML('<link href=\"https://nbviewer.org/static/build/styles.css\" rel=\"stylesheet\">'))\n",
        "display(HTML(alert_info))"
      ]
    },
    {
      "cell_type": "code",
      "execution_count": null,
      "metadata": {
        "id": "iocDXwlHTlsg"
      },
      "outputs": [],
      "source": [
        "# Another thing to do when you first look at your new data, is to see what info is there\n",
        "# This is possible with .info() after the name of your data frame like so:\n",
        "print(all_data.info())"
      ]
    },
    {
      "cell_type": "markdown",
      "metadata": {
        "id": "da0dwadUL2Fi"
      },
      "source": [
        "We have 2333 rows (observations) and 54 columns. In the column labeled `Column`, the names of each column are listed and it shows how many non-null values are present, meaning how much data there is. Any difference between this number and the total number of entries (2333 shown at the top) indicates there is missing data. <br>\n",
        "The last column `Dtype` tells us what type of data you have in each column. You can see here that many are numbers and have no decimals (`int`) or have decimal values (`float64`). Note that in `pandas`, strings are labeled as `object` (first entry). <br> <br>\n",
        "We can see that we do have missing data here. Particularly note that the columns that start with `donor__` have the lowest number of values, with only 413 cells to work with 🧑 . The other data in the table comes from a different species and is data from mice 🐭 - there is alot more data available. <br><br>\n",
        "If you go back up and review the table, you will see that missing values are labeled with `NaN`, which stands for `Not a Number`. This is typically a common naming convention to use, and you will see it across datasets."
      ]
    },
    {
      "cell_type": "code",
      "execution_count": null,
      "metadata": {
        "cellView": "form",
        "colab": {
          "base_uri": "https://localhost:8080/",
          "height": 200
        },
        "id": "CVn8y4PZhYWd",
        "outputId": "dbcc456a-5c89-4987-aaa8-4bc8cee4291d"
      },
      "outputs": [
        {
          "data": {
            "text/html": [
              "<link href=\"https://nbviewer.org/static/build/styles.css\" rel=\"stylesheet\">"
            ],
            "text/plain": [
              "<IPython.core.display.HTML object>"
            ]
          },
          "metadata": {},
          "output_type": "display_data"
        },
        {
          "data": {
            "text/html": [
              "\n",
              "<div style= \"font-size: 20px\"; class=\"alert alert-info\" role=\"alert\">\n",
              "  <h4 class=\"alert-heading\">Task</h4>\n",
              "Run the cell below to preview only the column names.\n",
              "</div>\n"
            ],
            "text/plain": [
              "<IPython.core.display.HTML object>"
            ]
          },
          "metadata": {},
          "output_type": "display_data"
        }
      ],
      "source": [
        "#@title Task\n",
        "from IPython.display import HTML\n",
        "\n",
        "alert_info = '''\n",
        "<div style= \"font-size: 20px\"; class=\"alert alert-info\" role=\"alert\">\n",
        "  <h4 class=\"alert-heading\">Task</h4>\n",
        "Run the cell below to preview only the column names.\n",
        "</div>\n",
        "'''\n",
        "\n",
        "display(HTML('<link href=\"https://nbviewer.org/static/build/styles.css\" rel=\"stylesheet\">'))\n",
        "display(HTML(alert_info))"
      ]
    },
    {
      "cell_type": "code",
      "execution_count": null,
      "metadata": {
        "id": "ikx5hJ_YJcYm"
      },
      "outputs": [],
      "source": [
        "# Let's take a peek at column names\n",
        "list(all_data)                # if you want a nicely aligned column in the order the cols appear in dataframe"
      ]
    },
    {
      "cell_type": "code",
      "execution_count": null,
      "metadata": {
        "id": "-RiR3os2pm4z"
      },
      "outputs": [],
      "source": [
        " # np.sort(list(all_data))     # uncomment this line if you want to see them sorted alphabetically instead"
      ]
    },
    {
      "cell_type": "markdown",
      "metadata": {
        "id": "SSK1iZ_h-s_d"
      },
      "source": [
        "---\n",
        "# Available data includes:\n",
        "*   The `line_name` indicates the cell types that were labeled with Cre-recombinase (genetic manipulation, only in mice)\n",
        "*   The `specimen_id` which is a unique identifier (note that an individual can contribute multiple cells; if that's the case, the same `specimen_id` is different across rows, but `donor__id` is the same)\n",
        "*   The `specimen_name` is a unique identifier\n",
        "    * human cells start with 'H'\n",
        "    * each id is unique, but `donor__id` is the same\n",
        "*   The `specimen_hemisphere` indicates whether the sample is from the right or left side of the brain\n",
        "*   The `structure_id` is a unique number for the brain structure\n",
        "*   The `structure_name` is a string containing the full name of the brain region\n",
        "*  The `structure_acronym` is a text abbreviation for the brain region\n",
        "*  The `structure_parent_id` is a more general number that codes the overall brain region (not layer specific)\n",
        "*  The `structure_parent_acronym` is a text abbreviation without cortical layer info\n",
        "*  The `structure_layer` indicates the cortical layer of the brain\n",
        "\n",
        "### Morphological features\n",
        "*  The `nr__max_euclidean_distance` is the max euclidean distance of a branch and its path length (mircometers)\n",
        "*  The `nr__number_stems` is the number of processes attached to the soma\n",
        "*  The `nr__number_bifurcations` is the number of points where a process splits into two daughter processes\n",
        "*  The `nr__average_contraction` is the average ratio between Euclidean distance of a branch and its path length\n",
        "*  The `nr__average_parent_daughter_ratio` is the average ratio between the diameter of a daughter branch and its parent branch\n",
        "*  The `nr__reconstruction_type` indicates full or dendrite only, if applicable (empty if N/A)\n",
        "*  The `nrwkf_id` is an id for something, unclear based on documentation\n",
        "*  The `erwkf_id` is an id for something, unclear based on documentation\n",
        "\n",
        "### Electrophysiological features (ef)\n",
        "\n",
        "*  The `ef__fast_trough_v_long_square` is the minimum value of the membrane potential in the interval lasting 5 ms after the peak\n",
        "*  The `ef__upstroke_downstroke_ratio_long_square` is the ratio between the absolute values of the action potential peak upstroke and the action potential peak downstroke\n",
        "*  The `ef__adaptation` is the rate at which firing speeds up or slows down during a stimulus\n",
        "*  The `ef__f_i_curve_slope` is the slope of the curve between firing rate (f) and current injected (i)\n",
        "*  The `ef__threshold_i_long_square` is the  current (pA) to elicit an action potential (threshold) when 1 s long square current injected\n",
        "*  The `ef__tau` is the time constant of the membrane in milliseconds\n",
        "*  The `ef__avg_isi` is the mean value of all interspike intervals in a sweep\n",
        "*  The `ef__avg_firing_rate` is the average firing rate (spikes/s)\n",
        "*  The `ef__ri` is the input resistance (milliohms)\n",
        "*  The `ef__peak_t_ramp` is the timestamp of the maximum value of the membrane potential during the action potential (i.e. between the action potential's threshold and the time of the next action potential, or the end response) in response to a ramp stimulus\n",
        "*  The `ef__vrest` is the resting membrane potential in mV\n",
        "\n",
        "### Morphological features (even more)\n",
        "*  The `si__height` is a measurement of somesort (unclear based on documentation)\n",
        "*  The `si__width` is a measurement of somesort (unclear based on documentation)\n",
        "*  The `si__path` is a file path to specimen details (unlikely relevant for us)\n",
        "*  The `csl__x` is the 3D compartment position (x) for morphology reconstructions\n",
        "*  The `csl__y` is the 3D compartment position (y) for morphology reconstructions\n",
        "*  The `csl__z` is the 3D compartment position (z) for morphology reconstructions\n",
        "*  The `csl__normalized_depth` is the depth of the cell soma normalized between pia (0) and white matter (1)\n",
        "\n",
        "\n",
        "*  The `cell_reporter_status` is the expression of the reporter (mouse only- positive or negative)\n",
        "*  The `m__glif` indicates there is a generalized leaky integrate-and-fire (glif) model for the cell (number indicates type, 0 indicates none)\n",
        "*  The `m__biophys`indicates the existence of a biophysical model for the cell  (0 indicates none)\n",
        "*  The `m__biophys_perisomatic` indicates the existence of a perisomatic biophysical model for the cell  (0 indicates none)\n",
        "*  The `m__biophys_all_active` indicates the existence of an all-active biophysical model for the cell (0 indicates none)\n",
        "*  The `tag__apical` indicates the extent of apical dendrite preservation (intact or truncated), if applicable (N/A)\n",
        "*  The `tag__dendrite_type` indicates the type of the dendritic spines: spiny, aspiny, or sparsely spiny\n",
        "*  The `morph_thumb_path` is a file path to specimen details (unlikely relevant for us)\n",
        "*  The `ehpys_thumb_path` is a file path to specimen details (unlikely relevant for us)\n",
        "*  The `ephys_inst_thresh_thumb_path`is a file path to specimen details (unlikely relevant for us)\n",
        "\n",
        "### Donor Characteristics\n",
        "*  The `donor__age` is the age in years\n",
        "*  The `donor__sex` indicates biological sex ♂ ♀\n",
        "*  The `donor__disease_state` indicates disease state for human tissue: tumor or epilepsy\n",
        "*  The `donor__race` indicates race/ethnicity of human donor\n",
        "*  The `donor__years_of_seizure_history` indicates the length of seizure history (0 indicates none)\n",
        "*  The `donor__species` indicates the species: mouse (mus musculus) 🐭 or human (homo sapiens) 🧑\n",
        "*  The `donor__id` is a unique ID given to the individual (goes along with `donor__name`)\n",
        "*  The `donor__name` is a unique ID for each individual (shortened name from beginning of `specimen id`)"
      ]
    },
    {
      "cell_type": "markdown",
      "metadata": {
        "id": "Wohud0Vmx9Yl"
      },
      "source": [
        "---\n",
        "# Viewing 😎 all columns in the dataframe"
      ]
    },
    {
      "cell_type": "markdown",
      "metadata": {
        "id": "b7lYkVdMyAzD"
      },
      "source": [
        "You have probably noticed that there are more columns listed above than what was shown to you in the original dataframe. In the output, you will see three ellipses (...) to indicate that columns were skipped in showing you the data to view. If you want to adjust this setting, you can do that with the following formatting code. Whether you want to do this is up to you and personal preference. You can also give it a try and see if you think it makes it harder for you to view the data that you want. If so, there is a cell below that you can run at anytime after you have changed the formatting to reset it back to a collapsed view.<br>\n",
        "\n",
        "Warning ❗If you try to show all rows, the dataset is large and it might take several seconds to display it to you each time. I would recommend only showing all columns instead. <br>\n",
        "\n",
        "If you are interested in more info, the documentation can be found [here](https://pandas.pydata.org/docs/user_guide/options.html)."
      ]
    },
    {
      "cell_type": "code",
      "execution_count": null,
      "metadata": {
        "cellView": "form",
        "colab": {
          "base_uri": "https://localhost:8080/",
          "height": 200
        },
        "id": "jxAW7Hk60TLJ",
        "outputId": "9958b449-81ce-44e0-c09c-194ba1aea2ba"
      },
      "outputs": [
        {
          "data": {
            "text/html": [
              "<link href=\"https://nbviewer.org/static/build/styles.css\" rel=\"stylesheet\">"
            ],
            "text/plain": [
              "<IPython.core.display.HTML object>"
            ]
          },
          "metadata": {},
          "output_type": "display_data"
        },
        {
          "data": {
            "text/html": [
              "\n",
              "<div style= \"font-size: 20px\"; class=\"alert alert-info\" role=\"alert\">\n",
              "  <h4 class=\"alert-heading\">Task</h4>\n",
              "Run the cell below if you want to expand the dataframe and show all columns.\n",
              "</div>\n"
            ],
            "text/plain": [
              "<IPython.core.display.HTML object>"
            ]
          },
          "metadata": {},
          "output_type": "display_data"
        }
      ],
      "source": [
        "#@title Task\n",
        "from IPython.display import HTML\n",
        "\n",
        "alert_info = '''\n",
        "<div style= \"font-size: 20px\"; class=\"alert alert-info\" role=\"alert\">\n",
        "  <h4 class=\"alert-heading\">Task</h4>\n",
        "Run the cell below if you want to expand the dataframe and show all columns.\n",
        "</div>\n",
        "'''\n",
        "\n",
        "display(HTML('<link href=\"https://nbviewer.org/static/build/styles.css\" rel=\"stylesheet\">'))\n",
        "display(HTML(alert_info))"
      ]
    },
    {
      "cell_type": "code",
      "execution_count": null,
      "metadata": {
        "id": "wPkl_700yWbo"
      },
      "outputs": [],
      "source": [
        "### RUN THIS CELL ###\n",
        "# We want to see all the columns/rows in the dataset\n",
        "pd.set_option('display.max_columns', None)\n",
        "\n",
        "# pd.set_option('display.max_rows', None) # feel free to test this out, but it will take several seconds"
      ]
    },
    {
      "cell_type": "code",
      "execution_count": null,
      "metadata": {
        "cellView": "form",
        "colab": {
          "base_uri": "https://localhost:8080/",
          "height": 200
        },
        "id": "Xm7lFe5O0X3V",
        "outputId": "ee952f2d-6930-4ccc-f02d-f8ada7c7a98e"
      },
      "outputs": [
        {
          "data": {
            "text/html": [
              "<link href=\"https://nbviewer.org/static/build/styles.css\" rel=\"stylesheet\">"
            ],
            "text/plain": [
              "<IPython.core.display.HTML object>"
            ]
          },
          "metadata": {},
          "output_type": "display_data"
        },
        {
          "data": {
            "text/html": [
              "\n",
              "<div style= \"font-size: 20px\"; class=\"alert alert-info\" role=\"alert\">\n",
              "  <h4 class=\"alert-heading\">Task</h4>\n",
              "Run the cell below if you want to reset to default options, or change the numbers to whatever you'd like!\n",
              "</div>\n"
            ],
            "text/plain": [
              "<IPython.core.display.HTML object>"
            ]
          },
          "metadata": {},
          "output_type": "display_data"
        }
      ],
      "source": [
        "#@title Task\n",
        "from IPython.display import HTML\n",
        "\n",
        "alert_info = '''\n",
        "<div style= \"font-size: 20px\"; class=\"alert alert-info\" role=\"alert\">\n",
        "  <h4 class=\"alert-heading\">Task</h4>\n",
        "Run the cell below if you want to reset to default options, or change the numbers to whatever you'd like!\n",
        "</div>\n",
        "'''\n",
        "\n",
        "display(HTML('<link href=\"https://nbviewer.org/static/build/styles.css\" rel=\"stylesheet\">'))\n",
        "display(HTML(alert_info))"
      ]
    },
    {
      "cell_type": "code",
      "execution_count": null,
      "metadata": {
        "id": "IVnEfZqxzcI_"
      },
      "outputs": [],
      "source": [
        "### OPTIONAL: RUN THIS CELL ###\n",
        "pd.set_option('display.max_columns', 20) # change this back to 20\n",
        "pd.set_option('display.max_rows', 10) # change this back to 10"
      ]
    },
    {
      "cell_type": "markdown",
      "metadata": {
        "id": "V-vSwstlKQD2"
      },
      "source": [
        "---\n",
        "# Selecting Columns Refresher"
      ]
    },
    {
      "cell_type": "markdown",
      "metadata": {
        "id": "WboDtiY0M07r"
      },
      "source": [
        "We can select a column or multiple columns, based on what information we want from the data. This allows us to pull out information that we want, in case we don't want to look at the data from the entire table. In `pandas` we use indexing with brackets `[]`."
      ]
    },
    {
      "cell_type": "code",
      "execution_count": null,
      "metadata": {
        "cellView": "form",
        "colab": {
          "base_uri": "https://localhost:8080/",
          "height": 200
        },
        "id": "wqp0H3yqhf0d",
        "outputId": "6ef93352-24d6-4eb2-8d62-09f81f66b49d"
      },
      "outputs": [
        {
          "data": {
            "text/html": [
              "<link href=\"https://nbviewer.org/static/build/styles.css\" rel=\"stylesheet\">"
            ],
            "text/plain": [
              "<IPython.core.display.HTML object>"
            ]
          },
          "metadata": {},
          "output_type": "display_data"
        },
        {
          "data": {
            "text/html": [
              "\n",
              "<div style= \"font-size: 20px\"; class=\"alert alert-info\" role=\"alert\">\n",
              "  <h4 class=\"alert-heading\">Task</h4>\n",
              "Run the code below to select one column and return a series.\n",
              "</div>\n"
            ],
            "text/plain": [
              "<IPython.core.display.HTML object>"
            ]
          },
          "metadata": {},
          "output_type": "display_data"
        }
      ],
      "source": [
        "#@title Task\n",
        "from IPython.display import HTML\n",
        "\n",
        "alert_info = '''\n",
        "<div style= \"font-size: 20px\"; class=\"alert alert-info\" role=\"alert\">\n",
        "  <h4 class=\"alert-heading\">Task</h4>\n",
        "Run the code below to select one column and return a series.\n",
        "</div>\n",
        "'''\n",
        "\n",
        "display(HTML('<link href=\"https://nbviewer.org/static/build/styles.css\" rel=\"stylesheet\">'))\n",
        "display(HTML(alert_info))"
      ]
    },
    {
      "cell_type": "code",
      "execution_count": null,
      "metadata": {
        "id": "v3v5RctYNEQQ"
      },
      "outputs": [],
      "source": [
        "# select one column - return Series\n",
        "\n",
        "all_data['donor__species']"
      ]
    },
    {
      "cell_type": "code",
      "execution_count": null,
      "metadata": {
        "cellView": "form",
        "colab": {
          "base_uri": "https://localhost:8080/",
          "height": 229
        },
        "id": "g8dogQtthlPL",
        "outputId": "9c93f7d6-8c98-4105-8199-16b344b44965"
      },
      "outputs": [
        {
          "data": {
            "text/html": [
              "<link href=\"https://nbviewer.org/static/build/styles.css\" rel=\"stylesheet\">"
            ],
            "text/plain": [
              "<IPython.core.display.HTML object>"
            ]
          },
          "metadata": {},
          "output_type": "display_data"
        },
        {
          "data": {
            "text/html": [
              "\n",
              "<div style= \"font-size: 20px\"; class=\"alert alert-info\" role=\"alert\">\n",
              "  <h4 class=\"alert-heading\">Task</h4>\n",
              "Run the code below and notice how it is different from above. It does the same thing though by selecting one column and returing it as a series (output is the same).\n",
              "</div>\n"
            ],
            "text/plain": [
              "<IPython.core.display.HTML object>"
            ]
          },
          "metadata": {},
          "output_type": "display_data"
        }
      ],
      "source": [
        "#@title Task\n",
        "from IPython.display import HTML\n",
        "\n",
        "alert_info = '''\n",
        "<div style= \"font-size: 20px\"; class=\"alert alert-info\" role=\"alert\">\n",
        "  <h4 class=\"alert-heading\">Task</h4>\n",
        "Run the code below and notice how it is different from above. It does the same thing though by selecting one column and returing it as a series (output is the same).\n",
        "</div>\n",
        "'''\n",
        "\n",
        "display(HTML('<link href=\"https://nbviewer.org/static/build/styles.css\" rel=\"stylesheet\">'))\n",
        "display(HTML(alert_info))"
      ]
    },
    {
      "cell_type": "code",
      "execution_count": null,
      "metadata": {
        "id": "VdevObDQOlgx"
      },
      "outputs": [],
      "source": [
        "# select one column - return Series\n",
        "\n",
        "all_data.donor__species"
      ]
    },
    {
      "cell_type": "markdown",
      "metadata": {
        "id": "XZd2L0rTPbZZ"
      },
      "source": [
        "Notice that you just got the same output using two different ways to access the column ( `[]` versus `.` indexing). Figuring out when to use it depends on different factors, and we won't go into those today. I encourage you to play around test out the different ways as you like in the notebook.\n",
        "\n",
        "More info can be found on these websites:\n",
        "\n",
        "https://www.dataschool.io/pandas-dot-notation-vs-brackets/ <br>\n",
        "https://www.dunderdata.com/blog/use-the-brackets-to-select-a-single-pandas-dataframe-column-and-not-dot-notation <br>\n",
        "https://pandas.pydata.org/pandas-docs/version/1.0/getting_started/intro_tutorials/03_subset_data.html <br>"
      ]
    },
    {
      "cell_type": "markdown",
      "metadata": {
        "id": "IyuelTq4RgXT"
      },
      "source": [
        "There is also another way to access the data in the columns and return a dataframe."
      ]
    },
    {
      "cell_type": "code",
      "execution_count": null,
      "metadata": {
        "cellView": "form",
        "colab": {
          "base_uri": "https://localhost:8080/",
          "height": 200
        },
        "id": "uH7hVBJOhuBr",
        "outputId": "27faf730-4699-4842-9094-5c47b8d48c36"
      },
      "outputs": [
        {
          "data": {
            "text/html": [
              "<link href=\"https://nbviewer.org/static/build/styles.css\" rel=\"stylesheet\">"
            ],
            "text/plain": [
              "<IPython.core.display.HTML object>"
            ]
          },
          "metadata": {},
          "output_type": "display_data"
        },
        {
          "data": {
            "text/html": [
              "\n",
              "<div style= \"font-size: 20px\"; class=\"alert alert-info\" role=\"alert\">\n",
              "  <h4 class=\"alert-heading\">Task</h4>\n",
              "Run the code below to select one column and return a dataframe.\n",
              "</div>\n"
            ],
            "text/plain": [
              "<IPython.core.display.HTML object>"
            ]
          },
          "metadata": {},
          "output_type": "display_data"
        }
      ],
      "source": [
        "#@title Task\n",
        "from IPython.display import HTML\n",
        "\n",
        "alert_info = '''\n",
        "<div style= \"font-size: 20px\"; class=\"alert alert-info\" role=\"alert\">\n",
        "  <h4 class=\"alert-heading\">Task</h4>\n",
        "Run the code below to select one column and return a dataframe.\n",
        "</div>\n",
        "'''\n",
        "\n",
        "display(HTML('<link href=\"https://nbviewer.org/static/build/styles.css\" rel=\"stylesheet\">'))\n",
        "display(HTML(alert_info))"
      ]
    },
    {
      "cell_type": "code",
      "execution_count": null,
      "metadata": {
        "id": "EJTmLVS0NZR7"
      },
      "outputs": [],
      "source": [
        "# select one column - return DataFrame\n",
        "\n",
        "all_data[['donor__species']]"
      ]
    },
    {
      "cell_type": "code",
      "execution_count": null,
      "metadata": {
        "cellView": "form",
        "colab": {
          "base_uri": "https://localhost:8080/",
          "height": 200
        },
        "id": "ebjXiq2dhzxJ",
        "outputId": "2a769208-d7b9-41d9-bd4d-42d91ae2720a"
      },
      "outputs": [
        {
          "data": {
            "text/html": [
              "<link href=\"https://nbviewer.org/static/build/styles.css\" rel=\"stylesheet\">"
            ],
            "text/plain": [
              "<IPython.core.display.HTML object>"
            ]
          },
          "metadata": {},
          "output_type": "display_data"
        },
        {
          "data": {
            "text/html": [
              "\n",
              "<div style= \"font-size: 20px\"; class=\"alert alert-info\" role=\"alert\">\n",
              "  <h4 class=\"alert-heading\">Task</h4>\n",
              "Run the code below to select multiple columns and return a dataframe.\n",
              "</div>\n"
            ],
            "text/plain": [
              "<IPython.core.display.HTML object>"
            ]
          },
          "metadata": {},
          "output_type": "display_data"
        }
      ],
      "source": [
        "#@title Task\n",
        "from IPython.display import HTML\n",
        "\n",
        "alert_info = '''\n",
        "<div style= \"font-size: 20px\"; class=\"alert alert-info\" role=\"alert\">\n",
        "  <h4 class=\"alert-heading\">Task</h4>\n",
        "Run the code below to select multiple columns and return a dataframe.\n",
        "</div>\n",
        "'''\n",
        "\n",
        "display(HTML('<link href=\"https://nbviewer.org/static/build/styles.css\" rel=\"stylesheet\">'))\n",
        "display(HTML(alert_info))"
      ]
    },
    {
      "cell_type": "code",
      "execution_count": null,
      "metadata": {
        "id": "YasyenBAOX4f"
      },
      "outputs": [],
      "source": [
        "# select multiple columns - return DataFrame\n",
        "\n",
        "all_data[[\"donor__species\", \"donor__age\"]]"
      ]
    },
    {
      "cell_type": "code",
      "execution_count": null,
      "metadata": {
        "cellView": "form",
        "colab": {
          "base_uri": "https://localhost:8080/",
          "height": 229
        },
        "id": "zkRXrRnNh494",
        "outputId": "7c8d9ef8-2d04-4e13-bdac-0a86d7504b6b"
      },
      "outputs": [
        {
          "data": {
            "text/html": [
              "<link href=\"https://nbviewer.org/static/build/styles.css\" rel=\"stylesheet\">"
            ],
            "text/plain": [
              "<IPython.core.display.HTML object>"
            ]
          },
          "metadata": {},
          "output_type": "display_data"
        },
        {
          "data": {
            "text/html": [
              "\n",
              "<div style= \"font-size: 20px\"; class=\"alert alert-info\" role=\"alert\">\n",
              "  <h4 class=\"alert-heading\">Task</h4>\n",
              "If you want to view all columns in your dataframe in <code>pandas</code> you can also use the following method. <br>\n",
              "Run the code below to view all column names.\n",
              "</div>\n"
            ],
            "text/plain": [
              "<IPython.core.display.HTML object>"
            ]
          },
          "metadata": {},
          "output_type": "display_data"
        }
      ],
      "source": [
        "#@title Task\n",
        "from IPython.display import HTML\n",
        "\n",
        "alert_info = '''\n",
        "<div style= \"font-size: 20px\"; class=\"alert alert-info\" role=\"alert\">\n",
        "  <h4 class=\"alert-heading\">Task</h4>\n",
        "If you want to view all columns in your dataframe in <code>pandas</code> you can also use the following method. <br>\n",
        "Run the code below to view all column names.\n",
        "</div>\n",
        "'''\n",
        "\n",
        "display(HTML('<link href=\"https://nbviewer.org/static/build/styles.css\" rel=\"stylesheet\">'))\n",
        "display(HTML(alert_info))"
      ]
    },
    {
      "cell_type": "code",
      "execution_count": null,
      "metadata": {
        "id": "KAM8wtQMSKgp"
      },
      "outputs": [],
      "source": [
        "# viewing all columns\n",
        "all_data.columns"
      ]
    },
    {
      "cell_type": "markdown",
      "metadata": {
        "id": "GfcMhh95es3K"
      },
      "source": [
        "---\n",
        "## Use `unique` to find information in our columns of interest 🔬"
      ]
    },
    {
      "cell_type": "markdown",
      "metadata": {
        "id": "C0mu7ua0fe3s"
      },
      "source": [
        "One way to start examining our data is to see what values appear in the columns. Luckily, we don't have to do this by eye 👀 and scroll the whole way through the table (although I do recommend doing this to get a feel for the data!). <br><br>\n",
        "We can use the function `unique` in `pandas` to help us out. It will return the unique values from the column we specify based on the order of appearance (it does not sort them in any way).<br> <br>\n",
        "\n",
        "Helpful info can be found in the [pandas documentation](https://pandas.pydata.org/docs/reference/api/pandas.unique.html) and [elsewhere](https://favtutor.com/blogs/pandas-unique-values-in-column)."
      ]
    },
    {
      "cell_type": "markdown",
      "metadata": {
        "id": "oDIngKkDShIw"
      },
      "source": [
        "Below, we will first call the name of our dataframe (`all_data`) then reference the column name (`.<insert_column_name_here>`) and finally use `.unique()` to figure out the possible values in our column"
      ]
    },
    {
      "cell_type": "code",
      "execution_count": null,
      "metadata": {
        "cellView": "form",
        "colab": {
          "base_uri": "https://localhost:8080/",
          "height": 286
        },
        "id": "Ul1xMfSyiGWI",
        "outputId": "12964c54-10be-4a3a-8af3-f37df308d3bd"
      },
      "outputs": [
        {
          "data": {
            "text/html": [
              "<link href=\"https://nbviewer.org/static/build/styles.css\" rel=\"stylesheet\">"
            ],
            "text/plain": [
              "<IPython.core.display.HTML object>"
            ]
          },
          "metadata": {},
          "output_type": "display_data"
        },
        {
          "data": {
            "text/html": [
              "\n",
              "<div style= \"font-size: 20px\"; class=\"alert alert-info\" role=\"alert\">\n",
              "  <h4 class=\"alert-heading\">Question 1 (3 points)</h4>\n",
              "Which column do you think has the info about humans versus mouse data? <br>\n",
              "Fill this in the code below where it says <code>&ltinsert_column_name_here&gt</code><br><br>\n",
              "\n",
              "<i>Hint</i>: Look back at the dataframe (table) and check out what values are in each column.\n",
              "</div>\n"
            ],
            "text/plain": [
              "<IPython.core.display.HTML object>"
            ]
          },
          "metadata": {},
          "output_type": "display_data"
        }
      ],
      "source": [
        "#@title Question 1 (3 points)\n",
        "from IPython.display import HTML\n",
        "\n",
        "alert_info = '''\n",
        "<div style= \"font-size: 20px\"; class=\"alert alert-info\" role=\"alert\">\n",
        "  <h4 class=\"alert-heading\">Question 1 (3 points)</h4>\n",
        "Which column do you think has the info about humans versus mouse data? <br>\n",
        "Fill this in the code below where it says <code>&ltinsert_column_name_here&gt</code><br><br>\n",
        "\n",
        "<i>Hint</i>: Look back at the dataframe (table) and check out what values are in each column.\n",
        "</div>\n",
        "'''\n",
        "\n",
        "display(HTML('<link href=\"https://nbviewer.org/static/build/styles.css\" rel=\"stylesheet\">'))\n",
        "display(HTML(alert_info))"
      ]
    },
    {
      "cell_type": "code",
      "execution_count": null,
      "metadata": {
        "id": "5IbdUzXiZnSy"
      },
      "outputs": [],
      "source": [
        "##--- Edit this\n",
        "# Use unique to show the categories and information we need in the next step\n",
        "all_data.<insert_column_name_here>.unique()"
      ]
    },
    {
      "cell_type": "markdown",
      "metadata": {
        "id": "fQcA-WlqTXCd"
      },
      "source": [
        "---\n",
        "## Filtering or Subsetting Data\n",
        "\n",
        "We learned above how to pull out data from an entire column (or columns). Now, we want to pull out data from rows (across multiple columns) that meets a certain condition. The logic is similar, but we need to add a bit more to our code.<br> <br>\n",
        "Remember that our data is similar within a column, but each row contains a mix of data across the columns. For example, some values are text (strings) and some are numbers. <br><br>\n",
        "To filter a DataFrame based on the contents by rows in `pandas`, we need to use boolean (`True` or `False`) expressions in order to select the rows we want to keep. Conditional expressions (`>`,`<`, `==`, `!=`, `<=`, ...) enable us to test whether our conditions of interest would evaluate to `True` or `False`. Typically, we want to keep data in our rows that meets a certain criteria (`True`). Let's walk through an example."
      ]
    },
    {
      "cell_type": "markdown",
      "metadata": {
        "id": "caNZ0PXe-IqR"
      },
      "source": [
        "We want to find only the human data, and our dataset has both data from mice 🐭 and humans 🧑 . So to pull out only human data, we need to find a column that will allow us to identify which species we are working with. We actually did that above when we used `unique`. So we will use the same column, but not ask python to help us find the rows where data in that column meets the condition that the data is from a human."
      ]
    },
    {
      "cell_type": "code",
      "execution_count": null,
      "metadata": {
        "cellView": "form",
        "colab": {
          "base_uri": "https://localhost:8080/",
          "height": 200
        },
        "id": "w5nc-JbOifXU",
        "outputId": "c66a0698-a7b0-426b-8286-b3ef5a64b09c"
      },
      "outputs": [
        {
          "data": {
            "text/html": [
              "<link href=\"https://nbviewer.org/static/build/styles.css\" rel=\"stylesheet\">"
            ],
            "text/plain": [
              "<IPython.core.display.HTML object>"
            ]
          },
          "metadata": {},
          "output_type": "display_data"
        },
        {
          "data": {
            "text/html": [
              "\n",
              "<div style= \"font-size: 20px\"; class=\"alert alert-info\" role=\"alert\">\n",
              "  <h4 class=\"alert-heading\">Task</h4>\n",
              "Run the cell below.\n",
              "</div>\n"
            ],
            "text/plain": [
              "<IPython.core.display.HTML object>"
            ]
          },
          "metadata": {},
          "output_type": "display_data"
        }
      ],
      "source": [
        "#@title Task\n",
        "from IPython.display import HTML\n",
        "\n",
        "alert_info = '''\n",
        "<div style= \"font-size: 20px\"; class=\"alert alert-info\" role=\"alert\">\n",
        "  <h4 class=\"alert-heading\">Task</h4>\n",
        "Run the cell below.\n",
        "</div>\n",
        "'''\n",
        "\n",
        "display(HTML('<link href=\"https://nbviewer.org/static/build/styles.css\" rel=\"stylesheet\">'))\n",
        "display(HTML(alert_info))"
      ]
    },
    {
      "cell_type": "code",
      "execution_count": null,
      "metadata": {
        "id": "TejiGuoW-kP8"
      },
      "outputs": [],
      "source": [
        "# Get human data only\n",
        "human_data = all_data['donor__species'] == 'Homo Sapiens'\n",
        "human_data"
      ]
    },
    {
      "cell_type": "markdown",
      "metadata": {
        "id": "0SXYIydp-s1a"
      },
      "source": [
        "We put in the name of our column `donor__species` and asked python to find where this is equal to (`==`) `Homo Sapiens` 🧑 .<br>\n",
        "You can see from the output that sometimes values in this column are `True`, meaning this corresponds to a row that contains human data. If you see `False`, this indicates that the value in the row did *NOT* meet our condition (equal to human), and is thus data from a mouse 🐭 .<br>\n",
        "This is helpful to illustrate the values we would see if we only look at the column we specified `donor__species`."
      ]
    },
    {
      "cell_type": "markdown",
      "metadata": {
        "id": "x1HWJP8N_bJw"
      },
      "source": [
        "We want to take this a step further, because we don't want to work with just one column in our dataset! It's important to see what python is doing and how it interprets the code, since this is an intermediate step in the code we will run below.<br>\n",
        "We want to use the code we've written above but now apply this **filtering across the entire dataset**. So, we want to pull out all rows where data came from humans, and also keep all columns in our dataset. <br><br>\n",
        "To do this, we have to specify that we want to do this filtering in the context of our dataframe `all_data`. The line of code below should reference the dataframe first and then put the code we ran above inside brackets to subset the entire dataset. We will get out only rows with human data 🧑 and also have all of the columns in our dataframe to work with."
      ]
    },
    {
      "cell_type": "code",
      "execution_count": null,
      "metadata": {
        "cellView": "form",
        "colab": {
          "base_uri": "https://localhost:8080/",
          "height": 286
        },
        "id": "HLvIKhoWiwGs",
        "outputId": "fdb4a4e2-ff1a-48cf-d399-0f2f6d9d864e"
      },
      "outputs": [
        {
          "data": {
            "text/html": [
              "<link href=\"https://nbviewer.org/static/build/styles.css\" rel=\"stylesheet\">"
            ],
            "text/plain": [
              "<IPython.core.display.HTML object>"
            ]
          },
          "metadata": {},
          "output_type": "display_data"
        },
        {
          "data": {
            "text/html": [
              "\n",
              "<div style= \"font-size: 20px\"; class=\"alert alert-info\" role=\"alert\">\n",
              "  <h4 class=\"alert-heading\">Question 2 (3 points)</h4>\n",
              "We <b>only want data for humans</b>, so now it's time to subset the dataset like we've been practicing in <code>pandas</code>. <br>\n",
              "Edit the line of code below to reference the dataframe first and then put the code we ran above inside brackets to subset the entire dataset.<br>\n",
              "Notice we have now also renamed the dataframe to indicate it is only <code>human_data</code>. <br>\n",
              "Run the cell below.\n",
              "</div>\n"
            ],
            "text/plain": [
              "<IPython.core.display.HTML object>"
            ]
          },
          "metadata": {},
          "output_type": "display_data"
        }
      ],
      "source": [
        "#@title Question 2 (3 points)\n",
        "from IPython.display import HTML\n",
        "\n",
        "alert_info = '''\n",
        "<div style= \"font-size: 20px\"; class=\"alert alert-info\" role=\"alert\">\n",
        "  <h4 class=\"alert-heading\">Question 2 (3 points)</h4>\n",
        "We <b>only want data for humans</b>, so now it's time to subset the dataset like we've been practicing in <code>pandas</code>. <br>\n",
        "Edit the line of code below to reference the dataframe first and then put the code we ran above inside brackets to subset the entire dataset.<br>\n",
        "Notice we have now also renamed the dataframe to indicate it is only <code>human_data</code>. <br>\n",
        "Run the cell below.\n",
        "</div>\n",
        "'''\n",
        "\n",
        "display(HTML('<link href=\"https://nbviewer.org/static/build/styles.css\" rel=\"stylesheet\">'))\n",
        "display(HTML(alert_info))"
      ]
    },
    {
      "cell_type": "code",
      "execution_count": null,
      "metadata": {
        "id": "VKJwxRGxSDPN"
      },
      "outputs": [],
      "source": [
        "##--- Edit this\n",
        "# Get human data only\n",
        "human_data = ...                  # reference the dataframe first and then put the code we ran above inside brackets to subset the entire dataset\n",
        "human_data"
      ]
    },
    {
      "cell_type": "markdown",
      "metadata": {
        "id": "Bk-vuZvvxj6X"
      },
      "source": [
        "Try to do the above without peeking yet! 🙈 If you are really stuck, the solution is below. You can also check your answer before continuing."
      ]
    },
    {
      "cell_type": "code",
      "execution_count": null,
      "metadata": {
        "cellView": "form",
        "id": "G4o7cocOxjjA"
      },
      "outputs": [],
      "source": [
        "#@title Hidden Code\n",
        "# Get human data only\n",
        "human_data = all_data[all_data['donor__species']== 'Homo Sapiens']\n",
        "human_data"
      ]
    },
    {
      "cell_type": "markdown",
      "metadata": {
        "id": "Tyfkh0tAAoYa"
      },
      "source": [
        "We've created a new dataframe that still has all 54 columns (like the original, `all_data`), but only 413 rows of data that met the condition that it was from a human 🧑 (not a mouse 🐭 )."
      ]
    },
    {
      "cell_type": "markdown",
      "metadata": {
        "id": "H_SSsIrSCEfk"
      },
      "source": [
        "Our original dataframe `all_data` still exists, and you can go back and reference it at any time. It also hasn't changed. This is a way to preserve access to previous data and using renaming as a way to guide yourself to what you have changed (or filtered in our case) from the dataset."
      ]
    },
    {
      "cell_type": "code",
      "execution_count": null,
      "metadata": {
        "cellView": "form",
        "colab": {
          "base_uri": "https://localhost:8080/",
          "height": 229
        },
        "id": "FayiYxITjC0q",
        "outputId": "4f979960-ef7a-44f8-8581-8b6ac1003688"
      },
      "outputs": [
        {
          "data": {
            "text/html": [
              "<link href=\"https://nbviewer.org/static/build/styles.css\" rel=\"stylesheet\">"
            ],
            "text/plain": [
              "<IPython.core.display.HTML object>"
            ]
          },
          "metadata": {},
          "output_type": "display_data"
        },
        {
          "data": {
            "text/html": [
              "\n",
              "<div style= \"font-size: 20px\"; class=\"alert alert-info\" role=\"alert\">\n",
              "  <h4 class=\"alert-heading\">Task</h4>\n",
              "Run the cell below to see that since we re-assigned a subset of the data to <code>human_data</code> dataframe, <br>\n",
              "the original <code>all_data</code> dataframe is still available and hasn't changed.\n",
              "</div>\n"
            ],
            "text/plain": [
              "<IPython.core.display.HTML object>"
            ]
          },
          "metadata": {},
          "output_type": "display_data"
        }
      ],
      "source": [
        "#@title Task\n",
        "from IPython.display import HTML\n",
        "\n",
        "alert_info = '''\n",
        "<div style= \"font-size: 20px\"; class=\"alert alert-info\" role=\"alert\">\n",
        "  <h4 class=\"alert-heading\">Task</h4>\n",
        "Run the cell below to see that since we re-assigned a subset of the data to <code>human_data</code> dataframe, <br>\n",
        "the original <code>all_data</code> dataframe is still available and hasn't changed.\n",
        "</div>\n",
        "'''\n",
        "\n",
        "display(HTML('<link href=\"https://nbviewer.org/static/build/styles.css\" rel=\"stylesheet\">'))\n",
        "display(HTML(alert_info))"
      ]
    },
    {
      "cell_type": "code",
      "execution_count": null,
      "metadata": {
        "id": "aNDYktnzCmbu"
      },
      "outputs": [],
      "source": [
        "# Show the original dataframe\n",
        "all_data"
      ]
    },
    {
      "cell_type": "markdown",
      "metadata": {
        "id": "EqrGeM81AvfQ"
      },
      "source": [
        "---\n",
        "## Remove unecessary columns ❌"
      ]
    },
    {
      "cell_type": "markdown",
      "metadata": {
        "id": "n1mMcJv3aFw_"
      },
      "source": [
        "There are alot of variables here that we don't need. You will also notice that some were specific to mouse 🐭 data, such as `line_name` which is now filled with all NaNs (missing values) for our human 🧑 data. We are going to simplify our dataframe using `.drop` to remove 👋 columns we don't need."
      ]
    },
    {
      "cell_type": "code",
      "execution_count": null,
      "metadata": {
        "cellView": "form",
        "colab": {
          "base_uri": "https://localhost:8080/",
          "height": 200
        },
        "id": "qeh-rXOkjUEQ",
        "outputId": "1615c3d8-3406-4f56-ebdf-ee24ac1639a5"
      },
      "outputs": [
        {
          "data": {
            "text/html": [
              "<link href=\"https://nbviewer.org/static/build/styles.css\" rel=\"stylesheet\">"
            ],
            "text/plain": [
              "<IPython.core.display.HTML object>"
            ]
          },
          "metadata": {},
          "output_type": "display_data"
        },
        {
          "data": {
            "text/html": [
              "\n",
              "<div style= \"font-size: 20px\"; class=\"alert alert-info\" role=\"alert\">\n",
              "  <h4 class=\"alert-heading\">Task</h4>\n",
              "Run the cell below.\n",
              "</div>\n"
            ],
            "text/plain": [
              "<IPython.core.display.HTML object>"
            ]
          },
          "metadata": {},
          "output_type": "display_data"
        }
      ],
      "source": [
        "#@title Task\n",
        "from IPython.display import HTML\n",
        "\n",
        "alert_info = '''\n",
        "<div style= \"font-size: 20px\"; class=\"alert alert-info\" role=\"alert\">\n",
        "  <h4 class=\"alert-heading\">Task</h4>\n",
        "Run the cell below.\n",
        "</div>\n",
        "'''\n",
        "\n",
        "display(HTML('<link href=\"https://nbviewer.org/static/build/styles.css\" rel=\"stylesheet\">'))\n",
        "display(HTML(alert_info))"
      ]
    },
    {
      "cell_type": "code",
      "execution_count": null,
      "metadata": {
        "id": "IJ-xXR3IaL-c"
      },
      "outputs": [],
      "source": [
        "# Drop columns that we don't need\n",
        "human_data = human_data.drop(columns=['line_name', 'structure_parent__acronym', 'nr__max_euclidean_distance',\n",
        "                                     'nr__number_stems','nr__number_bifurcations', 'nr__average_contraction',\n",
        "                                     'nr__average_parent_daughter_ratio', 'nr__reconstruction_type', 'si__height',\n",
        "                                     'si__width', 'si__path', 'csl__x', 'csl__y', 'csl__z','cell_reporter_status',\n",
        "                                     'm__glif', 'm__biophys', 'm__biophys_perisomatic', 'm__biophys_all_active',\n",
        "                                     'morph_thumb_path','ephys_thumb_path', 'ephys_inst_thresh_thumb_path'])"
      ]
    },
    {
      "cell_type": "code",
      "execution_count": null,
      "metadata": {
        "cellView": "form",
        "colab": {
          "base_uri": "https://localhost:8080/",
          "height": 229
        },
        "id": "ELiREZejjYKu",
        "outputId": "3e7fa6e4-636e-484f-d528-b236d4953df8"
      },
      "outputs": [
        {
          "data": {
            "text/html": [
              "<link href=\"https://nbviewer.org/static/build/styles.css\" rel=\"stylesheet\">"
            ],
            "text/plain": [
              "<IPython.core.display.HTML object>"
            ]
          },
          "metadata": {},
          "output_type": "display_data"
        },
        {
          "data": {
            "text/html": [
              "\n",
              "<div style= \"font-size: 20px\"; class=\"alert alert-info\" role=\"alert\">\n",
              "  <h4 class=\"alert-heading\">Task</h4>\n",
              "Run the cell below to check the new dimensions (shape) of our dataset. <br>\n",
              "The numbers displayed indicate: (# rows, # columns)\n",
              "</div>\n"
            ],
            "text/plain": [
              "<IPython.core.display.HTML object>"
            ]
          },
          "metadata": {},
          "output_type": "display_data"
        }
      ],
      "source": [
        "#@title Task\n",
        "from IPython.display import HTML\n",
        "\n",
        "alert_info = '''\n",
        "<div style= \"font-size: 20px\"; class=\"alert alert-info\" role=\"alert\">\n",
        "  <h4 class=\"alert-heading\">Task</h4>\n",
        "Run the cell below to check the new dimensions (shape) of our dataset. <br>\n",
        "The numbers displayed indicate: (# rows, # columns)\n",
        "</div>\n",
        "'''\n",
        "\n",
        "display(HTML('<link href=\"https://nbviewer.org/static/build/styles.css\" rel=\"stylesheet\">'))\n",
        "display(HTML(alert_info))"
      ]
    },
    {
      "cell_type": "code",
      "execution_count": null,
      "metadata": {
        "id": "h22rcmudp1Dv"
      },
      "outputs": [],
      "source": [
        "# Now check the # of columns in our dataset\n",
        "human_data.shape"
      ]
    },
    {
      "cell_type": "markdown",
      "metadata": {
        "id": "_wiMkSs1aSwR"
      },
      "source": [
        "---\n",
        "# Brain regions 🧠 and cells to examine"
      ]
    },
    {
      "cell_type": "markdown",
      "metadata": {
        "id": "60jQd-7WX2Tl"
      },
      "source": [
        "Now that we only have the human data we want to work with, it's time for your tasks from Dr. Marsh. She has assigned you to evalute the properties of neurons in the *temporal lobe*, and determine if they are distinct from properties of other brain regions. <br>\n",
        "We will focus on **3 brain regions** that have the most cells in the dataset for comparison. <br>\n",
        "The three brain regions are: <br>\n",
        "\n",
        "\n",
        "1.   Middle temporal gyrus (MTG) - 309 cells\n",
        "2.   Frontal lobe (FroL) - 23 cells\n",
        "3.   Middle frontal gyrus (MFG) - 26 cells\n",
        "\n",
        "Check out the regions in the atlas [here](https://atlas.brain-map.org/atlas?atlas=138322605#atlas=138322605&plate=102339919&structure=10390&x=40320&y=46976&zoom=-7&resolution=124.49&z=3). You can type the name in to the top left search bar.\n",
        "\n"
      ]
    },
    {
      "cell_type": "markdown",
      "metadata": {
        "id": "Y72QoZAnEHGH"
      },
      "source": [
        "Until now, we don't actually know how many brain regions there are in the dataset (unless you manually counted above 😉). Let's use unique again to find out more information about brain regions in our dataset."
      ]
    },
    {
      "cell_type": "code",
      "execution_count": null,
      "metadata": {
        "cellView": "form",
        "colab": {
          "base_uri": "https://localhost:8080/",
          "height": 257
        },
        "id": "JsudsjYfjiAt",
        "outputId": "e7625389-777a-45fd-dfab-1475d2597aa9"
      },
      "outputs": [
        {
          "data": {
            "text/html": [
              "<link href=\"https://nbviewer.org/static/build/styles.css\" rel=\"stylesheet\">"
            ],
            "text/plain": [
              "<IPython.core.display.HTML object>"
            ]
          },
          "metadata": {},
          "output_type": "display_data"
        },
        {
          "data": {
            "text/html": [
              "\n",
              "<div style= \"font-size: 20px\"; class=\"alert alert-info\" role=\"alert\">\n",
              "  <h4 class=\"alert-heading\">Question 3 (3 points)</h4>\n",
              "Let's see how many brain regions there actually are. Like we did above, we need to find a column name to look at.\n",
              "I suggest looking at the short abbreviated version for simplicity. <br>\n",
              "Fill in the line below where you see <code>&ltinsert_df_name&gt</code> and <code>&ltinsert_brain_area_column_name&gt</code>.\n",
              "</div>\n"
            ],
            "text/plain": [
              "<IPython.core.display.HTML object>"
            ]
          },
          "metadata": {},
          "output_type": "display_data"
        }
      ],
      "source": [
        "#@title Question 3 (3 points)\n",
        "from IPython.display import HTML\n",
        "\n",
        "alert_info = '''\n",
        "<div style= \"font-size: 20px\"; class=\"alert alert-info\" role=\"alert\">\n",
        "  <h4 class=\"alert-heading\">Question 3 (3 points)</h4>\n",
        "Let's see how many brain regions there actually are. Like we did above, we need to find a column name to look at.\n",
        "I suggest looking at the short abbreviated version for simplicity. <br>\n",
        "Fill in the line below where you see <code>&ltinsert_df_name&gt</code> and <code>&ltinsert_brain_area_column_name&gt</code>.\n",
        "</div>\n",
        "'''\n",
        "\n",
        "display(HTML('<link href=\"https://nbviewer.org/static/build/styles.css\" rel=\"stylesheet\">'))\n",
        "display(HTML(alert_info))"
      ]
    },
    {
      "cell_type": "code",
      "execution_count": null,
      "metadata": {
        "id": "CnWfrlZeEn3Z"
      },
      "outputs": [],
      "source": [
        "# if you need to, show the dataframe again here to see the columns OR review the column names with .columns\n",
        "..."
      ]
    },
    {
      "cell_type": "code",
      "execution_count": null,
      "metadata": {
        "id": "NqkFvgtsbIv_"
      },
      "outputs": [],
      "source": [
        "##--- Edit this\n",
        "# Get info on brain regions\n",
        "print('brain regions:', <insert_df_name>.<insert_brain_area_column_name>.unique())"
      ]
    },
    {
      "cell_type": "markdown",
      "metadata": {
        "id": "IuBKqaam0W94"
      },
      "source": [
        "Try to do the above without peeking yet! 🙈 If you are really stuck, the solution is below. You can also check your answer before continuing."
      ]
    },
    {
      "cell_type": "code",
      "execution_count": null,
      "metadata": {
        "cellView": "form",
        "id": "llU4xOlO2wUI"
      },
      "outputs": [],
      "source": [
        "#@title Hidden Code\n",
        "# Get info on brain regions\n",
        "print('brain regions:', human_data.structure__acronym.unique())"
      ]
    },
    {
      "cell_type": "markdown",
      "metadata": {
        "id": "G5_uv2m0E1Vn"
      },
      "source": [
        "We have 9 brain regions. That seems like a decent amount- right? But, we need to also know how many cells there are per region. To make our comparisons later, it's important we have enough cells to compare."
      ]
    },
    {
      "cell_type": "markdown",
      "metadata": {
        "id": "gzv9GbugcIw3"
      },
      "source": [
        "Now let's take a look at the number of cells per brain region. We will use a for loop below to do this. The way this is initialized is more advanced than what we've covered so far in the course, and you aren't expected to know how to set it up this way. Based on what we've learned in class though, you should understand that it is iterating through each structure acronym (so 9 of them) and counting the cells associated with each. Read through the comments to understand what each line of code is doing and check your understanding- these are concepts we've covered.\n",
        "More information on [enumerate](https://docs.python.org/3/library/functions.html#enumerate) if you're interested in how it works."
      ]
    },
    {
      "cell_type": "code",
      "execution_count": null,
      "metadata": {
        "cellView": "form",
        "colab": {
          "base_uri": "https://localhost:8080/",
          "height": 200
        },
        "id": "W0Xj9MEHjxoF",
        "outputId": "f37dae96-223f-448e-d831-2018e76ccbb2"
      },
      "outputs": [
        {
          "data": {
            "text/html": [
              "<link href=\"https://nbviewer.org/static/build/styles.css\" rel=\"stylesheet\">"
            ],
            "text/plain": [
              "<IPython.core.display.HTML object>"
            ]
          },
          "metadata": {},
          "output_type": "display_data"
        },
        {
          "data": {
            "text/html": [
              "\n",
              "<div style= \"font-size: 20px\"; class=\"alert alert-info\" role=\"alert\">\n",
              "  <h4 class=\"alert-heading\">Task</h4>\n",
              "Run the cell below.\n",
              "</div>\n"
            ],
            "text/plain": [
              "<IPython.core.display.HTML object>"
            ]
          },
          "metadata": {},
          "output_type": "display_data"
        }
      ],
      "source": [
        "#@title Task\n",
        "from IPython.display import HTML\n",
        "\n",
        "alert_info = '''\n",
        "<div style= \"font-size: 20px\"; class=\"alert alert-info\" role=\"alert\">\n",
        "  <h4 class=\"alert-heading\">Task</h4>\n",
        "Run the cell below.\n",
        "</div>\n",
        "'''\n",
        "\n",
        "display(HTML('<link href=\"https://nbviewer.org/static/build/styles.css\" rel=\"stylesheet\">'))\n",
        "display(HTML(alert_info))"
      ]
    },
    {
      "cell_type": "code",
      "execution_count": null,
      "metadata": {
        "id": "_-HiYH_LMbya"
      },
      "outputs": [],
      "source": [
        "# For loop to find and print the cell counts for each brain region\n",
        "nums = []                                                                         # This will allow us to do an overall count too\n",
        "\n",
        "for i, structure__acronym in enumerate(human_data.structure__acronym.unique()):   # we go through one-by-one each brain region\n",
        "  brain_data = human_data[human_data.structure__acronym == structure__acronym]    # we find all rows in our dataframe that are for the current brain region in the loop\n",
        "  cell_count = len(brain_data)                                                    # we use `len` (short for length) to get the # of rows of data (each row in dataset is a cell)\n",
        "  nums = np.append(nums, cell_count)                                              # we created an empty array called nums before our loop, and we can add the numbers to it for each brain region\n",
        "  print(f'# of cells in {structure__acronym}: ' + str(cell_count))                # this prints out text to tell us how many cells were counted for each brain region\n",
        "\n",
        "print('Total # of cells in dataset: ' + str(sum(nums)))                           # print the total number of cells as text so we can check it matches rows in dataframe"
      ]
    },
    {
      "cell_type": "markdown",
      "metadata": {
        "id": "9gsKmHkQGAH3"
      },
      "source": [
        "As mentioned above, the **3 brain regions** to work with are the ones with the most cells- **FroL, MTG, and MFG**. We should also double check these are the numbers we thought we had above to start with (give in the background info)."
      ]
    },
    {
      "cell_type": "markdown",
      "metadata": {
        "id": "kC0-wwwDREnD"
      },
      "source": [
        "---\n",
        "# Considering demographics: converting age from string to number"
      ]
    },
    {
      "cell_type": "markdown",
      "metadata": {
        "id": "wM_cAo4gPLF8"
      },
      "source": [
        "It's time do a little bit of data wrangling."
      ]
    },
    {
      "cell_type": "markdown",
      "metadata": {
        "id": "-ahCfzVi7fia"
      },
      "source": [
        "<img src=\"https://i0.wp.com/www.codeastar.com/wp-content/uploads/2017/07/data_wrangler.png?w=968&ssl=1\">\n"
      ]
    },
    {
      "cell_type": "markdown",
      "metadata": {
        "id": "dpiP-OAvPMh-"
      },
      "source": [
        "Image [source](https://www.codeastar.com/data-wrangling/)"
      ]
    },
    {
      "cell_type": "markdown",
      "metadata": {
        "id": "bWqUl__TPVPd"
      },
      "source": [
        "---\n",
        "##  🎶 [What's my age again? ](https://www.youtube.com/watch?v=K7l5ZeVVoCA)🎶\n",
        "Let's review our age variable. Before running the following cell, what would you expect a value like this to be in python? Or, what should be the data `type`? <br>\n",
        "\n",
        "^Click on the link above to listen 🎧 to a throwback song 🎸 if you need some motivation while completing this notebook 😉"
      ]
    },
    {
      "cell_type": "code",
      "execution_count": null,
      "metadata": {
        "cellView": "form",
        "colab": {
          "base_uri": "https://localhost:8080/",
          "height": 200
        },
        "id": "5ojaWhRSj-zz",
        "outputId": "8cc2ade4-acbd-49b5-f1ba-887cfdb2d4f1"
      },
      "outputs": [
        {
          "data": {
            "text/html": [
              "<link href=\"https://nbviewer.org/static/build/styles.css\" rel=\"stylesheet\">"
            ],
            "text/plain": [
              "<IPython.core.display.HTML object>"
            ]
          },
          "metadata": {},
          "output_type": "display_data"
        },
        {
          "data": {
            "text/html": [
              "\n",
              "<div style= \"font-size: 20px\"; class=\"alert alert-info\" role=\"alert\">\n",
              "  <h4 class=\"alert-heading\">Task</h4>\n",
              "Run the cell below\n",
              "</div>\n"
            ],
            "text/plain": [
              "<IPython.core.display.HTML object>"
            ]
          },
          "metadata": {},
          "output_type": "display_data"
        }
      ],
      "source": [
        "#@title Task\n",
        "from IPython.display import HTML\n",
        "\n",
        "alert_info = '''\n",
        "<div style= \"font-size: 20px\"; class=\"alert alert-info\" role=\"alert\">\n",
        "  <h4 class=\"alert-heading\">Task</h4>\n",
        "Run the cell below\n",
        "</div>\n",
        "'''\n",
        "\n",
        "display(HTML('<link href=\"https://nbviewer.org/static/build/styles.css\" rel=\"stylesheet\">'))\n",
        "display(HTML(alert_info))"
      ]
    },
    {
      "cell_type": "code",
      "execution_count": null,
      "metadata": {
        "id": "-YLo9mjnO8LU"
      },
      "outputs": [],
      "source": [
        "# What is age?\n",
        "human_data.donor__age.unique()"
      ]
    },
    {
      "cell_type": "code",
      "execution_count": null,
      "metadata": {
        "cellView": "form",
        "id": "yI9QZB5LGtRo"
      },
      "outputs": [],
      "source": [
        "# @title Code to Show Dtypes\n",
        "human_data.dtypes"
      ]
    },
    {
      "cell_type": "markdown",
      "metadata": {
        "id": "efGZJ7HqPs4r"
      },
      "source": [
        "Hmmmm, interesting. I thought the saying was: \"Age is just a number.\" 🤔 <br>\n",
        "\n",
        "It seems there is more information in each cell than we really need. We need to convert this data into a format that is useable for us to review some descriptive statistics (more on this below)."
      ]
    },
    {
      "cell_type": "markdown",
      "metadata": {
        "id": "ujgV_987QGG5"
      },
      "source": [
        "From the above output, we can see that we have both a number\n",
        "🔟 and text (yrs) 🔠. Actually, this is all considered text (or a string) because you can see single quotes around each value `25 yrs`, etc. If we want to look at average age or do any calculations with this data, we need it to be a number 📊.<br>\n",
        "To start to deal with these values and clean them up 🧹, we will first split the text or strings. <br>"
      ]
    },
    {
      "cell_type": "code",
      "execution_count": null,
      "metadata": {
        "cellView": "form",
        "colab": {
          "base_uri": "https://localhost:8080/",
          "height": 200
        },
        "id": "x3MKP6zgkKtk",
        "outputId": "3130ba55-9147-497f-f9b9-493215407bf0"
      },
      "outputs": [
        {
          "data": {
            "text/html": [
              "<link href=\"https://nbviewer.org/static/build/styles.css\" rel=\"stylesheet\">"
            ],
            "text/plain": [
              "<IPython.core.display.HTML object>"
            ]
          },
          "metadata": {},
          "output_type": "display_data"
        },
        {
          "data": {
            "text/html": [
              "\n",
              "<div style= \"font-size: 20px\"; class=\"alert alert-info\" role=\"alert\">\n",
              "  <h4 class=\"alert-heading\">Task</h4>\n",
              "Run the cell below.\n",
              "</div>\n"
            ],
            "text/plain": [
              "<IPython.core.display.HTML object>"
            ]
          },
          "metadata": {},
          "output_type": "display_data"
        }
      ],
      "source": [
        "#@title Task\n",
        "from IPython.display import HTML\n",
        "\n",
        "alert_info = '''\n",
        "<div style= \"font-size: 20px\"; class=\"alert alert-info\" role=\"alert\">\n",
        "  <h4 class=\"alert-heading\">Task</h4>\n",
        "Run the cell below.\n",
        "</div>\n",
        "'''\n",
        "\n",
        "display(HTML('<link href=\"https://nbviewer.org/static/build/styles.css\" rel=\"stylesheet\">'))\n",
        "display(HTML(alert_info))"
      ]
    },
    {
      "cell_type": "code",
      "execution_count": null,
      "metadata": {
        "id": "RZYEZ_w9TA7d"
      },
      "outputs": [],
      "source": [
        "# Split the string into the 2 components - numbers versus text\n",
        "age = human_data.donor__age.str.split(pat = ' ', expand = True)         # Uses pandas str.split to find the space (pat = ' ') between the text for the # versus yrs\n",
        "age.rename(columns={0:'age', 1:'years'},inplace=True)                   # Setting expand on the above line creates a df with two columns [0 1] and we want to rename them to be informative\n",
        "age                                                                     # Show the final df"
      ]
    },
    {
      "cell_type": "markdown",
      "metadata": {
        "id": "pZKvbmX4QrSl"
      },
      "source": [
        "Remember, we just performed this manipulation on strings (text) 🪄. We will want to work with `age` as a number 🔢. We will convert it to an integer below."
      ]
    },
    {
      "cell_type": "code",
      "execution_count": null,
      "metadata": {
        "cellView": "form",
        "colab": {
          "base_uri": "https://localhost:8080/",
          "height": 200
        },
        "id": "kyiTrprUlEpE",
        "outputId": "b2a27da5-ccf2-478f-f999-8f6108bc6ace"
      },
      "outputs": [
        {
          "data": {
            "text/html": [
              "<link href=\"https://nbviewer.org/static/build/styles.css\" rel=\"stylesheet\">"
            ],
            "text/plain": [
              "<IPython.core.display.HTML object>"
            ]
          },
          "metadata": {},
          "output_type": "display_data"
        },
        {
          "data": {
            "text/html": [
              "\n",
              "<div style= \"font-size: 20px\"; class=\"alert alert-info\" role=\"alert\">\n",
              "  <h4 class=\"alert-heading\">Task</h4>\n",
              "Run the cell below.\n",
              "</div>\n"
            ],
            "text/plain": [
              "<IPython.core.display.HTML object>"
            ]
          },
          "metadata": {},
          "output_type": "display_data"
        }
      ],
      "source": [
        "#@title Task\n",
        "from IPython.display import HTML\n",
        "\n",
        "alert_info = '''\n",
        "<div style= \"font-size: 20px\"; class=\"alert alert-info\" role=\"alert\">\n",
        "  <h4 class=\"alert-heading\">Task</h4>\n",
        "Run the cell below.\n",
        "</div>\n",
        "'''\n",
        "\n",
        "display(HTML('<link href=\"https://nbviewer.org/static/build/styles.css\" rel=\"stylesheet\">'))\n",
        "display(HTML(alert_info))"
      ]
    },
    {
      "cell_type": "code",
      "execution_count": null,
      "metadata": {
        "id": "ECzTw0vMKyaT"
      },
      "outputs": [],
      "source": [
        "# Convert string to a number\n",
        "age['age'] = age['age'].astype(int)             # we want to perform this manipulation on the `age` column of our df\n",
        "age['age']"
      ]
    },
    {
      "cell_type": "markdown",
      "metadata": {
        "id": "W3q0KgsJQ-UQ"
      },
      "source": [
        "You can double check it was successful if you'd like here by also finding `unique` values again. We can see our array does not include quotes around our numbers. ✅"
      ]
    },
    {
      "cell_type": "code",
      "execution_count": null,
      "metadata": {
        "cellView": "form",
        "colab": {
          "base_uri": "https://localhost:8080/",
          "height": 200
        },
        "id": "gtwIkYRKlMKV",
        "outputId": "03937ccc-58c5-48f6-96b2-7d3a6e09ba3e"
      },
      "outputs": [
        {
          "data": {
            "text/html": [
              "<link href=\"https://nbviewer.org/static/build/styles.css\" rel=\"stylesheet\">"
            ],
            "text/plain": [
              "<IPython.core.display.HTML object>"
            ]
          },
          "metadata": {},
          "output_type": "display_data"
        },
        {
          "data": {
            "text/html": [
              "\n",
              "<div style= \"font-size: 20px\"; class=\"alert alert-info\" role=\"alert\">\n",
              "  <h4 class=\"alert-heading\">Task</h4>\n",
              "Run the cell below.\n",
              "</div>\n"
            ],
            "text/plain": [
              "<IPython.core.display.HTML object>"
            ]
          },
          "metadata": {},
          "output_type": "display_data"
        }
      ],
      "source": [
        "#@title Task\n",
        "from IPython.display import HTML\n",
        "\n",
        "alert_info = '''\n",
        "<div style= \"font-size: 20px\"; class=\"alert alert-info\" role=\"alert\">\n",
        "  <h4 class=\"alert-heading\">Task</h4>\n",
        "Run the cell below.\n",
        "</div>\n",
        "'''\n",
        "\n",
        "display(HTML('<link href=\"https://nbviewer.org/static/build/styles.css\" rel=\"stylesheet\">'))\n",
        "display(HTML(alert_info))"
      ]
    },
    {
      "cell_type": "code",
      "execution_count": null,
      "metadata": {
        "id": "a54tW7VzK6aJ"
      },
      "outputs": [],
      "source": [
        "# Check the values and that they are not strings anymore\n",
        "age.age.unique()"
      ]
    },
    {
      "cell_type": "markdown",
      "metadata": {
        "id": "xjmVjbDKRWYB"
      },
      "source": [
        "Now we will add our columns to the original dataframe. We will use `.concat` in `pandas` to do this. <br>\n",
        "It basically sticks the new columns we just made onto the end of our dataframe. <br>"
      ]
    },
    {
      "cell_type": "code",
      "execution_count": null,
      "metadata": {
        "id": "FNY-oqhEJfsu"
      },
      "outputs": [],
      "source": [
        "# Concatenate the original dataframe and our age dataframe\n",
        "human_data = pd.concat([human_data, age],axis = 1)              # add age col to dataframe (axis = 1 tells it that it's a column)\n",
        "human_data"
      ]
    },
    {
      "cell_type": "markdown",
      "metadata": {
        "id": "97A-qpjuR20y"
      },
      "source": [
        "You can see we now have more columns and the values were just added to end of the dataframe. This works in our case because we took the data from our original table in the same order as we've been working with. We didn't sort or manipulate it in any way in between steps, so the values for age should still appropriately match the entry for each participant. This is something to be aware of when working with data  ❗ Below, you will see an example of code that you can use to check and briefly verify that the values do still match up from the original dataframe. 🔎 <br> <br> If you are working with lots of data and doing various manipulations, it's always a good idea to build in checks like these ✅ It helps to ensure you aren't introducing anything you don't want into the data, to prevent errors, and also as a way to write notes to yourself on what you did and why! ⚠ You can save these in intermediate versions of your code and then comment out or remove in the final, polished version if necessary.\n",
        "<br><br>\n"
      ]
    },
    {
      "cell_type": "code",
      "execution_count": null,
      "metadata": {
        "cellView": "form",
        "colab": {
          "base_uri": "https://localhost:8080/",
          "height": 200
        },
        "id": "X1e6VejUl43Q",
        "outputId": "f93443b6-189e-4286-e17c-eea6a9cbaaa0"
      },
      "outputs": [
        {
          "data": {
            "text/html": [
              "<link href=\"https://nbviewer.org/static/build/styles.css\" rel=\"stylesheet\">"
            ],
            "text/plain": [
              "<IPython.core.display.HTML object>"
            ]
          },
          "metadata": {},
          "output_type": "display_data"
        },
        {
          "data": {
            "text/html": [
              "\n",
              "<div style= \"font-size: 20px\"; class=\"alert alert-info\" role=\"alert\">\n",
              "  <h4 class=\"alert-heading\">Task</h4>\n",
              "Run the cell below to double check the data matches up.\n",
              "</div>\n"
            ],
            "text/plain": [
              "<IPython.core.display.HTML object>"
            ]
          },
          "metadata": {},
          "output_type": "display_data"
        }
      ],
      "source": [
        "#@title Task\n",
        "from IPython.display import HTML\n",
        "\n",
        "alert_info = '''\n",
        "<div style= \"font-size: 20px\"; class=\"alert alert-info\" role=\"alert\">\n",
        "  <h4 class=\"alert-heading\">Task</h4>\n",
        "Run the cell below to double check the data matches up.\n",
        "</div>\n",
        "'''\n",
        "\n",
        "display(HTML('<link href=\"https://nbviewer.org/static/build/styles.css\" rel=\"stylesheet\">'))\n",
        "display(HTML(alert_info))"
      ]
    },
    {
      "cell_type": "code",
      "execution_count": null,
      "metadata": {
        "id": "ULhXw9W1JssL"
      },
      "outputs": [],
      "source": [
        "# Double check:\n",
        "# Select two columns from our dataframe side by side to compare by eye\n",
        "compare = human_data[['donor__age', 'age']]                             # donor__age was the original column, our newly added one is age\n",
        "compare"
      ]
    },
    {
      "cell_type": "markdown",
      "metadata": {
        "id": "CH7CjwRPSWs9"
      },
      "source": [
        "Great! We are almost ready to move on to reviewing our data. 👀 <br> But before we get there, we should clean up the dataframe. 🧹 <br><br>\n"
      ]
    },
    {
      "cell_type": "code",
      "execution_count": null,
      "metadata": {
        "cellView": "form",
        "colab": {
          "base_uri": "https://localhost:8080/",
          "height": 314
        },
        "id": "THa3AuwimGC9",
        "outputId": "7a0276be-04f4-4170-b52b-9d1862263d5e"
      },
      "outputs": [
        {
          "data": {
            "text/html": [
              "<link href=\"https://nbviewer.org/static/build/styles.css\" rel=\"stylesheet\">"
            ],
            "text/plain": [
              "<IPython.core.display.HTML object>"
            ]
          },
          "metadata": {},
          "output_type": "display_data"
        },
        {
          "data": {
            "text/html": [
              "\n",
              "<div style= \"font-size: 20px\"; class=\"alert alert-info\" role=\"alert\">\n",
              "  <h4 class=\"alert-heading\">Question 4 (4 points)</h4>\n",
              "Remove the redundant columns now that we've added <code>age</code> as an integer. Drop the original age column (starts with <code>donor__</code>) and the new <code>years</code> column that is just text. <br>\n",
              "Fill in the parts below that start with: <code>&ltinsert_...&gt</code>. <br> <br>\n",
              "<i>Hint:</i> You will need to use <code>axis = 1</code> in your code to specify with <code>pandas</code> that you want to drop the <a href=\"https://pandas.pydata.org/docs/reference/api/pandas.DataFrame.drop.html\"target=\"_blank\">columns</a>.\n",
              "</div>\n"
            ],
            "text/plain": [
              "<IPython.core.display.HTML object>"
            ]
          },
          "metadata": {},
          "output_type": "display_data"
        }
      ],
      "source": [
        "#@title Question 4 (4 points)\n",
        "from IPython.display import HTML\n",
        "\n",
        "alert_info = '''\n",
        "<div style= \"font-size: 20px\"; class=\"alert alert-info\" role=\"alert\">\n",
        "  <h4 class=\"alert-heading\">Question 4 (4 points)</h4>\n",
        "Remove the redundant columns now that we've added <code>age</code> as an integer. Drop the original age column (starts with <code>donor__</code>) and the new <code>years</code> column that is just text. <br>\n",
        "Fill in the parts below that start with: <code>&ltinsert_...&gt</code>. <br> <br>\n",
        "<i>Hint:</i> You will need to use <code>axis = 1</code> in your code to specify with <code>pandas</code> that you want to drop the <a href=\"https://pandas.pydata.org/docs/reference/api/pandas.DataFrame.drop.html\"target=\"_blank\">columns</a>.\n",
        "</div>\n",
        "'''\n",
        "\n",
        "display(HTML('<link href=\"https://nbviewer.org/static/build/styles.css\" rel=\"stylesheet\">'))\n",
        "display(HTML(alert_info))"
      ]
    },
    {
      "cell_type": "code",
      "execution_count": null,
      "metadata": {
        "id": "IKwHI1PgTuaS"
      },
      "outputs": [],
      "source": [
        "##--- Edit this\n",
        "# Remove the extra columns\n",
        "\n",
        "human_data = <insert_df_name>.<insert_method_to_use>(['<insert_col_1_name>', '<insert_col_2_name>'], axis = 1)"
      ]
    },
    {
      "cell_type": "markdown",
      "metadata": {
        "id": "-VpuQiQ1J_3x"
      },
      "source": [
        "We didn't name our new age column the same exact name as it was originally. This allowed us to differentiate it as we manipulated the dataframe and check that it was added properly. Let's now rename 📛 it back to the original name to match the others that start with `donor__`."
      ]
    },
    {
      "cell_type": "markdown",
      "metadata": {
        "id": "164YL5i00bmB"
      },
      "source": [
        "Try to do the above without peeking yet! 🙈 If you are really stuck, the solution is below. You can also check your answer before continuing."
      ]
    },
    {
      "cell_type": "code",
      "execution_count": null,
      "metadata": {
        "cellView": "form",
        "id": "ei5DMVQ77Mcn"
      },
      "outputs": [],
      "source": [
        "#@title Hidden Code\n",
        "# Remove the extra columns\n",
        "human_data = human_data.drop(['donor__age', 'years'], axis = 1)\n",
        "human_data"
      ]
    },
    {
      "cell_type": "code",
      "execution_count": null,
      "metadata": {
        "cellView": "form",
        "colab": {
          "base_uri": "https://localhost:8080/",
          "height": 200
        },
        "id": "I76perHSnRMd",
        "outputId": "f7db5319-9647-415d-de9b-f0af3702d016"
      },
      "outputs": [
        {
          "data": {
            "text/html": [
              "<link href=\"https://nbviewer.org/static/build/styles.css\" rel=\"stylesheet\">"
            ],
            "text/plain": [
              "<IPython.core.display.HTML object>"
            ]
          },
          "metadata": {},
          "output_type": "display_data"
        },
        {
          "data": {
            "text/html": [
              "\n",
              "<div style= \"font-size: 20px\"; class=\"alert alert-info\" role=\"alert\">\n",
              "  <h4 class=\"alert-heading\">Task</h4>\n",
              "Run the cell below to rename the <code>age</code> column.\n",
              "</div>\n"
            ],
            "text/plain": [
              "<IPython.core.display.HTML object>"
            ]
          },
          "metadata": {},
          "output_type": "display_data"
        }
      ],
      "source": [
        "#@title Task\n",
        "from IPython.display import HTML\n",
        "\n",
        "alert_info = '''\n",
        "<div style= \"font-size: 20px\"; class=\"alert alert-info\" role=\"alert\">\n",
        "  <h4 class=\"alert-heading\">Task</h4>\n",
        "Run the cell below to rename the <code>age</code> column.\n",
        "</div>\n",
        "'''\n",
        "\n",
        "display(HTML('<link href=\"https://nbviewer.org/static/build/styles.css\" rel=\"stylesheet\">'))\n",
        "display(HTML(alert_info))"
      ]
    },
    {
      "cell_type": "code",
      "execution_count": null,
      "metadata": {
        "id": "SHtA7q70KYaI"
      },
      "outputs": [],
      "source": [
        "# Relabel age\n",
        "human_data = human_data.rename(columns = {'age': 'donor__age'})          # relabel age to donor__age\n",
        "human_data"
      ]
    },
    {
      "cell_type": "markdown",
      "metadata": {
        "id": "ov61t_va7cja"
      },
      "source": [
        "## If the above section errored for you, no problem. A copy of the cleaned dataset is available to you below so that you can continue. <br>\n",
        "\n",
        "If your code errored on the above section (which happens sometimes), you can just import the adjusted dataset with age in the cell below.\n",
        "\n",
        "**Otherwise, you can skip this cell**"
      ]
    },
    {
      "cell_type": "code",
      "execution_count": null,
      "metadata": {
        "id": "LL5fgI5M8fol"
      },
      "outputs": [],
      "source": [
        "## Import file\n",
        "human_data = pd.read_csv('human_data.csv')\n",
        "human_data"
      ]
    },
    {
      "cell_type": "markdown",
      "metadata": {
        "id": "Yj9E8TBRR2Oa"
      },
      "source": [
        "---\n",
        "## Dictionaries"
      ]
    },
    {
      "cell_type": "markdown",
      "metadata": {
        "id": "aiQJMcLyRYRI"
      },
      "source": [
        "Here we have a new type of data structure that was reviewed in the Lab10 notebook. If you want a refresher, read on, otherwise feel free to skip this extra bit since we won't go into more detail thatn this in this course. <br><br>\n",
        "This is called a dictionary. 📕\n",
        "Dictionaries store data in key:value pairs. Also note that we have a new type of brackets or braces that are curly `{ }`\n",
        "\n",
        "<br>\n",
        "\n",
        "For example, here are key: value pairs: <br>\n",
        "`'Number of petals': [8,34,5]` <br>\n",
        "`'Name': ['lotus','sunflower', 'rose']` <br>\n",
        "The keys 🔑 are the strings for the column names, and the values 🔟 are the data that go in the rows of the table. <br><br>\n",
        "\n",
        "Dictionaries are structures which can contain multiple data types. They contain key-value pairs. For each unique key, the dictionary has one value. Keys can be various data types: strings, numbers, or tuples, while the corresponding values can be any Python object.<br>\n",
        "\n",
        "You cannot access values of the dictionary by the indexes (like you can in lists or arrays). But you can access them by the key. Due to this feature dictionaries don't allow duplicated keys.\n",
        "\n",
        "You can also access just the keys or just the indexes by `.keys()` and `.values()` methods.\n",
        "<br><br>\n",
        "To find out even more, read the Python [documentation](https://docs.python.org/3/tutorial/datastructures.html#dictionaries). <br>\n",
        "\n",
        "Other examples and [tutorial](https://www.w3schools.com/python/python_dictionaries.asp)"
      ]
    },
    {
      "cell_type": "markdown",
      "metadata": {
        "id": "rEmtekPLaHgs"
      },
      "source": [
        "---\n",
        "# Reviewing the Data: Categorical and Numerical Values Contained in Columns"
      ]
    },
    {
      "cell_type": "code",
      "execution_count": null,
      "metadata": {
        "cellView": "form",
        "colab": {
          "base_uri": "https://localhost:8080/",
          "height": 286
        },
        "id": "62zbUA6Bnt68",
        "outputId": "ebf3099e-f693-4b15-c4de-c31fdfa1f1a1"
      },
      "outputs": [
        {
          "data": {
            "text/html": [
              "<link href=\"https://nbviewer.org/static/build/styles.css\" rel=\"stylesheet\">"
            ],
            "text/plain": [
              "<IPython.core.display.HTML object>"
            ]
          },
          "metadata": {},
          "output_type": "display_data"
        },
        {
          "data": {
            "text/html": [
              "\n",
              "<div style= \"font-size: 20px\"; class=\"alert alert-info\" role=\"alert\">\n",
              "  <h4 class=\"alert-heading\">Question 5 (1 point each)</h4>\n",
              "Let's print out information about our dataset. <br> Use the example statement provided in the cell below to repeat this process for the other cells. <br> The comment lists what should be printed, so find the appropriate column name from the dataframe to print out the information about the conditions for each column.\n",
              "</div>\n"
            ],
            "text/plain": [
              "<IPython.core.display.HTML object>"
            ]
          },
          "metadata": {},
          "output_type": "display_data"
        }
      ],
      "source": [
        "#@title Question 5 (4 points)\n",
        "from IPython.display import HTML\n",
        "\n",
        "alert_info = '''\n",
        "<div style= \"font-size: 20px\"; class=\"alert alert-info\" role=\"alert\">\n",
        "  <h4 class=\"alert-heading\">Question 5 (1 point each)</h4>\n",
        "Let's print out information about our dataset. <br> Use the example statement provided in the cell below to repeat this process for the other cells. <br> The comment lists what should be printed, so find the appropriate column name from the dataframe to print out the information about the conditions for each column.\n",
        "</div>\n",
        "'''\n",
        "\n",
        "display(HTML('<link href=\"https://nbviewer.org/static/build/styles.css\" rel=\"stylesheet\">'))\n",
        "display(HTML(alert_info))"
      ]
    },
    {
      "cell_type": "code",
      "execution_count": null,
      "metadata": {
        "id": "vjI3LsJiL-oe"
      },
      "outputs": [],
      "source": [
        "##--- Edit this\n",
        "# show dataframe if needed to remember column names"
      ]
    },
    {
      "cell_type": "code",
      "execution_count": null,
      "metadata": {
        "id": "PEFQT0hZMqPo"
      },
      "outputs": [],
      "source": [
        "# Show the disease state (reason for tissue removal)\n",
        "print('Disease state:', human_data.donor__disease_state.unique())"
      ]
    },
    {
      "cell_type": "code",
      "execution_count": null,
      "metadata": {
        "id": "zKfqrj7pNqfY"
      },
      "outputs": [],
      "source": [
        "##--- Edit this\n",
        "# Race/ethnicity\n",
        "print('Race/ethnicity:', ...)"
      ]
    },
    {
      "cell_type": "code",
      "execution_count": null,
      "metadata": {
        "id": "zzyC0StkNrTQ"
      },
      "outputs": [],
      "source": [
        "##--- Edit this\n",
        "# Biological Sex\n",
        "print('Biological sex:', ...)"
      ]
    },
    {
      "cell_type": "code",
      "execution_count": null,
      "metadata": {
        "id": "nqChXv3KNsFs"
      },
      "outputs": [],
      "source": [
        "##--- Edit this\n",
        "# Years of seizure history\n",
        "print('Years of seizure history:', ...)"
      ]
    },
    {
      "cell_type": "code",
      "execution_count": null,
      "metadata": {
        "id": "jG3Z4s_oNs8r"
      },
      "outputs": [],
      "source": [
        "##--- Edit this\n",
        "# Cortical layer from where cells were sampled in the brain region\n",
        "print('Cortical layer:', ...)"
      ]
    },
    {
      "cell_type": "markdown",
      "metadata": {
        "id": "ARYrFCZf94pd"
      },
      "source": [
        "👁 Don't peek at the solution yet until you've tried the code above 🙈! If you are stuck or completed the above and want to check your work, verify your answer below."
      ]
    },
    {
      "cell_type": "code",
      "execution_count": null,
      "metadata": {
        "cellView": "form",
        "id": "bxVz6fey9Gzk"
      },
      "outputs": [],
      "source": [
        "#@title Hidden Code\n",
        "# Race/ethnicity\n",
        "print('Race/ethnicity:', human_data.donor__race.unique())\n",
        "# Biological Sex\n",
        "print('Biological sex:',human_data.donor__sex.unique())\n",
        "# Years of seizure history\n",
        "print('Years of seizure history:',human_data.donor__years_of_seizure_history.unique())\n",
        "# Cortical layer from where cells were sampled in the brain region\n",
        "print('Cortical layer:', np.sort(human_data.structure__layer.unique()))"
      ]
    },
    {
      "cell_type": "markdown",
      "metadata": {
        "id": "-oenwG9pMfVS"
      },
      "source": [
        "Great, now we have some more helpful info about our dataset. If there is anything else you would like to know or check out, feel free to add cells below here and test it out! 💻 🚀"
      ]
    },
    {
      "cell_type": "code",
      "execution_count": null,
      "metadata": {
        "id": "r8V_lDqpMpg5"
      },
      "outputs": [],
      "source": [
        "# Optional:\n",
        "# If there is anything else about the columns or dataset that you are curious about, test it here!\n",
        "\n"
      ]
    },
    {
      "cell_type": "markdown",
      "metadata": {
        "id": "jGdOijFsaV0y"
      },
      "source": [
        "---\n",
        "## Frequency of Values 🔢 from Columns"
      ]
    },
    {
      "cell_type": "markdown",
      "metadata": {
        "id": "b63kMXWKajPi"
      },
      "source": [
        "What if we want to get a count of the values from our columns? We can combine what we learned above about using `unique` and combine it with length, `len`. <br><br>"
      ]
    },
    {
      "cell_type": "code",
      "execution_count": null,
      "metadata": {
        "cellView": "form",
        "colab": {
          "base_uri": "https://localhost:8080/",
          "height": 229
        },
        "id": "E8-UAQ_tn80C",
        "outputId": "bdc4d10c-7eb3-4348-9094-3aefd4609533"
      },
      "outputs": [
        {
          "data": {
            "text/html": [
              "<link href=\"https://nbviewer.org/static/build/styles.css\" rel=\"stylesheet\">"
            ],
            "text/plain": [
              "<IPython.core.display.HTML object>"
            ]
          },
          "metadata": {},
          "output_type": "display_data"
        },
        {
          "data": {
            "text/html": [
              "\n",
              "<div style= \"font-size: 20px\"; class=\"alert alert-info\" role=\"alert\">\n",
              "  <h4 class=\"alert-heading\">Question 6 (1 point each)</h4>\n",
              "Start by finding the number of participants in the dataset by replacing the code below where it contains <code>&ltinsert_...&gt</code> or <code>...</code> <br>\n",
              "Then complete the remaining cells to get more information from some of the columns we examined above.\n",
              "</div>\n"
            ],
            "text/plain": [
              "<IPython.core.display.HTML object>"
            ]
          },
          "metadata": {},
          "output_type": "display_data"
        }
      ],
      "source": [
        "#@title Question 6 (2 points)\n",
        "from IPython.display import HTML\n",
        "\n",
        "alert_info = '''\n",
        "<div style= \"font-size: 20px\"; class=\"alert alert-info\" role=\"alert\">\n",
        "  <h4 class=\"alert-heading\">Question 6 (1 point each)</h4>\n",
        "Start by finding the number of participants in the dataset by replacing the code below where it contains <code>&ltinsert_...&gt</code> or <code>...</code> <br>\n",
        "Then complete the remaining cells to get more information from some of the columns we examined above.\n",
        "</div>\n",
        "'''\n",
        "\n",
        "display(HTML('<link href=\"https://nbviewer.org/static/build/styles.css\" rel=\"stylesheet\">'))\n",
        "display(HTML(alert_info))"
      ]
    },
    {
      "cell_type": "code",
      "execution_count": null,
      "metadata": {
        "id": "nPyzRqGRYHEZ"
      },
      "outputs": [],
      "source": [
        "##--- Edit this\n",
        "# Donor name / donor id (they are coding the same information in separate columns)\n",
        "\n",
        "print('Number of participants in this dataset:', len(<insert_dataframe_name>.<insert_col_name>.unique()))"
      ]
    },
    {
      "cell_type": "code",
      "execution_count": null,
      "metadata": {
        "id": "ObsbY2axbaXh"
      },
      "outputs": [],
      "source": [
        "##--- Edit this\n",
        "# Cell count- does this match what we already calculated above? It should!\n",
        "print('There are', ... , 'cells in this dataset')"
      ]
    },
    {
      "cell_type": "markdown",
      "metadata": {
        "id": "OvmPkvaU9qu-"
      },
      "source": [
        "👁 Don't peek at the solution yet until you've tried the code above 🙈! If you are stuck or completed the above and want to check your work, verify your answer below."
      ]
    },
    {
      "cell_type": "code",
      "execution_count": null,
      "metadata": {
        "cellView": "form",
        "id": "1ZTMRztU9ggg"
      },
      "outputs": [],
      "source": [
        "#@title Hidden Code\n",
        "# donor name - participant count\n",
        "print('Number of participants in this dataset:', len(human_data.donor__name.unique()))\n",
        "# Cell count- does this match what we already calculated above? It should!\n",
        "print('there are', len(human_data.specimen__id.unique()), 'cells in this dataset')"
      ]
    },
    {
      "cell_type": "markdown",
      "metadata": {
        "id": "njTn5lvo6GNG"
      },
      "source": [
        "---\n",
        "## Number of Participants Versus Number of Cells"
      ]
    },
    {
      "cell_type": "code",
      "execution_count": null,
      "metadata": {
        "cellView": "form",
        "colab": {
          "base_uri": "https://localhost:8080/",
          "height": 200
        },
        "id": "GBZloHKuoR4W",
        "outputId": "5b30a73c-8c7d-448d-96f3-fdd308de054b"
      },
      "outputs": [
        {
          "data": {
            "text/html": [
              "<link href=\"https://nbviewer.org/static/build/styles.css\" rel=\"stylesheet\">"
            ],
            "text/plain": [
              "<IPython.core.display.HTML object>"
            ]
          },
          "metadata": {},
          "output_type": "display_data"
        },
        {
          "data": {
            "text/html": [
              "\n",
              "<div style= \"font-size: 20px\"; class=\"alert alert-info\" role=\"alert\">\n",
              "  <h4 class=\"alert-heading\">Task</h4>\n",
              "Run the cell below.\n",
              "</div>\n"
            ],
            "text/plain": [
              "<IPython.core.display.HTML object>"
            ]
          },
          "metadata": {},
          "output_type": "display_data"
        }
      ],
      "source": [
        "#@title Task\n",
        "from IPython.display import HTML\n",
        "\n",
        "alert_info = '''\n",
        "<div style= \"font-size: 20px\"; class=\"alert alert-info\" role=\"alert\">\n",
        "  <h4 class=\"alert-heading\">Task</h4>\n",
        "Run the cell below.\n",
        "</div>\n",
        "'''\n",
        "\n",
        "display(HTML('<link href=\"https://nbviewer.org/static/build/styles.css\" rel=\"stylesheet\">'))\n",
        "display(HTML(alert_info))"
      ]
    },
    {
      "cell_type": "code",
      "execution_count": null,
      "metadata": {
        "id": "dlh1Xzgm6Lns"
      },
      "outputs": [],
      "source": [
        "example_id = human_data[human_data['donor__name'] == 'H15.06.016']\n",
        "example_id"
      ]
    },
    {
      "cell_type": "markdown",
      "metadata": {
        "id": "w59vlkbj6T5q"
      },
      "source": [
        "You will see here that we filtered by `donor__name`. This is one individual 🧑, and note their data is across 4 rows. You can see that the `donor__name` 📛 column has all the same text, but that `specimen__id` 🆔 varies. These ids specifically relate to different cells (or measurements of those cells). You can also see that in `specimen__name`, the beginning of the string (example: 'H15.06.016') matches the `donor__name` column entries."
      ]
    },
    {
      "cell_type": "code",
      "execution_count": null,
      "metadata": {
        "cellView": "form",
        "colab": {
          "base_uri": "https://localhost:8080/",
          "height": 229
        },
        "id": "KegRPq-fomSz",
        "outputId": "0535754b-22d3-4304-9b4f-8105dcd02d58"
      },
      "outputs": [
        {
          "data": {
            "text/html": [
              "<link href=\"https://nbviewer.org/static/build/styles.css\" rel=\"stylesheet\">"
            ],
            "text/plain": [
              "<IPython.core.display.HTML object>"
            ]
          },
          "metadata": {},
          "output_type": "display_data"
        },
        {
          "data": {
            "text/html": [
              "\n",
              "<div style= \"font-size: 20px\"; class=\"alert alert-info\" role=\"alert\">\n",
              "  <h4 class=\"alert-heading\">Question 7 (1 point each)</h4>\n",
              "To get the count based on biological sex, we subset our data first into the corresponding groups. Once we do this, you can use similar code from above to complete the following lines. Fill in the appropriate code below where you see  <code>...</code>\n",
              "\n",
              "</div>\n"
            ],
            "text/plain": [
              "<IPython.core.display.HTML object>"
            ]
          },
          "metadata": {},
          "output_type": "display_data"
        }
      ],
      "source": [
        "#@title Question 7 (2 points)\n",
        "from IPython.display import HTML\n",
        "\n",
        "alert_info = '''\n",
        "<div style= \"font-size: 20px\"; class=\"alert alert-info\" role=\"alert\">\n",
        "  <h4 class=\"alert-heading\">Question 7 (1 point each)</h4>\n",
        "To get the count based on biological sex, we subset our data first into the corresponding groups. Once we do this, you can use similar code from above to complete the following lines. Fill in the appropriate code below where you see  <code>...</code>\n",
        "\n",
        "</div>\n",
        "'''\n",
        "\n",
        "display(HTML('<link href=\"https://nbviewer.org/static/build/styles.css\" rel=\"stylesheet\">'))\n",
        "display(HTML(alert_info))"
      ]
    },
    {
      "cell_type": "code",
      "execution_count": null,
      "metadata": {
        "id": "R4g_CO5AcGSF"
      },
      "outputs": [],
      "source": [
        "##--- Edit this\n",
        "# Female count\n",
        "females = human_data[(human_data.donor__sex == 'Female')]         # this is setup for you; don't change it\n",
        "print('There are', ... , 'females in this dataset')               # change this line"
      ]
    },
    {
      "cell_type": "code",
      "execution_count": null,
      "metadata": {
        "id": "TyQwBX1NcIvl"
      },
      "outputs": [],
      "source": [
        "##--- Edit this\n",
        "# Male count\n",
        "males = human_data[(human_data.donor__sex == 'Male')]   # this is setup for you; don't change it\n",
        "print('There are', ... , 'males in this dataset')       # change this line"
      ]
    },
    {
      "cell_type": "markdown",
      "metadata": {
        "id": "hvpWNCyq-Ss4"
      },
      "source": [
        "👁 Don't peek at the solution yet until you've tried the code above 🙈! If you are stuck or completed the above and want to check your work, verify your answer below."
      ]
    },
    {
      "cell_type": "code",
      "execution_count": null,
      "metadata": {
        "cellView": "form",
        "id": "LeFNQwuH-LUc"
      },
      "outputs": [],
      "source": [
        "#@title Hidden Code\n",
        "# Female count\n",
        "females = human_data[(human_data.donor__sex == 'Female')]\n",
        "print('there are', len(females.donor__name.unique()), 'females in this dataset')\n",
        "# Male count\n",
        "males = human_data[(human_data.donor__sex == 'Male')]\n",
        "print('there are', len(males.donor__name.unique()), 'males in this dataset')"
      ]
    },
    {
      "cell_type": "markdown",
      "metadata": {
        "id": "fD9z5ZayaPyj"
      },
      "source": [
        "---\n",
        "## Optional- what do you want to know?"
      ]
    },
    {
      "cell_type": "code",
      "execution_count": null,
      "metadata": {
        "id": "Uffyt7dhr4ti"
      },
      "outputs": [],
      "source": [
        "##--- Edit this\n",
        "# Advanced: If you want to get information about race/ethnicity, use a for loop below to do so.\n",
        "# See the example above when we got a count of the cell numbers within each brain region\n",
        "\n",
        "nums = []                                                                         # This will allow us to do an overall count too\n",
        "\n",
        "for i, ... in enumerate(...):\n",
        "  race_data = ...\n",
        "  race_count = ...\n",
        "  nums = np.append(..., ...)\n",
        "  print(f'Number of participants in the {donor__race} category: ' + str(...))\n",
        "\n",
        "print('Total # of participants in dataset: ' + str(sum(nums)))"
      ]
    },
    {
      "cell_type": "code",
      "execution_count": null,
      "metadata": {
        "id": "J52EmNUUNuRR"
      },
      "outputs": [],
      "source": [
        "# Optional:\n",
        "# If there is anything else about the columns or dataset that you are curious about, test it here!\n",
        "\n"
      ]
    },
    {
      "cell_type": "markdown",
      "metadata": {
        "id": "DW5vYtVCUW3j"
      },
      "source": [
        "---\n",
        "# Descriptive Statistics"
      ]
    },
    {
      "cell_type": "markdown",
      "metadata": {
        "id": "REFc0L1ZUbIf"
      },
      "source": [
        "We will now examine descriptive statistics of our different variables. We are interested in counts, means, and standard deviation. This will tell us more about our sample -- it will describe the data we have available to work with."
      ]
    },
    {
      "cell_type": "markdown",
      "metadata": {
        "id": "sp5Sm0zn7li_"
      },
      "source": [
        "---\n",
        "## Using  `groupby` 👭 to generate our descriptive table"
      ]
    },
    {
      "cell_type": "markdown",
      "metadata": {
        "id": "isU5nVi_QJND"
      },
      "source": [
        "Grouping allows us to arrange our data in a way we want to review it. You can think of grouping as splitting the dataset data into buckets 🪣. Then you can call \"aggregate\" functions (`mean`, `sum`, `max`, `min`, etc) on these buckets to find these values per bucket (which can lead to interesting analysis 📊)!\n",
        "\n",
        "We will use [groupby](https://pandas.pydata.org/pandas-docs/stable/user_guide/groupby.html) in `pandas` to help us out."
      ]
    },
    {
      "cell_type": "markdown",
      "metadata": {
        "id": "0GLia0YzVoLm"
      },
      "source": [
        "We will start by grouping by brain regions 🧠 and returning the count of ids 🆔 as well as the mean and standard deviation of age based on these groupings. <br><br>\n",
        "\n",
        "When we specify what we want to use with `by`, this will be one or more column names that contain *categorical* data. When we specify what to use with `agg`, this is where we put in column names for *numerical* data and the method we want to perform on the data (mean, count, std, etc.)<br><br>\n"
      ]
    },
    {
      "cell_type": "code",
      "execution_count": null,
      "metadata": {
        "cellView": "form",
        "colab": {
          "base_uri": "https://localhost:8080/",
          "height": 200
        },
        "id": "Aqx1GLpHpjXG",
        "outputId": "d6e9da0a-5e6b-4308-f7f1-211b71e6f645"
      },
      "outputs": [
        {
          "data": {
            "text/html": [
              "<link href=\"https://nbviewer.org/static/build/styles.css\" rel=\"stylesheet\">"
            ],
            "text/plain": [
              "<IPython.core.display.HTML object>"
            ]
          },
          "metadata": {},
          "output_type": "display_data"
        },
        {
          "data": {
            "text/html": [
              "\n",
              "<div style= \"font-size: 20px\"; class=\"alert alert-info\" role=\"alert\">\n",
              "  <h4 class=\"alert-heading\">Task</h4>\n",
              "Run the cell below and we will walk through the steps afteward.\n",
              "</div>\n"
            ],
            "text/plain": [
              "<IPython.core.display.HTML object>"
            ]
          },
          "metadata": {},
          "output_type": "display_data"
        }
      ],
      "source": [
        "#@title Task\n",
        "from IPython.display import HTML\n",
        "\n",
        "alert_info = '''\n",
        "<div style= \"font-size: 20px\"; class=\"alert alert-info\" role=\"alert\">\n",
        "  <h4 class=\"alert-heading\">Task</h4>\n",
        "Run the cell below and we will walk through the steps afteward.\n",
        "</div>\n",
        "'''\n",
        "\n",
        "display(HTML('<link href=\"https://nbviewer.org/static/build/styles.css\" rel=\"stylesheet\">'))\n",
        "display(HTML(alert_info))"
      ]
    },
    {
      "cell_type": "code",
      "execution_count": null,
      "metadata": {
        "id": "6tceyuU_u4BR"
      },
      "outputs": [],
      "source": [
        "# Calculate summary statistics to review and compare to plot\n",
        "print(\"Summary statistics:\")\n",
        "\n",
        "# get the numerical values\n",
        "summary_stats = human_data.groupby(by=[\"structure__acronym\"]).agg(\n",
        "    {\"specimen__id\": \"count\", \"donor__age\": [\"mean\", \"std\"]}).round(2)\n",
        "\n",
        "display(summary_stats)"
      ]
    },
    {
      "cell_type": "markdown",
      "metadata": {
        "id": "_XWtC-P0TK3Q"
      },
      "source": [
        "---\n",
        "## Reviewing the Descriptives Table: Pt. 1\n",
        "\n",
        "In this example, we wanted to see the **count** of `specimen__id` 🆔 and **mean** and **standard deviation** of `donor__age` for each brain region 🧠 `structure__acronym`.<br>\n",
        "\n",
        "What we did with the code was:\n",
        "\n",
        "1. `groupby` one column name. We only used one column above, but you can add more than one.\n",
        "2. After we use `groupby`, we apply the aggregation method `.agg()` and specify a dictionary 📙 in a following way: `{column_name: aggregation function}`. We applied multiple functions at once on different columns.\n",
        "\n",
        "**Notice**:  We also applied multiple functions on the same column `donor__age` by specifying a list that contained multiple functions in brackets like `[\"mean\", \"std\"]`."
      ]
    },
    {
      "cell_type": "markdown",
      "metadata": {
        "id": "tHtNeK-pUCtl"
      },
      "source": [
        "---\n",
        "## Reviewing the Descriptive Table: Pt. 2"
      ]
    },
    {
      "cell_type": "markdown",
      "metadata": {
        "id": "s65lQg3J5G7z"
      },
      "source": [
        "Hmmm, in all cases you can see that we have multiple specimen id 🆔 values - this is a count of the cells in the brain region 🧠. However, when we look at age, we calculate a mean, but if that is the case, **why is the standard deviation zero**? <br><br>\n",
        "\n",
        "This has to do with the fact that `specimen__id` 🆔 corresponds to each cell, and a single participant may contribute multiple cells to the dataset. So, let's now check this in combination with data from a column that allows us to uniquely identify each participant."
      ]
    },
    {
      "cell_type": "code",
      "execution_count": null,
      "metadata": {
        "cellView": "form",
        "colab": {
          "base_uri": "https://localhost:8080/",
          "height": 229
        },
        "id": "e17qHCcNqLSG",
        "outputId": "5b63d540-87c3-4689-ca19-9daa4cab05c4"
      },
      "outputs": [
        {
          "data": {
            "text/html": [
              "<link href=\"https://nbviewer.org/static/build/styles.css\" rel=\"stylesheet\">"
            ],
            "text/plain": [
              "<IPython.core.display.HTML object>"
            ]
          },
          "metadata": {},
          "output_type": "display_data"
        },
        {
          "data": {
            "text/html": [
              "\n",
              "<div style= \"font-size: 20px\"; class=\"alert alert-info\" role=\"alert\">\n",
              "  <h4 class=\"alert-heading\">Task</h4>\n",
              "Just run the cell below. Notice that we are using a new option for <code>agg</code> called <code>nunique</code>. This will give us the count of unique entries for our column <code>donor__name</code>.\n",
              "</div>\n"
            ],
            "text/plain": [
              "<IPython.core.display.HTML object>"
            ]
          },
          "metadata": {},
          "output_type": "display_data"
        }
      ],
      "source": [
        "#@title Task\n",
        "from IPython.display import HTML\n",
        "\n",
        "alert_info = '''\n",
        "<div style= \"font-size: 20px\"; class=\"alert alert-info\" role=\"alert\">\n",
        "  <h4 class=\"alert-heading\">Task</h4>\n",
        "Just run the cell below. Notice that we are using a new option for <code>agg</code> called <code>nunique</code>. This will give us the count of unique entries for our column <code>donor__name</code>.\n",
        "</div>\n",
        "'''\n",
        "\n",
        "display(HTML('<link href=\"https://nbviewer.org/static/build/styles.css\" rel=\"stylesheet\">'))\n",
        "display(HTML(alert_info))"
      ]
    },
    {
      "cell_type": "code",
      "execution_count": null,
      "metadata": {
        "id": "idxsnxdn6nub"
      },
      "outputs": [],
      "source": [
        "# Calculate summary statistics to review and compare to plot\n",
        "print(\"Summary statistics:\")\n",
        "\n",
        "# get the numerical values\n",
        "summary_stats = human_data.groupby(by=[\"structure__acronym\"]).agg(\n",
        "    {\"specimen__id\": \"count\", \"donor__name\": \"nunique\", \"donor__age\": [\"mean\", \"std\"]}).round(2)\n",
        "\n",
        "display(summary_stats)"
      ]
    },
    {
      "cell_type": "markdown",
      "metadata": {
        "id": "klsNs7Dn6qyU"
      },
      "source": [
        "This makes it more clear why there are zeros in the standard deviation that corresponds to age. We can see that in those rows, there is only **1 participant** that is contributing **multiple cells** to that brain region."
      ]
    },
    {
      "cell_type": "markdown",
      "metadata": {
        "id": "ZlvGWCyzUtlu"
      },
      "source": [
        "---\n",
        "## Grouping Based on Multiple Columns"
      ]
    },
    {
      "cell_type": "markdown",
      "metadata": {
        "id": "Hh29o5uS9YEn"
      },
      "source": [
        "Now we want to group by multiple columns. This can be done by just adding in another column name in a list after `by =`.\n",
        "\n"
      ]
    },
    {
      "cell_type": "code",
      "execution_count": null,
      "metadata": {
        "cellView": "form",
        "colab": {
          "base_uri": "https://localhost:8080/",
          "height": 257
        },
        "id": "TlzcyC6rqXh2",
        "outputId": "a4078abb-b021-42c3-cc90-1bac64c9f299"
      },
      "outputs": [
        {
          "data": {
            "text/html": [
              "<link href=\"https://nbviewer.org/static/build/styles.css\" rel=\"stylesheet\">"
            ],
            "text/plain": [
              "<IPython.core.display.HTML object>"
            ]
          },
          "metadata": {},
          "output_type": "display_data"
        },
        {
          "data": {
            "text/html": [
              "\n",
              "<div style= \"font-size: 20px\"; class=\"alert alert-info\" role=\"alert\">\n",
              "  <h4 class=\"alert-heading\">Question 8 (2 points)</h4>\n",
              "We will <code>groupby</code> brain region (<code>structure__acronym</code>) and donor disease state (<code>donor__disease_state</code>) to return the count of cells (<code>specimen__id</code>) as well as participant (<code>donor__name</code>). <br>\n",
              "Complete the code below in the sections that start with <code>&ltinsert_...&gt</code>.\n",
              "</div>\n"
            ],
            "text/plain": [
              "<IPython.core.display.HTML object>"
            ]
          },
          "metadata": {},
          "output_type": "display_data"
        }
      ],
      "source": [
        "#@title Question 8 (2 points)\n",
        "from IPython.display import HTML\n",
        "\n",
        "alert_info = '''\n",
        "<div style= \"font-size: 20px\"; class=\"alert alert-info\" role=\"alert\">\n",
        "  <h4 class=\"alert-heading\">Question 8 (2 points)</h4>\n",
        "We will <code>groupby</code> brain region (<code>structure__acronym</code>) and donor disease state (<code>donor__disease_state</code>) to return the count of cells (<code>specimen__id</code>) as well as participant (<code>donor__name</code>). <br>\n",
        "Complete the code below in the sections that start with <code>&ltinsert_...&gt</code>.\n",
        "</div>\n",
        "'''\n",
        "\n",
        "display(HTML('<link href=\"https://nbviewer.org/static/build/styles.css\" rel=\"stylesheet\">'))\n",
        "display(HTML(alert_info))"
      ]
    },
    {
      "cell_type": "code",
      "execution_count": null,
      "metadata": {
        "id": "f1aAusIA8Rco"
      },
      "outputs": [],
      "source": [
        "##--- Edit this\n",
        "# Calculate summary statistics to review and compare to plot\n",
        "print(\"Summary statistics:\")\n",
        "\n",
        "# Get the  values\n",
        "summary_stats = human_data.groupby(by=[\"<insert_brain_region_col_name>\", \"<insert_disease_state_col_name>\"]).agg(\n",
        "    {\"specimen__id\": \"count\", \"donor__name\":\"nunique\"}).round(2)\n",
        "\n",
        "display(summary_stats)"
      ]
    },
    {
      "cell_type": "markdown",
      "metadata": {
        "id": "fjGlJh9g-CqB"
      },
      "source": [
        "Here we can see which brain regions 🧠\n",
        "have cells related to conditions for surgical\n",
        "removal of tissue that were for epilepsy versus tumor."
      ]
    },
    {
      "cell_type": "markdown",
      "metadata": {
        "id": "f4BtcsP__dld"
      },
      "source": [
        "👁 Don't peek at the solution yet until you've tried the code above 🙈! If you are stuck or completed the above and want to check your work, verify your answer below."
      ]
    },
    {
      "cell_type": "code",
      "execution_count": null,
      "metadata": {
        "cellView": "form",
        "id": "Dr7RAy4l_WNe"
      },
      "outputs": [],
      "source": [
        "#@title Hidden Code\n",
        "# Calculate summary statistics to review and compare to plot\n",
        "print(\"Summary statistics:\")\n",
        "\n",
        "# Get the  values\n",
        "summary_stats = human_data.groupby(by=[\"structure__acronym\", \"donor__disease_state\"]).agg(\n",
        "    {\"specimen__id\": \"count\", \"donor__name\":\"nunique\"}).round(2)\n",
        "\n",
        "display(summary_stats)"
      ]
    },
    {
      "cell_type": "markdown",
      "metadata": {
        "id": "xIKiLbUe47wN"
      },
      "source": [
        "---\n",
        "## Restarting - load organized data\n",
        "If you restart or come back to your notebook, run the beginning and jump to here and pull in the cleaned/organized data file. (This has all the previous steps applied to it, I just saved a copy for ease of pulling it in and not having to re-run everything above.)"
      ]
    },
    {
      "cell_type": "code",
      "execution_count": null,
      "metadata": {
        "id": "_CMlUDcJ4xtO"
      },
      "outputs": [],
      "source": [
        "## read in code of formatted dataset\n",
        "human_data = pd.read_csv('human_data.csv')"
      ]
    },
    {
      "cell_type": "markdown",
      "metadata": {
        "id": "89YklDqwDqmB"
      },
      "source": [
        "---\n",
        "# Brain Regions of Interest 🧠"
      ]
    },
    {
      "cell_type": "markdown",
      "metadata": {
        "id": "VOWM-vOLENtF"
      },
      "source": [
        "Now that we've reviewed info about all of data, we want to go through and specifically focus on our brain regions of interest. <br><br>\n",
        "For each **brain region** and **cortical layer**, we want to calculate the **mean** and **standard deviation** of the **firing rate** and **resting potential**."
      ]
    },
    {
      "cell_type": "code",
      "execution_count": null,
      "metadata": {
        "cellView": "form",
        "colab": {
          "base_uri": "https://localhost:8080/",
          "height": 286
        },
        "id": "4eBSvNitq6Fp",
        "outputId": "ea8fec3d-3926-4b96-a9c0-fb7118637eb1"
      },
      "outputs": [
        {
          "data": {
            "text/html": [
              "<link href=\"https://nbviewer.org/static/build/styles.css\" rel=\"stylesheet\">"
            ],
            "text/plain": [
              "<IPython.core.display.HTML object>"
            ]
          },
          "metadata": {},
          "output_type": "display_data"
        },
        {
          "data": {
            "text/html": [
              "\n",
              "<div style= \"font-size: 20px\"; class=\"alert alert-info\" role=\"alert\">\n",
              "  <h4 class=\"alert-heading\">Question 9 (3 points)</h4>\n",
              "First, we want to subset our dataframe to only contain data from the <b>brain regions</b> we are interested in. <br>\n",
              "Fill in the abbreviations for the 3 regions we want to work with where the code below contains <code>&ltinsert_brain_region_abbrev&gt</code>.<br><br>\n",
              "<i>Hint</i>: This was listed above under the section 'Brain regions and cells to examine'.</div>\n"
            ],
            "text/plain": [
              "<IPython.core.display.HTML object>"
            ]
          },
          "metadata": {},
          "output_type": "display_data"
        }
      ],
      "source": [
        "#@title Question 9 (3 points)\n",
        "from IPython.display import HTML\n",
        "\n",
        "alert_info = '''\n",
        "<div style= \"font-size: 20px\"; class=\"alert alert-info\" role=\"alert\">\n",
        "  <h4 class=\"alert-heading\">Question 9 (3 points)</h4>\n",
        "First, we want to subset our dataframe to only contain data from the <b>brain regions</b> we are interested in. <br>\n",
        "Fill in the abbreviations for the 3 regions we want to work with where the code below contains <code>&ltinsert_brain_region_abbrev&gt</code>.<br><br>\n",
        "<i>Hint</i>: This was listed above under the section 'Brain regions and cells to examine'.</div>\n",
        "'''\n",
        "\n",
        "display(HTML('<link href=\"https://nbviewer.org/static/build/styles.css\" rel=\"stylesheet\">'))\n",
        "display(HTML(alert_info))\n",
        "\n"
      ]
    },
    {
      "cell_type": "code",
      "execution_count": null,
      "metadata": {
        "id": "kmRdbXBHdg9S"
      },
      "outputs": [],
      "source": [
        "##--- Edit this\n",
        "# Dataset with data from 3 regions\n",
        "# Notice here we are using the or operator ('|')\n",
        "brains = human_data[(human_data.structure__acronym == '<insert_brain_region_abbrev>') |\n",
        "        (human_data.structure__acronym == '<insert_brain_region_abbrev>') |\n",
        "        (human_data.structure__acronym == '<insert_brain_region_abbrev>')]\n",
        "brains"
      ]
    },
    {
      "cell_type": "markdown",
      "metadata": {
        "id": "QoNDGZT5Bw3U"
      },
      "source": [
        "👁 Don't peek at the solution yet until you've tried the code above 🙈! If you are stuck or completed the above and want to check your work, verify your answer below."
      ]
    },
    {
      "cell_type": "code",
      "execution_count": null,
      "metadata": {
        "cellView": "form",
        "id": "TpL9C7VoBmFw"
      },
      "outputs": [],
      "source": [
        "#@title Hidden Code\n",
        "# data with only the 3 regions we care about\n",
        "brains = human_data[(human_data.structure__acronym == 'FroL') |\n",
        "         (human_data.structure__acronym == 'MFG') | (human_data.structure__acronym == 'MTG')]\n",
        "brains"
      ]
    },
    {
      "cell_type": "code",
      "execution_count": null,
      "metadata": {
        "cellView": "form",
        "colab": {
          "base_uri": "https://localhost:8080/",
          "height": 229
        },
        "id": "qxXtbbVzrNGf",
        "outputId": "eb8c6528-3923-499e-cf2b-aa006045702b"
      },
      "outputs": [
        {
          "data": {
            "text/html": [
              "<link href=\"https://nbviewer.org/static/build/styles.css\" rel=\"stylesheet\">"
            ],
            "text/plain": [
              "<IPython.core.display.HTML object>"
            ]
          },
          "metadata": {},
          "output_type": "display_data"
        },
        {
          "data": {
            "text/html": [
              "\n",
              "<div style= \"font-size: 20px\"; class=\"alert alert-info\" role=\"alert\">\n",
              "  <h4 class=\"alert-heading\"> Question 10 (3 points)</h4>\n",
              "Use <code>unique</code> to check that the dataframe now only contains the 3 regions we want to work with. Replace <code>&ltinsert_col_name&gt</code> with the appropriate column name.\n",
              "</div>\n"
            ],
            "text/plain": [
              "<IPython.core.display.HTML object>"
            ]
          },
          "metadata": {},
          "output_type": "display_data"
        }
      ],
      "source": [
        "#@title Question 10 (3 points)\n",
        "from IPython.display import HTML\n",
        "\n",
        "alert_info = '''\n",
        "<div style= \"font-size: 20px\"; class=\"alert alert-info\" role=\"alert\">\n",
        "  <h4 class=\"alert-heading\"> Question 10 (3 points)</h4>\n",
        "Use <code>unique</code> to check that the dataframe now only contains the 3 regions we want to work with. Replace <code>&ltinsert_col_name&gt</code> with the appropriate column name.\n",
        "</div>\n",
        "'''\n",
        "\n",
        "display(HTML('<link href=\"https://nbviewer.org/static/build/styles.css\" rel=\"stylesheet\">'))\n",
        "display(HTML(alert_info))\n"
      ]
    },
    {
      "cell_type": "code",
      "execution_count": null,
      "metadata": {
        "id": "A1-GxTBjeIRe"
      },
      "outputs": [],
      "source": [
        "##--- Edit this\n",
        "# Check we properly subsetted the dataframe to contain only the brain regions we wanted with `unique`\n",
        "brains.<insert_col_name>.unique()"
      ]
    },
    {
      "cell_type": "markdown",
      "metadata": {
        "id": "CBwpaY5qB9-4"
      },
      "source": [
        "👁 Don't peek at the solution yet until you've tried the code above 🙈! If you are stuck or completed the above and want to check your work, verify your answer below."
      ]
    },
    {
      "cell_type": "code",
      "execution_count": null,
      "metadata": {
        "cellView": "form",
        "id": "7jgzXIwMB61l"
      },
      "outputs": [],
      "source": [
        "#@title Hidden Code\n",
        "# Check we properly subsetted the brain regions we wanted\n",
        "brains.structure__acronym.unique()"
      ]
    },
    {
      "cell_type": "markdown",
      "metadata": {
        "id": "I3gbyWYmTWYC"
      },
      "source": [
        "---\n",
        "## Calculating Descriptive Statistics for 🧠 Regions"
      ]
    },
    {
      "cell_type": "code",
      "execution_count": null,
      "metadata": {
        "cellView": "form",
        "colab": {
          "base_uri": "https://localhost:8080/",
          "height": 372
        },
        "id": "N4O4u5jmraHI",
        "outputId": "fddd71fc-140c-420e-81f2-baedc4c24d3d"
      },
      "outputs": [
        {
          "data": {
            "text/html": [
              "<link href=\"https://nbviewer.org/static/build/styles.css\" rel=\"stylesheet\">"
            ],
            "text/plain": [
              "<IPython.core.display.HTML object>"
            ]
          },
          "metadata": {},
          "output_type": "display_data"
        },
        {
          "data": {
            "text/html": [
              "\n",
              "<div style= \"font-size: 20px\"; class=\"alert alert-info\" role=\"alert\">\n",
              "  <h4 class=\"alert-heading\">Question 11 (4 points)</h4>\n",
              "Now we are ready to calculate descriptives for our brain regions. <br> We want to obtain the <b>mean</b> and <b>standard deviation</b> for each <b>brain region</b> and <b>cortical layer</b> combination of values from the dataframe for the <b>resting potential</b> and <b>average firing rate</b>. (Hint: look for a combination of these words in the column names)<br><br>\n",
              "\n",
              "Use <code>groupby</code> in the following code cell and input the correct information from the prompt. Review previous examples that we've worked with above. <br><br>\n",
              "\n",
              "Replace the sections in the code where you see <code>'insert_column_name`</code>, etc.\n",
              "\n",
              "\n",
              "</div>\n"
            ],
            "text/plain": [
              "<IPython.core.display.HTML object>"
            ]
          },
          "metadata": {},
          "output_type": "display_data"
        }
      ],
      "source": [
        "#@title Question 11 (4 points)\n",
        "from IPython.display import HTML\n",
        "\n",
        "alert_info = '''\n",
        "<div style= \"font-size: 20px\"; class=\"alert alert-info\" role=\"alert\">\n",
        "  <h4 class=\"alert-heading\">Question 11 (4 points)</h4>\n",
        "Now we are ready to calculate descriptives for our brain regions. <br> We want to obtain the <b>mean</b> and <b>standard deviation</b> for each <b>brain region</b> and <b>cortical layer</b> combination of values from the dataframe for the <b>resting potential</b> and <b>average firing rate</b>. (Hint: look for a combination of these words in the column names)<br><br>\n",
        "\n",
        "Use <code>groupby</code> in the following code cell and input the correct information from the prompt. Review previous examples that we've worked with above. <br><br>\n",
        "\n",
        "Replace the sections in the code where you see <code>'insert_column_name`</code>, etc.\n",
        "\n",
        "\n",
        "</div>\n",
        "'''\n",
        "\n",
        "display(HTML('<link href=\"https://nbviewer.org/static/build/styles.css\" rel=\"stylesheet\">'))\n",
        "display(HTML(alert_info))"
      ]
    },
    {
      "cell_type": "code",
      "execution_count": null,
      "metadata": {
        "id": "XJ9Njzpee5FL"
      },
      "outputs": [],
      "source": [
        "##--- Edit this\n",
        "# Calculate summary statistics to review and compare to plot\n",
        "print(\"Summary statistics:\")\n",
        "\n",
        "# get the numerical values using `groupby`\n",
        "summary_stats_brains = brains.groupby(by=[\"<insert_column_name>\", \"<insert_column_name>\"]).agg(\n",
        "    {\"specimen__id\": \"count\", \"<insert_parameter_of_interest>\": [\"mean\", \"std\"], \"<insert_parameter_of_interest>\": [\"mean\", \"std\"]}).round(2)\n",
        "\n",
        "display(summary_stats_brains)"
      ]
    },
    {
      "cell_type": "markdown",
      "metadata": {
        "id": "_VmEwwXcf9Oh"
      },
      "source": [
        "You should see some NaN values, particularly for the combinations of conditions (brain region and cortical layers) that only have a count of 1 cell. This indicates there were not measurements of useable data."
      ]
    },
    {
      "cell_type": "markdown",
      "metadata": {
        "id": "LNGqyFFSCJRk"
      },
      "source": [
        "👁 Don't peek at the solution yet until you've tried the code above 🙈! If you are stuck or completed the above and want to check your work, verify your answer below."
      ]
    },
    {
      "cell_type": "code",
      "execution_count": null,
      "metadata": {
        "cellView": "form",
        "id": "zcdMMlM1CJ8d"
      },
      "outputs": [],
      "source": [
        "#@title Hidden Code\n",
        "# Calculate summary statistics to review and compare to plot\n",
        "print(\"Summary statistics:\")\n",
        "\n",
        "# get the numerical values\n",
        "summary_stats_brains = brains.groupby(by=[\"structure__acronym\", \"structure__layer\"]).agg(\n",
        "    {\"specimen__id\": \"count\", \"ef__avg_firing_rate\": [\"mean\", \"std\"], \"ef__vrest\": [\"mean\", \"std\"]}).round(2)\n",
        "\n",
        "display(summary_stats_brains)"
      ]
    },
    {
      "cell_type": "markdown",
      "metadata": {
        "id": "n6z2ZP_8O32y"
      },
      "source": [
        "---\n",
        "## Looking into NaN values further 🔎"
      ]
    },
    {
      "cell_type": "markdown",
      "metadata": {
        "id": "5dpoIY3rlvx-"
      },
      "source": [
        "NaNs are important to consider though, because depending on how we setup our statistics next, *could* influence our results. This depends on how the packages deal with NaNs in our dataframe, and what the default behavior of the package is."
      ]
    },
    {
      "cell_type": "markdown",
      "metadata": {
        "id": "c0ROA4DZQsBJ"
      },
      "source": [
        "Let's check our variables of interest, and keep this in mind as we go through the next section. I will highlight what we can do when it comes to our data with NaNs."
      ]
    },
    {
      "cell_type": "markdown",
      "metadata": {
        "id": "0eYBzKl4Q8LM"
      },
      "source": [
        "We will use `pandas` `isna` to help us here. More documentation can be found here: https://pandas.pydata.org/docs/reference/api/pandas.DataFrame.isna.html"
      ]
    },
    {
      "cell_type": "code",
      "execution_count": null,
      "metadata": {
        "cellView": "form",
        "colab": {
          "base_uri": "https://localhost:8080/",
          "height": 200
        },
        "id": "2BYmx_22r38i",
        "outputId": "f2e82b80-bed2-4646-e322-ccb0c3be6255"
      },
      "outputs": [
        {
          "data": {
            "text/html": [
              "<link href=\"https://nbviewer.org/static/build/styles.css\" rel=\"stylesheet\">"
            ],
            "text/plain": [
              "<IPython.core.display.HTML object>"
            ]
          },
          "metadata": {},
          "output_type": "display_data"
        },
        {
          "data": {
            "text/html": [
              "\n",
              "<div style= \"font-size: 20px\"; class=\"alert alert-info\" role=\"alert\">\n",
              "  <h4 class=\"alert-heading\">Task</h4>\n",
              "Run the cells below.\n",
              "\n",
              "</div>\n"
            ],
            "text/plain": [
              "<IPython.core.display.HTML object>"
            ]
          },
          "metadata": {},
          "output_type": "display_data"
        }
      ],
      "source": [
        "#@title Task\n",
        "from IPython.display import HTML\n",
        "\n",
        "alert_info = '''\n",
        "<div style= \"font-size: 20px\"; class=\"alert alert-info\" role=\"alert\">\n",
        "  <h4 class=\"alert-heading\">Task</h4>\n",
        "Run the cells below.\n",
        "\n",
        "</div>\n",
        "'''\n",
        "\n",
        "display(HTML('<link href=\"https://nbviewer.org/static/build/styles.css\" rel=\"stylesheet\">'))\n",
        "display(HTML(alert_info))"
      ]
    },
    {
      "cell_type": "code",
      "execution_count": null,
      "metadata": {
        "id": "jd-C6okjnZyW"
      },
      "outputs": [],
      "source": [
        "# This finds NaNs and then we check whether we have them (True/False)\n",
        "nan_df = brains.ef__vrest.isna()\n",
        "nan_df.unique()"
      ]
    },
    {
      "cell_type": "code",
      "execution_count": null,
      "metadata": {
        "id": "FS_ygt_smsN-"
      },
      "outputs": [],
      "source": [
        "# This finds NaNs and then we check whether we have them (True/False)\n",
        "nan_df = brains.ef__avg_firing_rate.isna()\n",
        "nan_df.unique()"
      ]
    },
    {
      "cell_type": "markdown",
      "metadata": {
        "id": "-1HKwHuzRIRD"
      },
      "source": [
        "**Summary**: This means that there are not NaN values in the resting membrane potential. However, we do have to account for <b>NaNs in average firing rate</b> data. <br>\n",
        "You can also refer back to the descriptive tables you made above. If a mean value was NaN, it means there was no measurement for that condition."
      ]
    },
    {
      "cell_type": "markdown",
      "metadata": {
        "id": "12ErgeSvMKZq"
      },
      "source": [
        "---\n",
        "# Making Comparisons: Two sample statistics"
      ]
    },
    {
      "cell_type": "markdown",
      "metadata": {
        "id": "pOTKSP7yMMSa"
      },
      "source": [
        "When you conduct hypothesis testing 🧠 💭 , typically you want to test whether two distributions are different from each other. For example, do they show differences in the means of the distribution."
      ]
    },
    {
      "cell_type": "markdown",
      "metadata": {
        "id": "GC_50-eHOr7x"
      },
      "source": [
        "---\n",
        "## Parametrics statistics: t-tests\n",
        "\n",
        "If the distributions are normal we can use what are called parametric statistics. These include tests like t-tests. These are included in standard statistical packages (such as `stats` in `scipy`). This is a [package](https://docs.scipy.org/doc/scipy/reference/stats.html) we imported at the top of this notebook! <br>\n",
        "We could run these tests on our data with code like this: `stats.ttest_ind()` if we were running an independent samples t-test."
      ]
    },
    {
      "cell_type": "markdown",
      "metadata": {
        "id": "2zWtiwb7PNUD"
      },
      "source": [
        "---\n",
        "## Nonparametric statistics: Mann-Whitney U\n",
        "\n",
        "\n",
        "If instead the distributions we are dealing with in our data are not normal, we would use a nonparametric test. This type of test can be used when our population distributions are skewed. The type of test we would use in this case is called the Mann-Whitney U for independent samples: `stats.mannwhitneyu()`."
      ]
    },
    {
      "cell_type": "markdown",
      "metadata": {
        "id": "VNIjmySjPlgF"
      },
      "source": [
        "---\n",
        "## Determining which test to use - checking for skew\n",
        "To determine which we will use, we will check the skewness of our data. This option is also included in the `scipy` package, and we will use: `stats.skewtest()` to check the distributions of our variables of interest. <br><br>\n",
        "\n",
        "The results of the test will display a p-value and we will compare this to a cutoff of 5%. <br> If the p-value from the skewness results is less than 0.05, this indicates that our data is skewed."
      ]
    },
    {
      "cell_type": "code",
      "execution_count": null,
      "metadata": {
        "cellView": "form",
        "colab": {
          "base_uri": "https://localhost:8080/",
          "height": 229
        },
        "id": "Ye_K8VCwsOwx",
        "outputId": "73402753-f3ea-4b5e-e314-3ee8bf2e75a4"
      },
      "outputs": [
        {
          "data": {
            "text/html": [
              "<link href=\"https://nbviewer.org/static/build/styles.css\" rel=\"stylesheet\">"
            ],
            "text/plain": [
              "<IPython.core.display.HTML object>"
            ]
          },
          "metadata": {},
          "output_type": "display_data"
        },
        {
          "data": {
            "text/html": [
              "\n",
              "<div style= \"font-size: 20px\"; class=\"alert alert-info\" role=\"alert\">\n",
              "  <h4 class=\"alert-heading\">Question 12 (3 points)</h4>\n",
              "Subset the <code>brains</code> dataframe from above to get the data for all 3 brain regions. Replace the lines of code where you see <code>&ltinsert_column_name&gt</code> and <code>&ltinsert_brain_region_abbreviation&gt</code>.\n",
              "\n",
              "\n",
              "</div>\n"
            ],
            "text/plain": [
              "<IPython.core.display.HTML object>"
            ]
          },
          "metadata": {},
          "output_type": "display_data"
        }
      ],
      "source": [
        "#@title Question 12 (3 points)\n",
        "from IPython.display import HTML\n",
        "\n",
        "alert_info = '''\n",
        "<div style= \"font-size: 20px\"; class=\"alert alert-info\" role=\"alert\">\n",
        "  <h4 class=\"alert-heading\">Question 12 (3 points)</h4>\n",
        "Subset the <code>brains</code> dataframe from above to get the data for all 3 brain regions. Replace the lines of code where you see <code>&ltinsert_column_name&gt</code> and <code>&ltinsert_brain_region_abbreviation&gt</code>.\n",
        "\n",
        "\n",
        "</div>\n",
        "'''\n",
        "\n",
        "display(HTML('<link href=\"https://nbviewer.org/static/build/styles.css\" rel=\"stylesheet\">'))\n",
        "display(HTML(alert_info))"
      ]
    },
    {
      "cell_type": "code",
      "execution_count": null,
      "metadata": {
        "id": "HdmWCI3mj6Wk"
      },
      "outputs": [],
      "source": [
        "##--- Edit this\n",
        "# Subset the data into what we need for comparison\n",
        "frol_df = brains[brains['<insert_column_name']== '<insert_brain_region_abbreviation>']\n",
        "mtg_df = brains[brains['<insert_column_name']== '<insert_brain_region_abbreviation>']\n",
        "mfg_df = brains[brains['<insert_column_name']== '<insert_brain_region_abbreviation>']"
      ]
    },
    {
      "cell_type": "markdown",
      "metadata": {
        "id": "bfan4BicC3SP"
      },
      "source": [
        "👁 Don't peek at the solution yet until you've tried the code above 🙈! If you are stuck or completed the above and want to check your work, verify your answer below."
      ]
    },
    {
      "cell_type": "code",
      "execution_count": null,
      "metadata": {
        "cellView": "form",
        "id": "YgjkuF7GCv7Z"
      },
      "outputs": [],
      "source": [
        "#@title Hidden Code\n",
        "# subset the data into what we will need later\n",
        "frol_df = brains[brains['structure__acronym']== 'FroL']\n",
        "mtg_df = brains[brains['structure__acronym']== 'MTG']\n",
        "mfg_df = brains[brains['structure__acronym']== 'MFG']"
      ]
    },
    {
      "cell_type": "markdown",
      "metadata": {
        "id": "3LOccPSMTu8k"
      },
      "source": [
        "---\n",
        "## **Case Study Question 1:** Evaluating brain region 🧠 differences (FroL & MTG) in resting potential"
      ]
    },
    {
      "cell_type": "code",
      "execution_count": null,
      "metadata": {
        "cellView": "form",
        "colab": {
          "base_uri": "https://localhost:8080/",
          "height": 257
        },
        "id": "mOKFsoZXssI7",
        "outputId": "24fa18fc-4a68-4ea2-f835-58b0844ff3d7"
      },
      "outputs": [
        {
          "data": {
            "text/html": [
              "<link href=\"https://nbviewer.org/static/build/styles.css\" rel=\"stylesheet\">"
            ],
            "text/plain": [
              "<IPython.core.display.HTML object>"
            ]
          },
          "metadata": {},
          "output_type": "display_data"
        },
        {
          "data": {
            "text/html": [
              "\n",
              "<div style= \"font-size: 20px\"; class=\"alert alert-info\" role=\"alert\">\n",
              "  <h4 class=\"alert-heading\">Question 13 (4 points)</h4>\n",
              "Now we will run the skew test and plot the data for <b>resting potential</b>. Fill in the code below where it starts with <code>&ltinsert_...&gt</code> based on the dataframes we subset above and the correct column name for resting potential. <br>\n",
              "<i>Hint</i>: the column name has the text <code>rest</code> in it.\n",
              "</div>\n"
            ],
            "text/plain": [
              "<IPython.core.display.HTML object>"
            ]
          },
          "metadata": {},
          "output_type": "display_data"
        }
      ],
      "source": [
        "#@title Question 13 (4 points)\n",
        "from IPython.display import HTML\n",
        "\n",
        "alert_info = '''\n",
        "<div style= \"font-size: 20px\"; class=\"alert alert-info\" role=\"alert\">\n",
        "  <h4 class=\"alert-heading\">Question 13 (4 points)</h4>\n",
        "Now we will run the skew test and plot the data for <b>resting potential</b>. Fill in the code below where it starts with <code>&ltinsert_...&gt</code> based on the dataframes we subset above and the correct column name for resting potential. <br>\n",
        "<i>Hint</i>: the column name has the text <code>rest</code> in it.\n",
        "</div>\n",
        "'''\n",
        "\n",
        "display(HTML('<link href=\"https://nbviewer.org/static/build/styles.css\" rel=\"stylesheet\">'))\n",
        "display(HTML(alert_info))"
      ]
    },
    {
      "cell_type": "code",
      "execution_count": null,
      "metadata": {
        "id": "GhMpZObMk0Ud"
      },
      "outputs": [],
      "source": [
        "##--- Edit this\n",
        "# Subselect our samples- fill in this code\n",
        "sample_1 = <insert_dataframe_name_FroL>['<insert_colname_for_resting_potential>']\n",
        "sample_2 = <insert_dataframe_name_MTG>['<insert_colname_for_resting_potential>']\n",
        "\n",
        "######### Don't change below this line ------\n",
        "\n",
        "# Set this text for the plot- easiest to edit here as needed\n",
        "x_label_skew = \"Resting Membrane Potential (mV)\"                # x-axis label\n",
        "y_label_skew = \"Frequency (count)\"                              # y-axis label\n",
        "br1 = \"FroL\"                                                    # brain region 1 (br1)\n",
        "br2 = \"MTG\"                                                     # brain region 2 (br2)\n",
        "plot_title_skew_br1 = br1 + \" Distribution\"                     # combine text for title for plot1\n",
        "plot_title_skew_br2 = br2 + \" Distribution\"                     # combine text for title for plot2\n",
        "\n",
        "\n",
        "# set a theme for consistency and format\n",
        "sns.set_theme(style=\"ticks\", font_scale=1.25)                   # set the theme we want in seaborn (sns) - always start with this\n",
        "\n",
        "# Run the skew test\n",
        "stats_1, pvalue_1 = stats.skewtest(sample_1)                    # this runs the skewtest with the stats package for sample 1\n",
        "stats_2, pvalue_2 = stats.skewtest(sample_2)                    # this runs the skewtest with the stats package for sample 2\n",
        "\n",
        "# Print the p-value of both skew tests\n",
        "print(br1 + ' skew test pvalue: ' + str(pvalue_1))              # This shows us the output of the test: p-value for significance\n",
        "print(br2 + ' skew test pvalue: ' + str(pvalue_2))\n",
        "\n",
        "# Plot our distributions                                        # use plt (matplotlib) to setup plot and aesthetics\n",
        "plt.hist(sample_1)                                              # Start plot for sample 1 (FroL in this case)\n",
        "plt.title(plot_title_skew_br1)                                  # Title of chart\n",
        "plt.xlabel(x_label_skew)                                        # xlabel for this comparison- resting potential\n",
        "plt.ylabel(y_label_skew)                                        # hist plot so this is frequency or count (of cells)\n",
        "plt.show()                                                      # actually show the plot we created (this is important!)\n",
        "plt.hist(sample_2)                                              #### this repeats the above steps, but is adjusted for sample 2 (other brain region)\n",
        "plt.title(plot_title_skew_br2)\n",
        "plt.xlabel(x_label_skew)\n",
        "plt.ylabel(y_label_skew)\n",
        "plt.show()"
      ]
    },
    {
      "cell_type": "markdown",
      "metadata": {
        "id": "zIVr7yxhlfZu"
      },
      "source": [
        "What do these results show? You should see that our data are not considered skewed based on the plots and p-value."
      ]
    },
    {
      "cell_type": "markdown",
      "metadata": {
        "id": "jJFzthKwvgvb"
      },
      "source": [
        "This indicates that we should use the **Independent Samples T-test**. <br>\n",
        "We will do this using the `scipy` package we imported at the beginning. We called it [`stats`](https://docs.scipy.org/doc/scipy/reference/generated/scipy.stats.ttest_ind.html) and you will see it referenced below."
      ]
    },
    {
      "cell_type": "markdown",
      "metadata": {
        "id": "dV5TEk7rDeJQ"
      },
      "source": [
        "👁 Don't peek at the solution yet until you've tried the code above 🙈! If you are stuck or completed the above and want to check your work, verify your answer below."
      ]
    },
    {
      "cell_type": "code",
      "execution_count": null,
      "metadata": {
        "cellView": "form",
        "id": "5xrZFn6UDU-x"
      },
      "outputs": [],
      "source": [
        "#@title Hidden Code\n",
        "# Subselect our samples- fill in this code\n",
        "sample_1 = frol_df['ef__vrest']\n",
        "sample_2 = mtg_df['ef__vrest']"
      ]
    },
    {
      "cell_type": "code",
      "execution_count": null,
      "metadata": {
        "cellView": "form",
        "colab": {
          "base_uri": "https://localhost:8080/",
          "height": 200
        },
        "id": "GtvfNJVTtinP",
        "outputId": "28566165-2a32-45c5-800d-c6639972fc8f"
      },
      "outputs": [
        {
          "data": {
            "text/html": [
              "<link href=\"https://nbviewer.org/static/build/styles.css\" rel=\"stylesheet\">"
            ],
            "text/plain": [
              "<IPython.core.display.HTML object>"
            ]
          },
          "metadata": {},
          "output_type": "display_data"
        },
        {
          "data": {
            "text/html": [
              "\n",
              "<div style= \"font-size: 20px\"; class=\"alert alert-info\" role=\"alert\">\n",
              "  <h4 class=\"alert-heading\">Task</h4>\n",
              "Run the cell below to conduct the independent samples t-test.\n",
              "</div>\n"
            ],
            "text/plain": [
              "<IPython.core.display.HTML object>"
            ]
          },
          "metadata": {},
          "output_type": "display_data"
        }
      ],
      "source": [
        "#@title Task\n",
        "from IPython.display import HTML\n",
        "\n",
        "alert_info = '''\n",
        "<div style= \"font-size: 20px\"; class=\"alert alert-info\" role=\"alert\">\n",
        "  <h4 class=\"alert-heading\">Task</h4>\n",
        "Run the cell below to conduct the independent samples t-test.\n",
        "</div>\n",
        "'''\n",
        "\n",
        "display(HTML('<link href=\"https://nbviewer.org/static/build/styles.css\" rel=\"stylesheet\">'))\n",
        "display(HTML(alert_info))"
      ]
    },
    {
      "cell_type": "code",
      "execution_count": null,
      "metadata": {
        "id": "JKH_QUSpuN2T"
      },
      "outputs": [],
      "source": [
        "# Independent Samples t-test\n",
        "print(stats.ttest_ind(sample_1, sample_2))"
      ]
    },
    {
      "cell_type": "markdown",
      "metadata": {
        "id": "JWVMCn7OBeQs"
      },
      "source": [
        "---\n",
        "## Plotting our data for review: FroL & MTG Resting Membrane Potential"
      ]
    },
    {
      "cell_type": "markdown",
      "metadata": {
        "id": "_Wn5l7592YV2"
      },
      "source": [
        "Once you've run your statistical tests, it also helps to generate plots of the data to help you visualize these results. It also helps with interpretation (task you will complete after the plots). <br>\n",
        "The plots below use a package called `seaborn`, which we imported as `sns`. This works with matplotlib which we imported as `plt` to create plots and adjust any aesthetic settings you would like."
      ]
    },
    {
      "cell_type": "code",
      "execution_count": null,
      "metadata": {
        "cellView": "form",
        "colab": {
          "base_uri": "https://localhost:8080/",
          "height": 229
        },
        "id": "C-JOr2Njsamn",
        "outputId": "fdb0c604-7051-4913-9d1f-d7bdfe62fcfe"
      },
      "outputs": [
        {
          "data": {
            "text/html": [
              "<link href=\"https://nbviewer.org/static/build/styles.css\" rel=\"stylesheet\">"
            ],
            "text/plain": [
              "<IPython.core.display.HTML object>"
            ]
          },
          "metadata": {},
          "output_type": "display_data"
        },
        {
          "data": {
            "text/html": [
              "\n",
              "<div style= \"font-size: 20px\"; class=\"alert alert-info\" role=\"alert\">\n",
              "  <h4 class=\"alert-heading\">Task</h4>\n",
              "Run the cells below to view various plots of our data. You do not need to edit the code, it is given for you. You should briefly review it (comments provided) to check your understanding.\n",
              "</div>\n"
            ],
            "text/plain": [
              "<IPython.core.display.HTML object>"
            ]
          },
          "metadata": {},
          "output_type": "display_data"
        }
      ],
      "source": [
        "#@title Task\n",
        "from IPython.display import HTML\n",
        "\n",
        "alert_info = '''\n",
        "<div style= \"font-size: 20px\"; class=\"alert alert-info\" role=\"alert\">\n",
        "  <h4 class=\"alert-heading\">Task</h4>\n",
        "Run the cells below to view various plots of our data. You do not need to edit the code, it is given for you. You should briefly review it (comments provided) to check your understanding.\n",
        "</div>\n",
        "'''\n",
        "\n",
        "display(HTML('<link href=\"https://nbviewer.org/static/build/styles.css\" rel=\"stylesheet\">'))\n",
        "display(HTML(alert_info))"
      ]
    },
    {
      "cell_type": "markdown",
      "metadata": {
        "id": "vhpOFlNk2uPB"
      },
      "source": [
        "---\n",
        "## Plot 1: Strip Plot\n",
        "\n",
        "This is the default type of categorical plot in the seaborn package. It is similar to a scatterplot. This option includes some random 'jitter' in where the points are shown so that they do not overlap. This can be adjusted by setting the `jitter` option to `False` (`jitter = False`) in the plotting code."
      ]
    },
    {
      "cell_type": "code",
      "execution_count": null,
      "metadata": {
        "id": "wX-1JNtKhKTV"
      },
      "outputs": [],
      "source": [
        "## Strip plot\n",
        "\n",
        "# Set this text for the plot- easiest to edit here as needed\n",
        "x_label_name = \"Brain Region\"\n",
        "y_label_name = \"Resting Membrane Potential (mV)\"\n",
        "plot_title_rmp = \"Resting Membrane Potential Across Brain Regions\"\n",
        "fig_name_point = \"IndividPointPlot_BrainRegion_RestingPotential.png\"\n",
        "\n",
        "# Create our plot\n",
        "st = sns.catplot(                                           # use seaborn package (sns) and specify type of plot - strip plot\n",
        "            data = brains,                                  # specify the dataframe name\n",
        "            x = \"structure__acronym\",                       # variable for our x-axis (brain region)\n",
        "            y = \"ef__vrest\",                                # variable for our y axis (resting membrane potential)\n",
        "            hue = \"structure__acronym\",                     # color code by brain region (w/o this option, all would be same color)\n",
        "            palette = \"Set2\")                               # set the color palette we want- lots of options!\n",
        "\n",
        "# Adjustment + aesthetics of plot\n",
        "st.figure.set_size_inches(6.5, 4.5)                         # this sets the size and we will use to be consistent across all plots below\n",
        "sns.despine()                                               # remove top and right axes (w/o this, full box border)\n",
        "plt.xlabel(x_label_name)                                    # use matplotlib (plt) to adjust the x axis on this one\n",
        "plt.ylabel(y_label_name)                                    # use matplotlib (plt) to adjust the y axis on this one\n",
        "plt.title(plot_title_rmp, y=1.05)                           # add a title so we know what we plotted!\n",
        "plt.ylim(-85,-55);                                          # adjust the limits on the y-axis; we will pick same values across all plots for consistency\n",
        "\n",
        "# Save our figure to gdrive\n",
        "plt.savefig(save_path + fig_name_point, dpi=300, bbox_inches='tight')  # adjust the"
      ]
    },
    {
      "cell_type": "markdown",
      "metadata": {
        "id": "h51Tizc82r0s"
      },
      "source": [
        "---\n",
        "## Plot 2: Swarm Plot\n",
        "\n",
        "A swarm (or beeswarm) plot uses an algorithm to prevent overlap of points along the axis. It also gives a better view of the distribution of observations (compared to just plotting the raw data points)."
      ]
    },
    {
      "cell_type": "code",
      "execution_count": null,
      "metadata": {
        "id": "SnkYRsAo5cZw"
      },
      "outputs": [],
      "source": [
        "## Swarm plot\n",
        "\n",
        "# Set this text for the plot- easiest to edit here as needed\n",
        "x_label_name = \"Brain Region\"\n",
        "y_label_name = \"Resting Membrane Potential (mV)\"\n",
        "plot_title_rmp = \"Resting Membrane Potential Across Brain Regions\"\n",
        "fig_name_swarm = \"SwarmPlot_BrainRegion_RestingPotential.png\"\n",
        "\n",
        "# Create our plot\n",
        "s = sns.catplot(                                                # use seaborn package (sns) and specify type of plot - catplot\n",
        "            data = brains,                                      # specify the dataframe name\n",
        "            kind = \"swarm\",                                     # be more specific on plot type- swarm is a type of catplot\n",
        "            x = \"structure__acronym\",                           # variable for our x-axis (brain region)\n",
        "            y = \"ef__vrest\",                                    # variable for our y axis (resting membrane potential)\n",
        "            hue = \"structure__acronym\",                         # color code by brain region (w/o this option, all would be same color)\n",
        "            palette = \"Set2\",                                   # set the color palette we want- lots of options!\n",
        "            size = 4)                                           # this sets the size of the dots (larger sizes gives us warnings to be aware of)\n",
        "\n",
        "# Adjustment + aesthetics of plot\n",
        "s.set_axis_labels(x_label_name, y_label_name, labelpad=10)      # we label the x and y axes how we want (default is to use the column name for variable)\n",
        "s.figure.set_size_inches(6.5, 4.5)                              # this sets the size and we will use to be consistent across all plots below\n",
        "s.ax.margins(.15)                                               # this sets margins for axes and is used for consistency\n",
        "plt.title(plot_title_rmp, y=1.05)                               # add a title so we know what we plotted!\n",
        "plt.ylim(-85,-55);                                              # adjust the limits on the y-axis; we will pick same values across all plots for consistency\n",
        "\n",
        "# Save our figure to gdrive\n",
        "plt.savefig(save_path + fig_name_swarm, dpi=300, bbox_inches='tight')     # adjust the name to include correct plot type and variable being plotted"
      ]
    },
    {
      "cell_type": "markdown",
      "metadata": {
        "id": "8YjEw3aV27df"
      },
      "source": [
        "---\n",
        "## Plot 3: Boxplot\n",
        "\n",
        "As opposed to showing the raw data points themselves, these type of plots show the distribution of the data. It shows 3 quartile values along with extremes (dots). The lines (whiskers) extend to points in the data that lie within 1.5 IQRs of the lower/upper quartiles. Each value in the boxplot corresponds to an actual observation in the data."
      ]
    },
    {
      "cell_type": "code",
      "execution_count": null,
      "metadata": {
        "id": "Ub-kBC9DBhPv"
      },
      "outputs": [],
      "source": [
        "## Boxplot\n",
        "\n",
        "# Set this text for the plot- easiest to edit here as needed\n",
        "x_label_name = \"Brain Region\"\n",
        "y_label_name = \"Resting Membrane Potential (mV)\"\n",
        "plot_title_rmp = \"Resting Membrane Potential Across Brain Regions\"\n",
        "fig_name_box = \"Boxplot_BrainRegion_RestingPotential.png\"\n",
        "\n",
        "b = sns.boxplot(                                                # use seaborn package (sns) and specify type of plot - boxplot\n",
        "            data = brains,                                      # specify the dataframe name\n",
        "            x = \"structure__acronym\",                           # variable for our x-axis (brain region)\n",
        "            y = \"ef__vrest\",                                    # variable for our y axis (resting membrane potential)\n",
        "            hue = \"structure__acronym\",                         # color code by brain region (w/o this option, all would be same color)\n",
        "            palette = \"Set2\")                                   # set the color palette we want- lots of options!\n",
        "\n",
        "# Adjustment + aesthetics of plot\n",
        "sns.despine()                                                  # remove top and right axes\n",
        "b.figure.set_size_inches(6.5, 4.5)                             # this sets the size and we will use to be consistent across all plots below\n",
        "s.ax.margins(.15)                                              # this sets margins for axes and is used for consistency\n",
        "plt.title(plot_title_rmp, y=1.05)                              # add a title so we know what we plotted!\n",
        "plt.xlabel(x_label_name)                                       # label for x axis\n",
        "plt.ylabel(y_label_name);                                      # label for y axis\n",
        "plt.ylim(-85,-55);                                             # adjust the limits on the y-axis; we will pick same values across all plots for consistency\n",
        "\n",
        "# Save our figure to gdrive\n",
        "plt.savefig(save_path + fig_name_box, dpi=300, bbox_inches='tight')  # adjust the name to include correct plot type and variable being plotted"
      ]
    },
    {
      "cell_type": "markdown",
      "metadata": {
        "id": "Y09rmnUy2wfd"
      },
      "source": [
        "---\n",
        "## Plot 4: Violin Plot (with boxplot)\n",
        "\n",
        "A common plot used to visualize distributions is a histogram. This is a bar plot where data is divided into discrete bins and the count of observations falling into each bin is plotted as the height of the bar. We won't create those plots here, but this is the idea behind the shape of a violin plot. We include a boxplot and a [kernel density estimation procedure](https://seaborn.pydata.org/tutorial/distributions.html#kernel-density-estimation) that smooths the data to produce the violin plot."
      ]
    },
    {
      "cell_type": "code",
      "execution_count": null,
      "metadata": {
        "id": "owXGLdBT5xlv"
      },
      "outputs": [],
      "source": [
        "## Violin plot w/boxplot\n",
        "\n",
        "# Set this text for the plot- easiest to edit here as needed\n",
        "x_label_name = \"Brain Region\"\n",
        "y_label_name = \"Resting Membrane Potential (mV)\"\n",
        "plot_title_rmp = \"Resting Membrane Potential Across Brain Regions\"\n",
        "fig_name_vb = \"ViolinBoxplot_BrainRegion_RestingPotential.png\"\n",
        "\n",
        "# Create our plot\n",
        "g = sns.catplot(                                                         # use seaborn package (sns) and specify type of plot - catplot\n",
        "            data = brains,                                               # specify the dataframe name\n",
        "            kind = \"violin\",                                             # be more specific on plot type- violin is a type of catplot\n",
        "            x = \"structure__acronym\",                                    # variable for our x-axis (brain region)\n",
        "            y = \"ef__vrest\",                                             # variable for our y axis (resting membrane potential)\n",
        "            hue = \"structure__acronym\",                                  # color code by brain region (w/o this option, all would be same color)\n",
        "            palette = \"Set2\")                                            # set the color palette we want- lots of options!\n",
        "            #order=[\"MTG\", \"FroL\", \"MFG\"])                               # optional: if you want to change the order of the brain regions along the axis, you can specify here\n",
        "\n",
        "# Adjustment + aesthetics of plot\n",
        "g.set_axis_labels(x_label_name, y_label_name, labelpad=10)               # we label the x and y axes how we want (default is to use the column name for variable)\n",
        "g.figure.set_size_inches(6.5, 4.5)                                       # this sets the size and we will use to be consistent across all plots below\n",
        "g.ax.margins(.15)                                                        # this sets margins for axes and is used for consistency\n",
        "plt.title(plot_title_rmp, y=1.05)                                        # add a title so we know what we plotted!\n",
        "plt.ylim(-85,-55);                                                       # adjust the limits on the y-axis; we will pick same values across all plots for consistency\n",
        "\n",
        "# Save our figure to gdrive\n",
        "plt.savefig(save_path + fig_name_vb, dpi=300, bbox_inches='tight')  # adjust the name to include correct plot type and variable being plotted"
      ]
    },
    {
      "cell_type": "markdown",
      "metadata": {
        "id": "_sty7cgl2z3w"
      },
      "source": [
        "---\n",
        "## Plot 5: Violin Plot (with swarm)\n",
        "\n",
        "As you've started to see, you can combine plot types and display information to help get a better picture of the data. Here we show each observation along with a summary of the distribution."
      ]
    },
    {
      "cell_type": "code",
      "execution_count": null,
      "metadata": {
        "id": "nCpAdJ387loU"
      },
      "outputs": [],
      "source": [
        "## Violin plot w/swarm\n",
        "\n",
        "# Set this text for the plot- easiest to edit here as needed\n",
        "x_label_name = \"Brain Region\"\n",
        "y_label_name = \"Resting Membrane Potential (mV)\"\n",
        "plot_title_rmp = \"Resting Membrane Potential Across Brain Regions\"\n",
        "fig_name_vs = \"ViolinSwarm_BrainRegion_RestingPotential.png\"\n",
        "\n",
        "# Create our cat plot\n",
        "v = sns.catplot(                                                       # use seaborn package (sns) and specify type of plot - catplot\n",
        "                data = brains,                                         # specify the dataframe name\n",
        "                kind = \"violin\",                                       # be more specific on plot type- violin is a type of catplot\n",
        "                x = \"structure__acronym\",                              # variable for our x-axis (brain region)\n",
        "                y = \"ef__vrest\",                                       # variable for our y axis (resting membrane potential)\n",
        "                inner = None,                                          # this option allows you to show data as sticks. we use none because we will add the swarm dots in the next step\n",
        "                hue = \"structure__acronym\",                            # color code by brain region (w/o this option, all would be same color)\n",
        "                palette = \"Set2\")                                      # set the color palette we want- lots of options!\n",
        "\n",
        "# hue and palette can be set for different colors of each violin\n",
        "# Create our swarm plot to overlay\n",
        "t = sns.swarmplot(                                                     # we add a swarmplot to our violins\n",
        "              data = brains,                                           # specify the dataframe name\n",
        "              x = \"structure__acronym\",                                # variable for our x-axis (brain region)\n",
        "              y = \"ef__vrest\",                                         # variable for our y axis (resting membrane potential)\n",
        "              color =\" k\",                                             # sets the color to black for dots (default is blue)\n",
        "              size = 3,                                                # sets the size of the dots\n",
        "              ax = v.ax)                                               # use same axes as the ones above from (which we assigned to 'v')\n",
        "\n",
        "# Adjustment + aesthetics of plot\n",
        "v.set_axis_labels(x_label_name, y_label_name, labelpad=10)             # we label the x and y axes how we want (default is to use the column name for variable)\n",
        "v.figure.set_size_inches(6.5, 4.5)                                     # this sets the size and we will use to be consistent across all plots below\n",
        "v.ax.margins(.15)                                                      # this sets margins for axes and is used for consistency\n",
        "plt.title(plot_title_rmp, y=1.05)                                      # add a title so we know what we plotted!\n",
        "plt.ylim(-85,-55);                                                     # adjust the limits on the y-axis; we will pick same values across all plots for consistency\n",
        "\n",
        "# Save our figure to gdrive\n",
        "plt.savefig(save_path + fig_name_vs, dpi=300, bbox_inches='tight')     # adjust the name to include correct plot type and variable being plotted"
      ]
    },
    {
      "cell_type": "markdown",
      "metadata": {
        "id": "lNjgVxHO249x"
      },
      "source": [
        "---\n",
        "## Plot 6: Point Plot\n",
        "\n",
        "Another option is to show measures of central tendency (mean, standard deviation). Here we plot those instead of the distribution."
      ]
    },
    {
      "cell_type": "code",
      "execution_count": null,
      "metadata": {
        "id": "zXsbwVaM775J"
      },
      "outputs": [],
      "source": [
        "## Point plot\n",
        "\n",
        "# Set this text for the plot- easiest to edit here as needed\n",
        "x_label_name = \"Brain Region\"\n",
        "y_label_name = \"Resting Membrane Potential (mV)\"\n",
        "plot_title_rmp = \"Resting Membrane Potential Across Brain Regions\"\n",
        "fig_name_point = \"PointPlot_BrainRegion_RestingPotential.png\"\n",
        "\n",
        "p = sns.catplot(                                                # use seaborn package (sns) and specify type of plot - catplot\n",
        "            data = brains,                                      # specify the dataframe name\n",
        "            kind = \"point\",                                     # be more specific on plot type- point is a type of catplot\n",
        "            x = \"structure__acronym\",                           # variable for our x-axis (brain region)\n",
        "            y = \"ef__vrest\",                                    # variable for our y axis (resting membrane potential)\n",
        "            hue = \"structure__acronym\",                         # color code by brain region (w/o this option, all would be same color)\n",
        "            palette = \"Set2\",                                   # set the color palette we want- lots of options!\n",
        "            errorbar = \"sd\")                                    # plot the standard deviation; default is ci\n",
        "\n",
        "\n",
        "# Label adjustment + aesthetics\n",
        "p.figure.set_size_inches(6.5, 4.5)                              # this sets the size and we will use to be consistent across all plots below\n",
        "p.ax.margins(.15)                                               # this sets margins for axes and is used for consistency\n",
        "plt.title(plot_title_rmp, y=1.05)                               # add a title so we know what we plotted!\n",
        "plt.xlabel(x_label_name)                                        # label for x axis\n",
        "plt.ylabel(y_label_name);                                       # label for y axis\n",
        "plt.ylim(-85,-55);                                              # adjust the limits on the y-axis; we will pick same values across all plots for consistency\n",
        "\n",
        "# Save our figure to gdrive\n",
        "plt.savefig(save_path + fig_name_point, dpi=300, bbox_inches='tight')  # adjust the name to include correct plot type and variable being plotted"
      ]
    },
    {
      "cell_type": "markdown",
      "metadata": {
        "id": "QpPKj-kL2_gS"
      },
      "source": [
        "---\n",
        "## Results Write-Up\n",
        "For your write up, you do **not** need all of these plots. Dr. McKim enjoys data visualization and writing code for plots 🙃 Pick your favorite and include a **single plot (for each comparison)** when you respond to the written questions that summarize your results."
      ]
    },
    {
      "cell_type": "code",
      "execution_count": null,
      "metadata": {
        "cellView": "form",
        "colab": {
          "base_uri": "https://localhost:8080/",
          "height": 286
        },
        "id": "j0josfmztvvT",
        "outputId": "b6e5cad3-6427-42b4-8a91-6f0efed40d21"
      },
      "outputs": [
        {
          "data": {
            "text/html": [
              "<link href=\"https://nbviewer.org/static/build/styles.css\" rel=\"stylesheet\">"
            ],
            "text/plain": [
              "<IPython.core.display.HTML object>"
            ]
          },
          "metadata": {},
          "output_type": "display_data"
        },
        {
          "data": {
            "text/html": [
              "\n",
              "<div style= \"font-size: 20px\"; class=\"alert alert-info\" role=\"alert\">\n",
              "  <h4 class=\"alert-heading\">Question 14 (4 points)</h4>\n",
              "Interpret the results of your test. What can you say about the difference between temporal and non-temporal neurons? What can't you say?<br>\n",
              "Think about the sample you were testing when you describe what your results apply to. <br>\n",
              "You can also go back to the descriptives, and also the plots we made above to think about these questions. <br>\n",
              "You can look at the mean values for each brain region and state how the two compare- how do they differ?\n",
              "</div>\n"
            ],
            "text/plain": [
              "<IPython.core.display.HTML object>"
            ]
          },
          "metadata": {},
          "output_type": "display_data"
        }
      ],
      "source": [
        "#@title Question 14 (4 points)\n",
        "from IPython.display import HTML\n",
        "\n",
        "alert_info = '''\n",
        "<div style= \"font-size: 20px\"; class=\"alert alert-info\" role=\"alert\">\n",
        "  <h4 class=\"alert-heading\">Question 14 (4 points)</h4>\n",
        "Interpret the results of your test. What can you say about the difference between temporal and non-temporal neurons? What can't you say?<br>\n",
        "Think about the sample you were testing when you describe what your results apply to. <br>\n",
        "You can also go back to the descriptives, and also the plots we made above to think about these questions. <br>\n",
        "You can look at the mean values for each brain region and state how the two compare- how do they differ?\n",
        "</div>\n",
        "'''\n",
        "\n",
        "display(HTML('<link href=\"https://nbviewer.org/static/build/styles.css\" rel=\"stylesheet\">'))\n",
        "display(HTML(alert_info))"
      ]
    },
    {
      "cell_type": "markdown",
      "metadata": {
        "id": "n3W5Cbe4xqUx"
      },
      "source": [
        "**Make sure to respond to this question in the text cell below!**"
      ]
    },
    {
      "cell_type": "markdown",
      "metadata": {
        "id": "6RHNwB66xQi7"
      },
      "source": [
        "*Type your response here*"
      ]
    },
    {
      "cell_type": "markdown",
      "metadata": {
        "id": "RN05HIZVt157"
      },
      "source": [
        "---\n",
        "## Example of how to interpret/write the results"
      ]
    },
    {
      "cell_type": "markdown",
      "metadata": {
        "id": "FPd4UHgjqI3b"
      },
      "source": [
        "\n",
        "^ In the above text, make sure to reference the comparison of brain regions and what variable was compared. You should also state the results of the test. Here is an example of template text that you can adapt. Don't just copy and paste it as is - you need to edit it.<br><br>\n",
        "\n",
        "A `<insert_name_of_test>` was performed to evaluate whether `<insert_dependent_variable>` differed by `<insert_independent_variable>`. <br> <br>\n",
        "\n",
        "The results indicated that <br>\n",
        "**If not significant results**<br>\n",
        "`there was **no** significant difference`  between the `<insert_dependent_variable>` of `<insert_group1_of_independent_variable>` and `<insert_group2_of_independent_variable>` <br>\n",
        "OR <br>\n",
        "**If significant results**<br>\n",
        "`<insert_group1_of_independent_variable>` had significantly **higher/lower** `<insert_dependent_variable>` than `<insert_group2_of_independent_variable>` <br><br>\n",
        "**Both statements should include the test statistics used** <br>\n",
        "(U = `value of Mann-Whitney U`, *p* = `value of p`) OR *t*(`value for degrees of freedom`) = `value of t-statistic`, *p* = `value of p`). <br> <br>\n",
        "\n",
        "**Example**: A Mann-Whitney U test was performed to evaluate whether a person's frisbee throwing distance differed by dog ownership. <br>\n",
        "The results indicated that dog owners had significantly greater frisbee throwing distances than non-dog owners, U = 192, p = 0.04. <br>\n",
        "\n",
        "If you want to review a web resource for this, the example text from above comes from [here](https://ezspss.com/how-to-report-a-mann-whitney-u-test-from-spss-in-apa-style/)\n"
      ]
    },
    {
      "cell_type": "markdown",
      "metadata": {
        "id": "wrMXFg7OwsIy"
      },
      "source": [
        "---\n",
        "## **Case Study Question 2:** Evaluating brain region differences (FroL & MTG) 🧠 in average firing rate\n"
      ]
    },
    {
      "cell_type": "markdown",
      "metadata": {
        "id": "-z4T71a0wuJV"
      },
      "source": [
        "\n",
        "Note that in the code below, we account for NaNs by removing those observations from consideration. We didn't have data there, so we have to tell python to ignore them. If we didn't do this, the results for the test and plot would all come out to NaN and not tell us anything about our data."
      ]
    },
    {
      "cell_type": "code",
      "execution_count": null,
      "metadata": {
        "cellView": "form",
        "colab": {
          "base_uri": "https://localhost:8080/",
          "height": 200
        },
        "id": "MvHysjZ-uPG3",
        "outputId": "575e6392-94e2-4d50-c522-fb3571c752ed"
      },
      "outputs": [
        {
          "data": {
            "text/html": [
              "<link href=\"https://nbviewer.org/static/build/styles.css\" rel=\"stylesheet\">"
            ],
            "text/plain": [
              "<IPython.core.display.HTML object>"
            ]
          },
          "metadata": {},
          "output_type": "display_data"
        },
        {
          "data": {
            "text/html": [
              "\n",
              "<div style= \"font-size: 20px\"; class=\"alert alert-info\" role=\"alert\">\n",
              "  <h4 class=\"alert-heading\">Question 15 (4 points)</h4>\n",
              "Repeat the above procedure, but now use the column that contains data for <b>average firing rate</b>\n",
              "</div>\n"
            ],
            "text/plain": [
              "<IPython.core.display.HTML object>"
            ]
          },
          "metadata": {},
          "output_type": "display_data"
        }
      ],
      "source": [
        "#@title Question 15 (4 points)\n",
        "from IPython.display import HTML\n",
        "\n",
        "alert_info = '''\n",
        "<div style= \"font-size: 20px\"; class=\"alert alert-info\" role=\"alert\">\n",
        "  <h4 class=\"alert-heading\">Question 15 (4 points)</h4>\n",
        "Repeat the above procedure, but now use the column that contains data for <b>average firing rate</b>\n",
        "</div>\n",
        "'''\n",
        "\n",
        "display(HTML('<link href=\"https://nbviewer.org/static/build/styles.css\" rel=\"stylesheet\">'))\n",
        "display(HTML(alert_info))"
      ]
    },
    {
      "cell_type": "code",
      "execution_count": null,
      "metadata": {
        "id": "YdWPa2YHT-Mx"
      },
      "outputs": [],
      "source": [
        "##--- Edit this\n",
        "# Edit the `sample_1` and `sample_2` assignment statements\n",
        "sample_3 = <insert_dataframe_name_FroL>['<insert_colname_for_average_firing_rate>']\n",
        "sample_4 = <insert_dataframe_name_MTG>['<insert_colname_for_average_firing_rate>']\n",
        "\n",
        "# Don't change below this line ----\n",
        "\n",
        "# Set this text for the plot- easiest to edit here as needed\n",
        "x_label_name_skew = \"Average Firing Rate (spikes/s)\"                    # variable/column of interest for comparison\n",
        "y_label_name_skew = \"Frequency (count)\"                                 # y axis label of histogram\n",
        "br1 = \"FroL\"                                                            # brain region 1 (br1)\n",
        "br2 = \"MTG\"                                                             # brain region 2 (br2)\n",
        "plot_title_skew_br1 = br1 + \" Distribution\"\n",
        "plot_title_skew_br2 = br2 + \" Distribution\"\n",
        "\n",
        "# Run the skew test\n",
        "stats_3, pvalue_3 = stats.skewtest(sample_3, nan_policy = 'omit')       ###### here is how we deal with NaNs\n",
        "stats_4, pvalue_4 = stats.skewtest(sample_4, nan_policy = 'omit')       # this runs the skewtest with the stats package\n",
        "\n",
        "# Print the p-value of both skew tests\n",
        "print(br1 + ' skew test pvalue: ' + str(pvalue_3))                      # This shows us the output of the test: p-value for significance\n",
        "print(br2 + ' skew test pvalue: ' + str(pvalue_4))\n",
        "\n",
        "# Plot our distributions                                                # use plt (matplotlib) to setup plot and aesthetics\n",
        "plt.hist(sample_3)                                                      # Start plot for sample 3 (FroL in this case)\n",
        "plt.title(plot_title_skew_br1)                                          # Title of chart\n",
        "plt.xlabel(x_label_name_skew)                                           # xlabel for this comparison- average firing rate\n",
        "plt.ylabel(y_label_name_skew)                                           # hist plot so this is frequency or count (of cells)\n",
        "plt.show()                                                              # actually show the plot we created (this is important!)\n",
        "plt.hist(sample_4)                                                      #### this repeats the above steps, but is adjusted for sample 4 (other brain region)\n",
        "plt.title(plot_title_skew_br2)                                          # Title of chart\n",
        "plt.xlabel(x_label_name_skew)                                           # xlabel for this comparison- average firing rate\n",
        "plt.ylabel(y_label_name_skew)                                           # hist plot so this is frequency or count (of cells)\n",
        "plt.show()"
      ]
    },
    {
      "cell_type": "markdown",
      "metadata": {
        "id": "GcTTf2gmw5Mt"
      },
      "source": [
        "This indicates we should use the **Mann-Whitney U test**.<br>\n",
        "\n"
      ]
    },
    {
      "cell_type": "markdown",
      "metadata": {
        "id": "v0xdG4erHuNp"
      },
      "source": [
        "👁 Don't peek at the solution yet until you've tried the code above 🙈! If you are stuck or completed the above and want to check your work, verify your answer below."
      ]
    },
    {
      "cell_type": "code",
      "execution_count": null,
      "metadata": {
        "cellView": "form",
        "id": "op2TeDu_Hus2"
      },
      "outputs": [],
      "source": [
        "#@title Hidden Code\n",
        "# Subselect our samples\n",
        "sample_3 = frol_df['ef__avg_firing_rate']\n",
        "sample_4 = mtg_df['ef__avg_firing_rate']"
      ]
    },
    {
      "cell_type": "code",
      "execution_count": null,
      "metadata": {
        "cellView": "form",
        "colab": {
          "base_uri": "https://localhost:8080/",
          "height": 200
        },
        "id": "axtdqAAdudn_",
        "outputId": "ef3d1f2d-a828-4982-ffd8-a4c3f0806c6d"
      },
      "outputs": [
        {
          "data": {
            "text/html": [
              "<link href=\"https://nbviewer.org/static/build/styles.css\" rel=\"stylesheet\">"
            ],
            "text/plain": [
              "<IPython.core.display.HTML object>"
            ]
          },
          "metadata": {},
          "output_type": "display_data"
        },
        {
          "data": {
            "text/html": [
              "\n",
              "<div style= \"font-size: 20px\"; class=\"alert alert-info\" role=\"alert\">\n",
              "  <h4 class=\"alert-heading\">Task</h4>\n",
              "Run the cell below.\n",
              "</div>\n"
            ],
            "text/plain": [
              "<IPython.core.display.HTML object>"
            ]
          },
          "metadata": {},
          "output_type": "display_data"
        }
      ],
      "source": [
        "#@title Task\n",
        "from IPython.display import HTML\n",
        "\n",
        "alert_info = '''\n",
        "<div style= \"font-size: 20px\"; class=\"alert alert-info\" role=\"alert\">\n",
        "  <h4 class=\"alert-heading\">Task</h4>\n",
        "Run the cell below.\n",
        "</div>\n",
        "'''\n",
        "\n",
        "display(HTML('<link href=\"https://nbviewer.org/static/build/styles.css\" rel=\"stylesheet\">'))\n",
        "display(HTML(alert_info))"
      ]
    },
    {
      "cell_type": "code",
      "execution_count": null,
      "metadata": {
        "id": "RsbOJlq1w8Ue"
      },
      "outputs": [],
      "source": [
        "# Mann-Whitney U test\n",
        "print(stats.mannwhitneyu(sample_3, sample_4, nan_policy= 'omit'))     # here is how we deal with NaNs"
      ]
    },
    {
      "cell_type": "markdown",
      "metadata": {
        "id": "vkbes2thKmzN"
      },
      "source": [
        "---\n",
        "## Plotting our data for review: FroL & MTG Average Firing Rate\n",
        "\n",
        "\n",
        "Once you've run your statistical tests, it also helps to generate plots of the data to help you visualize these results. It also helps with interpretation (your task after the plots). <br>\n",
        "The plots below again use `seaborn`, which we imported as `sns`. This works with matplotlib which we imported as `plt` to create plots and adjust any aesthetic settings you would like."
      ]
    },
    {
      "cell_type": "markdown",
      "metadata": {
        "id": "A4aNohCY5nH_"
      },
      "source": [
        "---\n",
        "## Plot 1: Strip Plot\n",
        "\n",
        "This is the default type of categorical plot in the seaborn package. It is similar to a scatterplot. This option includes some random 'jitter' in where the points are shown so that they do not overlap. This can be adjusted by setting the `jitter` option to `False` (`jitter = False`) in the plotting code."
      ]
    },
    {
      "cell_type": "code",
      "execution_count": null,
      "metadata": {
        "id": "Iuuww2qz5nH_"
      },
      "outputs": [],
      "source": [
        "## Strip plot\n",
        "\n",
        "# Set this text for the plot- easiest to edit here as needed\n",
        "x_label_name = \"Brain Region\"\n",
        "y_label_name_afr = \"Average Firing Rate (spikes/s)\"\n",
        "plot_title_afr = \"Average Firing Rate Across Brain Regions\"\n",
        "fig_name_strip_afr = \"StripPlot_BrainRegion_AvgFiringRate.png\"\n",
        "\n",
        "# Create our plot\n",
        "st = sns.stripplot(                                         # use seaborn package (sns) and specify type of plot - strip plot\n",
        "            data = brains,                                  # specify the dataframe name\n",
        "            x = \"structure__acronym\",                       # variable for our x-axis (brain region)\n",
        "            y = \"ef__avg_firing_rate\",                      # variable for our y axis (average firing rate)\n",
        "            hue = \"structure__acronym\",                     # color code by brain region (w/o this option, all would be same color)\n",
        "            palette = \"Set2\")                               # set the color palette we want- lots of options!\n",
        "\n",
        "# Adjustment + aesthetics of plot\n",
        "st.figure.set_size_inches(6.5, 4.5)                         # this sets the size and we will use to be consistent across all plots below\n",
        "sns.despine()                                               # remove top and right axes (w/o this, full box border)\n",
        "plt.xlabel(x_label_name)                                    # use matplotlib (plt) to adjust the x axis on this one\n",
        "plt.ylabel(y_label_name_afr)                                # use matplotlib (plt) to adjust the y axis on this one\n",
        "plt.title(plot_title_afr, y=1.05)                           # add a title so we know what we plotted!\n",
        "plt.ylim(-5,180);                                           # adjust the limits on the y-axis; we will pick same values across all plots for consistency\n",
        "\n",
        "# Save our figure to gdrive\n",
        "plt.savefig(save_path + fig_name_strip_afr, dpi=300, bbox_inches='tight')  # adjust the name to include correct plot type and variable being plotted"
      ]
    },
    {
      "cell_type": "markdown",
      "metadata": {
        "id": "O3OtPmxf5nH-"
      },
      "source": [
        "---\n",
        "## Plot 2: Swarm Plot\n",
        "\n",
        "A swarm (or beeswarm) plot uses an algorithm to prevent overlap of points along the axis. It also gives a better view of the distribution of observations (compared to just plotting the raw data points)."
      ]
    },
    {
      "cell_type": "code",
      "execution_count": null,
      "metadata": {
        "id": "rkXCmk5j5nH_"
      },
      "outputs": [],
      "source": [
        "## Swarm plot\n",
        "\n",
        "# Set this text for the plot- easiest to edit here as needed\n",
        "x_label_name = \"Brain Region\"\n",
        "y_label_name_afr = \"Average Firing Rate (spikes/s)\"\n",
        "plot_title_afr = \"Average Firing Rate Across Brain Regions\"\n",
        "fig_name_swarm_afr = \"SwarmPlot_BrainRegion_AvgFiringRate.png\"\n",
        "\n",
        "# Create our plot\n",
        "s = sns.catplot(                                                # use seaborn package (sns) and specify type of plot - catplot\n",
        "            data = brains,                                      # specify the dataframe name\n",
        "            kind = \"swarm\",                                     # be more specific on plot type- swarm is a type of catplot\n",
        "            x = \"structure__acronym\",                           # variable for our x-axis (brain region)\n",
        "            y = \"ef__avg_firing_rate\",                          # variable for our y axis (average firing rate)\n",
        "            hue = \"structure__acronym\",                         # color code by brain region (w/o this option, all would be same color)\n",
        "            palette = \"Set2\",                                   # set the color palette we want- lots of options!\n",
        "            size = 3)                                           # this sets the size of the dots (larger sizes gives us warnings to be aware of)\n",
        "\n",
        "# Adjustment + aesthetics of plot\n",
        "s.set_axis_labels(x_label_name, y_label_name_afr, labelpad=10)  # we label the x and y axes how we want (default is to use the column name for variable)\n",
        "s.figure.set_size_inches(6.5, 4.5)                              # this sets the size and we will use to be consistent across all plots below\n",
        "s.ax.margins(.15)                                               # this sets margins for axes and is used for consistency\n",
        "plt.title(plot_title_afr, y=1.05)                               # add a title so we know what we plotted!\n",
        "plt.ylim(-5,180);                                               # adjust the limits on the y-axis; we will pick same values across all plots for consistency\n",
        "\n",
        "# Save our figure to gdrive\n",
        "plt.savefig(save_path + fig_name_swarm_afr, dpi=300, bbox_inches='tight')     # adjust the name to include correct plot type and variable being plotted"
      ]
    },
    {
      "cell_type": "markdown",
      "metadata": {
        "id": "Fo8v4j075nIA"
      },
      "source": [
        "---\n",
        "## Plot 3: Boxplot\n",
        "\n",
        "This type of plot shows the distribution of the data. It shows 3 quartile values along with extremes (dots). The lines (whiskers) extend to points in the data that lie within 1.5 IQRs of the lower/upper quartiles. Each value in the boxplot corresponds to an actual observation in the data."
      ]
    },
    {
      "cell_type": "code",
      "execution_count": null,
      "metadata": {
        "id": "bUhk2hX25nIA"
      },
      "outputs": [],
      "source": [
        "## Boxplot\n",
        "\n",
        "# Set this text for the plot- easiest to edit here as needed\n",
        "x_label_name = \"Brain Region\"\n",
        "y_label_name_afr = \"Average Firing Rate (spikes/s)\"\n",
        "plot_title_afr = \"Average Firing Rate Across Brain Regions\"\n",
        "fig_name_box_afr = \"Boxplot_BrainRegion_AvgFiringRate.png\"\n",
        "\n",
        "b = sns.boxplot(                                                # use seaborn package (sns) and specify type of plot - boxplot\n",
        "            data = brains,                                      # specify the dataframe name\n",
        "            x = \"structure__acronym\",                           # variable for our x-axis (brain region)\n",
        "            y = \"ef__avg_firing_rate\",                          # variable for our y axis (average firing rate)\n",
        "            hue = \"structure__acronym\",                         # color code by brain region (w/o this option, all would be same color)\n",
        "            palette = \"Set2\")                                   # set the color palette we want- lots of options!\n",
        "\n",
        "# Adjustment + aesthetics of plot\n",
        "sns.despine()                                                   # remove top and right axes\n",
        "b.figure.set_size_inches(6.5, 4.5)                              # this sets the size and we will use to be consistent across all plots below\n",
        "s.ax.margins(.15)                                               # this sets margins for axes and is used for consistency\n",
        "plt.title(plot_title_afr, y=1.05)                               # add a title so we know what we plotted!\n",
        "plt.xlabel(x_label_name)                                        # label for x axis\n",
        "plt.ylabel(y_label_name_afr);                                   # label for y axis\n",
        "#plt.ylim(0,180);                                               # adjust the limits on the y-axis; we will pick same values across all plots for consistency\n",
        "\n",
        "# Save our figure to gdrive\n",
        "plt.savefig(save_path + fig_name_box_afr, dpi=300, bbox_inches='tight')  # adjust the name to include correct plot type and variable being plotted"
      ]
    },
    {
      "cell_type": "markdown",
      "metadata": {
        "id": "qH4jqQcO5nH_"
      },
      "source": [
        "---\n",
        "## Plot 4: Violin Plot (with boxplot)\n",
        "As opposed to showing the raw data points themselves, these type of plots show the distribution of the data. A common plot used to visualize distributions is a histogram. This is a bar plot where data is divided into discrete bins and the count of observations falling into each bin is plotted as the height of the bar. We won't create those plots here, but this is the idea behind the shape of a violin plot. We include a boxplot and a [kernel density estimation procedure](https://seaborn.pydata.org/tutorial/distributions.html#kernel-density-estimation) that smooths the data to produce the violin plot."
      ]
    },
    {
      "cell_type": "code",
      "execution_count": null,
      "metadata": {
        "id": "Kf2mVyIP5nH_"
      },
      "outputs": [],
      "source": [
        "## Violin plot w/boxplot\n",
        "\n",
        "# Set this text for the plot- easiest to edit here as needed\n",
        "x_label_name = \"Brain Region\"\n",
        "y_label_name_afr = \"Average Firing Rate (spikes/s)\"\n",
        "plot_title_afr = \"Average Firing Rate Across Brain Regions\"\n",
        "fig_name_vb_afr = \"ViolinBox_BrainRegion_AvgFiringRate.png\"\n",
        "\n",
        "# Create our plot\n",
        "g = sns.catplot(                                                         # use seaborn package (sns) and specify type of plot - catplot\n",
        "            data = brains,                                               # specify the dataframe name\n",
        "            kind = \"violin\",                                             # be more specific on plot type- violin is a type of catplot\n",
        "            x = \"structure__acronym\",                                    # variable for our x-axis (brain region)\n",
        "            y = \"ef__avg_firing_rate\",                                   # variable for our y axis (average firing rate)\n",
        "            hue = \"structure__acronym\",                                  # color code by brain region (w/o this option, all would be same color)\n",
        "            palette = \"Set2\")                                            # set the color palette we want- lots of options!\n",
        "            #order = [\"MTG\", \"FroL\", \"MFG\"])                             # optional: if you want to change the order of the brain regions along the axis, you can specify here\n",
        "\n",
        "# Adjustment + aesthetics of plot\n",
        "g.set_axis_labels(x_label_name, y_label_name_afr, labelpad=10)          # we label the x and y axes how we want (default is to use the column name for variable)\n",
        "g.figure.set_size_inches(6.5, 4.5)                                      # this sets the size and we will use to be consistent across all plots below\n",
        "g.ax.margins(.15)                                                       # this sets margins for axes and is used for consistency\n",
        "plt.title(plot_title_afr, y=1.05)                                       # add a title so we know what we plotted!\n",
        "#plt.ylim(0,180);                                                       # adjust the limits on the y-axis; we will pick same values across all plots for consistency\n",
        "\n",
        "# Save our figure to gdrive\n",
        "plt.savefig(save_path + fig_name_vb_afr, dpi=300, bbox_inches='tight')  # adjust the name to include correct plot type and variable being plotted"
      ]
    },
    {
      "cell_type": "markdown",
      "metadata": {
        "id": "BXwt96xo5nH_"
      },
      "source": [
        "---\n",
        "## Plot 5: Violin Plot (with swarm)\n",
        "\n",
        "As you've started to see, you can combine plot types and display information to help get a better picture of the data. Here we show each observation along with a summary of the distribution."
      ]
    },
    {
      "cell_type": "code",
      "execution_count": null,
      "metadata": {
        "id": "LFlhmXIw5nIA"
      },
      "outputs": [],
      "source": [
        "## Violin plot w/swarm\n",
        "\n",
        "# Set this text for the plot- easiest to edit here as needed\n",
        "x_label_name = \"Brain Region\"\n",
        "y_label_name_afr = \"Average Firing Rate (spikes/s)\"\n",
        "plot_title_afr = \"Average Firing Rate Across Brain Regions\"\n",
        "fig_name_vs_afr = \"ViolinSwarm_BrainRegion_AvgFiringRate.png\"\n",
        "\n",
        "# Create our cat plot\n",
        "v = sns.catplot(                                                       # use seaborn package (sns) and specify type of plot - catplot\n",
        "                data = brains,                                         # specify the dataframe name\n",
        "                kind = \"violin\",                                       # be more specific on plot type- violin is a type of catplot\n",
        "                x = \"structure__acronym\",                              # variable for our x-axis (brain region)\n",
        "                y = \"ef__avg_firing_rate\",                             # variable for our y axis (average firing rate)\n",
        "                inner = None,                                          # this option allows you to show data as sticks. we use none because we will add the swarm dots in the next step\n",
        "                hue = \"structure__acronym\",                            # color code by brain region (w/o this option, all would be same color)\n",
        "                palette = \"Set2\")                                      # set the color palette we want- lots of options!\n",
        "\n",
        "# hue and palette can be set for different colors of each violin\n",
        "# Create our swarm plot to overlay\n",
        "t = sns.swarmplot(                                                     # we add a swarmplot to our violins\n",
        "              data = brains,                                           # specify the dataframe name\n",
        "              x = \"structure__acronym\",                                # variable for our x-axis (brain region)\n",
        "              y = \"ef__avg_firing_rate\",                               # variable for our y axis (average firing rate)\n",
        "              color = \"k\",                                             # sets the color to black for dots (default is blue)\n",
        "              size = 2,                                                # sets the size of the dots\n",
        "              ax = v.ax)                                               # use same axes as the ones above from (which we assigned to 'v')\n",
        "\n",
        "# Adjustment + aesthetics of plot\n",
        "v.set_axis_labels(x_label_name, y_label_name_afr, labelpad=10)         # we label the x and y axes how we want (default is to use the column name for variable)\n",
        "v.figure.set_size_inches(6.5, 4.5)                                     # this sets the size and we will use to be consistent across all plots below\n",
        "v.ax.margins(.15)                                                      # this sets margins for axes and is used for consistency\n",
        "plt.title(plot_title_afr, y=1.05)                                      # add a title so we know what we plotted!\n",
        "#plt.ylim(0,180);                                                      # adjust the limits on the y-axis; we will pick same values across all plots for consistency\n",
        "\n",
        "# Save our figure to gdrive\n",
        "plt.savefig(save_path + fig_name_vs_afr, dpi=300, bbox_inches='tight') # adjust the name to include correct plot type and variable being plotted"
      ]
    },
    {
      "cell_type": "markdown",
      "metadata": {
        "id": "NQGPOfO25nIA"
      },
      "source": [
        "---\n",
        "## Plot 6: Point Plot\n",
        "\n",
        "Another option is to show measures of central tendency (mean, standard deviation). Here we plot those instead of the distribution."
      ]
    },
    {
      "cell_type": "code",
      "execution_count": null,
      "metadata": {
        "id": "q1AROSWg5nIA"
      },
      "outputs": [],
      "source": [
        "## Point plot\n",
        "\n",
        "# Set this text for the plot- easiest to edit here as needed\n",
        "x_label_name = \"Brain Region\"\n",
        "y_label_name_afr = \"Average Firing Rate (spikes/s)\"\n",
        "plot_title_afr = \"Average Firing Rate Across Brain Regions\"\n",
        "fig_name_point_afr = \"PointPlot_BrainRegion_AvgFiringRate.png\"\n",
        "\n",
        "p = sns.catplot(                                                # use seaborn package (sns) and specify type of plot - catplot\n",
        "            data = brains,                                      # specify the dataframe name\n",
        "            kind = \"point\",                                     # be more specific on plot type- point is a type of catplot\n",
        "            x = \"structure__acronym\",                           # variable for our x-axis (brain region)\n",
        "            y = \"ef__avg_firing_rate\",                          # variable for our y axis (average firing rate)\n",
        "            hue = \"structure__acronym\",                         # color code by brain region (w/o this option, all would be same color)\n",
        "            palette = \"Set2\",                                   # set the color palette we want- lots of options!\n",
        "            errorbar = \"sd\")                                    # plot the standard deviation; default is ci\n",
        "\n",
        "\n",
        "# Label adjustment + aesthetics\n",
        "p.figure.set_size_inches(6.5, 4.5)                              # this sets the size and we will use to be consistent across all plots below\n",
        "p.ax.margins(.15)                                               # this sets margins for axes and is used for consistency\n",
        "plt.title(plot_title_afr, y=1.05)                               # add a title so we know what we plotted!\n",
        "plt.xlabel(x_label_name)                                        # label for x axis\n",
        "plt.ylabel(y_label_name_afr);                                   # label for y axis\n",
        "#plt.ylim(0,180);                                               # adjust the limits on the y-axis; we will pick same values across all plots for consistency\n",
        "\n",
        "# Save our figure to gdrive\n",
        "plt.savefig(save_path + fig_name_point_afr, dpi=300, bbox_inches='tight')  # adjust the name to include correct plot type and variable being plotted"
      ]
    },
    {
      "cell_type": "markdown",
      "metadata": {
        "id": "Ghyx5GIVIcG6"
      },
      "source": [
        "## Results Write-Up\n",
        "For your write up, you do **not** need all of these plots. Dr. McKim enjoys data visualization and writing code for plots 🙃 Pick your favorite and include a **single plot (for each comparison)** when you respond to the written questions that summarize your results."
      ]
    },
    {
      "cell_type": "code",
      "execution_count": null,
      "metadata": {
        "cellView": "form",
        "colab": {
          "base_uri": "https://localhost:8080/",
          "height": 286
        },
        "id": "jqJO2zSvupQN",
        "outputId": "f3213ac6-61ed-4144-dd6e-71bb2b7cfbc6"
      },
      "outputs": [
        {
          "data": {
            "text/html": [
              "<link href=\"https://nbviewer.org/static/build/styles.css\" rel=\"stylesheet\">"
            ],
            "text/plain": [
              "<IPython.core.display.HTML object>"
            ]
          },
          "metadata": {},
          "output_type": "display_data"
        },
        {
          "data": {
            "text/html": [
              "\n",
              "<div style= \"font-size: 20px\"; class=\"alert alert-info\" role=\"alert\">\n",
              "  <h4 class=\"alert-heading\">Question 16 (4 points)</h4>\n",
              "Interpret the results of your test. What can you say about the difference between temporal and non-temporal neurons? What can't you say? Think about the sample you were testing when you describe what your results apply to.\n",
              "You can also go back to the descriptives, and also the plots we made above to think about these questions. <br>\n",
              "You can look at the mean values for each brain region and state how the two compare- how do they differ?\n",
              "</div>\n"
            ],
            "text/plain": [
              "<IPython.core.display.HTML object>"
            ]
          },
          "metadata": {},
          "output_type": "display_data"
        }
      ],
      "source": [
        "#@title Question 16 (4 points)\n",
        "from IPython.display import HTML\n",
        "\n",
        "alert_info = '''\n",
        "<div style= \"font-size: 20px\"; class=\"alert alert-info\" role=\"alert\">\n",
        "  <h4 class=\"alert-heading\">Question 16 (4 points)</h4>\n",
        "Interpret the results of your test. What can you say about the difference between temporal and non-temporal neurons? What can't you say? Think about the sample you were testing when you describe what your results apply to.\n",
        "You can also go back to the descriptives, and also the plots we made above to think about these questions. <br>\n",
        "You can look at the mean values for each brain region and state how the two compare- how do they differ?\n",
        "</div>\n",
        "'''\n",
        "\n",
        "display(HTML('<link href=\"https://nbviewer.org/static/build/styles.css\" rel=\"stylesheet\">'))\n",
        "display(HTML(alert_info))"
      ]
    },
    {
      "cell_type": "markdown",
      "metadata": {
        "id": "hMe37seQx_RB"
      },
      "source": [
        "**Make sure to respond to this question in the text cell below!**"
      ]
    },
    {
      "cell_type": "markdown",
      "metadata": {
        "id": "cjvwmyj0xNqK"
      },
      "source": [
        "*Type your response here*"
      ]
    },
    {
      "cell_type": "markdown",
      "metadata": {
        "id": "qNBv8X95uDay"
      },
      "source": [
        "^ Refer back to the **'Example of how to interpret/write the results'** section to answer this"
      ]
    },
    {
      "cell_type": "markdown",
      "metadata": {
        "id": "p6Fc72UbUzQP"
      },
      "source": [
        "---\n",
        "# Comparison of your choice 🔎"
      ]
    },
    {
      "cell_type": "markdown",
      "metadata": {
        "id": "YeFIC7zVU1r4"
      },
      "source": [
        "Using this data, make an additional comparison of your choice. <br>\n",
        "1.   Describe your comparison 🖊\n",
        "2.   Check the data for skew and plot ✅\n",
        "3.   Run the appropriate test: independent t-test or Mann-Whitney U 📈 📉\n",
        "     - you **should not** run both tests- use the results of the skew test to tell you which one to use\n",
        "4.   Interpret the results of your statistical comparison 🤔 💭"
      ]
    },
    {
      "cell_type": "markdown",
      "metadata": {
        "id": "D1BbEhGDVXqi"
      },
      "source": [
        "---\n",
        "## Step 1. Describe your comparison. What did you choose to do?<br>\n",
        "\n",
        "<u>**Option 1:**</u>\n",
        "*     For this you can choose to *compare 2 different brain regions* instead of the combination we did above. Choose only from these options: **FroL**, **MTG**, and **MFG**.\n",
        "      - We are focusing on these because they have the most cells compared to the others for valid comparisons) <br>\n",
        "*     Again, you want to compare them on either **resting potential** or **average firing rate**.\n",
        "      - Make sure to copy the correct code- if you work with data that contains NaNs and you don't see any plots when you run your skew tests, you need to go back up and use the correct code that accounts for NaNs (example was with average firing rate).\n",
        "*    You do not need to create any additional plots (we've already done all brain regions) so refer to the ones above when needed.\n",
        "\n",
        "**OR**\n",
        "\n",
        "<u>**Option 2:**</u>\n",
        "*     You could instead compare *across 2 cortical layers* within a *single brain region*. If you do this, do not pick FroL (not enough cells for skew test), so go with **MTG** or **MFG** with layers that have **at least 8 cells** (requirement for valid skew test).  \n",
        "      - Go back to the descriptive table to check so that you do not try to compare layers that have less than 8 cells or a NaN value!\n",
        "*     Again, you want to compare them on either **resting potential** or **average firing rate**.\n",
        "      - Make sure to copy the correct code- if you work with data that contains NaNs and you don't see any plots when you run your skew tests, you need to go back up and use the correct code that accounts for NaNs (example was with average firing rate).\n",
        "*    You need to **create 1 plot for the layers** (we've already done all brain regions) based on the example code provided.\n",
        "\n",
        "  ^ We are happy to help you with this- so please ask if you can't figure it out!"
      ]
    },
    {
      "cell_type": "code",
      "execution_count": 7,
      "metadata": {
        "cellView": "form",
        "colab": {
          "base_uri": "https://localhost:8080/",
          "height": 200
        },
        "id": "dYChW9GBvwmV",
        "outputId": "73866cbe-41f0-4141-a67f-45b6d2270785"
      },
      "outputs": [
        {
          "output_type": "display_data",
          "data": {
            "text/plain": [
              "<IPython.core.display.HTML object>"
            ],
            "text/html": [
              "<link href=\"https://nbviewer.org/static/build/styles.css\" rel=\"stylesheet\">"
            ]
          },
          "metadata": {}
        },
        {
          "output_type": "display_data",
          "data": {
            "text/plain": [
              "<IPython.core.display.HTML object>"
            ],
            "text/html": [
              "\n",
              "<div style= \"font-size: 20px\"; class=\"alert alert-info\" role=\"alert\">\n",
              "  <h4 class=\"alert-heading\">Question 17.1 (4 points)</h4>\n",
              "Type your response in the text cell below.\n",
              "</div>\n"
            ]
          },
          "metadata": {}
        }
      ],
      "source": [
        "#@title Question 17.1 (4 points)\n",
        "from IPython.display import HTML\n",
        "\n",
        "alert_info = '''\n",
        "<div style= \"font-size: 20px\"; class=\"alert alert-info\" role=\"alert\">\n",
        "  <h4 class=\"alert-heading\">Question 17.1 (4 points)</h4>\n",
        "Type your response in the text cell below.\n",
        "</div>\n",
        "'''\n",
        "\n",
        "display(HTML('<link href=\"https://nbviewer.org/static/build/styles.css\" rel=\"stylesheet\">'))\n",
        "display(HTML(alert_info))"
      ]
    },
    {
      "cell_type": "markdown",
      "metadata": {
        "id": "gdGRE14fVdWH"
      },
      "source": [
        "*Type your response here*"
      ]
    },
    {
      "cell_type": "markdown",
      "metadata": {
        "id": "7p4sZGulKSDw"
      },
      "source": [
        "---\n",
        "## Create dataframes for your comparison"
      ]
    },
    {
      "cell_type": "code",
      "execution_count": null,
      "metadata": {
        "cellView": "form",
        "colab": {
          "base_uri": "https://localhost:8080/",
          "height": 543
        },
        "id": "kizoh899v2XF",
        "outputId": "03ec0a97-fcce-45ed-9881-abdec72c5ac7"
      },
      "outputs": [
        {
          "data": {
            "text/html": [
              "<link href=\"https://nbviewer.org/static/build/styles.css\" rel=\"stylesheet\">"
            ],
            "text/plain": [
              "<IPython.core.display.HTML object>"
            ]
          },
          "metadata": {},
          "output_type": "display_data"
        },
        {
          "data": {
            "text/html": [
              "\n",
              "<div style= \"font-size: 20px\"; class=\"alert alert-info\" role=\"alert\">\n",
              "  <h4 class=\"alert-heading\">Task</h4>\n",
              "You need an intermediate step here to actually create dataframes for whatever comparison you are doing. <br><br>\n",
              "\n",
              "1. If you are going to use MFG, we created a subset of this data above already. The dataframe to use is <code>mfg_df</code>, so you don't need to complete the cells below. But remember this for the following questions!<br><br>\n",
              "2. If you are going to compare across <b>2 cortical layers</b>, then you need to create 2 dataframes that are for your single brain that contain each layer separately. <br>\n",
              "<br>\n",
              "<i>Hint</i>: If you are unsure how to create a dataframe based on 2 conditions (brain region & cortical layer), start with the dataframes that contain only a single brain region.\n",
              "Subset the brain region dataframe to find the data from the appropriate column for only the cortical layer you are interested in. <br>\n",
              "Note that the column that contains cortical layer info is actually a string (' ') and not a number! <br> <br>\n",
              "Ask the instructor or TA for help if you are stuck!\n",
              "\n",
              "</div>\n"
            ],
            "text/plain": [
              "<IPython.core.display.HTML object>"
            ]
          },
          "metadata": {},
          "output_type": "display_data"
        }
      ],
      "source": [
        "#@title Task\n",
        "from IPython.display import HTML\n",
        "\n",
        "alert_info = '''\n",
        "<div style= \"font-size: 20px\"; class=\"alert alert-info\" role=\"alert\">\n",
        "  <h4 class=\"alert-heading\">Task</h4>\n",
        "You need an intermediate step here to actually create dataframes for whatever comparison you are doing. <br><br>\n",
        "\n",
        "1. If you are going to use MFG, we created a subset of this data above already. The dataframe to use is <code>mfg_df</code>, so you don't need to complete the cells below. But remember this for the following questions!<br><br>\n",
        "2. If you are going to compare across <b>2 cortical layers</b>, then you need to create 2 dataframes that are for your single brain that contain each layer separately. <br>\n",
        "<br>\n",
        "<i>Hint</i>: If you are unsure how to create a dataframe based on 2 conditions (brain region & cortical layer), start with the dataframes that contain only a single brain region.\n",
        "Subset the brain region dataframe to find the data from the appropriate column for only the cortical layer you are interested in. <br>\n",
        "Note that the column that contains cortical layer info is actually a string (' ') and not a number! <br> <br>\n",
        "Ask the instructor or TA for help if you are stuck!\n",
        "\n",
        "</div>\n",
        "'''\n",
        "\n",
        "display(HTML('<link href=\"https://nbviewer.org/static/build/styles.css\" rel=\"stylesheet\">'))\n",
        "display(HTML(alert_info))"
      ]
    },
    {
      "cell_type": "markdown",
      "metadata": {
        "id": "rchj-3vcHR0F"
      },
      "source": [
        "This is also a helpful link with an example: https://pandas.pydata.org/docs/getting_started/intro_tutorials/03_subset_data.html"
      ]
    },
    {
      "cell_type": "code",
      "execution_count": null,
      "metadata": {
        "id": "vzof3LdgWPDW"
      },
      "outputs": [],
      "source": [
        "##--- Instructions for *cortical layers*\n",
        "# You need several steps:\n",
        "# 1. Filter the dataset to create 2 separate dataframes that contain only the brain region and one cortical layer per dataframe\n",
        "    # basically take the dataframe for a single brain region and filter it to get the cortical layer you are interested in\n",
        "    # these 2 dataframes are needed for the skew test and running the stat test"
      ]
    },
    {
      "cell_type": "code",
      "execution_count": null,
      "metadata": {
        "id": "Hn5o5XnGcZqz"
      },
      "outputs": [],
      "source": [
        "##--- Edit this\n",
        "# Code goes here for your dataframes if you are going to work with cortical layers\n",
        "\n",
        "# This is your one brain region with each cortical layer in a separate dataframe (2 total)\n",
        "# These dataframes are needed for skew test and statistical comparison\n",
        "\n",
        "<insert_brain_region_abbrev>_layer<insert_number> = <insert_brain_region_abbrev>_layers_df[<insert_brain_region_abbrev>_layers_df['<insert_colum_name_for_cortical_layers>'] == '<insert_number_of_cortical_layer>']\n",
        "<insert_brain_region_abbrev>_layer<insert_number> = <insert_brain_region_abbrev>_layers_df[<insert_brain_region_abbrev>_layers_df['<insert_colum_name_for_cortical_layers>'] == '<insert_number_of_cortical_layer>']"
      ]
    },
    {
      "cell_type": "markdown",
      "metadata": {
        "id": "48R3Toh3VfNH"
      },
      "source": [
        "---\n",
        "## Step 2. Edit the code for skew test and skew plot below"
      ]
    },
    {
      "cell_type": "code",
      "execution_count": 8,
      "metadata": {
        "cellView": "form",
        "colab": {
          "base_uri": "https://localhost:8080/",
          "height": 257
        },
        "id": "PE4BbkuUw8kX",
        "outputId": "15475f4f-62d2-4610-c919-07674fdc28e9"
      },
      "outputs": [
        {
          "output_type": "display_data",
          "data": {
            "text/plain": [
              "<IPython.core.display.HTML object>"
            ],
            "text/html": [
              "<link href=\"https://nbviewer.org/static/build/styles.css\" rel=\"stylesheet\">"
            ]
          },
          "metadata": {}
        },
        {
          "output_type": "display_data",
          "data": {
            "text/plain": [
              "<IPython.core.display.HTML object>"
            ],
            "text/html": [
              "\n",
              "<div style= \"font-size: 20px\"; class=\"alert alert-info\" role=\"alert\">\n",
              "  <h4 class=\"alert-heading\">Question 17.2 (4 points)</h4>\n",
              "Make sure to <b>edit</b> the code below as needed for your comparison! <br>\n",
              "There are two examples below- make sure to use the correct one for your comparison <br>\n",
              "You only need to complete 1 based on your comparison\n",
              "</div>\n"
            ]
          },
          "metadata": {}
        }
      ],
      "source": [
        "#@title Question 17.2 (4 points)\n",
        "from IPython.display import HTML\n",
        "\n",
        "alert_info = '''\n",
        "<div style= \"font-size: 20px\"; class=\"alert alert-info\" role=\"alert\">\n",
        "  <h4 class=\"alert-heading\">Question 17.2 (4 points)</h4>\n",
        "Make sure to <b>edit</b> the code below as needed for your comparison! <br>\n",
        "There are two examples below- make sure to use the correct one for your comparison <br>\n",
        "You only need to complete 1 based on your comparison\n",
        "</div>\n",
        "'''\n",
        "\n",
        "display(HTML('<link href=\"https://nbviewer.org/static/build/styles.css\" rel=\"stylesheet\">'))\n",
        "display(HTML(alert_info))"
      ]
    },
    {
      "cell_type": "code",
      "execution_count": null,
      "metadata": {
        "id": "q-Lz76sgViGl"
      },
      "outputs": [],
      "source": [
        "##--- Example for additional *Brain Region* Comparison\n",
        "\n",
        "# Edit the `sample_5` and `sample_6` assignment statements\n",
        "sample_5 = <insert_dataframe_name_forBrainRegion>['<insert_colname_for_variable>']  # **EDIT** - name for brain region 1 & variable to compare (choose ONE: resting potential OR avg firing rate)\n",
        "sample_6 = <insert_dataframe_name_forBrainRegion>['<insert_colname_for_variable>']  # **EDIT** - name for brain region 2 & variable to compare (choose ONE: resting potential OR avg firing rate)\n",
        "\n",
        "# Set this text for the plot- easiest to edit here as needed\n",
        "x_label_name_skew = \"Average Firing Rate (spikes/s)\"                    # **EDIT** - variable/column of interest for comparison\n",
        "y_label_name_skew = \"Frequency (count)\"                                 # y axis label of histogram (don't change)\n",
        "br1 = \"FroL\"                                                            # **EDIT** - brain region 1 (br1)\n",
        "br2 = \"MTG\"                                                             # **EDIT** - brain region 2 (br2)\n",
        "plot_title_skew_br1 = br1 + \" Distribution\"                             # don't change these\n",
        "plot_title_skew_br2 = br2 + \" Distribution\"\n",
        "\n",
        "\n",
        "# Don't change below this line ----\n",
        "# Run the skew test\n",
        "stats_5, pvalue_5 = stats.skewtest(sample_5, nan_policy = 'omit')       # **EDIT** - determine if you need to deal with NaNs, leaving in or removing nan_policy as necessary\n",
        "stats_6, pvalue_6 = stats.skewtest(sample_6, nan_policy = 'omit')       # **EDIT** - determine if you need to deal with NaNs, leaving in or removing nan_policy as necessary\n",
        "\n",
        "# Print the p-value of both skew tests\n",
        "print(br1 + '  skew test pvalue: ' + str(pvalue_5))                     # **EDIT** - make sure you changed the name of the brain region above\n",
        "print(br2 + ' skew test pvalue: ' + str(pvalue_6))                      # **EDIT** - make sure you changed the name of the brain region above\n",
        "\n",
        "# Plot our distributions                                                # don't edit these\n",
        "plt.hist(sample_5)\n",
        "plt.title(plot_title_skew_br1)\n",
        "plt.xlabel(x_label_name_skew)\n",
        "plt.ylabel(y_label_name_skew)\n",
        "plt.show()\n",
        "plt.hist(sample_6)\n",
        "plt.title(plot_title_skew_br2)\n",
        "plt.xlabel(x_label_name_skew)\n",
        "plt.ylabel(y_label_name_skew)\n",
        "plt.show()"
      ]
    },
    {
      "cell_type": "code",
      "execution_count": null,
      "metadata": {
        "id": "QoLOaP8y_KQV"
      },
      "outputs": [],
      "source": [
        "##--- Example for *Cortical Layer* comparison\n",
        "\n",
        "# Edit the `sample_5` and `sample_6` assignment statements\n",
        "sample_5 = <insert_dataframe_name_forCorticalLayer>['<insert_colname_for_variable>']  # **EDIT** - name for cortical layer 1 & variable to compare (choose ONE: resting potential OR avg firing rate)\n",
        "sample_6 = <insert_dataframe_name_forCorticalLayer>['<insert_colname_for_variable>']  # **EDIT** - name for cortical layer 2 & variable to compare (choose ONE: resting potential OR avg firing rate)\n",
        "\n",
        "# Set this text for the plot- easiest to edit here as needed\n",
        "x_label_name_skew = \"Name of Variable Goes here\"                        # **EDIT** - variable/column of interest for comparison\n",
        "y_label_name_skew = \"Frequency (count)\"                                 # y axis label of histogram (don't change)\n",
        "cl1 = \"Cortical Layer\"                                                  # **EDIT** - cortical layer 1 (cl1)\n",
        "cl2 = \"Cortical Layer\"                                                  # **EDIT** - cortical layer 2 (cl2)\n",
        "plot_title_skew_cl1 = cl1 + \" Distribution\"                             # don't change these\n",
        "plot_title_skew_cl2 = cl2 + \" Distribution\"\n",
        "\n",
        "\n",
        "# Don't change below this line ----\n",
        "# Run the skew test\n",
        "stats_5, pvalue_5 = stats.skewtest(sample_5, nan_policy = 'omit')       # **EDIT** - determine if you need to deal with NaNs, leaving in or removing nan_policy as necessary\n",
        "stats_6, pvalue_6 = stats.skewtest(sample_6, nan_policy = 'omit')       # **EDIT** - determine if you need to deal with NaNs, leaving in or removing nan_policy as necessary\n",
        "\n",
        "# Print the p-value of both skew tests\n",
        "print(cl1 + ' skew test pvalue: ' + str(pvalue_5))                      # **EDIT** - make sure you changed the name of the cortical layer name above\n",
        "print(cl2 + ' skew test pvalue: ' + str(pvalue_6))                      # **EDIT** - make sure you changed the name of the cortical layer name above\n",
        "\n",
        "# Plot our distributions                                                # don't change these\n",
        "plt.hist(sample_5)\n",
        "plt.title(plot_title_skew_cl1)\n",
        "plt.xlabel(x_label_name_skew)\n",
        "plt.ylabel(y_label_name_skew)\n",
        "plt.show()\n",
        "plt.hist(sample_6)\n",
        "plt.title(plot_title_skew_cl2)\n",
        "plt.xlabel(x_label_name_skew)\n",
        "plt.ylabel(y_label_name_skew)\n",
        "plt.show()"
      ]
    },
    {
      "cell_type": "markdown",
      "metadata": {
        "id": "f_-gzQCdVj6_"
      },
      "source": [
        "---\n",
        "## Step 3. Run the appropriate test based on the skew test"
      ]
    },
    {
      "cell_type": "code",
      "execution_count": 9,
      "metadata": {
        "cellView": "form",
        "colab": {
          "base_uri": "https://localhost:8080/",
          "height": 200
        },
        "id": "flaDOW0YxJjT",
        "outputId": "856fbbaa-af80-4ca3-8a2d-ca3b8d4d664d"
      },
      "outputs": [
        {
          "output_type": "display_data",
          "data": {
            "text/plain": [
              "<IPython.core.display.HTML object>"
            ],
            "text/html": [
              "<link href=\"https://nbviewer.org/static/build/styles.css\" rel=\"stylesheet\">"
            ]
          },
          "metadata": {}
        },
        {
          "output_type": "display_data",
          "data": {
            "text/plain": [
              "<IPython.core.display.HTML object>"
            ],
            "text/html": [
              "\n",
              "<div style= \"font-size: 20px\"; class=\"alert alert-info\" role=\"alert\">\n",
              "  <h4 class=\"alert-heading\">Question 17.3 (4 points)</h4>\n",
              "Copy and paste the code from above that you might need, making sure to <b>edit</b> it as needed for your comparison!\n",
              "</div>\n"
            ]
          },
          "metadata": {}
        }
      ],
      "source": [
        "#@title Question 17.3 (4 points)\n",
        "from IPython.display import HTML\n",
        "\n",
        "alert_info = '''\n",
        "<div style= \"font-size: 20px\"; class=\"alert alert-info\" role=\"alert\">\n",
        "  <h4 class=\"alert-heading\">Question 17.3 (4 points)</h4>\n",
        "Copy and paste the code from above that you might need, making sure to <b>edit</b> it as needed for your comparison!\n",
        "</div>\n",
        "'''\n",
        "\n",
        "display(HTML('<link href=\"https://nbviewer.org/static/build/styles.css\" rel=\"stylesheet\">'))\n",
        "display(HTML(alert_info))"
      ]
    },
    {
      "cell_type": "code",
      "execution_count": null,
      "metadata": {
        "id": "0Duuu0t3X5cq"
      },
      "outputs": [],
      "source": [
        "##--- Edit this\n",
        "# Independent t-test OR Mann-Whitney U (you should not run both- the one chosen depends on results of skew test)\n",
        "\n",
        "                                                # **EDIT** make sure to check the sample numbers to match above\n",
        "                                                # **EDIT** make sure you omit NaNs if needed"
      ]
    },
    {
      "cell_type": "markdown",
      "metadata": {
        "id": "E1g8eGhRLaU4"
      },
      "source": [
        "---\n",
        "## Plot for Cortical Layer Comparison Only"
      ]
    },
    {
      "cell_type": "code",
      "execution_count": null,
      "metadata": {
        "cellView": "form",
        "colab": {
          "base_uri": "https://localhost:8080/",
          "height": 286
        },
        "id": "kMvTCxYNdWgp",
        "outputId": "762623ff-1e06-4d10-e4af-cb8c0834571b"
      },
      "outputs": [
        {
          "data": {
            "text/html": [
              "<link href=\"https://nbviewer.org/static/build/styles.css\" rel=\"stylesheet\">"
            ],
            "text/plain": [
              "<IPython.core.display.HTML object>"
            ]
          },
          "metadata": {},
          "output_type": "display_data"
        },
        {
          "data": {
            "text/html": [
              "\n",
              "<div style= \"font-size: 20px\"; class=\"alert alert-info\" role=\"alert\">\n",
              "  <h4 class=\"alert-heading\">Task</h4>\n",
              "<b>Extra step</b>: if you are comparing across cortical layers, you need to create a plot here. <br><br>\n",
              "If you are comparing brain regions, we already made the plots above, so those can be reviewed for interpretation here.<br>\n",
              "Two examples are below. Make sure to <b>edit</b> these as you need for your variable of interest, or choose another one and try it out on your own!\n",
              "</div>\n"
            ],
            "text/plain": [
              "<IPython.core.display.HTML object>"
            ]
          },
          "metadata": {},
          "output_type": "display_data"
        }
      ],
      "source": [
        "#@title Task\n",
        "from IPython.display import HTML\n",
        "\n",
        "alert_info = '''\n",
        "<div style= \"font-size: 20px\"; class=\"alert alert-info\" role=\"alert\">\n",
        "  <h4 class=\"alert-heading\">Task</h4>\n",
        "<b>Extra step</b>: if you are comparing across cortical layers, you need to create a plot here. <br><br>\n",
        "If you are comparing brain regions, we already made the plots above, so those can be reviewed for interpretation here.<br>\n",
        "Two examples are below. Make sure to <b>edit</b> these as you need for your variable of interest, or choose another one and try it out on your own!\n",
        "</div>\n",
        "'''\n",
        "\n",
        "display(HTML('<link href=\"https://nbviewer.org/static/build/styles.css\" rel=\"stylesheet\">'))\n",
        "display(HTML(alert_info))"
      ]
    },
    {
      "cell_type": "code",
      "execution_count": null,
      "metadata": {
        "id": "K_NURxKMdi_V"
      },
      "outputs": [],
      "source": [
        "##--- Edit this- plotting code for *cortical layer* comparison\n",
        "\n",
        "# This is an example for the swarm plot, but you are welcome to pick any of the ones above that you would like\n",
        "# Review this to help you adapt those if you decide to try them out!\n",
        "\n",
        "## Swarm plot - all cortical layers\n",
        "\n",
        "# Set this text for the plot- easiest to edit here as needed\n",
        "x_label_name_cl = \"Cortical Layers\"\n",
        "y_label_name_cl = \"Average Firing Rate (spikes/s)\"               # **EDIT** - this depends on comparison y axis\n",
        "plot_title_cl = \"Average Firing Rate Across Brain Regions\"       # **EDIT** - this depends on comparison y axis\n",
        "fig_name_swarm_cl = \"Swarm_CorticalLayer_AvgFiringRate.png\"      # **EDIT** - this depends on comparison y axis\n",
        "\n",
        "# Create our plot\n",
        "c = sns.catplot(\n",
        "            data = <insert_dataframe_for_brainregion>,           # **EDIT** - this doesn't depend on layer- the code will plot all layers for you based on the column values :)\n",
        "            kind = \"swarm\",\n",
        "            x = \"<insert_column_name_of_cortical_layers>\",       # **EDIT** - variable for our x-axis (should be cortical layer)\n",
        "            y = \"<insert_column_name_of_variable>\",              # **EDIT** - depends on what you chose- resting potential or avg firing rate\n",
        "            hue = \"<insert_column_name_of_cortical_layers>\",     # **EDIT** - column name for  cortical layer so each is a different color\n",
        "            palette = \"Set2\",\n",
        "            size = 2,                                            # don't change this\n",
        "            order = [1,2,3,4,5,6])\n",
        "\n",
        "# Adjustment + aesthetics of plot\n",
        "c.set_axis_labels(x_label_name_cl, y_label_name_cl, labelpad=10)\n",
        "c.figure.set_size_inches(6.5, 4.5)                               # don't change\n",
        "c.ax.margins(.15)                                                # don't change\n",
        "plt.title(plot_title_cl, y=1.05)\n",
        "#plt.ylim(-5,150);                                               # don't change for now- review the plot and see if you need to adjust\n",
        "\n",
        "# Save our figure to gdrive\n",
        "plt.savefig(save_path + fig_name_swarm_cl, dpi=300, bbox_inches='tight')"
      ]
    },
    {
      "cell_type": "code",
      "execution_count": null,
      "metadata": {
        "id": "keD5EysRkb1_"
      },
      "outputs": [],
      "source": [
        "##--- Edit this- another example of plotting code for *cortical layer* comparison\n",
        "\n",
        "# This is another example for the strip plot, but you are welcome to pick any of the ones above that you would like\n",
        "# Review this to help you adapt those if you decide to try them out!\n",
        "\n",
        "## Strip plot - all cortical layers\n",
        "\n",
        "# Set this text for the plot- easiest to edit here as needed\n",
        "x_label_name_cl = \"Cortical Layers\"\n",
        "y_label_name_cl = \"Average Firing Rate (spikes/s)\"               # **EDIT** - this depends on comparison y axis\n",
        "plot_title_cl = \"Average Firing Rate Across Brain Regions\"       # **EDIT** - this depends on comparison y axis\n",
        "fig_name_strip_cl = \"Strip_CorticalLayer_AvgFiringRate.png\"      # **EDIT** - this depends on comparison y axis\n",
        "\n",
        "# Create our plot\n",
        "st = sns.stripplot(                                              # use seaborn package (sns) and specify type of plot - strip plot\n",
        "            data = <insert_dataframe_for_brainregion>,           # **EDIT** - this doesn't depend on layer- the code will plot all layers for you based on the column values :)\n",
        "            x = \"<insert_column_name_of_cortical_layers>\",       # **EDIT** - variable for our x-axis (should be cortical layer)\n",
        "            y = \"<insert_column_name_of_variable>\",              # **EDIT** - depends on what you chose- resting potential or avg firing rate\n",
        "            hue = \"<insert_column_name_of_cortical_layers>\",     # **EDIT** - column name for  cortical layer so each is a different color\n",
        "            order = [1,2,3,4,5,6],                               # set them to be on ascending order of x-axis\n",
        "            palette = \"Set2\")                                    # set the color palette we want- lots of options!\n",
        "\n",
        "# Adjustment + aesthetics of plot\n",
        "st.figure.set_size_inches(6.5, 4.5)                             # Don't change below this line ---\n",
        "sns.despine()                                                   # remove top and right axes (w/o this, full box border)\n",
        "plt.xlabel(x_label_name_cl)                                     # use matplotlib (plt) to adjust the x axis on this one\n",
        "plt.ylabel(y_label_name_cl)                                     # use matplotlib (plt) to adjust the y axis on this one\n",
        "plt.title(plot_title_cl, y=1.05)                                # add a title so we know what we plotted!\n",
        "plt.ylim(-5,180);                                               # adjust the limits on the y-axis; we will pick same values across all plots for consistency\n",
        "\n",
        "# Save our figure to gdrive\n",
        "plt.savefig(save_path + fig_name_strip_cl, dpi=300, bbox_inches='tight')  # adjust the name to include correct plot type and variable being plotted"
      ]
    },
    {
      "cell_type": "markdown",
      "metadata": {
        "id": "LUZmwZ_aX83I"
      },
      "source": [
        "---\n",
        "## Step 4. Interpret your results<br>"
      ]
    },
    {
      "cell_type": "code",
      "execution_count": 10,
      "metadata": {
        "cellView": "form",
        "colab": {
          "base_uri": "https://localhost:8080/",
          "height": 229
        },
        "id": "S9G9uOO_xO5J",
        "outputId": "53479d66-2809-4fad-e803-94d13c8f91ff"
      },
      "outputs": [
        {
          "output_type": "display_data",
          "data": {
            "text/plain": [
              "<IPython.core.display.HTML object>"
            ],
            "text/html": [
              "<link href=\"https://nbviewer.org/static/build/styles.css\" rel=\"stylesheet\">"
            ]
          },
          "metadata": {}
        },
        {
          "output_type": "display_data",
          "data": {
            "text/plain": [
              "<IPython.core.display.HTML object>"
            ],
            "text/html": [
              "\n",
              "<div style= \"font-size: 20px\"; class=\"alert alert-info\" role=\"alert\">\n",
              "  <h4 class=\"alert-heading\">Question 17.4 (4 points)</h4>\n",
              "\n",
              "What can you say about the difference between neurons in the brain regions or cortical layers? What can't you say? Think about the sample you were testing when you describe what your results apply to.\n",
              "Use the example text from above and write out your results.\n",
              "</div>\n"
            ]
          },
          "metadata": {}
        }
      ],
      "source": [
        "#@title Question 17.4 (4 points)\n",
        "from IPython.display import HTML\n",
        "\n",
        "alert_info = '''\n",
        "<div style= \"font-size: 20px\"; class=\"alert alert-info\" role=\"alert\">\n",
        "  <h4 class=\"alert-heading\">Question 17.4 (4 points)</h4>\n",
        "\n",
        "What can you say about the difference between neurons in the brain regions or cortical layers? What can't you say? Think about the sample you were testing when you describe what your results apply to.\n",
        "Use the example text from above and write out your results.\n",
        "</div>\n",
        "'''\n",
        "\n",
        "display(HTML('<link href=\"https://nbviewer.org/static/build/styles.css\" rel=\"stylesheet\">'))\n",
        "display(HTML(alert_info))"
      ]
    },
    {
      "cell_type": "markdown",
      "metadata": {
        "id": "Nsp7WFaKyS-0"
      },
      "source": [
        "**Make sure to respond to this question in the text cell below!**"
      ]
    },
    {
      "cell_type": "markdown",
      "metadata": {
        "id": "EYgEUU6sYFcG"
      },
      "source": [
        "*Type your response here*"
      ]
    },
    {
      "cell_type": "markdown",
      "metadata": {
        "id": "2AQjBQTiWmkk"
      },
      "source": [
        "^ Refer back to the **'Example of how to interpret/write the results'** section to answer this"
      ]
    },
    {
      "cell_type": "markdown",
      "metadata": {
        "id": "yHKZmlzIYhZv"
      },
      "source": [
        "---\n",
        "# Wrapping Up\n",
        "\n",
        "Before you finish, make sure to double check you have completed all of the following items for your notebook submission and to answer the written questions in the **Case Study Document (HW11)** on Webcampus:\n",
        "\n",
        "\n",
        "1.   Both plots for FroL & MTG are saved in your google drive (resting potential & avg firing rate- these actually include all brain regions)\n",
        "     - They will be saved here: MyDrive/Colab Notebooks/**NS499-hw11-EpilepsyCaseStudy-Figs**\n",
        "2.   1 comparison of your choice:\n",
        "     * you ran the appropriate skew test (check for NaNs!)\n",
        "     * you ran the correct statistical test (independent t-test or Mann Whitney U- but not both!)\n",
        "3. If you test cortical layers, you created the 2 dataframes needed to produce your skew and statistical tests\n",
        "     * you also need to create 1 plot to include in your write-up (can include all layers)\n",
        "     * code is similar to the plots we made above, but depends on the brain region and cortical layers you used (goes along with the dataframes you made)\n",
        "\n",
        "\n"
      ]
    },
    {
      "cell_type": "markdown",
      "metadata": {
        "id": "FEWbdGkaVP0I"
      },
      "source": [
        "If you're unsure or have questions, please ask us!\n"
      ]
    },
    {
      "cell_type": "markdown",
      "metadata": {
        "id": "vk2h45bqIYqa"
      },
      "source": [
        "# Errors and Troubleshooting ❗"
      ]
    },
    {
      "cell_type": "markdown",
      "metadata": {
        "id": "VRWPCycK4rA2"
      },
      "source": [
        "If you run into any issues with the dataframes, I've included code here so that you can import the brains dataset and the individual datasets for the 3 brain regions."
      ]
    },
    {
      "cell_type": "code",
      "execution_count": null,
      "metadata": {
        "id": "Bg5s3Ap44tEf"
      },
      "outputs": [],
      "source": [
        "## Import individual brain region files and brains data\n",
        "frol_df = pd.read_csv('frol_df.csv')\n",
        "mtg_df = pd.read_csv('mtg_df.csv')\n",
        "mfg_df = pd.read_csv('mfg_df.csv')\n",
        "brains = pd.read_csv('brains.csv')\n",
        "print('data imported!')"
      ]
    },
    {
      "cell_type": "markdown",
      "metadata": {
        "id": "KeE1zYeonep-"
      },
      "source": [
        "---\n",
        "# **Important submission steps:**\n",
        "1. Choose **Save** (and make sure you've already saved a copy in your drive) from the **File** menu.\n",
        "3. You will make sure your notebook file is saved in the following steps.\n",
        "4. You will submit the notebook for this assignment to the corresponding Assignment on the WebCampus (Canvas) course website.\n",
        "\n",
        "**It is your responsibility to make sure your work is saved before following the instructions in the last cell.**\n"
      ]
    },
    {
      "cell_type": "markdown",
      "metadata": {
        "id": "1ASS1hjinjmC"
      },
      "source": [
        "---\n",
        "## Submission\n",
        "\n",
        "Make sure you have run all cells in your notebook in order before running the cell below, so that all images/graphs appear in the output.\n",
        "**Please save (or check again) before exporting!**\n",
        "You will save the notebook file (.ipynb):\n",
        "\n",
        "\n",
        "1.   Go to `\"File > Download\"` and choose the **.ipynb format** (first option)\n",
        "  - This will save a copy of the python notebook file- extension .ipynb- in the Downloads folder on your computer (or wherever you have opted to save files)\n",
        "\n",
        "\n",
        "2. If the above option is not available to you, make sure to use ctrl + s on a pc (press both keys at same time, do not include the + sign) or command + s (press both keys at same time, do not include the + sign) for apple devices. Look at the top of the Menu in google colab, and toward the middle, it might say that changes were saved.\n",
        "  * If you want to check that things were saved recently, go to your Google drive (via an online browser or from the app) and check the timestamp for when your notebook was last updated. If it wasn't saved recently, go back to the tab where you have your notebook open and resave.\n",
        "  * The notebook file `\"Copy of hw11.ipynb\"` will be in your google drive under the `\"Colab Notebooks\"` folder. (see info at top for more on where things get saved)"
      ]
    },
    {
      "cell_type": "markdown",
      "metadata": {
        "id": "Jgwf8NsEU29l"
      },
      "source": [
        "---\n",
        "# Technical Notes & Credits 👏 🧑\n",
        "\n",
        "The exercises for this case study were adapted from colleagues. The results from developing this lesson plan for teaching have also been published and are available [online](https://www.funjournal.org/volume-22-issue-1-fall-2023/milligan-et-al-june-221a66-a73/): Milligan, E.C., Casimo, K., Buchanan, L., Hutson, B. & Robertson, S. Mapping Human Neuronal Diversity in the Search for New Therapeutics: Using Real Human Neuron Data to Build Student Quantitative Skills. JUNE, 2023 Spring; 22(1):A66-A73.\n",
        "<br><br>\n",
        "Example text and scipy stats info also referenced examples from Teaching and Learning with NWB Datasets, the module on [Data Science in Python: SciPy](https://nwb4edu.github.io/Data_Science_In_Python/SciPy.html).\n"
      ]
    }
  ],
  "metadata": {
    "colab": {
      "collapsed_sections": [
        "ov61t_va7cja",
        "fD9z5ZayaPyj",
        "xIKiLbUe47wN"
      ],
      "provenance": [],
      "toc_visible": true
    },
    "kernelspec": {
      "display_name": "Python 3",
      "name": "python3"
    },
    "language_info": {
      "name": "python"
    }
  },
  "nbformat": 4,
  "nbformat_minor": 0
}