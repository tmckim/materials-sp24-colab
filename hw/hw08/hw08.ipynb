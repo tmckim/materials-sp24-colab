{
 "cells": [
  {
   "cell_type": "markdown",
   "id": "65405e3d",
   "metadata": {},
   "source": [
    "<a href=\"https://colab.research.google.com/github/tmckim/materials-sp24-colab/blob/main/hw/hw09/hw08.ipynb\" target=\"_parent\"><img src=\"https://colab.research.google.com/assets/colab-badge.svg\" alt=\"Open In Colab\"/></a>"
   ]
  },
  {
   "cell_type": "markdown",
   "id": "3031dcff",
   "metadata": {},
   "source": [
    "## Before you start - Save this notebook!\n",
    "\n",
    "When you open a new Colab notebook from the WebCampus (like you hopefully did for this one), you cannot save changes. So it's  best to store the Colab notebook in your personal drive `\"File > Save a copy in drive...\"` **before** you do anything else.\n",
    "\n",
    "The file will open in a new tab in your web browser, and it is automatically named something like: \"**Copy of hw08.ipynb**\". You can rename this to just the title of the assignment \"**hw08.ipynb**\". Make sure you do keep an informative name (like the name of the assignment) so that you know which files to submit back to WebCampus for grading! More instructions on this are at the end of the notebook.\n",
    "\n",
    "\n",
    "**Where does the notebook get saved in Google Drive?**\n",
    "\n",
    "By default, the notebook will be copied to a folder called “Colab Notebooks” at the root (home directory) of your Google Drive. If you use this for other courses or personal code notebooks, I recommend creating a folder for this course and then moving the assignments AFTER you have completed them. <br>\n",
    "\n",
    "I also recommend you give the folder where you save your notebooks^ a different name than the folder we create below that will store the notebook resources you need each time you work through a course notebook. This includes any data files you will need, links to the images that appear in the notebook, and the files associated with the autograder for answer checking.<br>\n",
    "You should select a name other than '**NS499-DataSci-course-materials**'. <br>\n",
    "This folder gets overwritten with each assignment you work on in the course, so you should **NOT** store your notebooks in this folder that we use for course materials! <br><br>For example, you could create a folder called 'NS499-**notebooks**' or something along those lines. \n",
    "\n",
    "__________"
   ]
  },
  {
   "cell_type": "markdown",
   "id": "454bfc80",
   "metadata": {},
   "source": [
    "### We will now do the setup steps as separate cells to help with issues finding files in google drive/colab. <br> If you restart colab, you must rerun all **7** steps in each of these cells!"
   ]
  },
  {
   "cell_type": "code",
   "execution_count": null,
   "id": "6721b9ed",
   "metadata": {},
   "outputs": [],
   "source": [
    "# Step 1\n",
    "# Setup and add files needed to access gdrive\n",
    "from google.colab import drive                                   # these lines mount your gdrive to access the files we import below\n",
    "drive.mount('/content/gdrive', force_remount=True)"
   ]
  },
  {
   "cell_type": "code",
   "execution_count": null,
   "id": "edee2d61",
   "metadata": {},
   "outputs": [],
   "source": [
    "# Step 2\n",
    "# Change directory to the correct location in gdrive (modified way to do this from before)\n",
    "import os\n",
    "os.chdir('/content/gdrive/MyDrive/NS499-DataSci-course-materials/')"
   ]
  },
  {
   "cell_type": "code",
   "execution_count": null,
   "id": "027b8a72",
   "metadata": {},
   "outputs": [],
   "source": [
    "# Step 3\n",
    "# Remove the files that were previously there- we will replace with all the old + new ones for this assignment\n",
    "!rm -r materials-sp24-colab     "
   ]
  },
  {
   "cell_type": "code",
   "execution_count": null,
   "id": "9f36d8f2",
   "metadata": {},
   "outputs": [],
   "source": [
    "# Step 4\n",
    "# These lines clone (copy) all the files you will need from where I store the code+data for the course (github)\n",
    "# Second part of the code copies the files to this location and folder in your own gdrive\n",
    "!git clone https://github.com/tmckim/materials-sp24-colab '/content/gdrive/My Drive/NS499-DataSci-course-materials/materials-sp24-colab/'"
   ]
  },
  {
   "cell_type": "code",
   "execution_count": null,
   "id": "d18842f4",
   "metadata": {},
   "outputs": [],
   "source": [
    "# Step 5\n",
    "# This installs the autograder, the system that helps you check your answers - more on this later\n",
    "%pip install otter-grader==4.3.4"
   ]
  },
  {
   "cell_type": "code",
   "execution_count": null,
   "id": "8e56578c",
   "metadata": {},
   "outputs": [],
   "source": [
    "# Step 6\n",
    "# Change directory into the folder where the resources for this assignment are stored in gdrive (modified way from before)\n",
    "os.chdir('/content/gdrive/MyDrive/NS499-DataSci-course-materials/materials-sp24-colab/hw/hw08/')"
   ]
  },
  {
   "cell_type": "code",
   "execution_count": null,
   "id": "b3b214d1",
   "metadata": {},
   "outputs": [],
   "source": [
    "# Step 7\n",
    "# Initialize Otter\n",
    "import otter\n",
    "grader = otter.Notebook(colab=True)"
   ]
  },
  {
   "cell_type": "markdown",
   "metadata": {},
   "source": [
    "# HW08: Great British Bake Off (A/B Test)\n",
    "\n",
    "This week's hw will focus on A/B Testing using data from the ever-popular British television show, [*The Great British Bakeoff*](https://en.wikipedia.org/wiki/The_Great_British_Bake_Off).\n",
    "\n",
    "\n",
    "**Submission**: Once you’re finished, run all cells besides the last one, and make sure no error messages are present. Also check that the grader checks have said that you passed. Follow the instructions at the end to submit your notebook (.ipynb) file."
   ]
  },
  {
   "cell_type": "code",
   "execution_count": null,
   "metadata": {},
   "outputs": [],
   "source": [
    "# Import packages and other things needed\n",
    "# Don't change this cell; Just run this cell\n",
    "# If you restart colab, make sure to run this cell again after the first one above^\n",
    "import numpy as np\n",
    "from datascience import *\n",
    "\n",
    "# These lines do some fancy plotting magic.\n",
    "import matplotlib\n",
    "%matplotlib inline\n",
    "import matplotlib.pyplot as plt\n",
    "plt.style.use('fivethirtyeight')\n",
    "import warnings\n",
    "warnings.simplefilter('ignore', (FutureWarning, np.VisibleDeprecationWarning))\n",
    "\n",
    "import d8error"
   ]
  },
  {
   "cell_type": "markdown",
   "metadata": {},
   "source": [
    "## 1. A/B Testing\n",
    "\n",
    "A/B testing is a form of hypothesis testing that allows you to make comparisons between two distributions. We may also refer to an A/B test as a permutation test.\n",
    "\n",
    "You'll almost never be explicitly asked to perform an A/B test. Make sure you can identify situations where the test is appropriate and know how to correctly implement each step. Oftentimes, we use an A/B test to determine whether or not two samples came from the same underlying distribution."
   ]
  },
  {
   "cell_type": "markdown",
   "metadata": {},
   "source": [
    "**Question 1.1.** The following statements are the steps of an A/B hypothesis test presented in a *random order*:\n",
    "\n",
    "1. Choose a test statistic (typically the difference in means between two categories)\n",
    "\n",
    "2. Shuffle the labels of the original sample, find your simulated test statistic, and repeat many times\n",
    "\n",
    "3. Find the value of the observed test statistic\n",
    "\n",
    "4. Calculate the p-value based off your observed and simulated test statistics\n",
    "\n",
    "5. Define a null and alternate model\n",
    "\n",
    "6. Use the p-value and p-value cutoff to draw a conclusion about the null hypothesis\n",
    "\n",
    "Assign `ab_test_order` to an array of integers that contains the correct order of an A/B test, where the first item of the array is the first step of an A/B test and the last item of the array is the last step of an A/B test. (**6 points**)\n"
   ]
  },
  {
   "cell_type": "code",
   "execution_count": null,
   "metadata": {
    "tags": []
   },
   "outputs": [],
   "source": [
    "ab_test_order = ..."
   ]
  },
  {
   "cell_type": "code",
   "execution_count": null,
   "metadata": {
    "deletable": false,
    "editable": false
   },
   "outputs": [],
   "source": [
    "grader.check(\"q1_1\")"
   ]
  },
  {
   "cell_type": "markdown",
   "metadata": {},
   "source": [
    "**Question 1.2.** If the null hypothesis of an A/B test is correct, should the order of labels affect the differences in means between each group? Why do we shuffle labels in an A/B test?  (**6 points**)"
   ]
  },
  {
   "cell_type": "markdown",
   "metadata": {},
   "source": [
    "_Type your answer here, replacing this text._"
   ]
  },
  {
   "cell_type": "markdown",
   "metadata": {},
   "source": [
    "## 2. The Great British Bake Off\n",
    "\n",
    ">\"The Great British Bake Off (often abbreviated to Bake Off or GBBO) is a British television baking competition, produced by Love Productions, in which a group of amateur bakers compete against each other in a series of rounds, attempting to impress a group of judges with their baking skills\" [Wikipedia](https://en.wikipedia.org/wiki/The_Great_British_Bake_Off)\n",
    "\n",
    "For every week of the competition, the judges assign one contestant the title \"Star Baker\". Ultimately, one winner is crowned every season. Using this information, we would like to investigate how winning Star Baker awards affects the odds of winning a season of the show."
   ]
  },
  {
   "cell_type": "markdown",
   "metadata": {},
   "source": [
    "**Question 2.1.** We want to know whether winning more Star Baker awards *causes* a change in likelihood of winning the season.  Why is it not sufficient to compare star baker rates for winners and losers?  (**8 points**)\n"
   ]
  },
  {
   "cell_type": "markdown",
   "metadata": {},
   "source": [
    "_Type your answer here, replacing this text._"
   ]
  },
  {
   "cell_type": "markdown",
   "metadata": {},
   "source": [
    "### Running an Experiment\n",
    "\n",
    "We are going to run the following hypothesis test to determine the association between winning and number of Star Baker awards. The population we are examining is every contestant from seasons 2 through 11 of GBBO. We are going to use the following null and alternative hypotheses:\n",
    "\n",
    "**Null hypothesis:** The distribution of Star Baker awards between contestants who won their season and contestants who did not win their season is the same.\n",
    "\n",
    "**Alternative hypothesis:** Contestants who win their season of the show will win more Star Baker awards on average.\n",
    "\n",
    "Our alternative hypothesis is related to our suspicion that contestants who win more Star Baker awards are more skilled, so they are more likely to win the season."
   ]
  },
  {
   "cell_type": "markdown",
   "metadata": {},
   "source": [
    "**Question 2.2.** Should we use an A/B test to test these hypotheses? If yes, what is our \"A\" group and what is our \"B\" group?  (**8 points**)\n"
   ]
  },
  {
   "cell_type": "markdown",
   "metadata": {},
   "source": [
    "_Type your answer here, replacing this text._"
   ]
  },
  {
   "cell_type": "markdown",
   "metadata": {},
   "source": [
    "The `bakers` table below describes the number of star baker awards each contest won and whether or not they won their season (`1` if they won, `0` if they did not win). The data was manually aggregated from Wikipedia for seasons 2-11 of the show. We randomized the order of rows as to not spoil the outcome of the show."
   ]
  },
  {
   "cell_type": "code",
   "execution_count": null,
   "metadata": {},
   "outputs": [],
   "source": [
    "bakers = Table.read_table(\"star_bakers.csv\")\n",
    "bakers.show(3)"
   ]
  },
  {
   "cell_type": "markdown",
   "metadata": {},
   "source": [
    "**Question 2.3.** Create a new table called `means` that contains the mean number of star baker awards for bakers who did not win (`won==0`) and bakers that did win (`won==1`). The table should have the column names `won` and `star baker awards mean`.  (**8 points**)"
   ]
  },
  {
   "cell_type": "code",
   "execution_count": null,
   "metadata": {
    "tags": []
   },
   "outputs": [],
   "source": [
    "means = ...\n",
    "means"
   ]
  },
  {
   "cell_type": "code",
   "execution_count": null,
   "metadata": {
    "deletable": false,
    "editable": false
   },
   "outputs": [],
   "source": [
    "grader.check(\"q2_3\")"
   ]
  },
  {
   "cell_type": "markdown",
   "metadata": {},
   "source": [
    "**Question 2.4.** Visualize the distribution of Star Baker awards for winners and non-winners. You should use the bins we provided.\n",
    "\n",
    "Hint: You will want to use the group argument of `tbl.hist`. In order to produce several overlaid histograms based on unique values in a given column, we can do something like `tbl.hist(..., group=<col_name>, bins=...)`!  (**8 points**)\n"
   ]
  },
  {
   "cell_type": "code",
   "execution_count": null,
   "metadata": {
    "tags": []
   },
   "outputs": [],
   "source": [
    "useful_bins = np.arange(0, 7)\n",
    "..."
   ]
  },
  {
   "cell_type": "markdown",
   "metadata": {},
   "source": [
    "**Question 2.5.** We want to figure out if there is a difference between the distribution of Star Baker awards between winners and non winners. \n",
    "\n",
    "What should the test statistic be? Which values of this test statistic support the null, and which values support the alternative?\n",
    "\n",
    "Hint: You should think about what measures we use to describe a distribution.   (**8 points**)\n"
   ]
  },
  {
   "cell_type": "markdown",
   "metadata": {},
   "source": [
    "_Type your answer here, replacing this text._"
   ]
  },
  {
   "cell_type": "markdown",
   "metadata": {},
   "source": [
    "**Question 2.6.** Set `observed_difference` to the observed test statistic using the `means` table.  (**8 points**)\n"
   ]
  },
  {
   "cell_type": "code",
   "execution_count": null,
   "metadata": {
    "tags": []
   },
   "outputs": [],
   "source": [
    "observed_difference = ...\n",
    "observed_difference"
   ]
  },
  {
   "cell_type": "code",
   "execution_count": null,
   "metadata": {
    "deletable": false,
    "editable": false
   },
   "outputs": [],
   "source": [
    "grader.check(\"q2_6\")"
   ]
  },
  {
   "cell_type": "markdown",
   "metadata": {},
   "source": [
    "**Question 2.7.** Given a table like `bakers`, a label column `label_col`, and a values column `val_col`, write a function that calculates the appropriate test statistic.  (**8 points**)\n",
    "\n",
    "*Hint:* Make sure that you are taking the directionality of our alternative hypothesis into account.\n"
   ]
  },
  {
   "cell_type": "code",
   "execution_count": null,
   "metadata": {
    "scrolled": true,
    "tags": []
   },
   "outputs": [],
   "source": [
    "def find_test_stat(tbl, label_col, val_col):\n",
    "    reduced = ...       # use select to get only the columns you need from the table\n",
    "    means_tbl = ...     # use reduced from above in combination with group to get the test statistic we want\n",
    "    means = ...         # use column to access the numbers we want\n",
    "    return ...          # calculate the difference in the means\n",
    "\n",
    "find_test_stat(bakers, \"won\", \"star baker awards\")"
   ]
  },
  {
   "cell_type": "code",
   "execution_count": null,
   "metadata": {
    "deletable": false,
    "editable": false
   },
   "outputs": [],
   "source": [
    "grader.check(\"q2_7\")"
   ]
  },
  {
   "cell_type": "markdown",
   "metadata": {},
   "source": [
    "When we run a simulation for A/B testing, we resample by **shuffling the labels** of the original sample. If the null hypothesis is true and the star baker award distributions are the same, we expect that the difference in mean star baker awards will be not change when `\"won\"` labels are changed."
   ]
  },
  {
   "cell_type": "markdown",
   "metadata": {},
   "source": [
    "**Question 2.8.** Write a function `simulate_and_test_statistic` to compute one trial of our A/B test. Your function should run a simulation and return a test statistic.  (**8 points**)\n"
   ]
  },
  {
   "cell_type": "code",
   "execution_count": null,
   "metadata": {
    "tags": []
   },
   "outputs": [],
   "source": [
    "def simulate_and_test_statistic(tbl, labels_col, values_col):\n",
    "    shuffled_labels = ...           # sample from our table (with_replacement = False) the column labels we want\n",
    "    original_and_shuffled = ...     # add the shuffled labels from above back to our original table\n",
    "    return ...                      # use the function we wrote above with inputs of: the original_and_shuffled table, labels_col, values_col\n",
    "simulate_and_test_statistic(bakers, \"won\", \"star baker awards\")"
   ]
  },
  {
   "cell_type": "code",
   "execution_count": null,
   "metadata": {
    "deletable": false,
    "editable": false
   },
   "outputs": [],
   "source": [
    "grader.check(\"q2_8\")"
   ]
  },
  {
   "cell_type": "markdown",
   "metadata": {},
   "source": [
    "**Question 2.9.** Simulate 5000 trials of our A/B test and store the test statistics in an array called `differences`. (**8 points**)\n"
   ]
  },
  {
   "cell_type": "code",
   "execution_count": null,
   "metadata": {
    "tags": []
   },
   "outputs": [],
   "source": [
    "# This cell might take a couple seconds to run\n",
    "differences = make_array()  # intialize our empty array\n",
    "repetitions = ...           # set the number of repitions based on the prompt\n",
    "for ...                     # initialize the for loop with our repetitions\n",
    "    new_difference = ...    # use the function we created above and input the correct table and the 2 correct column labels (see inputs for find_test_stat)\n",
    "    differences =  ...      # append our values to the array\n",
    "\n",
    "\n",
    "differences                 # show us the array after the loop is finished"
   ]
  },
  {
   "cell_type": "code",
   "execution_count": null,
   "metadata": {
    "deletable": false,
    "editable": false
   },
   "outputs": [],
   "source": [
    "grader.check(\"q2_9\")"
   ]
  },
  {
   "cell_type": "markdown",
   "metadata": {},
   "source": [
    "Run the cell below to view a histogram of your simulated test statistics plotted with your observed test statistic."
   ]
  },
  {
   "cell_type": "code",
   "execution_count": null,
   "metadata": {},
   "outputs": [],
   "source": [
    "Table().with_column('Difference Between Group Means', differences).hist(bins=20)\n",
    "plt.scatter(observed_difference, 0, color='red', s=30, zorder=2)\n",
    "plt.ylim(-0.1, 1.35);"
   ]
  },
  {
   "cell_type": "markdown",
   "metadata": {},
   "source": [
    "**Question 2.10.** Find the p-value for your test and assign it to `empirical_p`. (**8 points**)\n"
   ]
  },
  {
   "cell_type": "code",
   "execution_count": null,
   "metadata": {
    "tags": []
   },
   "outputs": [],
   "source": [
    "# We've covered multiple ways to calculate this- look back at the past demo code from lectures\n",
    "empirical_p = ...\n",
    "empirical_p"
   ]
  },
  {
   "cell_type": "code",
   "execution_count": null,
   "metadata": {
    "deletable": false,
    "editable": false
   },
   "outputs": [],
   "source": [
    "grader.check(\"q2_10\")"
   ]
  },
  {
   "cell_type": "markdown",
   "metadata": {},
   "source": [
    "**Question 2.11.** Using a 5% P-value cutoff, draw a conclusion about the null and alternative hypotheses. Describe your findings using simple, non-technical language. What does your analysis tell you about the association between star baker awards and winning? What can you claim about causation from your statistical analysis? (**8 points**)\n"
   ]
  },
  {
   "cell_type": "markdown",
   "metadata": {},
   "source": [
    "_Type your answer here, replacing this text._"
   ]
  },
  {
   "cell_type": "markdown",
   "id": "4fd816dd",
   "metadata": {},
   "source": [
    "<!-- END QUESTION -->\n",
    "\n",
    "## HW 08 Complete"
   ]
  },
  {
   "cell_type": "code",
   "execution_count": null,
   "id": "db06bdad",
   "metadata": {},
   "outputs": [],
   "source": [
    "# Run this cell for a fun animation!\n",
    "\n",
    "from IPython.display import HTML\n",
    "HTML('<img src=\"https://media.giphy.com/media/lYjA4tfvCc8UAju1Op/giphy-downsized-large.gif\">')"
   ]
  },
  {
   "cell_type": "markdown",
   "metadata": {},
   "source": [
    "## Submission Steps\n",
    "\n",
    "To double-check your work, the cell below will rerun all of the autograder tests."
   ]
  },
  {
   "cell_type": "markdown",
   "metadata": {
    "deletable": false,
    "editable": false
   },
   "source": [
    "## Submission\n",
    "\n",
    "Make sure you have run all cells in your notebook in order before running the cell below, so that all images/graphs appear in the output."
   ]
  },
  {
   "cell_type": "code",
   "execution_count": null,
   "id": "33299ed2",
   "metadata": {},
   "outputs": [],
   "source": [
    "# Just run this cell\n",
    "grader.check_all()"
   ]
  },
  {
   "cell_type": "markdown",
   "id": "33c3722d",
   "metadata": {},
   "source": [
    "### **Important submission steps:**\n",
    "1. Run the tests and verify that they all pass.\n",
    "2. Choose **Save** (and make sure you've already saved a copy in your drive) from the **File** menu.\n",
    "3. You will make sure your notebook file is saved in the following steps.\n",
    "4. You will submit the notebook for this assignment to the corresponding Assignment on the WebCampus (Canvas) course website.\n",
    "\n",
    "**It is your responsibility to make sure your work is saved before following the instructions in the last cell.**"
   ]
  },
  {
   "cell_type": "markdown",
   "id": "5989fef0",
   "metadata": {},
   "source": [
    "## Submission\n",
    "\n",
    "Make sure you have run all cells in your notebook in order before running the cell below, so that all images/graphs appear in the output.\n",
    "**Please save (or check again) before exporting!**\n",
    "You will save the notebook file (.ipynb):\n",
    "\n",
    "\n",
    "1.   Go to `\"File > Download\"` and choose the **.ipynb format** (first option)\n",
    "  - This will save a copy of the python notebook file- extension .ipynb- in the Downloads folder on your computer (or wherever you have opted to save files)\n",
    "\n",
    "\n",
    "2. If the above option is not available to you, make sure to use ctrl + s on a pc (press both keys at same time, do not include the + sign) or command + s (press both keys at same time, do not include the + sign) for apple devices. Look at the top of the Menu in google colab, and toward the middle, it might say that changes were saved. \n",
    "  * If you want to check that things were saved recently, go to your Google drive (via an online browser or from the app) and check the timestamp for when your notebook was last updated. If it wasn't saved recently, go back to the tab where you have your notebook open and resave.\n",
    "  * The notebook file `\"Copy of hw08.ipynb\"` will be in your google drive under the `\"Colab Notebooks\"` folder. (see info at top for more on where things get saved)"
   ]
  },
  {
   "cell_type": "markdown",
   "metadata": {},
   "source": [
    " "
   ]
  }
 ],
 "metadata": {
  "kernelspec": {
   "display_name": "Python 3",
   "language": "python",
   "name": "python3"
  },
  "language_info": {
   "codemirror_mode": {
    "name": "ipython",
    "version": 3
   },
   "file_extension": ".py",
   "mimetype": "text/x-python",
   "name": "python",
   "nbconvert_exporter": "python",
   "pygments_lexer": "ipython3",
   "version": "3.8.5"
  }
 },
 "nbformat": 4,
 "nbformat_minor": 5
}
