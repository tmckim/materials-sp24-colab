{
  "cells": [
    {
      "cell_type": "markdown",
      "metadata": {
        "colab_type": "text",
        "id": "view-in-github"
      },
      "source": [
        "<a href=\"https://colab.research.google.com/github/tmckim/materials-sp24-colab/blob/main/hw/hw01/hw01.ipynb\" target=\"_parent\"><img src=\"https://colab.research.google.com/assets/colab-badge.svg\" alt=\"Open In Colab\"/></a>"
      ]
    },
    {
      "cell_type": "markdown",
      "id": "N4KT6oBo8LoF",
      "metadata": {
        "id": "N4KT6oBo8LoF"
      },
      "source": [
        "## Before you start - Save this notebook!\n",
        "\n",
        "When you open a new Colab notebook from the WebCampus (like you hopefully did for this one), you cannot save changes. So it's  best to store the Colab notebook in your personal drive `\"File > Save a copy in drive...\"` **before** you do anything else.\n",
        "\n",
        "The file will open in a new tab in your web browser, and it is automatically named something like: \"**Copy of hw01.ipynb**\". You can rename this to just the title of the assignment \"**hw01.ipynb**\". Make sure you do keep an informative name (like the name of the assignment) so that you know which files to submit back to WebCampus for grading! More instructions on this are at the end of the notebook.\n",
        "\n",
        "\n",
        "**Where does the notebook get saved in Google Drive?**\n",
        "\n",
        "By default, the notebook will be copied to a folder called “Colab Notebooks” at the root (home directory) of your Google Drive. If you use this for other courses or personal code notebooks, I recommend creating a folder for this course and then moving the assignments AFTER you have completed them. <br>\n",
        "\n",
        "I also recommend you give the folder where you save your notebooks^ a different name than the folder we create below that will store the notebook resources you need each time you work through a course notebook. This includes any data files you will need, links to the images that appear in the notebook, and the files associated with the autograder for answer checking.<br>\n",
        "You should select a name other than '**NS499-DataSci-course-materials**'. <br>\n",
        "This folder gets overwritten with each assignment you work on in the course, so you should **NOT** store your notebooks in this folder that we use for course materials! <br><br>For example, you could create a folder called 'NS499-**notebooks**' or something along those lines. \n",
        "\n",
        "__________\n"
      ]
    },
    {
      "cell_type": "markdown",
      "id": "46d0b564",
      "metadata": {},
      "source": [
        "## Import & Setup"
      ]
    },
    {
      "cell_type": "code",
      "execution_count": null,
      "id": "9h9lNwQ773ob",
      "metadata": {
        "deletable": false,
        "editable": false,
        "id": "9h9lNwQ773ob"
      },
      "outputs": [],
      "source": [
        "# Setup and add files needed to access gdrive\n",
        "# If you restart colab, start by re-running this cell first!\n",
        "from google.colab import drive                                   # these lines mount your gdrive to access the files we import below\n",
        "drive.mount('/content/gdrive', force_remount=True)\n",
        "\n",
        "# We make this folder (dir) for all your course materials this semester, and specifically, one for hw\n",
        "!mkdir -p '/content/gdrive/My Drive/NS499-DataSci-course-materials/'\n",
        "\n",
        "# These lines clone (copy) all the files you will need from where I store the code+data for the course (github)\n",
        "# Second part of the code copies the files to this location and folder in your own gdrive\n",
        "!git clone https://github.com/tmckim/materials-sp24-colab '/content/gdrive/My Drive/NS499-DataSci-course-materials/materials-sp24-colab/'\n",
        "\n",
        "# This installs the autograder, the system that helps you check your answers - more on this later\n",
        "%pip install otter-grader==4.3.4\n",
        "\n",
        "# Change directory (cd) into the folder where the resources for this hw are stored in gdrive\n",
        "%cd /content/gdrive/MyDrive/NS499-DataSci-course-materials/materials-sp24-colab/hw/hw01/\n",
        "\n",
        "# Initialize the grader (called Otter) and tell it our environment is colab\n",
        "import otter\n",
        "grader = otter.Notebook(colab=True)"
      ]
    },
    {
      "cell_type": "markdown",
      "id": "LKdSJE-c73oe",
      "metadata": {
        "id": "LKdSJE-c73oe"
      },
      "source": [
        "# Homework 1: Causality and Expressions\n",
        "\n",
        "Please complete this notebook by filling in the cells provided. Before you begin, run the previous cell to import all files and images needed for the assignment from Github. It will also load the provided tests."
      ]
    },
    {
      "cell_type": "markdown",
      "id": "WbbW6CdT73of",
      "metadata": {
        "id": "WbbW6CdT73of"
      },
      "source": [
        "**Recommended Readings:**\n",
        "\n",
        "- [What is Data Science?](http://www.inferentialthinking.com/chapters/01/what-is-data-science.html)\n",
        "- [Causality and Experiments](http://www.inferentialthinking.com/chapters/02/causality-and-experiments.html)\n",
        "- [Programming in Python](http://www.inferentialthinking.com/chapters/03/programming-in-python.html)\n",
        "\n",
        "For all problems that you must write explanations and sentences for, you **must** provide your answer in the designated space. Moreover, throughout this homework and all future ones, please be sure to not re-assign variables throughout the notebook! For example, if you use `max_temperature` in your answer to one question, do not reassign it later on- use a different name.Otherwise, you will fail tests that you thought you were passing previously!\n",
        "\n",
        "\n",
        "**Note: This homework has hidden tests on it. That means even though tests may say 100% passed, it doesn't mean your final grade will be 100%. I will be running more hidden tests for correctness once everyone turns in the homework.**\n",
        "\n",
        "Directly sharing answers is not okay, but discussing problems with the instructor or with other students is encouraged.\n",
        "\n",
        "You should start early so that you have time to get help if you're stuck."
      ]
    },
    {
      "cell_type": "markdown",
      "id": "XowQzJsc73og",
      "metadata": {
        "id": "XowQzJsc73og"
      },
      "source": [
        "## 1. Scary Arithmetic"
      ]
    },
    {
      "cell_type": "markdown",
      "id": "2a_HPbI873og",
      "metadata": {
        "id": "2a_HPbI873og"
      },
      "source": [
        "<!-- BEGIN QUESTION -->\n",
        "\n",
        "An ad for ADT Security Systems says,\n",
        "\n",
        "> \"When you go on vacation, burglars go to work [...] According to FBI statistics, over 25% of home burglaries occur between Memorial Day to Labor Day.\"\n",
        "\n",
        "Do the data in the ad support the claim that burglars are more likely to go to work during the time between Memorial Day to Labor Day? Please explain your answer. **(6 Points)**\n",
        "\n",
        "**Note:** You can assume that \"over 25%\" means only slightly over. Had it been much over, say closer to 30%, then the marketers would have said so.\n",
        "\n",
        "**Note:** Memorial Day is observed on the last Monday of May and Labor Day is observed on the first Monday of September.\n"
      ]
    },
    {
      "cell_type": "markdown",
      "id": "P2Fj-xNA73og",
      "metadata": {
        "id": "P2Fj-xNA73og"
      },
      "source": [
        "_Type your answer here, replacing this text._"
      ]
    },
    {
      "cell_type": "markdown",
      "id": "npV4je5B73oh",
      "metadata": {
        "id": "npV4je5B73oh"
      },
      "source": [
        "<!-- END QUESTION -->\n",
        "\n",
        "## 2. Characters in Little Women\n"
      ]
    },
    {
      "cell_type": "markdown",
      "id": "7ZiPHeV473oh",
      "metadata": {
        "id": "7ZiPHeV473oh"
      },
      "source": [
        "In the textbook, the code exercises counted the number of times that the literary characters were named in each chapter of the classic book, [*Little Women*](https://inferentialthinking.com/chapters/01/3/1/Literary_Characters.html?highlight=little%20women). In computer science, the word \"character\" also refers to a letter, digit, space, or punctuation mark; any single element of a text. The following code generates a scatter plot in which each dot corresponds to a chapter of *Little Women*. The horizontal position of a dot measures the number of periods in the chapter. The vertical position measures the total number of characters."
      ]
    },
    {
      "cell_type": "code",
      "execution_count": null,
      "id": "lalo55w673oi",
      "metadata": {
        "id": "lalo55w673oi",
        "scrolled": true,
        "tags": []
      },
      "outputs": [],
      "source": [
        "# Just run this cell.\n",
        "\n",
        "# This cell contains code that hasn't yet been covered in the course,\n",
        "# but you should be able to interpret the scatter plot it generates.\n",
        "\n",
        "from datascience import *\n",
        "from urllib.request import urlopen\n",
        "import numpy as np\n",
        "%matplotlib inline\n",
        "\n",
        "little_women_url = 'https://www.inferentialthinking.com/data/little_women.txt'\n",
        "chapters = urlopen(little_women_url).read().decode().split('CHAPTER ')[1:]\n",
        "text = Table().with_column('Chapters', chapters)\n",
        "Table().with_columns(\n",
        "    'Periods',    np.char.count(chapters, '.'),\n",
        "    'Characters', text.apply(len, 0)\n",
        "    ).scatter(0)"
      ]
    },
    {
      "cell_type": "markdown",
      "id": "dJHHqkcJ73oi",
      "metadata": {
        "id": "dJHHqkcJ73oi"
      },
      "source": [
        "**Question 1.** Around how many periods are there in the chapter with the most characters? Assign either 1, 2, 3, 4, or 5 to the name `characters_q1` below. **(4 Points)**\n",
        "\n",
        "1. 250\n",
        "2. 390\n",
        "3. 440\n",
        "4. 32,000\n",
        "5. 40,000\n",
        "\n",
        "\n",
        "**Note:** If you run into a `NameError: name 'grader' is not defined` error in the autograder cell below (and in any assignment), please re-run the first cell at the very top of this notebook!\n"
      ]
    },
    {
      "cell_type": "code",
      "execution_count": null,
      "id": "H6peLUSM73oi",
      "metadata": {
        "id": "H6peLUSM73oi",
        "tags": []
      },
      "outputs": [],
      "source": [
        "characters_q1 = ..."
      ]
    },
    {
      "cell_type": "code",
      "execution_count": null,
      "id": "2_zjkOr_73oj",
      "metadata": {
        "deletable": false,
        "editable": false,
        "id": "2_zjkOr_73oj"
      },
      "outputs": [],
      "source": [
        "grader.check(\"q2_1\")"
      ]
    },
    {
      "cell_type": "markdown",
      "id": "3zWk7-s573oj",
      "metadata": {
        "id": "3zWk7-s573oj"
      },
      "source": [
        "The test above checks that your answers are in the correct format. **This test does not check that you answered correctly**, only that you **assigned a number** successfully in each multiple-choice answer cell."
      ]
    },
    {
      "cell_type": "markdown",
      "id": "2MX_ytgN73oj",
      "metadata": {
        "id": "2MX_ytgN73oj"
      },
      "source": [
        "**Question 2.** Which of the following chapters has the most characters per period? Assign either 1, 2, or 3 to the name `characters_q2` below. **(4 Points)**\n",
        "\n",
        "1. The chapter with about 60 periods\n",
        "2. The chapter with about 350 periods\n",
        "3. The chapter with about 440 periods\n"
      ]
    },
    {
      "cell_type": "code",
      "execution_count": null,
      "id": "pKBF77UW73oj",
      "metadata": {
        "id": "pKBF77UW73oj",
        "tags": []
      },
      "outputs": [],
      "source": [
        "characters_q2 = ..."
      ]
    },
    {
      "cell_type": "code",
      "execution_count": null,
      "id": "eRIAV1o273oj",
      "metadata": {
        "deletable": false,
        "editable": false,
        "id": "eRIAV1o273oj"
      },
      "outputs": [],
      "source": [
        "grader.check(\"q2_2\")"
      ]
    },
    {
      "cell_type": "markdown",
      "id": "Ad5azbpT73oj",
      "metadata": {
        "id": "Ad5azbpT73oj"
      },
      "source": [
        "Again, the test above checks that your answers are in the **correct format**, but **not that you have answered correctly**."
      ]
    },
    {
      "cell_type": "markdown",
      "id": "Wv_ChZBY73oj",
      "metadata": {
        "id": "Wv_ChZBY73oj"
      },
      "source": [
        "To discover more interesting facts from this plot, check out [Section 1.3.2](https://inferentialthinking.com/chapters/01/3/2/Another_Kind_Of_Character.html) in the textbook."
      ]
    },
    {
      "cell_type": "markdown",
      "id": "nL2xBY8R73oj",
      "metadata": {
        "id": "nL2xBY8R73oj"
      },
      "source": [
        "## 3. Names and Assignment Statements"
      ]
    },
    {
      "cell_type": "markdown",
      "id": "zskaczpn73ok",
      "metadata": {
        "id": "zskaczpn73ok"
      },
      "source": [
        "**Question 1.** When you run the following cell, Python produces a cryptic error message."
      ]
    },
    {
      "cell_type": "code",
      "execution_count": null,
      "id": "7OGY4-Qe73ok",
      "metadata": {
        "id": "7OGY4-Qe73ok",
        "tags": [
          "raises-exception"
        ]
      },
      "outputs": [],
      "source": [
        "4 = 2 + 2"
      ]
    },
    {
      "cell_type": "markdown",
      "id": "l2khE0EK73ok",
      "metadata": {
        "id": "l2khE0EK73ok"
      },
      "source": [
        "Choose the best explanation of what's wrong with the code, and then assign 1, 2, 3, or 4 to `names_q1` below to indicate your answer. **(4 Points)**\n",
        "\n",
        "1. Python is smart and already knows `4 = 2 + 2`.\n",
        "\n",
        "2. In Python, it's a rule that the `=` sign must have a variable name to its left, and `4` isn't a variable name.\n",
        "\n",
        "3. It should be `2 + 2 = 4`.\n",
        "\n",
        "4. I don't get an error message. This is a trick question.\n"
      ]
    },
    {
      "cell_type": "code",
      "execution_count": null,
      "id": "PmUS07-z73ok",
      "metadata": {
        "id": "PmUS07-z73ok",
        "tags": []
      },
      "outputs": [],
      "source": [
        "names_q1 = ..."
      ]
    },
    {
      "cell_type": "code",
      "execution_count": null,
      "id": "SbVpSgIl73ok",
      "metadata": {
        "deletable": false,
        "editable": false,
        "id": "SbVpSgIl73ok"
      },
      "outputs": [],
      "source": [
        "grader.check(\"q3_1\")"
      ]
    },
    {
      "cell_type": "markdown",
      "id": "tyOEWTo773ok",
      "metadata": {
        "id": "tyOEWTo773ok"
      },
      "source": [
        "**Question 2.** When you run the following cell, Python will produce another cryptic error message."
      ]
    },
    {
      "cell_type": "code",
      "execution_count": null,
      "id": "sgrvmQOl73ok",
      "metadata": {
        "id": "sgrvmQOl73ok",
        "tags": [
          "raises-exception"
        ]
      },
      "outputs": [],
      "source": [
        "two = 3\n",
        "six = two plus two"
      ]
    },
    {
      "cell_type": "markdown",
      "id": "9AF6UCrh73ol",
      "metadata": {
        "id": "9AF6UCrh73ol"
      },
      "source": [
        "Choose the best explanation of what's wrong with the code and assign 1, 2, 3, or 4 to `names_q2` below to indicate your answer. **(4 Points)**\n",
        "\n",
        "1. The `plus` operation only applies to numbers, not the word \"two\".\n",
        "\n",
        "2. The name \"two\" cannot be assigned to the number 3.\n",
        "\n",
        "3. Two plus two is four, not six.\n",
        "\n",
        "4. The name `plus` isn't a built-in operator; instead, addition uses `+`.\n"
      ]
    },
    {
      "cell_type": "code",
      "execution_count": null,
      "id": "NU1kCioQ73ol",
      "metadata": {
        "id": "NU1kCioQ73ol",
        "tags": []
      },
      "outputs": [],
      "source": [
        "names_q2 = ..."
      ]
    },
    {
      "cell_type": "code",
      "execution_count": null,
      "id": "LTlMYMGF73om",
      "metadata": {
        "deletable": false,
        "editable": false,
        "id": "LTlMYMGF73om"
      },
      "outputs": [],
      "source": [
        "grader.check(\"q3_2\")"
      ]
    },
    {
      "cell_type": "markdown",
      "id": "tNy4Ogmk73om",
      "metadata": {
        "id": "tNy4Ogmk73om"
      },
      "source": [
        "**Question 3.** Run the following cell."
      ]
    },
    {
      "cell_type": "code",
      "execution_count": null,
      "id": "rQmaIuZ773om",
      "metadata": {
        "id": "rQmaIuZ773om",
        "tags": [
          "raises-exception"
        ]
      },
      "outputs": [],
      "source": [
        "x = 2\n",
        "y = 3 * x\n",
        "x = 4"
      ]
    },
    {
      "cell_type": "markdown",
      "id": "YlQxmrwT73om",
      "metadata": {
        "id": "YlQxmrwT73om"
      },
      "source": [
        "What is `y` after running this cell, and why? Choose the best explanation and assign 1, 2, 3, or 4 to `names_q3` below to indicate your answer. **(4 Points)**\n",
        "\n",
        "1. `y` is equal to 6, because the second `x = 4` has no effect since `x` was already defined.\n",
        "\n",
        "2. `y` is equal to 6, because `x` was 2 when `y` was assigned, and 3 * 2 is 6.\n",
        "\n",
        "3. `y` is equal to 12, because `x` is 4 and 3 * 4 is 12.\n",
        "\n",
        "4. `y` is equal to 12, because assigning `x` to 4 will update `y` to 12 since `y` was defined in terms of `x`.\n"
      ]
    },
    {
      "cell_type": "code",
      "execution_count": null,
      "id": "wUs49qvN73om",
      "metadata": {
        "id": "wUs49qvN73om",
        "tags": []
      },
      "outputs": [],
      "source": [
        "names_q3 = ..."
      ]
    },
    {
      "cell_type": "code",
      "execution_count": null,
      "id": "SxzXImVr73om",
      "metadata": {
        "deletable": false,
        "editable": false,
        "id": "SxzXImVr73om"
      },
      "outputs": [],
      "source": [
        "grader.check(\"q3_3\")"
      ]
    },
    {
      "cell_type": "markdown",
      "id": "FoAZCn2o73om",
      "metadata": {
        "id": "FoAZCn2o73om"
      },
      "source": [
        "## 4. Differences Between Majors"
      ]
    },
    {
      "cell_type": "markdown",
      "id": "vl6Fek5k73on",
      "metadata": {
        "id": "vl6Fek5k73on"
      },
      "source": [
        "Berkeley’s Office of Planning and Analysis (OPA) provides data on numerous aspects of the campus. Adapted from the OPA website, the table below displays the number of degree recipients in three majors in the 2008-2009 and 2017-2018 academic years.\n",
        "\n",
        "| Major                              | 2008-2009    | 2017-2018   |\n",
        "|------------------------------------|--------------|-------------|\n",
        "| Gender and Women's Studies         |      17      |    28       |\n",
        "| Linguistics                        |      49      |    67       |\n",
        "| Rhetoric                           |      113     |    56       |\n",
        "\n"
      ]
    },
    {
      "cell_type": "markdown",
      "id": "O0e-AaaD73on",
      "metadata": {
        "id": "O0e-AaaD73on"
      },
      "source": [
        "**Question 1.** Suppose you want to find the **biggest** absolute difference between the number of degree recipients in the two years, among the three majors.\n",
        "\n",
        "In the cell below, compute this value and call it `biggest_change`. Use a single expression (a single line of code) to compute the answer. Let Python perform all the arithmetic (like subtracting 49 from 67) rather than simplifying the expression yourself. The built-in `abs` function takes a numerical input and returns the absolute value. The built-in `max` function can take in 3 arguments and returns the maximum of the three numbers. **(5 Points)**\n"
      ]
    },
    {
      "cell_type": "code",
      "execution_count": null,
      "id": "JHQ6UJ_U73on",
      "metadata": {
        "deletable": false,
        "id": "JHQ6UJ_U73on",
        "tags": []
      },
      "outputs": [],
      "source": [
        "biggest_change = ...\n",
        "biggest_change"
      ]
    },
    {
      "cell_type": "code",
      "execution_count": null,
      "id": "rjWpvYAD73oo",
      "metadata": {
        "deletable": false,
        "editable": false,
        "id": "rjWpvYAD73oo"
      },
      "outputs": [],
      "source": [
        "grader.check(\"q4_1\")"
      ]
    },
    {
      "cell_type": "markdown",
      "id": "s_pQZCJ-73os",
      "metadata": {
        "id": "s_pQZCJ-73os"
      },
      "source": [
        "**Question 2.** Which of the three majors had the **smallest** absolute difference? Assign `smallest_change_major` to 1, 2, or 3 where each number corresponds to the following major:\n",
        "\n",
        "1. Gender and Women's Studies  \n",
        "2. Linguistics  \n",
        "3. Rhetoric\n",
        "\n",
        "Choose the number that corresponds to the major with the smallest absolute difference.\n",
        "\n",
        "You should be able to answer by rough mental arithmetic, without having to calculate the exact value for each major. **(4 Points)**\n"
      ]
    },
    {
      "cell_type": "code",
      "execution_count": null,
      "id": "X2bqTE6N73os",
      "metadata": {
        "deletable": false,
        "id": "X2bqTE6N73os",
        "tags": []
      },
      "outputs": [],
      "source": [
        "smallest_change_major = ...\n",
        "smallest_change_major"
      ]
    },
    {
      "cell_type": "code",
      "execution_count": null,
      "id": "qkVNDL0S73ot",
      "metadata": {
        "deletable": false,
        "editable": false,
        "id": "qkVNDL0S73ot"
      },
      "outputs": [],
      "source": [
        "grader.check(\"q4_2\")"
      ]
    },
    {
      "cell_type": "markdown",
      "id": "zX7NVqI873ot",
      "metadata": {
        "id": "zX7NVqI873ot"
      },
      "source": [
        "**Question 3.**  For each major, define the “relative change” to be the following: $\\large{\\frac{\\text{absolute difference}}{\\text{value in 2008-2009}} * 100}$\n",
        "\n",
        "Fill in the code below such that `gws_relative_change`, `linguistics_relative_change` and `rhetoric_relative_change` are assigned to the relative changes for their respective majors. **(5 Points)**\n"
      ]
    },
    {
      "cell_type": "code",
      "execution_count": null,
      "id": "Q0qRjQw973ot",
      "metadata": {
        "deletable": false,
        "for_assignment_type": "student",
        "id": "Q0qRjQw973ot",
        "tags": []
      },
      "outputs": [],
      "source": [
        "gws_relative_change = (abs(...) / 17) * 100\n",
        "linguistics_relative_change = ...\n",
        "rhetoric_relative_change = ...\n",
        "gws_relative_change, linguistics_relative_change, rhetoric_relative_change"
      ]
    },
    {
      "cell_type": "code",
      "execution_count": null,
      "id": "tV2cyB5f73ot",
      "metadata": {
        "deletable": false,
        "editable": false,
        "id": "tV2cyB5f73ot"
      },
      "outputs": [],
      "source": [
        "grader.check(\"q4_3\")"
      ]
    },
    {
      "cell_type": "markdown",
      "id": "wwJMapOy73ot",
      "metadata": {
        "id": "wwJMapOy73ot"
      },
      "source": [
        "**Question 4.** Assign `biggest_rel_change_major` to 1, 2, or 3 where each number corresponds to to the following:\n",
        "\n",
        "1. Gender and Women's Studies  \n",
        "2. Linguistics  \n",
        "3. Rhetoric\n",
        "\n",
        "Choose the number that corresponds to the major with the biggest relative change. **(4 Points)**\n"
      ]
    },
    {
      "cell_type": "code",
      "execution_count": null,
      "id": "Hfl48mny73ot",
      "metadata": {
        "deletable": false,
        "id": "Hfl48mny73ot",
        "tags": []
      },
      "outputs": [],
      "source": [
        "biggest_rel_change_major = ...\n",
        "biggest_rel_change_major"
      ]
    },
    {
      "cell_type": "code",
      "execution_count": null,
      "id": "IqDpOwr773ou",
      "metadata": {
        "deletable": false,
        "editable": false,
        "id": "IqDpOwr773ou"
      },
      "outputs": [],
      "source": [
        "grader.check(\"q4_4\")"
      ]
    },
    {
      "cell_type": "markdown",
      "id": "BIFeUb9h73ou",
      "metadata": {
        "id": "BIFeUb9h73ou"
      },
      "source": [
        "## 5. Nearsightedness Study"
      ]
    },
    {
      "cell_type": "markdown",
      "id": "K3cFOWFm73ou",
      "metadata": {
        "id": "K3cFOWFm73ou"
      },
      "source": [
        "[Myopia](https://en.wikipedia.org/wiki/Myopia), or nearsightedness, results from a number of genetic and environmental factors. In 1999, Quinn et al studied the relation between myopia and ambient lighting at night (for example, from nightlights or room lights) during childhood."
      ]
    },
    {
      "cell_type": "markdown",
      "id": "V0bEmQVp73ou",
      "metadata": {
        "id": "V0bEmQVp73ou"
      },
      "source": [
        "<!-- BEGIN QUESTION -->\n",
        "\n",
        "**Question 1.** The data were gathered by the following procedure, reported in the study. \"Between January and June 1998, parents of children aged 2-16 years [...] that were seen as outpatients in a university pediatric ophthalmology clinic completed a questionnaire on the child's light exposure both at present and before the age of 2 years.\" Was this study observational, or was it a controlled experiment? Explain. **(5 Points)**\n"
      ]
    },
    {
      "cell_type": "markdown",
      "id": "XfS_AQSS73ou",
      "metadata": {
        "id": "XfS_AQSS73ou"
      },
      "source": [
        "_Type your answer here, replacing this text._"
      ]
    },
    {
      "cell_type": "markdown",
      "id": "TIHNsNQZ73ou",
      "metadata": {
        "id": "TIHNsNQZ73ou"
      },
      "source": [
        "<!-- END QUESTION -->\n",
        "\n",
        "<!-- BEGIN QUESTION -->\n",
        "\n",
        "**Question 2.** The study found that of the children who slept with a room light on before the age of 2, 55% were myopic. Of the children who slept with a night light on before the age of 2, 34% were myopic. Of the children who slept in the dark before the age of 2, 10% were myopic. The study concluded the following: \"The prevalence of myopia [...] during childhood was strongly associated with ambient light exposure during sleep at night in the first two years after birth.\"\n",
        "\n",
        "Do the data support this statement? Why or why not? You may interpret \"strongly\" in any reasonable qualitative way. **(5 Points)**\n"
      ]
    },
    {
      "cell_type": "markdown",
      "id": "pyQ4YMxC73ou",
      "metadata": {
        "id": "pyQ4YMxC73ou"
      },
      "source": [
        "_Type your answer here, replacing this text._"
      ]
    },
    {
      "cell_type": "markdown",
      "id": "xkdMsMbe73ov",
      "metadata": {
        "id": "xkdMsMbe73ov"
      },
      "source": [
        "<!-- END QUESTION -->\n",
        "\n",
        "<!-- BEGIN QUESTION -->\n",
        "\n",
        "**Question 3.** On May 13, 1999, CNN reported the results of this study under the headline, \"Night light may lead to nearsightedness.\" Does the conclusion of the study claim that night light causes nearsightedness? **(5 Points)**\n"
      ]
    },
    {
      "cell_type": "markdown",
      "id": "9iuPirQr73ov",
      "metadata": {
        "id": "9iuPirQr73ov"
      },
      "source": [
        "_Type your answer here, replacing this text._"
      ]
    },
    {
      "cell_type": "markdown",
      "id": "V7AeiR9y73ov",
      "metadata": {
        "id": "V7AeiR9y73ov"
      },
      "source": [
        "<!-- END QUESTION -->\n",
        "\n",
        "<!-- BEGIN QUESTION -->\n",
        "\n",
        "**Question 4.** The final paragraph of the CNN report said that \"several eye specialists\" had pointed out that the study should have accounted for heredity.\n",
        "\n",
        "Myopia is passed down from parents to children. Myopic parents are more likely to have myopic children, and may also be more likely to leave lights on habitually (since the parents have poor vision). In what way does the knowledge of this possible genetic link affect how we interpret the data from the study? Explain. **(5 Points)**\n"
      ]
    },
    {
      "cell_type": "markdown",
      "id": "N6si8ZGz73ov",
      "metadata": {
        "id": "N6si8ZGz73ov"
      },
      "source": [
        "_Type your answer here, replacing this text._"
      ]
    },
    {
      "cell_type": "markdown",
      "id": "5aLLYZX_73ov",
      "metadata": {
        "id": "5aLLYZX_73ov"
      },
      "source": [
        "<!-- END QUESTION -->\n",
        "\n",
        "## 6. Studying the Survivors"
      ]
    },
    {
      "cell_type": "markdown",
      "id": "mYxPIIdq73ov",
      "metadata": {
        "id": "mYxPIIdq73ov"
      },
      "source": [
        "The Reverend Henry Whitehead was skeptical of John Snow’s conclusion about the Broad Street pump. After the Broad Street cholera epidemic ended, Whitehead set about trying to prove Snow wrong.  (The history of the event is detailed [here](http://www.ncbi.nlm.nih.gov/pmc/articles/PMC1034367/pdf/medhist00183-0026.pdf).)\n",
        "\n",
        "He realized that Snow had focused his analysis almost entirely on those who had died. Whitehead, therefore, investigated the drinking habits of people in the Broad Street area who had not died in the outbreak.\n",
        "\n",
        "What is the main reason it was important to study this group? Assign either 1, 2, or 3 to the name `survivor_answer` below. **(4 Points)**\n",
        "\n",
        "1. If Whitehead had found that many people had drunk water from the Broad Street pump and not caught cholera, that would have been evidence against Snow's hypothesis.\n",
        "\n",
        "2. Survivors could provide additional information about what else could have caused the cholera, potentially unearthing another cause.\n",
        "\n",
        "3. Through considering the survivors, Whitehead could have identified a cure for cholera.\n"
      ]
    },
    {
      "cell_type": "code",
      "execution_count": null,
      "id": "dDAQp1eF73ov",
      "metadata": {
        "deletable": false,
        "id": "dDAQp1eF73ov",
        "tags": []
      },
      "outputs": [],
      "source": [
        "survivor_answer = ..."
      ]
    },
    {
      "cell_type": "code",
      "execution_count": null,
      "id": "5ylOSNd973ov",
      "metadata": {
        "deletable": false,
        "editable": false,
        "id": "5ylOSNd973ov"
      },
      "outputs": [],
      "source": [
        "grader.check(\"q6_1\")"
      ]
    },
    {
      "cell_type": "markdown",
      "id": "P8Vax93i73ow",
      "metadata": {
        "id": "P8Vax93i73ow"
      },
      "source": [
        "**Note:** Whitehead ended up finding further proof that the Broad Street pump played a central role in spreading the disease to the people who lived near it. Eventually, he became one of Snow’s greatest defenders."
      ]
    },
    {
      "cell_type": "markdown",
      "id": "Yn_ZATCSfVfT",
      "metadata": {
        "id": "Yn_ZATCSfVfT"
      },
      "source": [
        "## Homework 1 Complete  "
      ]
    },
    {
      "cell_type": "code",
      "execution_count": null,
      "id": "xJx9bKlO-P66",
      "metadata": {
        "id": "xJx9bKlO-P66"
      },
      "outputs": [],
      "source": [
        "# Run this cell for a fun animation and message!\n",
        "\n",
        "from IPython.display import HTML\n",
        "print('Homework finished- woot!')\n",
        "HTML('<img src=\"https://media.giphy.com/media/vyY0kFtK5ZbhzzOntw/giphy.gif\">')"
      ]
    },
    {
      "cell_type": "markdown",
      "id": "snrFhB9s73ow",
      "metadata": {
        "id": "snrFhB9s73ow"
      },
      "source": [
        "### **Important submission steps:**\n",
        "1. Run the tests and verify that they all pass.\n",
        "2. Choose **Save** (and make sure you've already saved a copy in your drive) from the **File** menu.\n",
        "3. You will save two files in the following steps.\n",
        "4. You will submit the two files for this assignment to the corresponding Assignment on the WebCampus (Canvas) course website.\n",
        "\n",
        "**It is your responsibility to make sure your work is saved before following the instructions in the last cell.**"
      ]
    },
    {
      "cell_type": "markdown",
      "id": "MBEjj5SZ73ow",
      "metadata": {
        "deletable": false,
        "editable": false,
        "id": "MBEjj5SZ73ow"
      },
      "source": [
        "## Submission\n",
        "\n",
        "Make sure you have run all cells in your notebook in order before running the cell below, so that all images/graphs appear in the output.\n",
        "**Please save (or check again) before exporting!**\n",
        "You will save two files:\n",
        "\n",
        "\n",
        "1.   Go to `\"File > Download\"` and choose the **.ipynb format** (first option)\n",
        "  - This will save a copy of the python notebook file- extension .ipynb- in the Downloads folder on your computer (or wherever you have opted to save files)\n",
        "\n",
        "\n",
        "2.  Go to `\"File > Print\"` and save a copy of your notebook in **PDF format**. This is needed for grading the answers by hand as a double check, and to specifically grade any written responses.\n",
        "\n"
      ]
    },
    {
      "cell_type": "markdown",
      "id": "uEDP3vgx73ow",
      "metadata": {
        "id": "uEDP3vgx73ow"
      },
      "source": []
    }
  ],
  "metadata": {
    "colab": {
      "include_colab_link": true,
      "provenance": [],
      "toc_visible": true
    },
    "kernelspec": {
      "display_name": "Python 3.8.5 64-bit",
      "language": "python",
      "name": "python3"
    },
    "language_info": {
      "codemirror_mode": {
        "name": "ipython",
        "version": 3
      },
      "file_extension": ".py",
      "mimetype": "text/x-python",
      "name": "python",
      "nbconvert_exporter": "python",
      "pygments_lexer": "ipython3",
      "version": "3.9.6"
    },
    "vscode": {
      "interpreter": {
        "hash": "aee8b7b246df8f9039afb4144a1f6fd8d2ca17a180786b69acc140d282b71a49"
      }
    }
  },
  "nbformat": 4,
  "nbformat_minor": 5
}
