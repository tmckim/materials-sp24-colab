{
  "cells": [
    {
      "cell_type": "markdown",
      "metadata": {
        "id": "LJTcmNqpEZgY"
      },
      "source": [
        "<a href=\"https://colab.research.google.com/github/tmckim/materials-sp24-colab/blob/main/lec_demos/lec20.ipynb\" target=\"_parent\"><img src=\"https://colab.research.google.com/assets/colab-badge.svg\" alt=\"Open In Colab\"/></a>"
      ]
    },
    {
      "cell_type": "markdown",
      "metadata": {
        "id": "sRmCxp91P0Pt"
      },
      "source": [
        "# Allen Institute Visual Behavior 2P Dataset - Plotting Neural Data Demo\n",
        "\n",
        "### Neural data can be complex and can contain many variables within one dataset. How do we make sense of this information in a meaningful way?\n",
        "\n",
        "Today, we will plot the calcium signal from neurons recorded while mice performed a visual discrimination task.\n",
        "\n",
        "\n",
        "This notebook will help us investigate data collected from the [Visual Behavior 2P](https://portal.brain-map.org/explore/circuits/visual-behavior-2p) dataset from the Allen Brain Institute.\n"
      ]
    },
    {
      "cell_type": "markdown",
      "metadata": {
        "id": "m4KPaiNeQBhE"
      },
      "source": [
        "____\n",
        "# Learning Objectives\n",
        "\n",
        "## At the end of this notebook, you'll be able to:\n",
        "* Plot calcium imaging data based on experimental conditions 🔬 🔎 📈\n",
        "* Examine differences in neuronal responses to familiar and novel images 🧠 🌄 🏰\n",
        "* Understand differences in data format  💭 📓\n",
        "* Understand how to use common Python packages for data visualization 🐍 💻\n",
        "* Apply best practices for plotting data 📊 📣\n",
        "______"
      ]
    },
    {
      "cell_type": "markdown",
      "metadata": {
        "id": "xU3zB5EtQlYz"
      },
      "source": [
        "## Before you start - Save this notebook!\n",
        "\n",
        "When you open a new Colab notebook from the WebCampus (like you hopefully did for this one), you cannot save changes. So it's  best to store the Colab notebook in your personal drive `\"File > Save a copy in drive...\"` **before** you do anything else.\n",
        "\n",
        "The file will open in a new tab in your web browser, and it is automatically named something like: \"**Copy of lec20.ipynb**\". You can rename this to just the title of the assignment \"**lec20.ipynb**\". Make sure you do keep an informative name (like the name of the assignment) so that you know which files to submit back to WebCampus for grading! More instructions on this are at the end of the notebook.\n",
        "\n",
        "\n",
        "**Where does the notebook get saved in Google Drive?**\n",
        "\n",
        "By default, the notebook will be copied to a folder called “Colab Notebooks” at the root (home directory) of your Google Drive. If you use this for other courses or personal code notebooks, I recommend creating a folder for this course and then moving the assignments AFTER you have completed them. <br>\n",
        "\n",
        "I also recommend you give the folder where you save your notebooks^ a different name than the folder we create below that will store the notebook resources you need each time you work through a course notebook. This includes any data files you will need, links to the images that appear in the notebook, and the files associated with the autograder for answer checking.<br>\n",
        "You should select a name other than '**NS499-DataSci-course-materials**'. <br>\n",
        "This folder gets overwritten with each assignment you work on in the course, so you should **NOT** store your notebooks in this folder that we use for course materials! <br><br>For example, you could create a folder called 'NS499-**notebooks**' or something along those lines.\n",
        "___"
      ]
    },
    {
      "cell_type": "markdown",
      "metadata": {
        "execution": {},
        "id": "J66B1v7tPOGA"
      },
      "source": [
        "# Allen Institute Visual Behavior 2P dataset overview\n",
        "### This dataset consists of neural activity measured with 2-photon calcium imaging in the visual cortex of mice performing an image change detection task. In this task, mice learn to report changes in stimulus identity by licking a spout to earn a water reward.\n",
        "\n",
        "\n",
        "# Dataset Notes\n",
        "\n",
        "The entire dataset includes neural and behavioral measurements from:\n",
        "\n",
        "*   107 mice 🐭\n",
        "*   4787 behavior training sessions 👀\n",
        "*   704 *in vivo* imaging sessions 🔬\n",
        "*   50,482 cortical cells 🧠\n",
        "\n",
        "The data are openly accessible, and include information about all recorded timeseries, behavioral events, and experimental data in a standard data format: [Neurodata Without Borders (NWB)](https://www.nwb.org/nwb-neurophysiology/).\n",
        "\n"
      ]
    },
    {
      "cell_type": "markdown",
      "metadata": {
        "execution": {},
        "id": "n4NTwDWoPOGD"
      },
      "source": [
        "\n",
        "![](task_image.png)"
      ]
    },
    {
      "cell_type": "markdown",
      "metadata": {
        "execution": {},
        "id": "-6tOr7JiPOGH"
      },
      "source": [
        "##### Learning Sessions\n",
        "In some sessions, the mice perform the task with familiar images they have seen many times during training. In other sessions, mice perform the task with novel images. <br>\n",
        "During 2-photon imaging sessions, 5% of stimulus presentations are randomly omitted, allowing us to examine the effect of unexpected events on neural activity.<br>\n",
        "The same population of cells is imaged over multiple days with varying sensory and behavioral conditions.\n"
      ]
    },
    {
      "cell_type": "markdown",
      "metadata": {
        "id": "qIKeKpgcvfLr"
      },
      "source": [
        "\n",
        "![](experiment_overview.png)"
      ]
    },
    {
      "cell_type": "markdown",
      "metadata": {
        "execution": {},
        "id": "ueF6hDtUPOGQ"
      },
      "source": [
        "##### Cortical areas and neural population (excitatory and inhibitory)\n",
        "Multiple cortical areas and depths were measured concurently in each session, at a sample rate of 11Hz. <br>\n",
        "\n",
        "In the full dataset, data was collected from excitatory and inhibitory neural populations.\n"
      ]
    },
    {
      "cell_type": "markdown",
      "metadata": {
        "id": "pI2mHvjBvmgE"
      },
      "source": [
        "\n",
        "![](imaging_overview.png)"
      ]
    },
    {
      "cell_type": "markdown",
      "metadata": {
        "execution": {},
        "id": "Tqd381I3POGo"
      },
      "source": [
        "#### This example will focus on the activity of the two inhibitory types - VIP and SST neurons."
      ]
    },
    {
      "cell_type": "markdown",
      "metadata": {
        "execution": {},
        "id": "Dk_3p-OcPOGo"
      },
      "source": [
        "# Setup Steps"
      ]
    },
    {
      "cell_type": "markdown",
      "metadata": {
        "id": "h6TbSJ3wUeeT"
      },
      "source": [
        "## Step 1: Import Data and Files Needed"
      ]
    },
    {
      "cell_type": "markdown",
      "metadata": {
        "id": "yFJDTCq5EZgf"
      },
      "source": [
        "### We will now do the setup steps as separate cells to help with issues finding files in google drive/colab. <br> If you restart colab, you must rerun all **5** steps in each of these cells!"
      ]
    },
    {
      "cell_type": "code",
      "execution_count": null,
      "metadata": {
        "id": "9yHWFDb4EZgf",
        "colab": {
          "base_uri": "https://localhost:8080/"
        },
        "outputId": "2c3602c4-cf3b-4fdf-e2ec-97b25186e6b3"
      },
      "outputs": [
        {
          "output_type": "stream",
          "name": "stdout",
          "text": [
            "Mounted at /content/gdrive\n"
          ]
        }
      ],
      "source": [
        "# Step 1\n",
        "# Setup and add files needed to access gdrive\n",
        "from google.colab import drive                                   # these lines mount your gdrive to access the files we import below\n",
        "drive.mount('/content/gdrive', force_remount=True)"
      ]
    },
    {
      "cell_type": "code",
      "execution_count": null,
      "metadata": {
        "id": "bcn_CBtQEZgg"
      },
      "outputs": [],
      "source": [
        "# Step 2\n",
        "# Change directory to the correct location in gdrive (modified way to do this from before)\n",
        "import os\n",
        "os.chdir('/content/gdrive/MyDrive/NS499-DataSci-course-materials/')"
      ]
    },
    {
      "cell_type": "code",
      "execution_count": null,
      "metadata": {
        "id": "SNGgEXMlEZgg"
      },
      "outputs": [],
      "source": [
        "# Step 3\n",
        "# Remove the files that were previously there- we will replace with all the old + new ones for this assignment\n",
        "!rm -r materials-sp24-colab"
      ]
    },
    {
      "cell_type": "code",
      "execution_count": null,
      "metadata": {
        "id": "uFTrQfoMEZgg"
      },
      "outputs": [],
      "source": [
        "# Step 4\n",
        "# These lines clone (copy) all the files you will need from where I store the code+data for the course (github)\n",
        "# Second part of the code copies the files to this location and folder in your own gdrive\n",
        "!git clone https://github.com/tmckim/materials-sp24-colab '/content/gdrive/My Drive/NS499-DataSci-course-materials/materials-sp24-colab/'"
      ]
    },
    {
      "cell_type": "code",
      "execution_count": null,
      "metadata": {
        "id": "IKTCdU9KEZgg"
      },
      "outputs": [],
      "source": [
        "# Step 5\n",
        "# Change directory into the folder where the resources for this assignment are stored in gdrive (modified way from before)\n",
        "os.chdir('/content/gdrive/MyDrive/NS499-DataSci-course-materials/materials-sp24-colab/lec_demos/')"
      ]
    },
    {
      "cell_type": "markdown",
      "metadata": {
        "id": "ZNi2XorrRNbD"
      },
      "source": [
        "## Step 2: Set up coding environment\n",
        "Each time we start an analysis in Python, we must import the necessary code packages. If you're running this notebook in Colab, the cells below will install packages into your coding environment -- these are *not* installed on your computer.\n",
        "\n",
        "### Import common packages\n",
        "Below, we'll `import` a common selection of packages that will help us analyze and plot our data. We'll also configure the plotting in our notebook.\n",
        "\n",
        "*   This will ensure that our coding environment has [NumPy](https://numpy.org/), [Pandas](https://pandas.pydata.org/), [Matplotlib](https://matplotlib.org/), and [Seaborn](https://seaborn.pydata.org/) installed.\n"
      ]
    },
    {
      "cell_type": "code",
      "execution_count": null,
      "metadata": {
        "id": "lP5d3dujRZOz"
      },
      "outputs": [],
      "source": [
        "# Import our plotting package from matplotlib\n",
        "import matplotlib.pyplot as plt\n",
        "\n",
        "# Specify that all plots will happen inline & in high resolution\n",
        "%matplotlib inline\n",
        "%config InlineBackend.figure_format = 'retina'\n",
        "\n",
        "# Import pandas for working with databases\n",
        "import pandas as pd\n",
        "\n",
        "# Import seaborn for plotting adjustments with matplotlib\n",
        "import seaborn as sns\n",
        "\n",
        "# Import numpy\n",
        "import numpy as np\n",
        "\n",
        "# Print statement to confirm\n",
        "print('Packages imported!')\n"
      ]
    },
    {
      "cell_type": "markdown",
      "metadata": {
        "id": "FJDCw2n_iIZ5"
      },
      "source": [
        "### Import the data file into a `pandas` dataframe\n",
        "\n",
        "(parquet is just another file format)"
      ]
    },
    {
      "cell_type": "code",
      "execution_count": null,
      "metadata": {
        "id": "bwxm9B8aiNKK"
      },
      "outputs": [],
      "source": [
        "# Import data\n",
        "filename = \"allen_visual_behavior_2p_change_detection_familiar_novel_image_sets.parquet\"\n",
        "data = pd.read_parquet(filename)"
      ]
    },
    {
      "cell_type": "markdown",
      "metadata": {
        "execution": {},
        "id": "yBHf1vqHPOGq"
      },
      "source": [
        "### The data is organized as a `pandas` dataframe\n",
        "#### Each row contains all data for a given cell on a given trial\n"
      ]
    },
    {
      "cell_type": "code",
      "execution_count": null,
      "metadata": {
        "execution": {},
        "id": "KLC7S1FKPOGq",
        "colab": {
          "base_uri": "https://localhost:8080/",
          "height": 429
        },
        "outputId": "7b940e27-04fc-48c5-a2f8-662f51c204a3"
      },
      "outputs": [
        {
          "output_type": "execute_result",
          "data": {
            "text/plain": [
              "         stimulus_presentations_id  cell_specimen_id  \\\n",
              "719876                        4226        1086490598   \n",
              "680420                        2034        1086490598   \n",
              "1191947                       2146        1086559188   \n",
              "259395                        2250        1086492624   \n",
              "470431                        3026        1086496472   \n",
              "\n",
              "                                                     trace  \\\n",
              "719876   [0.07350585609674454, 0.05798349529504776, -0....   \n",
              "680420   [-0.0767764151096344, -0.012351404875516891, -...   \n",
              "1191947  [0.04030243679881096, -0.04745613783597946, 0....   \n",
              "259395   [-0.12726567685604095, 0.0792793482542038, -0....   \n",
              "470431   [-0.013568868860602379, 0.027570359408855438, ...   \n",
              "\n",
              "                                          trace_timestamps  mean_response  \\\n",
              "719876   [-1.2278459028873827, -1.1955341686008727, -1....      -0.037505   \n",
              "680420   [-1.2278459028873827, -1.1955341686008727, -1....       0.013242   \n",
              "1191947  [-1.2281906028244671, -1.1958697974869812, -1....       0.026260   \n",
              "259395   [-1.2281077102807074, -1.195789086325952, -1.1...       0.029889   \n",
              "470431   [-1.2281917066763746, -1.195870872290154, -1.1...       0.010899   \n",
              "\n",
              "         baseline_response image_name  image_index  is_change  omitted  ...  \\\n",
              "719876            0.007122    omitted            8      False     True  ...   \n",
              "680420            0.018892      im035            7       True    False  ...   \n",
              "1191947          -0.010343      im031            6       True    False  ...   \n",
              "259395            0.017657      im106            1       True    False  ...   \n",
              "470431           -0.017808    omitted            8      False     True  ...   \n",
              "\n",
              "         ophys_session_id  ophys_container_id  behavior_session_id  \\\n",
              "719876          957189583           941373529            957331258   \n",
              "680420          957189583           941373529            957331258   \n",
              "1191947        1004317427          1000740620           1004344898   \n",
              "259395          933463604           928325203            933830753   \n",
              "470431          967965969           957570596            968334595   \n",
              "\n",
              "                                         full_genotype  \\\n",
              "719876   Sst-IRES-Cre/wt;Ai148(TIT2L-GC6f-ICL-tTA2)/wt   \n",
              "680420   Sst-IRES-Cre/wt;Ai148(TIT2L-GC6f-ICL-tTA2)/wt   \n",
              "1191947  Vip-IRES-Cre/wt;Ai148(TIT2L-GC6f-ICL-tTA2)/wt   \n",
              "259395   Vip-IRES-Cre/wt;Ai148(TIT2L-GC6f-ICL-tTA2)/wt   \n",
              "470431   Vip-IRES-Cre/wt;Ai148(TIT2L-GC6f-ICL-tTA2)/wt   \n",
              "\n",
              "                      reporter_line     driver_line indicator sex age_in_days  \\\n",
              "719876   Ai148(TIT2L-GC6f-ICL-tTA2)  [Sst-IRES-Cre]   GCaMP6f   F       151.0   \n",
              "680420   Ai148(TIT2L-GC6f-ICL-tTA2)  [Sst-IRES-Cre]   GCaMP6f   F       151.0   \n",
              "1191947  Ai148(TIT2L-GC6f-ICL-tTA2)  [Vip-IRES-Cre]   GCaMP6f   F       162.0   \n",
              "259395   Ai148(TIT2L-GC6f-ICL-tTA2)  [Vip-IRES-Cre]   GCaMP6f   M       134.0   \n",
              "470431   Ai148(TIT2L-GC6f-ICL-tTA2)  [Vip-IRES-Cre]   GCaMP6f   M       183.0   \n",
              "\n",
              "         exposure_level  \n",
              "719876         familiar  \n",
              "680420         familiar  \n",
              "1191947        familiar  \n",
              "259395         familiar  \n",
              "470431            novel  \n",
              "\n",
              "[5 rows x 31 columns]"
            ],
            "text/html": [
              "\n",
              "  <div id=\"df-c96c25bc-ba24-453c-9b27-5edb3ac5bc18\" class=\"colab-df-container\">\n",
              "    <div>\n",
              "<style scoped>\n",
              "    .dataframe tbody tr th:only-of-type {\n",
              "        vertical-align: middle;\n",
              "    }\n",
              "\n",
              "    .dataframe tbody tr th {\n",
              "        vertical-align: top;\n",
              "    }\n",
              "\n",
              "    .dataframe thead th {\n",
              "        text-align: right;\n",
              "    }\n",
              "</style>\n",
              "<table border=\"1\" class=\"dataframe\">\n",
              "  <thead>\n",
              "    <tr style=\"text-align: right;\">\n",
              "      <th></th>\n",
              "      <th>stimulus_presentations_id</th>\n",
              "      <th>cell_specimen_id</th>\n",
              "      <th>trace</th>\n",
              "      <th>trace_timestamps</th>\n",
              "      <th>mean_response</th>\n",
              "      <th>baseline_response</th>\n",
              "      <th>image_name</th>\n",
              "      <th>image_index</th>\n",
              "      <th>is_change</th>\n",
              "      <th>omitted</th>\n",
              "      <th>...</th>\n",
              "      <th>ophys_session_id</th>\n",
              "      <th>ophys_container_id</th>\n",
              "      <th>behavior_session_id</th>\n",
              "      <th>full_genotype</th>\n",
              "      <th>reporter_line</th>\n",
              "      <th>driver_line</th>\n",
              "      <th>indicator</th>\n",
              "      <th>sex</th>\n",
              "      <th>age_in_days</th>\n",
              "      <th>exposure_level</th>\n",
              "    </tr>\n",
              "  </thead>\n",
              "  <tbody>\n",
              "    <tr>\n",
              "      <th>719876</th>\n",
              "      <td>4226</td>\n",
              "      <td>1086490598</td>\n",
              "      <td>[0.07350585609674454, 0.05798349529504776, -0....</td>\n",
              "      <td>[-1.2278459028873827, -1.1955341686008727, -1....</td>\n",
              "      <td>-0.037505</td>\n",
              "      <td>0.007122</td>\n",
              "      <td>omitted</td>\n",
              "      <td>8</td>\n",
              "      <td>False</td>\n",
              "      <td>True</td>\n",
              "      <td>...</td>\n",
              "      <td>957189583</td>\n",
              "      <td>941373529</td>\n",
              "      <td>957331258</td>\n",
              "      <td>Sst-IRES-Cre/wt;Ai148(TIT2L-GC6f-ICL-tTA2)/wt</td>\n",
              "      <td>Ai148(TIT2L-GC6f-ICL-tTA2)</td>\n",
              "      <td>[Sst-IRES-Cre]</td>\n",
              "      <td>GCaMP6f</td>\n",
              "      <td>F</td>\n",
              "      <td>151.0</td>\n",
              "      <td>familiar</td>\n",
              "    </tr>\n",
              "    <tr>\n",
              "      <th>680420</th>\n",
              "      <td>2034</td>\n",
              "      <td>1086490598</td>\n",
              "      <td>[-0.0767764151096344, -0.012351404875516891, -...</td>\n",
              "      <td>[-1.2278459028873827, -1.1955341686008727, -1....</td>\n",
              "      <td>0.013242</td>\n",
              "      <td>0.018892</td>\n",
              "      <td>im035</td>\n",
              "      <td>7</td>\n",
              "      <td>True</td>\n",
              "      <td>False</td>\n",
              "      <td>...</td>\n",
              "      <td>957189583</td>\n",
              "      <td>941373529</td>\n",
              "      <td>957331258</td>\n",
              "      <td>Sst-IRES-Cre/wt;Ai148(TIT2L-GC6f-ICL-tTA2)/wt</td>\n",
              "      <td>Ai148(TIT2L-GC6f-ICL-tTA2)</td>\n",
              "      <td>[Sst-IRES-Cre]</td>\n",
              "      <td>GCaMP6f</td>\n",
              "      <td>F</td>\n",
              "      <td>151.0</td>\n",
              "      <td>familiar</td>\n",
              "    </tr>\n",
              "    <tr>\n",
              "      <th>1191947</th>\n",
              "      <td>2146</td>\n",
              "      <td>1086559188</td>\n",
              "      <td>[0.04030243679881096, -0.04745613783597946, 0....</td>\n",
              "      <td>[-1.2281906028244671, -1.1958697974869812, -1....</td>\n",
              "      <td>0.026260</td>\n",
              "      <td>-0.010343</td>\n",
              "      <td>im031</td>\n",
              "      <td>6</td>\n",
              "      <td>True</td>\n",
              "      <td>False</td>\n",
              "      <td>...</td>\n",
              "      <td>1004317427</td>\n",
              "      <td>1000740620</td>\n",
              "      <td>1004344898</td>\n",
              "      <td>Vip-IRES-Cre/wt;Ai148(TIT2L-GC6f-ICL-tTA2)/wt</td>\n",
              "      <td>Ai148(TIT2L-GC6f-ICL-tTA2)</td>\n",
              "      <td>[Vip-IRES-Cre]</td>\n",
              "      <td>GCaMP6f</td>\n",
              "      <td>F</td>\n",
              "      <td>162.0</td>\n",
              "      <td>familiar</td>\n",
              "    </tr>\n",
              "    <tr>\n",
              "      <th>259395</th>\n",
              "      <td>2250</td>\n",
              "      <td>1086492624</td>\n",
              "      <td>[-0.12726567685604095, 0.0792793482542038, -0....</td>\n",
              "      <td>[-1.2281077102807074, -1.195789086325952, -1.1...</td>\n",
              "      <td>0.029889</td>\n",
              "      <td>0.017657</td>\n",
              "      <td>im106</td>\n",
              "      <td>1</td>\n",
              "      <td>True</td>\n",
              "      <td>False</td>\n",
              "      <td>...</td>\n",
              "      <td>933463604</td>\n",
              "      <td>928325203</td>\n",
              "      <td>933830753</td>\n",
              "      <td>Vip-IRES-Cre/wt;Ai148(TIT2L-GC6f-ICL-tTA2)/wt</td>\n",
              "      <td>Ai148(TIT2L-GC6f-ICL-tTA2)</td>\n",
              "      <td>[Vip-IRES-Cre]</td>\n",
              "      <td>GCaMP6f</td>\n",
              "      <td>M</td>\n",
              "      <td>134.0</td>\n",
              "      <td>familiar</td>\n",
              "    </tr>\n",
              "    <tr>\n",
              "      <th>470431</th>\n",
              "      <td>3026</td>\n",
              "      <td>1086496472</td>\n",
              "      <td>[-0.013568868860602379, 0.027570359408855438, ...</td>\n",
              "      <td>[-1.2281917066763746, -1.195870872290154, -1.1...</td>\n",
              "      <td>0.010899</td>\n",
              "      <td>-0.017808</td>\n",
              "      <td>omitted</td>\n",
              "      <td>8</td>\n",
              "      <td>False</td>\n",
              "      <td>True</td>\n",
              "      <td>...</td>\n",
              "      <td>967965969</td>\n",
              "      <td>957570596</td>\n",
              "      <td>968334595</td>\n",
              "      <td>Vip-IRES-Cre/wt;Ai148(TIT2L-GC6f-ICL-tTA2)/wt</td>\n",
              "      <td>Ai148(TIT2L-GC6f-ICL-tTA2)</td>\n",
              "      <td>[Vip-IRES-Cre]</td>\n",
              "      <td>GCaMP6f</td>\n",
              "      <td>M</td>\n",
              "      <td>183.0</td>\n",
              "      <td>novel</td>\n",
              "    </tr>\n",
              "  </tbody>\n",
              "</table>\n",
              "<p>5 rows × 31 columns</p>\n",
              "</div>\n",
              "    <div class=\"colab-df-buttons\">\n",
              "\n",
              "  <div class=\"colab-df-container\">\n",
              "    <button class=\"colab-df-convert\" onclick=\"convertToInteractive('df-c96c25bc-ba24-453c-9b27-5edb3ac5bc18')\"\n",
              "            title=\"Convert this dataframe to an interactive table.\"\n",
              "            style=\"display:none;\">\n",
              "\n",
              "  <svg xmlns=\"http://www.w3.org/2000/svg\" height=\"24px\" viewBox=\"0 -960 960 960\">\n",
              "    <path d=\"M120-120v-720h720v720H120Zm60-500h600v-160H180v160Zm220 220h160v-160H400v160Zm0 220h160v-160H400v160ZM180-400h160v-160H180v160Zm440 0h160v-160H620v160ZM180-180h160v-160H180v160Zm440 0h160v-160H620v160Z\"/>\n",
              "  </svg>\n",
              "    </button>\n",
              "\n",
              "  <style>\n",
              "    .colab-df-container {\n",
              "      display:flex;\n",
              "      gap: 12px;\n",
              "    }\n",
              "\n",
              "    .colab-df-convert {\n",
              "      background-color: #E8F0FE;\n",
              "      border: none;\n",
              "      border-radius: 50%;\n",
              "      cursor: pointer;\n",
              "      display: none;\n",
              "      fill: #1967D2;\n",
              "      height: 32px;\n",
              "      padding: 0 0 0 0;\n",
              "      width: 32px;\n",
              "    }\n",
              "\n",
              "    .colab-df-convert:hover {\n",
              "      background-color: #E2EBFA;\n",
              "      box-shadow: 0px 1px 2px rgba(60, 64, 67, 0.3), 0px 1px 3px 1px rgba(60, 64, 67, 0.15);\n",
              "      fill: #174EA6;\n",
              "    }\n",
              "\n",
              "    .colab-df-buttons div {\n",
              "      margin-bottom: 4px;\n",
              "    }\n",
              "\n",
              "    [theme=dark] .colab-df-convert {\n",
              "      background-color: #3B4455;\n",
              "      fill: #D2E3FC;\n",
              "    }\n",
              "\n",
              "    [theme=dark] .colab-df-convert:hover {\n",
              "      background-color: #434B5C;\n",
              "      box-shadow: 0px 1px 3px 1px rgba(0, 0, 0, 0.15);\n",
              "      filter: drop-shadow(0px 1px 2px rgba(0, 0, 0, 0.3));\n",
              "      fill: #FFFFFF;\n",
              "    }\n",
              "  </style>\n",
              "\n",
              "    <script>\n",
              "      const buttonEl =\n",
              "        document.querySelector('#df-c96c25bc-ba24-453c-9b27-5edb3ac5bc18 button.colab-df-convert');\n",
              "      buttonEl.style.display =\n",
              "        google.colab.kernel.accessAllowed ? 'block' : 'none';\n",
              "\n",
              "      async function convertToInteractive(key) {\n",
              "        const element = document.querySelector('#df-c96c25bc-ba24-453c-9b27-5edb3ac5bc18');\n",
              "        const dataTable =\n",
              "          await google.colab.kernel.invokeFunction('convertToInteractive',\n",
              "                                                    [key], {});\n",
              "        if (!dataTable) return;\n",
              "\n",
              "        const docLinkHtml = 'Like what you see? Visit the ' +\n",
              "          '<a target=\"_blank\" href=https://colab.research.google.com/notebooks/data_table.ipynb>data table notebook</a>'\n",
              "          + ' to learn more about interactive tables.';\n",
              "        element.innerHTML = '';\n",
              "        dataTable['output_type'] = 'display_data';\n",
              "        await google.colab.output.renderOutput(dataTable, element);\n",
              "        const docLink = document.createElement('div');\n",
              "        docLink.innerHTML = docLinkHtml;\n",
              "        element.appendChild(docLink);\n",
              "      }\n",
              "    </script>\n",
              "  </div>\n",
              "\n",
              "\n",
              "<div id=\"df-b56ac924-2853-4f5c-a57e-d9cc37f32260\">\n",
              "  <button class=\"colab-df-quickchart\" onclick=\"quickchart('df-b56ac924-2853-4f5c-a57e-d9cc37f32260')\"\n",
              "            title=\"Suggest charts\"\n",
              "            style=\"display:none;\">\n",
              "\n",
              "<svg xmlns=\"http://www.w3.org/2000/svg\" height=\"24px\"viewBox=\"0 0 24 24\"\n",
              "     width=\"24px\">\n",
              "    <g>\n",
              "        <path d=\"M19 3H5c-1.1 0-2 .9-2 2v14c0 1.1.9 2 2 2h14c1.1 0 2-.9 2-2V5c0-1.1-.9-2-2-2zM9 17H7v-7h2v7zm4 0h-2V7h2v10zm4 0h-2v-4h2v4z\"/>\n",
              "    </g>\n",
              "</svg>\n",
              "  </button>\n",
              "\n",
              "<style>\n",
              "  .colab-df-quickchart {\n",
              "      --bg-color: #E8F0FE;\n",
              "      --fill-color: #1967D2;\n",
              "      --hover-bg-color: #E2EBFA;\n",
              "      --hover-fill-color: #174EA6;\n",
              "      --disabled-fill-color: #AAA;\n",
              "      --disabled-bg-color: #DDD;\n",
              "  }\n",
              "\n",
              "  [theme=dark] .colab-df-quickchart {\n",
              "      --bg-color: #3B4455;\n",
              "      --fill-color: #D2E3FC;\n",
              "      --hover-bg-color: #434B5C;\n",
              "      --hover-fill-color: #FFFFFF;\n",
              "      --disabled-bg-color: #3B4455;\n",
              "      --disabled-fill-color: #666;\n",
              "  }\n",
              "\n",
              "  .colab-df-quickchart {\n",
              "    background-color: var(--bg-color);\n",
              "    border: none;\n",
              "    border-radius: 50%;\n",
              "    cursor: pointer;\n",
              "    display: none;\n",
              "    fill: var(--fill-color);\n",
              "    height: 32px;\n",
              "    padding: 0;\n",
              "    width: 32px;\n",
              "  }\n",
              "\n",
              "  .colab-df-quickchart:hover {\n",
              "    background-color: var(--hover-bg-color);\n",
              "    box-shadow: 0 1px 2px rgba(60, 64, 67, 0.3), 0 1px 3px 1px rgba(60, 64, 67, 0.15);\n",
              "    fill: var(--button-hover-fill-color);\n",
              "  }\n",
              "\n",
              "  .colab-df-quickchart-complete:disabled,\n",
              "  .colab-df-quickchart-complete:disabled:hover {\n",
              "    background-color: var(--disabled-bg-color);\n",
              "    fill: var(--disabled-fill-color);\n",
              "    box-shadow: none;\n",
              "  }\n",
              "\n",
              "  .colab-df-spinner {\n",
              "    border: 2px solid var(--fill-color);\n",
              "    border-color: transparent;\n",
              "    border-bottom-color: var(--fill-color);\n",
              "    animation:\n",
              "      spin 1s steps(1) infinite;\n",
              "  }\n",
              "\n",
              "  @keyframes spin {\n",
              "    0% {\n",
              "      border-color: transparent;\n",
              "      border-bottom-color: var(--fill-color);\n",
              "      border-left-color: var(--fill-color);\n",
              "    }\n",
              "    20% {\n",
              "      border-color: transparent;\n",
              "      border-left-color: var(--fill-color);\n",
              "      border-top-color: var(--fill-color);\n",
              "    }\n",
              "    30% {\n",
              "      border-color: transparent;\n",
              "      border-left-color: var(--fill-color);\n",
              "      border-top-color: var(--fill-color);\n",
              "      border-right-color: var(--fill-color);\n",
              "    }\n",
              "    40% {\n",
              "      border-color: transparent;\n",
              "      border-right-color: var(--fill-color);\n",
              "      border-top-color: var(--fill-color);\n",
              "    }\n",
              "    60% {\n",
              "      border-color: transparent;\n",
              "      border-right-color: var(--fill-color);\n",
              "    }\n",
              "    80% {\n",
              "      border-color: transparent;\n",
              "      border-right-color: var(--fill-color);\n",
              "      border-bottom-color: var(--fill-color);\n",
              "    }\n",
              "    90% {\n",
              "      border-color: transparent;\n",
              "      border-bottom-color: var(--fill-color);\n",
              "    }\n",
              "  }\n",
              "</style>\n",
              "\n",
              "  <script>\n",
              "    async function quickchart(key) {\n",
              "      const quickchartButtonEl =\n",
              "        document.querySelector('#' + key + ' button');\n",
              "      quickchartButtonEl.disabled = true;  // To prevent multiple clicks.\n",
              "      quickchartButtonEl.classList.add('colab-df-spinner');\n",
              "      try {\n",
              "        const charts = await google.colab.kernel.invokeFunction(\n",
              "            'suggestCharts', [key], {});\n",
              "      } catch (error) {\n",
              "        console.error('Error during call to suggestCharts:', error);\n",
              "      }\n",
              "      quickchartButtonEl.classList.remove('colab-df-spinner');\n",
              "      quickchartButtonEl.classList.add('colab-df-quickchart-complete');\n",
              "    }\n",
              "    (() => {\n",
              "      let quickchartButtonEl =\n",
              "        document.querySelector('#df-b56ac924-2853-4f5c-a57e-d9cc37f32260 button');\n",
              "      quickchartButtonEl.style.display =\n",
              "        google.colab.kernel.accessAllowed ? 'block' : 'none';\n",
              "    })();\n",
              "  </script>\n",
              "</div>\n",
              "\n",
              "    </div>\n",
              "  </div>\n"
            ],
            "application/vnd.google.colaboratory.intrinsic+json": {
              "type": "dataframe"
            }
          },
          "metadata": {},
          "execution_count": 6
        }
      ],
      "source": [
        "# Select a random sample of 5 rows to display\n",
        "data.sample(5)"
      ]
    },
    {
      "cell_type": "code",
      "source": [
        "print(data.info())"
      ],
      "metadata": {
        "colab": {
          "base_uri": "https://localhost:8080/"
        },
        "id": "Xq6RMqNjKfQ3",
        "outputId": "560f496f-2ed9-496e-c8b4-389e63857b67"
      },
      "execution_count": null,
      "outputs": [
        {
          "output_type": "stream",
          "name": "stdout",
          "text": [
            "<class 'pandas.core.frame.DataFrame'>\n",
            "Index: 147695 entries, 85 to 1709441\n",
            "Data columns (total 31 columns):\n",
            " #   Column                     Non-Null Count   Dtype  \n",
            "---  ------                     --------------   -----  \n",
            " 0   stimulus_presentations_id  147695 non-null  int64  \n",
            " 1   cell_specimen_id           147695 non-null  int64  \n",
            " 2   trace                      147695 non-null  object \n",
            " 3   trace_timestamps           147695 non-null  object \n",
            " 4   mean_response              147695 non-null  float64\n",
            " 5   baseline_response          147695 non-null  float64\n",
            " 6   image_name                 147695 non-null  object \n",
            " 7   image_index                147695 non-null  int64  \n",
            " 8   is_change                  147695 non-null  bool   \n",
            " 9   omitted                    147695 non-null  bool   \n",
            " 10  mean_running_speed         147695 non-null  float64\n",
            " 11  mean_pupil_area            143112 non-null  float64\n",
            " 12  response_latency           31662 non-null   float64\n",
            " 13  rewarded                   147695 non-null  bool   \n",
            " 14  ophys_experiment_id        147695 non-null  int64  \n",
            " 15  imaging_depth              147695 non-null  int64  \n",
            " 16  targeted_structure         147695 non-null  object \n",
            " 17  cre_line                   147695 non-null  object \n",
            " 18  session_type               147695 non-null  object \n",
            " 19  session_number             147695 non-null  float64\n",
            " 20  mouse_id                   147695 non-null  object \n",
            " 21  ophys_session_id           147695 non-null  int64  \n",
            " 22  ophys_container_id         147695 non-null  int64  \n",
            " 23  behavior_session_id        147695 non-null  int64  \n",
            " 24  full_genotype              147695 non-null  object \n",
            " 25  reporter_line              147695 non-null  object \n",
            " 26  driver_line                147695 non-null  object \n",
            " 27  indicator                  147695 non-null  object \n",
            " 28  sex                        147695 non-null  object \n",
            " 29  age_in_days                147695 non-null  float64\n",
            " 30  exposure_level             147695 non-null  object \n",
            "dtypes: bool(3), float64(7), int64(8), object(13)\n",
            "memory usage: 33.1+ MB\n",
            "None\n"
          ]
        }
      ]
    },
    {
      "cell_type": "code",
      "execution_count": null,
      "metadata": {
        "id": "zk5Ms6pjVUm3",
        "cellView": "form"
      },
      "outputs": [],
      "source": [
        "#@title Other ways to review data\n",
        "# Let's check out all of our column names\n",
        "#list(data)\n",
        "\n",
        "# np.sort(list(data)). # if you want them alphabetical instead of the order they appear\n",
        "\n",
        "# Check if we have NaNs\n",
        "#data[pd.isna(data.response_latency) == True]"
      ]
    },
    {
      "cell_type": "markdown",
      "source": [
        "If we want to see all columns, we can adjust the settings in `pandas` using: [display.max_columns](https://pandas.pydata.org/docs/user_guide/options.html)."
      ],
      "metadata": {
        "id": "pwJ_BeeMKV0h"
      }
    },
    {
      "cell_type": "code",
      "source": [
        "### RUN THIS CELL ###\n",
        "# We want to see all the columns/rows in the dataset\n",
        "pd.set_option('display.max_columns', None)\n",
        "\n",
        "# pd.set_option('display.max_rows', None) # feel free to test this out, but it will take several seconds"
      ],
      "metadata": {
        "id": "s9ecWZHvKVao"
      },
      "execution_count": null,
      "outputs": []
    },
    {
      "cell_type": "code",
      "source": [
        "# Show all columns\n",
        "data"
      ],
      "metadata": {
        "id": "K-M9w4LlKxsp"
      },
      "execution_count": null,
      "outputs": []
    },
    {
      "cell_type": "code",
      "execution_count": null,
      "metadata": {
        "id": "3Xw-y5HvVZU3"
      },
      "outputs": [],
      "source": [
        "# Get info about our data- rows by col #s\n",
        "data.shape"
      ]
    },
    {
      "cell_type": "markdown",
      "metadata": {
        "execution": {},
        "id": "FUFdsuCPPOGr"
      },
      "source": [
        "\n",
        "#Available data includes:\n",
        "*   The cell `trace` aligned to stimulus (or omission) onset in a [-1.25, 1.5] second window around onset time\n",
        "    *   Cell traces are in units of delta F/F, the change in fluorescence relative to baseline\n",
        "*   The `trace_timestamps` for each trial, aligned to stimulus or omission onset\n",
        "*   The `mean_response` on a given trial in a 500ms window after stimulus onset\n",
        "*   The `baseline_response` on a given trial in a 500ms window before stimulus onset\n",
        "*   The `image_name` for each trial. Trials where the stimulus was omitted have `image_name` = `omitted`\n",
        "*   The `image_index` indicates which of the 8 eight images for the session was presented. Should also correspond with `image_name`.\n",
        "*   The `mean_running_speed` in a 500ms window after stimulus onset\n",
        "*   The `mean_pupil_area` in a 500ms window after stimulus onset\n",
        "*   The `response_latency` when the mouse licked after stimulus onset\n",
        "*   Whether or not the trial was `rewarded`\n",
        "*   Whether or not the trial `is_change`\n",
        "*   Whether or not the trial was `omitted`\n",
        "*   Info about `age_in_days` of the animal\n",
        "*   Biological `sex` of the animal\n",
        "\n",
        "\n",
        "#### Cell and session level metadata includes:\n",
        "\n",
        "*   The `stimulus_presentations_id` indicating the trial number within the session\n",
        "*   The `cell_specimen_id` which is the unique identifier for each cell (note that a cell can be imaged in multiple sessions; if that's the case, the same cell_specimen_id appears in multiple sessions)\n",
        "*   The `cre_line` indicating the cell type\n",
        "  *   `Sst-IRES-Cre` labels SST inhibitory cells\n",
        "  *   `Vip-IRES-Cre` labels VIP inhibitory cells\n",
        "  *   `Slc17a7-IRES-Cre` labels excitatory cells (these are excluded for now)\n",
        "*   The `full_genotype` indicates all information about genetic background of the animal\n",
        "*   The `reporter_line` indicates reporter genetic background of animal\n",
        "*   The `driver_line` indicates driver genetic background of animal\n",
        "*   The `indicator` details the calcium flourescence reporter\n",
        "*   The `imaging_depth` indicating the cortical depth where the cell was located\n",
        "*   The `targeted_structure` indicating the cortical area the cell was from\n",
        "*   The `session_type` indicating the session order and image set\n",
        "*   The `exposure_level` which tells you whether the image set was familiar or novel\n",
        "*   The `session_number` corresponds to which familiar and novel imaging context was used\n",
        "*   The `mouse_id` indicating which mouse the cell came from\n",
        "*   The `ophys_session_id` indicating the recording day for that trial\n",
        "*   The `ophys_experiment_id` indicating which imaging plane within the session that the cell came from\n",
        "*   The `ophys_container_id` which links the same imaging plane recorded across multiple sessions. Cells that are imaged across multiple sessions will have the same `cell_specimen_id`\n",
        "*   The `behavior_session_id` which indicates the behavior session code for each animal\n",
        "\n",
        "\n"
      ]
    },
    {
      "cell_type": "markdown",
      "metadata": {
        "execution": {},
        "id": "uBe1mEg3POGr"
      },
      "source": [
        "### Using `unique` to find out more info about our data"
      ]
    },
    {
      "cell_type": "code",
      "execution_count": null,
      "metadata": {
        "execution": {},
        "id": "y3PtpSAMPOGr",
        "colab": {
          "base_uri": "https://localhost:8080/"
        },
        "outputId": "18058a0e-de85-494e-b70d-a48a55b7cf2a"
      },
      "outputs": [
        {
          "output_type": "stream",
          "name": "stdout",
          "text": [
            "exposure_levels: ['familiar' 'novel']\n"
          ]
        }
      ],
      "source": [
        "# Image types\n",
        "print('exposure_levels:', data.exposure_level.unique())"
      ]
    },
    {
      "cell_type": "code",
      "execution_count": null,
      "metadata": {
        "execution": {},
        "id": "Lrh4QOBbPOGr",
        "colab": {
          "base_uri": "https://localhost:8080/"
        },
        "outputId": "4a36ead7-933a-4f4d-bb50-e2e36c5eac17"
      },
      "outputs": [
        {
          "output_type": "stream",
          "name": "stdout",
          "text": [
            "stimulus presentations can be changes: [ True False]\n"
          ]
        }
      ],
      "source": [
        "# Same or different image\n",
        "print('stimulus presentations can be changes:', data.is_change.unique())"
      ]
    },
    {
      "cell_type": "code",
      "execution_count": null,
      "metadata": {
        "execution": {},
        "id": "w1Wo4R-kPOGs",
        "colab": {
          "base_uri": "https://localhost:8080/"
        },
        "outputId": "8594e586-eb76-4449-dcad-f0f21a25c39f"
      },
      "outputs": [
        {
          "output_type": "stream",
          "name": "stdout",
          "text": [
            "stimulus presentations can be omitted: [False  True]\n"
          ]
        }
      ],
      "source": [
        "# Omission trials\n",
        "print('stimulus presentations can be omitted:', data.omitted.unique())"
      ]
    },
    {
      "cell_type": "code",
      "execution_count": null,
      "metadata": {
        "execution": {},
        "id": "VHpTHsbwPOGs",
        "colab": {
          "base_uri": "https://localhost:8080/"
        },
        "outputId": "2823fe01-2f2a-4c89-c43b-483c26b961da"
      },
      "outputs": [
        {
          "output_type": "stream",
          "name": "stdout",
          "text": [
            "cre lines (cell types) included in this dataset are: ['Sst-IRES-Cre' 'Vip-IRES-Cre']\n"
          ]
        }
      ],
      "source": [
        "# Cre lines\n",
        "print('cre lines (cell types) included in this dataset are:', data.cre_line.unique())"
      ]
    },
    {
      "cell_type": "code",
      "execution_count": null,
      "metadata": {
        "execution": {},
        "id": "C_pAL4e6POGs",
        "colab": {
          "base_uri": "https://localhost:8080/"
        },
        "outputId": "c5ba56a2-db20-43d9-f70d-cffc83091a45"
      },
      "outputs": [
        {
          "output_type": "stream",
          "name": "stdout",
          "text": [
            "there are 13 mice in this dataset\n"
          ]
        }
      ],
      "source": [
        "# Mouse count\n",
        "print('there are', len(data.mouse_id.unique()), 'mice in this dataset')"
      ]
    },
    {
      "cell_type": "code",
      "execution_count": null,
      "metadata": {
        "execution": {},
        "id": "BPSNMsumPOGs",
        "colab": {
          "base_uri": "https://localhost:8080/"
        },
        "outputId": "b43b62dd-15bd-4187-dc16-0888a7c07226"
      },
      "outputs": [
        {
          "output_type": "stream",
          "name": "stdout",
          "text": [
            "there are 25 sessions in this dataset\n"
          ]
        }
      ],
      "source": [
        "# Session count\n",
        "print('there are', len(data.ophys_session_id.unique()), 'sessions in this dataset')"
      ]
    },
    {
      "cell_type": "code",
      "execution_count": null,
      "metadata": {
        "id": "TGh5JjWWWLzL",
        "colab": {
          "base_uri": "https://localhost:8080/"
        },
        "outputId": "00982067-2444-4d44-932e-a101dc9d78b0"
      },
      "outputs": [
        {
          "output_type": "stream",
          "name": "stdout",
          "text": [
            "there are 223 cells in this dataset\n"
          ]
        }
      ],
      "source": [
        "# Cell count\n",
        "print('there are', len(data.cell_specimen_id.unique()), 'cells in this dataset')"
      ]
    },
    {
      "cell_type": "code",
      "execution_count": null,
      "metadata": {
        "id": "OKfzZe-eXLxR",
        "colab": {
          "base_uri": "https://localhost:8080/"
        },
        "outputId": "48de5a3a-cbed-4f23-86f3-c589dbbbdb98"
      },
      "outputs": [
        {
          "output_type": "stream",
          "name": "stdout",
          "text": [
            "there are 4 females in this dataset\n"
          ]
        }
      ],
      "source": [
        "# Female count\n",
        "females = data[(data.sex == 'F')]\n",
        "print('there are', len(females.mouse_id.unique()), 'females in this dataset')"
      ]
    },
    {
      "cell_type": "code",
      "execution_count": null,
      "metadata": {
        "id": "1Y27ZoKhWYJL",
        "colab": {
          "base_uri": "https://localhost:8080/"
        },
        "outputId": "63601928-057f-41c7-eae3-bbdf68c1c365"
      },
      "outputs": [
        {
          "output_type": "stream",
          "name": "stdout",
          "text": [
            "there are 9 males in this dataset\n"
          ]
        }
      ],
      "source": [
        "# Male count\n",
        "males = data[(data.sex == 'M')]\n",
        "print('there are', len(males.mouse_id.unique()), 'males in this dataset')"
      ]
    },
    {
      "cell_type": "code",
      "execution_count": null,
      "metadata": {
        "id": "c1_TY-oZf7R3",
        "colab": {
          "base_uri": "https://localhost:8080/"
        },
        "outputId": "d909965f-aa48-4cfd-dee6-eb33bcc6ba8e"
      },
      "outputs": [
        {
          "output_type": "stream",
          "name": "stdout",
          "text": [
            "the brain region(s) in this dataset are: ['VISp']\n"
          ]
        }
      ],
      "source": [
        "# Brain region(s) info\n",
        "print('the brain region(s) in this dataset are:', data.targeted_structure.unique())"
      ]
    },
    {
      "cell_type": "markdown",
      "source": [
        "This abbreviation indicates all recordings in this dataset that we imported are from primary visual cortex"
      ],
      "metadata": {
        "id": "SknvVoTCLkPu"
      }
    },
    {
      "cell_type": "markdown",
      "metadata": {
        "execution": {},
        "id": "_L-cUGHRPOGs"
      },
      "source": [
        "\n",
        "# How are VIP and SST cells affected by stimulus novelty?"
      ]
    },
    {
      "cell_type": "markdown",
      "metadata": {
        "execution": {},
        "id": "Mf1efpZWPOGs"
      },
      "source": [
        "### Plot the population average change response for familiar and novel images for each Cre transgenic line"
      ]
    },
    {
      "cell_type": "markdown",
      "metadata": {
        "execution": {},
        "id": "wrboYdozPOGt"
      },
      "source": [
        "####**Step 1**: Get trials where the image identity changed, for SST and VIP cells"
      ]
    },
    {
      "cell_type": "code",
      "execution_count": null,
      "metadata": {
        "execution": {},
        "id": "oYUIwT-ZPOGt"
      },
      "outputs": [],
      "source": [
        "sst_data = data[(data.cre_line == 'Sst-IRES-Cre') & (data.is_change == True)]\n",
        "vip_data = data[(data.cre_line == 'Vip-IRES-Cre') & (data.is_change == True)]"
      ]
    },
    {
      "cell_type": "code",
      "execution_count": null,
      "metadata": {
        "id": "gN30jEoCd7Lz"
      },
      "outputs": [],
      "source": [
        "sst_data.shape"
      ]
    },
    {
      "cell_type": "code",
      "execution_count": null,
      "metadata": {
        "id": "KtyMkvv6d9nc"
      },
      "outputs": [],
      "source": [
        "vip_data.shape"
      ]
    },
    {
      "cell_type": "markdown",
      "metadata": {
        "execution": {},
        "id": "4gQxrYuZPOGt"
      },
      "source": [
        "#### **Step 2**: Plot the population average change response of SST cells for familiar and novel images"
      ]
    },
    {
      "cell_type": "markdown",
      "metadata": {
        "id": "qduBb1kQDXo0"
      },
      "source": [
        "First, let's think about what data we need from the table. In this case, we want to plot the change in calcium flourescence (y-axis) over time (x-axis).\n",
        "The two columns with this info are: <br>\n",
        "`trace`<br>\n",
        "`trace_timestamps`"
      ]
    },
    {
      "cell_type": "markdown",
      "metadata": {
        "id": "-O3D5NZ1DwPP"
      },
      "source": [
        "Let's take a look at this data before we plot."
      ]
    },
    {
      "cell_type": "code",
      "execution_count": null,
      "metadata": {
        "id": "0V39rFEODzfm"
      },
      "outputs": [],
      "source": [
        "# trace data\n",
        "trace_sst = sst_data.trace\n",
        "trace_sst"
      ]
    },
    {
      "cell_type": "code",
      "execution_count": null,
      "metadata": {
        "id": "PB0HVjAhervJ"
      },
      "outputs": [],
      "source": [
        "# timestamps- aligned to stimulus onset or omission\n",
        "timestamps_sst = sst_data.trace_timestamps\n",
        "timestamps_sst"
      ]
    },
    {
      "cell_type": "code",
      "source": [
        "#@title Review\n",
        "from IPython.display import HTML\n",
        "\n",
        "alert_info = '''\n",
        "<div style= \"font-size: 20px\"; class=\"alert alert-info\" role=\"alert\">\n",
        "  <h4 class=\"alert-heading\">Review</h4>\n",
        "Does this look like how we've seen/worked with data in the past? Why or why not?\n",
        "</div>\n",
        "'''\n",
        "\n",
        "display(HTML('<link href=\"https://nbviewer.org/static/build/styles.css\" rel=\"stylesheet\">'))\n",
        "display(HTML(alert_info))"
      ],
      "metadata": {
        "colab": {
          "base_uri": "https://localhost:8080/",
          "height": 200
        },
        "cellView": "form",
        "id": "8yFE2v2CL2QR",
        "outputId": "3a336a17-367b-4acb-9de4-f08353c78d27"
      },
      "execution_count": null,
      "outputs": [
        {
          "output_type": "display_data",
          "data": {
            "text/plain": [
              "<IPython.core.display.HTML object>"
            ],
            "text/html": [
              "<link href=\"https://nbviewer.org/static/build/styles.css\" rel=\"stylesheet\">"
            ]
          },
          "metadata": {}
        },
        {
          "output_type": "display_data",
          "data": {
            "text/plain": [
              "<IPython.core.display.HTML object>"
            ],
            "text/html": [
              "\n",
              "<div style= \"font-size: 20px\"; class=\"alert alert-info\" role=\"alert\">\n",
              "  <h4 class=\"alert-heading\">Review</h4>\n",
              "Does this look like how we've seen/worked with data in the past? Why or why not?\n",
              "</div>\n"
            ]
          },
          "metadata": {}
        }
      ]
    },
    {
      "cell_type": "markdown",
      "metadata": {
        "id": "fCVd1j5RFe8D"
      },
      "source": [
        "Now that we know what these look like, we need to figure out how to incorporate them into a plot. <br>We will first use `matplotlib`, which we imported as `plt`."
      ]
    },
    {
      "cell_type": "markdown",
      "source": [
        "Here we use `.values` when working with our dataframe in `pandas`. Documentation can be found [here](https://pandas.pydata.org/docs/reference/api/pandas.DataFrame.values.html)"
      ],
      "metadata": {
        "id": "43H7c2oEFrPK"
      }
    },
    {
      "cell_type": "code",
      "execution_count": null,
      "metadata": {
        "id": "g_brdDHLFrNh"
      },
      "outputs": [],
      "source": [
        "# Notice that all the timestamps are the same- they should be!\n",
        "# Everything was aligned (in time) for us, so we only need this set of values once for our x-axis\n",
        "# We reference the column from the dataset that we want (trace_timestamps), and use .values from pandas to access the values in the first one\n",
        "timestamps = sst_data.trace_timestamps.values[0]\n",
        "timestamps"
      ]
    },
    {
      "cell_type": "code",
      "execution_count": null,
      "metadata": {
        "id": "fhsN11I1Ge1G"
      },
      "outputs": [],
      "source": [
        "# Now we want to plot the y-values for each image condition- familiar and novel\n",
        "fam_sst = sst_data[sst_data.exposure_level == 'familiar'].trace.values\n",
        "nov_sst = sst_data[sst_data.exposure_level == 'novel'].trace.values"
      ]
    },
    {
      "cell_type": "code",
      "execution_count": null,
      "metadata": {
        "id": "9brLMd-xhujx"
      },
      "outputs": [],
      "source": [
        "fam_sst"
      ]
    },
    {
      "cell_type": "code",
      "execution_count": null,
      "metadata": {
        "id": "-FjdR97uGy_a"
      },
      "outputs": [],
      "source": [
        "# Plotting population average (all cells) SST response for familiar and novel images\n",
        "#plt.plot(x,y,label_for_legend)\n",
        "\n",
        "plt.plot(timestamps, np.mean(fam_sst), label = 'Familiar')\n",
        "plt.plot(timestamps, np.mean(nov_sst), label = 'Novel')\n",
        "\n",
        "\n",
        "# Plot aesthetics\n",
        "sns.despine()                                                   # remove top and right axes (w/o this, full box border)\n",
        "plt.title('SST population average', y=1.05)                     # title text + location\n",
        "plt.xlabel('Time after change (sec)')                           # x-axis label\n",
        "plt.ylabel('dF/F')                                              # y-axis label\n",
        "plt.ylim(-0.04,0.10);                                           # adjust the limits on the y-axis; we will pick same values across all plots for consistency\n",
        "plt.legend(frameon = False)                                     # remove box border around legend\n",
        "plt.show()\n"
      ]
    },
    {
      "cell_type": "code",
      "execution_count": null,
      "metadata": {
        "execution": {},
        "id": "fiwCd9vdPOGt",
        "cellView": "form"
      },
      "outputs": [],
      "source": [
        "#@title Hidden Code- Same Plot as Above Using For Loop\n",
        "\n",
        "# Plotting code will generate the same plot as above, just more advanced using loop\n",
        "timestamps = sst_data.trace_timestamps.values[0]\n",
        "\n",
        "# Here we can loop through the unique levels of exposure (familiar and novel) to plot each\n",
        "for exposure_level in sst_data.exposure_level.unique():\n",
        "  traces = sst_data[sst_data.exposure_level == exposure_level].trace.values\n",
        "  plt.plot(timestamps, np.mean(traces), label = exposure_level)\n",
        "\n",
        "# Plot aesthetics\n",
        "sns.despine()                                                   # remove top and right axes (w/o this, full box border)\n",
        "plt.title('SST population average', y=1.05)                     # title text + location\n",
        "plt.xlabel('Time after change (sec)')                           # x-axis label\n",
        "plt.ylabel('dF/F')                                              # y-axis label\n",
        "plt.ylim(-0.04,0.10);                                           # adjust the limits on the y-axis; we will pick same values across all plots for consistency\n",
        "plt.legend(frameon = False)                                     # remove box border around legend\n",
        "plt.show()\n"
      ]
    },
    {
      "cell_type": "markdown",
      "source": [
        "---\n",
        "#### <mark> Stopped here in class lec01\n",
        "---"
      ],
      "metadata": {
        "id": "CX6vlXg6N4Qj"
      }
    },
    {
      "cell_type": "markdown",
      "metadata": {
        "execution": {},
        "id": "AhFtI-WZPOGt"
      },
      "source": [
        "#### **Step 3**: Plot the population average change response of VIP cells for familiar and novel images"
      ]
    },
    {
      "cell_type": "markdown",
      "metadata": {
        "id": "STvvJ8daS6xx"
      },
      "source": [
        "Similar to above, but now with VIP data instead of SST"
      ]
    },
    {
      "cell_type": "code",
      "execution_count": null,
      "metadata": {
        "id": "Za1dFIqiTCel"
      },
      "outputs": [],
      "source": [
        "# Notice that all the timestamps are the same- they should be!\n",
        "# Everything was aligned (in time) for us, so we only need this set of values once for our x-axis\n",
        "# We reference the column from the dataset that we want (trace_timestamps), and use .values from pandas to access the values in the first one\n",
        "timestamps_vip = ...\n",
        "timestamps_vip"
      ]
    },
    {
      "cell_type": "code",
      "source": [
        "#@title Solution\n",
        "timestamps_vip = vip_data.trace_timestamps.values[0]\n",
        "timestamps_vip"
      ],
      "metadata": {
        "cellView": "form",
        "id": "fSnOovqIAopF"
      },
      "execution_count": null,
      "outputs": []
    },
    {
      "cell_type": "code",
      "execution_count": null,
      "metadata": {
        "id": "Kc_cpfeuTGKM"
      },
      "outputs": [],
      "source": [
        "# Now we want to plot the y-values for each image condition- familiar and novel\n",
        "fam_vip = ...\n",
        "nov_vip = ..."
      ]
    },
    {
      "cell_type": "code",
      "source": [
        "#@title Solution\n",
        "fam_vip = vip_data[vip_data.exposure_level == 'familiar'].trace.values\n",
        "nov_vip = vip_data[vip_data.exposure_level == 'novel'].trace.values"
      ],
      "metadata": {
        "cellView": "form",
        "id": "BdySJnZ2AwF9"
      },
      "execution_count": null,
      "outputs": []
    },
    {
      "cell_type": "code",
      "execution_count": null,
      "metadata": {
        "id": "9ACZZGxFTMNz"
      },
      "outputs": [],
      "source": [
        "# Plotting population average (all cells) VIP response for familiar and novel images\n",
        "plt.plot(...)\n",
        "plt.plot(...)\n",
        "\n",
        "\n",
        "# Plot aesthetics\n",
        "sns.despine()                                                   # remove top and right axes (w/o this, full box border)\n",
        "plt.title('VIP population average', y = 1.05)                   # title text + location\n",
        "plt.xlabel('Time after change (sec)')                           # x-axis label\n",
        "plt.ylabel('dF/F')                                              # y-axis label\n",
        "plt.ylim(0,0.10);                                               # adjust the limits on the y-axis; we will pick same values across all plots for consistency\n",
        "plt.legend(frameon = False)                                     # remove box border around legend\n",
        "plt.show()\n"
      ]
    },
    {
      "cell_type": "code",
      "source": [
        "#@title Solution\n",
        "plt.plot(timestamps_vip, np.mean(fam_vip), label='Familiar')\n",
        "plt.plot(timestamps_vip, np.mean(nov_vip), label='Novel')\n",
        "\n",
        "\n",
        "# Plot aesthetics\n",
        "sns.despine()                                                   # remove top and right axes (w/o this, full box border)\n",
        "plt.title('VIP population average', y=1.05)                     # title text + location\n",
        "plt.xlabel('Time after change (sec)')                           # x-axis label\n",
        "plt.ylabel('dF/F')                                              # y-axis label\n",
        "plt.ylim(0,0.10);                                               # adjust the limits on the y-axis; we will pick same values across all plots for consistency\n",
        "plt.legend(frameon = False)                                     # remove box border around legend\n",
        "plt.show()"
      ],
      "metadata": {
        "cellView": "form",
        "id": "jCML5CNhAzsV"
      },
      "execution_count": null,
      "outputs": []
    },
    {
      "cell_type": "code",
      "execution_count": null,
      "metadata": {
        "execution": {},
        "id": "znfU_SIgPOGt",
        "cellView": "form"
      },
      "outputs": [],
      "source": [
        "#@title Hidden Code\n",
        "# Advanced with a loop for the conditions (same plot as above though)\n",
        "\n",
        "timestamps = vip_data.trace_timestamps.values[0]\n",
        "\n",
        "# Here we can loop through the unique levels of exposure (familiar and novel) to plot each\n",
        "for exposure_level in vip_data.exposure_level.unique():\n",
        "  traces = vip_data[vip_data.exposure_level==exposure_level].trace.values\n",
        "  plt.plot(timestamps, np.mean(traces), label=exposure_level)\n",
        "\n",
        "# Plot aesthetics\n",
        "sns.despine()                                                   # remove top and right axes (w/o this, full box border)\n",
        "plt.title('VIP population average', y=1.05)                     # title text + location\n",
        "plt.xlabel('Time after change (sec)')                           # x-axis label\n",
        "plt.ylabel('dF/F')                                              # y-axis label\n",
        "plt.ylim(0,0.10);                                               # adjust the limits on the y-axis; we will pick same values across all plots for consistency\n",
        "plt.legend(frameon = False)                                     # remove box border around legend\n",
        "plt.show()"
      ]
    },
    {
      "cell_type": "markdown",
      "metadata": {
        "execution": {},
        "id": "DMXpenTVPOGt"
      },
      "source": [
        "### How do we find cells that were imaged across multiple sessions? How do single cells change depending on the image set?"
      ]
    },
    {
      "cell_type": "code",
      "execution_count": null,
      "metadata": {
        "execution": {},
        "id": "W0N6y8-QPOGt"
      },
      "outputs": [],
      "source": [
        "# which cells are in more than one session? make a list\n",
        "cells_in_multiple_sessions = []\n",
        "\n",
        "for cell_specimen_id in vip_data.cell_specimen_id.unique():\n",
        "  if len(vip_data[vip_data.cell_specimen_id == cell_specimen_id].ophys_session_id.unique()) > 1:\n",
        "    cells_in_multiple_sessions.append(cell_specimen_id)\n",
        "\n",
        "print(cells_in_multiple_sessions)"
      ]
    },
    {
      "cell_type": "markdown",
      "source": [
        "Let's walk through the steps of the `for` loop above to check our understanding."
      ],
      "metadata": {
        "id": "zjtbUMmAfQAE"
      }
    },
    {
      "cell_type": "code",
      "execution_count": null,
      "metadata": {
        "id": "uSM7OQ5JUNC1"
      },
      "outputs": [],
      "source": [
        "# Get list of unique\n",
        "vip_data.cell_specimen_id.unique()"
      ]
    },
    {
      "cell_type": "code",
      "execution_count": null,
      "metadata": {
        "id": "3Qt2oSlTVDha"
      },
      "outputs": [],
      "source": [
        "# how many cells are there?\n",
        "len(cells_in_multiple_sessions)"
      ]
    },
    {
      "cell_type": "code",
      "execution_count": null,
      "metadata": {
        "id": "6ZVn16t6k4eu"
      },
      "outputs": [],
      "source": [
        "# Test the first cell id from the list (note is not in the multiple session list)\n",
        "cell_specimen_id = 1086492391"
      ]
    },
    {
      "cell_type": "code",
      "execution_count": null,
      "metadata": {
        "id": "ycm-gFstU2Ct"
      },
      "outputs": [],
      "source": [
        "# See what appears first before evaluating the length and >1\n",
        "vip_data[vip_data.cell_specimen_id == cell_specimen_id].ophys_session_id.unique()"
      ]
    },
    {
      "cell_type": "code",
      "execution_count": null,
      "metadata": {
        "id": "_Clfe1BGURjU"
      },
      "outputs": [],
      "source": [
        "# Now put it all together- does the output make sense?\n",
        "len(vip_data[vip_data.cell_specimen_id == cell_specimen_id].ophys_session_id.unique()) > 1"
      ]
    },
    {
      "cell_type": "code",
      "execution_count": null,
      "metadata": {
        "id": "BDfkH0MplCxu"
      },
      "outputs": [],
      "source": [
        "# Now pick the first cell id from the multiple session list\n",
        "cell_specimen_id = 1086495458"
      ]
    },
    {
      "cell_type": "code",
      "execution_count": null,
      "metadata": {
        "id": "C4W2TYcNUf1q"
      },
      "outputs": [],
      "source": [
        "# Find the data for the single cell\n",
        "# Find the unique entries of ophys_session_id\n",
        "# If the length of this is great than 1, it was a repeat cell\n",
        "vip_data[vip_data.cell_specimen_id == cell_specimen_id].ophys_session_id.unique()"
      ]
    },
    {
      "cell_type": "code",
      "execution_count": null,
      "metadata": {
        "id": "S1VhOUO4UaYh"
      },
      "outputs": [],
      "source": [
        "# Now put it all together- does the output make sense?\n",
        "len(vip_data[vip_data.cell_specimen_id == cell_specimen_id].ophys_session_id.unique()) > 1"
      ]
    },
    {
      "cell_type": "markdown",
      "metadata": {
        "id": "NSWU3mO1lXIl"
      },
      "source": [
        "#### Plot and review the data from an example cell in the multiple sessions list"
      ]
    },
    {
      "cell_type": "code",
      "execution_count": null,
      "metadata": {
        "execution": {},
        "id": "-WWJSEA6POGu"
      },
      "outputs": [],
      "source": [
        "# this one looks like the population average\n",
        "example_cell_specimen_id = cells_in_multiple_sessions[15]\n",
        "\n",
        "# Select the data for our cell of interest\n",
        "cell_data = vip_data[vip_data.cell_specimen_id == example_cell_specimen_id]\n",
        "timestamps = cell_data.trace_timestamps.values[0]\n",
        "\n",
        "# Use a loop to plot for both exposure levels (familiar and novel)\n",
        "for exposure_level in cell_data.exposure_level.unique():\n",
        "  mean_trace = cell_data[cell_data.exposure_level == exposure_level].trace.mean()\n",
        "  plt.plot(timestamps, mean_trace, label = exposure_level)\n",
        "\n",
        "# Plot aesthetics\n",
        "sns.despine()                                                             # remove top and right axes (w/o this, full box border)\n",
        "plt.title(f'cell_specimen_id:{example_cell_specimen_id}', y = 1.05)       # new - formatted string literal - don't need to know this, it's extra\n",
        "plt.xlabel('Time after change (sec)')                                     # x-axis label\n",
        "plt.ylabel('dF/F')                                                        # y-axis label\n",
        "plt.ylim(0.02,0.16);                                                      # adjust the limits on the y-axis; we will pick same values across all plots for consistency\n",
        "plt.legend(frameon = False)                                               # remove box border around legend\n",
        "plt.show()\n"
      ]
    },
    {
      "cell_type": "code",
      "execution_count": null,
      "metadata": {
        "execution": {},
        "id": "cX3m6smtPOGu"
      },
      "outputs": [],
      "source": [
        "# this one does *not* look like the population average\n",
        "example_cell_specimen_id = cells_in_multiple_sessions[0]\n",
        "\n",
        "# Select the data for our cell of interest\n",
        "cell_data = vip_data[vip_data.cell_specimen_id == example_cell_specimen_id]\n",
        "timestamps = cell_data.trace_timestamps.values[0]\n",
        "\n",
        "# Use a loop to plot for both exposure levels (familiar and novel)\n",
        "for exposure_level in cell_data.exposure_level.unique():\n",
        "  mean_trace = cell_data[cell_data.exposure_level == exposure_level].trace.mean()\n",
        "  plt.plot(timestamps, mean_trace, label = exposure_level)\n",
        "\n",
        "\n",
        "# Plot aesthetics\n",
        "sns.despine()                                                             # remove top and right axes (w/o this, full box border)\n",
        "plt.title(f'cell_specimen_id:{example_cell_specimen_id}', y = 1.05)       # new - formatted string literal - don't need to know this, it's extra\n",
        "plt.xlabel('Time after change (sec)')                                     # x-axis label\n",
        "plt.ylabel('dF/F')                                                        # y-axis label\n",
        "plt.ylim(0.05,0.30);                                                      # adjust the limits on the y-axis; we will pick same values across all plots for consistency\n",
        "plt.legend(frameon = False)                                               # remove box border around legend\n",
        "plt.show()\n"
      ]
    },
    {
      "cell_type": "markdown",
      "metadata": {
        "execution": {},
        "id": "B6ZthRJ6POGu"
      },
      "source": [
        "### What about trial to trial variability? How does the response of a single cell vary across a session?\n",
        "\n"
      ]
    },
    {
      "cell_type": "code",
      "execution_count": null,
      "metadata": {
        "id": "ivdY-l8-V1MY"
      },
      "outputs": [],
      "source": [
        "# Pre-selected one- feel free to choose another\n",
        "example_cell_specimen_id = vip_data[vip_data.exposure_level == 'novel'].cell_specimen_id.unique()[7]\n",
        "example_cell_specimen_id"
      ]
    },
    {
      "cell_type": "code",
      "execution_count": null,
      "metadata": {
        "id": "zlRIGwwZng-D"
      },
      "outputs": [],
      "source": [
        "# Get all the data from the larger table for this cell id we chose above\n",
        "cell_data = vip_data[vip_data.cell_specimen_id == example_cell_specimen_id]\n",
        "cell_data"
      ]
    },
    {
      "cell_type": "code",
      "execution_count": null,
      "metadata": {
        "id": "7bVIh5Tpnsy8"
      },
      "outputs": [],
      "source": [
        "# What images were shown? Need to know how many in the list to choose one below\n",
        "cell_data.image_name.unique()"
      ]
    },
    {
      "cell_type": "code",
      "execution_count": null,
      "metadata": {
        "execution": {},
        "id": "HF3Ke4p7POGu"
      },
      "outputs": [],
      "source": [
        "# pick a cell from a novel image session\n",
        "example_cell_specimen_id = vip_data[vip_data.exposure_level == 'novel'].cell_specimen_id.unique()[7]\n",
        "\n",
        "# Select the data for our cell of interest\n",
        "cell_data = vip_data[vip_data.cell_specimen_id == example_cell_specimen_id]\n",
        "cell_data = cell_data[(cell_data.image_name == cell_data.image_name.unique()[2])] # pick one unique image from the 8- im061\n",
        "\n",
        "# This controls the color options\n",
        "offset = 1 / len(cell_data.stimulus_presentations_id.unique())\n",
        "color = [0, 0, 0]\n",
        "\n",
        "# Loop for plotting all of the data for this cell\n",
        "for i, stimulus_presentations_id in enumerate(cell_data.stimulus_presentations_id.unique()):\n",
        "  trial_data = cell_data[cell_data.stimulus_presentations_id == stimulus_presentations_id]\n",
        "  timestamps = trial_data.trace_timestamps.values[0]\n",
        "  trace = trial_data.trace.values[0]\n",
        "  plt.plot(timestamps, trace, color = color)\n",
        "  color = [color[0] + offset, color[1] + offset, color[2] + offset]\n",
        "\n",
        "# Plot aesthetics\n",
        "sns.despine()                                                             # remove top and right axes (w/o this, full box border)\n",
        "plt.title(f'cell_specimen_id:{example_cell_specimen_id}', y = 1.05)       # new - formatted string literal - don't need to know this, it's extra\n",
        "plt.xlabel('Time after change (sec)')                                     # x-axis label\n",
        "plt.ylabel('dF/F')                                                        # y-axis label\n",
        "# plt.ylim(0.05,0.30);                                                    # adjust the limits on the y-axis; we will pick same values across all plots for consistency\n",
        "plt.show()\n"
      ]
    },
    {
      "cell_type": "markdown",
      "metadata": {
        "execution": {},
        "id": "4tgKV2qpPOGy"
      },
      "source": [
        "# How do SST and VIP cells respond when stimuli are omitted?"
      ]
    },
    {
      "cell_type": "markdown",
      "metadata": {
        "execution": {},
        "id": "LhbnjFrKPOGy"
      },
      "source": [
        "### Plot the population average response to stimulus omission"
      ]
    },
    {
      "cell_type": "markdown",
      "metadata": {
        "execution": {},
        "id": "C5GSTm4rPOGy"
      },
      "source": [
        "#### **Step 1**: Get trials where the stimulus was omitted, for SST and VIP cells"
      ]
    },
    {
      "cell_type": "code",
      "execution_count": null,
      "metadata": {
        "execution": {},
        "id": "tIYxM4NGPOGy"
      },
      "outputs": [],
      "source": [
        "sst_data_omit = data[(data.cre_line == 'Sst-IRES-Cre') & (data.omitted == True)]\n",
        "vip_data_omit = data[(data.cre_line == 'Vip-IRES-Cre') & (data.omitted == True)]"
      ]
    },
    {
      "cell_type": "markdown",
      "metadata": {
        "execution": {},
        "id": "5tHMRXWkPOGy"
      },
      "source": [
        "Plot the population average omission response of **SST** cells for familiar and novel images"
      ]
    },
    {
      "cell_type": "code",
      "execution_count": null,
      "metadata": {
        "execution": {},
        "id": "EHMwkmdhPOGy"
      },
      "outputs": [],
      "source": [
        "# Get the x-axis values for the time\n",
        "timestamps = sst_data_omit.trace_timestamps.values[0] # trace timestamps are relative to stimulus onset\n",
        "\n",
        "# Get the y-axis values of dF/F to plot for each exposure level (novel and familiar)\n",
        "for exposure_level in sst_data_omit.exposure_level.unique():\n",
        "  traces = sst_data_omit[sst_data_omit.exposure_level == exposure_level].trace.values\n",
        "  plt.plot(timestamps, np.mean(traces), label=exposure_level)\n",
        "\n",
        "# Plot aesthetics\n",
        "sns.despine()                                                   # remove top and right axes (w/o this, full box border)\n",
        "plt.title('SST population average', y = 1.05)                   # title + location\n",
        "plt.xlabel('Time after change (sec)')                           # x-axis label\n",
        "plt.ylabel('dF/F')                                              # y-axis label\n",
        "plt.ylim(-0.04,0.08);                                           # adjust the limits on the y-axis; we will pick same values across all plots for consistency\n",
        "plt.legend(frameon = False)                                     # remove box border around legend\n",
        "plt.show()\n"
      ]
    },
    {
      "cell_type": "markdown",
      "metadata": {
        "execution": {},
        "id": "Cfx0GQdfPOGz"
      },
      "source": [
        "Plot population average omission response of **VIP** cells for familiar and novel images"
      ]
    },
    {
      "cell_type": "code",
      "execution_count": null,
      "metadata": {
        "execution": {},
        "id": "BRzm5X8CPOGz"
      },
      "outputs": [],
      "source": [
        "# Get the x-axis values for the time\n",
        "timestamps = vip_data_omit.trace_timestamps.values[0]\n",
        "\n",
        "# Get the y-axis values of dF/F to plot for each exposure level (novel and familiar)\n",
        "for exposure_level in vip_data_omit.exposure_level.unique():\n",
        "  traces = vip_data_omit[vip_data_omit.exposure_level == exposure_level].trace.values\n",
        "  plt.plot(timestamps, np.mean(traces), label = exposure_level)\n",
        "\n",
        "# Plot aesthetics\n",
        "sns.despine()                                                   # remove top and right axes (w/o this, full box border)\n",
        "plt.title('VIP population average', y = 1.05)                   # title + location\n",
        "plt.xlabel('Time after change (sec)')                           # x-axis label\n",
        "plt.ylabel('dF/F')                                              # y-axis label\n",
        "plt.ylim(0,0.10);                                               # adjust the limits on the y-axis; we will pick same values across all plots for consistency\n",
        "plt.legend(frameon = False)                                     # remove box border around legend\n",
        "plt.show()\n"
      ]
    },
    {
      "cell_type": "markdown",
      "metadata": {
        "execution": {},
        "id": "64FjIhShPOGz"
      },
      "source": [
        "Additional questions you could ask about and plot from this dataset: <br><br>\n",
        "1.   Does the omission response correlate with behavior?\n",
        "\n",
        "2.   How do the dynamics of image and omission evoked activity change over time during the novel image session?"
      ]
    },
    {
      "cell_type": "markdown",
      "metadata": {
        "id": "cCVrrPwgpg6t"
      },
      "source": [
        "## Comparing data format: plotting with long format data\n",
        "\n"
      ]
    },
    {
      "cell_type": "markdown",
      "metadata": {
        "id": "Hlb7FkxBpLp9"
      },
      "source": [
        "<u> **Note on data format**</u>: This dataset is in wide format, where each row would represent a different `cell_id `and all data for that cell would be contained in the columns of a single row. See a smaller image of the table we've been working with below, focusing on the `dff` column (which has multiple values in it) in the example image below for comparison:\n",
        "\n",
        "![](data_wide.png)"
      ]
    },
    {
      "cell_type": "markdown",
      "metadata": {
        "id": "CDNecRknpZkr"
      },
      "source": [
        "## Tidy Data\n",
        "However, sometimes datasets can be easier to work with in long-format, or `tidy` data. <br>\n",
        "To demonstrate this, let's open another file for a **single mouse** that has been reformatted already."
      ]
    },
    {
      "cell_type": "code",
      "execution_count": null,
      "metadata": {
        "id": "TVUMnWSimNnE"
      },
      "outputs": [],
      "source": [
        "# Load the data file - SST_data.csv\n",
        "single_data = pd.read_csv('SST_data.csv')\n",
        "\n",
        "# Show the data for review\n",
        "single_data"
      ]
    },
    {
      "cell_type": "markdown",
      "metadata": {
        "id": "lHuNznCPmVTs"
      },
      "source": [
        "You can see that in this dataframe, `trial_id` is repeated across multiple rows of the dataset. So, a single `cell_id` is repeated across the rows. This is most similar to the data we've already been working with in this course."
      ]
    },
    {
      "cell_type": "markdown",
      "metadata": {
        "id": "M1gBxylXn1Wl"
      },
      "source": [
        "Review variables (columns) in the dataset. They are similar and a smaller subset from the ones above, with some names just slightly adjusted: <br> <br>\n",
        "\n",
        "`dF_F` calcium imaging signal (baseline corrected, normalized fluorescence) <br>\n",
        "`time_from_stim` is the timepoint of each row of data, aligned to an image presentation. Onset = time zero, and the times here span a (-1.25, 1.5) sec window  <br>\n",
        "`cell_id` id number for the cell <br>\n",
        "`exposure` whether the image for a trial was familiar or novel  <br>\n",
        "`trial_id` each image presentation is a separate trial <br>\n",
        "`omitted` whether a trial had an omitted image <br>\n",
        "`pupil_area` measured 500ms after stimulus presentation <br>\n",
        "`mean_response` average dF/F over the 500ms following image presentation <br>"
      ]
    },
    {
      "cell_type": "markdown",
      "metadata": {
        "id": "eIMlTxlMN0bh"
      },
      "source": [
        "Now, let's take a closer look at the data and do some preliminary exploration to understand what we are working with.\n",
        "\n",
        "Let's see how many cells are in the dataset."
      ]
    },
    {
      "cell_type": "code",
      "execution_count": null,
      "metadata": {
        "id": "gEkwbkiDnMtw"
      },
      "outputs": [],
      "source": [
        "# Find the unique entries from the cell_id column of the dataset\n",
        "# Review: index the dataframe using .COLUMN_NAME to refer to the column that you want\n",
        "len(single_data.cell_id.unique())"
      ]
    },
    {
      "cell_type": "code",
      "execution_count": null,
      "metadata": {
        "id": "RY7H7HAlnjUN"
      },
      "outputs": [],
      "source": [
        "# Find the unique entries of trial IDs\n",
        "len(single_data.trial_id.unique())"
      ]
    },
    {
      "cell_type": "markdown",
      "metadata": {
        "id": "ucRsUE1BnXAH"
      },
      "source": [
        "Let's look at a single `trial_id` and single `cell_id` combination."
      ]
    },
    {
      "cell_type": "code",
      "execution_count": null,
      "metadata": {
        "id": "9ASY3Wqpnb9G"
      },
      "outputs": [],
      "source": [
        "# select which trial id and cell id from the dataframe\n",
        "singlecell_trial_data = single_data[(single_data.trial_id == 24) & (single_data.cell_id == 1086500633)]\n",
        "\n",
        "# Display the data\n",
        "singlecell_trial_data"
      ]
    },
    {
      "cell_type": "markdown",
      "metadata": {
        "id": "EGRcdh4boIzq"
      },
      "source": [
        "## Plotting with Seaborn package"
      ]
    },
    {
      "cell_type": "markdown",
      "metadata": {
        "id": "S2oEfQpKoHIS"
      },
      "source": [
        "### Step 1: Plotting separate conditions with Seaborn\n",
        "Recall that we imported **seaborn** as `sns`. First, we will use a function called `sns.lineplot`. We will use this to plot our calcium signal based on familiar and novel trials. **Seaborn** allows us to do this by using `hue` in combination with the name of our variable of interest. <br>\n",
        "\n",
        "Read what this does and refer to the examples in the `sns.lineplot` [documentation](https://seaborn.pydata.org/generated/seaborn.lineplot.html#seaborn.lineplot).\n"
      ]
    },
    {
      "cell_type": "markdown",
      "metadata": {
        "id": "kFIlYziuohFg"
      },
      "source": [
        "#### 1.1 Lineplot\n",
        "Let's plot the data like we did above, but remember this is now trials averaged for just a single mouse.\n",
        "\n",
        "\n",
        "Note: This may take a few seconds, compared to how long it took for the previous plotting code to run above. There are some statistics being computed in the background, so it takes a bit longer (~10 secs) for the plot to be displayed."
      ]
    },
    {
      "cell_type": "code",
      "execution_count": null,
      "metadata": {
        "id": "nCt_YaLqoYRy"
      },
      "outputs": [],
      "source": [
        "# Lineplot code\n",
        "sns.lineplot(data = ...,\n",
        "             x = ...,\n",
        "             y = ...,\n",
        "             hue = ...)"
      ]
    },
    {
      "cell_type": "code",
      "source": [
        "#@title Solution\n",
        "sns.lineplot(data = single_data,\n",
        "             x = 'time_from_stim',\n",
        "             y = 'dF_F',\n",
        "             hue = 'exposure');\n",
        "\n",
        "\n",
        "# Plot aesthetics\n",
        "sns.despine()                                                   # remove top and right axes (w/o this, full box border)\n",
        "plt.title('Single Cell Trial Data', y = 1.05)                   # title + location\n",
        "plt.xlabel('Time from stim (sec)')                              # x-axis label\n",
        "plt.ylabel('dF/F')                                              # y-axis label\n",
        "plt.ylim(-0.04,0.08);                                           # adjust the limits on the y-axis; we will pick same values across all plots for consistency\n",
        "plt.legend(frameon = False)                                     # remove box border around legend\n",
        "plt.show()"
      ],
      "metadata": {
        "id": "9Ho0Lz5KB50k"
      },
      "execution_count": null,
      "outputs": []
    },
    {
      "cell_type": "code",
      "source": [
        "#@title Review\n",
        "from IPython.display import HTML\n",
        "\n",
        "alert_info = '''\n",
        "<div style= \"font-size: 20px\"; class=\"alert alert-info\" role=\"alert\">\n",
        "  <h4 class=\"alert-heading\">Review</h4>\n",
        "Let's review the plot above. How does this output compare to what was produced when we plotted with <code>matplotlib</code>?\n",
        "<br>Which specific aspects of the plot were added automatically?\n",
        " </div>\n",
        "'''\n",
        "\n",
        "display(HTML('<link href=\"https://nbviewer.org/static/build/styles.css\" rel=\"stylesheet\">'))\n",
        "display(HTML(alert_info))"
      ],
      "metadata": {
        "colab": {
          "base_uri": "https://localhost:8080/",
          "height": 229
        },
        "cellView": "form",
        "id": "V-L2TganFShH",
        "outputId": "a7ca6b81-7cdc-4d07-8e93-4c2b39239a49"
      },
      "execution_count": null,
      "outputs": [
        {
          "output_type": "display_data",
          "data": {
            "text/plain": [
              "<IPython.core.display.HTML object>"
            ],
            "text/html": [
              "<link href=\"https://nbviewer.org/static/build/styles.css\" rel=\"stylesheet\">"
            ]
          },
          "metadata": {}
        },
        {
          "output_type": "display_data",
          "data": {
            "text/plain": [
              "<IPython.core.display.HTML object>"
            ],
            "text/html": [
              "\n",
              "<div style= \"font-size: 20px\"; class=\"alert alert-info\" role=\"alert\">\n",
              "  <h4 class=\"alert-heading\">Review</h4>\n",
              "Let's review the plot above. How does this output compare to what was produced when we plotted with <code>matplotlib</code>?\n",
              "<br>Which specific aspects of the plot were added automatically?\n",
              " </div>\n"
            ]
          },
          "metadata": {}
        }
      ]
    },
    {
      "cell_type": "markdown",
      "metadata": {
        "id": "ekOgQcCvo5fZ"
      },
      "source": [
        "#### 1.2 Relplot\n",
        "Now, let's plot again, but using a different function within **seaborn** to compare. <br>\n",
        "Review the documentation on `relplot` [here](https://seaborn.pydata.org/tutorial/relational.html#visualizing-statistical-relationships). <br>\n",
        "Read the first section **[Visualizaing statistical relationships](https://seaborn.pydata.org/tutorial/relational.html#visualizing-statistical-relationships)**, and then scroll below (you can skip the sections leading up to the next one ->) and read **[Emphasizing continuity with line plots](https://seaborn.pydata.org/tutorial/relational.html#emphasizing-continuity-with-line-plots)**."
      ]
    },
    {
      "cell_type": "markdown",
      "metadata": {
        "id": "AA-utchJo92H"
      },
      "source": [
        "Let's use the code below to plot again.\n"
      ]
    },
    {
      "cell_type": "code",
      "execution_count": null,
      "metadata": {
        "id": "q1VnZP9Zo9F2"
      },
      "outputs": [],
      "source": [
        "# relplot- Adjust the code here\n",
        "sns.relplot(data = ...,\n",
        "            x = ...,\n",
        "            y = ...,\n",
        "            kind = ...,\n",
        "            hue = ...)\n",
        "\n",
        "# Plot aesthetics\n",
        "sns.despine()                                                   # remove top and right axes (w/o this, full box border)\n",
        "plt.title('Single Cell Trial Data', y = 1.05)                   # title + location\n",
        "plt.xlabel('Time from stim (sec)')                              # x-axis label\n",
        "plt.ylabel('dF/F')                                              # y-axis label\n",
        "plt.ylim(-0.04,0.08);                                           # adjust the limits on the y-axis; we will pick same values across all plots for consistency\n",
        "plt.legend(frameon = False)                                     # remove box border around legend\n",
        "plt.show()"
      ]
    },
    {
      "cell_type": "code",
      "source": [
        "#@title Solution\n",
        "sns.relplot(data = single_data,\n",
        "            x='time_from_stim',\n",
        "            y='dF_F',\n",
        "            kind = 'line',\n",
        "            hue = 'exposure');\n",
        "\n",
        "# Plot aesthetics\n",
        "sns.despine()                                                   # remove top and right axes (w/o this, full box border)\n",
        "plt.title('Single Cell Trial Data', y = 1.05)                   # title + location\n",
        "plt.xlabel('Time from stim (sec)')                              # x-axis label\n",
        "plt.ylabel('dF/F')                                              # y-axis label\n",
        "plt.ylim(-0.04,0.08);                                           # adjust the limits on the y-axis; we will pick same values across all plots for consistency\n",
        "plt.legend(frameon = False)                                     # remove box border around legend\n",
        "plt.show()"
      ],
      "metadata": {
        "id": "RHjRTXYbCKRE",
        "cellView": "form"
      },
      "execution_count": null,
      "outputs": []
    },
    {
      "cell_type": "markdown",
      "metadata": {
        "id": "Bb3so2OapRP2"
      },
      "source": [
        "Does this plot look similar to the first one? It should be exactly the same (note: the axes might appear visually stretched, but the data hasn't changed!). <br>\n",
        "\n",
        "This demonstrates that there may be multiple ways to use functions within packages to produce the same plots and data visualizations!"
      ]
    },
    {
      "cell_type": "code",
      "source": [
        "#@title Review\n",
        "from IPython.display import HTML\n",
        "\n",
        "alert_info = '''\n",
        "<div style= \"font-size: 20px\"; class=\"alert alert-info\" role=\"alert\">\n",
        "  <h4 class=\"alert-heading\">Review</h4>\n",
        "Does this plot look similar to the first one? It should be exactly the same - the axes might appear visually stretched, but the data hasn't changed! <br>\n",
        "This demonstrates that there may be multiple ways to use functions within packages to produce the same plots and data visualizations!\n",
        " </div>\n",
        "'''\n",
        "\n",
        "display(HTML('<link href=\"https://nbviewer.org/static/build/styles.css\" rel=\"stylesheet\">'))\n",
        "display(HTML(alert_info))"
      ],
      "metadata": {
        "colab": {
          "base_uri": "https://localhost:8080/",
          "height": 229
        },
        "cellView": "form",
        "id": "5tR94D_oF3EJ",
        "outputId": "b25fac62-1781-4aba-de71-0720022ff46a"
      },
      "execution_count": null,
      "outputs": [
        {
          "output_type": "display_data",
          "data": {
            "text/plain": [
              "<IPython.core.display.HTML object>"
            ],
            "text/html": [
              "<link href=\"https://nbviewer.org/static/build/styles.css\" rel=\"stylesheet\">"
            ]
          },
          "metadata": {}
        },
        {
          "output_type": "display_data",
          "data": {
            "text/plain": [
              "<IPython.core.display.HTML object>"
            ],
            "text/html": [
              "\n",
              "<div style= \"font-size: 20px\"; class=\"alert alert-info\" role=\"alert\">\n",
              "  <h4 class=\"alert-heading\">Review</h4>\n",
              "Does this plot look similar to the first one? It should be exactly the same - the axes might appear visually stretched, but the data hasn't changed! <br>\n",
              "This demonstrates that there may be multiple ways to use functions within packages to produce the same plots and data visualizations!\n",
              " </div>\n"
            ]
          },
          "metadata": {}
        }
      ]
    },
    {
      "cell_type": "markdown",
      "metadata": {
        "id": "Rh01ZEbyp2fb"
      },
      "source": [
        "#### 1.3 Changing Labels\n",
        "We can also change the names of the labels on our plots. There are a few ways to do this, but the easiest is to interface with **matplotlib** like we did previously.\n"
      ]
    },
    {
      "cell_type": "code",
      "source": [
        "#@title Task\n",
        "from IPython.display import HTML\n",
        "\n",
        "alert_info = '''\n",
        "<div style= \"font-size: 20px\"; class=\"alert alert-info\" role=\"alert\">\n",
        "  <h4 class=\"alert-heading\">Task</h4>\n",
        "Review the code and add labels by replacing <code>insert_text</code>. <br>\n",
        "Feel free to edit other settings and practice options for using <code>set_style</code> and <code>palette</code>. <br>\n",
        "We are again plotting the calcium signal over (<code>dF_F</code>) over time (<code>time_from_stim</code>) by familiar/novel (<code>exposure</code>) conditions.\n",
        " </div>\n",
        "'''\n",
        "\n",
        "display(HTML('<link href=\"https://nbviewer.org/static/build/styles.css\" rel=\"stylesheet\">'))\n",
        "display(HTML(alert_info))"
      ],
      "metadata": {
        "colab": {
          "base_uri": "https://localhost:8080/",
          "height": 257
        },
        "cellView": "form",
        "id": "Z3fdf88ZGB8d",
        "outputId": "e828bd96-b622-4cab-9380-b0ff53e2e110"
      },
      "execution_count": null,
      "outputs": [
        {
          "output_type": "display_data",
          "data": {
            "text/plain": [
              "<IPython.core.display.HTML object>"
            ],
            "text/html": [
              "<link href=\"https://nbviewer.org/static/build/styles.css\" rel=\"stylesheet\">"
            ]
          },
          "metadata": {}
        },
        {
          "output_type": "display_data",
          "data": {
            "text/plain": [
              "<IPython.core.display.HTML object>"
            ],
            "text/html": [
              "\n",
              "<div style= \"font-size: 20px\"; class=\"alert alert-info\" role=\"alert\">\n",
              "  <h4 class=\"alert-heading\">Task</h4>\n",
              "Review the code and add labels by replacing <code>insert_text</code>. <br>\n",
              "Feel free to edit other settings and practice options for using <code>set_style</code> and <code>palette</code>. <br>\n",
              "We are again plotting the calcium signal over (<code>dF_F</code>) over time (<code>time_from_stim</code>) by familiar/novel (<code>exposure</code>) conditions.\n",
              " </div>\n"
            ]
          },
          "metadata": {}
        }
      ]
    },
    {
      "cell_type": "code",
      "execution_count": null,
      "metadata": {
        "id": "OhlIxdfJp_bz"
      },
      "outputs": [],
      "source": [
        "# Plot with adjusted labels\n",
        "# Another style option\n",
        "sns.set_style('ticks')\n",
        "\n",
        "# Plot with palette and adjust labels/title\n",
        "sns.lineplot(data = ...,\n",
        "             x = ...,\n",
        "             y = ...,\n",
        "             hue = ...,\n",
        "             palette = 'flare')\n",
        "\n",
        "# Plot aesthetics\n",
        "sns.despine()                                                                              # remove top and right axes (w/o this, full box border)\n",
        "plt.xlabel('<insert_text>')                                                 # **EDIT** x-axis label\n",
        "plt.ylabel('<insert_text>')                                                 # **EDIT** y-axis label\n",
        "plt.title('<insert_text>', y = 1.05)                                        # **EDIT** title + location\n",
        "plt.ylim(-0.04,0.08);                                                                      # adjust the limits on the y-axis; we will pick same values across all plots for consistency\n",
        "plt.legend(bbox_to_anchor=(1.05, 1), loc='upper left', borderaxespad=0, frameon = False);  # you don't need to know this, but it puts the legend outside the box so it doesn't overlap with data + remove box border"
      ]
    },
    {
      "cell_type": "code",
      "source": [
        "#@title Solution\n",
        "\n",
        "# Another style option\n",
        "sns.set_style('ticks')\n",
        "\n",
        "# Plot with palette and adjust labels/title\n",
        "sns.lineplot(data = single_data,\n",
        "             x = 'time_from_stim',\n",
        "             y = 'dF_F',\n",
        "             hue = 'exposure',\n",
        "             palette = 'flare')\n",
        "\n",
        "# Plot aesthetics\n",
        "sns.despine()                                                                              # remove top and right axes (w/o this, full box border)\n",
        "plt.xlabel('Time from image presentation (sec)')                                                 # x-axis label\n",
        "plt.ylabel('Calcium activity')                                                             # y-axis label\n",
        "plt.title('Calcium imaging over time', y = 1.05)                                           # title + location\n",
        "plt.ylim(-0.04,0.08);                                                                      # adjust the limits on the y-axis; we will pick same values across all plots for consistency\n",
        "plt.legend(bbox_to_anchor=(1.05, 1), loc='upper left', borderaxespad=0, frameon = False);  # you don't need to know this, but it puts the legend outside the box so it doesn't overlap with data + remove box border"
      ],
      "metadata": {
        "id": "QRsB0YzoCdxL",
        "cellView": "form"
      },
      "execution_count": null,
      "outputs": []
    },
    {
      "cell_type": "code",
      "source": [
        "#@title Task\n",
        "from IPython.display import HTML\n",
        "\n",
        "alert_info = '''\n",
        "<div style= \"font-size: 20px\"; class=\"alert alert-info\" role=\"alert\">\n",
        "  <h4 class=\"alert-heading\">Task</h4>\n",
        "Run the code below to plot by multiple conditions: 2 <code>exposure: familiar/novel</code> x 2 <code>image omitted: true/false</code>.\n",
        "</div>\n",
        "'''\n",
        "\n",
        "display(HTML('<link href=\"https://nbviewer.org/static/build/styles.css\" rel=\"stylesheet\">'))\n",
        "display(HTML(alert_info))"
      ],
      "metadata": {
        "colab": {
          "base_uri": "https://localhost:8080/",
          "height": 200
        },
        "cellView": "form",
        "id": "p2V5aeOaTf_z",
        "outputId": "8daf3757-696a-4eca-c34e-1e1bd9e711f5"
      },
      "execution_count": null,
      "outputs": [
        {
          "output_type": "display_data",
          "data": {
            "text/plain": [
              "<IPython.core.display.HTML object>"
            ],
            "text/html": [
              "<link href=\"https://nbviewer.org/static/build/styles.css\" rel=\"stylesheet\">"
            ]
          },
          "metadata": {}
        },
        {
          "output_type": "display_data",
          "data": {
            "text/plain": [
              "<IPython.core.display.HTML object>"
            ],
            "text/html": [
              "\n",
              "<div style= \"font-size: 20px\"; class=\"alert alert-info\" role=\"alert\">\n",
              "  <h4 class=\"alert-heading\">Task</h4>\n",
              "Run the code below to plot by multiple conditions: 2 <code>exposure: familiar/novel</code> x 2 <code>image omitted: true/false</code>.\n",
              "</div>\n"
            ]
          },
          "metadata": {}
        }
      ]
    },
    {
      "cell_type": "markdown",
      "metadata": {
        "id": "lrVoUSrBqrmo"
      },
      "source": [
        "#### 1.4 Adding multiple condition combinations"
      ]
    },
    {
      "cell_type": "code",
      "execution_count": null,
      "metadata": {
        "id": "qahlgTghqyY4"
      },
      "outputs": [],
      "source": [
        "# Multiple Conditions\n",
        "# Set the size\n",
        "plt.figure(figsize=(8,4))\n",
        "\n",
        "# Plot the data\n",
        "sns.lineplot(data = single_data,\n",
        "             x = 'time_from_stim' ,\n",
        "             y = 'dF_F',\n",
        "             hue = 'exposure',\n",
        "             style = 'omitted',\n",
        "             palette = 'mako')\n",
        "\n",
        "# Plot aesthetics\n",
        "sns.despine()                                                                              # remove top and right axes (w/o this, full box border)\n",
        "plt.xlabel('Time from stim (sec)')                                                               # x-axis label\n",
        "plt.ylabel('dF/F')                                                                         # y-axis label\n",
        "plt.title('All the combinations', y = 1.05)                                                # title + location\n",
        "plt.ylim(-0.04,0.10);                                                                      # adjust the limits on the y-axis; we will pick same values across all plots for consistency\n",
        "plt.legend(bbox_to_anchor=(1.05, 1), loc='upper left', borderaxespad=0, frameon = False);  # you don't need to know this, but it puts the legend outside the box so it doesn't overlap with data + remove box border\n"
      ]
    },
    {
      "cell_type": "markdown",
      "metadata": {
        "id": "91R7civspXlF"
      },
      "source": [
        "## Step 2: Figure aesthetics\n",
        "With **seaborn**, there are multiple options for controlling [aesthetics](https://seaborn.pydata.org/tutorial/aesthetics.html#). Review the link to see how we will start use `sns.set_style` and `sns.set_context`.  \n",
        "\n",
        "We will also introduce another plot type `catplot` to display individual data points. Review the documentation [here](https://seaborn.pydata.org/tutorial/introduction.html#plots-for-categorical-data)."
      ]
    },
    {
      "cell_type": "code",
      "source": [
        "#@title Review\n",
        "from IPython.display import HTML\n",
        "\n",
        "alert_info = '''\n",
        "<div style= \"font-size: 20px\"; class=\"alert alert-info\" role=\"alert\">\n",
        "  <h4 class=\"alert-heading\">Review</h4>\n",
        "Let's also look at the data in a different way, using another variable from the dataset: <code>mean_response</code>. <br><br>\n",
        "What does this variable measure? How does it relate to the previous variable we were using, <code>dF_F</code>?\n",
        "</div>\n",
        "'''\n",
        "\n",
        "display(HTML('<link href=\"https://nbviewer.org/static/build/styles.css\" rel=\"stylesheet\">'))\n",
        "display(HTML(alert_info))\n"
      ],
      "metadata": {
        "colab": {
          "base_uri": "https://localhost:8080/",
          "height": 257
        },
        "cellView": "form",
        "id": "gHYv2jOCHCCB",
        "outputId": "1b32ad26-be5b-44cf-a872-cfecbcdd604f"
      },
      "execution_count": null,
      "outputs": [
        {
          "output_type": "display_data",
          "data": {
            "text/plain": [
              "<IPython.core.display.HTML object>"
            ],
            "text/html": [
              "<link href=\"https://nbviewer.org/static/build/styles.css\" rel=\"stylesheet\">"
            ]
          },
          "metadata": {}
        },
        {
          "output_type": "display_data",
          "data": {
            "text/plain": [
              "<IPython.core.display.HTML object>"
            ],
            "text/html": [
              "\n",
              "<div style= \"font-size: 20px\"; class=\"alert alert-info\" role=\"alert\">\n",
              "  <h4 class=\"alert-heading\">Review</h4>\n",
              "Let's also look at the data in a different way, using another variable from the dataset: <code>mean_response</code>. <br><br>\n",
              "What does this variable measure? How does it relate to the previous variable we were using, <code>dF_F</code>?\n",
              "</div>\n"
            ]
          },
          "metadata": {}
        }
      ]
    },
    {
      "cell_type": "markdown",
      "source": [
        "Because of the long format of the data, the `mean_response` values are repeated across rows. This also nested within `trial_id` and `cell_id`. We need to loop through these values within our dataset and only pull out the single (unique) `mean_responses` to plot."
      ],
      "metadata": {
        "id": "PfV8KRkPU8GB"
      }
    },
    {
      "cell_type": "code",
      "source": [
        "# Familiar loop\n",
        "fam_df = pd.DataFrame()                                                                                     # create an empty dataframe to store our data in the loop\n",
        "\n",
        "for i, trial_id in enumerate(single_data.trial_id.unique()):                                                # loop through starting with trial ids\n",
        "    all_data = single_data[single_data.trial_id == trial_id]                                                # df of only the current trial id to simplify\n",
        "    for j, cell_id in enumerate(all_data.cell_id.unique()):                                                 # loop through the cell ids\n",
        "         new_data = all_data[(all_data.cell_id == cell_id) & (all_data.exposure == 'familiar')]             # df that contains the current trial id, the current cell id, and familiar image exposure only\n",
        "         if new_data.empty == False:                                                                        # check if the df is empty- some conditions are not present\n",
        "            trial_array = new_data.iloc[0,:]                                                                # if there is data, pull out the first row as an array - *note* the mean_response is the same across all rows, so we only need the value once\n",
        "            fam_df = pd.concat([fam_df, pd.DataFrame([trial_array])],ignore_index = True)                   # concat the dataset with the current row array we extracted above"
      ],
      "metadata": {
        "id": "82MJPYTZ42fA"
      },
      "execution_count": null,
      "outputs": []
    },
    {
      "cell_type": "code",
      "source": [
        "# Review the df\n",
        "fam_df"
      ],
      "metadata": {
        "id": "G0AxFXXd5Sxn"
      },
      "execution_count": null,
      "outputs": []
    },
    {
      "cell_type": "code",
      "source": [
        "# Novel loop\n",
        "nov_df = pd.DataFrame()                                                                               # create an empty dataframe to store our data in the loop\n",
        "\n",
        "for i, trial_id in enumerate(single_data.trial_id.unique()):                                          # loop through starting with trial ids\n",
        "    all_data = single_data[single_data.trial_id == trial_id]                                          # df of only the current trial id to simplify\n",
        "    for j, cell_id in enumerate(all_data.cell_id.unique()):                                           # loop through the cell ids\n",
        "         new_data = all_data[(all_data.cell_id == cell_id) & (all_data.exposure == 'novel')]          # df that contains the current trial id, the current cell id, and familiar image exposure only\n",
        "         if new_data.empty == False:                                                                  # check if the df is empty- some conditions are not present\n",
        "            trial_array = new_data.iloc[0,:]                                                          # if there is data, pull out the first row as an array - *note* the mean_response is the same across all rows, so we only need the value once\n",
        "            nov_df = pd.concat([nov_df, pd.DataFrame([trial_array])],ignore_index = True)             # concat the dataset with the current row array we extracted above"
      ],
      "metadata": {
        "id": "IFiqphy85WcJ"
      },
      "execution_count": null,
      "outputs": []
    },
    {
      "cell_type": "code",
      "source": [
        "# Review the df\n",
        "nov_df"
      ],
      "metadata": {
        "id": "ztQ3TX9G5ham"
      },
      "execution_count": null,
      "outputs": []
    },
    {
      "cell_type": "markdown",
      "source": [
        "Now we combine both dataframes using [`pd.concat`](https://pandas.pydata.org/docs/reference/api/pandas.concat.html)"
      ],
      "metadata": {
        "id": "RrOTY7IsUp7n"
      }
    },
    {
      "cell_type": "code",
      "source": [
        "# Concat dfs\n",
        "final_df = pd.concat([fam_df, nov_df],ignore_index = True)"
      ],
      "metadata": {
        "id": "HNh6DDas5nOF"
      },
      "execution_count": null,
      "outputs": []
    },
    {
      "cell_type": "code",
      "source": [
        "# Check it is correct length and both exposure levels\n",
        "final_df"
      ],
      "metadata": {
        "id": "iKOuM3Pr5vJv"
      },
      "execution_count": null,
      "outputs": []
    },
    {
      "cell_type": "markdown",
      "source": [
        "Now we are ready to plot the data"
      ],
      "metadata": {
        "id": "g7txokv1dE-3"
      }
    },
    {
      "cell_type": "code",
      "execution_count": null,
      "metadata": {
        "id": "GBCMyGxUpfM0"
      },
      "outputs": [],
      "source": [
        "# Setup and plot data\n",
        "# Set style and context\n",
        "sns.set_style(\"whitegrid\")\n",
        "sns.set_context('talk')\n",
        "\n",
        "# Categorical plot\n",
        "sns.catplot(data = final_df,\n",
        "            x = 'exposure',\n",
        "            y = 'mean_response',\n",
        "            hue = 'exposure',\n",
        "            palette = 'mako');\n",
        "\n",
        "# Plot aesthetics\n",
        "plt.xlabel('Image exposure')                                                               # x-axis label\n",
        "plt.ylabel('Mean response')                                                                # y-axis label\n",
        "plt.title('Mean response by image exposure', y = 1.05)                                     # title + location\n",
        "plt.ylim(-0.4,0.8);                                                                        # adjust the limits on the y-axis; we will pick same values across all plots for consistency"
      ]
    },
    {
      "cell_type": "markdown",
      "metadata": {
        "id": "T-y1CRtJs3lf"
      },
      "source": [
        "## Extra Practice\n",
        "\n",
        "1) Can you figure out how to make a [histogram](https://seaborn.pydata.org/tutorial/distributions.html) of pupil area in **Seaborn**? Use the subset of data below. <br>\n",
        "2) Create a second plot, but split the histogram by `exposure` to plot? <br>"
      ]
    },
    {
      "cell_type": "code",
      "execution_count": null,
      "metadata": {
        "id": "6ssv01YttCD2"
      },
      "outputs": [],
      "source": [
        "# Subset of data to use for this exercise\n",
        "data_sample = single_data.sample(1000)"
      ]
    },
    {
      "cell_type": "code",
      "source": [
        "#@title Task\n",
        "from IPython.display import HTML\n",
        "\n",
        "alert_info = '''\n",
        "<div style= \"font-size: 20px\"; class=\"alert alert-info\" role=\"alert\">\n",
        "  <h4 class=\"alert-heading\">Task</h4>\n",
        "Plot a histogram of <code>pupil area</code> using <code>seaborn</code>. Insert the correct variable name for <code>x = ... </code> below.\n",
        "</div>\n",
        "'''\n",
        "\n",
        "display(HTML('<link href=\"https://nbviewer.org/static/build/styles.css\" rel=\"stylesheet\">'))\n",
        "display(HTML(alert_info))"
      ],
      "metadata": {
        "colab": {
          "base_uri": "https://localhost:8080/",
          "height": 200
        },
        "cellView": "form",
        "id": "3OSZZlFzHb3g",
        "outputId": "25ca3075-aac9-4f61-81fb-57f94ff88659"
      },
      "execution_count": null,
      "outputs": [
        {
          "output_type": "display_data",
          "data": {
            "text/plain": [
              "<IPython.core.display.HTML object>"
            ],
            "text/html": [
              "<link href=\"https://nbviewer.org/static/build/styles.css\" rel=\"stylesheet\">"
            ]
          },
          "metadata": {}
        },
        {
          "output_type": "display_data",
          "data": {
            "text/plain": [
              "<IPython.core.display.HTML object>"
            ],
            "text/html": [
              "\n",
              "<div style= \"font-size: 20px\"; class=\"alert alert-info\" role=\"alert\">\n",
              "  <h4 class=\"alert-heading\">Task</h4>\n",
              "Plot a histogram of <code>pupil area</code> using <code>seaborn</code>. Insert the correct variable name for <code>x = ... </code> below.\n",
              "</div>\n"
            ]
          },
          "metadata": {}
        }
      ]
    },
    {
      "cell_type": "code",
      "execution_count": null,
      "metadata": {
        "id": "5DWjvWcitF4A"
      },
      "outputs": [],
      "source": [
        "# Setup and plot data\n",
        "# Set style and context\n",
        "sns.set_style(\"dark\")\n",
        "sns.set_context('paper')\n",
        "\n",
        "\n",
        "# Categorical plot\n",
        "sns.histplot(data = data_sample,\n",
        "             x = ...);\n",
        "\n",
        "# Plot aesthetics\n",
        "plt.xlabel('Pupil area')                                                                   # x-axis label\n",
        "plt.ylabel('Count')                                                                        # y-axis label\n",
        "plt.title('Pupil Area Histogram', y = 1.05);                                               # title + location\n"
      ]
    },
    {
      "cell_type": "code",
      "source": [
        "#@title Solution\n",
        "sns.set_style(\"dark\")\n",
        "sns.set_context('paper')\n",
        "\n",
        "\n",
        "# Categorical plot\n",
        "sns.histplot(data = data_sample,\n",
        "             x = 'pupil_area');\n",
        "\n",
        "# Plot aesthetics\n",
        "plt.xlabel('Pupil area')                                                                   # x-axis label\n",
        "plt.ylabel('Count')                                                                        # y-axis label\n",
        "plt.title('Pupil Area Histogram', y = 1.05);                                               # title + location\n"
      ],
      "metadata": {
        "id": "DJJnGKPYDXtV",
        "cellView": "form"
      },
      "execution_count": null,
      "outputs": []
    },
    {
      "cell_type": "code",
      "source": [
        "#@title Task\n",
        "from IPython.display import HTML\n",
        "\n",
        "alert_info = '''\n",
        "<div style= \"font-size: 20px\"; class=\"alert alert-info\" role=\"alert\">\n",
        "  <h4 class=\"alert-heading\">Task</h4>\n",
        "Now split the histogram by <code>exposure</code> in the plot. This is essentially an overlaid histogram liked we've covered in class. <br>\n",
        "Make sure to fill in <code>x</code> and <code>hue</code> in the code below.\n",
        "</div>\n",
        "'''\n",
        "\n",
        "display(HTML('<link href=\"https://nbviewer.org/static/build/styles.css\" rel=\"stylesheet\">'))\n",
        "display(HTML(alert_info))"
      ],
      "metadata": {
        "colab": {
          "base_uri": "https://localhost:8080/",
          "height": 229
        },
        "cellView": "form",
        "id": "GwOY4M2aHwGE",
        "outputId": "09a05672-1cc8-4e66-99e1-8c717372296e"
      },
      "execution_count": null,
      "outputs": [
        {
          "output_type": "display_data",
          "data": {
            "text/plain": [
              "<IPython.core.display.HTML object>"
            ],
            "text/html": [
              "<link href=\"https://nbviewer.org/static/build/styles.css\" rel=\"stylesheet\">"
            ]
          },
          "metadata": {}
        },
        {
          "output_type": "display_data",
          "data": {
            "text/plain": [
              "<IPython.core.display.HTML object>"
            ],
            "text/html": [
              "\n",
              "<div style= \"font-size: 20px\"; class=\"alert alert-info\" role=\"alert\">\n",
              "  <h4 class=\"alert-heading\">Task</h4>\n",
              "Now split the histogram by <code>exposure</code> in the plot. This is essentially an overlaid histogram liked we've covered in class. <br>\n",
              "Make sure to fill in <code>x</code> and <code>hue</code> in the code below.\n",
              "</div>\n"
            ]
          },
          "metadata": {}
        }
      ]
    },
    {
      "cell_type": "code",
      "execution_count": null,
      "metadata": {
        "collapsed": true,
        "id": "VOTzlB9Rtfw2"
      },
      "outputs": [],
      "source": [
        "# Setup and plot data\n",
        "# Set style and context\n",
        "sns.set_style(\"whitegrid\")\n",
        "sns.set_context('notebook')\n",
        "\n",
        "\n",
        "# Categorical plot\n",
        "sns.histplot(data = data_sample,\n",
        "             x = ...,\n",
        "             hue = ...,\n",
        "             palette = 'mako');\n",
        "\n",
        "# Plot aesthetics\n",
        "sns.despine()                                                                              # remove top and right axes (w/o this, full box border)\n",
        "plt.xlabel('Pupil Area')                                                                   # x-axis label\n",
        "#plt.ylabel('Count')                                                                       # y-axis label- automatic\n",
        "plt.title('Pupil Area by Image Exposure Histogram', y = 1.05);                             # title + location"
      ]
    },
    {
      "cell_type": "code",
      "source": [
        "#@title Solution\n",
        "sns.set_style(\"whitegrid\")\n",
        "sns.set_context('notebook')\n",
        "\n",
        "\n",
        "# Categorical plot\n",
        "sns.histplot(data = data_sample,\n",
        "             x = 'pupil_area',\n",
        "             hue = 'exposure',\n",
        "             palette = 'mako');\n",
        "\n",
        "\n",
        "# Plot aesthetics\n",
        "sns.despine()                                                                              # remove top and right axes (w/o this, full box border)\n",
        "plt.xlabel('Pupil Area')                                                                   # x-axis label\n",
        "#plt.ylabel('Count')                                                                       # y-axis label- automatic\n",
        "plt.title('Pupil Area by Image Exposure Histogram', y = 1.05);                             # title + location"
      ],
      "metadata": {
        "cellView": "form",
        "id": "VAiRgwo3DfmV"
      },
      "execution_count": null,
      "outputs": []
    },
    {
      "cell_type": "markdown",
      "metadata": {
        "id": "KK0ZKjy9OVEg"
      },
      "source": [
        "-----------\n",
        "\n",
        "# Technical notes & credits\n",
        "\n",
        "\n",
        "Much more information can be found in the [Allen Brain Institute whitepaper](https://brainmapportal-live-4cc80a57cd6e400d854-f7fdcae.divio-media.net/filer_public/4e/be/4ebe2911-bd38-4230-86c8-01a86cfd758e/visual_behavior_2p_technical_whitepaper.pdf) as well as in their <a href=\"http://allensdk.readthedocs.io/en/latest/visual_behavior_optical_physiology.html\"> documentation</a>.\n",
        "\n",
        "This notebook was developed from the [Allen Institute Notebooks](https://allensdk.readthedocs.io/en/latest/visual_behavior_optical_physiology.html), [Neuromatch Academy](https://compneuro.neuromatch.io/projects/neurons/README.html#allen-institute), and the [Columbia-Neuropythonistas repository](https://github.com/Columbia-Neuropythonistas)."
      ]
    }
  ],
  "metadata": {
    "colab": {
      "provenance": [],
      "toc_visible": true
    },
    "kernel": {
      "display_name": "Python 3",
      "language": "python",
      "name": "python3"
    },
    "kernelspec": {
      "display_name": "Python 3",
      "name": "python3"
    },
    "language_info": {
      "name": "python"
    }
  },
  "nbformat": 4,
  "nbformat_minor": 0
}