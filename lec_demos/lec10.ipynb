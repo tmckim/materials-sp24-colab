{
  "cells": [
    {
      "cell_type": "markdown",
      "metadata": {
        "id": "c_rW3jotxj3k"
      },
      "source": [
        "<a href=\"https://colab.research.google.com/github/tmckim/materials-sp24-colab/blob/main/lec_demos/lec10.ipynb\" target=\"_parent\"><img src=\"https://colab.research.google.com/assets/colab-badge.svg\" alt=\"Open In Colab\"/></a>"
      ]
    },
    {
      "cell_type": "markdown",
      "metadata": {
        "id": "cWYjwoGLxj3l"
      },
      "source": [
        "## Before you start - Save this notebook!\n",
        "\n",
        "When you open a new Colab notebook from the WebCampus (like you hopefully did for this one), you cannot save changes. So it's  best to store the Colab notebook in your personal drive `\"File > Save a copy in drive...\"` **before** you do anything else.\n",
        "\n",
        "The file will open in a new tab in your web browser, and it is automatically named something like: \"**Copy of lec10.ipynb**\". You can rename this to just the title of the assignment \"**lec10.ipynb**\". Make sure you do keep an informative name (like the name of the assignment) so that you know which files to submit back to WebCampus for grading! More instructions on this are at the end of the notebook.\n",
        "\n",
        "\n",
        "**Where does the notebook get saved in Google Drive?**\n",
        "\n",
        "By default, the notebook will be copied to a folder called “Colab Notebooks” at the root (home directory) of your Google Drive. If you use this for other courses or personal code notebooks, I recommend creating a folder for this course and then moving the assignments AFTER you have completed them. <br>\n",
        "\n",
        "I also recommend you give the folder where you save your notebooks^ a different name than the folder we create below that will store the notebook resources you need each time you work through a course notebook. This includes any data files you will need, links to the images that appear in the notebook, and the files associated with the autograder for answer checking.<br>\n",
        "You should select a name other than '**NS499-DataSci-course-materials**'. <br>\n",
        "This folder gets overwritten with each assignment you work on in the course, so you should **NOT** store your notebooks in this folder that we use for course materials! <br><br>For example, you could create a folder called 'NS499-**notebooks**' or something along those lines.\n",
        "___"
      ]
    },
    {
      "cell_type": "markdown",
      "metadata": {
        "id": "BCX-Ko80Edc7"
      },
      "source": [
        "### We will now do the setup steps as separate cells to help with issues finding files in google drive/colab. <br> If you restart colab, you must rerun all **5** steps in each of these cells!"
      ]
    },
    {
      "cell_type": "code",
      "execution_count": null,
      "metadata": {
        "id": "IWXJEMytEdc7"
      },
      "outputs": [],
      "source": [
        "# Step 1\n",
        "# Setup and add files needed to access gdrive\n",
        "from google.colab import drive                                   # these lines mount your gdrive to access the files we import below\n",
        "drive.mount('/content/gdrive', force_remount=True)"
      ]
    },
    {
      "cell_type": "code",
      "execution_count": null,
      "metadata": {
        "id": "jHK1VCacEdc8"
      },
      "outputs": [],
      "source": [
        "# Step 2\n",
        "# Change directory to the correct location in gdrive (modified way to do this from before)\n",
        "import os\n",
        "os.chdir('/content/gdrive/MyDrive/NS499-DataSci-course-materials/')"
      ]
    },
    {
      "cell_type": "code",
      "execution_count": null,
      "metadata": {
        "id": "ItdH-4NZEdc8"
      },
      "outputs": [],
      "source": [
        "# Step 3\n",
        "# Remove the files that were previously there- we will replace with all the old + new ones for this assignment\n",
        "!rm -r materials-sp24-colab"
      ]
    },
    {
      "cell_type": "code",
      "execution_count": null,
      "metadata": {
        "id": "T8z8942JEdc9"
      },
      "outputs": [],
      "source": [
        "# Step 4\n",
        "# These lines clone (copy) all the files you will need from where I store the code+data for the course (github)\n",
        "# Second part of the code copies the files to this location and folder in your own gdrive\n",
        "!git clone https://github.com/tmckim/materials-sp24-colab '/content/gdrive/My Drive/NS499-DataSci-course-materials/materials-sp24-colab/'"
      ]
    },
    {
      "cell_type": "code",
      "execution_count": null,
      "metadata": {
        "id": "KtuvMz0NEdc9"
      },
      "outputs": [],
      "source": [
        "# Step 5\n",
        "# Change directory into the folder where the resources for this assignment are stored in gdrive (modified way from before)\n",
        "os.chdir('/content/gdrive/MyDrive/NS499-DataSci-course-materials/materials-sp24-colab/lec_demos/')"
      ]
    },
    {
      "cell_type": "code",
      "execution_count": null,
      "metadata": {
        "id": "v1BRAn8AEdc9"
      },
      "outputs": [],
      "source": [
        "# Import packages and other things needed\n",
        "# Don't change this cell; Just run this cell\n",
        "# If you restart colab, make sure to run this cell again after the first ones above^\n",
        "\n",
        "from datascience import *\n",
        "import numpy as np\n",
        "import warnings\n",
        "warnings.simplefilter(action='ignore',category=np.VisibleDeprecationWarning)\n",
        "\n",
        "%matplotlib inline\n",
        "import matplotlib.pyplot as plt\n",
        "plt.style.use(\"fivethirtyeight\")\n",
        "plt.rcParams[\"patch.force_edgecolor\"] = True"
      ]
    },
    {
      "cell_type": "markdown",
      "metadata": {
        "id": "JMxGaDubxj3m"
      },
      "source": [
        "## Learning Objectives ##\n",
        "\n",
        "Topics:\n",
        "- Pivots - a special kind of grouping\n",
        "- Join - combine two tables\n",
        "- Review apply and lists"
      ]
    },
    {
      "cell_type": "markdown",
      "metadata": {
        "id": "s7SmIo07E5FM"
      },
      "source": [
        "## Grouping Review ##"
      ]
    },
    {
      "cell_type": "code",
      "execution_count": null,
      "metadata": {
        "id": "krZtI1dOEdc-"
      },
      "outputs": [],
      "source": [
        "# Load in our ice cream data\n",
        "cones = Table.read_table('cones_rating.csv')\n",
        "cones"
      ]
    },
    {
      "cell_type": "markdown",
      "metadata": {
        "id": "kAHYkIIWFBC6"
      },
      "source": [
        "Writing the code with `group`"
      ]
    },
    {
      "cell_type": "code",
      "execution_count": null,
      "metadata": {
        "id": "Br2ucAiaE9zb"
      },
      "outputs": [],
      "source": [
        "cones.group('Flavor', sum)"
      ]
    },
    {
      "cell_type": "markdown",
      "metadata": {
        "id": "uzIXi3iZFFgq"
      },
      "source": [
        "Multi-step based on what you learned prior to `group` in the course."
      ]
    },
    {
      "cell_type": "code",
      "execution_count": null,
      "metadata": {
        "id": "XGBPZE6MFLHR"
      },
      "outputs": [],
      "source": [
        "# Step 1: Filter dataset to only the chocolate column prices\n",
        "cones.where('Flavor', are.equal_to('chocolate')).column('Price')"
      ]
    },
    {
      "cell_type": "code",
      "execution_count": null,
      "metadata": {
        "id": "L2NxLxYBFQnp"
      },
      "outputs": [],
      "source": [
        "# Step 2: sum the prices\n",
        "sum(cones.where('Flavor', are.equal_to('chocolate')).column('Price'))"
      ]
    },
    {
      "cell_type": "markdown",
      "metadata": {
        "id": "3nkcjcAtFXrW"
      },
      "source": [
        "Using `group` is much more efficient than repeating these steps one by one. However, it is good to know that this is the idea behind what is happening/how `group` is working"
      ]
    },
    {
      "cell_type": "markdown",
      "metadata": {
        "id": "PtioHUDhHbUe"
      },
      "source": [
        "We can also `group` by multiple columns. This gives us all unique combinations."
      ]
    },
    {
      "cell_type": "code",
      "execution_count": null,
      "metadata": {
        "id": "FjNlug1MHeO2"
      },
      "outputs": [],
      "source": [
        "cones.group(['Flavor', 'Color'])"
      ]
    },
    {
      "cell_type": "markdown",
      "metadata": {
        "id": "8mcF1QYdghK0"
      },
      "source": [
        "## Pivot Tables ##"
      ]
    },
    {
      "cell_type": "markdown",
      "metadata": {
        "id": "lPO9NqjUglL7"
      },
      "source": [
        "When grouping by two columns it will sometimes be easier to re-arrange the table so that the columns correspond to the values of one of the original grouped columns."
      ]
    },
    {
      "cell_type": "markdown",
      "metadata": {
        "id": "C7VM8ufTgr7D"
      },
      "source": [
        "Here is an example:"
      ]
    },
    {
      "cell_type": "code",
      "execution_count": null,
      "metadata": {
        "id": "GxobfwC3gkTT"
      },
      "outputs": [],
      "source": [
        "# Pivot using the default collect = count\n",
        "cones.pivot('Color', 'Flavor')"
      ]
    },
    {
      "cell_type": "markdown",
      "metadata": {
        "id": "zyic7MkxhXjZ"
      },
      "source": [
        "Explicitly naming the function arguments. You wouldn't do this in practice, but it helps to highlight the meaning of the four things we passed to the function above."
      ]
    },
    {
      "cell_type": "code",
      "execution_count": null,
      "metadata": {
        "id": "X2fmp0EXhGRH"
      },
      "outputs": [],
      "source": [
        "cones.pivot(\n",
        "    columns = 'Color', # column whose unique values become columns\n",
        "    rows = 'Flavor', # column whose unique values become rows\n",
        "    values = 'Price', # column that will be used to do computing\n",
        "    collect = np.average) # how to aggregate the values"
      ]
    },
    {
      "cell_type": "markdown",
      "metadata": {
        "id": "K8wzaVh3H89Z"
      },
      "source": [
        "Notice that pivot tables can contain zeros (0). This is because it will tell you that this combination doesn't exist- it shows you all possible combinations. <br>\n",
        "Group only shows you what exists, so there will usually not be any zeros (0) in the table."
      ]
    },
    {
      "cell_type": "code",
      "execution_count": null,
      "metadata": {
        "id": "y98MCgiwIKM4"
      },
      "outputs": [],
      "source": [
        "cones_price = cones.select('Color','Flavor','Price')\n",
        "cones_price.group(['Color', 'Flavor'], collect=np.average)\n"
      ]
    },
    {
      "cell_type": "markdown",
      "metadata": {
        "id": "mdIXRE24XKFT"
      },
      "source": [
        "## Joins ##"
      ]
    },
    {
      "cell_type": "markdown",
      "metadata": {
        "id": "5rskcmubi37Q"
      },
      "source": [
        "We use join to **join** two tables based on a similar column."
      ]
    },
    {
      "cell_type": "markdown",
      "metadata": {
        "id": "6YZzIdULEdc_"
      },
      "source": [
        "Remember from last time: you can make a table using `.with_rows` instead of `.with_columns`"
      ]
    },
    {
      "cell_type": "code",
      "execution_count": null,
      "metadata": {
        "id": "rry5I9uvEdc_"
      },
      "outputs": [],
      "source": [
        "# Empty table with columns and no rows\n",
        "drinks = Table(['Drink', 'Cafe', 'Price'])\n",
        "drinks"
      ]
    },
    {
      "cell_type": "code",
      "execution_count": null,
      "metadata": {
        "id": "FIkYKyNjEdc_"
      },
      "outputs": [],
      "source": [
        "# drinks table\n",
        "drinks = drinks.with_rows([\n",
        "    ['Milk Tea', 'RareTea', 5.5],\n",
        "    ['Espresso', 'Buzzed Coffee',  1.75],\n",
        "    ['Latte',    'Buzzed Coffee',  3.25],\n",
        "    ['Espresso', \"Starbucks\",   2]\n",
        "])\n",
        "drinks"
      ]
    },
    {
      "cell_type": "code",
      "execution_count": null,
      "metadata": {
        "id": "MDZobmSjXKFT"
      },
      "outputs": [],
      "source": [
        "# discounts table\n",
        "discounts = Table().with_columns(\n",
        "    'Coupon % off', make_array(10, 25, 5),\n",
        "    'Location', make_array('RareTea', 'Buzzed Coffee', 'RareTea')\n",
        ")\n",
        "discounts"
      ]
    },
    {
      "cell_type": "markdown",
      "metadata": {
        "id": "Kq92Q-C2jNg2"
      },
      "source": [
        "**Exercise**: Combine the `drinks` and `discounts` tables into a new table which has all possible discounts for each drink."
      ]
    },
    {
      "cell_type": "code",
      "execution_count": null,
      "metadata": {
        "id": "4kxhB54fXKFT",
        "scrolled": true
      },
      "outputs": [],
      "source": [
        "combined = drinks.join('Cafe', discounts, 'Location')\n",
        "combined"
      ]
    },
    {
      "cell_type": "markdown",
      "metadata": {
        "id": "wYm17OCdJk6D"
      },
      "source": [
        "What happened to Starbucks?"
      ]
    },
    {
      "cell_type": "markdown",
      "metadata": {
        "id": "gYPqeYCOI_iZ"
      },
      "source": [
        "**Exercise:** Does the order matter?"
      ]
    },
    {
      "cell_type": "code",
      "execution_count": null,
      "metadata": {
        "id": "vocKdsRwJCDA"
      },
      "outputs": [],
      "source": [
        "# Fill this in\n",
        "combo ="
      ]
    },
    {
      "cell_type": "markdown",
      "metadata": {
        "id": "Ph5qKNyYjchU"
      },
      "source": [
        "**Exercise**: Calculate the lowest rate you can get for each drink using the available coupons."
      ]
    },
    {
      "cell_type": "code",
      "execution_count": null,
      "metadata": {
        "id": "sv3HaDXOXKFT"
      },
      "outputs": [],
      "source": [
        "discounted_frac = 1 - combined.column('Coupon % off') / 100\n",
        "(\n",
        "combined.with_column('Discounted Price', (combined.column('Price') * discounted_frac))\n",
        ".select('Drink', 'Discounted Price')\n",
        ".group('Drink', min)\n",
        ")"
      ]
    },
    {
      "cell_type": "markdown",
      "metadata": {
        "id": "IgLiyyvsFt6M"
      },
      "source": [
        "# Extra group review questions"
      ]
    },
    {
      "cell_type": "code",
      "execution_count": null,
      "metadata": {
        "id": "_1DFSdAJFvIk"
      },
      "outputs": [],
      "source": [
        "nba = Table.read_table('nba_salaries.csv')\n",
        "nba"
      ]
    },
    {
      "cell_type": "markdown",
      "metadata": {
        "id": "aPnw1rGtHNex"
      },
      "source": [
        "Just pick the 2015 season to work with."
      ]
    },
    {
      "cell_type": "code",
      "execution_count": null,
      "metadata": {
        "id": "lG8tgw3bGVue"
      },
      "outputs": [],
      "source": [
        "nba_15 = nba.where('season', 2015)\n",
        "nba_15"
      ]
    },
    {
      "cell_type": "markdown",
      "metadata": {
        "id": "u6iGOFwgKtfY"
      },
      "source": [
        "Answer the following questions, and use `group` to find the answer."
      ]
    },
    {
      "cell_type": "markdown",
      "metadata": {
        "id": "HoCUtTPJF7qD"
      },
      "source": [
        "**Question:** How much money did each team pay for its players' salaries?"
      ]
    },
    {
      "cell_type": "code",
      "execution_count": null,
      "metadata": {
        "id": "sHHEOtlzKof1"
      },
      "outputs": [],
      "source": []
    },
    {
      "cell_type": "markdown",
      "metadata": {
        "id": "Xdlu0ZZjGxvT"
      },
      "source": [
        "**Question:** How many NBA players were there in each of the five positions?"
      ]
    },
    {
      "cell_type": "code",
      "execution_count": null,
      "metadata": {
        "id": "1j-H1fwyKorm"
      },
      "outputs": [],
      "source": []
    },
    {
      "cell_type": "markdown",
      "metadata": {
        "id": "Uwuyf5prG53r"
      },
      "source": [
        "**Question:** What was the average salary of the players at each of the five positions?"
      ]
    },
    {
      "cell_type": "code",
      "execution_count": null,
      "metadata": {
        "id": "dMwO3uA9KpAP"
      },
      "outputs": [],
      "source": []
    },
    {
      "cell_type": "markdown",
      "metadata": {},
      "source": [
        "### Saving\n",
        "Remember to save your notebook before closing.\n",
        "Choose **Save** (and make sure you've already saved a copy in your drive) from the **File** menu."
      ]
    }
  ],
  "metadata": {
    "anaconda-cloud": {},
    "colab": {
      "provenance": [],
      "toc_visible": true
    },
    "kernelspec": {
      "display_name": "Python 3",
      "language": "python",
      "name": "python3"
    },
    "language_info": {
      "codemirror_mode": {
        "name": "ipython",
        "version": 3
      },
      "file_extension": ".py",
      "mimetype": "text/x-python",
      "name": "python",
      "nbconvert_exporter": "python",
      "pygments_lexer": "ipython3",
      "version": "3.10.12"
    }
  },
  "nbformat": 4,
  "nbformat_minor": 0
}
