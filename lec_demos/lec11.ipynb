{
  "cells": [
    {
      "cell_type": "markdown",
      "metadata": {
        "id": "ml2I5wZ_U6WO"
      },
      "source": [
        "<a href=\"https://colab.research.google.com/github/tmckim/materials-sp24-colab/blob/main/lec_demos/lec11.ipynb\" target=\"_parent\"><img src=\"https://colab.research.google.com/assets/colab-badge.svg\" alt=\"Open In Colab\"/></a>"
      ]
    },
    {
      "cell_type": "markdown",
      "metadata": {
        "id": "EiU1HDGvU6WR"
      },
      "source": [
        "## Before you start - Save this notebook!\n",
        "\n",
        "When you open a new Colab notebook from the WebCampus (like you hopefully did for this one), you cannot save changes. So it's  best to store the Colab notebook in your personal drive `\"File > Save a copy in drive...\"` **before** you do anything else.\n",
        "\n",
        "The file will open in a new tab in your web browser, and it is automatically named something like: \"**Copy of lec11.ipynb**\". You can rename this to just the title of the assignment \"**lec11.ipynb**\". Make sure you do keep an informative name (like the name of the assignment) so that you know which files to submit back to WebCampus for grading! More instructions on this are at the end of the notebook.\n",
        "\n",
        "\n",
        "**Where does the notebook get saved in Google Drive?**\n",
        "\n",
        "By default, the notebook will be copied to a folder called “Colab Notebooks” at the root (home directory) of your Google Drive. If you use this for other courses or personal code notebooks, I recommend creating a folder for this course and then moving the assignments AFTER you have completed them. <br>\n",
        "\n",
        "I also recommend you give the folder where you save your notebooks^ a different name than the folder we create below that will store the notebook resources you need each time you work through a course notebook. This includes any data files you will need, links to the images that appear in the notebook, and the files associated with the autograder for answer checking.<br>\n",
        "You should select a name other than '**NS499-DataSci-course-materials**'. <br>\n",
        "This folder gets overwritten with each assignment you work on in the course, so you should **NOT** store your notebooks in this folder that we use for course materials! <br><br>For example, you could create a folder called 'NS499-**notebooks**' or something along those lines.\n",
        "___"
      ]
    },
    {
      "cell_type": "markdown",
      "metadata": {
        "id": "uas1T3KEMdx3"
      },
      "source": [
        "### We will now do the setup steps as separate cells to help with issues finding files in google drive/colab. <br> If you restart colab, you must rerun all **5** steps in each of these cells!"
      ]
    },
    {
      "cell_type": "code",
      "execution_count": null,
      "metadata": {
        "id": "3rcGKuwrMdx4"
      },
      "outputs": [],
      "source": [
        "# Step 1\n",
        "# Setup and add files needed to access gdrive\n",
        "from google.colab import drive                                   # these lines mount your gdrive to access the files we import below\n",
        "drive.mount('/content/gdrive', force_remount=True)"
      ]
    },
    {
      "cell_type": "code",
      "execution_count": null,
      "metadata": {
        "id": "QLyxhdTaMdx5"
      },
      "outputs": [],
      "source": [
        "# Step 2\n",
        "# Change directory to the correct location in gdrive (modified way to do this from before)\n",
        "import os\n",
        "os.chdir('/content/gdrive/MyDrive/NS499-DataSci-course-materials/')"
      ]
    },
    {
      "cell_type": "code",
      "execution_count": null,
      "metadata": {
        "id": "GWqULSmhMdx5"
      },
      "outputs": [],
      "source": [
        "# Step 3\n",
        "# Remove the files that were previously there- we will replace with all the old + new ones for this assignment\n",
        "!rm -r materials-sp24-colab"
      ]
    },
    {
      "cell_type": "code",
      "execution_count": null,
      "metadata": {
        "id": "nRJarG-oMdx5"
      },
      "outputs": [],
      "source": [
        "# Step 4\n",
        "# These lines clone (copy) all the files you will need from where I store the code+data for the course (github)\n",
        "# Second part of the code copies the files to this location and folder in your own gdrive\n",
        "!git clone https://github.com/tmckim/materials-sp24-colab '/content/gdrive/My Drive/NS499-DataSci-course-materials/materials-sp24-colab/'"
      ]
    },
    {
      "cell_type": "code",
      "execution_count": null,
      "metadata": {
        "id": "LJpSwy_YMdx5"
      },
      "outputs": [],
      "source": [
        "# Step 5\n",
        "# Change directory into the folder where the resources for this assignment are stored in gdrive (modified way from before)\n",
        "os.chdir('/content/gdrive/MyDrive/NS499-DataSci-course-materials/materials-sp24-colab/lec_demos/')"
      ]
    },
    {
      "cell_type": "code",
      "execution_count": null,
      "metadata": {
        "id": "8IwbcvjtMdx5"
      },
      "outputs": [],
      "source": [
        "# Import packages and other things needed\n",
        "# Don't change this cell; Just run this cell\n",
        "# If you restart colab, make sure to run this cell again after the first ones above^\n",
        "\n",
        "from datascience import *\n",
        "import numpy as np\n",
        "import warnings\n",
        "warnings.simplefilter(action='ignore',category=np.VisibleDeprecationWarning)\n",
        "\n",
        "%matplotlib inline\n",
        "import matplotlib.pyplot as plt\n",
        "plt.style.use(\"fivethirtyeight\")\n",
        "plt.rcParams[\"patch.force_edgecolor\"] = True"
      ]
    },
    {
      "cell_type": "markdown",
      "metadata": {
        "id": "jMHqHNmyU6WU"
      },
      "source": [
        "## Learning Objectives"
      ]
    },
    {
      "cell_type": "markdown",
      "metadata": {
        "id": "P-uR6FmDU6WU"
      },
      "source": [
        "\n",
        "Topics:\n",
        "- Reviewing table methods like `join`, `group`, `pivot` and `apply`\n",
        "- conditional statements"
      ]
    },
    {
      "cell_type": "markdown",
      "metadata": {
        "id": "rAlBzdlxU6WU"
      },
      "source": [
        "## A Join Example ##"
      ]
    },
    {
      "cell_type": "code",
      "execution_count": null,
      "metadata": {
        "id": "AvsCu1enU6WU"
      },
      "outputs": [],
      "source": [
        "# One table\n",
        "full = Table.read_table('nc-est2019-agesex-res.csv')\n",
        "census = full.select('SEX', 'AGE', 'POPESTIMATE2019')\n",
        "census.show(3)"
      ]
    },
    {
      "cell_type": "code",
      "execution_count": null,
      "metadata": {
        "id": "Qi5xJxTJU6WU"
      },
      "outputs": [],
      "source": [
        "# A second table\n",
        "sex_codes = Table().with_columns(\n",
        "    'SEX CODE', make_array(0, 1, 2),\n",
        "    'CODE DEFINITION', make_array('All', 'Selected Male', 'Selected Female')\n",
        ")\n",
        "sex_codes"
      ]
    },
    {
      "cell_type": "code",
      "execution_count": null,
      "metadata": {
        "id": "OGguZLU5U6WU"
      },
      "outputs": [],
      "source": [
        "# Join the tables\n",
        "sex_codes.join('SEX CODE', census, 'SEX').sort('AGE').show(3)"
      ]
    },
    {
      "cell_type": "markdown",
      "metadata": {
        "id": "NruYri69U6WV"
      },
      "source": [
        "## Bike Sharing ##"
      ]
    },
    {
      "cell_type": "code",
      "execution_count": null,
      "metadata": {
        "id": "5TtbCXMvU6WV"
      },
      "outputs": [],
      "source": [
        "# Read in the trip data from csv file\n",
        "trip = Table.read_table('trip.csv')\n",
        "trip.show(3)"
      ]
    },
    {
      "cell_type": "markdown",
      "metadata": {
        "id": "cjRI6UVAU6WV"
      },
      "source": [
        "## Distribution of Durations ##"
      ]
    },
    {
      "cell_type": "code",
      "execution_count": null,
      "metadata": {
        "id": "Z5pzh1vvU6WV"
      },
      "outputs": [],
      "source": [
        "# Visualize the durations (seconds)\n",
        "trip.hist('Duration')"
      ]
    },
    {
      "cell_type": "markdown",
      "metadata": {
        "id": "TlQ6QiVxZfoS"
      },
      "source": [
        "Why does the histogram look like this?"
      ]
    },
    {
      "cell_type": "code",
      "execution_count": null,
      "metadata": {
        "id": "H8U64W_AU6WV"
      },
      "outputs": [],
      "source": [
        "# Sort by duration with largest values first\n",
        "trip.sort('Duration', descending=True)"
      ]
    },
    {
      "cell_type": "code",
      "execution_count": null,
      "metadata": {
        "id": "hIV3V2piU6WV"
      },
      "outputs": [],
      "source": [
        "# Just trips under 30 mins (free ride length)\n",
        "commute = trip.where('Duration', are.below(60*30)) # 60 secs * 30 mins\n",
        "commute.hist('Duration')"
      ]
    },
    {
      "cell_type": "markdown",
      "metadata": {
        "id": "znEWYlBSaU1_"
      },
      "source": [
        "Why are there not any values right after 0?<br>Hint: there was a minimum time limit"
      ]
    },
    {
      "cell_type": "code",
      "execution_count": null,
      "metadata": {
        "id": "2T63zcluU6WV"
      },
      "outputs": [],
      "source": [
        "# Now specify bins instead of letting hist automatically pick it\n",
        "commute.hist('Duration', bins=np.arange(0, 1800, 250), unit='Second')"
      ]
    },
    {
      "cell_type": "markdown",
      "metadata": {
        "id": "i-sMVJXZax3R"
      },
      "source": [
        "Based on the histogram, can you approximate the percent of people who have a ride duration between 250 and 500 seconds? <br>\n",
        "Hint: Think about what formula you need and what information you have."
      ]
    },
    {
      "cell_type": "code",
      "execution_count": null,
      "metadata": {
        "cellView": "form",
        "id": "QfP0_mbiU6WV"
      },
      "outputs": [],
      "source": [
        "#@title Example Solution\n",
        "# Approx percent of people who have\n",
        "# a ride duration between 250 and 500 seconds\n",
        "# \"between\" = [250, 500)\n",
        "\n",
        "(500-250) * 0.15"
      ]
    },
    {
      "cell_type": "markdown",
      "metadata": {
        "id": "C7urk_UbbWoQ"
      },
      "source": [
        "Calculating the exact value:"
      ]
    },
    {
      "cell_type": "code",
      "execution_count": null,
      "metadata": {
        "id": "0GJ3LZbsU6WV"
      },
      "outputs": [],
      "source": [
        "# Get the number of rows using .where\n",
        "commute.where('Duration', are.between(250, 500)).num_rows"
      ]
    },
    {
      "cell_type": "code",
      "execution_count": null,
      "metadata": {
        "id": "nCIE6J42U6WV"
      },
      "outputs": [],
      "source": [
        "# take number of trips from the duration window and divide by the number of rows in the table\n",
        "# gives us percentage in that interval\n",
        "129079 / commute.num_rows * 100"
      ]
    },
    {
      "cell_type": "code",
      "execution_count": null,
      "metadata": {
        "id": "v907WA4HU6WW"
      },
      "outputs": [],
      "source": [
        "# Same code as above\n",
        "commute.hist('Duration', bins=np.arange(0, 1800, 250), unit='Second')"
      ]
    },
    {
      "cell_type": "code",
      "execution_count": null,
      "metadata": {
        "id": "m9DRLZ84U6WW"
      },
      "outputs": [],
      "source": [
        " # Now put in a number of bins for comparison\n",
        "commute.hist('Duration', bins=60, unit='Second')"
      ]
    },
    {
      "cell_type": "markdown",
      "metadata": {
        "id": "BHXtaaHmU6WW"
      },
      "source": [
        "## Start and End Stations ##"
      ]
    },
    {
      "cell_type": "code",
      "execution_count": null,
      "metadata": {
        "id": "mANs0l30U6WW"
      },
      "outputs": [],
      "source": [
        "# Most common start station\n",
        "# group finds unique values of the Start Station and gets the count of those\n",
        "starts = commute.group('Start Station').sort('count', descending=True)\n",
        "starts"
      ]
    },
    {
      "cell_type": "markdown",
      "metadata": {
        "id": "H3YSctpodxkm"
      },
      "source": [
        "What could we use to look at trips between stations?"
      ]
    },
    {
      "cell_type": "code",
      "execution_count": null,
      "metadata": {
        "cellView": "form",
        "id": "4j2WOyM8d1rT"
      },
      "outputs": [],
      "source": [
        "#@title Example Solution\n",
        "\n",
        "# Using group\n",
        "commute.group(['Start Station', 'End Station'])"
      ]
    },
    {
      "cell_type": "code",
      "execution_count": null,
      "metadata": {
        "cellView": "form",
        "id": "86ELJSYIU6WW"
      },
      "outputs": [],
      "source": [
        "#@title Example Solution\n",
        "\n",
        "# Using pivot\n",
        "commute.pivot('Start Station', 'End Station')"
      ]
    },
    {
      "cell_type": "markdown",
      "metadata": {
        "id": "QNmMB8LgeTfl"
      },
      "source": [
        "Why are there so many zeros? Anything you remember about what portion of the dataset we are using?"
      ]
    },
    {
      "cell_type": "markdown",
      "metadata": {
        "id": "YL9x6eKIee9g"
      },
      "source": [
        "Let's look at the average duration for the combination of the stations."
      ]
    },
    {
      "cell_type": "code",
      "execution_count": null,
      "metadata": {
        "id": "xP4dR_dfU6WW"
      },
      "outputs": [],
      "source": [
        "# Average durations of trips between stations\n",
        "commute.pivot('Start Station', 'End Station', values='Duration', collect=np.average)"
      ]
    },
    {
      "cell_type": "code",
      "execution_count": null,
      "metadata": {
        "id": "foQNKQQge9cf"
      },
      "outputs": [],
      "source": [
        "# Time it should take- direct without stopping\n",
        "commute.pivot('Start Station', 'End Station', values='Duration', collect=min)"
      ]
    },
    {
      "cell_type": "markdown",
      "metadata": {
        "id": "JnS9jyR3iDot"
      },
      "source": [
        "What if we wanted to put multiple numbers in our table that include the min and the max?"
      ]
    },
    {
      "cell_type": "code",
      "execution_count": null,
      "metadata": {
        "id": "9ygH7BIrf1SH"
      },
      "outputs": [],
      "source": [
        "# Define our own function and test it out\n",
        "def min_and_max(values):\n",
        "  return str(min(values)) + \",\" + str(max(values))"
      ]
    },
    {
      "cell_type": "code",
      "execution_count": null,
      "metadata": {
        "id": "91ad-3M-gAgP"
      },
      "outputs": [],
      "source": [
        "# Time it should take- direct without stopping\n",
        "commute.pivot('Start Station', 'End Station', values='Duration', collect=min_and_max)"
      ]
    },
    {
      "cell_type": "markdown",
      "metadata": {
        "id": "h1-KiLIWU6WW"
      },
      "source": [
        "How can we find the fastest trip ever between each pair of stations using group?"
      ]
    },
    {
      "cell_type": "code",
      "execution_count": null,
      "metadata": {
        "cellView": "form",
        "id": "NOqpcv6mU6WW"
      },
      "outputs": [],
      "source": [
        "#@title Example Solution\n",
        "\n",
        "duration = trip.select('Start Station', 'End Station', 'Duration')\n",
        "duration"
      ]
    },
    {
      "cell_type": "code",
      "execution_count": null,
      "metadata": {
        "cellView": "form",
        "id": "UOT9bmIPU6WW"
      },
      "outputs": [],
      "source": [
        "#@title Example Solution\n",
        "\n",
        "shortest = duration.group(['Start Station', 'End Station'], min)\n",
        "shortest.show(5)"
      ]
    },
    {
      "cell_type": "markdown",
      "metadata": {
        "id": "qx8z7K0dU6WW"
      },
      "source": [
        "## Discussion question"
      ]
    },
    {
      "cell_type": "markdown",
      "metadata": {
        "id": "OORh53rIU6WW"
      },
      "source": [
        "Find the 5 stations closest to Civic Center BART by minimum trip time."
      ]
    },
    {
      "cell_type": "code",
      "execution_count": null,
      "metadata": {
        "cellView": "form",
        "id": "ByXx_nvMU6WW"
      },
      "outputs": [],
      "source": [
        "#@title Example Solution\n",
        "from_cc = shortest.where('Start Station', are.containing('Civic Center BART')).sort('Duration min')\n",
        "\n",
        "from_cc.take(np.arange(5)).column('End Station')"
      ]
    },
    {
      "cell_type": "markdown",
      "metadata": {
        "id": "vXiSKYd9U6WW"
      },
      "source": [
        "## Maps ##"
      ]
    },
    {
      "cell_type": "code",
      "execution_count": null,
      "metadata": {
        "id": "8KBS1NaaU6WX"
      },
      "outputs": [],
      "source": [
        "# Geographical data on the stations (dropping some columns we don't need)\n",
        "stations = Table.read_table('station.csv').drop(4, 6)\n",
        "stations"
      ]
    },
    {
      "cell_type": "code",
      "execution_count": null,
      "metadata": {
        "id": "l5k3_kZyU6Wd"
      },
      "outputs": [],
      "source": [
        "sf_stations = stations.where('landmark', are.equal_to('San Francisco'))\n",
        "sf_stations_map_data = (sf_stations\n",
        " .select('lat', 'long', 'name')\n",
        " .relabeled('name', 'labels'))\n",
        "sf_stations_map_data.show(3)"
      ]
    },
    {
      "cell_type": "code",
      "execution_count": null,
      "metadata": {
        "id": "NIsPiMAhU6Wd"
      },
      "outputs": [],
      "source": [
        "Marker.map_table(sf_stations_map_data)"
      ]
    },
    {
      "cell_type": "code",
      "execution_count": null,
      "metadata": {
        "id": "D-GhjIe2U6Wd"
      },
      "outputs": [],
      "source": [
        "Circle.map_table(sf_stations_map_data)"
      ]
    },
    {
      "cell_type": "markdown",
      "metadata": {
        "id": "YxQQ-VJPBzZW"
      },
      "source": [
        "## Conditionals and Iteration"
      ]
    },
    {
      "cell_type": "markdown",
      "metadata": {
        "id": "RKETMl7rBX36"
      },
      "source": [
        "## Comparison ##"
      ]
    },
    {
      "cell_type": "markdown",
      "metadata": {
        "id": "mZHRLoQOB465"
      },
      "source": [
        "We have already seen basic boolean expressions before"
      ]
    },
    {
      "cell_type": "code",
      "execution_count": null,
      "metadata": {
        "id": "is-9RthQBX36"
      },
      "outputs": [],
      "source": [
        "3 > 1"
      ]
    },
    {
      "cell_type": "code",
      "execution_count": null,
      "metadata": {
        "id": "9QXVW3zvBX36"
      },
      "outputs": [],
      "source": [
        "type(3 > 1)"
      ]
    },
    {
      "cell_type": "code",
      "execution_count": null,
      "metadata": {
        "id": "cDc2o1jEBX36"
      },
      "outputs": [],
      "source": [
        "type(True)"
      ]
    },
    {
      "cell_type": "code",
      "execution_count": null,
      "metadata": {
        "id": "HTLs6P1mBX36"
      },
      "outputs": [],
      "source": [
        "# What is the error here?\n",
        "true"
      ]
    },
    {
      "cell_type": "markdown",
      "metadata": {
        "id": "gbbU40oRCA7l"
      },
      "source": [
        "Recall that the single `=` is assignment.\n",
        " Thus the following error:"
      ]
    },
    {
      "cell_type": "code",
      "execution_count": null,
      "metadata": {
        "id": "8kTG6KIEBX36"
      },
      "outputs": [],
      "source": [
        "3 = 3"
      ]
    },
    {
      "cell_type": "markdown",
      "metadata": {
        "id": "54b1cTTtCR-n"
      },
      "source": [
        "Equality:"
      ]
    },
    {
      "cell_type": "code",
      "execution_count": null,
      "metadata": {
        "id": "wdMH3dblBX36"
      },
      "outputs": [],
      "source": [
        "3 == 3.0"
      ]
    },
    {
      "cell_type": "markdown",
      "metadata": {
        "id": "uzHv6oX5CZQa"
      },
      "source": [
        "Inequality (not equal to):"
      ]
    },
    {
      "cell_type": "code",
      "execution_count": null,
      "metadata": {
        "id": "kTYAtQXhBX36"
      },
      "outputs": [],
      "source": [
        "10 != 2"
      ]
    },
    {
      "cell_type": "markdown",
      "metadata": {
        "id": "bf6lAYt9CdU0"
      },
      "source": [
        "Using variables in boolean expressions:"
      ]
    },
    {
      "cell_type": "code",
      "execution_count": 2,
      "metadata": {
        "id": "AVORU10RBX36"
      },
      "outputs": [],
      "source": [
        "x = 14\n",
        "y = 3"
      ]
    },
    {
      "cell_type": "code",
      "execution_count": null,
      "metadata": {
        "id": "cI0DC8YBBX36"
      },
      "outputs": [],
      "source": [
        "x > 15"
      ]
    },
    {
      "cell_type": "code",
      "execution_count": null,
      "metadata": {
        "id": "P1Po-LiLBX36"
      },
      "outputs": [],
      "source": [
        "12 < x"
      ]
    },
    {
      "cell_type": "code",
      "execution_count": null,
      "metadata": {
        "id": "ZDlxEc8bBX36"
      },
      "outputs": [],
      "source": [
        "x < 20"
      ]
    },
    {
      "cell_type": "markdown",
      "metadata": {
        "id": "h0scEArmCjfN"
      },
      "source": [
        "Compound boolean expressions:"
      ]
    },
    {
      "cell_type": "code",
      "execution_count": null,
      "metadata": {
        "id": "2aAeTvFWBX36"
      },
      "outputs": [],
      "source": [
        "12 < x < 20"
      ]
    },
    {
      "cell_type": "code",
      "execution_count": null,
      "metadata": {
        "id": "gyFUuEoCCumE"
      },
      "outputs": [],
      "source": [
        "(12 < x) and (x < 20)"
      ]
    },
    {
      "cell_type": "code",
      "execution_count": null,
      "metadata": {
        "id": "8g5YPdbEDEm6"
      },
      "outputs": [],
      "source": [
        "(12 < x) and (x < 5)"
      ]
    },
    {
      "cell_type": "code",
      "execution_count": null,
      "metadata": {
        "id": "jtstnIQMC-Ap"
      },
      "outputs": [],
      "source": [
        "(12 < x) or (x < 5)"
      ]
    },
    {
      "cell_type": "code",
      "execution_count": null,
      "metadata": {
        "id": "R8mznx6sBX36"
      },
      "outputs": [],
      "source": [
        "10 < x - y < 13"
      ]
    },
    {
      "cell_type": "code",
      "execution_count": null,
      "metadata": {
        "id": "LbTXy_7bBX37"
      },
      "outputs": [],
      "source": [
        "x > 13 and y < 3.14159"
      ]
    },
    {
      "cell_type": "markdown",
      "metadata": {
        "id": "q5gCvylyBX37"
      },
      "source": [
        "(The comparison `12 < x < 20` is equivalent to `12 < x and x < 20`.)"
      ]
    },
    {
      "cell_type": "markdown",
      "metadata": {
        "id": "xXcSzdUvBX37"
      },
      "source": [
        "## Comparisons with arrays"
      ]
    },
    {
      "cell_type": "code",
      "execution_count": null,
      "metadata": {
        "id": "nAeaUkobBX37"
      },
      "outputs": [],
      "source": [
        "# An array of pets\n",
        "pets = make_array('cat', 'cat', 'dog', 'cat', 'dog', 'rabbit')"
      ]
    },
    {
      "cell_type": "code",
      "execution_count": null,
      "metadata": {
        "id": "VtsEIp7oBX37"
      },
      "outputs": [],
      "source": [
        "# Here it checks whether each element in the array is equal (==) to cat\n",
        "pets == 'cat'"
      ]
    },
    {
      "cell_type": "markdown",
      "metadata": {
        "id": "AqvpjFAWE4wq"
      },
      "source": [
        "How many cats?"
      ]
    },
    {
      "cell_type": "code",
      "execution_count": null,
      "metadata": {
        "id": "Uh75XlhzBX37"
      },
      "outputs": [],
      "source": [
        "sum(pets == 'cat')"
      ]
    },
    {
      "cell_type": "markdown",
      "metadata": {
        "id": "GMIvcfWBFIaT"
      },
      "source": [
        "Math with booleans"
      ]
    },
    {
      "cell_type": "code",
      "execution_count": null,
      "metadata": {
        "id": "QYDStQTHBX37"
      },
      "outputs": [],
      "source": [
        "# Converts to true and false and then counts them as one or zero\n",
        "np.mean(pets == 'cat')"
      ]
    },
    {
      "cell_type": "code",
      "execution_count": null,
      "metadata": {
        "id": "QgKhou_jFiL1"
      },
      "outputs": [],
      "source": [
        "# An assignment statement with equality operation\n",
        "is_cat = pets == 'cat'\n",
        "is_cat"
      ]
    },
    {
      "cell_type": "code",
      "execution_count": null,
      "metadata": {
        "id": "QDzBxNGUFxx6"
      },
      "outputs": [],
      "source": [
        "is_cat * 2 - 1"
      ]
    },
    {
      "cell_type": "code",
      "execution_count": null,
      "metadata": {
        "id": "CSBigwOzBX37"
      },
      "outputs": [],
      "source": [
        "sum(make_array(True, True, False, True, False, False))"
      ]
    },
    {
      "cell_type": "code",
      "execution_count": null,
      "metadata": {
        "id": "CW9Gq5E5BX37"
      },
      "outputs": [],
      "source": [
        "np.count_nonzero(pets == 'dog')"
      ]
    },
    {
      "cell_type": "code",
      "execution_count": null,
      "metadata": {
        "id": "HKJ7C-sIBX37"
      },
      "outputs": [],
      "source": [
        "x = np.arange(20, 31)\n",
        "x"
      ]
    },
    {
      "cell_type": "code",
      "execution_count": null,
      "metadata": {
        "id": "PghDY7BCBX37"
      },
      "outputs": [],
      "source": [
        "x > 28"
      ]
    },
    {
      "cell_type": "code",
      "execution_count": null,
      "metadata": {
        "id": "66WcrlcHMdyF"
      },
      "outputs": [],
      "source": [
        "sum(x > 28)"
      ]
    },
    {
      "cell_type": "markdown",
      "metadata": {
        "id": "oQUfRMhpU6Wd"
      },
      "source": [
        "### Extra: More ways to work with data and use the maps plotting features"
      ]
    },
    {
      "cell_type": "markdown",
      "metadata": {
        "id": "jVxuHgWeU6Wd"
      },
      "source": [
        "Map all stations within 4 minutes (minimum ride time) of Civic Center."
      ]
    },
    {
      "cell_type": "code",
      "execution_count": null,
      "metadata": {
        "id": "d2Bk3AKlU6Wd"
      },
      "outputs": [],
      "source": [
        "from_cc.show(3)"
      ]
    },
    {
      "cell_type": "code",
      "execution_count": null,
      "metadata": {
        "id": "rWjelaODU6Wd"
      },
      "outputs": [],
      "source": [
        "sf_stations_map_data.show(3)"
      ]
    },
    {
      "cell_type": "code",
      "execution_count": null,
      "metadata": {
        "cellView": "form",
        "id": "pyDB_3ziU6Wd"
      },
      "outputs": [],
      "source": [
        "#@title Example Solution\n",
        "close_cc = from_cc.where('Duration min', are.below(4 * 60))\n",
        "\n",
        "close_markers = (sf_stations_map_data\n",
        "      .join('labels', close_cc, 'End Station')\n",
        "      .select('lat', 'long', 'labels'))\n",
        "\n",
        "Marker.map_table(close_markers)"
      ]
    },
    {
      "cell_type": "markdown",
      "metadata": {
        "id": "ISKd8oviU6Wd"
      },
      "source": [
        "Choose marker colors by the minimum time from Civic Center"
      ]
    },
    {
      "cell_type": "code",
      "execution_count": null,
      "metadata": {
        "id": "CQKIG40zU6Wd"
      },
      "outputs": [],
      "source": [
        "minutes = np.round(from_cc.column(\"Duration min\") / 60)\n",
        "print(min(minutes), max(minutes))"
      ]
    },
    {
      "cell_type": "code",
      "execution_count": null,
      "metadata": {
        "id": "X6yh4lYqU6Wd"
      },
      "outputs": [],
      "source": [
        "colors = Table().with_columns(\n",
        "    \"minutes\", np.arange(15),\n",
        "    \"colors\",  [\"darkblue\", \"blue\", \"lightblue\",\n",
        "                \"darkgreen\", \"green\", \"lightgreen\",\n",
        "                \"orange\", \"darkred\", \"red\",\n",
        "                \"gray\", \"gray\", \"gray\",\n",
        "                \"gray\", \"gray\", \"gray\"])\n",
        "colors_cc = (from_cc\n",
        " .with_column(\"Minutes\", minutes)\n",
        " .join(\"Minutes\", colors, \"minutes\"))\n",
        "\n",
        "colored_markers = (sf_stations_map_data\n",
        "      .join('labels', colors_cc, 'End Station')\n",
        "      .select('lat', 'long', 'labels', 'colors'))\n",
        "Marker.map_table(colored_markers)"
      ]
    },
    {
      "cell_type": "code",
      "execution_count": null,
      "metadata": {
        "id": "-oE2LIyhU6We"
      },
      "outputs": [],
      "source": [
        "station_starts = stations.join('name', starts, 'Start Station')\n",
        "station_starts.show(3)"
      ]
    },
    {
      "cell_type": "code",
      "execution_count": null,
      "metadata": {
        "id": "n99rhnF_U6We"
      },
      "outputs": [],
      "source": [
        "sf_starts = station_starts.relabeled(\n",
        "    'name', 'labels').where('landmark', 'San Francisco')"
      ]
    },
    {
      "cell_type": "code",
      "execution_count": null,
      "metadata": {
        "id": "8xrTLNl_U6We"
      },
      "outputs": [],
      "source": [
        "sf_starts_map_data = sf_starts.select('lat', 'long', 'labels').with_columns(\n",
        "    'colors', 'blue',\n",
        "    'areas', sf_starts.column('count') / 10\n",
        ")\n",
        "sf_starts_map_data.show(3)"
      ]
    },
    {
      "cell_type": "code",
      "execution_count": null,
      "metadata": {
        "id": "3dT1BD-aU6We"
      },
      "outputs": [],
      "source": [
        "Circle.map_table(sf_starts_map_data)"
      ]
    },
    {
      "cell_type": "markdown",
      "metadata": {},
      "source": [
        "### Saving\n",
        "Remember to save your notebook before closing.\n",
        "Choose **Save** (and make sure you've already saved a copy in your drive) from the **File** menu."
      ]
    }
  ],
  "metadata": {
    "colab": {
      "collapsed_sections": [
        "oQUfRMhpU6Wd"
      ],
      "provenance": []
    },
    "kernelspec": {
      "display_name": "Python 3",
      "language": "python",
      "name": "python3"
    },
    "language_info": {
      "codemirror_mode": {
        "name": "ipython",
        "version": 3
      },
      "file_extension": ".py",
      "mimetype": "text/x-python",
      "name": "python",
      "nbconvert_exporter": "python",
      "pygments_lexer": "ipython3",
      "version": "3.10.12"
    }
  },
  "nbformat": 4,
  "nbformat_minor": 0
}
