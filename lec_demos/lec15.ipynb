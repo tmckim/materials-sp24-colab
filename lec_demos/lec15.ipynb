{
  "cells": [
    {
      "cell_type": "markdown",
      "metadata": {
        "id": "W9eUQQkpmadX"
      },
      "source": [
        "<a href=\"https://colab.research.google.com/github/tmckim/materials-sp24-colab/blob/main/lec_demos/lec15.ipynb\" target=\"_parent\"><img src=\"https://colab.research.google.com/assets/colab-badge.svg\" alt=\"Open In Colab\"/></a>"
      ]
    },
    {
      "cell_type": "markdown",
      "metadata": {
        "id": "KyqrMhI0madY"
      },
      "source": [
        "## Before you start - Save this notebook!\n",
        "\n",
        "When you open a new Colab notebook from the WebCampus (like you hopefully did for this one), you cannot save changes. So it's  best to store the Colab notebook in your personal drive `\"File > Save a copy in drive...\"` **before** you do anything else.\n",
        "\n",
        "The file will open in a new tab in your web browser, and it is automatically named something like: \"**Copy of lec15.ipynb**\". You can rename this to just the title of the assignment \"**lec15.ipynb**\". Make sure you do keep an informative name (like the name of the assignment) so that you know which files to submit back to WebCampus for grading! More instructions on this are at the end of the notebook.\n",
        "\n",
        "\n",
        "**Where does the notebook get saved in Google Drive?**\n",
        "\n",
        "By default, the notebook will be copied to a folder called “Colab Notebooks” at the root (home directory) of your Google Drive. If you use this for other courses or personal code notebooks, I recommend creating a folder for this course and then moving the assignments AFTER you have completed them. <br>\n",
        "\n",
        "I also recommend you give the folder where you save your notebooks^ a different name than the folder we create below that will store the notebook resources you need each time you work through a course notebook. This includes any data files you will need, links to the images that appear in the notebook, and the files associated with the autograder for answer checking.<br>\n",
        "You should select a name other than '**NS499-DataSci-course-materials**'. <br>\n",
        "This folder gets overwritten with each assignment you work on in the course, so you should **NOT** store your notebooks in this folder that we use for course materials! <br><br>For example, you could create a folder called 'NS499-**notebooks**' or something along those lines.\n",
        "___"
      ]
    },
    {
      "cell_type": "markdown",
      "metadata": {
        "id": "VJ-ZqsLVmadY"
      },
      "source": [
        "### We will now do the setup steps as separate cells to help with issues finding files in google drive/colab. <br> If you restart colab, you must rerun all **5** steps in each of these cells!"
      ]
    },
    {
      "cell_type": "code",
      "execution_count": null,
      "metadata": {
        "id": "5LmDb0xHmadZ"
      },
      "outputs": [],
      "source": [
        "# Step 1\n",
        "# Setup and add files needed to access gdrive\n",
        "from google.colab import drive                                   # these lines mount your gdrive to access the files we import below\n",
        "drive.mount('/content/gdrive', force_remount=True)"
      ]
    },
    {
      "cell_type": "code",
      "execution_count": 3,
      "metadata": {
        "id": "JnlD1zJjmadZ"
      },
      "outputs": [],
      "source": [
        "# Step 2\n",
        "# Change directory to the correct location in gdrive (modified way to do this from before)\n",
        "import os\n",
        "os.chdir('/content/gdrive/MyDrive/NS499-DataSci-course-materials/')"
      ]
    },
    {
      "cell_type": "code",
      "execution_count": null,
      "metadata": {
        "id": "vUBCNdoumadZ"
      },
      "outputs": [],
      "source": [
        "# Step 3\n",
        "# Remove the files that were previously there- we will replace with all the old + new ones for this assignment\n",
        "!rm -r materials-sp24-colab"
      ]
    },
    {
      "cell_type": "code",
      "execution_count": null,
      "metadata": {
        "id": "J69HAfv5mada"
      },
      "outputs": [],
      "source": [
        "# Step 4\n",
        "# These lines clone (copy) all the files you will need from where I store the code+data for the course (github)\n",
        "# Second part of the code copies the files to this location and folder in your own gdrive\n",
        "!git clone https://github.com/tmckim/materials-sp24-colab '/content/gdrive/My Drive/NS499-DataSci-course-materials/materials-sp24-colab/'"
      ]
    },
    {
      "cell_type": "code",
      "execution_count": 4,
      "metadata": {
        "id": "YBJcCuZhmada"
      },
      "outputs": [],
      "source": [
        "# Step 5\n",
        "# Change directory into the folder where the resources for this assignment are stored in gdrive (modified way from before)\n",
        "os.chdir('/content/gdrive/MyDrive/NS499-DataSci-course-materials/materials-sp24-colab/lec_demos/')"
      ]
    },
    {
      "cell_type": "code",
      "execution_count": 5,
      "metadata": {
        "id": "fxRt29ZRmada"
      },
      "outputs": [],
      "source": [
        "# Import packages and other things needed\n",
        "# Don't change this cell; Just run this cell\n",
        "# If you restart colab, make sure to run this cell again after the first ones above^\n",
        "\n",
        "from datascience import *\n",
        "import numpy as np\n",
        "import warnings\n",
        "warnings.simplefilter(action='ignore',category=np.VisibleDeprecationWarning)\n",
        "\n",
        "%matplotlib inline\n",
        "import matplotlib.pyplot as plt\n",
        "plt.style.use(\"fivethirtyeight\")\n",
        "plt.rcParams[\"patch.force_edgecolor\"] = True"
      ]
    },
    {
      "cell_type": "markdown",
      "metadata": {
        "id": "D4xc-wRXmada"
      },
      "source": [
        "## Learning Objectives ##"
      ]
    },
    {
      "cell_type": "markdown",
      "metadata": {
        "id": "D1vdpMKFmada"
      },
      "source": [
        "- use simulation to conduct hypothesis testing\n",
        "- review simulation steps and process\n",
        "- compare two samples using A/B testing\n"
      ]
    },
    {
      "cell_type": "markdown",
      "metadata": {
        "id": "4jBZdpHsmada"
      },
      "source": [
        "# Comparing Two Samples"
      ]
    },
    {
      "cell_type": "code",
      "execution_count": 6,
      "metadata": {
        "id": "IwKVxLWFmada"
      },
      "outputs": [],
      "source": [
        "# Read in table of data\n",
        "births = Table.read_table('baby.csv')"
      ]
    },
    {
      "cell_type": "code",
      "execution_count": null,
      "metadata": {
        "id": "Wdp7fSo5madb"
      },
      "outputs": [],
      "source": [
        "# birth weight in ounces\n",
        "# days in womb\n",
        "# age of mother\n",
        "# height of mother\n",
        "# weight of mother- pounds\n",
        "# mother smoking status"
      ]
    },
    {
      "cell_type": "code",
      "execution_count": null,
      "metadata": {
        "id": "So0_gstXmadb"
      },
      "outputs": [],
      "source": [
        "births"
      ]
    },
    {
      "cell_type": "code",
      "execution_count": 7,
      "metadata": {
        "id": "7RV0mZ84madb"
      },
      "outputs": [],
      "source": [
        "# Select subset of data we will work with\n",
        "smoking_and_birthweight = births.select('Maternal Smoker', 'Birth Weight')"
      ]
    },
    {
      "cell_type": "code",
      "execution_count": null,
      "metadata": {
        "id": "nqZTd-WGmadb"
      },
      "outputs": [],
      "source": [
        "# Find how many individuals in each category\n",
        "..."
      ]
    },
    {
      "cell_type": "code",
      "execution_count": null,
      "metadata": {
        "cellView": "form",
        "id": "hm_Hu6jbmc1Q"
      },
      "outputs": [],
      "source": [
        "#@title Hidden Solution\n",
        "smoking_and_birthweight.group('Maternal Smoker')"
      ]
    },
    {
      "cell_type": "code",
      "execution_count": null,
      "metadata": {
        "id": "rjrpbT9imadb"
      },
      "outputs": [],
      "source": [
        "# Plot the distributions of the data\n",
        "smoking_and_birthweight.hist('Birth Weight')"
      ]
    },
    {
      "cell_type": "code",
      "execution_count": null,
      "metadata": {
        "cellView": "form",
        "id": "cM5ASQvsmjZR"
      },
      "outputs": [],
      "source": [
        "#@title Hidden Solution\n",
        "smoking_and_birthweight.hist('Birth Weight', group='Maternal Smoker')"
      ]
    },
    {
      "cell_type": "markdown",
      "metadata": {
        "id": "f8H_qj7Imadb"
      },
      "source": [
        "# Test Statistic\n",
        "\n",
        "Question: What values of our statistic are in favor of the alternative: positive or negative? <br>\n",
        "\n",
        "This depends on our alternative hypothesis, and which order we plan to do the subtraction. <br><br>\n",
        "\n",
        "**Alternative Hypothesis**: In the population, the babies of the mothers who smoked weigh less, on average, than the babies of the non-smokers\n",
        "**Subtraction**: smoking group minus non-smoking group."
      ]
    },
    {
      "cell_type": "code",
      "execution_count": null,
      "metadata": {
        "id": "DiI6DEVPmadb"
      },
      "outputs": [],
      "source": [
        "# Return averages\n",
        "means_table = smoking_and_birthweight.group('Maternal Smoker', np.average)\n",
        "means_table"
      ]
    },
    {
      "cell_type": "code",
      "execution_count": null,
      "metadata": {
        "id": "VPgeYSu9madb"
      },
      "outputs": [],
      "source": [
        "# Use the column we want and calculate the difference\n",
        "means = means_table.column(1)\n",
        "observed_difference = means.item(1) - means.item(0)\n",
        "observed_difference"
      ]
    },
    {
      "cell_type": "code",
      "execution_count": null,
      "metadata": {
        "id": "dDDgrsflmadb"
      },
      "outputs": [],
      "source": [
        "# Define a function using what we already did above so we can easily repeat this process many times\n",
        "def difference_of_means(table, numeric_label, category_label):\n",
        "    \"\"\"Takes: name of table, column label of numerical variable,\n",
        "    column label of group-label variable\n",
        "    Returns: Difference of means of the two groups\"\"\"\n",
        "\n",
        "    #table with the two relevant columns\n",
        "    reduced = ...\n",
        "\n",
        "    # table containing group means\n",
        "    means_table = ...\n",
        "\n",
        "    # array of group means\n",
        "    means = ...\n",
        "\n",
        "    return means.item(1) - means.item(0)"
      ]
    },
    {
      "cell_type": "code",
      "execution_count": 8,
      "metadata": {
        "cellView": "form",
        "id": "3mUC_nQ8oD-N"
      },
      "outputs": [],
      "source": [
        "#@title Hidden Solution\n",
        "def difference_of_means(table, numeric_label, category_label):\n",
        "    \"\"\"Takes: name of table, column label of numerical variable,\n",
        "    column label of group-label variable\n",
        "    Returns: Difference of means of the two groups\"\"\"\n",
        "\n",
        "    #table with the two relevant columns\n",
        "    reduced = table.select(category_label, numeric_label)\n",
        "\n",
        "    # table containing group means\n",
        "    means_table = reduced.group(category_label, np.average)\n",
        "\n",
        "    # array of group means\n",
        "    means = means_table.column(1)\n",
        "\n",
        "    return means.item(1) - means.item(0)"
      ]
    },
    {
      "cell_type": "code",
      "execution_count": null,
      "metadata": {
        "id": "pBGpTguZmadb"
      },
      "outputs": [],
      "source": [
        "# Run the function\n",
        "# Function inputs:\n",
        "    # table = births\n",
        "    # numeric_label = Birth Weight column\n",
        "    # category_label = Maternal Smoker column\n",
        "difference_of_means(births, 'Birth Weight', 'Maternal Smoker')"
      ]
    },
    {
      "cell_type": "markdown",
      "metadata": {
        "id": "sCkh7gqzmadc"
      },
      "source": [
        "Now we need to simulate. But how do we do this? <br>\n",
        "Simulate another set of people like this, but assume the distributions are the same between the weight differences of the groups. <br>\n",
        "Seems complicated, and in the past, we had the population data in the previous examples. We don't have that info here."
      ]
    },
    {
      "cell_type": "markdown",
      "metadata": {
        "id": "kB3AnUL6madc"
      },
      "source": [
        "# Random Permutation (Shuffling)"
      ]
    },
    {
      "cell_type": "code",
      "execution_count": null,
      "metadata": {
        "id": "_CJushKkmadc"
      },
      "outputs": [],
      "source": [
        "# An example table\n",
        "letters = Table().with_column('Letter', make_array('a', 'b', 'c', 'd', 'e'))"
      ]
    },
    {
      "cell_type": "code",
      "execution_count": null,
      "metadata": {
        "id": "Ilw_kZpvmadc"
      },
      "outputs": [],
      "source": [
        "# Shuffles the entire table, but you can get repeats\n",
        "letters.sample()"
      ]
    },
    {
      "cell_type": "code",
      "execution_count": null,
      "metadata": {
        "id": "rKY0aKEUmadc"
      },
      "outputs": [],
      "source": [
        "# Ensure we get unique permutation\n",
        "letters.sample(with_replacement = False)"
      ]
    },
    {
      "cell_type": "code",
      "execution_count": null,
      "metadata": {
        "id": "fHJgcPaMmadc"
      },
      "outputs": [],
      "source": [
        "# Show them together\n",
        "letters.with_column('Shuffled', letters.sample(with_replacement = False).column(0))"
      ]
    },
    {
      "cell_type": "markdown",
      "metadata": {
        "id": "O-9m37BXmadc"
      },
      "source": [
        "# Simulation Under the Null Hypothesis"
      ]
    },
    {
      "cell_type": "code",
      "execution_count": null,
      "metadata": {
        "id": "CJp28KoFmadc"
      },
      "outputs": [],
      "source": [
        "# Here is our table again\n",
        "smoking_and_birthweight"
      ]
    },
    {
      "cell_type": "code",
      "execution_count": null,
      "metadata": {
        "id": "cHG0yq7ymadc"
      },
      "outputs": [],
      "source": [
        "# Shuffle Maternal Smoker labels, but keep the Birth Weights the same\n",
        "shuffled_labels = smoking_and_birthweight.sample(with_replacement=False).column('Maternal Smoker')"
      ]
    },
    {
      "cell_type": "code",
      "execution_count": null,
      "metadata": {
        "id": "dv666prTmadc"
      },
      "outputs": [],
      "source": [
        "# Create new table that contains original and new shuffled categories\n",
        "original_and_shuffled = smoking_and_birthweight.with_column('Shuffled Label', shuffled_labels)"
      ]
    },
    {
      "cell_type": "code",
      "execution_count": null,
      "metadata": {
        "id": "nAZ_LexWmadc"
      },
      "outputs": [],
      "source": [
        "# Check it out\n",
        "original_and_shuffled"
      ]
    },
    {
      "cell_type": "code",
      "execution_count": null,
      "metadata": {
        "id": "Hx1hZHH-madd"
      },
      "outputs": [],
      "source": [
        "# Now we can call the function from above, but use the shuffled label instead of original\n",
        "difference_of_means(original_and_shuffled, 'Birth Weight', 'Shuffled Label')"
      ]
    },
    {
      "cell_type": "code",
      "execution_count": null,
      "metadata": {
        "id": "Yf3h8P99madd"
      },
      "outputs": [],
      "source": [
        "# Compare to running it with our original table values\n",
        "difference_of_means(original_and_shuffled, 'Birth Weight', 'Maternal Smoker')"
      ]
    },
    {
      "cell_type": "markdown",
      "metadata": {
        "id": "ePS4zBKpmadd"
      },
      "source": [
        "# Permutation Test"
      ]
    },
    {
      "cell_type": "code",
      "execution_count": 9,
      "metadata": {
        "id": "gkzZrU-Fmadd"
      },
      "outputs": [],
      "source": [
        "# Function for our simulation and calculate the test statistic\n",
        "def one_simulated_difference(table, numeric_label, category_label):\n",
        "    \"\"\"Takes: name of table, column label of numerical variable,\n",
        "    column label of group-label variable\n",
        "    Returns: Difference of means of the two groups after shuffling labels\"\"\"\n",
        "\n",
        "    # array of shuffled labels\n",
        "    shuffled_labels = table.sample(with_replacement = False).column(category_label)\n",
        "\n",
        "    # table of numerical variable and shuffled labels\n",
        "    shuffled_table = table.select(numeric_label).with_column('Shuffled Label', shuffled_labels)  # this is our simulated data\n",
        "\n",
        "    return difference_of_means(shuffled_table, numeric_label, 'Shuffled Label')   # computes and returns the test statistic"
      ]
    },
    {
      "cell_type": "code",
      "execution_count": null,
      "metadata": {
        "id": "YTW5QChvmadd"
      },
      "outputs": [],
      "source": [
        "# Test the function\n",
        "one_simulated_difference(births, 'Birth Weight', 'Maternal Smoker')"
      ]
    },
    {
      "cell_type": "code",
      "execution_count": null,
      "metadata": {
        "id": "Gre4TZqimadg"
      },
      "outputs": [],
      "source": [
        "# Final step: repeat this many times using a for loop\n",
        "differences = ...\n",
        "\n",
        "for ... in ...(2500):\n",
        "    new_difference = ...\n",
        "    differences = ..."
      ]
    },
    {
      "cell_type": "code",
      "execution_count": 10,
      "metadata": {
        "cellView": "form",
        "id": "AnEB0E1apYar"
      },
      "outputs": [],
      "source": [
        "#@title Hidden Solution\n",
        "differences = make_array()\n",
        "\n",
        "for i in np.arange(2500):\n",
        "    new_difference = one_simulated_difference(births, 'Birth Weight', 'Maternal Smoker')\n",
        "    differences = np.append(differences, new_difference)"
      ]
    },
    {
      "cell_type": "code",
      "execution_count": null,
      "metadata": {
        "id": "655dUldLmadg"
      },
      "outputs": [],
      "source": [
        "# Create a table from the data array and plot the distribution\n",
        "diff_tbl = Table().with_column('Simulated Differences', differences)\n",
        "diff_tbl.hist()\n",
        "\n",
        "print('Observed Difference:', observed_difference)\n",
        "plt.title('Prediction Under the Null Hypothesis');"
      ]
    },
    {
      "cell_type": "code",
      "execution_count": null,
      "metadata": {
        "id": "ELaWpDbEmadg"
      },
      "outputs": [],
      "source": [
        "# Calculating the p-value\n",
        "\n",
        "p_val = diff_tbl.where('Simulated Differences', are.below(observed_difference)).num_rows / 2500\n",
        "p_val"
      ]
    },
    {
      "cell_type": "code",
      "execution_count": null,
      "metadata": {
        "id": "d2SQnsCjpu8_"
      },
      "outputs": [],
      "source": [
        "# Calculating the p-value another way\n",
        "p_value = np.count_nonzero(differences <= observed_difference) / 2500\n",
        "p_value"
      ]
    },
    {
      "cell_type": "code",
      "execution_count": null,
      "metadata": {
        "cellView": "form",
        "id": "oEr0fsrWmadh"
      },
      "outputs": [],
      "source": [
        "#@title Hidden Text\n",
        "#How often does the difference get very large? It rarely does here under simulation.\n",
        "#Our observed values was -9.266, which would be way off the chart.\n",
        "#Low (negative) values are evidence for the alternative. So we want to know what percent of values lie beyond that observed value.\n",
        "#No part of histogram goes out that far- this means the p-value is 0.\n",
        "#Conclude: Data is consistent with alternative. Babies born to mothers who smoked weighed less than babies of nonsmokers in the population."
      ]
    },
    {
      "cell_type": "markdown",
      "metadata": {
        "id": "lk30YFyMmadh"
      },
      "source": [
        "Does this imply causation?"
      ]
    },
    {
      "cell_type": "code",
      "execution_count": null,
      "metadata": {
        "id": "RBZSJIQgmadh"
      },
      "outputs": [],
      "source": [
        "# Review other values in the table\n",
        "births.group('Maternal Smoker', np.average)"
      ]
    },
    {
      "cell_type": "markdown",
      "metadata": {
        "id": "hHgCEgKlmadh"
      },
      "source": [
        "# Randomized Control Experiment"
      ]
    },
    {
      "cell_type": "code",
      "execution_count": null,
      "metadata": {
        "id": "KG8Y4Ku-madh"
      },
      "outputs": [],
      "source": [
        "# Botox treatment for chronic pain\n",
        "# 1 - improvement in outcome (pain)\n",
        "# 0 - no change in outcome (pain)\n",
        "botox = Table.read_table('bta.csv')\n",
        "botox.show()"
      ]
    },
    {
      "cell_type": "code",
      "execution_count": null,
      "metadata": {
        "id": "1NTe-D10madh"
      },
      "outputs": [],
      "source": [
        "# What are the unique combinations of all of these values\n",
        "..."
      ]
    },
    {
      "cell_type": "code",
      "execution_count": null,
      "metadata": {
        "cellView": "form",
        "id": "1V63zWEjrC6U"
      },
      "outputs": [],
      "source": [
        "#@title Hidden Solution\n",
        "botox.pivot('Result','Group')"
      ]
    },
    {
      "cell_type": "code",
      "execution_count": null,
      "metadata": {
        "id": "KYX53fcAmadh"
      },
      "outputs": [],
      "source": [
        "# Average value of improvement for the outcome variable\n",
        "..."
      ]
    },
    {
      "cell_type": "code",
      "execution_count": null,
      "metadata": {
        "cellView": "form",
        "id": "6z7uyBRHrLds"
      },
      "outputs": [],
      "source": [
        "#@title Hidden Solution\n",
        "botox.group('Group', np.average)"
      ]
    },
    {
      "cell_type": "markdown",
      "metadata": {
        "id": "owk1GOwrmadh"
      },
      "source": [
        "# Testing the Hypothesis"
      ]
    },
    {
      "cell_type": "code",
      "execution_count": null,
      "metadata": {
        "id": "V5QrU01Rmadh"
      },
      "outputs": [],
      "source": [
        "# Use the function we defined above to calculate the difference\n",
        "# We have a different table, and input columns\n",
        "observed_diff = difference_of_means(botox, 'Result', 'Group')\n",
        "observed_diff"
      ]
    },
    {
      "cell_type": "code",
      "execution_count": null,
      "metadata": {
        "id": "2WUAiKWXmadh"
      },
      "outputs": [],
      "source": [
        "# Run our permutation function\n",
        "one_simulated_difference(botox, 'Result', 'Group')"
      ]
    },
    {
      "cell_type": "code",
      "execution_count": null,
      "metadata": {
        "id": "DMdiOW3Smadi"
      },
      "outputs": [],
      "source": [
        "# Simulate many times\n",
        "simulated_diffs = ...\n",
        "\n",
        "for ... in ...(10000):\n",
        "    sim_diff = ...\n",
        "    simulated_diffs = ..."
      ]
    },
    {
      "cell_type": "code",
      "execution_count": 25,
      "metadata": {
        "cellView": "form",
        "id": "aMAvhj5Brac7"
      },
      "outputs": [],
      "source": [
        "#@title Hidden Solution\n",
        "simulated_diffs = make_array()\n",
        "\n",
        "for i in np.arange(10000):\n",
        "    sim_diff = one_simulated_difference(botox, 'Result', 'Group')\n",
        "    simulated_diffs = np.append(simulated_diffs, sim_diff)"
      ]
    },
    {
      "cell_type": "code",
      "execution_count": null,
      "metadata": {
        "colab": {
          "base_uri": "https://localhost:8080/",
          "height": 410
        },
        "id": "8o6JlvJmmadi",
        "outputId": "0ffb096a-620f-4c50-aadc-fcdfda148b18"
      },
      "outputs": [],
      "source": [
        "# Create a table and plot the distribution\n",
        "col_name = 'Distance between groups'\n",
        "Table().with_column(col_name, simulated_diffs).hist(col_name)\n",
        "\n",
        "plt.scatter(observed_diff, -0.03,c='red');"
      ]
    },
    {
      "cell_type": "code",
      "execution_count": null,
      "metadata": {
        "id": "FT_66JKUmadi"
      },
      "outputs": [],
      "source": [
        "# Calculate p-value- threshold is 1% (0.01)\n",
        "sum(simulated_diffs >= observed_diff)/len(simulated_diffs)"
      ]
    },
    {
      "cell_type": "code",
      "execution_count": null,
      "metadata": {
        "id": "l2bDe-xKrl1p"
      },
      "outputs": [],
      "source": [
        "# The above code is similar to using np.count_nonzero\n",
        "np.count_nonzero(simulated_diffs >= observed_diff) / len(simulated_diffs)"
      ]
    },
    {
      "cell_type": "code",
      "execution_count": null,
      "metadata": {
        "cellView": "form",
        "id": "IeXr7mvZmadi"
      },
      "outputs": [],
      "source": [
        "#@title Hidden Text\n",
        "#treatment minus control- positive/high values are evidence for alternative\n",
        "#p-value is smaller than cutoff- data is consistent with alternative.\n",
        "#Treatment causes pain to improve- we can conclude this due to random assignment"
      ]
    },
    {
      "cell_type": "markdown",
      "metadata": {
        "id": "40wPkjpgmadi"
      },
      "source": []
    }
  ],
  "metadata": {
    "colab": {
      "provenance": []
    },
    "kernelspec": {
      "display_name": "Python 3",
      "language": "python",
      "name": "python3"
    },
    "language_info": {
      "codemirror_mode": {
        "name": "ipython",
        "version": 3
      },
      "file_extension": ".py",
      "mimetype": "text/x-python",
      "name": "python",
      "nbconvert_exporter": "python",
      "pygments_lexer": "ipython3",
      "version": "3.10.12"
    }
  },
  "nbformat": 4,
  "nbformat_minor": 0
}
