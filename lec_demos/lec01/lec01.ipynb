{
  "cells": [
    {
      "cell_type": "markdown",
      "metadata": {},
      "source": [
        "<a href=\"https://colab.research.google.com/github/tmckim/materials-sp24-colab/blob/main/lec_demos/lec01/lec01.ipynb\" target=\"_parent\"><img src=\"https://colab.research.google.com/assets/colab-badge.svg\" alt=\"Open In Colab\"/></a>"
      ]
    },
    {
      "cell_type": "markdown",
      "metadata": {
        "id": "sRmCxp91P0Pt"
      },
      "source": [
        "# Allen Institute Visual Behavior 2P Dataset - Plotting Neural Data Demo\n",
        "\n",
        "### Neural data can be complex and can contain many variables within one dataset. How do we make sense of this information in a meaningful way?\n",
        "\n",
        "Today, we will plot the calcium signal from neurons recorded while mice performed a visual discrimination task.\n",
        "\n",
        "\n",
        "This notebook will help us investigate data collected from the [Visual Behavior 2P](https://portal.brain-map.org/explore/circuits/visual-behavior-2p) dataset from the Allen Brain Institute.\n"
      ]
    },
    {
      "cell_type": "markdown",
      "metadata": {
        "id": "m4KPaiNeQBhE"
      },
      "source": [
        "____\n",
        "# Learning Objectives\n",
        "\n",
        "## At the end of this notebook, you'll be able to:\n",
        "* Plot calcium imaging data based on experimental conditions\n",
        "* Examine differences in neuronal responses to familiar and novel images\n",
        "* Understand differences in data format\n",
        "* Understand how to use common Python packages for data visualization\n",
        "* Apply best practices for plotting data\n",
        "______"
      ]
    },
    {
      "cell_type": "markdown",
      "metadata": {
        "id": "xU3zB5EtQlYz"
      },
      "source": [
        "## Before you start - Save this notebook!\n",
        "\n",
        "When you open a new Colab notebook from the WebCampus (like you hopefully did for this one), you cannot save changes. So it's  best to store the Colab notebook in your personal drive `\"File > Save a copy in drive...\"` **before** you do anything else.\n",
        "\n",
        "The file will open in a new tab in your web browser, and it is automatically named something like: \"**lec01.ipynb**\". You can rename this to just the title of the assignment \"**lec01.ipynb**\". Make sure you do keep an informative name (like the name of the assignment) so that you know which files to submit back to WebCampus for grading! More instructions on this are at the end of the notebook.\n",
        "\n",
        "\n",
        "**Where does the notebook get saved in Google Drive?**\n",
        "\n",
        "By default, the notebook will be copied to a folder called “Colab Notebooks” at the root (home directory) of your Google Drive. If you use this for other courses or personal code notebooks, I recommend creating a folder for this course and then moving the assignments AFTER you have completed them.<br>\n",
        "\n",
        "I also recommend you give the folder where you save your notebooks^ a different name than the folder we create below that will store the notebook resources you need each time you work through a course notebook. This includes any data files you will need, links to the images that appear in the notebook, and the files associated with the autograder for answer checking.<br>\n",
        "You should select a name other than '**NS499-DataSci-course-materials**'. <br>\n",
        "This folder gets overwritten with each assignment you work on in the course, so you should **NOT** store your notebooks in this folder that we use for course materials! <br><br>For example, you could create a folder called 'NS499-**notebooks**' or something along those lines. <br>\n",
        "\n",
        "_______"
      ]
    },
    {
      "cell_type": "markdown",
      "metadata": {
        "execution": {},
        "id": "J66B1v7tPOGA"
      },
      "source": [
        "# Allen Institute Visual Behavior 2P dataset overview\n",
        "### This dataset consists of neural activity measured with 2-photon calcium imaging in the visual cortex of mice performing an image change detection task. In this task, mice learn to report changes in stimulus identity by licking a spout to earn a water reward.\n",
        "\n",
        "\n",
        "# Dataset Notes\n",
        "\n",
        "The entire dataset includes neural and behavioral measurements from:\n",
        "\n",
        "*   107 mice\n",
        "*   4787 behavior training sessions\n",
        "*   704 *in vivo* imaging sessions\n",
        "*   50,482 cortical cells\n",
        "\n",
        "The data are openly accessible, and include information about all recorded timeseries, behavioral events, and experimental data in a standard data format: [Neurodata Without Borders (NWB)](https://www.nwb.org/nwb-neurophysiology/).\n",
        "\n"
      ]
    },
    {
      "cell_type": "markdown",
      "metadata": {
        "execution": {},
        "id": "n4NTwDWoPOGD"
      },
      "source": [
        "\n",
        "![](task_image.png)"
      ]
    },
    {
      "cell_type": "markdown",
      "metadata": {
        "execution": {},
        "id": "-6tOr7JiPOGH"
      },
      "source": [
        "##### In some sessions, the mice perform the task with familiar images they have seen many times during training. In other sessions, mice perform the task with novel images.\n",
        "##### During 2-photon imaging sessions, 5% of stimulus presentations are randomly omitted, allowing us to examine the effect of unexpected events on neural activity.\n",
        "##### The same population of cells is imaged over multiple days with varying sensory and behavioral conditions.\n"
      ]
    },
    {
      "cell_type": "markdown",
      "metadata": {
        "id": "qIKeKpgcvfLr"
      },
      "source": [
        "\n",
        "![](experiment_overview.png)"
      ]
    },
    {
      "cell_type": "markdown",
      "metadata": {
        "execution": {},
        "id": "ueF6hDtUPOGQ"
      },
      "source": [
        "##### Multiple cortical areas and depths were measured concurently in each session, at a sample rate of 11Hz.\n",
        "##### In the full dataset, data was collected from excitatory and inhibitory neural populations.\n"
      ]
    },
    {
      "cell_type": "markdown",
      "metadata": {
        "id": "pI2mHvjBvmgE"
      },
      "source": [
        "\n",
        "![](imaging_overview.png)"
      ]
    },
    {
      "cell_type": "markdown",
      "metadata": {
        "execution": {},
        "id": "Tqd381I3POGo"
      },
      "source": [
        "#### This example will focus on the activity of the two inhibitory types - VIP and SST neurons."
      ]
    },
    {
      "cell_type": "markdown",
      "metadata": {
        "execution": {},
        "id": "Dk_3p-OcPOGo"
      },
      "source": [
        "# Setup Steps"
      ]
    },
    {
      "cell_type": "markdown",
      "metadata": {
        "id": "h6TbSJ3wUeeT"
      },
      "source": [
        "## Step 1: Import Data and Files Needed"
      ]
    },
    {
      "cell_type": "code",
      "execution_count": null,
      "metadata": {
        "id": "2W8un0_SUwXS"
      },
      "outputs": [],
      "source": [
        "# Setup and add files needed to access gdrive\n",
        "# If you restart colab, start by re-running this cell first!\n",
        "from google.colab import drive\n",
        "drive.mount('/content/gdrive', force_remount=True)\n",
        "\n",
        "\n",
        "# We make this folder (dir) for all your course materials this semester! You only need to do this in this first notebook.\n",
        "# It will exist in your gdrive for future notebooks and assignments\n",
        "!mkdir -p '/content/gdrive/My Drive/NS499-DataSci-course-materials/'  # Don't change this name! This is where everything gets stored in gdrive, consistent for the semester\n",
        "\n",
        "# These lines clone (copy) all the files you will need from where I store the code+data for the course (github)\n",
        "# Second part of the code copies the files to this location and folder in your own gdrive\n",
        "!git clone https://github.com/tmckim/materials-sp24-colab '/content/gdrive/My Drive/NS499-DataSci-course-materials/materials-sp24-colab/'\n",
        "\n",
        "# Change directory (cd) into the folder where the resources for this lec are stored in gdrive\n",
        "%cd /content/gdrive/MyDrive/NS499-DataSci-course-materials/materials-sp24-colab/lec_demos/lec01/"
      ]
    },
    {
      "cell_type": "markdown",
      "metadata": {
        "id": "ZNi2XorrRNbD"
      },
      "source": [
        "## Step 2: Set up coding environment\n",
        "Each time we start an analysis in Python, we must import the necessary code packages. If you're running this notebook in Colab, the cells below will install packages into your coding environment -- these are *not* installed on your computer.\n",
        "\n",
        "### Import common packages\n",
        "Below, we'll `import` a common selection of packages that will help us analyze and plot our data. We'll also configure the plotting in our notebook.\n",
        "\n",
        "*   This will ensure that our coding environment has [NumPy](https://numpy.org/), [Pandas](https://pandas.pydata.org/), [Matplotlib](https://matplotlib.org/), and [Seaborn](https://seaborn.pydata.org/) installed.\n"
      ]
    },
    {
      "cell_type": "code",
      "execution_count": null,
      "metadata": {
        "colab": {
          "base_uri": "https://localhost:8080/"
        },
        "id": "lP5d3dujRZOz",
        "outputId": "bbfe418b-28ed-4843-dfde-248457a4b173"
      },
      "outputs": [],
      "source": [
        "# If you restart colab, start by re-running this cell first!\n",
        "# Import our plotting package from matplotlib\n",
        "import matplotlib.pyplot as plt\n",
        "\n",
        "# Specify that all plots will happen inline & in high resolution\n",
        "%matplotlib inline\n",
        "%config InlineBackend.figure_format = 'retina'\n",
        "\n",
        "# Import pandas for working with databases\n",
        "import pandas as pd\n",
        "\n",
        "# Import seaborn for plotting adjustments with matplotlib\n",
        "import seaborn as sns\n",
        "\n",
        "# Import numpy\n",
        "import numpy as np\n",
        "\n",
        "# Print statement to confirm\n",
        "print('Packages imported!')\n"
      ]
    },
    {
      "cell_type": "markdown",
      "metadata": {
        "id": "FJDCw2n_iIZ5"
      },
      "source": [
        "# Import the data file into a `pandas` dataframe.\n",
        "\n",
        "(parquet is just another file format)."
      ]
    },
    {
      "cell_type": "code",
      "execution_count": null,
      "metadata": {
        "id": "bwxm9B8aiNKK"
      },
      "outputs": [],
      "source": [
        "# Import data\n",
        "filename = \"allen_visual_behavior_2p_change_detection_familiar_novel_image_sets.parquet\"\n",
        "data = pd.read_parquet(filename)"
      ]
    },
    {
      "cell_type": "markdown",
      "metadata": {
        "execution": {},
        "id": "yBHf1vqHPOGq"
      },
      "source": [
        "## The data is organized as a `pandas` dataframe\n",
        "#### Each row contains all data for a given cell on a given trial\n"
      ]
    },
    {
      "cell_type": "code",
      "execution_count": null,
      "metadata": {
        "colab": {
          "base_uri": "https://localhost:8080/",
          "height": 516
        },
        "execution": {},
        "id": "KLC7S1FKPOGq",
        "outputId": "8d0c67b0-d932-4c59-e47a-dbab82c0c0f4"
      },
      "outputs": [],
      "source": [
        "# Select a random sample of 5 rows to display\n",
        "data.sample(5)"
      ]
    },
    {
      "cell_type": "code",
      "execution_count": null,
      "metadata": {
        "colab": {
          "base_uri": "https://localhost:8080/"
        },
        "id": "zk5Ms6pjVUm3",
        "outputId": "ba415b95-cf31-4885-ccd9-a110b14b3083"
      },
      "outputs": [],
      "source": [
        "# Let's check out all of our column names\n",
        "list(data)\n",
        "\n",
        "# np.sort(list(data)). # if you want them alphabetical instead of the order they appear"
      ]
    },
    {
      "cell_type": "code",
      "execution_count": null,
      "metadata": {
        "colab": {
          "base_uri": "https://localhost:8080/"
        },
        "id": "3Xw-y5HvVZU3",
        "outputId": "dddbc51b-b4f7-4862-fde5-e6b46c419088"
      },
      "outputs": [],
      "source": [
        "# Get info about our data- rows by col #s\n",
        "data.shape"
      ]
    },
    {
      "cell_type": "markdown",
      "metadata": {
        "execution": {},
        "id": "FUFdsuCPPOGr"
      },
      "source": [
        "\n",
        "#Available data includes:\n",
        "*   The cell `trace` aligned to stimulus (or omission) onset in a [-1.25, 1.5] second window around onset time\n",
        "    *   Cell traces are in units of delta F/F, the change in fluorescence relative to baseline\n",
        "*   The `trace_timestamps` for each trial, aligned to stimulus or omission onset\n",
        "*   The `mean_response` on a given trial in a 500ms window after stimulus onset\n",
        "*   The `baseline_response` on a given trial in a 500ms window before stimulus onset\n",
        "*   The `image_name` for each trial. Trials where the stimulus was omitted have `image_name` = `omitted`\n",
        "*   The `image_index` indicates which of the 8 eight images for the session was presented. Should also correspond with `image_name`.\n",
        "*   The `mean_running_speed` in a 500ms window after stimulus onset\n",
        "*   The `mean_pupil_area` in a 500ms window after stimulus onset\n",
        "*   The `response_latency` when the mouse licked after stimulus onset\n",
        "*   Whether or not the trial was `rewarded`\n",
        "*   Whether or not the trial `is_change`\n",
        "*   Whether or not the trial was `omitted`\n",
        "*   Info about `age_in_days` of the animal\n",
        "*   Biological `sex` of the animal\n",
        "\n",
        "\n",
        "#### Cell and session level metadata includes:\n",
        "\n",
        "*   The `stimulus_presentations_id` indicating the trial number within the session\n",
        "*   The `cell_specimen_id` which is the unique identifier for each cell (note that a cell can be imaged in multiple sessions; if that's the case, the same cell_specimen_id appears in multiple sessions)\n",
        "*   The `cre_line` indicating the cell type\n",
        "  *   `Sst-IRES-Cre` labels SST inhibitory cells\n",
        "  *   `Vip-IRES-Cre` labels VIP inhibitory cells\n",
        "  *   `Slc17a7-IRES-Cre` labels excitatory cells (these are excluded for now)\n",
        "*   The `full_genotype` indicates all information about genetic background of the animal\n",
        "*   The `reporter_line` indicates reporter genetic background of animal\n",
        "*   The `driver_line` indicates driver genetic background of animal\n",
        "*   The `indicator` details the calcium flourescence reporter\n",
        "*   The `imaging_depth` indicating the cortical depth where the cell was located\n",
        "*   The `targeted_structure` indicating the cortical area the cell was from\n",
        "*   The `session_type` indicating the session order and image set\n",
        "*   The `exposure_level` which tells you whether the image set was familiar or novel\n",
        "*   The `session_number` corresponds to which familiar and novel imaging context was used\n",
        "*   The `mouse_id` indicating which mouse the cell came from\n",
        "*   The `ophys_session_id` indicating the recording day for that trial\n",
        "*   The `ophys_experiment_id` indicating which imaging plane within the session that the cell came from\n",
        "*   The `ophys_container_id` which links the same imaging plane recorded across multiple sessions. Cells that are imaged across multiple sessions will have the same `cell_specimen_id`\n",
        "*   The `behavior_session_id` which indicates the behavior session code for each animal\n",
        "\n",
        "\n"
      ]
    },
    {
      "cell_type": "markdown",
      "metadata": {
        "execution": {},
        "id": "uBe1mEg3POGr"
      },
      "source": [
        "### More info about our data using `unique`"
      ]
    },
    {
      "cell_type": "code",
      "execution_count": null,
      "metadata": {
        "colab": {
          "base_uri": "https://localhost:8080/"
        },
        "execution": {},
        "id": "y3PtpSAMPOGr",
        "outputId": "b75ca25c-1dd0-4b0c-e845-b968db8b9342"
      },
      "outputs": [],
      "source": [
        "# Image types\n",
        "print('exposure_levels:', data.exposure_level.unique())"
      ]
    },
    {
      "cell_type": "code",
      "execution_count": null,
      "metadata": {
        "colab": {
          "base_uri": "https://localhost:8080/"
        },
        "execution": {},
        "id": "Lrh4QOBbPOGr",
        "outputId": "7c9458b7-2f3a-402e-9a5f-89ec22ac893e"
      },
      "outputs": [],
      "source": [
        "# Same or different image\n",
        "print('stimulus presentations can be changes:', data.is_change.unique())"
      ]
    },
    {
      "cell_type": "code",
      "execution_count": null,
      "metadata": {
        "colab": {
          "base_uri": "https://localhost:8080/"
        },
        "execution": {},
        "id": "w1Wo4R-kPOGs",
        "outputId": "31542d50-8df9-433d-a5df-688ce39d0339"
      },
      "outputs": [],
      "source": [
        "# Omission trials\n",
        "print('stimulus presentations can be omitted:', data.omitted.unique())"
      ]
    },
    {
      "cell_type": "code",
      "execution_count": null,
      "metadata": {
        "colab": {
          "base_uri": "https://localhost:8080/"
        },
        "execution": {},
        "id": "VHpTHsbwPOGs",
        "outputId": "8d25e246-9c27-431d-97df-e320fff3dbaa"
      },
      "outputs": [],
      "source": [
        "# Cre lines\n",
        "print('cre lines (cell types) included in this dataset are:', data.cre_line.unique())"
      ]
    },
    {
      "cell_type": "code",
      "execution_count": null,
      "metadata": {
        "colab": {
          "base_uri": "https://localhost:8080/"
        },
        "execution": {},
        "id": "C_pAL4e6POGs",
        "outputId": "aa77f6cb-3d68-45a1-ad43-b683bc4474af"
      },
      "outputs": [],
      "source": [
        "# Mouse count\n",
        "print('there are', len(data.mouse_id.unique()), 'mice in this dataset')"
      ]
    },
    {
      "cell_type": "code",
      "execution_count": null,
      "metadata": {
        "colab": {
          "base_uri": "https://localhost:8080/"
        },
        "execution": {},
        "id": "BPSNMsumPOGs",
        "outputId": "44b96a35-72a9-47ad-ccf6-a700c5ca4115"
      },
      "outputs": [],
      "source": [
        "# Session count\n",
        "print('there are', len(data.ophys_session_id.unique()), 'sessions in this dataset')"
      ]
    },
    {
      "cell_type": "code",
      "execution_count": null,
      "metadata": {
        "colab": {
          "base_uri": "https://localhost:8080/"
        },
        "id": "TGh5JjWWWLzL",
        "outputId": "77c478ba-0b3c-4caf-a8c3-95a58f26aef6"
      },
      "outputs": [],
      "source": [
        "# Cell count\n",
        "print('there are', len(data.cell_specimen_id.unique()), 'cells in this dataset')"
      ]
    },
    {
      "cell_type": "code",
      "execution_count": null,
      "metadata": {
        "colab": {
          "base_uri": "https://localhost:8080/"
        },
        "id": "OKfzZe-eXLxR",
        "outputId": "f58b8498-874d-44ab-bf76-d48f222cc181"
      },
      "outputs": [],
      "source": [
        "# Female count\n",
        "females = data[(data.sex == 'F')]\n",
        "print('there are', len(females.mouse_id.unique()), 'females in this dataset')"
      ]
    },
    {
      "cell_type": "code",
      "execution_count": null,
      "metadata": {
        "colab": {
          "base_uri": "https://localhost:8080/"
        },
        "id": "1Y27ZoKhWYJL",
        "outputId": "6541e4f2-d686-4a5b-a4fc-4383a404560e"
      },
      "outputs": [],
      "source": [
        "# Male count\n",
        "males = data[(data.sex == 'F')]\n",
        "print('there are', len(males.mouse_id.unique()), 'males in this dataset')"
      ]
    },
    {
      "cell_type": "code",
      "execution_count": null,
      "metadata": {
        "colab": {
          "base_uri": "https://localhost:8080/"
        },
        "id": "c1_TY-oZf7R3",
        "outputId": "52f9c34c-d55c-4813-8030-739b4d207f1b"
      },
      "outputs": [],
      "source": [
        "# Brain region(s) info\n",
        "print('the brain region(s) in this dataset are:', data.targeted_structure.unique())\n"
      ]
    },
    {
      "cell_type": "markdown",
      "metadata": {
        "execution": {},
        "id": "_L-cUGHRPOGs"
      },
      "source": [
        "\n",
        "# How are VIP and SST cells affected by stimulus novelty?"
      ]
    },
    {
      "cell_type": "markdown",
      "metadata": {
        "execution": {},
        "id": "Mf1efpZWPOGs"
      },
      "source": [
        "### Plot the population average change response for familiar and novel images for each cre line"
      ]
    },
    {
      "cell_type": "markdown",
      "metadata": {
        "execution": {},
        "id": "wrboYdozPOGt"
      },
      "source": [
        "#### **Step 1**: Get trials where the image identity changed, for SST and VIP cells"
      ]
    },
    {
      "cell_type": "code",
      "execution_count": null,
      "metadata": {
        "execution": {},
        "id": "oYUIwT-ZPOGt"
      },
      "outputs": [],
      "source": [
        "sst_data = data[(data.cre_line == 'Sst-IRES-Cre')&(data.is_change == True)]\n",
        "vip_data = data[(data.cre_line == 'Vip-IRES-Cre')&(data.is_change == True)]"
      ]
    },
    {
      "cell_type": "code",
      "execution_count": null,
      "metadata": {
        "colab": {
          "base_uri": "https://localhost:8080/"
        },
        "id": "gN30jEoCd7Lz",
        "outputId": "af23f87b-228d-4f31-fbcb-52dcfc122a56"
      },
      "outputs": [],
      "source": [
        "sst_data.shape"
      ]
    },
    {
      "cell_type": "code",
      "execution_count": null,
      "metadata": {
        "colab": {
          "base_uri": "https://localhost:8080/"
        },
        "id": "KtyMkvv6d9nc",
        "outputId": "f58fe6f5-3f3c-4655-9676-53d4ba60bf56"
      },
      "outputs": [],
      "source": [
        "vip_data.shape"
      ]
    },
    {
      "cell_type": "markdown",
      "metadata": {
        "execution": {},
        "id": "4gQxrYuZPOGt"
      },
      "source": [
        "#### **Step 2**: Plot the population average change response of SST cells for familiar and novel images"
      ]
    },
    {
      "cell_type": "markdown",
      "metadata": {
        "id": "qduBb1kQDXo0"
      },
      "source": [
        "First, let's think about what data we need from the table. In this case, we want to plot the change in calcium flourescence (y-axis) over time (x-axis). <br>\n",
        "The two columns with this info are: <br>\n",
        "`trace`<br>\n",
        "`trace_timestamps`"
      ]
    },
    {
      "cell_type": "markdown",
      "metadata": {
        "id": "-O3D5NZ1DwPP"
      },
      "source": [
        "Let's take a look at this data before we plot."
      ]
    },
    {
      "cell_type": "code",
      "execution_count": null,
      "metadata": {
        "colab": {
          "base_uri": "https://localhost:8080/"
        },
        "id": "0V39rFEODzfm",
        "outputId": "81168efb-edd3-4ddb-a3c8-d03883d4c90c"
      },
      "outputs": [],
      "source": [
        "# trace data\n",
        "trace_sst = sst_data.trace\n",
        "trace_sst"
      ]
    },
    {
      "cell_type": "code",
      "execution_count": null,
      "metadata": {
        "colab": {
          "base_uri": "https://localhost:8080/"
        },
        "id": "PB0HVjAhervJ",
        "outputId": "6bfc8dcf-3acd-4d31-ba63-fd570a121502"
      },
      "outputs": [],
      "source": [
        "# timestamps- aligned to stimulus onset or omission\n",
        "timestamps_sst = sst_data.trace_timestamps\n",
        "timestamps_sst"
      ]
    },
    {
      "cell_type": "markdown",
      "metadata": {
        "id": "fCVd1j5RFe8D"
      },
      "source": [
        "Now that we know what these look like, we need to figure out how to incorporate them into a plot. We will first use `matplotlib`, which we imported as `plt`."
      ]
    },
    {
      "cell_type": "code",
      "execution_count": null,
      "metadata": {
        "colab": {
          "base_uri": "https://localhost:8080/"
        },
        "id": "g_brdDHLFrNh",
        "outputId": "a3c8e48e-a486-4164-cc4a-2b91bddb2d2f"
      },
      "outputs": [],
      "source": [
        "# Notice that all the timestamps are the same- they should be!\n",
        "# Everything was aligned (in time) for us, so we only need this set of values once for our x-axis\n",
        "# We reference the column from the dataset that we want (trace_timestamps), and use .values from pandas to access the values in the first one\n",
        "timestamps = sst_data.trace_timestamps.values[0]\n",
        "timestamps"
      ]
    },
    {
      "cell_type": "code",
      "execution_count": null,
      "metadata": {
        "id": "fhsN11I1Ge1G"
      },
      "outputs": [],
      "source": [
        "# Now we want to plot the y-values for each image condition- familiar and novel\n",
        "fam_sst = sst_data[sst_data.exposure_level=='familiar'].trace.values\n",
        "nov_sst = sst_data[sst_data.exposure_level=='novel'].trace.values"
      ]
    },
    {
      "cell_type": "code",
      "execution_count": null,
      "metadata": {
        "colab": {
          "base_uri": "https://localhost:8080/"
        },
        "id": "9brLMd-xhujx",
        "outputId": "705d5175-b9e4-4974-d67d-1da5c8e9d5a9"
      },
      "outputs": [],
      "source": [
        "fam_sst"
      ]
    },
    {
      "cell_type": "code",
      "execution_count": null,
      "metadata": {
        "colab": {
          "base_uri": "https://localhost:8080/",
          "height": 471
        },
        "id": "-FjdR97uGy_a",
        "outputId": "1533fdd0-ba35-44f5-9a36-8355794fbb6f"
      },
      "outputs": [],
      "source": [
        "# Plotting population average (all cells) SST response for familiar and novel images\n",
        "plt.plot(timestamps, np.mean(fam_sst), label='familiar')\n",
        "plt.plot(timestamps, np.mean(nov_sst), label='novel')\n",
        "\n",
        "\n",
        "# Plot aesthetics\n",
        "plt.title('SST population average')\n",
        "plt.xlabel('Time after change (sec)')\n",
        "plt.ylabel('dF/F')\n",
        "plt.legend()\n",
        "plt.show()"
      ]
    },
    {
      "cell_type": "code",
      "execution_count": null,
      "metadata": {
        "colab": {
          "base_uri": "https://localhost:8080/",
          "height": 471
        },
        "execution": {},
        "id": "fiwCd9vdPOGt",
        "outputId": "b8ff48ae-8958-4ba8-a85c-2a36b2156936"
      },
      "outputs": [],
      "source": [
        "# Plotting code will generate the same plot as above, just more advanced using loop\n",
        "timestamps = sst_data.trace_timestamps.values[0]\n",
        "\n",
        "# Here we can loop through the unique levels of exposure (familiar and novel) to plot each\n",
        "for exposure_level in sst_data.exposure_level.unique():\n",
        "  traces = sst_data[sst_data.exposure_level==exposure_level].trace.values\n",
        "  plt.plot(timestamps, np.mean(traces), label=exposure_level)\n",
        "\n",
        "# Plot aesthetics\n",
        "plt.title('SST population average')\n",
        "plt.xlabel('Time after change (sec)')\n",
        "plt.ylabel('dF/F')\n",
        "plt.legend()\n",
        "plt.show()"
      ]
    },
    {
      "cell_type": "markdown",
      "metadata": {
        "execution": {},
        "id": "AhFtI-WZPOGt"
      },
      "source": [
        "#### **Step 3**: Plot the population average change response of VIP cells for familiar and novel images"
      ]
    },
    {
      "cell_type": "markdown",
      "metadata": {
        "id": "STvvJ8daS6xx"
      },
      "source": [
        "Similar to above, but now with VIP data instead of SST"
      ]
    },
    {
      "cell_type": "code",
      "execution_count": null,
      "metadata": {
        "colab": {
          "base_uri": "https://localhost:8080/"
        },
        "id": "Za1dFIqiTCel",
        "outputId": "f18c9104-c191-4036-8261-75c863a4c2ae"
      },
      "outputs": [],
      "source": [
        "# Notice that all the timestamps are the same- they should be!\n",
        "# Everything was aligned (in time) for us, so we only need this set of values once for our x-axis\n",
        "# We reference the column from the dataset that we want (trace_timestamps), and use .values from pandas to access the values in the first one\n",
        "timestamps_vip = vip_data.trace_timestamps.values[0]\n",
        "timestamps_vip"
      ]
    },
    {
      "cell_type": "code",
      "execution_count": null,
      "metadata": {
        "id": "Kc_cpfeuTGKM"
      },
      "outputs": [],
      "source": [
        "# Now we want to plot the y-values for each image condition- familiar and novel\n",
        "fam_vip = vip_data[vip_data.exposure_level=='familiar'].trace.values\n",
        "nov_vip = vip_data[vip_data.exposure_level=='novel'].trace.values"
      ]
    },
    {
      "cell_type": "code",
      "execution_count": null,
      "metadata": {
        "colab": {
          "base_uri": "https://localhost:8080/",
          "height": 471
        },
        "id": "9ACZZGxFTMNz",
        "outputId": "0ca79fa0-3b74-4317-9e60-439fb5e23b22"
      },
      "outputs": [],
      "source": [
        "# Plotting population average (all cells) VIP response for familiar and novel images\n",
        "plt.plot(timestamps_vip, np.mean(fam_vip), label='familiar')\n",
        "plt.plot(timestamps_vip, np.mean(nov_vip), label='novel')\n",
        "\n",
        "\n",
        "# Plot aesthetics\n",
        "plt.title('VIP population average')\n",
        "plt.xlabel('Time after change (sec)')\n",
        "plt.ylabel('dF/F')\n",
        "plt.legend()\n",
        "plt.show()"
      ]
    },
    {
      "cell_type": "code",
      "execution_count": null,
      "metadata": {
        "colab": {
          "base_uri": "https://localhost:8080/",
          "height": 471
        },
        "execution": {},
        "id": "znfU_SIgPOGt",
        "outputId": "0430eafb-b8a9-4a75-fc81-14b407925620"
      },
      "outputs": [],
      "source": [
        "# Advanced with a loop for the conditions (same plot as above though)\n",
        "\n",
        "timestamps = vip_data.trace_timestamps.values[0]\n",
        "\n",
        "# Here we can loop through the unique levels of exposure (familiar and novel) to plot each\n",
        "for exposure_level in vip_data.exposure_level.unique():\n",
        "  traces = vip_data[vip_data.exposure_level==exposure_level].trace.values\n",
        "  plt.plot(timestamps, np.mean(traces), label=exposure_level)\n",
        "\n",
        "# Plot aesthetics\n",
        "plt.title('VIP population average')\n",
        "plt.xlabel('time after change (sec)')\n",
        "plt.ylabel('dF/F')\n",
        "plt.legend()\n",
        "plt.show()"
      ]
    },
    {
      "cell_type": "markdown",
      "metadata": {
        "execution": {},
        "id": "DMXpenTVPOGt"
      },
      "source": [
        "### How do we find cells that were imaged across multiple sessions? How do single cells change depending on the image set?"
      ]
    },
    {
      "cell_type": "code",
      "execution_count": null,
      "metadata": {
        "colab": {
          "base_uri": "https://localhost:8080/"
        },
        "execution": {},
        "id": "W0N6y8-QPOGt",
        "outputId": "0f94c9aa-5574-416f-ebdf-0bbeb06f94fd"
      },
      "outputs": [],
      "source": [
        "# which cells are in more than one session? make a list\n",
        "cells_in_multiple_sessions = []\n",
        "\n",
        "for cell_specimen_id in vip_data.cell_specimen_id.unique():\n",
        "  if len(vip_data[vip_data.cell_specimen_id == cell_specimen_id].ophys_session_id.unique()) > 1:\n",
        "    cells_in_multiple_sessions.append(cell_specimen_id)\n",
        "\n",
        "print(cells_in_multiple_sessions)"
      ]
    },
    {
      "cell_type": "code",
      "execution_count": null,
      "metadata": {
        "colab": {
          "base_uri": "https://localhost:8080/"
        },
        "id": "uSM7OQ5JUNC1",
        "outputId": "24fdf278-02ac-43c0-9cca-a4ad50cc078c"
      },
      "outputs": [],
      "source": [
        "# Get list of unique\n",
        "vip_data.cell_specimen_id.unique()"
      ]
    },
    {
      "cell_type": "code",
      "execution_count": null,
      "metadata": {
        "colab": {
          "base_uri": "https://localhost:8080/"
        },
        "id": "3Qt2oSlTVDha",
        "outputId": "1dc7ac35-c691-4f4f-98fd-857210cfda48"
      },
      "outputs": [],
      "source": [
        "# how many cells are there?\n",
        "len(cells_in_multiple_sessions)"
      ]
    },
    {
      "cell_type": "code",
      "execution_count": null,
      "metadata": {
        "id": "6ZVn16t6k4eu"
      },
      "outputs": [],
      "source": [
        "# Test the first cell id from the list (note is not in the multiple session list)\n",
        "cell_specimen_id = 1086492391"
      ]
    },
    {
      "cell_type": "code",
      "execution_count": null,
      "metadata": {
        "colab": {
          "base_uri": "https://localhost:8080/"
        },
        "id": "ycm-gFstU2Ct",
        "outputId": "570d7d5b-196c-4140-cb76-7223fc37243f"
      },
      "outputs": [],
      "source": [
        "# See what appears first before evaluating the length and >1\n",
        "vip_data[vip_data.cell_specimen_id == cell_specimen_id].ophys_session_id.unique()"
      ]
    },
    {
      "cell_type": "code",
      "execution_count": null,
      "metadata": {
        "colab": {
          "base_uri": "https://localhost:8080/"
        },
        "id": "_Clfe1BGURjU",
        "outputId": "fecade3d-f5b1-426b-f597-0da4d4f5eafa"
      },
      "outputs": [],
      "source": [
        "# Now put it all together- does the output make sense?\n",
        "len(vip_data[vip_data.cell_specimen_id == cell_specimen_id].ophys_session_id.unique()) > 1"
      ]
    },
    {
      "cell_type": "code",
      "execution_count": null,
      "metadata": {
        "id": "BDfkH0MplCxu"
      },
      "outputs": [],
      "source": [
        "# Now pick the first cell id from the multiple session list\n",
        "cell_specimen_id = 1086495458"
      ]
    },
    {
      "cell_type": "code",
      "execution_count": null,
      "metadata": {
        "colab": {
          "base_uri": "https://localhost:8080/"
        },
        "id": "C4W2TYcNUf1q",
        "outputId": "0a2a3b30-facc-4289-a6aa-9cd78a697e31"
      },
      "outputs": [],
      "source": [
        "# Find the data for the single cell\n",
        "# Find the unique entries of ophys_session_id\n",
        "# If the length of this is great than 1, it was a repeat cell\n",
        "vip_data[vip_data.cell_specimen_id == cell_specimen_id].ophys_session_id.unique()"
      ]
    },
    {
      "cell_type": "code",
      "execution_count": null,
      "metadata": {
        "colab": {
          "base_uri": "https://localhost:8080/"
        },
        "id": "S1VhOUO4UaYh",
        "outputId": "1a064ac2-0693-4cd9-b22b-0447d3420a4d"
      },
      "outputs": [],
      "source": [
        "# Now put it all together- does the output make sense?\n",
        "len(vip_data[vip_data.cell_specimen_id == cell_specimen_id].ophys_session_id.unique()) > 1"
      ]
    },
    {
      "cell_type": "markdown",
      "metadata": {
        "id": "NSWU3mO1lXIl"
      },
      "source": [
        "#### Plot and review the data from an example cell in the multiple sessions list"
      ]
    },
    {
      "cell_type": "code",
      "execution_count": null,
      "metadata": {
        "colab": {
          "base_uri": "https://localhost:8080/",
          "height": 471
        },
        "execution": {},
        "id": "-WWJSEA6POGu",
        "outputId": "0a08d69a-cc34-4880-d36b-6f8c21112990"
      },
      "outputs": [],
      "source": [
        "# this one looks like the population average\n",
        "example_cell_specimen_id = cells_in_multiple_sessions[15]\n",
        "\n",
        "# Select the data for our cell of interest\n",
        "cell_data = vip_data[vip_data.cell_specimen_id == example_cell_specimen_id]\n",
        "timestamps = cell_data.trace_timestamps.values[0]\n",
        "\n",
        "# Use a loop to plot for both exposure levels (familiar and novel)\n",
        "for exposure_level in cell_data.exposure_level.unique():\n",
        "  mean_trace = cell_data[cell_data.exposure_level == exposure_level].trace.mean()\n",
        "  plt.plot(timestamps, mean_trace, label=exposure_level)\n",
        "\n",
        "# Plot aesthetics\n",
        "plt.title(f'cell_specimen_id:{example_cell_specimen_id}') # new - formatted string literal - don't need to know this, it's extra\n",
        "plt.xlabel('time after change (sec)')\n",
        "plt.ylabel('dF/F')\n",
        "plt.legend()\n",
        "plt.show()"
      ]
    },
    {
      "cell_type": "code",
      "execution_count": null,
      "metadata": {
        "colab": {
          "base_uri": "https://localhost:8080/",
          "height": 471
        },
        "execution": {},
        "id": "cX3m6smtPOGu",
        "outputId": "fd165f03-9388-441c-d888-6380930ad64a"
      },
      "outputs": [],
      "source": [
        "# this one does *not* look like the population average\n",
        "example_cell_specimen_id = cells_in_multiple_sessions[0]\n",
        "\n",
        "# Select the data for our cell of interest\n",
        "cell_data = vip_data[vip_data.cell_specimen_id==example_cell_specimen_id]\n",
        "timestamps = cell_data.trace_timestamps.values[0]\n",
        "\n",
        "# Use a loop to plot for both exposure levels (familiar and novel)\n",
        "for exposure_level in cell_data.exposure_level.unique():\n",
        "  mean_trace = cell_data[cell_data.exposure_level == exposure_level].trace.mean()\n",
        "  plt.plot(timestamps, mean_trace, label=exposure_level)\n",
        "\n",
        "# Plot aesthetics\n",
        "plt.title(f'cell_specimen_id:{example_cell_specimen_id}')\n",
        "plt.xlabel('time after change (sec)')\n",
        "plt.ylabel('dF/F')\n",
        "plt.legend()\n",
        "plt.show()"
      ]
    },
    {
      "cell_type": "markdown",
      "metadata": {
        "execution": {},
        "id": "B6ZthRJ6POGu"
      },
      "source": [
        "### What about trial to trial variability? How does the response of a single cell vary across a session?\n",
        "\n"
      ]
    },
    {
      "cell_type": "code",
      "execution_count": null,
      "metadata": {
        "colab": {
          "base_uri": "https://localhost:8080/"
        },
        "id": "ivdY-l8-V1MY",
        "outputId": "f6f57896-4622-4f90-c54a-9de67ef068ef"
      },
      "outputs": [],
      "source": [
        "# Pre-selected one- feel free to choose another\n",
        "example_cell_specimen_id = vip_data[vip_data.exposure_level=='novel'].cell_specimen_id.unique()[7]\n",
        "example_cell_specimen_id"
      ]
    },
    {
      "cell_type": "code",
      "execution_count": null,
      "metadata": {
        "colab": {
          "base_uri": "https://localhost:8080/",
          "height": 790
        },
        "id": "zlRIGwwZng-D",
        "outputId": "84b4616c-9cd6-4742-e76e-cce2f73f3506"
      },
      "outputs": [],
      "source": [
        "# Get all the data from the larger table for this cell id we chose above\n",
        "cell_data = vip_data[vip_data.cell_specimen_id == example_cell_specimen_id]\n",
        "cell_data"
      ]
    },
    {
      "cell_type": "code",
      "execution_count": null,
      "metadata": {
        "colab": {
          "base_uri": "https://localhost:8080/"
        },
        "id": "7bVIh5Tpnsy8",
        "outputId": "3c09e009-6185-4c46-e7e0-a08ac013d9f5"
      },
      "outputs": [],
      "source": [
        "# What images were shown? Need to know how many in the list to choose one below\n",
        "cell_data.image_name.unique()"
      ]
    },
    {
      "cell_type": "code",
      "execution_count": null,
      "metadata": {
        "colab": {
          "base_uri": "https://localhost:8080/",
          "height": 471
        },
        "execution": {},
        "id": "HF3Ke4p7POGu",
        "outputId": "c3284e61-6643-4681-de6a-0f234840509b"
      },
      "outputs": [],
      "source": [
        "# pick a cell from a novel image session\n",
        "example_cell_specimen_id = vip_data[vip_data.exposure_level=='novel'].cell_specimen_id.unique()[7]\n",
        "\n",
        "# Select the data for our cell of interest\n",
        "cell_data = vip_data[vip_data.cell_specimen_id == example_cell_specimen_id]\n",
        "cell_data = cell_data[(cell_data.image_name == cell_data.image_name.unique()[2])] # pick one unique image from the 8- im061\n",
        "\n",
        "# This controls the color options\n",
        "offset = 1 / len(cell_data.stimulus_presentations_id.unique())\n",
        "color = [0, 0, 0]\n",
        "\n",
        "# Loop for plotting all of the data for this cell\n",
        "for i, stimulus_presentations_id in enumerate(cell_data.stimulus_presentations_id.unique()):\n",
        "  trial_data = cell_data[cell_data.stimulus_presentations_id == stimulus_presentations_id]\n",
        "  timestamps = trial_data.trace_timestamps.values[0]\n",
        "  trace = trial_data.trace.values[0]\n",
        "  plt.plot(timestamps, trace, color = color)\n",
        "  color = [color[0] + offset, color[1] + offset, color[2] + offset]\n",
        "\n",
        "# Plot aesthetics\n",
        "plt.title(f'cell_specimen_id:{example_cell_specimen_id}')\n",
        "plt.xlabel('time after change (sec)')\n",
        "plt.ylabel('dF/F')\n",
        "plt.show()"
      ]
    },
    {
      "cell_type": "markdown",
      "metadata": {
        "execution": {},
        "id": "4tgKV2qpPOGy"
      },
      "source": [
        "# How do SST and VIP cells respond when stimuli are omitted?"
      ]
    },
    {
      "cell_type": "markdown",
      "metadata": {
        "execution": {},
        "id": "LhbnjFrKPOGy"
      },
      "source": [
        "### Plot the population average response to stimulus omission"
      ]
    },
    {
      "cell_type": "markdown",
      "metadata": {
        "execution": {},
        "id": "C5GSTm4rPOGy"
      },
      "source": [
        "#### **Step 1**: Get trials where the stimulus was omitted, for SST and VIP cells"
      ]
    },
    {
      "cell_type": "code",
      "execution_count": null,
      "metadata": {
        "execution": {},
        "id": "tIYxM4NGPOGy"
      },
      "outputs": [],
      "source": [
        "sst_data_omit = data[(data.cre_line == 'Sst-IRES-Cre')&(data.omitted == True)]\n",
        "vip_data_omit = data[(data.cre_line == 'Vip-IRES-Cre')&(data.omitted == True)]"
      ]
    },
    {
      "cell_type": "markdown",
      "metadata": {
        "execution": {},
        "id": "5tHMRXWkPOGy"
      },
      "source": [
        "Plot the population average omission response of SST cells for familiar and novel images"
      ]
    },
    {
      "cell_type": "code",
      "execution_count": null,
      "metadata": {
        "colab": {
          "base_uri": "https://localhost:8080/",
          "height": 471
        },
        "execution": {},
        "id": "EHMwkmdhPOGy",
        "outputId": "bfdebb00-6ebb-41fe-f5e3-6bd0891f06f7"
      },
      "outputs": [],
      "source": [
        "# Get the x-axis values for the time\n",
        "timestamps = sst_data_omit.trace_timestamps.values[0] # trace timestamps are relative to stimulus onset\n",
        "\n",
        "# Get the y-axis values of dF/F to plot for each exposure level (novel and familiar)\n",
        "for exposure_level in sst_data_omit.exposure_level.unique():\n",
        "  traces = sst_data_omit[sst_data_omit.exposure_level == exposure_level].trace.values\n",
        "  plt.plot(timestamps, np.mean(traces), label=exposure_level)\n",
        "\n",
        "# Plot aesthetics\n",
        "plt.title('SST population average')\n",
        "plt.xlabel('time after omission (sec)')\n",
        "plt.ylabel('dF/F')\n",
        "plt.legend()\n",
        "plt.show()"
      ]
    },
    {
      "cell_type": "markdown",
      "metadata": {
        "execution": {},
        "id": "Cfx0GQdfPOGz"
      },
      "source": [
        "Plot population average omission response of VIP cells for familiar and novel images"
      ]
    },
    {
      "cell_type": "code",
      "execution_count": null,
      "metadata": {
        "colab": {
          "base_uri": "https://localhost:8080/",
          "height": 471
        },
        "execution": {},
        "id": "BRzm5X8CPOGz",
        "outputId": "736a69eb-2ec0-43ab-efc0-fb6781b51982"
      },
      "outputs": [],
      "source": [
        "# Get the x-axis values for the time\n",
        "timestamps = vip_data_omit.trace_timestamps.values[0]\n",
        "\n",
        "# Get the y-axis values of dF/F to plot for each exposure level (novela and familiar)\n",
        "for exposure_level in vip_data_omit.exposure_level.unique():\n",
        "  traces = vip_data_omit[vip_data_omit.exposure_level == exposure_level].trace.values\n",
        "  plt.plot(timestamps, np.mean(traces), label=exposure_level)\n",
        "\n",
        "# Plot aesthetics\n",
        "plt.title('VIP population average')\n",
        "plt.xlabel('time after omission (sec)')\n",
        "plt.ylabel('dF/F')\n",
        "plt.legend()\n",
        "plt.show()"
      ]
    },
    {
      "cell_type": "markdown",
      "metadata": {
        "execution": {},
        "id": "64FjIhShPOGz"
      },
      "source": [
        "Additional questions you could ask about and plot from this dataset: <br><br>\n",
        "1.   Does the omission response correlate with behavior?\n",
        "\n",
        "2.   How do the dynamics of image and omission evoked activity change over time during the novel image session?"
      ]
    },
    {
      "cell_type": "markdown",
      "metadata": {
        "id": "cCVrrPwgpg6t"
      },
      "source": [
        "# Comparing data format: plotting with long format data\n",
        "\n"
      ]
    },
    {
      "cell_type": "markdown",
      "metadata": {
        "id": "Hlb7FkxBpLp9"
      },
      "source": [
        "<u> **Note on data format**</u>: This dataset is in wide format, where each row would represent a different `cell_id `and all data for that cell would be contained in the columns of a single row. See a smaller image of the table we've been working with below, focusing on the 'dff' column (which has multiple values in it) in the example image below for comparison:\n",
        "\n",
        "![](data_wide.png)"
      ]
    },
    {
      "cell_type": "markdown",
      "metadata": {
        "id": "CDNecRknpZkr"
      },
      "source": [
        "## Tidy Data\n",
        "However, sometimes datasets can be easier to work with in long-format, or `tidy` data. <br>\n",
        "To demonstrate this, let's open another file for a **single mouse** that has been reformatted already."
      ]
    },
    {
      "cell_type": "code",
      "execution_count": null,
      "metadata": {
        "colab": {
          "base_uri": "https://localhost:8080/",
          "height": 423
        },
        "id": "TVUMnWSimNnE",
        "outputId": "0ba3496f-3dfc-439b-e7ce-7cbe477f7a75"
      },
      "outputs": [],
      "source": [
        "# Load the data file - SST_data.csv\n",
        "single_data = pd.read_csv('SST_data.csv')\n",
        "\n",
        "# Show the data for review\n",
        "single_data"
      ]
    },
    {
      "cell_type": "markdown",
      "metadata": {
        "id": "lHuNznCPmVTs"
      },
      "source": [
        "You can see that in this dataframe, `trial_id` is repeated across multiple rows of the dataset. So, a single `cell_id` is repeated across the rows. This is most similar to the data we've already been working with in this course."
      ]
    },
    {
      "cell_type": "markdown",
      "metadata": {
        "id": "M1gBxylXn1Wl"
      },
      "source": [
        "Review variables (columns) in the dataset. They are similar and a smaller subset from the ones above, with some names just slightly adjusted.\n",
        "\n",
        "`dF_F` calcium imaging signal (baseline corrected, normalized fluorescence) <br>\n",
        "`time_from_stim` is the timepoint of each row of data, aligned to an image presentation. Onset = time zero, and the times here span a (-1.25, 1.5) sec window  <br>\n",
        "`cell_id` id number for the cell <br>\n",
        "`exposure` whether the image for a trial was familiar or novel  <br>\n",
        "`trial_id` each image presentation is a separate trial <br>\n",
        "`omitted` whether a trial had an omitted image <br>\n",
        "`pupil_area` measured 500ms after stimulus presntation <br>\n",
        "`mean_response` average dF/F over the 500ms following image presentation <br>"
      ]
    },
    {
      "cell_type": "markdown",
      "metadata": {
        "id": "eIMlTxlMN0bh"
      },
      "source": [
        "Now, let's take a closer look at the data and do some preliminary exploration to understand what we are working with.\n",
        "\n",
        "Let's see how many cells are in the dataset."
      ]
    },
    {
      "cell_type": "code",
      "execution_count": null,
      "metadata": {
        "colab": {
          "base_uri": "https://localhost:8080/"
        },
        "id": "gEkwbkiDnMtw",
        "outputId": "895cd7b7-80a1-405a-ba8a-43d8a9885df0"
      },
      "outputs": [],
      "source": [
        "# Find the unique entries from the cell_id column of the dataset\n",
        "# Review: index the dataframe using .COLUMN_NAME to refer to the column that you want\n",
        "len(single_data.cell_id.unique())"
      ]
    },
    {
      "cell_type": "code",
      "execution_count": null,
      "metadata": {
        "colab": {
          "base_uri": "https://localhost:8080/"
        },
        "id": "RY7H7HAlnjUN",
        "outputId": "4d1c00e1-f314-4607-987d-a982b3a4a0ad"
      },
      "outputs": [],
      "source": [
        "# Find the unique entries of trial IDs\n",
        "single_data.trial_id.unique()"
      ]
    },
    {
      "cell_type": "markdown",
      "metadata": {
        "id": "ucRsUE1BnXAH"
      },
      "source": [
        "Let's look at a single `trial_id` and single `cell_id` combination."
      ]
    },
    {
      "cell_type": "code",
      "execution_count": null,
      "metadata": {
        "colab": {
          "base_uri": "https://localhost:8080/",
          "height": 423
        },
        "id": "9ASY3Wqpnb9G",
        "outputId": "07141d27-785d-4032-e344-2171c9b633b0"
      },
      "outputs": [],
      "source": [
        "# select which trial id and cell id from the dataframe\n",
        "singlecell_trial_data = single_data[(single_data.trial_id == 24) & (single_data.cell_id == 1086500633)]\n",
        "\n",
        "# Display the data\n",
        "singlecell_trial_data"
      ]
    },
    {
      "cell_type": "markdown",
      "metadata": {
        "id": "EGRcdh4boIzq"
      },
      "source": [
        "## Plotting with Seaborn package"
      ]
    },
    {
      "cell_type": "markdown",
      "metadata": {
        "id": "S2oEfQpKoHIS"
      },
      "source": [
        "### Step 1: Plotting separate conditions with Seaborn\n",
        "Recall that we imported **seaborn** as `sns`. First, we will use a function called `sns.lineplot`. We will use this to plot our calcium signal based on familiar and novel trials. **Seaborn** allows us to do this by using `hue` in combination with the name of our variable of interest. <br>\n",
        "\n",
        "Read what this does and refer to the examples in the `sns.lineplot` [documentation](https://seaborn.pydata.org/generated/seaborn.lineplot.html#seaborn.lineplot).\n"
      ]
    },
    {
      "cell_type": "markdown",
      "metadata": {
        "id": "kFIlYziuohFg"
      },
      "source": [
        "#### 1.1 Lineplot\n",
        "Let's plot the data like we did above, but remember this is now trials averaged for just a single mouse.\n",
        "\n",
        "\n",
        "Note: This may take a few seconds, compared to how long it took for the previous plotting code to run above. There are some statistics being computed in the background, so it takes a bit longer (~10 secs) for the plot to be displayed."
      ]
    },
    {
      "cell_type": "code",
      "execution_count": null,
      "metadata": {
        "colab": {
          "base_uri": "https://localhost:8080/",
          "height": 450
        },
        "id": "nCt_YaLqoYRy",
        "outputId": "671e5b12-f224-4fff-b7a2-113c5f488943"
      },
      "outputs": [],
      "source": [
        "# Lineplot code\n",
        "sns.lineplot(data = single_data, x = 'time_from_stim', y = 'dF_F', hue = 'exposure');\n"
      ]
    },
    {
      "cell_type": "markdown",
      "metadata": {
        "id": "xWY7KKyAos7x"
      },
      "source": [
        "Let's review the plot above. How does this output compare to what was produced when we plotted with **matplotlib**?\n",
        ">Which specific aspects of the plot were added automatically?"
      ]
    },
    {
      "cell_type": "markdown",
      "metadata": {
        "id": "ekOgQcCvo5fZ"
      },
      "source": [
        "#### 1.2 Relplot\n",
        "Now, let's plot again, but using a different function within **seaborn** to compare. <br>\n",
        "Review the documentation on `relplot` [here](https://seaborn.pydata.org/tutorial/relational.html#visualizing-statistical-relationships). <br>\n",
        "Read the first section **[Visualizaing statistical relationships](https://seaborn.pydata.org/tutorial/relational.html#visualizing-statistical-relationships)**, and then scroll below (you can skip the sections leading up to the next one ->) and read **[Emphasizing continuity with line plots](https://seaborn.pydata.org/tutorial/relational.html#emphasizing-continuity-with-line-plots)**."
      ]
    },
    {
      "cell_type": "markdown",
      "metadata": {
        "id": "AA-utchJo92H"
      },
      "source": [
        "Let's use the code below to plot again.\n"
      ]
    },
    {
      "cell_type": "code",
      "execution_count": null,
      "metadata": {
        "colab": {
          "base_uri": "https://localhost:8080/",
          "height": 507
        },
        "id": "q1VnZP9Zo9F2",
        "outputId": "be99b81e-faee-41f1-db3c-53fc6d2e1a26"
      },
      "outputs": [],
      "source": [
        "# relplot\n",
        "sns.relplot(data = single_data, x='time_from_stim', y='dF_F', kind = 'line', hue = 'exposure');\n",
        "\n"
      ]
    },
    {
      "cell_type": "markdown",
      "metadata": {
        "id": "Bb3so2OapRP2"
      },
      "source": [
        "Does this plot look similar to the first one? It should be exactly the same (note: the axes might appear visually stretched, but the data hasn't changed!). <br>\n",
        "\n",
        "This demonstrates that there may be multiple ways to use functions within packages to produce the same plots and data visualizations!"
      ]
    },
    {
      "cell_type": "markdown",
      "metadata": {
        "id": "Rh01ZEbyp2fb"
      },
      "source": [
        "#### 1.3 Changing Labels\n",
        "We can also change the names of the labels on our plots. There are a few ways to do this, but the easiest is to interface with **matplotlib** like we did previously.\n"
      ]
    },
    {
      "cell_type": "markdown",
      "metadata": {
        "id": "B2jukc27p8Hi"
      },
      "source": [
        "><b>Task:</b> Review the code and add labels by replacing `<insert_text>`.  Feel free to edit other settings and practice options for using `set_style` and `palette`. Run the code below. <br> We are again plotting the calcium signal over (`dF_F`) over time (`time_from_stim`) by familiar/novel (`exposure`) conditions."
      ]
    },
    {
      "cell_type": "code",
      "execution_count": null,
      "metadata": {
        "colab": {
          "base_uri": "https://localhost:8080/",
          "height": 503
        },
        "id": "OhlIxdfJp_bz",
        "outputId": "97875688-8aca-43aa-991d-12efb6b09e6e"
      },
      "outputs": [],
      "source": [
        "# Plot with adjusted labels\n",
        "# Another style option\n",
        "sns.set_style('ticks')\n",
        "\n",
        "# Plot with palette and adjust labels/title\n",
        "sns.lineplot(data = single_data, x = 'time_from_stim', y = 'dF_F', hue = 'exposure', palette = 'flare')\n",
        "\n",
        "plt.xlabel('Time from image presentation')\n",
        "plt.ylabel('Calcium Activity')\n",
        "plt.title('Calcium imaging over time')\n",
        "plt.legend(bbox_to_anchor=(1.05, 1), loc='upper left', borderaxespad=0);  # you don't need to know this, but it puts the legend outside the box so it doesn't overlap with data"
      ]
    },
    {
      "cell_type": "markdown",
      "metadata": {
        "id": "lrVoUSrBqrmo"
      },
      "source": [
        "#### 1.4 Adding multiple condition combinations"
      ]
    },
    {
      "cell_type": "code",
      "execution_count": null,
      "metadata": {
        "colab": {
          "base_uri": "https://localhost:8080/",
          "height": 409
        },
        "id": "qahlgTghqyY4",
        "outputId": "79a2c383-209d-44a9-b12f-b98db37dd6e1"
      },
      "outputs": [],
      "source": [
        "# Code to save figures\n",
        "# Set the size\n",
        "plt.figure(figsize=(8,4))\n",
        "\n",
        "# Plot the data\n",
        "sns.lineplot(data = single_data, x = 'time_from_stim' , y = 'dF_F', hue = 'exposure', style = 'omitted', palette = 'mako')\n",
        "plt.xlabel('Time from stim')\n",
        "plt.ylabel('dF/F')\n",
        "plt.title('All the combinations')\n",
        "plt.legend(bbox_to_anchor=(1.05, 1), loc='upper left', borderaxespad=0);  # you don't need to know this, but it puts the legend outside the box so it doesn't overlap with data"
      ]
    },
    {
      "cell_type": "markdown",
      "metadata": {
        "id": "91R7civspXlF"
      },
      "source": [
        "## Step 2: Figure aesthetics\n",
        "With **seaborn**, there are multiple options for controlling [aesthetics](https://seaborn.pydata.org/tutorial/aesthetics.html#). Review the link to see how we will start use `sns.set_style` and `sns.set_context`.  \n",
        "\n",
        "Let's also look at the data in a different way, using another variable from the dataset: `mean_response`. What does this variable measure, and how does it relate to the previous one we were using, `dF_F`? <br> <br>\n",
        "\n",
        "We will also introduce another plot type `catplot` to display individual data points. Review the documentation [here](https://seaborn.pydata.org/tutorial/introduction.html#plots-for-categorical-data)."
      ]
    },
    {
      "cell_type": "code",
      "execution_count": null,
      "metadata": {
        "colab": {
          "base_uri": "https://localhost:8080/",
          "height": 482
        },
        "id": "GBCMyGxUpfM0",
        "outputId": "3b9a646d-8902-46c1-fd23-5b5471a0e5d1"
      },
      "outputs": [],
      "source": [
        "# Setup and plot data\n",
        "# Set style and context\n",
        "sns.set_style(\"whitegrid\")\n",
        "sns.set_context('talk')\n",
        "\n",
        "# Subset of the data (faster display, but entire dataset can be used)\n",
        "data_sample = single_data.sample(1000)\n",
        "\n",
        "# Categorical plot\n",
        "sns.catplot(data = data_sample, x = 'exposure', y = 'mean_response', hue = 'exposure', palette = 'mako');"
      ]
    },
    {
      "cell_type": "markdown",
      "metadata": {
        "id": "T-y1CRtJs3lf"
      },
      "source": [
        "## Extra Practice\n",
        "\n",
        "1) Can you figure out how to make a [histogram](https://seaborn.pydata.org/tutorial/distributions.html) of pupil area in **Seaborn**? Use the subset of data below. <br>\n",
        "2) Create a second plot, but split the histogram by `exposure` to plot? <br>"
      ]
    },
    {
      "cell_type": "code",
      "execution_count": null,
      "metadata": {
        "id": "6ssv01YttCD2"
      },
      "outputs": [],
      "source": [
        "# Subset of data to use for this exercise\n",
        "data_sample = single_data.sample(1000)"
      ]
    },
    {
      "cell_type": "code",
      "execution_count": null,
      "metadata": {
        "colab": {
          "base_uri": "https://localhost:8080/",
          "height": 448
        },
        "id": "5DWjvWcitF4A",
        "outputId": "6cbaa582-0723-4113-cc23-63b4257fc194"
      },
      "outputs": [],
      "source": [
        "# Setup and plot data\n",
        "# Set style and context\n",
        "sns.set_style(\"dark\")\n",
        "sns.set_context('paper')\n",
        "\n",
        "\n",
        "# Categorical plot\n",
        "sns.histplot(data = data_sample x = ...);"
      ]
    },
    {
      "cell_type": "code",
      "execution_count": null,
      "metadata": {
        "colab": {
          "base_uri": "https://localhost:8080/",
          "height": 460
        },
        "collapsed": true,
        "id": "VOTzlB9Rtfw2",
        "outputId": "5530cc78-ab2b-458d-cc22-a0f61d393f17"
      },
      "outputs": [],
      "source": [
        "# Setup and plot data\n",
        "# Set style and context\n",
        "sns.set_style(\"dark\")\n",
        "sns.set_context('notebook')\n",
        "\n",
        "\n",
        "# Categorical plot\n",
        "sns.histplot(data = data_sample, x = ..., hue = ..., palette = 'mako');"
      ]
    },
    {
      "cell_type": "markdown",
      "metadata": {},
      "source": [
        "_____"
      ]
    },
    {
      "cell_type": "markdown",
      "metadata": {},
      "source": [
        "## Saving\n",
        "Remember to save your notebook before closing.\n",
        "Choose **Save** (and make sure you've already saved a copy in your drive) from the **File** menu."
      ]
    },
    {
      "cell_type": "markdown",
      "metadata": {
        "id": "KK0ZKjy9OVEg"
      },
      "source": [
        "-----------\n",
        "\n",
        "# Technical notes & credits\n",
        "\n",
        "\n",
        "Much more information can be found in the [Allen Brain Institute whitepaper](https://brainmapportal-live-4cc80a57cd6e400d854-f7fdcae.divio-media.net/filer_public/4e/be/4ebe2911-bd38-4230-86c8-01a86cfd758e/visual_behavior_2p_technical_whitepaper.pdf) as well as in their <a href=\"http://allensdk.readthedocs.io/en/latest/visual_behavior_optical_physiology.html\"> documentation</a>.\n",
        "\n",
        "This file was developed from the [Allen Institute Notebooks](https://allensdk.readthedocs.io/en/latest/visual_behavior_optical_physiology.html), [Neuromatch Academy](https://compneuro.neuromatch.io/projects/neurons/README.html#allen-institute), and the [Columbia-Neuropythonistas repository](https://github.com/Columbia-Neuropythonistas)."
      ]
    }
  ],
  "metadata": {
    "colab": {
      "provenance": [],
      "toc_visible": true
    },
    "kernel": {
      "display_name": "Python 3",
      "language": "python",
      "name": "python3"
    },
    "kernelspec": {
      "display_name": "Python 3",
      "name": "python3"
    },
    "language_info": {
      "name": "python"
    }
  },
  "nbformat": 4,
  "nbformat_minor": 0
}
