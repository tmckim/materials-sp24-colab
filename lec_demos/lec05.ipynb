{
  "cells": [
    {
      "cell_type": "markdown",
      "metadata": {
        "id": "lWPjSFBeJfU2"
      },
      "source": [
        "<a href=\"https://colab.research.google.com/github/tmckim/materials-sp24-colab/blob/main/lec_demos/lec05.ipynb\" target=\"_parent\"><img src=\"https://colab.research.google.com/assets/colab-badge.svg\" alt=\"Open In Colab\"/></a>"
      ]
    },
    {
      "cell_type": "markdown",
      "metadata": {
        "id": "OnBSpwoEJfU4"
      },
      "source": [
        "## Before you start - Save this notebook!\n",
        "\n",
        "When you open a new Colab notebook from the WebCampus (like you hopefully did for this one), you cannot save changes. So it's  best to store the Colab notebook in your personal drive `\"File > Save a copy in drive...\"` **before** you do anything else.\n",
        "\n",
        "The file will open in a new tab in your web browser, and it is automatically named something like: \"**Copy of lec05.ipynb**\". You can rename this to just the title of the assignment \"**lec05.ipynb**\". Make sure you do keep an informative name (like the name of the assignment) so that you know which files to submit back to WebCampus for grading! More instructions on this are at the end of the notebook.\n",
        "\n",
        "\n",
        "**Where does the notebook get saved in Google Drive?**\n",
        "\n",
        "By default, the notebook will be copied to a folder called “Colab Notebooks” at the root (home directory) of your Google Drive. If you use this for other courses or personal code notebooks, I recommend creating a folder for this course and then moving the assignments AFTER you have completed them. <br>\n",
        "\n",
        "I also recommend you give the folder where you save your notebooks^ a different name than the folder we create below that will store the notebook resources you need each time you work through a course notebook. This includes any data files you will need, links to the images that appear in the notebook, and the files associated with the autograder for answer checking.<br>\n",
        "You should select a name other than '**NS499-DataSci-course-materials**'. <br>\n",
        "This folder gets overwritten with each assignment you work on in the course, so you should **NOT** store your notebooks in this folder that we use for course materials! <br><br>For example, you could create a folder called 'NS499-**notebooks**' or something along those lines. \n",
        "\n",
        "__________"
      ]
    },
    {
      "cell_type": "markdown",
      "metadata": {},
      "source": [
        "### We will now do the setup steps as separate cells to help with issues finding files in google drive/colab. <br> If you restart colab, you must rerun all **5** steps in each of these cells!"
      ]
    },
    {
      "cell_type": "code",
      "execution_count": null,
      "metadata": {},
      "outputs": [],
      "source": [
        "# Step 1\n",
        "# Setup and add files needed to access gdrive\n",
        "from google.colab import drive                                   # these lines mount your gdrive to access the files we import below\n",
        "drive.mount('/content/gdrive', force_remount=True)"
      ]
    },
    {
      "cell_type": "code",
      "execution_count": null,
      "metadata": {},
      "outputs": [],
      "source": [
        "# Step 2\n",
        "# Change directory to the correct location in gdrive (modified way to do this from before)\n",
        "import os\n",
        "os.chdir('/content/gdrive/MyDrive/NS499-DataSci-course-materials/')"
      ]
    },
    {
      "cell_type": "code",
      "execution_count": null,
      "metadata": {},
      "outputs": [],
      "source": [
        "# Step 3\n",
        "# Remove the files that were previously there- we will replace with all the old + new ones for this assignment\n",
        "!rm -r materials-sp24-colab                                        "
      ]
    },
    {
      "cell_type": "code",
      "execution_count": null,
      "metadata": {},
      "outputs": [],
      "source": [
        "# Step 4\n",
        "# These lines clone (copy) all the files you will need from where I store the code+data for the course (github)\n",
        "# Second part of the code copies the files to this location and folder in your own gdrive\n",
        "!git clone https://github.com/tmckim/materials-sp24-colab '/content/gdrive/My Drive/NS499-DataSci-course-materials/materials-sp24-colab/'"
      ]
    },
    {
      "cell_type": "code",
      "execution_count": null,
      "metadata": {},
      "outputs": [],
      "source": [
        "# Step 5\n",
        "# Change directory into the folder where the resources for this assignment are stored in gdrive (modified way from before)\n",
        "os.chdir('/content/gdrive/MyDrive/NS499-DataSci-course-materials/materials-sp24-colab/lec_demos/')"
      ]
    },
    {
      "cell_type": "code",
      "execution_count": null,
      "metadata": {
        "id": "MRkneuHTMdzE"
      },
      "outputs": [],
      "source": [
        "# Import packages and other things needed\n",
        "# Don't change this cell; Just run this cell\n",
        "# If you restart colab, make sure to run this cell again after the first ones above^\n",
        "\n",
        "from datascience import *\n",
        "import numpy as np\n",
        "\n",
        "%matplotlib inline\n",
        "import matplotlib.pyplot as plots\n",
        "plots.style.use(\"fivethirtyeight\")"
      ]
    },
    {
      "cell_type": "markdown",
      "metadata": {},
      "source": [
        "#### Today's Lecture\n",
        "\n",
        "In today's lecture, you'll learn how to:\n",
        "\n",
        "1. review and work with arrays\n",
        "2. access elements in arrays\n",
        "3. learn how to use `np.arange`\n",
        "4. work with data from tables\n",
        "5. create tables from scratch (compared to loading in tables from csv files)"
      ]
    },
    {
      "cell_type": "markdown",
      "metadata": {
        "id": "RVoCaY8kJfVM"
      },
      "source": [
        "## Arrays ##"
      ]
    },
    {
      "cell_type": "code",
      "execution_count": null,
      "metadata": {
        "id": "fe0z_iCrJfVM"
      },
      "outputs": [],
      "source": [
        "# An array of 4 numbers\n",
        "first_four = make_array(1, 2, 3, 4)"
      ]
    },
    {
      "cell_type": "code",
      "execution_count": null,
      "metadata": {
        "id": "YdW9yW4kJfVM"
      },
      "outputs": [],
      "source": [
        "# Show the array\n",
        "first_four"
      ]
    },
    {
      "cell_type": "code",
      "execution_count": null,
      "metadata": {
        "id": "VLObJAnwJfVM"
      },
      "outputs": [],
      "source": [
        "# Add to the array\n",
        "first_four + 1"
      ]
    },
    {
      "cell_type": "code",
      "execution_count": null,
      "metadata": {},
      "outputs": [],
      "source": [
        "# The original array is unchanged, just like when we call show/select/drop on a Table\n",
        "first_four"
      ]
    },
    {
      "cell_type": "code",
      "execution_count": null,
      "metadata": {
        "id": "guS-mW7_JfVM"
      },
      "outputs": [],
      "source": [
        "# A new array\n",
        "next_four = make_array(5, 6, 7, 8)"
      ]
    },
    {
      "cell_type": "code",
      "execution_count": null,
      "metadata": {
        "id": "bQXpJr_6JfVN"
      },
      "outputs": [],
      "source": [
        "# A third array\n",
        "only_three = make_array(5, 6, 7)"
      ]
    },
    {
      "cell_type": "code",
      "execution_count": null,
      "metadata": {
        "id": "IykGAhsAJfVN"
      },
      "outputs": [],
      "source": [
        "# This line will cause an error - why?\n",
        "first_four + only_three"
      ]
    },
    {
      "cell_type": "code",
      "execution_count": null,
      "metadata": {
        "id": "DTT51HIpJfVN"
      },
      "outputs": [],
      "source": [
        "# Show this array again\n",
        "next_four"
      ]
    },
    {
      "cell_type": "code",
      "execution_count": null,
      "metadata": {
        "id": "PlU-9Jc3Uvtf"
      },
      "outputs": [],
      "source": [
        "# Adding the array of numbers\n",
        "sum(next_four)"
      ]
    },
    {
      "cell_type": "code",
      "execution_count": null,
      "metadata": {
        "id": "Nmy4f1aPUvtf"
      },
      "outputs": [],
      "source": [
        "# Another way to do this\n",
        "next_four.sum()"
      ]
    },
    {
      "cell_type": "code",
      "execution_count": null,
      "metadata": {
        "id": "6A2PAiOWUvtf"
      },
      "outputs": [],
      "source": [
        "# Using numpy to average the array\n",
        "np.average(next_four)"
      ]
    },
    {
      "cell_type": "code",
      "execution_count": null,
      "metadata": {
        "id": "v78a2vzAUvtg"
      },
      "outputs": [],
      "source": [
        "# Using numpy to take the mean of the array\n",
        "np.mean(next_four)"
      ]
    },
    {
      "cell_type": "code",
      "execution_count": null,
      "metadata": {
        "id": "H8rhtGbMUvtg"
      },
      "outputs": [],
      "source": [
        "# Use the len function to determine the length\n",
        "len(next_four)"
      ]
    },
    {
      "cell_type": "code",
      "execution_count": null,
      "metadata": {
        "id": "vni31SYXUvtg"
      },
      "outputs": [],
      "source": [
        "# Arrays also have a member variable array_name.size that contains the size of the array\n",
        "# Note, size here isn't a function so it doesn't require () after it\n",
        "next_four.size"
      ]
    },
    {
      "cell_type": "markdown",
      "metadata": {
        "id": "IbmqL6RAUvtg"
      },
      "source": [
        "### Accessing Elements"
      ]
    },
    {
      "cell_type": "code",
      "execution_count": null,
      "metadata": {
        "id": "4t8FnUjMVzTi"
      },
      "outputs": [],
      "source": [
        "# Show array again as reminder\n",
        "next_four"
      ]
    },
    {
      "cell_type": "code",
      "execution_count": null,
      "metadata": {
        "id": "YriKy2vUJfVN"
      },
      "outputs": [],
      "source": [
        "# How to index an array\n",
        "next_four.item(0)"
      ]
    },
    {
      "cell_type": "code",
      "execution_count": null,
      "metadata": {
        "id": "nBTditUHJfVN"
      },
      "outputs": [],
      "source": [
        "# What item are we indexing here?\n",
        "next_four.item(1)"
      ]
    },
    {
      "cell_type": "markdown",
      "metadata": {
        "id": "M81vaW2cUvtg"
      },
      "source": [
        "**Bonus!** This is called **array indexing**. There is a shorter \"equivalent\" syntax that people often use. However, for this class you only need to know about `.item()`.<br><br>\n",
        "`array[ INDEX ]`"
      ]
    },
    {
      "cell_type": "code",
      "execution_count": null,
      "metadata": {
        "id": "ZhyJLzZpUvtg"
      },
      "outputs": [],
      "source": [
        "# Shorter and more compact\n",
        "next_four[1]"
      ]
    },
    {
      "cell_type": "markdown",
      "metadata": {
        "id": "pYBMSTGFUvtg"
      },
      "source": [
        "## Ranges ##"
      ]
    },
    {
      "cell_type": "markdown",
      "metadata": {
        "id": "NmBzHJfzUvth"
      },
      "source": [
        "We use ranges to make arrays of number sequences easily. The numpy `np.arange(start, stop, step)` function produces an array starting at `start` and ending *before* `stop`, in increments of `step`."
      ]
    },
    {
      "cell_type": "code",
      "execution_count": null,
      "metadata": {
        "id": "eQMCU3_BUvth"
      },
      "outputs": [],
      "source": [
        "# how we previously learned to make an array\n",
        "make_array(0, 1, 2, 3, 4, 5, 6)"
      ]
    },
    {
      "cell_type": "code",
      "execution_count": null,
      "metadata": {
        "id": "IFqmIiwIUvth"
      },
      "outputs": [],
      "source": [
        "# Use numpy to make a range- what numbers will we get?\n",
        "np.arange(0,7,1)"
      ]
    },
    {
      "cell_type": "code",
      "execution_count": null,
      "metadata": {
        "id": "tR20UqDlUvth"
      },
      "outputs": [],
      "source": [
        "# Can we write it shorter? Default setting for step size\n",
        "np.arange(0,7)"
      ]
    },
    {
      "cell_type": "code",
      "execution_count": null,
      "metadata": {
        "id": "pwHJcWVFUvth"
      },
      "outputs": [],
      "source": [
        "# Even shorter- assumes we start from 0\n",
        "np.arange(7)"
      ]
    },
    {
      "cell_type": "code",
      "execution_count": null,
      "metadata": {
        "id": "Ubs7ZdExUvth"
      },
      "outputs": [],
      "source": [
        "# Anything else yoou want me to try?\n",
        "np.arange(0, 20, 2)"
      ]
    },
    {
      "cell_type": "markdown",
      "metadata": {
        "id": "WTSHeXmQJfVO"
      },
      "source": [
        "## Columns of Tables are Arrays ##"
      ]
    },
    {
      "cell_type": "markdown",
      "metadata": {
        "id": "-kiMqEo3JfVO"
      },
      "source": [
        "### A more interesting table"
      ]
    },
    {
      "cell_type": "code",
      "execution_count": null,
      "metadata": {
        "id": "hFp_LLQXJfVO"
      },
      "outputs": [],
      "source": [
        "# Originally from https://github.com/erikgregorywebb/datasets/blob/master/nba-salaries.csv\n",
        "# salary is in millions of dollars\n",
        "# Create a table named nba from the data file using the Table method and read_table function\n",
        "nba = Table.read_table('nba_salaries.csv')\n",
        "nba"
      ]
    },
    {
      "cell_type": "code",
      "execution_count": null,
      "metadata": {
        "id": "FzPHZ8h1JfVP"
      },
      "outputs": [],
      "source": [
        "# Create a table called point_guards by finding where the position column is labeled PG (point guard) during the 2020 season\n",
        "point_guards = nba.where('position', 'PG').where('season', 2020)"
      ]
    },
    {
      "cell_type": "code",
      "execution_count": null,
      "metadata": {
        "id": "QXmZ0qstJfVP"
      },
      "outputs": [],
      "source": [
        "# Show the table\n",
        "point_guards"
      ]
    },
    {
      "cell_type": "code",
      "execution_count": null,
      "metadata": {
        "id": "o8oeZIYTJfVP"
      },
      "outputs": [],
      "source": [
        "# Drop (remove) the position column\n",
        "point_guards.drop('position')"
      ]
    },
    {
      "cell_type": "code",
      "execution_count": null,
      "metadata": {
        "id": "LhoD30dTJfVP"
      },
      "outputs": [],
      "source": [
        "# Show the table\n",
        "point_guards"
      ]
    },
    {
      "cell_type": "code",
      "execution_count": null,
      "metadata": {
        "id": "DvtAoayHJfVP"
      },
      "outputs": [],
      "source": [
        "# Further remove columns from the table\n",
        "point_guards = point_guards.drop('rank', 'position', 'season')"
      ]
    },
    {
      "cell_type": "code",
      "execution_count": null,
      "metadata": {
        "id": "wdd-eAtzJfVP"
      },
      "outputs": [],
      "source": [
        "# Show the first 10 rows of the table\n",
        "point_guards.show(10)"
      ]
    },
    {
      "cell_type": "code",
      "execution_count": null,
      "metadata": {
        "id": "vv1uq4uiJfVP"
      },
      "outputs": [],
      "source": [
        "# Combine table functions: first sort by salary and then show the first 10 rows\n",
        "# What is the default sorting direction? Hint: what is the default for the optional argument, descending?\n",
        "point_guards.sort('salary').show(10)"
      ]
    },
    {
      "cell_type": "code",
      "execution_count": null,
      "metadata": {
        "id": "rzhkqRCSJfVQ"
      },
      "outputs": [],
      "source": [
        "# The line below will cause a value error- order of combining methods matters!\n",
        "nba.drop('position').where('position', 'PG')"
      ]
    },
    {
      "cell_type": "code",
      "execution_count": null,
      "metadata": {
        "id": "K4spWkwzJfVQ"
      },
      "outputs": [],
      "source": [
        "# Create a table of only the data from the 2020 season\n",
        "nba = Table.read_table('nba_salaries.csv').where('season', 2020).drop('season')\n",
        "nba.show(5)"
      ]
    },
    {
      "cell_type": "code",
      "execution_count": null,
      "metadata": {
        "id": "Gq4OdUykJfVQ"
      },
      "outputs": [],
      "source": [
        "# Create a table of Golden State Warriors data\n",
        "warriors = nba.where('team', 'Golden State Warriors')\n",
        "warriors.show(5)"
      ]
    },
    {
      "cell_type": "code",
      "execution_count": null,
      "metadata": {
        "id": "J4NMr6EGJfVQ"
      },
      "outputs": [],
      "source": [
        "# Show the salary column\n",
        "warriors.select('salary')"
      ]
    },
    {
      "cell_type": "code",
      "execution_count": null,
      "metadata": {
        "id": "BVzK2f5vJfVQ"
      },
      "outputs": [],
      "source": [
        "# What type is the salary column?\n",
        "type(warriors.select('salary'))"
      ]
    },
    {
      "cell_type": "code",
      "execution_count": null,
      "metadata": {
        "id": "_pDr9flUJfVQ"
      },
      "outputs": [],
      "source": [
        "# Access the numbers in the salary column\n",
        "warriors.column('salary')"
      ]
    },
    {
      "cell_type": "code",
      "execution_count": null,
      "metadata": {
        "id": "LsGij55iJfVQ"
      },
      "outputs": [],
      "source": [
        "# Average the numbers in the salary column\n",
        "np.average(warriors.column('salary'))"
      ]
    },
    {
      "cell_type": "code",
      "execution_count": null,
      "metadata": {
        "id": "kQOT0LKqUvtk"
      },
      "outputs": [],
      "source": [
        "# Another way to do this\n",
        "warriors.column('salary').mean()"
      ]
    },
    {
      "cell_type": "code",
      "execution_count": null,
      "metadata": {
        "id": "nG61dEtpUvtk"
      },
      "outputs": [],
      "source": [
        "# Why doesn't this work?\n",
        "np.average(warriors.select('salary'))"
      ]
    },
    {
      "cell_type": "code",
      "execution_count": null,
      "metadata": {
        "id": "B88r9STFJfVQ"
      },
      "outputs": [],
      "source": [
        "# Create a table with Phoenix Suns data\n",
        "suns = nba.where('team', 'Phoenix Suns')"
      ]
    },
    {
      "cell_type": "code",
      "execution_count": null,
      "metadata": {
        "id": "Ht4faffcJfVR"
      },
      "outputs": [],
      "source": [
        "# Subtract averages from the salary columns to compare the two teams\n",
        "np.average(warriors.column('salary')) - np.average(suns.column('salary'))"
      ]
    },
    {
      "cell_type": "code",
      "execution_count": null,
      "metadata": {
        "id": "yvcZVqiGJfVR"
      },
      "outputs": [],
      "source": [
        "# How many rows in the warrior table?\n",
        "warriors.num_rows"
      ]
    },
    {
      "cell_type": "code",
      "execution_count": null,
      "metadata": {
        "id": "TJmMo2MoJfVR"
      },
      "outputs": [],
      "source": [
        "# How many rows in the suns table?\n",
        "suns.num_rows"
      ]
    },
    {
      "cell_type": "markdown",
      "metadata": {
        "id": "rK25tML2Uvtl"
      },
      "source": [
        "# Ways to Create a Table #\n",
        "\n",
        "## Creating a Table from Scratch ##"
      ]
    },
    {
      "cell_type": "code",
      "execution_count": null,
      "metadata": {
        "id": "At8q8dWnUvtl"
      },
      "outputs": [],
      "source": [
        "# Make an array of streets\n",
        "streets = make_array('Virginia', 'Evans', 'Sierra', 'McCarran')\n",
        "streets"
      ]
    },
    {
      "cell_type": "code",
      "execution_count": null,
      "metadata": {
        "id": "c2OF1FPoUvtl"
      },
      "outputs": [],
      "source": [
        "# Create an empty table\n",
        "empty_table = Table()\n",
        "empty_table"
      ]
    },
    {
      "cell_type": "code",
      "execution_count": null,
      "metadata": {
        "id": "dO5durFuUvtl"
      },
      "outputs": [],
      "source": [
        "# Create a table using the array we made above (streets)\n",
        "campus_streets = Table().with_column('Streets', streets)\n",
        "campus_streets"
      ]
    },
    {
      "cell_type": "code",
      "execution_count": null,
      "metadata": {
        "id": "qN4VndOmUvtl"
      },
      "outputs": [],
      "source": [
        "# Add a column to the table\n",
        "campus_streets.with_column('Blocks from campus', np.arange(4))\n",
        "campus_streets"
      ]
    },
    {
      "cell_type": "code",
      "execution_count": null,
      "metadata": {
        "id": "tmT-VbN2Uvtm"
      },
      "outputs": [],
      "source": [
        "# Add a column to the table- what's the difference from the above code?\n",
        "campus_streets = campus_streets.with_column('Blocks from campus', np.arange(4))\n",
        "campus_streets"
      ]
    },
    {
      "cell_type": "code",
      "execution_count": null,
      "metadata": {
        "id": "c_VVrfWeUvtm"
      },
      "outputs": [],
      "source": [
        "# Create a table with multiple columns in one step\n",
        "Table().with_columns(\n",
        "    'Streets', streets,\n",
        "    'Blocks from campus', np.arange(4)\n",
        ")"
      ]
    },
    {
      "cell_type": "markdown",
      "metadata": {
        "id": "CaR9gP1kJfVR"
      },
      "source": [
        "### Saving\n",
        "Remember to save your notebook before closing.\n",
        "Choose **Save** (and make sure you've already saved a copy in your drive) from the **File** menu."
      ]
    }
  ],
  "metadata": {
    "anaconda-cloud": {},
    "colab": {
      "provenance": []
    },
    "kernelspec": {
      "display_name": "Python 3",
      "language": "python",
      "name": "python3"
    },
    "language_info": {
      "codemirror_mode": {
        "name": "ipython",
        "version": 3
      },
      "file_extension": ".py",
      "mimetype": "text/x-python",
      "name": "python",
      "nbconvert_exporter": "python",
      "pygments_lexer": "ipython3",
      "version": "3.8.5"
    }
  },
  "nbformat": 4,
  "nbformat_minor": 0
}
