{
  "cells": [
    {
      "cell_type": "markdown",
      "metadata": {
        "id": "ml2I5wZ_U6WO"
      },
      "source": [
        "<a href=\"https://colab.research.google.com/github/tmckim/materials-sp24-colab/blob/main/lec_demos/lec13.ipynb\" target=\"_parent\"><img src=\"https://colab.research.google.com/assets/colab-badge.svg\" alt=\"Open In Colab\"/></a>"
      ]
    },
    {
      "cell_type": "markdown",
      "metadata": {
        "id": "EiU1HDGvU6WR"
      },
      "source": [
        "## Before you start - Save this notebook!\n",
        "\n",
        "When you open a new Colab notebook from the WebCampus (like you hopefully did for this one), you cannot save changes. So it's  best to store the Colab notebook in your personal drive `\"File > Save a copy in drive...\"` **before** you do anything else.\n",
        "\n",
        "The file will open in a new tab in your web browser, and it is automatically named something like: \"**Copy of lec13.ipynb**\". You can rename this to just the title of the assignment \"**lec13.ipynb**\". Make sure you do keep an informative name (like the name of the assignment) so that you know which files to submit back to WebCampus for grading! More instructions on this are at the end of the notebook.\n",
        "\n",
        "\n",
        "**Where does the notebook get saved in Google Drive?**\n",
        "\n",
        "By default, the notebook will be copied to a folder called “Colab Notebooks” at the root (home directory) of your Google Drive. If you use this for other courses or personal code notebooks, I recommend creating a folder for this course and then moving the assignments AFTER you have completed them. <br>\n",
        "\n",
        "I also recommend you give the folder where you save your notebooks^ a different name than the folder we create below that will store the notebook resources you need each time you work through a course notebook. This includes any data files you will need, links to the images that appear in the notebook, and the files associated with the autograder for answer checking.<br>\n",
        "You should select a name other than '**NS499-DataSci-course-materials**'. <br>\n",
        "This folder gets overwritten with each assignment you work on in the course, so you should **NOT** store your notebooks in this folder that we use for course materials! <br><br>For example, you could create a folder called 'NS499-**notebooks**' or something along those lines.\n",
        "___"
      ]
    },
    {
      "cell_type": "markdown",
      "metadata": {
        "id": "9qxrnTVfUjO_"
      },
      "source": [
        "### We will now do the setup steps as separate cells to help with issues finding files in google drive/colab. <br> If you restart colab, you must rerun all **5** steps in each of these cells!"
      ]
    },
    {
      "cell_type": "code",
      "execution_count": null,
      "metadata": {
        "colab": {
          "base_uri": "https://localhost:8080/"
        },
        "id": "Wh0xryS-UjO_",
        "outputId": "61bb51f1-9a8b-4b29-e5db-b7a08704a796"
      },
      "outputs": [],
      "source": [
        "# Step 1\n",
        "# Setup and add files needed to access gdrive\n",
        "from google.colab import drive                                   # these lines mount your gdrive to access the files we import below\n",
        "drive.mount('/content/gdrive', force_remount=True)"
      ]
    },
    {
      "cell_type": "code",
      "execution_count": null,
      "metadata": {
        "id": "LOgR0jVwUjPA"
      },
      "outputs": [],
      "source": [
        "# Step 2\n",
        "# Change directory to the correct location in gdrive (modified way to do this from before)\n",
        "import os\n",
        "os.chdir('/content/gdrive/MyDrive/NS499-DataSci-course-materials/')"
      ]
    },
    {
      "cell_type": "code",
      "execution_count": null,
      "metadata": {
        "id": "AI9oGmV0UjPA"
      },
      "outputs": [],
      "source": [
        "# Step 3\n",
        "# Remove the files that were previously there- we will replace with all the old + new ones for this assignment\n",
        "!rm -r materials-sp24-colab"
      ]
    },
    {
      "cell_type": "code",
      "execution_count": null,
      "metadata": {
        "id": "0MqPBOhpUjPA"
      },
      "outputs": [],
      "source": [
        "# Step 4\n",
        "# These lines clone (copy) all the files you will need from where I store the code+data for the course (github)\n",
        "# Second part of the code copies the files to this location and folder in your own gdrive\n",
        "!git clone https://github.com/tmckim/materials-sp24-colab '/content/gdrive/My Drive/NS499-DataSci-course-materials/materials-sp24-colab/'"
      ]
    },
    {
      "cell_type": "code",
      "execution_count": null,
      "metadata": {
        "id": "KQr3P1vKUjPA"
      },
      "outputs": [],
      "source": [
        "# Step 5\n",
        "# Change directory into the folder where the resources for this assignment are stored in gdrive (modified way from before)\n",
        "os.chdir('/content/gdrive/MyDrive/NS499-DataSci-course-materials/materials-sp24-colab/lec_demos/')"
      ]
    },
    {
      "cell_type": "code",
      "execution_count": null,
      "metadata": {
        "id": "PaihHzG8UjPA"
      },
      "outputs": [],
      "source": [
        "# Import packages and other things needed\n",
        "# Don't change this cell; Just run this cell\n",
        "# If you restart colab, make sure to run this cell again after the first ones above^\n",
        "\n",
        "from datascience import *\n",
        "import numpy as np\n",
        "import warnings\n",
        "warnings.simplefilter(action='ignore',category=np.VisibleDeprecationWarning)\n",
        "\n",
        "%matplotlib inline\n",
        "import matplotlib.pyplot as plt\n",
        "plt.style.use(\"fivethirtyeight\")\n",
        "plt.rcParams[\"patch.force_edgecolor\"] = True"
      ]
    },
    {
      "cell_type": "markdown",
      "metadata": {
        "id": "jMHqHNmyU6WU"
      },
      "source": [
        "## Learning Objectives ##"
      ]
    },
    {
      "cell_type": "markdown",
      "metadata": {
        "id": "P-uR6FmDU6WU"
      },
      "source": [
        "\n",
        "Topics:\n",
        "- review `for` loops\n",
        "- review and simulate using `np.random.choice`\n",
        "- demonstrate deterministic and random sampling\n",
        "- plot probability and empirical distributions\n",
        "- demonstrate the law of large numbers"
      ]
    },
    {
      "cell_type": "markdown",
      "metadata": {
        "id": "_2l1AxUXBX38"
      },
      "source": [
        "## Simulation"
      ]
    },
    {
      "cell_type": "markdown",
      "metadata": {
        "id": "FrxtfU5goONV"
      },
      "source": [
        "We will start to use simulation in this class. A key element of simulation is leveraging randomness. The `numpy` python library has many functions for generating random events. Today we will use the [`np.random.choice`](https://numpy.org/doc/stable/reference/random/generated/numpy.random.choice.html) function:"
      ]
    },
    {
      "cell_type": "markdown",
      "metadata": {
        "id": "0SlYRs_Co-1F"
      },
      "source": [
        "## Playing a Game of Chance"
      ]
    },
    {
      "cell_type": "markdown",
      "metadata": {
        "id": "NCElhzcXBX39"
      },
      "source": [
        "Let's play a game: we each roll a die.\n",
        "\n",
        "If my number is bigger: you pay me a dollar.\n",
        "\n",
        "If they're the same: we do nothing.\n",
        "\n",
        "If your number is bigger: I pay you a dollar."
      ]
    },
    {
      "cell_type": "markdown",
      "metadata": {
        "id": "_uBMQR_ZBX39"
      },
      "source": [
        "Steps:\n",
        "1. Find a way to simulate two dice rolls.\n",
        "2. Compute how much money we win/lose based on the result.\n",
        "3. Do steps 1 and 2 10,000 times."
      ]
    },
    {
      "cell_type": "markdown",
      "metadata": {
        "id": "NVHLYj-4BX3-"
      },
      "source": [
        "### Simulating the roll of a die"
      ]
    },
    {
      "cell_type": "code",
      "execution_count": null,
      "metadata": {
        "colab": {
          "base_uri": "https://localhost:8080/"
        },
        "id": "l6qSyrThBX3-",
        "outputId": "c795fb83-b038-4b81-92d1-00c0ea0fc581"
      },
      "outputs": [],
      "source": [
        "die_faces = np.arange(1, 7)\n",
        "die_faces"
      ]
    },
    {
      "cell_type": "code",
      "execution_count": null,
      "metadata": {
        "colab": {
          "base_uri": "https://localhost:8080/"
        },
        "id": "tttEtKyaBX3-",
        "outputId": "be235ab0-bd12-4d6c-8250-b7963e58c271"
      },
      "outputs": [],
      "source": [
        "np.random.choice(die_faces)"
      ]
    },
    {
      "cell_type": "markdown",
      "metadata": {
        "id": "234yOomMpUIm"
      },
      "source": [
        "Implement a function to simulate a single round of play and return the results"
      ]
    },
    {
      "cell_type": "code",
      "execution_count": null,
      "metadata": {
        "id": "ZOUhFZgJBX3-"
      },
      "outputs": [],
      "source": [
        "def simulate_one_round():\n",
        "    my_roll = np.random.choice(die_faces)\n",
        "    your_roll = np.random.choice(die_faces)\n",
        "\n",
        "    if my_roll > your_roll:\n",
        "       return 1\n",
        "    elif my_roll < your_roll:\n",
        "       return -1\n",
        "    else:\n",
        "       return 0"
      ]
    },
    {
      "cell_type": "code",
      "execution_count": null,
      "metadata": {
        "colab": {
          "base_uri": "https://localhost:8080/"
        },
        "id": "jIdaLKTLBX3-",
        "outputId": "d115ca28-68ee-4bda-c140-4fe9e0eb5187"
      },
      "outputs": [],
      "source": [
        "simulate_one_round()"
      ]
    },
    {
      "cell_type": "markdown",
      "metadata": {
        "id": "S8dRRotXBX3-"
      },
      "source": [
        "### Repeated Betting ###"
      ]
    },
    {
      "cell_type": "code",
      "execution_count": null,
      "metadata": {
        "id": "6QvQn9VUBX3-"
      },
      "outputs": [],
      "source": [
        "results = make_array()"
      ]
    },
    {
      "cell_type": "code",
      "execution_count": null,
      "metadata": {
        "colab": {
          "base_uri": "https://localhost:8080/"
        },
        "id": "5JM7YmZKBX3-",
        "outputId": "0c65d075-e5fa-44d7-dd60-61f61142a9ff"
      },
      "outputs": [],
      "source": [
        "results = np.append(results, simulate_one_round())\n",
        "results"
      ]
    },
    {
      "cell_type": "code",
      "execution_count": null,
      "metadata": {
        "colab": {
          "base_uri": "https://localhost:8080/"
        },
        "id": "aoBRrLUrBX3_",
        "outputId": "6334d515-448c-4eb6-b6d4-a5117f5b881e"
      },
      "outputs": [],
      "source": [
        "results = np.append(results, simulate_one_round())\n",
        "results"
      ]
    },
    {
      "cell_type": "markdown",
      "metadata": {
        "id": "br0Ovr4s5GIG"
      },
      "source": [
        "Use a for loop to simulate the total outcome of plays of our game of chance:"
      ]
    },
    {
      "cell_type": "code",
      "execution_count": null,
      "metadata": {
        "colab": {
          "base_uri": "https://localhost:8080/"
        },
        "id": "t4U-vIquBX3_",
        "outputId": "a5f4a877-8967-4796-d487-4e1265a63fa0"
      },
      "outputs": [],
      "source": [
        "game_outcomes = make_array()\n",
        "\n",
        "for i in np.arange(5):\n",
        "    game_outcomes = np.append(game_outcomes, simulate_one_round())\n",
        "\n",
        "game_outcomes"
      ]
    },
    {
      "cell_type": "code",
      "execution_count": null,
      "metadata": {
        "colab": {
          "base_uri": "https://localhost:8080/"
        },
        "id": "_sQ9Ocm5BX3_",
        "outputId": "3ed11c89-91e6-45b1-951e-74654c71f5ed"
      },
      "outputs": [],
      "source": [
        "game_outcomes = make_array()\n",
        "\n",
        "for i in np.arange(10000):\n",
        "    game_outcomes = np.append(game_outcomes, simulate_one_round())\n",
        "\n",
        "game_outcomes"
      ]
    },
    {
      "cell_type": "code",
      "execution_count": null,
      "metadata": {
        "colab": {
          "base_uri": "https://localhost:8080/"
        },
        "id": "7M6Fp9ozBX3_",
        "outputId": "ce9bb413-2591-401c-f6d2-8bef5a01d96d"
      },
      "outputs": [],
      "source": [
        "len(game_outcomes)"
      ]
    },
    {
      "cell_type": "code",
      "execution_count": null,
      "metadata": {
        "id": "e1pbfmUGBX3_"
      },
      "outputs": [],
      "source": [
        "results = Table().with_column('My winnings', game_outcomes)"
      ]
    },
    {
      "cell_type": "code",
      "execution_count": null,
      "metadata": {
        "colab": {
          "base_uri": "https://localhost:8080/",
          "height": 392
        },
        "id": "tgx58SWeBX3_",
        "outputId": "26b43475-b0b4-4d1e-e99d-49fd2539746f"
      },
      "outputs": [],
      "source": [
        "results"
      ]
    },
    {
      "cell_type": "code",
      "execution_count": null,
      "metadata": {
        "colab": {
          "base_uri": "https://localhost:8080/",
          "height": 410
        },
        "id": "mzBOExAdBX3_",
        "outputId": "dfd91be9-2299-43a4-a977-6e60e8092e23"
      },
      "outputs": [],
      "source": [
        "results.group('My winnings').barh('My winnings')"
      ]
    },
    {
      "cell_type": "markdown",
      "metadata": {
        "id": "PWHoW-DEBX3_"
      },
      "source": [
        "### Another example: simulating heads in 100 coin tosses"
      ]
    },
    {
      "cell_type": "code",
      "execution_count": null,
      "metadata": {
        "id": "PSaD4pi7BX3_"
      },
      "outputs": [],
      "source": [
        "# Example coin flip\n",
        "coin = make_array('heads', 'tails')"
      ]
    },
    {
      "cell_type": "code",
      "execution_count": null,
      "metadata": {
        "colab": {
          "base_uri": "https://localhost:8080/",
          "height": 35
        },
        "id": "9S13XhoL7IIy",
        "outputId": "49d9ca1b-af4e-4fc3-87bd-ffda9d4af7bd"
      },
      "outputs": [],
      "source": [
        "# Use np.random.choice to pick\n",
        "np.random.choice(coin)"
      ]
    },
    {
      "cell_type": "code",
      "execution_count": null,
      "metadata": {
        "colab": {
          "base_uri": "https://localhost:8080/"
        },
        "id": "Gh7piT3d7OwM",
        "outputId": "f0a335ce-0ada-44ec-c163-0f8df252edc4"
      },
      "outputs": [],
      "source": [
        "# Pick multiple times\n",
        "ten_picks = np.random.choice(coin, 10)\n",
        "ten_picks"
      ]
    },
    {
      "cell_type": "code",
      "execution_count": null,
      "metadata": {
        "colab": {
          "base_uri": "https://localhost:8080/"
        },
        "id": "9M-j5Bgv7uq7",
        "outputId": "3529e8b0-59b5-42dc-e5fb-b98158029655"
      },
      "outputs": [],
      "source": [
        "ten_picks == 'heads'"
      ]
    },
    {
      "cell_type": "code",
      "execution_count": null,
      "metadata": {
        "colab": {
          "base_uri": "https://localhost:8080/"
        },
        "id": "aG_R0U5B7yIa",
        "outputId": "3f461b28-0ac3-4be9-8503-f9c99772a897"
      },
      "outputs": [],
      "source": [
        "sum(ten_picks == 'heads')"
      ]
    },
    {
      "cell_type": "code",
      "execution_count": null,
      "metadata": {
        "colab": {
          "base_uri": "https://localhost:8080/"
        },
        "id": "X0FQzWmPBX3_",
        "outputId": "7587e50e-9713-4e53-8611-95ec3a0dd196"
      },
      "outputs": [],
      "source": [
        "# Count the sum of heads coin flip results in our array\n",
        "sum(np.random.choice(coin, 10) == 'heads')"
      ]
    },
    {
      "cell_type": "code",
      "execution_count": null,
      "metadata": {
        "colab": {
          "base_uri": "https://localhost:8080/"
        },
        "id": "T4Lr4-0H79yx",
        "outputId": "1ac5ef5a-20f2-466c-c198-b9b9d3bb7c63"
      },
      "outputs": [],
      "source": [
        "sum(np.random.choice(coin, 100) == 'heads')"
      ]
    },
    {
      "cell_type": "code",
      "execution_count": null,
      "metadata": {
        "id": "63r3GBLtBX3_"
      },
      "outputs": [],
      "source": [
        "# Simulate one outcome\n",
        "\n",
        "def num_heads():\n",
        "    return sum(np.random.choice(coin, 100) == 'heads')"
      ]
    },
    {
      "cell_type": "code",
      "execution_count": null,
      "metadata": {
        "id": "bsCL5q61BX3_"
      },
      "outputs": [],
      "source": [
        "# Decide how many times you want to repeat the experiment\n",
        "repetitions = 10000"
      ]
    },
    {
      "cell_type": "code",
      "execution_count": null,
      "metadata": {
        "id": "Fc2UPTCABX3_"
      },
      "outputs": [],
      "source": [
        "# Simulate that many outcomes\n",
        "outcomes = make_array()\n",
        "\n",
        "for i in np.arange(repetitions):\n",
        "    outcomes = np.append(outcomes, num_heads())"
      ]
    },
    {
      "cell_type": "code",
      "execution_count": null,
      "metadata": {
        "colab": {
          "base_uri": "https://localhost:8080/",
          "height": 410
        },
        "id": "1oLpf_hvBX3_",
        "outputId": "74dc32b6-db4f-4b0d-e162-ec22c07c26df"
      },
      "outputs": [],
      "source": [
        "heads = Table().with_column('Heads', outcomes)\n",
        "heads.hist(bins = np.arange(29.5, 70.6))"
      ]
    },
    {
      "cell_type": "markdown",
      "metadata": {
        "id": "kekWYylW8XOU"
      },
      "source": [
        "## Random Sampling ##"
      ]
    },
    {
      "cell_type": "markdown",
      "metadata": {
        "id": "WpFSN1f78XOU"
      },
      "source": [
        "We load in a dataset of all United flights national flights from 6/1/15 to 8/9/15, their destination and how long they were delayed, in minutes."
      ]
    },
    {
      "cell_type": "code",
      "execution_count": null,
      "metadata": {
        "id": "3mAdUTuS8XOU"
      },
      "outputs": [],
      "source": [
        "# columns:\n",
        "# date\n",
        "# flight number\n",
        "# destination\n",
        "# delay (in minutes)"
      ]
    },
    {
      "cell_type": "code",
      "execution_count": null,
      "metadata": {
        "colab": {
          "base_uri": "https://localhost:8080/",
          "height": 392
        },
        "id": "-iGYQ60R8XOU",
        "outputId": "3ee343cc-05a4-4178-c84a-6a1d31ec7a44"
      },
      "outputs": [],
      "source": [
        "# Load in our data\n",
        "united = Table.read_table('united.csv')\n",
        "united = united.with_column('Row', np.arange(united.num_rows)).move_to_start('Row') # add row numbers so we can see samples more easily\n",
        "united"
      ]
    },
    {
      "cell_type": "markdown",
      "metadata": {
        "id": "OO3W1T4W8XOV"
      },
      "source": [
        "For each of the following, is this a deterministic or a random sampling strategy?"
      ]
    },
    {
      "cell_type": "code",
      "execution_count": null,
      "metadata": {
        "colab": {
          "base_uri": "https://localhost:8080/",
          "height": 392
        },
        "id": "3di-2L-18XOV",
        "outputId": "3caa87f7-6a3e-4654-a041-5f2b9d90904d"
      },
      "outputs": [],
      "source": [
        "# Take a sample, like we've been doing already in this class\n",
        "united.where('Destination', 'JFK')"
      ]
    },
    {
      "cell_type": "code",
      "execution_count": null,
      "metadata": {
        "colab": {
          "base_uri": "https://localhost:8080/",
          "height": 143
        },
        "id": "c6zhNuHQ8XOV",
        "outputId": "dfbbbc62-208d-48c7-f656-5162b64a9601"
      },
      "outputs": [],
      "source": [
        "# Sampling table method, with replacement\n",
        "united.sample(3, with_replacement= True)"
      ]
    },
    {
      "cell_type": "code",
      "execution_count": null,
      "metadata": {
        "colab": {
          "base_uri": "https://localhost:8080/",
          "height": 392
        },
        "id": "gpiS9wCn8XOV",
        "outputId": "34d505d3-1af7-4552-875a-d21d03d34e33"
      },
      "outputs": [],
      "source": [
        "# sample using np.arange\n",
        "united.take(np.arange(0, united.num_rows, 1000))"
      ]
    },
    {
      "cell_type": "code",
      "execution_count": null,
      "metadata": {
        "colab": {
          "base_uri": "https://localhost:8080/",
          "height": 143
        },
        "id": "YZt9hjX-8XOV",
        "outputId": "debd5fa3-e923-4a31-cd0d-3ccd6568791a"
      },
      "outputs": [],
      "source": [
        "# Sample using take method\n",
        "united.take(make_array(34, 6321, 10040))"
      ]
    },
    {
      "cell_type": "code",
      "execution_count": null,
      "metadata": {
        "colab": {
          "base_uri": "https://localhost:8080/",
          "height": 143
        },
        "id": "g4cxBBUH8XOW",
        "outputId": "4d26fb8e-afe3-4217-faad-7b446b8b7750"
      },
      "outputs": [],
      "source": [
        "# combination of methods\n",
        "united.where('Destination', 'JFK').sample(3,with_replacement= True)"
      ]
    },
    {
      "cell_type": "code",
      "execution_count": null,
      "metadata": {
        "colab": {
          "base_uri": "https://localhost:8080/",
          "height": 488
        },
        "id": "3WpllqyD8XOW",
        "outputId": "18864d09-2d3d-4f83-8b16-51693fc8150c"
      },
      "outputs": [],
      "source": [
        "# A systematic sample example\n",
        "start = np.random.choice(np.arange(1000))\n",
        "systematic_sample = united.take(np.arange(start, united.num_rows, 1000))\n",
        "systematic_sample.show()"
      ]
    },
    {
      "cell_type": "markdown",
      "metadata": {
        "id": "ykcqtbIP8XOW"
      },
      "source": [
        "## Distributions ##"
      ]
    },
    {
      "cell_type": "code",
      "execution_count": null,
      "metadata": {
        "colab": {
          "base_uri": "https://localhost:8080/",
          "height": 238
        },
        "id": "WN4xkhYQ8XOW",
        "outputId": "75452362-34b5-45c7-9417-f8d7a0702a48"
      },
      "outputs": [],
      "source": [
        "# A single, fair die\n",
        "die = Table().with_column('Face', np.arange(1, 7))\n",
        "die"
      ]
    },
    {
      "cell_type": "markdown",
      "metadata": {
        "id": "PHRgxwtn8XOW"
      },
      "source": [
        "What is the **Probability Distribution** of drawing each face assuming each face is equally likely (a 'fair die')?"
      ]
    },
    {
      "cell_type": "code",
      "execution_count": null,
      "metadata": {
        "colab": {
          "base_uri": "https://localhost:8080/",
          "height": 417
        },
        "id": "FbDOS1wl8XOW",
        "outputId": "6878f07e-d3c6-4833-eb60-ab4bad980f71"
      },
      "outputs": [],
      "source": [
        "# Probability distribution\n",
        "roll_bins = np.arange(0.5,6.6,1)\n",
        "die.hist(bins=roll_bins)"
      ]
    },
    {
      "cell_type": "markdown",
      "metadata": {
        "id": "0jx8RYw68XOW"
      },
      "source": [
        "We can sample from the die table many times with replacement:"
      ]
    },
    {
      "cell_type": "code",
      "execution_count": null,
      "metadata": {
        "colab": {
          "base_uri": "https://localhost:8080/",
          "height": 206
        },
        "id": "JIWZrUwz8XOX",
        "outputId": "cd39242a-a591-4346-8494-34dc7fb87f5b"
      },
      "outputs": [],
      "source": [
        "die.sample(5)"
      ]
    },
    {
      "cell_type": "markdown",
      "metadata": {
        "id": "Ot49gxlz8XOX"
      },
      "source": [
        "We can construct an **Empirical Distribution** from our simulation:"
      ]
    },
    {
      "cell_type": "code",
      "execution_count": null,
      "metadata": {
        "colab": {
          "base_uri": "https://localhost:8080/",
          "height": 410
        },
        "id": "gfenM7Wo8XOX",
        "outputId": "6696e8cf-3763-4748-8df2-272d6645eba0"
      },
      "outputs": [],
      "source": [
        "die.sample(10).hist(bins=roll_bins)"
      ]
    },
    {
      "cell_type": "markdown",
      "metadata": {
        "id": "H7e87Rap8XOX"
      },
      "source": [
        "What happens if we increase the number of trials in our simulation? What happens to the distribution?"
      ]
    },
    {
      "cell_type": "code",
      "execution_count": null,
      "metadata": {
        "colab": {
          "base_uri": "https://localhost:8080/",
          "height": 410
        },
        "id": "pEistIVu8XOX",
        "outputId": "2475437d-b4a7-4ccf-a38d-3f6570562c32"
      },
      "outputs": [],
      "source": [
        "die.sample(1000).hist(bins=roll_bins)"
      ]
    },
    {
      "cell_type": "code",
      "execution_count": null,
      "metadata": {
        "colab": {
          "base_uri": "https://localhost:8080/",
          "height": 415
        },
        "id": "oRD0MwFg8XOX",
        "outputId": "75665ec6-121e-45ad-d375-78a90985fdd6"
      },
      "outputs": [],
      "source": [
        "die.sample(100000).hist(bins=roll_bins)"
      ]
    },
    {
      "cell_type": "markdown",
      "metadata": {
        "id": "-xJRmiG48XOX"
      },
      "source": [
        "## Large Random Samples ##"
      ]
    },
    {
      "cell_type": "markdown",
      "metadata": {
        "id": "cOs-uqTh8XOX"
      },
      "source": [
        "The United flight dataset is a relatively large dataset:"
      ]
    },
    {
      "cell_type": "code",
      "execution_count": null,
      "metadata": {
        "colab": {
          "base_uri": "https://localhost:8080/"
        },
        "id": "p6SGgTlC8XOX",
        "outputId": "e4384348-d59a-4b15-853c-c5be963cbdb6"
      },
      "outputs": [],
      "source": [
        "# Show how much data\n",
        "united.num_rows"
      ]
    },
    {
      "cell_type": "markdown",
      "metadata": {
        "id": "BGbEyyGn8XOY"
      },
      "source": [
        "We can plot the distribution of delays for the population:"
      ]
    },
    {
      "cell_type": "code",
      "execution_count": null,
      "metadata": {
        "colab": {
          "base_uri": "https://localhost:8080/",
          "height": 410
        },
        "id": "2kAJcfpM8XOY",
        "outputId": "111de41e-f9ef-4e94-df04-b28d2f82903a"
      },
      "outputs": [],
      "source": [
        "# Some very delayed flights\n",
        "united.hist('Delay', bins = 50)"
      ]
    },
    {
      "cell_type": "code",
      "execution_count": null,
      "metadata": {
        "colab": {
          "base_uri": "https://localhost:8080/",
          "height": 392
        },
        "id": "JdMOIiaQ8XOY",
        "outputId": "59e32c6f-0fb1-442b-a576-bc7a3a1b8c2a"
      },
      "outputs": [],
      "source": [
        "united.sort('Delay', descending = True)"
      ]
    },
    {
      "cell_type": "markdown",
      "metadata": {
        "id": "t6VJEhVj8XOY"
      },
      "source": [
        "Let's truncate the extreme flights with a histogram from -20 to 201. (More on why later)"
      ]
    },
    {
      "cell_type": "code",
      "execution_count": null,
      "metadata": {
        "colab": {
          "base_uri": "https://localhost:8080/",
          "height": 410
        },
        "id": "o0YnQkOw8XOY",
        "outputId": "b3ffe481-8060-490d-90c6-ff9e3514a577"
      },
      "outputs": [],
      "source": [
        "# Show the adjusted histogram\n",
        "united_bins = np.arange(-20,201,5) # -20 means left early, and then up to 5 mins\n",
        "united.hist('Delay', bins = united_bins)"
      ]
    },
    {
      "cell_type": "markdown",
      "metadata": {
        "id": "KiYrBgoA8XOY"
      },
      "source": [
        "What happens if we take a small sample from this population of flights and compute the distribution of delays:"
      ]
    },
    {
      "cell_type": "code",
      "execution_count": null,
      "metadata": {
        "colab": {
          "base_uri": "https://localhost:8080/",
          "height": 410
        },
        "id": "eayn9NMp8XOY",
        "outputId": "dc3ebe24-427f-4e54-8c85-ba08a6f34b79"
      },
      "outputs": [],
      "source": [
        "united.sample(10).hist('Delay', bins = united_bins)"
      ]
    },
    {
      "cell_type": "code",
      "execution_count": null,
      "metadata": {
        "colab": {
          "base_uri": "https://localhost:8080/",
          "height": 410
        },
        "id": "V0urTXZr8XOY",
        "outputId": "cb48e105-89a0-4dc0-f7ea-180ae36d22ff"
      },
      "outputs": [],
      "source": [
        "# Increase the sample size\n",
        "united.sample(1000).hist('Delay', bins = united_bins)"
      ]
    },
    {
      "cell_type": "markdown",
      "metadata": {
        "id": "WVPSES7U8XOZ"
      },
      "source": [
        "## Simulating Statistics ##"
      ]
    },
    {
      "cell_type": "markdown",
      "metadata": {
        "id": "CpjYHNkO8XOZ"
      },
      "source": [
        "Because we have access to the population (this is rare!) we can compute the parameters directly from the data. For example, suppose we wanted to know the median flight delay:"
      ]
    },
    {
      "cell_type": "code",
      "execution_count": null,
      "metadata": {
        "colab": {
          "base_uri": "https://localhost:8080/"
        },
        "id": "vJV2tr0H8XOZ",
        "outputId": "d0e197d5-bc76-423c-d654-3e842a55e025"
      },
      "outputs": [],
      "source": [
        "np.median(united.column('Delay'))"
      ]
    },
    {
      "cell_type": "markdown",
      "metadata": {
        "id": "F_FCUCbB8XOZ"
      },
      "source": [
        "In practice, we will often have a sample. The median of the sample is a statistic that estimates the median of the population."
      ]
    },
    {
      "cell_type": "code",
      "execution_count": null,
      "metadata": {
        "colab": {
          "base_uri": "https://localhost:8080/"
        },
        "id": "Ecwkn2xW8XOZ",
        "outputId": "f948ea42-e063-4beb-98af-d1285042c4f9"
      },
      "outputs": [],
      "source": [
        "np.median(united.sample(10).column('Delay'))"
      ]
    },
    {
      "cell_type": "markdown",
      "metadata": {
        "id": "96BrywRK8XOZ"
      },
      "source": [
        "Here we define a function to simulate the process of computing the median from a random sample of a given size:"
      ]
    },
    {
      "cell_type": "code",
      "execution_count": null,
      "metadata": {
        "id": "_g7WT3NY8XOZ"
      },
      "outputs": [],
      "source": [
        "def sample_median(size):\n",
        "    return np.median(united.sample(size).column('Delay'))"
      ]
    },
    {
      "cell_type": "code",
      "execution_count": null,
      "metadata": {
        "colab": {
          "base_uri": "https://localhost:8080/"
        },
        "id": "FlHY1xOR8XOZ",
        "outputId": "882bedbd-22ba-4d6f-d39e-c061bae08095"
      },
      "outputs": [],
      "source": [
        "sample_median(10)"
      ]
    },
    {
      "cell_type": "markdown",
      "metadata": {
        "id": "dyDF-hMi8XOa"
      },
      "source": [
        "We can then simulate this sampling process many times:"
      ]
    },
    {
      "cell_type": "code",
      "execution_count": null,
      "metadata": {
        "id": "0o8dCAFK8XOa"
      },
      "outputs": [],
      "source": [
        "sample_medians = make_array()\n",
        "\n",
        "for i in np.arange(1000):\n",
        "    new_median = sample_median(10)\n",
        "    sample_medians = np.append(sample_medians, new_median)"
      ]
    },
    {
      "cell_type": "code",
      "execution_count": null,
      "metadata": {
        "colab": {
          "base_uri": "https://localhost:8080/",
          "height": 410
        },
        "id": "m_Bb-6ck8XOa",
        "outputId": "6c15027e-baac-472b-841b-2946d4b36a02"
      },
      "outputs": [],
      "source": [
        "medians = Table().with_columns('Sample medians', sample_medians, 'Sample size', 10)\n",
        "medians.hist('Sample medians', bins = 50)"
      ]
    },
    {
      "cell_type": "code",
      "execution_count": null,
      "metadata": {
        "id": "Ug6pA1VB8XOa"
      },
      "outputs": [],
      "source": [
        "sample_medians2 = make_array()\n",
        "\n",
        "for i in np.arange(1000):\n",
        "    new_median = sample_median(1000)\n",
        "    sample_medians2 = np.append(sample_medians2, new_median)"
      ]
    },
    {
      "cell_type": "code",
      "execution_count": null,
      "metadata": {
        "colab": {
          "base_uri": "https://localhost:8080/",
          "height": 416
        },
        "id": "llaTXLiD8XOa",
        "outputId": "e404c0f9-6251-46d1-ce67-96768576d5ce"
      },
      "outputs": [],
      "source": [
        "# Combine both samples into a table and plot\n",
        "overall_tbl = medians.append(Table().with_columns(\n",
        "    \"Sample medians\", sample_medians2,\n",
        "    \"Sample size\", 1000))\n",
        "overall_tbl.hist(\"Sample medians\", group=\"Sample size\", bins = 50)"
      ]
    },
    {
      "cell_type": "markdown",
      "metadata": {
        "id": "dfueBtym8XOa"
      },
      "source": [
        "#### Empirical Distributions of a Statistic (Overlayed)"
      ]
    },
    {
      "cell_type": "code",
      "execution_count": null,
      "metadata": {
        "id": "JRXRXScc8XOa"
      },
      "outputs": [],
      "source": [
        "sample_medians_10 = make_array()\n",
        "sample_medians_100 = make_array()\n",
        "sample_medians_1000 = make_array()\n",
        "\n",
        "num_simulations = 2000\n",
        "\n",
        "for i in np.arange(num_simulations):\n",
        "    new_median_10 = sample_median(10)\n",
        "    sample_medians_10 = np.append(sample_medians_10, new_median_10)\n",
        "    new_median_100 = sample_median(100)\n",
        "    sample_medians_100 = np.append(sample_medians_100, new_median_100)\n",
        "    new_median_1000 = sample_median(1000)\n",
        "    sample_medians_1000 = np.append(sample_medians_1000, new_median_1000)"
      ]
    },
    {
      "cell_type": "code",
      "execution_count": null,
      "metadata": {
        "id": "bUOZIt988XOa"
      },
      "outputs": [],
      "source": [
        "sample_medians = Table().with_columns('Size 10', sample_medians_10,\n",
        "                                      'Size 100', sample_medians_100,\n",
        "                                      'Size 1000', sample_medians_1000)"
      ]
    },
    {
      "cell_type": "code",
      "execution_count": null,
      "metadata": {
        "colab": {
          "base_uri": "https://localhost:8080/",
          "height": 384
        },
        "id": "ErvAn7l-8XOa",
        "outputId": "71325ed6-fc9f-414a-9fbb-fc0e5879ea0e"
      },
      "outputs": [],
      "source": [
        "sample_medians.hist(bins = np.arange(-5, 30))"
      ]
    },
    {
      "cell_type": "markdown",
      "metadata": {
        "id": "ZvdvEeAIe57Y"
      },
      "source": [
        "## Saving\n",
        "Remember to save your notebook before closing. Choose **Save** (and make sure you've already saved a copy in your drive) from the **File** menu."
      ]
    }
  ],
  "metadata": {
    "colab": {
      "provenance": []
    },
    "kernelspec": {
      "display_name": "Python 3",
      "language": "python",
      "name": "python3"
    },
    "language_info": {
      "codemirror_mode": {
        "name": "ipython",
        "version": 3
      },
      "file_extension": ".py",
      "mimetype": "text/x-python",
      "name": "python",
      "nbconvert_exporter": "python",
      "pygments_lexer": "ipython3",
      "version": "3.10.12"
    }
  },
  "nbformat": 4,
  "nbformat_minor": 0
}
