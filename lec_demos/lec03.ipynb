{
  "cells": [
    {
      "cell_type": "markdown",
      "metadata": {
        "id": "lWPjSFBeJfU2"
      },
      "source": [
        "<a href=\"https://colab.research.google.com/github/tmckim/materials-sp24-colab/blob/main/lec_demos/lec03.ipynb\" target=\"_parent\"><img src=\"https://colab.research.google.com/assets/colab-badge.svg\" alt=\"Open In Colab\"/></a>"
      ]
    },
    {
      "cell_type": "markdown",
      "metadata": {
        "id": "OnBSpwoEJfU4"
      },
      "source": [
        "## Before you start - Save this notebook!\n",
        "\n",
        "When you open a new Colab notebook from the WebCampus (like you hopefully did for this one), you cannot save changes. So it's  best to store the Colab notebook in your personal drive `\"File > Save a copy in drive...\"` **before** you do anything else.\n",
        "\n",
        "The file will open in a new tab in your web browser, and it is automatically named something like: \"**Copy of lec03.ipynb**\". You can rename this to just the title of the assignment \"**lec03.ipynb**\". Make sure you do keep an informative name (like the name of the assignment) so that you know which files to submit back to WebCampus for grading! More instructions on this are at the end of the notebook.\n",
        "\n",
        "\n",
        "**Where does the notebook get saved in Google Drive?**\n",
        "\n",
        "By default, the notebook will be copied to a folder called “Colab Notebooks” at the root (home directory) of your Google Drive. If you use this for other courses or personal code notebooks, I recommend creating a folder for this course and then moving the assignments AFTER you have completed them. <br>\n",
        "\n",
        "I also recommend you give the folder where you save your notebooks^ a different name than the folder we create below that will store the notebook resources you need each time you work through a course notebook. This includes any data files you will need, links to the images that appear in the notebook, and the files associated with the autograder for answer checking.<br>\n",
        "You should select a name other than '**NS499-DataSci-course-materials**'. <br>\n",
        "This folder gets overwritten with each assignment you work on in the course, so you should **NOT** store your notebooks in this folder that we use for course materials! <br><br>For example, you could create a folder called 'NS499-**notebooks**' or something along those lines. \n",
        "\n",
        "__________"
      ]
    },
    {
      "cell_type": "code",
      "execution_count": null,
      "metadata": {},
      "outputs": [],
      "source": [
        "# Setup and add files needed to access gdrive\n",
        "# If you restart colab, start by re-running this cell first!\n",
        "from google.colab import drive                                   # these lines mount your gdrive to access the files we import below\n",
        "drive.mount('/content/gdrive', force_remount=True)\n",
        "\n",
        "# We make this folder (dir) for all your course materials this semester!\n",
        "# You only need to do this once, so if you already ran this during the lecture demo or lab01, then you do *NOT* need it here (leave commented out behind the #)\n",
        "# !mkdir -p '/content/gdrive/My Drive/NS499-DataSci-course-materials/'  # Don't change this name! This is where everything gets stored in gdrive, consistent for the semester\n",
        "\n",
        "%cd /content/gdrive/MyDrive/NS499-DataSci-course-materials/         # Change directory to the correct location in gdrive\n",
        "!rm -r materials-sp24-colab                                         # Remove the files that were previously there- we will replace with all the old + new ones for this assignment\n",
        "\n",
        "# These lines clone (copy) all the files you will need from where I store the code+data for the course (github)\n",
        "# Second part of the code copies the files to this location and folder in your own gdrive\n",
        "!git clone https://github.com/tmckim/materials-sp24-colab '/content/gdrive/My Drive/NS499-DataSci-course-materials/materials-sp24-colab/'\n",
        "\n",
        "\n",
        "# Change directory (cd) into the folder where the resources for this hw are stored in gdrive\n",
        "%cd /content/gdrive/MyDrive/NS499-DataSci-course-materials/materials-sp24-colab/lec_demos/"
      ]
    },
    {
      "cell_type": "markdown",
      "metadata": {},
      "source": [
        "#### Today's Lecture\n",
        "\n",
        "In today's lecture, you'll learn how to:\n",
        "\n",
        "1. use python to do arithmetic\n",
        "2. import packages to use built in methods and functions\n",
        "3. practice accessing data in tables"
      ]
    },
    {
      "cell_type": "code",
      "execution_count": null,
      "metadata": {
        "id": "MRkneuHTMdzE"
      },
      "outputs": [],
      "source": [
        "# Import packages and other things needed\n",
        "# Don't change this cell; Just run this cell\n",
        "# If you restart colab, make sure to run this cell again after the first one above^\n",
        "\n",
        "from datascience import *\n",
        "import numpy as np\n",
        "\n",
        "%matplotlib inline\n",
        "import matplotlib.pyplot as plots\n",
        "plots.style.use(\"fivethirtyeight\")"
      ]
    },
    {
      "cell_type": "markdown",
      "metadata": {
        "id": "HW8_NoyHJfU6"
      },
      "source": [
        "## Python Arithmetic ##"
      ]
    },
    {
      "cell_type": "code",
      "execution_count": null,
      "metadata": {
        "id": "s0jALpZQJfU6",
        "scrolled": true
      },
      "outputs": [],
      "source": [
        "# Addition\n",
        "2 + 6"
      ]
    },
    {
      "cell_type": "code",
      "execution_count": null,
      "metadata": {
        "id": "PDOOSfmkJfU7"
      },
      "outputs": [],
      "source": [
        "# Multiplication\n",
        "2 * 4"
      ]
    },
    {
      "cell_type": "code",
      "execution_count": null,
      "metadata": {
        "id": "LYkh2hJ0JfU7"
      },
      "outputs": [],
      "source": [
        "# The line below errors\n",
        "2 * * 4"
      ]
    },
    {
      "cell_type": "code",
      "execution_count": null,
      "metadata": {
        "id": "yV7ok6M-JfU7"
      },
      "outputs": [],
      "source": [
        "# Exponentiation\n",
        "2 ** 4"
      ]
    },
    {
      "cell_type": "code",
      "execution_count": null,
      "metadata": {
        "id": "cDvasiFBJfU7"
      },
      "outputs": [],
      "source": [
        "# Division\n",
        "8/9"
      ]
    },
    {
      "cell_type": "code",
      "execution_count": null,
      "metadata": {
        "id": "I0iBLA35JfU7"
      },
      "outputs": [],
      "source": [
        "# Combined operations\n",
        "2 + 3 * -5"
      ]
    },
    {
      "cell_type": "code",
      "execution_count": null,
      "metadata": {
        "id": "xtcwyTpsJfU8"
      },
      "outputs": [],
      "source": [
        "# Order of operations\n",
        "(2 + 3) * -5"
      ]
    },
    {
      "cell_type": "code",
      "execution_count": null,
      "metadata": {
        "id": "PX7l0Om9JfU8"
      },
      "outputs": [],
      "source": [
        "# Text or strings\n",
        "'hello'"
      ]
    },
    {
      "cell_type": "code",
      "execution_count": null,
      "metadata": {
        "id": "IDzijY0KJfU8"
      },
      "outputs": [],
      "source": [
        "# Strings with spaces\n",
        "'Introduction to Data Science'"
      ]
    },
    {
      "cell_type": "code",
      "execution_count": null,
      "metadata": {
        "id": "KnvMPN1sN92x"
      },
      "outputs": [],
      "source": [
        "# Adding text together\n",
        "'Introduction' + 'to' + 'Data' + 'Science'"
      ]
    },
    {
      "cell_type": "code",
      "execution_count": null,
      "metadata": {
        "id": "5xGY6qvaOjba"
      },
      "outputs": [],
      "source": [
        "# Multiplying text\n",
        "'ha'* 10"
      ]
    },
    {
      "cell_type": "markdown",
      "metadata": {
        "id": "-gFRv83nJfU8"
      },
      "source": [
        "## Names ##"
      ]
    },
    {
      "cell_type": "code",
      "execution_count": null,
      "metadata": {
        "id": "2wGmHEv_JfU8"
      },
      "outputs": [],
      "source": [
        "# Assignments\n",
        "a = 2"
      ]
    },
    {
      "cell_type": "code",
      "execution_count": null,
      "metadata": {
        "id": "c_JHN5f1JfU9"
      },
      "outputs": [],
      "source": [
        "# Print the value of a\n",
        "a"
      ]
    },
    {
      "cell_type": "code",
      "execution_count": null,
      "metadata": {
        "id": "pHDJFUcOJfU9"
      },
      "outputs": [],
      "source": [
        "# The line below causes a name error if b isn't assigned yet.\n",
        "# b"
      ]
    },
    {
      "cell_type": "code",
      "execution_count": null,
      "metadata": {
        "id": "afu6fd98JfU-"
      },
      "outputs": [],
      "source": [
        "# Multiply a and b\n",
        "b = 3\n",
        "a * b"
      ]
    },
    {
      "cell_type": "code",
      "execution_count": null,
      "metadata": {
        "id": "WSbZcxEnJfU-"
      },
      "outputs": [],
      "source": [
        "a"
      ]
    },
    {
      "cell_type": "code",
      "execution_count": null,
      "metadata": {
        "id": "6xll283kJfU-"
      },
      "outputs": [],
      "source": [
        "b"
      ]
    },
    {
      "cell_type": "code",
      "execution_count": null,
      "metadata": {
        "id": "KmX5ELrpJfU-"
      },
      "outputs": [],
      "source": [
        "# Add a and b\n",
        "total = a + b\n",
        "total"
      ]
    },
    {
      "cell_type": "code",
      "execution_count": null,
      "metadata": {
        "id": "ewVw0zlvJfU-"
      },
      "outputs": [],
      "source": [
        "# Adjust value of a. What happens to total?\n",
        "a = 10\n",
        "total"
      ]
    },
    {
      "cell_type": "code",
      "execution_count": null,
      "metadata": {
        "id": "-U6q8lBrJfU-"
      },
      "outputs": [],
      "source": [
        "# Print value of total\n",
        "total"
      ]
    },
    {
      "cell_type": "code",
      "execution_count": null,
      "metadata": {
        "id": "DGMs12GLJfU-"
      },
      "outputs": [],
      "source": [
        "# Print value of a\n",
        "a"
      ]
    },
    {
      "cell_type": "code",
      "execution_count": null,
      "metadata": {
        "id": "qFJ_q_MWJfU_"
      },
      "outputs": [],
      "source": [
        "# Assign total to a plus b\n",
        "total = a + b\n",
        "total"
      ]
    },
    {
      "cell_type": "code",
      "execution_count": null,
      "metadata": {
        "id": "aLiqhlsnJfU_"
      },
      "outputs": [],
      "source": [
        "# The line below causes a syntax error\n",
        "# a + b = total"
      ]
    },
    {
      "cell_type": "code",
      "execution_count": null,
      "metadata": {
        "id": "i5lOk8PNJfU_"
      },
      "outputs": [],
      "source": [
        "# Add one to the value of a\n",
        "a = a + 1\n",
        "a"
      ]
    },
    {
      "cell_type": "markdown",
      "metadata": {
        "id": "tO6NhVuuJfU_"
      },
      "source": [
        "### Why Names?"
      ]
    },
    {
      "cell_type": "markdown",
      "metadata": {
        "id": "7OmgLHkQJfU_"
      },
      "source": [
        "A cell with arithmetic but no names is difficult to interpret."
      ]
    },
    {
      "cell_type": "code",
      "execution_count": null,
      "metadata": {
        "id": "TndNU4eoJfU_"
      },
      "outputs": [],
      "source": [
        "# Option 1\n",
        "40 * 15.00"
      ]
    },
    {
      "cell_type": "code",
      "execution_count": null,
      "metadata": {
        "id": "9_TXfZp6JfU_"
      },
      "outputs": [],
      "source": [
        "# Multiply some values\n",
        "40 * 52 * 15.00"
      ]
    },
    {
      "cell_type": "markdown",
      "metadata": {
        "id": "oAzRYf4VJfVA"
      },
      "source": [
        "On January 1, 2022, the CA Minimum Wage for Employers with 26 Employees or More increased to $15/hour."
      ]
    },
    {
      "cell_type": "code",
      "execution_count": null,
      "metadata": {
        "id": "fUQyjaZJJfVA"
      },
      "outputs": [],
      "source": [
        "# Option 2\n",
        "ca_hourly_minimum_wage = 15.00\n",
        "hours_per_week = 40\n",
        "weeks_per_year = 52"
      ]
    },
    {
      "cell_type": "code",
      "execution_count": null,
      "metadata": {
        "id": "LryLaYRIJfVA"
      },
      "outputs": [],
      "source": [
        "# Calculate hours_per_year by multiplying the values of hours_per_week and weeks_per_year\n",
        "hours_per_year = hours_per_week * weeks_per_year"
      ]
    },
    {
      "cell_type": "code",
      "execution_count": null,
      "metadata": {
        "id": "QKClxPiJJfVA"
      },
      "outputs": [],
      "source": [
        "# Show the value of hours_per_year\n",
        "hours_per_year"
      ]
    },
    {
      "cell_type": "code",
      "execution_count": null,
      "metadata": {
        "id": "MZN7LpqvJfVA"
      },
      "outputs": [],
      "source": [
        "# Weekly_wages is equal to hours_per_week multiplied by ca_hourly_minimum_wage\n",
        "weekly_wages = hours_per_week * ca_hourly_minimum_wage\n",
        "weekly_wages"
      ]
    },
    {
      "cell_type": "code",
      "execution_count": null,
      "metadata": {
        "id": "pmsgUm2pJfVB"
      },
      "outputs": [],
      "source": [
        "# yearly_wages is equal to hours_per_year multiplied by ca_hourly_minimum_wage\n",
        "yearly_wages = hours_per_year * ca_hourly_minimum_wage\n",
        "yearly_wages"
      ]
    },
    {
      "cell_type": "markdown",
      "metadata": {
        "id": "5m1xz6ddJfVB"
      },
      "source": [
        "## Functions and Call Expressions"
      ]
    },
    {
      "cell_type": "code",
      "execution_count": null,
      "metadata": {
        "id": "Ul45gttfJfVB"
      },
      "outputs": [],
      "source": [
        "# Absolute value function\n",
        "abs(-5)"
      ]
    },
    {
      "cell_type": "code",
      "execution_count": null,
      "metadata": {
        "id": "8GC7GgGiJfVB"
      },
      "outputs": [],
      "source": [
        "# Example 2\n",
        "abs(1 - 3)"
      ]
    },
    {
      "cell_type": "code",
      "execution_count": null,
      "metadata": {
        "id": "XftxLXFNJfVB"
      },
      "outputs": [],
      "source": [
        "# Assign names first and then calculate the absolute value\n",
        "day_temp = 52\n",
        "night_temp = 47\n",
        "abs(night_temp - day_temp)"
      ]
    },
    {
      "cell_type": "code",
      "execution_count": null,
      "metadata": {
        "id": "1W5JmY5TJfVC"
      },
      "outputs": [],
      "source": [
        "# Minimum function\n",
        "min(14, 15)"
      ]
    },
    {
      "cell_type": "code",
      "execution_count": null,
      "metadata": {
        "id": "V97HtXq5JfVC"
      },
      "outputs": [],
      "source": [
        "# Round function\n",
        "round(123.456)"
      ]
    },
    {
      "cell_type": "code",
      "execution_count": null,
      "metadata": {
        "id": "Az_PHoYGJfVC"
      },
      "outputs": [],
      "source": [
        "# Round function using 3 input numbers\n",
        "round(123.456, 1)"
      ]
    },
    {
      "cell_type": "code",
      "execution_count": null,
      "metadata": {
        "id": "TgEGkK6SJfVC"
      },
      "outputs": [],
      "source": [
        "# Round function including optional arguments (ndigits)\n",
        "round(123.456, ndigits=1)"
      ]
    },
    {
      "cell_type": "code",
      "execution_count": null,
      "metadata": {
        "id": "xj2M1i3aJfVC"
      },
      "outputs": [],
      "source": [
        "# Get help with the round function\n",
        "round?"
      ]
    },
    {
      "cell_type": "code",
      "execution_count": null,
      "metadata": {
        "id": "vPDaZBKMJfVC"
      },
      "outputs": [],
      "source": [
        "# Round function explicitly assigning the number value\n",
        "round(number=123.456)"
      ]
    },
    {
      "cell_type": "code",
      "execution_count": null,
      "metadata": {
        "id": "nK9yAAsMJfVC"
      },
      "outputs": [],
      "source": [
        "# The line below causes a type error because...\n",
        "round(123.456, digs=1)"
      ]
    },
    {
      "cell_type": "code",
      "execution_count": null,
      "metadata": {
        "id": "tsMT_VJVJfVC"
      },
      "outputs": [],
      "source": [
        "# The line below causes an error if math has not been imported\n",
        "# math.sqrt(2)"
      ]
    },
    {
      "cell_type": "code",
      "execution_count": null,
      "metadata": {
        "id": "xfMb25KBJfVD"
      },
      "outputs": [],
      "source": [
        "# Import the math module\n",
        "import math"
      ]
    },
    {
      "cell_type": "code",
      "execution_count": null,
      "metadata": {
        "id": "OpDcQqmwJfVD"
      },
      "outputs": [],
      "source": [
        "# Use math module and square root function\n",
        "math.sqrt(2)"
      ]
    },
    {
      "cell_type": "markdown",
      "metadata": {
        "id": "p73gzf_nJfVD"
      },
      "source": [
        "## Tables ##"
      ]
    },
    {
      "cell_type": "code",
      "execution_count": null,
      "metadata": {
        "id": "1FiVmmiUJfVD"
      },
      "outputs": [],
      "source": [
        "# Create a table called cones to hold the data from the .csv file\n",
        "cones = Table.read_table('cones.csv')\n",
        "cones"
      ]
    },
    {
      "cell_type": "code",
      "execution_count": null,
      "metadata": {
        "id": "uFp1yPSzJfVD"
      },
      "outputs": [],
      "source": [
        "# Show the entire table\n",
        "cones.show()"
      ]
    },
    {
      "cell_type": "code",
      "execution_count": null,
      "metadata": {
        "id": "x2qmaQE7JfVD"
      },
      "outputs": [],
      "source": [
        "# Show the first 3 rows of the table\n",
        "cones.show(3)"
      ]
    },
    {
      "cell_type": "code",
      "execution_count": null,
      "metadata": {
        "id": "87rnDE6UJfVE"
      },
      "outputs": [],
      "source": [
        "# Select the column named Flavor\n",
        "cones.select('Flavor')"
      ]
    },
    {
      "cell_type": "code",
      "execution_count": null,
      "metadata": {
        "id": "bzVGG9LKJfVE"
      },
      "outputs": [],
      "source": [
        "# Select the multiple columns: Flavor and Price\n",
        "cones.select('Flavor', 'Price')"
      ]
    },
    {
      "cell_type": "code",
      "execution_count": null,
      "metadata": {
        "id": "9_uOFTrrJfVE",
        "tags": [
          "raises-exception"
        ]
      },
      "outputs": [],
      "source": [
        "# The line below causes an error because...\n",
        "cones.select(Flavor, 'Price')"
      ]
    },
    {
      "cell_type": "code",
      "execution_count": null,
      "metadata": {
        "id": "OwFo2YYxJfVE"
      },
      "outputs": [],
      "source": [
        "# Drop the Price column\n",
        "cones.drop('Price')"
      ]
    },
    {
      "cell_type": "code",
      "execution_count": null,
      "metadata": {
        "id": "Z24tSX7oJfVE"
      },
      "outputs": [],
      "source": [
        "# Show the cones table\n",
        "cones"
      ]
    },
    {
      "cell_type": "code",
      "execution_count": null,
      "metadata": {
        "id": "MBI7uYMZJfVE"
      },
      "outputs": [],
      "source": [
        "# Create a new table named cones_without_price that has the Price column removed from the original cones table\n",
        "cones_without_price = cones.drop('Price')\n",
        "cones_without_price"
      ]
    },
    {
      "cell_type": "code",
      "execution_count": null,
      "metadata": {
        "id": "v-T242OHJfVE",
        "scrolled": true
      },
      "outputs": [],
      "source": [
        "# Find the rows where the Flavor is chocolate\n",
        "cones.where('Flavor', 'chocolate')"
      ]
    },
    {
      "cell_type": "code",
      "execution_count": null,
      "metadata": {
        "id": "1Cee0kdNJfVF"
      },
      "outputs": [],
      "source": [
        "# Sort the table by Price\n",
        "cones.sort('Price')"
      ]
    },
    {
      "cell_type": "code",
      "execution_count": null,
      "metadata": {
        "id": "j_v4uEJNJfVF",
        "scrolled": true
      },
      "outputs": [],
      "source": [
        "# Sort the table by Price, from most expensive (highest number) to least expensive (lowest number)\n",
        "cones.sort('Price', descending=True)"
      ]
    },
    {
      "cell_type": "code",
      "execution_count": null,
      "metadata": {
        "id": "-Mxw3rydJfVF"
      },
      "outputs": [],
      "source": [
        "# Sort the table by Flavor, alphabetically from Z to A\n",
        "cones.sort('Flavor', descending=True)"
      ]
    },
    {
      "cell_type": "markdown",
      "metadata": {
        "id": "CaR9gP1kJfVR"
      },
      "source": [
        "### Saving\n",
        "Remember to save your notebook before closing.\n",
        "Choose **Save** (and make sure you've already saved a copy in your drive) from the **File** menu."
      ]
    }
  ],
  "metadata": {
    "anaconda-cloud": {},
    "colab": {
      "provenance": []
    },
    "kernelspec": {
      "display_name": "Python 3",
      "language": "python",
      "name": "python3"
    },
    "language_info": {
      "codemirror_mode": {
        "name": "ipython",
        "version": 3
      },
      "file_extension": ".py",
      "mimetype": "text/x-python",
      "name": "python",
      "nbconvert_exporter": "python",
      "pygments_lexer": "ipython3",
      "version": "3.10.12"
    }
  },
  "nbformat": 4,
  "nbformat_minor": 0
}
