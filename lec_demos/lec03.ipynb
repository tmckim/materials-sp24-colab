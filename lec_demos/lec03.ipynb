{
  "cells": [
    {
      "cell_type": "markdown",
      "metadata": {
        "id": "lWPjSFBeJfU2"
      },
      "source": [
        "<a href=\"https://colab.research.google.com/github/tmckim/materials-sp24-colab/blob/main/lec_demos/lec03.ipynb\" target=\"_parent\"><img src=\"https://colab.research.google.com/assets/colab-badge.svg\" alt=\"Open In Colab\"/></a>"
      ]
    },
    {
      "cell_type": "markdown",
      "metadata": {
        "id": "OnBSpwoEJfU4"
      },
      "source": [
        "## Before you start - Save this notebook!\n",
        "\n",
        "When you open a new Colab notebook from the WebCampus (like you hopefully did for this one), you cannot save changes. So it's  best to store the Colab notebook in your personal drive `\"File > Save a copy in drive...\"` **before** you do anything else.\n",
        "\n",
        "The file will open in a new tab in your web browser, and it is automatically named something like: \"**Copy of lec03.ipynb**\". You can rename this to just the title of the assignment \"**lec03.ipynb**\". Make sure you do keep an informative name (like the name of the assignment) so that you know which files to submit back to WebCampus for grading! More instructions on this are at the end of the notebook.\n",
        "\n",
        "\n",
        "**Where does the notebook get saved in Google Drive?**\n",
        "\n",
        "By default, the notebook will be copied to a folder called “Colab Notebooks” at the root (home directory) of your Google Drive. If you use this for other courses or personal code notebooks, I recommend creating a folder for this course and then moving the assignments AFTER you have completed them. <br>\n",
        "\n",
        "I also recommend you give the folder where you save your notebooks^ a different name than the folder we create below that will store the notebook resources you need each time you work through a course notebook. This includes any data files you will need, links to the images that appear in the notebook, and the files associated with the autograder for answer checking.<br>\n",
        "You should select a name other than '**NS499-DataSci-course-materials**'. <br>\n",
        "This folder gets overwritten with each assignment you work on in the course, so you should **NOT** store your notebooks in this folder that we use for course materials! <br><br>For example, you could create a folder called 'NS499-**notebooks**' or something along those lines. \n",
        "\n",
        "__________"
      ]
    },
    {
      "cell_type": "code",
      "execution_count": null,
      "metadata": {},
      "outputs": [],
      "source": [
        "# Setup and add files needed to access gdrive\n",
        "# If you restart colab, start by re-running this cell first!\n",
        "from google.colab import drive                                   # these lines mount your gdrive to access the files we import below\n",
        "drive.mount('/content/gdrive', force_remount=True)\n",
        "\n",
        "# We make this folder (dir) for all your course materials this semester!\n",
        "# You only need to do this once, so if you already ran this during the lecture demo or lab01, then you do *NOT* need it here (leave commented out behind the #)\n",
        "# !mkdir -p '/content/gdrive/My Drive/NS499-DataSci-course-materials/'  # Don't change this name! This is where everything gets stored in gdrive, consistent for the semester\n",
        "\n",
        "%cd /content/gdrive/MyDrive/NS499-DataSci-course-materials/         # Change directory to the correct location in gdrive\n",
        "!rm -r materials-sp24-colab                                         # Remove the files that were previously there- we will replace with all the old + new ones for this assignment\n",
        "\n",
        "# These lines clone (copy) all the files you will need from where I store the code+data for the course (github)\n",
        "# Second part of the code copies the files to this location and folder in your own gdrive\n",
        "!git clone https://github.com/tmckim/materials-sp24-colab '/content/gdrive/My Drive/NS499-DataSci-course-materials/materials-sp24-colab/'\n",
        "\n",
        "\n",
        "# Change directory (cd) into the folder where the resources for this hw are stored in gdrive\n",
        "%cd /content/gdrive/MyDrive/NS499-DataSci-course-materials/materials-sp24-colab/lec_demos/"
      ]
    },
    {
      "cell_type": "markdown",
      "metadata": {},
      "source": [
        "#### Today's Lecture\n",
        "\n",
        "In today's lecture, you'll learn how to:\n",
        "\n",
        "1. use python to do arithmetic\n",
        "2. import packages to use built in methods and functions\n",
        "3. practice accessing data in tables"
      ]
    },
    {
      "cell_type": "code",
      "execution_count": null,
      "metadata": {
        "id": "MRkneuHTMdzE"
      },
      "outputs": [],
      "source": [
        "# Import packages and other things needed\n",
        "# Don't change this cell; Just run this cell\n",
        "# If you restart colab, make sure to run this cell again after the first one above^\n",
        "\n",
        "from datascience import *\n",
        "import numpy as np\n",
        "\n",
        "%matplotlib inline\n",
        "import matplotlib.pyplot as plots\n",
        "plots.style.use(\"fivethirtyeight\")"
      ]
    },
    {
      "cell_type": "markdown",
      "metadata": {
        "id": "HW8_NoyHJfU6"
      },
      "source": [
        "## Python Arithmetic ##"
      ]
    },
    {
      "cell_type": "code",
      "execution_count": null,
      "metadata": {
        "id": "s0jALpZQJfU6",
        "scrolled": true
      },
      "outputs": [],
      "source": [
        "# Addition\n",
        "2 + 6"
      ]
    },
    {
      "cell_type": "code",
      "execution_count": null,
      "metadata": {
        "id": "PDOOSfmkJfU7"
      },
      "outputs": [],
      "source": [
        "# Multiplication\n",
        "2 * 4"
      ]
    },
    {
      "cell_type": "code",
      "execution_count": null,
      "metadata": {
        "id": "LYkh2hJ0JfU7"
      },
      "outputs": [],
      "source": [
        "# The line below errors\n",
        "2 * * 4"
      ]
    },
    {
      "cell_type": "code",
      "execution_count": null,
      "metadata": {
        "id": "yV7ok6M-JfU7"
      },
      "outputs": [],
      "source": [
        "# Exponentiation\n",
        "2 ** 4"
      ]
    },
    {
      "cell_type": "code",
      "execution_count": null,
      "metadata": {
        "id": "cDvasiFBJfU7"
      },
      "outputs": [],
      "source": [
        "# Division\n",
        "8/9"
      ]
    },
    {
      "cell_type": "code",
      "execution_count": null,
      "metadata": {
        "id": "I0iBLA35JfU7"
      },
      "outputs": [],
      "source": [
        "# Combined operations\n",
        "2 + 3 * -5"
      ]
    },
    {
      "cell_type": "code",
      "execution_count": null,
      "metadata": {
        "id": "xtcwyTpsJfU8"
      },
      "outputs": [],
      "source": [
        "# Order of operations\n",
        "(2 + 3) * -5"
      ]
    },
    {
      "cell_type": "code",
      "execution_count": null,
      "metadata": {
        "id": "PX7l0Om9JfU8"
      },
      "outputs": [],
      "source": [
        "# Text or strings\n",
        "'hello'"
      ]
    },
    {
      "cell_type": "code",
      "execution_count": null,
      "metadata": {
        "id": "IDzijY0KJfU8"
      },
      "outputs": [],
      "source": [
        "# Strings with spaces\n",
        "'Introduction to Data Science'"
      ]
    },
    {
      "cell_type": "code",
      "execution_count": null,
      "metadata": {
        "id": "KnvMPN1sN92x"
      },
      "outputs": [],
      "source": [
        "# Adding text together\n",
        "'Introduction' + 'to' + 'Data' + 'Science'"
      ]
    },
    {
      "cell_type": "code",
      "execution_count": null,
      "metadata": {
        "id": "5xGY6qvaOjba"
      },
      "outputs": [],
      "source": [
        "# Multiplying text\n",
        "'ha'* 10"
      ]
    },
    {
      "cell_type": "markdown",
      "metadata": {
        "id": "-gFRv83nJfU8"
      },
      "source": [
        "## Names ##"
      ]
    },
    {
      "cell_type": "code",
      "execution_count": null,
      "metadata": {
        "id": "2wGmHEv_JfU8"
      },
      "outputs": [],
      "source": [
        "# Assignments\n",
        "a = 2"
      ]
    },
    {
      "cell_type": "code",
      "execution_count": null,
      "metadata": {
        "id": "c_JHN5f1JfU9"
      },
      "outputs": [],
      "source": [
        "# Print the value of a\n",
        "a"
      ]
    },
    {
      "cell_type": "code",
      "execution_count": null,
      "metadata": {
        "id": "pHDJFUcOJfU9"
      },
      "outputs": [],
      "source": [
        "# The line below causes a name error if b isn't assigned yet.\n",
        "# b"
      ]
    },
    {
      "cell_type": "code",
      "execution_count": null,
      "metadata": {
        "id": "afu6fd98JfU-"
      },
      "outputs": [],
      "source": [
        "# Multiply a and b\n",
        "b = 3\n",
        "a * b"
      ]
    },
    {
      "cell_type": "code",
      "execution_count": null,
      "metadata": {
        "id": "WSbZcxEnJfU-"
      },
      "outputs": [],
      "source": [
        "a"
      ]
    },
    {
      "cell_type": "code",
      "execution_count": null,
      "metadata": {
        "id": "6xll283kJfU-"
      },
      "outputs": [],
      "source": [
        "b"
      ]
    },
    {
      "cell_type": "code",
      "execution_count": null,
      "metadata": {
        "id": "KmX5ELrpJfU-"
      },
      "outputs": [],
      "source": [
        "# Add a and b\n",
        "total = a + b\n",
        "total"
      ]
    },
    {
      "cell_type": "code",
      "execution_count": null,
      "metadata": {
        "id": "ewVw0zlvJfU-"
      },
      "outputs": [],
      "source": [
        "# Adjust value of a. What happens to total?\n",
        "a = 10\n",
        "total"
      ]
    },
    {
      "cell_type": "code",
      "execution_count": null,
      "metadata": {
        "id": "-U6q8lBrJfU-"
      },
      "outputs": [],
      "source": [
        "# Print value of total\n",
        "total"
      ]
    },
    {
      "cell_type": "code",
      "execution_count": null,
      "metadata": {
        "id": "DGMs12GLJfU-"
      },
      "outputs": [],
      "source": [
        "# Print value of a\n",
        "a"
      ]
    },
    {
      "cell_type": "code",
      "execution_count": null,
      "metadata": {
        "id": "qFJ_q_MWJfU_"
      },
      "outputs": [],
      "source": [
        "# Assign total to a plus b\n",
        "total = a + b\n",
        "total"
      ]
    },
    {
      "cell_type": "code",
      "execution_count": null,
      "metadata": {
        "id": "aLiqhlsnJfU_"
      },
      "outputs": [],
      "source": [
        "# The line below causes a syntax error\n",
        "# a + b = total"
      ]
    },
    {
      "cell_type": "code",
      "execution_count": null,
      "metadata": {
        "id": "i5lOk8PNJfU_"
      },
      "outputs": [],
      "source": [
        "# Add one to the value of a\n",
        "a = a + 1\n",
        "a"
      ]
    },
    {
      "cell_type": "markdown",
      "metadata": {
        "id": "tO6NhVuuJfU_"
      },
      "source": [
        "### Why Names?"
      ]
    },
    {
      "cell_type": "markdown",
      "metadata": {
        "id": "7OmgLHkQJfU_"
      },
      "source": [
        "A cell with arithmetic but no names is difficult to interpret."
      ]
    },
    {
      "cell_type": "code",
      "execution_count": null,
      "metadata": {
        "id": "TndNU4eoJfU_"
      },
      "outputs": [],
      "source": [
        "# Option 1\n",
        "40 * 15.00"
      ]
    },
    {
      "cell_type": "code",
      "execution_count": null,
      "metadata": {
        "id": "9_TXfZp6JfU_"
      },
      "outputs": [],
      "source": [
        "# Multiply some values\n",
        "40 * 52 * 15.00"
      ]
    },
    {
      "cell_type": "markdown",
      "metadata": {
        "id": "oAzRYf4VJfVA"
      },
      "source": [
        "On January 1, 2022, the CA Minimum Wage for Employers with 26 Employees or More increased to $15/hour."
      ]
    },
    {
      "cell_type": "code",
      "execution_count": null,
      "metadata": {
        "id": "fUQyjaZJJfVA"
      },
      "outputs": [],
      "source": [
        "# Option 2\n",
        "ca_hourly_minimum_wage = 15.00\n",
        "hours_per_week = 40\n",
        "weeks_per_year = 52"
      ]
    },
    {
      "cell_type": "code",
      "execution_count": null,
      "metadata": {
        "id": "LryLaYRIJfVA"
      },
      "outputs": [],
      "source": [
        "# Calculate hours_per_year by multiplying the values of hours_per_week and weeks_per_year\n",
        "hours_per_year = hours_per_week * weeks_per_year"
      ]
    },
    {
      "cell_type": "code",
      "execution_count": null,
      "metadata": {
        "id": "QKClxPiJJfVA"
      },
      "outputs": [],
      "source": [
        "# Show the value of hours_per_year\n",
        "hours_per_year"
      ]
    },
    {
      "cell_type": "code",
      "execution_count": null,
      "metadata": {
        "id": "MZN7LpqvJfVA"
      },
      "outputs": [],
      "source": [
        "# Weekly_wages is equal to hours_per_week multiplied by ca_hourly_minimum_wage\n",
        "weekly_wages = hours_per_week * ca_hourly_minimum_wage\n",
        "weekly_wages"
      ]
    },
    {
      "cell_type": "code",
      "execution_count": null,
      "metadata": {
        "id": "pmsgUm2pJfVB"
      },
      "outputs": [],
      "source": [
        "# yearly_wages is equal to hours_per_year multiplied by ca_hourly_minimum_wage\n",
        "yearly_wages = hours_per_year * ca_hourly_minimum_wage\n",
        "yearly_wages"
      ]
    },
    {
      "cell_type": "markdown",
      "metadata": {
        "id": "5m1xz6ddJfVB"
      },
      "source": [
        "## Functions and Call Expressions"
      ]
    },
    {
      "cell_type": "code",
      "execution_count": null,
      "metadata": {
        "id": "Ul45gttfJfVB"
      },
      "outputs": [],
      "source": [
        "# Absolute value function\n",
        "abs(-5)"
      ]
    },
    {
      "cell_type": "code",
      "execution_count": null,
      "metadata": {
        "id": "8GC7GgGiJfVB"
      },
      "outputs": [],
      "source": [
        "# Example 2\n",
        "abs(1 - 3)"
      ]
    },
    {
      "cell_type": "code",
      "execution_count": null,
      "metadata": {
        "id": "XftxLXFNJfVB"
      },
      "outputs": [],
      "source": [
        "# Assign names first and then calculate the absolute value\n",
        "day_temp = 52\n",
        "night_temp = 47\n",
        "abs(night_temp - day_temp)"
      ]
    },
    {
      "cell_type": "code",
      "execution_count": null,
      "metadata": {
        "id": "1W5JmY5TJfVC"
      },
      "outputs": [],
      "source": [
        "# Minimum function\n",
        "min(14, 15)"
      ]
    },
    {
      "cell_type": "code",
      "execution_count": null,
      "metadata": {
        "id": "V97HtXq5JfVC"
      },
      "outputs": [],
      "source": [
        "# Round function\n",
        "round(123.456)"
      ]
    },
    {
      "cell_type": "code",
      "execution_count": null,
      "metadata": {
        "id": "Az_PHoYGJfVC"
      },
      "outputs": [],
      "source": [
        "# Round function using 3 input numbers\n",
        "round(123.456, 1)"
      ]
    },
    {
      "cell_type": "code",
      "execution_count": null,
      "metadata": {
        "id": "TgEGkK6SJfVC"
      },
      "outputs": [],
      "source": [
        "# Round function including optional arguments (ndigits)\n",
        "round(123.456, ndigits=1)"
      ]
    },
    {
      "cell_type": "code",
      "execution_count": null,
      "metadata": {
        "id": "xj2M1i3aJfVC"
      },
      "outputs": [],
      "source": [
        "# Get help with the round function\n",
        "round?"
      ]
    },
    {
      "cell_type": "code",
      "execution_count": null,
      "metadata": {
        "id": "vPDaZBKMJfVC"
      },
      "outputs": [],
      "source": [
        "# Round function explicitly assigning the number value\n",
        "round(number=123.456)"
      ]
    },
    {
      "cell_type": "code",
      "execution_count": null,
      "metadata": {
        "id": "nK9yAAsMJfVC"
      },
      "outputs": [],
      "source": [
        "# The line below causes a type error because...\n",
        "round(123.456, digs=1)"
      ]
    },
    {
      "cell_type": "code",
      "execution_count": null,
      "metadata": {
        "id": "tsMT_VJVJfVC"
      },
      "outputs": [],
      "source": [
        "# The line below causes an error if math has not been imported\n",
        "# math.sqrt(2)"
      ]
    },
    {
      "cell_type": "code",
      "execution_count": null,
      "metadata": {
        "id": "xfMb25KBJfVD"
      },
      "outputs": [],
      "source": [
        "# Import the math module\n",
        "import math"
      ]
    },
    {
      "cell_type": "code",
      "execution_count": null,
      "metadata": {
        "id": "OpDcQqmwJfVD"
      },
      "outputs": [],
      "source": [
        "# Use math module and square root function\n",
        "math.sqrt(2)"
      ]
    },
    {
      "cell_type": "markdown",
      "metadata": {
        "id": "p73gzf_nJfVD"
      },
      "source": [
        "## Tables ##"
      ]
    },
    {
      "cell_type": "code",
      "execution_count": null,
      "metadata": {
        "id": "1FiVmmiUJfVD"
      },
      "outputs": [],
      "source": [
        "# Create a table called cones to hold the data from the .csv file\n",
        "cones = Table.read_table('cones.csv')\n",
        "cones"
      ]
    },
    {
      "cell_type": "code",
      "execution_count": null,
      "metadata": {
        "id": "uFp1yPSzJfVD"
      },
      "outputs": [],
      "source": [
        "# Show the entire table\n",
        "cones.show()"
      ]
    },
    {
      "cell_type": "code",
      "execution_count": null,
      "metadata": {
        "id": "x2qmaQE7JfVD"
      },
      "outputs": [],
      "source": [
        "# Show the first 3 rows of the table\n",
        "cones.show(3)"
      ]
    },
    {
      "cell_type": "code",
      "execution_count": null,
      "metadata": {
        "id": "87rnDE6UJfVE"
      },
      "outputs": [],
      "source": [
        "# Select the column named Flavor\n",
        "cones.select('Flavor')"
      ]
    },
    {
      "cell_type": "code",
      "execution_count": null,
      "metadata": {
        "id": "bzVGG9LKJfVE"
      },
      "outputs": [],
      "source": [
        "# Select the multiple columns: Flavor and Price\n",
        "cones.select('Flavor', 'Price')"
      ]
    },
    {
      "cell_type": "code",
      "execution_count": null,
      "metadata": {
        "id": "9_uOFTrrJfVE",
        "tags": [
          "raises-exception"
        ]
      },
      "outputs": [],
      "source": [
        "# The line below causes an error because...\n",
        "cones.select(Flavor, 'Price')"
      ]
    },
    {
      "cell_type": "code",
      "execution_count": null,
      "metadata": {
        "id": "OwFo2YYxJfVE"
      },
      "outputs": [],
      "source": [
        "# Drop the Price column\n",
        "cones.drop('Price')"
      ]
    },
    {
      "cell_type": "code",
      "execution_count": null,
      "metadata": {
        "id": "Z24tSX7oJfVE"
      },
      "outputs": [],
      "source": [
        "# Show the cones table\n",
        "cones"
      ]
    },
    {
      "cell_type": "code",
      "execution_count": null,
      "metadata": {
        "id": "MBI7uYMZJfVE"
      },
      "outputs": [],
      "source": [
        "# Create a new table named cones_without_price that has the Price column removed from the original cones table\n",
        "cones_without_price = cones.drop('Price')\n",
        "cones_without_price"
      ]
    },
    {
      "cell_type": "code",
      "execution_count": null,
      "metadata": {
        "id": "v-T242OHJfVE",
        "scrolled": true
      },
      "outputs": [],
      "source": [
        "# Find the rows where the Flavor is chocolate\n",
        "cones.where('Flavor', 'chocolate')"
      ]
    },
    {
      "cell_type": "code",
      "execution_count": null,
      "metadata": {
        "id": "1Cee0kdNJfVF"
      },
      "outputs": [],
      "source": [
        "# Sort the table by Price\n",
        "cones.sort('Price')"
      ]
    },
    {
      "cell_type": "code",
      "execution_count": null,
      "metadata": {
        "id": "j_v4uEJNJfVF",
        "scrolled": true
      },
      "outputs": [],
      "source": [
        "# Sort the table by Price, from most expensive (highest number) to least expensive (lowest number)\n",
        "cones.sort('Price', descending=True)"
      ]
    },
    {
      "cell_type": "code",
      "execution_count": null,
      "metadata": {
        "id": "-Mxw3rydJfVF"
      },
      "outputs": [],
      "source": [
        "# Sort the table by Flavor, alphabetically from Z to A\n",
        "cones.sort('Flavor', descending=True)"
      ]
    },
    {
      "cell_type": "markdown",
      "metadata": {
        "id": "2Qad_WrXJfVF"
      },
      "source": [
        "## Part 2"
      ]
    },
    {
      "cell_type": "markdown",
      "metadata": {
        "id": "7xoMg_taJfVF"
      },
      "source": [
        "## Numbers ##"
      ]
    },
    {
      "cell_type": "code",
      "execution_count": null,
      "metadata": {
        "id": "VxgL-qM7JfVF"
      },
      "outputs": [],
      "source": [
        "# Example number\n",
        "30"
      ]
    },
    {
      "cell_type": "code",
      "execution_count": null,
      "metadata": {
        "id": "vy-Wcx2dJfVF"
      },
      "outputs": [],
      "source": [
        "10 * 3    # int"
      ]
    },
    {
      "cell_type": "code",
      "execution_count": null,
      "metadata": {
        "id": "lp8S-rtJJfVF"
      },
      "outputs": [],
      "source": [
        "10 / 3    # float"
      ]
    },
    {
      "cell_type": "code",
      "execution_count": null,
      "metadata": {
        "id": "nai4szYkJfVG"
      },
      "outputs": [],
      "source": [
        "# Division of two integers- float\n",
        "10 / 2"
      ]
    },
    {
      "cell_type": "code",
      "execution_count": null,
      "metadata": {
        "id": "yHFdm1llJfVG"
      },
      "outputs": [],
      "source": [
        "# Exponentiation with integers\n",
        "10 ** 3"
      ]
    },
    {
      "cell_type": "code",
      "execution_count": null,
      "metadata": {
        "id": "Z0W0OP1rJfVG"
      },
      "outputs": [],
      "source": [
        "# Exponentiation with integer + float\n",
        "10 ** 0.5"
      ]
    },
    {
      "cell_type": "code",
      "execution_count": null,
      "metadata": {
        "id": "dUUtVMiPqYkf"
      },
      "outputs": [],
      "source": [
        "# Might need to run this line for the next cell if there is an error, otherwise number is too big\n",
        "#import sys\n",
        "#sys.set_int_max_str_digits(0)"
      ]
    },
    {
      "cell_type": "code",
      "execution_count": null,
      "metadata": {
        "id": "u2DL0ZGlJfVG"
      },
      "outputs": [],
      "source": [
        "# A really big number\n",
        "123456 ** 890"
      ]
    },
    {
      "cell_type": "code",
      "execution_count": null,
      "metadata": {
        "id": "6n4VphTrJfVG"
      },
      "outputs": [],
      "source": [
        "# Floats- limited t0 15-16 significant digits\n",
        "10 / 3"
      ]
    },
    {
      "cell_type": "code",
      "execution_count": null,
      "metadata": {
        "id": "vCd_wiA3JfVG"
      },
      "outputs": [],
      "source": [
        "# A large number minus some of the same large number - what happens?\n",
        "758927451789.215489247589274985712 - 758927451789.21548924"
      ]
    },
    {
      "cell_type": "code",
      "execution_count": null,
      "metadata": {
        "id": "YO0FgDX3JfVH"
      },
      "outputs": [],
      "source": [
        "# Square root and then recover by squaring- what happens?\n",
        "(13 ** 0.5) ** 2"
      ]
    },
    {
      "cell_type": "code",
      "execution_count": null,
      "metadata": {
        "id": "c33lc7qXJfVH"
      },
      "outputs": [],
      "source": [
        "# convert to integer using the int function\n",
        "int(10 / 5)"
      ]
    },
    {
      "cell_type": "code",
      "execution_count": null,
      "metadata": {
        "id": "vbnnRc_FJfVH"
      },
      "outputs": [],
      "source": [
        "# What happens if we convert a float to an integer?\n",
        "int(10 / 4)"
      ]
    },
    {
      "cell_type": "code",
      "execution_count": null,
      "metadata": {
        "id": "evS-fiWuJfVH"
      },
      "outputs": [],
      "source": [
        "# convert to float using the float function\n",
        "float(3)"
      ]
    },
    {
      "cell_type": "code",
      "execution_count": null,
      "metadata": {
        "id": "AcnVnJ-rJfVH"
      },
      "outputs": [],
      "source": [
        "# Simple division\n",
        "6 / 4"
      ]
    },
    {
      "cell_type": "code",
      "execution_count": null,
      "metadata": {
        "id": "IjvioRgtJfVH"
      },
      "outputs": [],
      "source": [
        "# A variation with a larger denominator\n",
        "6 / 4000"
      ]
    },
    {
      "cell_type": "code",
      "execution_count": null,
      "metadata": {
        "id": "SNO7mlITJfVH"
      },
      "outputs": [],
      "source": [
        "# Scientific notation\n",
        "6 / 400000000000000000000000000000000000000000000000000000000"
      ]
    },
    {
      "cell_type": "code",
      "execution_count": null,
      "metadata": {
        "id": "ysSThCl4JfVI"
      },
      "outputs": [],
      "source": [
        "# Can write in scientific notation\n",
        "400000000000000000000000000000000000000000000000000000000 * 1.5e-56"
      ]
    },
    {
      "cell_type": "code",
      "execution_count": null,
      "metadata": {
        "id": "h6W37AAAJfVI"
      },
      "outputs": [],
      "source": [
        "# Assign the value 5 to x\n",
        "x = 5"
      ]
    },
    {
      "cell_type": "code",
      "execution_count": null,
      "metadata": {
        "id": "dZ-h-1HNJfVI"
      },
      "outputs": [],
      "source": [
        "# Doesn't work like math\n",
        "2x"
      ]
    },
    {
      "cell_type": "code",
      "execution_count": null,
      "metadata": {
        "id": "TPUGsjtpJfVI"
      },
      "outputs": [],
      "source": [
        "# Must write out multiplication with *\n",
        "2 * x"
      ]
    },
    {
      "cell_type": "markdown",
      "metadata": {
        "id": "F5fpvTjcJfVI"
      },
      "source": [
        "## Strings ##"
      ]
    },
    {
      "cell_type": "code",
      "execution_count": null,
      "metadata": {
        "id": "gBH1QC9LJfVI"
      },
      "outputs": [],
      "source": [
        "# Text\n",
        "'Flavor'"
      ]
    },
    {
      "cell_type": "code",
      "execution_count": null,
      "metadata": {
        "id": "c0N8pPqsJfVI"
      },
      "outputs": [],
      "source": [
        "# The line below causes a name error\n",
        "# Python thinks you are using a name (variable)\n",
        "# Flavor"
      ]
    },
    {
      "cell_type": "code",
      "execution_count": null,
      "metadata": {
        "id": "i_H_RQoKJfVI"
      },
      "outputs": [],
      "source": [
        "# Double quotes\n",
        "\"Flavor\""
      ]
    },
    {
      "cell_type": "code",
      "execution_count": null,
      "metadata": {
        "id": "GraUD4LnJfVJ"
      },
      "outputs": [],
      "source": [
        "# Single vs. Double Quotes - this will error\n",
        "'Don't always use single quotes'"
      ]
    },
    {
      "cell_type": "code",
      "execution_count": null,
      "metadata": {
        "id": "SQ6bpmzqJfVJ"
      },
      "outputs": [],
      "source": [
        "# Combining single and double quotes\n",
        "\"Don't always use single quotes\""
      ]
    },
    {
      "cell_type": "code",
      "execution_count": null,
      "metadata": {
        "id": "fEC4sIC3JfVJ"
      },
      "outputs": [],
      "source": [
        "# Concatenation Example 1\n",
        "'straw' 'berry'"
      ]
    },
    {
      "cell_type": "code",
      "execution_count": null,
      "metadata": {
        "id": "ViHPDo3sJfVJ"
      },
      "outputs": [],
      "source": [
        "# Concatenation Example 2\n",
        "'straw' + 'berry'"
      ]
    },
    {
      "cell_type": "code",
      "execution_count": null,
      "metadata": {
        "id": "V83QTYdoJfVJ"
      },
      "outputs": [],
      "source": [
        "# Spaces aren't added for you\n",
        "'Data' + 'Science'"
      ]
    },
    {
      "cell_type": "code",
      "execution_count": null,
      "metadata": {
        "id": "xzCUlYshJfVJ"
      },
      "outputs": [],
      "source": [
        "# Manually add space within quotes\n",
        "'Data' + ' ' + 'Science'"
      ]
    },
    {
      "cell_type": "code",
      "execution_count": null,
      "metadata": {
        "id": "ixWtK-JIJfVJ"
      },
      "outputs": [],
      "source": [
        "# Assign names and then add\n",
        "x = 'straw'\n",
        "y = 'berry'\n",
        "x + y"
      ]
    },
    {
      "cell_type": "code",
      "execution_count": null,
      "metadata": {
        "id": "gtKXz9mYJfVJ"
      },
      "outputs": [],
      "source": [
        "# Invalid syntax\n",
        "x y"
      ]
    },
    {
      "cell_type": "code",
      "execution_count": null,
      "metadata": {
        "id": "ZaQwWrlyJfVK"
      },
      "outputs": [],
      "source": [
        "# Cannot multiply by a float\n",
        "'ha' * 5.5"
      ]
    },
    {
      "cell_type": "code",
      "execution_count": null,
      "metadata": {
        "id": "QHCq88oCJfVK"
      },
      "outputs": [],
      "source": [
        "# Cannot add text and integer\n",
        "'ha' + 10"
      ]
    },
    {
      "cell_type": "code",
      "execution_count": null,
      "metadata": {
        "id": "_5TqINOcJfVK"
      },
      "outputs": [],
      "source": [
        "# Can make a string that contains a number\n",
        "'NS' + str(499)"
      ]
    },
    {
      "cell_type": "code",
      "execution_count": null,
      "metadata": {
        "id": "6JcebG7ZJfVK"
      },
      "outputs": [],
      "source": [
        "# Convert string to integer using int function\n",
        "int('3')"
      ]
    },
    {
      "cell_type": "code",
      "execution_count": null,
      "metadata": {
        "id": "EDAZFzoGJfVK"
      },
      "outputs": [],
      "source": [
        "# Convert string to integer errors with decimal- intermediate step to convert float is needed\n",
        "int('3.0')"
      ]
    },
    {
      "cell_type": "code",
      "execution_count": null,
      "metadata": {
        "id": "S4J7TrIiJfVK"
      },
      "outputs": [],
      "source": [
        " # Convert from string to float, and then to integer\n",
        "int(float('3.0'))"
      ]
    },
    {
      "cell_type": "code",
      "execution_count": null,
      "metadata": {
        "id": "sFxJ8E6mJfVK"
      },
      "outputs": [],
      "source": [
        "# Convert string to float- assign name and add two strings together\n",
        "dot_oh = '.0'\n",
        "float('3' + dot_oh)"
      ]
    },
    {
      "cell_type": "markdown",
      "metadata": {
        "id": "Z1wZTRi2JfVL"
      },
      "source": [
        "## Types ##"
      ]
    },
    {
      "cell_type": "code",
      "execution_count": null,
      "metadata": {
        "id": "HUhktrHbJfVL"
      },
      "outputs": [],
      "source": [
        "# Confirm 10 is an integer using type\n",
        "type(10)"
      ]
    },
    {
      "cell_type": "code",
      "execution_count": null,
      "metadata": {
        "id": "ZVwEnKN0JfVL"
      },
      "outputs": [],
      "source": [
        "# Assign a to the value of 10\n",
        "a = 10"
      ]
    },
    {
      "cell_type": "code",
      "execution_count": null,
      "metadata": {
        "id": "qBNyS51dJfVL"
      },
      "outputs": [],
      "source": [
        "# What is the type of a?\n",
        "type(a)"
      ]
    },
    {
      "cell_type": "code",
      "execution_count": null,
      "metadata": {
        "id": "Tf1qlRqOJfVL"
      },
      "outputs": [],
      "source": [
        "# What is the type of a number with decimals?\n",
        "type(4.5)"
      ]
    },
    {
      "cell_type": "code",
      "execution_count": null,
      "metadata": {
        "id": "AkQCAWHyJfVL"
      },
      "outputs": [],
      "source": [
        "# What is the type of text?\n",
        "type('abc')"
      ]
    },
    {
      "cell_type": "code",
      "execution_count": null,
      "metadata": {
        "id": "SIjB0VzAJfVL"
      },
      "outputs": [],
      "source": [
        "# Check the type of a table\n",
        "# Special kind from datascience module\n",
        "type(Table.read_table('nba_salaries.csv'))"
      ]
    },
    {
      "cell_type": "code",
      "execution_count": null,
      "metadata": {
        "id": "Gkygp9QGJfVL"
      },
      "outputs": [],
      "source": [
        "# What is the type of True or False?\n",
        "type(True)"
      ]
    },
    {
      "cell_type": "code",
      "execution_count": null,
      "metadata": {
        "id": "JZZhHRu4JfVM"
      },
      "outputs": [],
      "source": [
        "# What is the type of the abs function?\n",
        "type(abs)"
      ]
    },
    {
      "cell_type": "markdown",
      "metadata": {
        "id": "RVoCaY8kJfVM"
      },
      "source": [
        "## Arrays ##"
      ]
    },
    {
      "cell_type": "code",
      "execution_count": null,
      "metadata": {
        "id": "fe0z_iCrJfVM"
      },
      "outputs": [],
      "source": [
        "# An array of 4 numbers\n",
        "first_four = make_array(1, 2, 3, 4)"
      ]
    },
    {
      "cell_type": "code",
      "execution_count": null,
      "metadata": {
        "id": "YdW9yW4kJfVM"
      },
      "outputs": [],
      "source": [
        "# Show the array\n",
        "first_four"
      ]
    },
    {
      "cell_type": "code",
      "execution_count": null,
      "metadata": {
        "id": "rihklkVtJfVM"
      },
      "outputs": [],
      "source": [
        "# Multiply the array by 2\n",
        "first_four * 2"
      ]
    },
    {
      "cell_type": "code",
      "execution_count": null,
      "metadata": {
        "id": "LC3JMEpCJfVM"
      },
      "outputs": [],
      "source": [
        "# Squaring the array\n",
        "first_four ** 2"
      ]
    },
    {
      "cell_type": "code",
      "execution_count": null,
      "metadata": {
        "id": "VLObJAnwJfVM"
      },
      "outputs": [],
      "source": [
        "# Add to the array\n",
        "first_four + 1"
      ]
    },
    {
      "cell_type": "code",
      "execution_count": null,
      "metadata": {
        "id": "w1cK-OjEJfVM"
      },
      "outputs": [],
      "source": [
        "# The original array is unchanged, just like when we call show/select/drop on Table\n",
        "first_four"
      ]
    },
    {
      "cell_type": "code",
      "execution_count": null,
      "metadata": {
        "id": "guS-mW7_JfVM"
      },
      "outputs": [],
      "source": [
        "# A new array\n",
        "next_four = make_array(5, 6, 7, 8)"
      ]
    },
    {
      "cell_type": "code",
      "execution_count": null,
      "metadata": {
        "id": "MaVNZU_7JfVN"
      },
      "outputs": [],
      "source": [
        "# Add two arrays\n",
        "first_four + next_four"
      ]
    },
    {
      "cell_type": "code",
      "execution_count": null,
      "metadata": {
        "id": "bQXpJr_6JfVN"
      },
      "outputs": [],
      "source": [
        "# A third array\n",
        "only_three = make_array(5, 6, 7)"
      ]
    },
    {
      "cell_type": "code",
      "execution_count": null,
      "metadata": {
        "id": "IykGAhsAJfVN"
      },
      "outputs": [],
      "source": [
        "# This line will cause an error - why?\n",
        "first_four + only_three"
      ]
    },
    {
      "cell_type": "code",
      "execution_count": null,
      "metadata": {
        "id": "XNgeHnZHJfVN"
      },
      "outputs": [],
      "source": [
        "# A string array\n",
        "str_array = make_array('ha', 'he', 'ho')"
      ]
    },
    {
      "cell_type": "code",
      "execution_count": null,
      "metadata": {
        "id": "sCIzjZMfJfVN"
      },
      "outputs": [],
      "source": [
        "# Show the array\n",
        "str_array"
      ]
    },
    {
      "cell_type": "code",
      "execution_count": null,
      "metadata": {
        "id": "T1nD9MCIJfVN"
      },
      "outputs": [],
      "source": [
        "# Multiply a string array by a number?\n",
        "str_array * 4"
      ]
    },
    {
      "cell_type": "code",
      "execution_count": null,
      "metadata": {
        "id": "DTT51HIpJfVN"
      },
      "outputs": [],
      "source": [
        "# Show this array again\n",
        "next_four"
      ]
    },
    {
      "cell_type": "code",
      "execution_count": null,
      "metadata": {
        "id": "YriKy2vUJfVN"
      },
      "outputs": [],
      "source": [
        "# How to index an array\n",
        "next_four.item(0)"
      ]
    },
    {
      "cell_type": "code",
      "execution_count": null,
      "metadata": {
        "id": "nBTditUHJfVN"
      },
      "outputs": [],
      "source": [
        "# What item are we indexing here?\n",
        "next_four.item(1)"
      ]
    },
    {
      "cell_type": "code",
      "execution_count": null,
      "metadata": {
        "id": "_cfa4rLZJfVO"
      },
      "outputs": [],
      "source": [
        "# Adding the array of numbers\n",
        "sum(next_four)"
      ]
    },
    {
      "cell_type": "code",
      "execution_count": null,
      "metadata": {
        "id": "cdjDIfIsJfVO"
      },
      "outputs": [],
      "source": [
        "# Using numpy to average the array\n",
        "np.average(next_four)"
      ]
    },
    {
      "cell_type": "code",
      "execution_count": null,
      "metadata": {
        "id": "w578FG4jJfVO"
      },
      "outputs": [],
      "source": [
        "# Finding the length of the array\n",
        "len(next_four)"
      ]
    },
    {
      "cell_type": "markdown",
      "metadata": {
        "id": "WTSHeXmQJfVO"
      },
      "source": [
        "## Columns of Tables are Arrays ##"
      ]
    },
    {
      "cell_type": "markdown",
      "metadata": {
        "id": "-kiMqEo3JfVO"
      },
      "source": [
        "### A more interesting table"
      ]
    },
    {
      "cell_type": "code",
      "execution_count": null,
      "metadata": {
        "id": "hFp_LLQXJfVO"
      },
      "outputs": [],
      "source": [
        "# Originally from https://github.com/erikgregorywebb/datasets/blob/master/nba-salaries.csv\n",
        "# Create a table named nba from the data file using the Table method and read_table function\n",
        "nba = Table.read_table('nba_salaries.csv')\n",
        "nba"
      ]
    },
    {
      "cell_type": "code",
      "execution_count": null,
      "metadata": {
        "id": "FzPHZ8h1JfVP"
      },
      "outputs": [],
      "source": [
        "# Create a table called point_guards by finding where the position column is labeled PG (point guard) during the 2020 season\n",
        "point_guards = nba.where('position', 'PG').where('season', 2020)"
      ]
    },
    {
      "cell_type": "code",
      "execution_count": null,
      "metadata": {
        "id": "QXmZ0qstJfVP"
      },
      "outputs": [],
      "source": [
        "# Show the table\n",
        "point_guards"
      ]
    },
    {
      "cell_type": "code",
      "execution_count": null,
      "metadata": {
        "id": "o8oeZIYTJfVP"
      },
      "outputs": [],
      "source": [
        "# Drop (remove) the position column\n",
        "point_guards.drop('position')"
      ]
    },
    {
      "cell_type": "code",
      "execution_count": null,
      "metadata": {
        "id": "LhoD30dTJfVP"
      },
      "outputs": [],
      "source": [
        "# Show the table\n",
        "point_guards"
      ]
    },
    {
      "cell_type": "code",
      "execution_count": null,
      "metadata": {
        "id": "DvtAoayHJfVP"
      },
      "outputs": [],
      "source": [
        "# Further remove columns from the table\n",
        "point_guards = point_guards.drop('rank', 'position', 'season')"
      ]
    },
    {
      "cell_type": "code",
      "execution_count": null,
      "metadata": {
        "id": "wdd-eAtzJfVP"
      },
      "outputs": [],
      "source": [
        "# Show the first 10 rows of the table\n",
        "point_guards.show(10)"
      ]
    },
    {
      "cell_type": "code",
      "execution_count": null,
      "metadata": {
        "id": "vv1uq4uiJfVP"
      },
      "outputs": [],
      "source": [
        "# Combine table functions: first sort by salary and then show the first 10 rows\n",
        "# What is the default sorting direction? Hint: what is the default for the optional argument, descending?\n",
        "point_guards.sort('salary').show(10)"
      ]
    },
    {
      "cell_type": "code",
      "execution_count": null,
      "metadata": {
        "id": "rzhkqRCSJfVQ"
      },
      "outputs": [],
      "source": [
        "# The line below will cause a value error\n",
        "# nba.drop('position').where('position', 'PG')"
      ]
    },
    {
      "cell_type": "code",
      "execution_count": null,
      "metadata": {
        "id": "K4spWkwzJfVQ"
      },
      "outputs": [],
      "source": [
        "# Create a table of only the data from the 2020 season\n",
        "nba = Table.read_table('nba_salaries.csv').where('season', 2020).drop('season')\n",
        "nba.show(5)"
      ]
    },
    {
      "cell_type": "code",
      "execution_count": null,
      "metadata": {
        "id": "Gq4OdUykJfVQ"
      },
      "outputs": [],
      "source": [
        "# Create a table of Golden State Warriors data\n",
        "warriors = nba.where('team', 'Golden State Warriors')\n",
        "warriors.show(5)"
      ]
    },
    {
      "cell_type": "code",
      "execution_count": null,
      "metadata": {
        "id": "J4NMr6EGJfVQ"
      },
      "outputs": [],
      "source": [
        "# Show the salary column\n",
        "warriors.select('salary')"
      ]
    },
    {
      "cell_type": "code",
      "execution_count": null,
      "metadata": {
        "id": "BVzK2f5vJfVQ"
      },
      "outputs": [],
      "source": [
        "# What type is the salary column?\n",
        "type(warriors.select('salary'))"
      ]
    },
    {
      "cell_type": "code",
      "execution_count": null,
      "metadata": {
        "id": "_pDr9flUJfVQ"
      },
      "outputs": [],
      "source": [
        "# Access the numbers in the salary column\n",
        "warriors.column('salary')"
      ]
    },
    {
      "cell_type": "code",
      "execution_count": null,
      "metadata": {
        "id": "LsGij55iJfVQ"
      },
      "outputs": [],
      "source": [
        "# Average the numbers in the salary column\n",
        "np.average(warriors.column('salary'))"
      ]
    },
    {
      "cell_type": "code",
      "execution_count": null,
      "metadata": {
        "id": "B88r9STFJfVQ"
      },
      "outputs": [],
      "source": [
        "# Create a table with Phoenix Suns data\n",
        "suns = nba.where('team', 'Phoenix Suns')"
      ]
    },
    {
      "cell_type": "code",
      "execution_count": null,
      "metadata": {
        "id": "Ht4faffcJfVR"
      },
      "outputs": [],
      "source": [
        "# Subtract averages from the salary columns to compare the two teams\n",
        "np.average(warriors.column('salary')) - np.average(suns.column('salary'))"
      ]
    },
    {
      "cell_type": "code",
      "execution_count": null,
      "metadata": {
        "id": "yvcZVqiGJfVR"
      },
      "outputs": [],
      "source": [
        "# How many rows in the warrior table?\n",
        "warriors.num_rows"
      ]
    },
    {
      "cell_type": "code",
      "execution_count": null,
      "metadata": {
        "id": "TJmMo2MoJfVR"
      },
      "outputs": [],
      "source": [
        "# How many rows in the suns table?\n",
        "suns.num_rows"
      ]
    },
    {
      "cell_type": "markdown",
      "metadata": {
        "id": "CaR9gP1kJfVR"
      },
      "source": [
        "### Saving\n",
        "Remember to save your notebook before closing.\n",
        "Choose **Save** (and make sure you've already saved a copy in your drive) from the **File** menu."
      ]
    }
  ],
  "metadata": {
    "anaconda-cloud": {},
    "colab": {
      "provenance": []
    },
    "kernelspec": {
      "display_name": "Python 3",
      "language": "python",
      "name": "python3"
    },
    "language_info": {
      "codemirror_mode": {
        "name": "ipython",
        "version": 3
      },
      "file_extension": ".py",
      "mimetype": "text/x-python",
      "name": "python",
      "nbconvert_exporter": "python",
      "pygments_lexer": "ipython3",
      "version": "3.10.12"
    }
  },
  "nbformat": 4,
  "nbformat_minor": 0
}
