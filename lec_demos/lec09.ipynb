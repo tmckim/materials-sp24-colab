{
  "cells": [
    {
      "cell_type": "markdown",
      "metadata": {
        "id": "c_rW3jotxj3k"
      },
      "source": [
        "<a href=\"https://colab.research.google.com/github/tmckim/materials-sp24-colab/blob/main/lec_demos/lec09.ipynb\" target=\"_parent\"><img src=\"https://colab.research.google.com/assets/colab-badge.svg\" alt=\"Open In Colab\"/></a>"
      ]
    },
    {
      "cell_type": "markdown",
      "metadata": {
        "id": "cWYjwoGLxj3l"
      },
      "source": [
        "## Before you start - Save this notebook!\n",
        "\n",
        "When you open a new Colab notebook from the WebCampus (like you hopefully did for this one), you cannot save changes. So it's  best to store the Colab notebook in your personal drive `\"File > Save a copy in drive...\"` **before** you do anything else.\n",
        "\n",
        "The file will open in a new tab in your web browser, and it is automatically named something like: \"**Copy of lec09.ipynb**\". You can rename this to just the title of the assignment \"**lec09.ipynb**\". Make sure you do keep an informative name (like the name of the assignment) so that you know which files to submit back to WebCampus for grading! More instructions on this are at the end of the notebook.\n",
        "\n",
        "\n",
        "**Where does the notebook get saved in Google Drive?**\n",
        "\n",
        "By default, the notebook will be copied to a folder called “Colab Notebooks” at the root (home directory) of your Google Drive. If you use this for other courses or personal code notebooks, I recommend creating a folder for this course and then moving the assignments AFTER you have completed them. <br>\n",
        "\n",
        "I also recommend you give the folder where you save your notebooks^ a different name than the folder we create below that will store the notebook resources you need each time you work through a course notebook. This includes any data files you will need, links to the images that appear in the notebook, and the files associated with the autograder for answer checking.<br>\n",
        "You should select a name other than '**NS499-DataSci-course-materials**'. <br>\n",
        "This folder gets overwritten with each assignment you work on in the course, so you should **NOT** store your notebooks in this folder that we use for course materials! <br><br>For example, you could create a folder called 'NS499-**notebooks**' or something along those lines.\n",
        "___"
      ]
    },
    {
      "cell_type": "markdown",
      "metadata": {
        "id": "gscE8LQy5bm-"
      },
      "source": [
        "### We will now do the setup steps as separate cells to help with issues finding files in google drive/colab. <br> If you restart colab, you must rerun all **5** steps in each of these cells!"
      ]
    },
    {
      "cell_type": "code",
      "execution_count": null,
      "metadata": {
        "id": "qArEkrM45bm-"
      },
      "outputs": [],
      "source": [
        "# Step 1\n",
        "# Setup and add files needed to access gdrive\n",
        "from google.colab import drive                                   # these lines mount your gdrive to access the files we import below\n",
        "drive.mount('/content/gdrive', force_remount=True)"
      ]
    },
    {
      "cell_type": "code",
      "execution_count": null,
      "metadata": {
        "id": "1XdZV9K95bm_"
      },
      "outputs": [],
      "source": [
        "# Step 2\n",
        "# Change directory to the correct location in gdrive (modified way to do this from before)\n",
        "import os\n",
        "os.chdir('/content/gdrive/MyDrive/NS499-DataSci-course-materials/')"
      ]
    },
    {
      "cell_type": "code",
      "execution_count": null,
      "metadata": {
        "id": "OFank3FN5bm_"
      },
      "outputs": [],
      "source": [
        "# Step 3\n",
        "# Remove the files that were previously there- we will replace with all the old + new ones for this assignment\n",
        "!rm -r materials-sp24-colab"
      ]
    },
    {
      "cell_type": "code",
      "execution_count": null,
      "metadata": {
        "id": "y_4BDokl5bnA"
      },
      "outputs": [],
      "source": [
        "# Step 4\n",
        "# These lines clone (copy) all the files you will need from where I store the code+data for the course (github)\n",
        "# Second part of the code copies the files to this location and folder in your own gdrive\n",
        "!git clone https://github.com/tmckim/materials-sp24-colab '/content/gdrive/My Drive/NS499-DataSci-course-materials/materials-sp24-colab/'"
      ]
    },
    {
      "cell_type": "code",
      "execution_count": null,
      "metadata": {
        "id": "0i2vRPG15bnA"
      },
      "outputs": [],
      "source": [
        "# Step 5\n",
        "# Change directory into the folder where the resources for this assignment are stored in gdrive (modified way from before)\n",
        "os.chdir('/content/gdrive/MyDrive/NS499-DataSci-course-materials/materials-sp24-colab/lec_demos/')"
      ]
    },
    {
      "cell_type": "code",
      "execution_count": 5,
      "metadata": {
        "id": "61JQRvDI5bnB"
      },
      "outputs": [],
      "source": [
        "# Import packages and other things needed\n",
        "# Don't change this cell; Just run this cell\n",
        "# If you restart colab, make sure to run this cell again after the first ones above^\n",
        "\n",
        "from datascience import *\n",
        "import numpy as np\n",
        "import warnings\n",
        "warnings.simplefilter(action='ignore',category=np.VisibleDeprecationWarning)\n",
        "\n",
        "%matplotlib inline\n",
        "import matplotlib.pyplot as plt\n",
        "plt.style.use(\"fivethirtyeight\")\n",
        "plt.rcParams[\"patch.force_edgecolor\"] = True"
      ]
    },
    {
      "cell_type": "markdown",
      "metadata": {
        "id": "jUHwnJpU6Atb"
      },
      "source": [
        "## Function Review"
      ]
    },
    {
      "cell_type": "markdown",
      "metadata": {
        "id": "2FPTm9MGvH6u"
      },
      "source": [
        "Given the function below, what would the call statement below return?\n",
        "\n",
        "`print(remainder(12,5) + remainder(2,2))`"
      ]
    },
    {
      "cell_type": "code",
      "execution_count": null,
      "metadata": {
        "id": "lgjNVFEMu8w5"
      },
      "outputs": [],
      "source": [
        "def remainder(number, divider):\n",
        "\tr = number % divider\n",
        "\treturn r"
      ]
    },
    {
      "cell_type": "code",
      "execution_count": null,
      "metadata": {
        "cellView": "form",
        "id": "FkLnjR8CvT9i"
      },
      "outputs": [],
      "source": [
        "#@title Solution\n",
        "\n",
        "print(remainder(12,5) + remainder(2,2))"
      ]
    },
    {
      "cell_type": "markdown",
      "metadata": {
        "id": "J6-3U5rKvr0Z"
      },
      "source": [
        "Write a function `greet` that takes the parameter `name`. Inside the function, concatenate `“Hello”`, the person’s name, and `“Good afternoon!”`. Assign this to `output` and return `output`."
      ]
    },
    {
      "cell_type": "code",
      "execution_count": null,
      "metadata": {
        "cellView": "form",
        "id": "GV3BfeUivgsP"
      },
      "outputs": [],
      "source": [
        "#@title Solution\n",
        "def greet(name):\n",
        "\toutput = \"Hello \" + name + \" Good afternoon!\"\n",
        "\treturn output"
      ]
    },
    {
      "cell_type": "code",
      "execution_count": null,
      "metadata": {
        "cellView": "form",
        "id": "IFv4BlStv6ma"
      },
      "outputs": [],
      "source": [
        "#@title Solution\n",
        "greet(\"Dr. McKim\")"
      ]
    },
    {
      "cell_type": "markdown",
      "metadata": {
        "id": "9N4zXr24wNeI"
      },
      "source": [
        "Where would the docstring get added in the function `greet` from above?"
      ]
    },
    {
      "cell_type": "code",
      "execution_count": null,
      "metadata": {
        "cellView": "form",
        "id": "VzS3aiaqyDCy"
      },
      "outputs": [],
      "source": [
        "#@title Solution\n",
        "def greet(name):\n",
        "    \"\"\"\n",
        "    This function takes in a string (name) as the input.\n",
        "    It returns text that says: 'Hello', name, 'Good afternoon!'\n",
        "    \"\"\"\n",
        "    output = \"Hello \" + name + \" Good afternoon!\"\n",
        "    return output"
      ]
    },
    {
      "cell_type": "markdown",
      "metadata": {
        "id": "miKf2Qyuw33j"
      },
      "source": [
        "Given the following, what is printed?"
      ]
    },
    {
      "cell_type": "code",
      "execution_count": null,
      "metadata": {
        "id": "q6pN7AKiwh4F"
      },
      "outputs": [],
      "source": [
        "an_int = 2\n",
        "a_float = 11.5\n",
        "\n",
        "def print_numbers(an_int, a_float):\n",
        "\tprint(an_int,\",\",a_float)\n"
      ]
    },
    {
      "cell_type": "code",
      "execution_count": null,
      "metadata": {
        "cellView": "form",
        "id": "7k3JHQAV0CQy"
      },
      "outputs": [],
      "source": [
        "#@title Solution\n",
        "print_numbers(an_int, a_float)"
      ]
    },
    {
      "cell_type": "markdown",
      "metadata": {
        "id": "sMcyIlOA0OAB"
      },
      "source": [
        "Given the above function, what would `print_numbers(5,16.8)` print?"
      ]
    },
    {
      "cell_type": "code",
      "execution_count": null,
      "metadata": {
        "cellView": "form",
        "id": "SGQATQn8xAQF"
      },
      "outputs": [],
      "source": [
        "#@title Solution\n",
        "\n",
        "print_numbers(5,16.8)"
      ]
    },
    {
      "cell_type": "markdown",
      "metadata": {
        "id": "Plp2tiwNxNhT"
      },
      "source": [
        "Given the following function, what would `exponentiate(exponent = 2, number = 3)` return?\n"
      ]
    },
    {
      "cell_type": "code",
      "execution_count": null,
      "metadata": {
        "id": "9k4GqgSOxF-W"
      },
      "outputs": [],
      "source": [
        "def exponentiate(number, exponent = 2):\n",
        "\t\treturn number**exponent"
      ]
    },
    {
      "cell_type": "code",
      "execution_count": null,
      "metadata": {
        "cellView": "form",
        "id": "IQiAZX6TxSek"
      },
      "outputs": [],
      "source": [
        "#@title Solution\n",
        "exponentiate(exponent = 2, number = 3)"
      ]
    },
    {
      "cell_type": "code",
      "execution_count": null,
      "metadata": {
        "id": "FfTpY0A1xWAs"
      },
      "outputs": [],
      "source": [
        "exponentiate?"
      ]
    },
    {
      "cell_type": "code",
      "execution_count": null,
      "metadata": {
        "cellView": "form",
        "id": "k8ZITgTl0rUZ"
      },
      "outputs": [],
      "source": [
        "#@title Solution\n",
        "exponentiate(3,2)"
      ]
    },
    {
      "cell_type": "code",
      "execution_count": null,
      "metadata": {
        "cellView": "form",
        "id": "W_z5tffS0tIZ"
      },
      "outputs": [],
      "source": [
        "#@title Solution\n",
        "exponentiate(2,3)"
      ]
    },
    {
      "cell_type": "markdown",
      "metadata": {
        "id": "JMxGaDubxj3m"
      },
      "source": [
        "## Learning Objectives:\n",
        "- Review and practice working with functions\n",
        "- Working with apply and understanding why it's useful with functions\n",
        "- Learn about and test out `group`ing\n",
        "- Understand and work with Python lists\n",
        "- Understand how to build tables from rows instead of columns"
      ]
    },
    {
      "cell_type": "markdown",
      "metadata": {
        "id": "0I2OSukdxj3m"
      },
      "source": [
        "## Prediction ##"
      ]
    },
    {
      "cell_type": "markdown",
      "metadata": {
        "id": "57UhfUWGxj3m"
      },
      "source": [
        "Can we predict how tall a child will grow based on the height of their parents?"
      ]
    },
    {
      "cell_type": "markdown",
      "metadata": {
        "id": "MZuHf6Hxxj3n"
      },
      "source": [
        "To do this we will use the famous [Galton's height dataset](https://galton.org/essays/1880-1889/galton-1886-jaigi-regression-stature.pdf) that was collected to demonstrate the connection between parent's heights and the height of their children.\n"
      ]
    },
    {
      "cell_type": "code",
      "execution_count": null,
      "metadata": {
        "id": "-I_Om-jcxj3n",
        "scrolled": true
      },
      "outputs": [],
      "source": [
        "# Read in the table of data\n",
        "families = Table.read_table('family_heights.csv')\n",
        "families"
      ]
    },
    {
      "cell_type": "markdown",
      "metadata": {
        "id": "eggqkcBsxj3n"
      },
      "source": [
        "## Exploring the Data ##\n",
        "\n",
        "**Exercise**: Add a column `parent average` containing the average height of both parents."
      ]
    },
    {
      "cell_type": "code",
      "execution_count": null,
      "metadata": {
        "id": "IuqYLdsExj3n"
      },
      "outputs": [],
      "source": [
        "families = families.with_columns(\n",
        "    'parent average', (families.column('father') + families.column('mother'))/2)\n",
        "families"
      ]
    },
    {
      "cell_type": "markdown",
      "metadata": {
        "id": "MfvZp_Fcxj3n"
      },
      "source": [
        "What is the relationship between a child's height and the average parent's height?"
      ]
    },
    {
      "cell_type": "markdown",
      "metadata": {
        "id": "Xa_ZmdCaxj3n"
      },
      "source": [
        "**Exercise**: make a scatterplot showing the relationship between `parent average` and the `child` height"
      ]
    },
    {
      "cell_type": "code",
      "execution_count": null,
      "metadata": {
        "id": "mLkzzX5Lxj3n"
      },
      "outputs": [],
      "source": [
        "# Scatterplot\n",
        "families.scatter('parent average', 'child')"
      ]
    },
    {
      "cell_type": "markdown",
      "metadata": {
        "id": "tO_wu3tOxj3n"
      },
      "source": [
        "Questions:\n",
        "1. Do we observe a relationship between child and parent height?\n",
        "2. Would a line plot help reveal that relationship?"
      ]
    },
    {
      "cell_type": "code",
      "execution_count": null,
      "metadata": {
        "id": "IF4MuM8p3vYM"
      },
      "outputs": [],
      "source": [
        "# How do we draw a line plot?\n"
      ]
    },
    {
      "cell_type": "code",
      "execution_count": null,
      "metadata": {
        "cellView": "form",
        "id": "2Ds0fM2M9TGE"
      },
      "outputs": [],
      "source": [
        "#@title Solution\n",
        "families.plot('parent average', 'child', marker = 'o')"
      ]
    },
    {
      "cell_type": "markdown",
      "metadata": {
        "id": "1-UPFK_wxj3n"
      },
      "source": [
        "## Making a Prediction ##\n",
        "\n",
        "If we wanted to predict the height of a child given the height of the parents, we could look at the height of children with parents who have a similar average height."
      ]
    },
    {
      "cell_type": "code",
      "execution_count": null,
      "metadata": {
        "id": "7lS8GGO8xj3o"
      },
      "outputs": [],
      "source": [
        "# Example parent height values\n",
        "parent1_height = 5*12 + 10 # 5 ft 10 inches\n",
        "parent2_height = 5*12+7 # 5 ft 7 inches"
      ]
    },
    {
      "cell_type": "code",
      "execution_count": null,
      "metadata": {
        "id": "zfZCr7i2xj3o"
      },
      "outputs": [],
      "source": [
        "# Calc parent average\n",
        "calc_parent_avg = (parent1_height + parent2_height)/2\n",
        "calc_parent_avg"
      ]
    },
    {
      "cell_type": "markdown",
      "metadata": {
        "id": "jexRfhpGxj3o"
      },
      "source": [
        "Let's look at parents that are within 1 inch of our height"
      ]
    },
    {
      "cell_type": "code",
      "execution_count": null,
      "metadata": {
        "id": "QLVvoyODxj3o"
      },
      "outputs": [],
      "source": [
        "window = 1\n",
        "lower_bound = calc_parent_avg - window\n",
        "upper_bound = calc_parent_avg + window"
      ]
    },
    {
      "cell_type": "code",
      "execution_count": null,
      "metadata": {
        "id": "LdW0NZcCxj3o"
      },
      "outputs": [],
      "source": [
        "# Scatterplot\n",
        "families.scatter('parent average', 'child')\n",
        "# you don't need to know the details of this plotting code yet\n",
        "plt.plot([lower_bound, lower_bound], [50, 85], color='red', lw=2)\n",
        "plt.plot([calc_parent_avg, calc_parent_avg], [50, 85], color='orange', lw=2);\n",
        "plt.plot([upper_bound, upper_bound], [50, 85], color='red', lw=2);"
      ]
    },
    {
      "cell_type": "markdown",
      "metadata": {
        "id": "VRRXbe-ixj3o"
      },
      "source": [
        "**Exercise**: Create a function that takes an average of the parent heights and returns ***an array of all the children's heights*** that are within the window of the parent's average height."
      ]
    },
    {
      "cell_type": "code",
      "execution_count": null,
      "metadata": {
        "id": "F2ZehS1UAdl1"
      },
      "outputs": [],
      "source": [
        "# Define our function\n",
        "def similar_child_heights(parent_average):\n"
      ]
    },
    {
      "cell_type": "code",
      "execution_count": 22,
      "metadata": {
        "cellView": "form",
        "id": "H1twg4Tlxj3o"
      },
      "outputs": [],
      "source": [
        "#@title Solution\n",
        "def similar_child_heights(parent_average):\n",
        "    lower_bound = parent_average - window\n",
        "    upper_bound = parent_average + window\n",
        "    return (\n",
        "        families\n",
        "        .where(\"parent average\", are.between(lower_bound, upper_bound))\n",
        "        .column(\"child\")\n",
        "    )"
      ]
    },
    {
      "cell_type": "markdown",
      "metadata": {
        "id": "6825g9Pgxj3o"
      },
      "source": [
        "Test the function:"
      ]
    },
    {
      "cell_type": "code",
      "execution_count": null,
      "metadata": {
        "id": "njQObuUrxj3o"
      },
      "outputs": [],
      "source": [
        "# window = 1.0 originally\n",
        "# window = 5.0 # smaller or larger- what happens?\n",
        "similar_child_heights(calc_parent_avg)"
      ]
    },
    {
      "cell_type": "markdown",
      "metadata": {
        "id": "50QCvyxBxj3p"
      },
      "source": [
        "**Exercise**: Create a function to predict the child's height as the average of the height of children within the window of the average parent height."
      ]
    },
    {
      "cell_type": "code",
      "execution_count": null,
      "metadata": {
        "id": "HHdBBtzDxj3p"
      },
      "outputs": [],
      "source": [
        "# Create a new function that uses our previous function\n",
        "def predict_child_height(parent_average):\n",
        "    return np.average(similar_child_heights(parent_average))"
      ]
    },
    {
      "cell_type": "code",
      "execution_count": null,
      "metadata": {
        "id": "GOeLdQWxxj3p"
      },
      "outputs": [],
      "source": [
        "# Test the function to get our mean\n",
        "predict_child_height(calc_parent_avg)"
      ]
    },
    {
      "cell_type": "markdown",
      "metadata": {
        "id": "P8dS0ic0xj3p"
      },
      "source": [
        "Let's plot the predicted height as well as the distribution of children's heights:"
      ]
    },
    {
      "cell_type": "code",
      "execution_count": null,
      "metadata": {
        "id": "XooTn8B_xj3p"
      },
      "outputs": [],
      "source": [
        "# window = 1.0\n",
        "similar = similar_child_heights(calc_parent_avg) # array of heights from our first function\n",
        "predicted_height = predict_child_height(calc_parent_avg) # single # for the average from our second function\n",
        "\n",
        "print(\"Mean:\", predicted_height)\n",
        "Table().with_column(\"child\", similar).hist(\"child\", bins= 20) # new table with the values in the array to plot with hist\n",
        "plt.plot([predicted_height, predicted_height], [0,0.1], color = \"red\") # added a line for the average that we calculated"
      ]
    },
    {
      "cell_type": "markdown",
      "metadata": {
        "id": "o6lVs1P7xj3p"
      },
      "source": [
        "## Prediction Accuracy: Evaluating the Predictions ##"
      ]
    },
    {
      "cell_type": "markdown",
      "metadata": {
        "id": "M_htK_tjxj3p"
      },
      "source": [
        "To evalute the predictions, let's see how the predictions compare to the actual heights of all the children in our dataset."
      ]
    },
    {
      "cell_type": "markdown",
      "metadata": {
        "id": "30XD22S_xj3p"
      },
      "source": [
        "**Exercise**: Apply the function (using `appy`) to all the parent averages in the table and save the result to the `predicted` column."
      ]
    },
    {
      "cell_type": "code",
      "execution_count": null,
      "metadata": {
        "id": "j3GaWzllxj3p"
      },
      "outputs": [],
      "source": [
        "# window = 1.0\n",
        "families = families.with_column(\n",
        "    \"predicted\", families.apply(predict_child_height, \"parent average\")\n",
        ")\n",
        "families"
      ]
    },
    {
      "cell_type": "markdown",
      "metadata": {
        "id": "NgapSHolxj3p"
      },
      "source": [
        "**Exercise**: Construct a scatterplot with the `parent average` height on the x-axis and the `child` height and the `predicted` height on the y-axis."
      ]
    },
    {
      "cell_type": "code",
      "execution_count": null,
      "metadata": {
        "id": "5OFGqnkuxj3p"
      },
      "outputs": [],
      "source": [
        "families.select(\"parent average\", \"child\", \"predicted\").scatter(\"parent average\")"
      ]
    },
    {
      "cell_type": "markdown",
      "metadata": {
        "id": "10iJP7Evxj3p"
      },
      "source": [
        "**Discussion**: What do we see in this plot?"
      ]
    },
    {
      "cell_type": "markdown",
      "metadata": {
        "id": "3MpQ0FuDxj3q"
      },
      "source": [
        "**Exercise**: Define a function to compute the error (the difference) between the predicted value and the true value. Apply that function to the table adding a column containing the `error`. Then construct a histogram of the errors."
      ]
    },
    {
      "cell_type": "code",
      "execution_count": null,
      "metadata": {
        "id": "WkwLm15Yxj3q"
      },
      "outputs": [],
      "source": [
        "def error(predicted, true_value):\n",
        "    # Finish function here\n",
        "\n",
        "families = families.with_column(\n",
        "    \"error\", families.apply(error, \"predicted\", \"child\"))\n",
        "families"
      ]
    },
    {
      "cell_type": "markdown",
      "metadata": {
        "id": "6UNcBscoxj3q"
      },
      "source": [
        "Visualize the distribution of errors:"
      ]
    },
    {
      "cell_type": "code",
      "execution_count": null,
      "metadata": {
        "id": "rZHXTz8ixj3q"
      },
      "outputs": [],
      "source": [
        "families.hist('error')"
      ]
    },
    {
      "cell_type": "markdown",
      "metadata": {
        "id": "HOjRhPW7xj3q"
      },
      "source": [
        "**Exercise**: Overlay the histograms of the error for male and female children."
      ]
    },
    {
      "cell_type": "code",
      "execution_count": null,
      "metadata": {
        "id": "l8eNowsTxj3q"
      },
      "outputs": [],
      "source": [
        "families.hist('error', group='sex')"
      ]
    },
    {
      "cell_type": "markdown",
      "metadata": {
        "id": "eFr70CqJxj3q"
      },
      "source": [
        "**Discussion**: What do we observe?"
      ]
    },
    {
      "cell_type": "markdown",
      "metadata": {
        "id": "rV_ovxf6xj3q"
      },
      "source": [
        "# Extra Practice Question: Building a Better Predictor"
      ]
    },
    {
      "cell_type": "markdown",
      "metadata": {
        "id": "36H9ganuxj3q"
      },
      "source": [
        "**Exercise**: Implement a new height prediction function that considers the averages of the height of children with the same sex and whose parents had a similar height.<br><br>\n",
        "\n",
        "Start by reviewing our previous function:\n",
        "```\n",
        "def similar_child_heights(parent_average):\n",
        "    lower_bound = parent_average - window\n",
        "    upper_bound = parent_average + window\n",
        "    return np.average(\n",
        "        families\n",
        "        .where(\"parent average\", are.between(lower_bound, upper_bound))\n",
        "        .column(\"child\")\n",
        "    )\n",
        "```\n",
        "\n"
      ]
    },
    {
      "cell_type": "code",
      "execution_count": null,
      "metadata": {
        "id": "8Cdjc50vxj3r"
      },
      "outputs": [],
      "source": [
        "def predict_child_height_with_sex(parent_average):\n",
        "# finish function here"
      ]
    },
    {
      "cell_type": "code",
      "execution_count": null,
      "metadata": {
        "cellView": "form",
        "id": "Z-nFDvXK_V4A"
      },
      "outputs": [],
      "source": [
        "#@title Solution\n",
        "def predict_child_height_with_sex(parent_average, sex):\n",
        "    lower_bound = parent_average - window\n",
        "    upper_bound = parent_average + window\n",
        "    return np.average(\n",
        "        families\n",
        "        .where(\"sex\", sex)\n",
        "        .where(\"parent average\", are.between(lower_bound, upper_bound))\n",
        "        .column(\"child\")\n",
        "    )"
      ]
    },
    {
      "cell_type": "code",
      "execution_count": null,
      "metadata": {
        "id": "BbkhEHGBxj3r"
      },
      "outputs": [],
      "source": [
        "# Test function example 1 for males"
      ]
    },
    {
      "cell_type": "code",
      "execution_count": null,
      "metadata": {
        "cellView": "form",
        "id": "xLKYqzWo_how"
      },
      "outputs": [],
      "source": [
        "#@title Solution\n",
        "predict_child_height_with_sex(calc_parent_avg, \"male\")"
      ]
    },
    {
      "cell_type": "code",
      "execution_count": null,
      "metadata": {
        "id": "eyQ3AAOyxj3r"
      },
      "outputs": [],
      "source": [
        "# Test function example 2 for females\n"
      ]
    },
    {
      "cell_type": "code",
      "execution_count": null,
      "metadata": {
        "cellView": "form",
        "id": "_fTY2IDz_sv_"
      },
      "outputs": [],
      "source": [
        "#@title Solution\n",
        "predict_child_height_with_sex(calc_parent_avg, \"female\")"
      ]
    },
    {
      "cell_type": "markdown",
      "metadata": {
        "id": "BkiXXZ2kxj3r"
      },
      "source": [
        "**Exercise**: Apply the better predictor to the table and save the predictions in a column called `predicted with sex`."
      ]
    },
    {
      "cell_type": "code",
      "execution_count": null,
      "metadata": {
        "id": "HNjzjBDdxj3r"
      },
      "outputs": [],
      "source": [
        "families= families.with_column(\n",
        "    \"predicted with sex\", families.apply(predict_child_height_with_sex, \"parent average\", \"sex\")\n",
        ")\n",
        "families"
      ]
    },
    {
      "cell_type": "markdown",
      "metadata": {
        "id": "OqbY6NTCxj3r"
      },
      "source": [
        "**Exercise**: Construct a histogram of the new errors broke down by the sex of the child."
      ]
    },
    {
      "cell_type": "code",
      "execution_count": null,
      "metadata": {
        "id": "AAPg0Oymxj3r"
      },
      "outputs": [],
      "source": [
        "families = families.with_column(\n",
        "    \"error with sex\",  families.apply(error, \"predicted with sex\", \"child\")\n",
        ")\n",
        "families.hist(\"error with sex\", group=\"sex\")"
      ]
    },
    {
      "cell_type": "markdown",
      "metadata": {
        "id": "VU47vM5Cxj3r"
      },
      "source": [
        "The previous plot for comparison:"
      ]
    },
    {
      "cell_type": "code",
      "execution_count": null,
      "metadata": {
        "id": "NUJGnHNDxj3s"
      },
      "outputs": [],
      "source": [
        "families.hist(\"error\", group=\"sex\")"
      ]
    },
    {
      "cell_type": "markdown",
      "metadata": {
        "id": "V4oZMa5Yxj3s"
      },
      "source": [
        "# Grouping by One Column #"
      ]
    },
    {
      "cell_type": "code",
      "execution_count": null,
      "metadata": {
        "id": "HTRAfg52xj3s"
      },
      "outputs": [],
      "source": [
        "# Load in our ice cream data\n",
        "cones = Table.read_table('cones_rating.csv')\n",
        "cones"
      ]
    },
    {
      "cell_type": "markdown",
      "metadata": {
        "id": "KrIwiljYxj3s"
      },
      "source": [
        "**Exercise**: use the `group` function to determine the number of cones with each flavor."
      ]
    },
    {
      "cell_type": "code",
      "execution_count": null,
      "metadata": {
        "id": "f1P5xYz7xj3s"
      },
      "outputs": [],
      "source": [
        "cones.group('Flavor')"
      ]
    },
    {
      "cell_type": "markdown",
      "metadata": {
        "id": "_ZsXa3uBxj3s"
      },
      "source": [
        "**Exercise**: Use the `group` function to compute the average price of cones for each flavor."
      ]
    },
    {
      "cell_type": "code",
      "execution_count": null,
      "metadata": {
        "id": "Gcz_2n4dxj3s",
        "scrolled": true
      },
      "outputs": [],
      "source": [
        "cones.group('Flavor', np.average)"
      ]
    },
    {
      "cell_type": "code",
      "execution_count": null,
      "metadata": {
        "id": "7Fk9c58lA3IO"
      },
      "outputs": [],
      "source": [
        "cones.select('Flavor', 'Price').group('Flavor', np.mean)"
      ]
    },
    {
      "cell_type": "markdown",
      "metadata": {
        "id": "3RLN2zvFxj3s"
      },
      "source": [
        "**Exercise**: Use the `group` function to compute the minimum price of cones for each flavor."
      ]
    },
    {
      "cell_type": "code",
      "execution_count": null,
      "metadata": {
        "id": "WHyAJtp_xj3s"
      },
      "outputs": [],
      "source": [
        "cones.group('Flavor', np.min)"
      ]
    },
    {
      "cell_type": "code",
      "execution_count": null,
      "metadata": {
        "id": "vDTKD6FTBLO4"
      },
      "outputs": [],
      "source": [
        "cones.group('Flavor', min)"
      ]
    },
    {
      "cell_type": "code",
      "execution_count": null,
      "metadata": {
        "id": "o01kuzMhCw8q"
      },
      "outputs": [],
      "source": [
        "cones"
      ]
    },
    {
      "cell_type": "markdown",
      "metadata": {
        "id": "FkpNiFt4xj3t"
      },
      "source": [
        "# Lists"
      ]
    },
    {
      "cell_type": "code",
      "execution_count": null,
      "metadata": {
        "id": "dt-fh3G6xj3t"
      },
      "outputs": [],
      "source": [
        "# A simple list\n",
        "[1, 5, 'hello', 5.0]"
      ]
    },
    {
      "cell_type": "code",
      "execution_count": null,
      "metadata": {
        "id": "fZ5f2hxxxj3t"
      },
      "outputs": [],
      "source": [
        "# Another list\n",
        "another_list = [1, 5, 'hello', 5.0, make_array(1,2,3)]\n",
        "another_list"
      ]
    },
    {
      "cell_type": "markdown",
      "metadata": {
        "id": "6_l8QkQoXljo"
      },
      "source": [
        "You have to use square brackets when accessing elements from a list (you can't use `item`)\n"
      ]
    },
    {
      "cell_type": "code",
      "execution_count": null,
      "metadata": {
        "id": "xdQFzCGdXTjx"
      },
      "outputs": [],
      "source": [
        "another_list[2]"
      ]
    },
    {
      "cell_type": "code",
      "execution_count": null,
      "metadata": {
        "id": "rZS6t3UpXi8m"
      },
      "outputs": [],
      "source": [
        "another_list[4][1]"
      ]
    },
    {
      "cell_type": "markdown",
      "metadata": {
        "id": "-uCU6jOxX-Zh"
      },
      "source": [
        "Recall that for arrays you could do either. (In the real world, most people would probably use square brackets)."
      ]
    },
    {
      "cell_type": "code",
      "execution_count": null,
      "metadata": {
        "id": "lmoOx0vCYEPC"
      },
      "outputs": [],
      "source": [
        "my_array = make_array('Apple', 'Orange', 'Banana')\n",
        "my_array[1]"
      ]
    },
    {
      "cell_type": "markdown",
      "metadata": {
        "id": "R0drWUwrYMXY"
      },
      "source": [
        "Same thing as:"
      ]
    },
    {
      "cell_type": "code",
      "execution_count": null,
      "metadata": {
        "id": "T4zlmwhTYJa5"
      },
      "outputs": [],
      "source": [
        "my_array.item(1)"
      ]
    },
    {
      "cell_type": "markdown",
      "metadata": {
        "id": "3_2JgRv0YShP"
      },
      "source": [
        "# Rows from Lists\n",
        "\n",
        "We need lists to be able to add a row to our table. Why?\n"
      ]
    },
    {
      "cell_type": "markdown",
      "metadata": {
        "id": "S0aA3KlzYZwH"
      },
      "source": [
        "Here we make a table with a column (we've been doing this alot already)."
      ]
    },
    {
      "cell_type": "code",
      "execution_count": null,
      "metadata": {
        "id": "8yX3OxTMYZNv"
      },
      "outputs": [],
      "source": [
        "Table().with_columns('Numbers', [1, 2, 3])"
      ]
    },
    {
      "cell_type": "markdown",
      "metadata": {
        "id": "JOA9FsjzYgnO"
      },
      "source": [
        "Here we make an empty table with just column labels. (This is new!)"
      ]
    },
    {
      "cell_type": "code",
      "execution_count": null,
      "metadata": {
        "id": "IEBabj-1YmZl"
      },
      "outputs": [],
      "source": [
        "# Empty table with columns and no rows\n",
        "drinks = Table(['Drink', 'Cafe', 'Price'])\n",
        "drinks"
      ]
    },
    {
      "cell_type": "markdown",
      "metadata": {
        "id": "NgH2rEYeYpqD"
      },
      "source": [
        "Here we add rows to our table. Each row is a `List`of elements -- one for each column.\n",
        "\n"
      ]
    },
    {
      "cell_type": "code",
      "execution_count": null,
      "metadata": {
        "id": "TK5MiIf2YoR1"
      },
      "outputs": [],
      "source": [
        "drinks = drinks.with_rows([\n",
        "    ['Milk Tea', 'RareTea', 5.5],\n",
        "    ['Espresso', 'Buzzed Coffee',  1.75],\n",
        "    ['Latte',    'Buzzed Coffee',  3.25],\n",
        "    ['Espresso', \"Starbucks\",   2]\n",
        "])\n",
        "drinks"
      ]
    },
    {
      "cell_type": "markdown",
      "metadata": {
        "id": "Na4pXU2Lxj3t"
      },
      "source": [
        "# Grouping by Two Columns: Cross Classification"
      ]
    },
    {
      "cell_type": "markdown",
      "metadata": {
        "id": "t17jO66Cxj3t"
      },
      "source": [
        "Classify the cones by both `flavor` and `color`"
      ]
    },
    {
      "cell_type": "code",
      "execution_count": null,
      "metadata": {
        "id": "eMbwW0Nqa017"
      },
      "outputs": [],
      "source": [
        "# Default without specifying an argument is to add a column of the count\n",
        "cones.group(['Flavor', 'Color'])"
      ]
    },
    {
      "cell_type": "markdown",
      "metadata": {
        "id": "a6i5_-oua_pS"
      },
      "source": [
        "Specify how to `collect` the items with `sum`"
      ]
    },
    {
      "cell_type": "code",
      "execution_count": null,
      "metadata": {
        "id": "E9cpFk4oa_ZL"
      },
      "outputs": [],
      "source": [
        "cones.group(['Flavor', 'Color'], sum)"
      ]
    },
    {
      "cell_type": "code",
      "execution_count": null,
      "metadata": {
        "id": "gVTTJ6krbX4D"
      },
      "outputs": [],
      "source": [
        "# Average\n",
        "cones.group(['Flavor', 'Color'], np.mean)"
      ]
    },
    {
      "cell_type": "markdown",
      "metadata": {
        "id": "wj64zMGi5bnR"
      },
      "source": [
        "### Saving\n",
        "Remember to save your notebook before closing.\n",
        "Choose **Save** (and make sure you've already saved a copy in your drive) from the **File** menu."
      ]
    }
  ],
  "metadata": {
    "anaconda-cloud": {},
    "colab": {
      "collapsed_sections": [
        "rV_ovxf6xj3q"
      ],
      "provenance": [],
      "toc_visible": true
    },
    "kernelspec": {
      "display_name": "Python 3",
      "language": "python",
      "name": "python3"
    },
    "language_info": {
      "codemirror_mode": {
        "name": "ipython",
        "version": 3
      },
      "file_extension": ".py",
      "mimetype": "text/x-python",
      "name": "python",
      "nbconvert_exporter": "python",
      "pygments_lexer": "ipython3",
      "version": "3.10.12"
    }
  },
  "nbformat": 4,
  "nbformat_minor": 0
}
