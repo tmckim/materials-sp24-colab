{
  "cells": [
    {
      "cell_type": "markdown",
      "metadata": {
        "id": "lWPjSFBeJfU2"
      },
      "source": [
        "<a href=\"https://colab.research.google.com/github/tmckim/materials-sp24-colab/blob/main/lec_demos/lec04.ipynb\" target=\"_parent\"><img src=\"https://colab.research.google.com/assets/colab-badge.svg\" alt=\"Open In Colab\"/></a>"
      ]
    },
    {
      "cell_type": "markdown",
      "metadata": {
        "id": "OnBSpwoEJfU4"
      },
      "source": [
        "## Before you start - Save this notebook!\n",
        "\n",
        "When you open a new Colab notebook from the WebCampus (like you hopefully did for this one), you cannot save changes. So it's  best to store the Colab notebook in your personal drive `\"File > Save a copy in drive...\"` **before** you do anything else.\n",
        "\n",
        "The file will open in a new tab in your web browser, and it is automatically named something like: \"**Copy of lec04.ipynb**\". You can rename this to just the title of the assignment \"**lec04.ipynb**\". Make sure you do keep an informative name (like the name of the assignment) so that you know which files to submit back to WebCampus for grading! More instructions on this are at the end of the notebook.\n",
        "\n",
        "\n",
        "**Where does the notebook get saved in Google Drive?**\n",
        "\n",
        "By default, the notebook will be copied to a folder called “Colab Notebooks” at the root (home directory) of your Google Drive. If you use this for other courses or personal code notebooks, I recommend creating a folder for this course and then moving the assignments AFTER you have completed them. <br>\n",
        "\n",
        "I also recommend you give the folder where you save your notebooks^ a different name than the folder we create below that will store the notebook resources you need each time you work through a course notebook. This includes any data files you will need, links to the images that appear in the notebook, and the files associated with the autograder for answer checking.<br>\n",
        "You should select a name other than '**NS499-DataSci-course-materials**'. <br>\n",
        "This folder gets overwritten with each assignment you work on in the course, so you should **NOT** store your notebooks in this folder that we use for course materials! <br><br>For example, you could create a folder called 'NS499-**notebooks**' or something along those lines. \n",
        "\n",
        "__________"
      ]
    },
    {
      "cell_type": "markdown",
      "metadata": {},
      "source": [
        "### We will now do the setup steps as separate cells to help with issues finding files in google drive/colab. <br> If you restart colab, you must rerun all **5** steps in each of these cells!"
      ]
    },
    {
      "cell_type": "code",
      "execution_count": null,
      "metadata": {},
      "outputs": [],
      "source": [
        "# Step 1\n",
        "# Setup and add files needed to access gdrive\n",
        "from google.colab import drive                                   # these lines mount your gdrive to access the files we import below\n",
        "drive.mount('/content/gdrive', force_remount=True)"
      ]
    },
    {
      "cell_type": "code",
      "execution_count": null,
      "metadata": {},
      "outputs": [],
      "source": [
        "# Step 2\n",
        "# Change directory to the correct location in gdrive (modified way to do this from before)\n",
        "import os\n",
        "os.chdir('/content/gdrive/MyDrive/NS499-DataSci-course-materials/')"
      ]
    },
    {
      "cell_type": "code",
      "execution_count": null,
      "metadata": {},
      "outputs": [],
      "source": [
        "# Step 3\n",
        "# Remove the files that were previously there- we will replace with all the old + new ones for this assignment\n",
        "!rm -r materials-sp24-colab                                        "
      ]
    },
    {
      "cell_type": "code",
      "execution_count": null,
      "metadata": {},
      "outputs": [],
      "source": [
        "# Step 4\n",
        "# These lines clone (copy) all the files you will need from where I store the code+data for the course (github)\n",
        "# Second part of the code copies the files to this location and folder in your own gdrive\n",
        "!git clone https://github.com/tmckim/materials-sp24-colab '/content/gdrive/My Drive/NS499-DataSci-course-materials/materials-sp24-colab/'"
      ]
    },
    {
      "cell_type": "code",
      "execution_count": null,
      "metadata": {},
      "outputs": [],
      "source": [
        "# Step 5\n",
        "# Change directory into the folder where the resources for this assignment are stored in gdrive (modified way from before)\n",
        "os.chdir('/content/gdrive/MyDrive/NS499-DataSci-course-materials/materials-sp24-colab/lec_demos/')"
      ]
    },
    {
      "cell_type": "markdown",
      "metadata": {},
      "source": [
        "#### Today's Lecture\n",
        "\n",
        "In today's lecture, you'll learn how to:\n",
        "\n",
        "1. use python to work with numbers (integers and floats)\n",
        "2. use python to work with strings\n",
        "3. learn about data types and how to find out what type python uses\n",
        "4. put together data types into an array "
      ]
    },
    {
      "cell_type": "code",
      "execution_count": null,
      "metadata": {
        "id": "MRkneuHTMdzE"
      },
      "outputs": [],
      "source": [
        "# Import packages and other things needed\n",
        "# Don't change this cell; Just run this cell\n",
        "# If you restart colab, make sure to run this cell again after the first one above^\n",
        "\n",
        "from datascience import *\n",
        "import numpy as np\n",
        "\n",
        "%matplotlib inline\n",
        "import matplotlib.pyplot as plots\n",
        "plots.style.use(\"fivethirtyeight\")"
      ]
    },
    {
      "cell_type": "markdown",
      "metadata": {
        "id": "7xoMg_taJfVF"
      },
      "source": [
        "## Numbers ##"
      ]
    },
    {
      "cell_type": "code",
      "execution_count": null,
      "metadata": {
        "id": "VxgL-qM7JfVF"
      },
      "outputs": [],
      "source": [
        "# Example number\n",
        "30"
      ]
    },
    {
      "cell_type": "code",
      "execution_count": null,
      "metadata": {
        "id": "vy-Wcx2dJfVF"
      },
      "outputs": [],
      "source": [
        "10 * 3    # int"
      ]
    },
    {
      "cell_type": "code",
      "execution_count": null,
      "metadata": {
        "id": "lp8S-rtJJfVF"
      },
      "outputs": [],
      "source": [
        "10 / 3    # float"
      ]
    },
    {
      "cell_type": "code",
      "execution_count": null,
      "metadata": {
        "id": "nai4szYkJfVG"
      },
      "outputs": [],
      "source": [
        "# Division of two integers- float\n",
        "10 / 2"
      ]
    },
    {
      "cell_type": "code",
      "execution_count": null,
      "metadata": {
        "id": "yHFdm1llJfVG"
      },
      "outputs": [],
      "source": [
        "# Exponentiation with integers\n",
        "10 ** 3"
      ]
    },
    {
      "cell_type": "code",
      "execution_count": null,
      "metadata": {
        "id": "Z0W0OP1rJfVG"
      },
      "outputs": [],
      "source": [
        "# Exponentiation with integer + float\n",
        "10 ** 0.5"
      ]
    },
    {
      "cell_type": "code",
      "execution_count": null,
      "metadata": {
        "id": "dUUtVMiPqYkf"
      },
      "outputs": [],
      "source": [
        "# Might need to run this line for the next cell if there is an error, otherwise number is too big\n",
        "#import sys\n",
        "#sys.set_int_max_str_digits(0)"
      ]
    },
    {
      "cell_type": "code",
      "execution_count": null,
      "metadata": {
        "id": "u2DL0ZGlJfVG"
      },
      "outputs": [],
      "source": [
        "# A really big number\n",
        "123456 ** 890"
      ]
    },
    {
      "cell_type": "code",
      "execution_count": null,
      "metadata": {
        "id": "6n4VphTrJfVG"
      },
      "outputs": [],
      "source": [
        "# Floats- limited t0 15-16 significant digits\n",
        "10 / 3"
      ]
    },
    {
      "cell_type": "code",
      "execution_count": null,
      "metadata": {
        "id": "vCd_wiA3JfVG"
      },
      "outputs": [],
      "source": [
        "# A large number minus some of the same large number - what happens?\n",
        "758927451789.215489247589274985712 - 758927451789.21548924"
      ]
    },
    {
      "cell_type": "code",
      "execution_count": null,
      "metadata": {
        "id": "YO0FgDX3JfVH"
      },
      "outputs": [],
      "source": [
        "# Square root and then recover by squaring- what happens?\n",
        "(13 ** 0.5) ** 2"
      ]
    },
    {
      "cell_type": "code",
      "execution_count": null,
      "metadata": {
        "id": "c33lc7qXJfVH"
      },
      "outputs": [],
      "source": [
        "# convert to integer using the int function\n",
        "int(10 / 5)"
      ]
    },
    {
      "cell_type": "code",
      "execution_count": null,
      "metadata": {
        "id": "vbnnRc_FJfVH"
      },
      "outputs": [],
      "source": [
        "# What happens if we convert a float to an integer?\n",
        "int(10 / 4)"
      ]
    },
    {
      "cell_type": "code",
      "execution_count": null,
      "metadata": {
        "id": "evS-fiWuJfVH"
      },
      "outputs": [],
      "source": [
        "# convert to float using the float function\n",
        "float(3)"
      ]
    },
    {
      "cell_type": "code",
      "execution_count": null,
      "metadata": {
        "id": "AcnVnJ-rJfVH"
      },
      "outputs": [],
      "source": [
        "# Simple division\n",
        "6 / 4"
      ]
    },
    {
      "cell_type": "code",
      "execution_count": null,
      "metadata": {
        "id": "IjvioRgtJfVH"
      },
      "outputs": [],
      "source": [
        "# A variation with a larger denominator\n",
        "6 / 4000"
      ]
    },
    {
      "cell_type": "code",
      "execution_count": null,
      "metadata": {
        "id": "SNO7mlITJfVH"
      },
      "outputs": [],
      "source": [
        "# Scientific notation\n",
        "6 / 400000000000000000000000000000000000000000000000000000000"
      ]
    },
    {
      "cell_type": "code",
      "execution_count": null,
      "metadata": {
        "id": "ysSThCl4JfVI"
      },
      "outputs": [],
      "source": [
        "# Can write in scientific notation\n",
        "400000000000000000000000000000000000000000000000000000000 * 1.5e-56"
      ]
    },
    {
      "cell_type": "code",
      "execution_count": null,
      "metadata": {
        "id": "h6W37AAAJfVI"
      },
      "outputs": [],
      "source": [
        "# Assign the value 5 to x\n",
        "x = 5"
      ]
    },
    {
      "cell_type": "code",
      "execution_count": null,
      "metadata": {
        "id": "dZ-h-1HNJfVI"
      },
      "outputs": [],
      "source": [
        "# Doesn't work like math\n",
        "2x"
      ]
    },
    {
      "cell_type": "code",
      "execution_count": null,
      "metadata": {
        "id": "TPUGsjtpJfVI"
      },
      "outputs": [],
      "source": [
        "# Must write out multiplication with *\n",
        "2 * x"
      ]
    },
    {
      "cell_type": "markdown",
      "metadata": {
        "id": "F5fpvTjcJfVI"
      },
      "source": [
        "## Strings ##"
      ]
    },
    {
      "cell_type": "code",
      "execution_count": null,
      "metadata": {
        "id": "gBH1QC9LJfVI"
      },
      "outputs": [],
      "source": [
        "# Text\n",
        "'Flavor'"
      ]
    },
    {
      "cell_type": "code",
      "execution_count": null,
      "metadata": {
        "id": "c0N8pPqsJfVI"
      },
      "outputs": [],
      "source": [
        "# The line below causes a name error\n",
        "# Python thinks you are using a name (variable)\n",
        "# Flavor"
      ]
    },
    {
      "cell_type": "code",
      "execution_count": null,
      "metadata": {
        "id": "i_H_RQoKJfVI"
      },
      "outputs": [],
      "source": [
        "# Double quotes\n",
        "\"Flavor\""
      ]
    },
    {
      "cell_type": "code",
      "execution_count": null,
      "metadata": {
        "id": "GraUD4LnJfVJ"
      },
      "outputs": [],
      "source": [
        "# Single vs. Double Quotes - this will error\n",
        "'Don't always use single quotes'"
      ]
    },
    {
      "cell_type": "code",
      "execution_count": null,
      "metadata": {
        "id": "SQ6bpmzqJfVJ"
      },
      "outputs": [],
      "source": [
        "# Combining single and double quotes\n",
        "\"Don't always use single quotes\""
      ]
    },
    {
      "cell_type": "code",
      "execution_count": null,
      "metadata": {
        "id": "fEC4sIC3JfVJ"
      },
      "outputs": [],
      "source": [
        "# Concatenation Example 1\n",
        "'straw' 'berry'"
      ]
    },
    {
      "cell_type": "code",
      "execution_count": null,
      "metadata": {
        "id": "ViHPDo3sJfVJ"
      },
      "outputs": [],
      "source": [
        "# Concatenation Example 2\n",
        "'straw' + 'berry'"
      ]
    },
    {
      "cell_type": "code",
      "execution_count": null,
      "metadata": {
        "id": "V83QTYdoJfVJ"
      },
      "outputs": [],
      "source": [
        "# Spaces aren't added for you\n",
        "'Data' + 'Science'"
      ]
    },
    {
      "cell_type": "code",
      "execution_count": null,
      "metadata": {
        "id": "xzCUlYshJfVJ"
      },
      "outputs": [],
      "source": [
        "# Manually add space within quotes\n",
        "'Data' + ' ' + 'Science'"
      ]
    },
    {
      "cell_type": "code",
      "execution_count": null,
      "metadata": {
        "id": "ixWtK-JIJfVJ"
      },
      "outputs": [],
      "source": [
        "# Assign names and then add\n",
        "x = 'straw'\n",
        "y = 'berry'\n",
        "x + y"
      ]
    },
    {
      "cell_type": "code",
      "execution_count": null,
      "metadata": {
        "id": "gtKXz9mYJfVJ"
      },
      "outputs": [],
      "source": [
        "# Invalid syntax\n",
        "x y"
      ]
    },
    {
      "cell_type": "code",
      "execution_count": null,
      "metadata": {
        "id": "ZaQwWrlyJfVK"
      },
      "outputs": [],
      "source": [
        "# Cannot multiply by a float\n",
        "'ha' * 5.5"
      ]
    },
    {
      "cell_type": "code",
      "execution_count": null,
      "metadata": {
        "id": "QHCq88oCJfVK"
      },
      "outputs": [],
      "source": [
        "# Cannot add text and integer\n",
        "'ha' + 10"
      ]
    },
    {
      "cell_type": "code",
      "execution_count": null,
      "metadata": {
        "id": "_5TqINOcJfVK"
      },
      "outputs": [],
      "source": [
        "# Can make a string that contains a number\n",
        "'NS' + str(499)"
      ]
    },
    {
      "cell_type": "code",
      "execution_count": null,
      "metadata": {
        "id": "6JcebG7ZJfVK"
      },
      "outputs": [],
      "source": [
        "# Convert string to integer using int function\n",
        "int('3')"
      ]
    },
    {
      "cell_type": "code",
      "execution_count": null,
      "metadata": {
        "id": "EDAZFzoGJfVK"
      },
      "outputs": [],
      "source": [
        "# Convert string to integer errors with decimal- intermediate step to convert float is needed\n",
        "int('3.0')"
      ]
    },
    {
      "cell_type": "code",
      "execution_count": null,
      "metadata": {
        "id": "S4J7TrIiJfVK"
      },
      "outputs": [],
      "source": [
        "# Convert from string to float, and then to integer\n",
        "int(float('3.0'))"
      ]
    },
    {
      "cell_type": "code",
      "execution_count": null,
      "metadata": {
        "id": "sFxJ8E6mJfVK"
      },
      "outputs": [],
      "source": [
        "# Convert string to float- assign name and add two strings together\n",
        "dot_oh = '.0'\n",
        "float('3' + dot_oh)"
      ]
    },
    {
      "cell_type": "markdown",
      "metadata": {
        "id": "Z1wZTRi2JfVL"
      },
      "source": [
        "## Types ##"
      ]
    },
    {
      "cell_type": "code",
      "execution_count": null,
      "metadata": {
        "id": "HUhktrHbJfVL"
      },
      "outputs": [],
      "source": [
        "# Confirm 10 is an integer using type\n",
        "type(10)"
      ]
    },
    {
      "cell_type": "code",
      "execution_count": null,
      "metadata": {
        "id": "ZVwEnKN0JfVL"
      },
      "outputs": [],
      "source": [
        "# Assign a to the value of 10\n",
        "a = 10"
      ]
    },
    {
      "cell_type": "code",
      "execution_count": null,
      "metadata": {
        "id": "qBNyS51dJfVL"
      },
      "outputs": [],
      "source": [
        "# What is the type of a?\n",
        "type(a)"
      ]
    },
    {
      "cell_type": "code",
      "execution_count": null,
      "metadata": {
        "id": "Tf1qlRqOJfVL"
      },
      "outputs": [],
      "source": [
        "# What is the type of a number with decimals?\n",
        "type(4.5)"
      ]
    },
    {
      "cell_type": "code",
      "execution_count": null,
      "metadata": {
        "id": "AkQCAWHyJfVL"
      },
      "outputs": [],
      "source": [
        "# What is the type of text?\n",
        "type('abc')"
      ]
    },
    {
      "cell_type": "code",
      "execution_count": null,
      "metadata": {
        "id": "SIjB0VzAJfVL"
      },
      "outputs": [],
      "source": [
        "# Check the type of a table\n",
        "# Special kind from datascience module\n",
        "type(Table.read_table('nba_salaries.csv'))"
      ]
    },
    {
      "cell_type": "code",
      "execution_count": null,
      "metadata": {
        "id": "Gkygp9QGJfVL"
      },
      "outputs": [],
      "source": [
        "# What is the type of True or False?\n",
        "type(True)"
      ]
    },
    {
      "cell_type": "code",
      "execution_count": null,
      "metadata": {
        "id": "JZZhHRu4JfVM"
      },
      "outputs": [],
      "source": [
        "# What is the type of the abs function?\n",
        "type(abs)"
      ]
    },
    {
      "cell_type": "markdown",
      "metadata": {
        "id": "RVoCaY8kJfVM"
      },
      "source": [
        "## Arrays ##"
      ]
    },
    {
      "cell_type": "code",
      "execution_count": null,
      "metadata": {
        "id": "fe0z_iCrJfVM"
      },
      "outputs": [],
      "source": [
        "# An array of 4 numbers\n",
        "first_four = make_array(1, 2, 3, 4)"
      ]
    },
    {
      "cell_type": "code",
      "execution_count": null,
      "metadata": {
        "id": "YdW9yW4kJfVM"
      },
      "outputs": [],
      "source": [
        "# Show the array\n",
        "first_four"
      ]
    },
    {
      "cell_type": "code",
      "execution_count": null,
      "metadata": {
        "id": "rihklkVtJfVM"
      },
      "outputs": [],
      "source": [
        "# Multiply the array by 2\n",
        "first_four * 2"
      ]
    },
    {
      "cell_type": "code",
      "execution_count": null,
      "metadata": {
        "id": "LC3JMEpCJfVM"
      },
      "outputs": [],
      "source": [
        "# Squaring the array\n",
        "first_four ** 2"
      ]
    },
    {
      "cell_type": "code",
      "execution_count": null,
      "metadata": {
        "id": "VLObJAnwJfVM"
      },
      "outputs": [],
      "source": [
        "# Add to the array\n",
        "first_four + 1"
      ]
    },
    {
      "cell_type": "code",
      "execution_count": null,
      "metadata": {
        "id": "w1cK-OjEJfVM"
      },
      "outputs": [],
      "source": [
        "# The original array is unchanged, just like when we call show/select/drop on Table\n",
        "first_four"
      ]
    },
    {
      "cell_type": "code",
      "execution_count": null,
      "metadata": {
        "id": "guS-mW7_JfVM"
      },
      "outputs": [],
      "source": [
        "# A new array\n",
        "next_four = make_array(5, 6, 7, 8)"
      ]
    },
    {
      "cell_type": "code",
      "execution_count": null,
      "metadata": {
        "id": "MaVNZU_7JfVN"
      },
      "outputs": [],
      "source": [
        "# Add two arrays\n",
        "first_four + next_four"
      ]
    },
    {
      "cell_type": "code",
      "execution_count": null,
      "metadata": {
        "id": "bQXpJr_6JfVN"
      },
      "outputs": [],
      "source": [
        "# A third array\n",
        "only_three = make_array(5, 6, 7)"
      ]
    },
    {
      "cell_type": "code",
      "execution_count": null,
      "metadata": {
        "id": "IykGAhsAJfVN"
      },
      "outputs": [],
      "source": [
        "# This line will cause an error - why?\n",
        "first_four + only_three"
      ]
    },
    {
      "cell_type": "code",
      "execution_count": null,
      "metadata": {
        "id": "XNgeHnZHJfVN"
      },
      "outputs": [],
      "source": [
        "# A string array\n",
        "str_array = make_array('ha', 'he', 'ho')"
      ]
    },
    {
      "cell_type": "code",
      "execution_count": null,
      "metadata": {
        "id": "sCIzjZMfJfVN"
      },
      "outputs": [],
      "source": [
        "# Show the array\n",
        "str_array"
      ]
    },
    {
      "cell_type": "code",
      "execution_count": null,
      "metadata": {
        "id": "T1nD9MCIJfVN"
      },
      "outputs": [],
      "source": [
        "# Multiply a string array by a number?\n",
        "str_array * 4"
      ]
    },
    {
      "cell_type": "code",
      "execution_count": null,
      "metadata": {
        "id": "DTT51HIpJfVN"
      },
      "outputs": [],
      "source": [
        "# Show this array again\n",
        "next_four"
      ]
    },
    {
      "cell_type": "code",
      "execution_count": null,
      "metadata": {
        "id": "YriKy2vUJfVN"
      },
      "outputs": [],
      "source": [
        "# How to index an array\n",
        "next_four.item(0)"
      ]
    },
    {
      "cell_type": "code",
      "execution_count": null,
      "metadata": {
        "id": "nBTditUHJfVN"
      },
      "outputs": [],
      "source": [
        "# What item are we indexing here?\n",
        "next_four.item(1)"
      ]
    },
    {
      "cell_type": "code",
      "execution_count": null,
      "metadata": {
        "id": "_cfa4rLZJfVO"
      },
      "outputs": [],
      "source": [
        "# Adding the array of numbers\n",
        "sum(next_four)"
      ]
    },
    {
      "cell_type": "code",
      "execution_count": null,
      "metadata": {
        "id": "cdjDIfIsJfVO"
      },
      "outputs": [],
      "source": [
        "# Using numpy to average the array\n",
        "np.average(next_four)"
      ]
    },
    {
      "cell_type": "code",
      "execution_count": null,
      "metadata": {
        "id": "w578FG4jJfVO"
      },
      "outputs": [],
      "source": [
        "# Finding the length of the array\n",
        "len(next_four)"
      ]
    },
    {
      "cell_type": "markdown",
      "metadata": {
        "id": "WTSHeXmQJfVO"
      },
      "source": [
        "## Columns of Tables are Arrays ##"
      ]
    },
    {
      "cell_type": "markdown",
      "metadata": {
        "id": "-kiMqEo3JfVO"
      },
      "source": [
        "### A more interesting table"
      ]
    },
    {
      "cell_type": "code",
      "execution_count": null,
      "metadata": {
        "id": "hFp_LLQXJfVO"
      },
      "outputs": [],
      "source": [
        "# Originally from https://github.com/erikgregorywebb/datasets/blob/master/nba-salaries.csv\n",
        "# Create a table named nba from the data file using the Table method and read_table function\n",
        "nba = Table.read_table('nba_salaries.csv')\n",
        "nba"
      ]
    },
    {
      "cell_type": "code",
      "execution_count": null,
      "metadata": {
        "id": "FzPHZ8h1JfVP"
      },
      "outputs": [],
      "source": [
        "# Create a table called point_guards by finding where the position column is labeled PG (point guard) during the 2020 season\n",
        "point_guards = nba.where('position', 'PG').where('season', 2020)"
      ]
    },
    {
      "cell_type": "code",
      "execution_count": null,
      "metadata": {
        "id": "QXmZ0qstJfVP"
      },
      "outputs": [],
      "source": [
        "# Show the table\n",
        "point_guards"
      ]
    },
    {
      "cell_type": "code",
      "execution_count": null,
      "metadata": {
        "id": "o8oeZIYTJfVP"
      },
      "outputs": [],
      "source": [
        "# Drop (remove) the position column\n",
        "point_guards.drop('position')"
      ]
    },
    {
      "cell_type": "code",
      "execution_count": null,
      "metadata": {
        "id": "LhoD30dTJfVP"
      },
      "outputs": [],
      "source": [
        "# Show the table\n",
        "point_guards"
      ]
    },
    {
      "cell_type": "code",
      "execution_count": null,
      "metadata": {
        "id": "DvtAoayHJfVP"
      },
      "outputs": [],
      "source": [
        "# Further remove columns from the table\n",
        "point_guards = point_guards.drop('rank', 'position', 'season')"
      ]
    },
    {
      "cell_type": "code",
      "execution_count": null,
      "metadata": {
        "id": "wdd-eAtzJfVP"
      },
      "outputs": [],
      "source": [
        "# Show the first 10 rows of the table\n",
        "point_guards.show(10)"
      ]
    },
    {
      "cell_type": "code",
      "execution_count": null,
      "metadata": {
        "id": "vv1uq4uiJfVP"
      },
      "outputs": [],
      "source": [
        "# Combine table functions: first sort by salary and then show the first 10 rows\n",
        "# What is the default sorting direction? Hint: what is the default for the optional argument, descending?\n",
        "point_guards.sort('salary').show(10)"
      ]
    },
    {
      "cell_type": "code",
      "execution_count": null,
      "metadata": {
        "id": "rzhkqRCSJfVQ"
      },
      "outputs": [],
      "source": [
        "# The line below will cause a value error\n",
        "# nba.drop('position').where('position', 'PG')"
      ]
    },
    {
      "cell_type": "code",
      "execution_count": null,
      "metadata": {
        "id": "K4spWkwzJfVQ"
      },
      "outputs": [],
      "source": [
        "# Create a table of only the data from the 2020 season\n",
        "nba = Table.read_table('nba_salaries.csv').where('season', 2020).drop('season')\n",
        "nba.show(5)"
      ]
    },
    {
      "cell_type": "code",
      "execution_count": null,
      "metadata": {
        "id": "Gq4OdUykJfVQ"
      },
      "outputs": [],
      "source": [
        "# Create a table of Golden State Warriors data\n",
        "warriors = nba.where('team', 'Golden State Warriors')\n",
        "warriors.show(5)"
      ]
    },
    {
      "cell_type": "code",
      "execution_count": null,
      "metadata": {
        "id": "J4NMr6EGJfVQ"
      },
      "outputs": [],
      "source": [
        "# Show the salary column\n",
        "warriors.select('salary')"
      ]
    },
    {
      "cell_type": "code",
      "execution_count": null,
      "metadata": {
        "id": "BVzK2f5vJfVQ"
      },
      "outputs": [],
      "source": [
        "# What type is the salary column?\n",
        "type(warriors.select('salary'))"
      ]
    },
    {
      "cell_type": "code",
      "execution_count": null,
      "metadata": {
        "id": "_pDr9flUJfVQ"
      },
      "outputs": [],
      "source": [
        "# Access the numbers in the salary column\n",
        "warriors.column('salary')"
      ]
    },
    {
      "cell_type": "code",
      "execution_count": null,
      "metadata": {
        "id": "LsGij55iJfVQ"
      },
      "outputs": [],
      "source": [
        "# Average the numbers in the salary column\n",
        "np.average(warriors.column('salary'))"
      ]
    },
    {
      "cell_type": "code",
      "execution_count": null,
      "metadata": {
        "id": "B88r9STFJfVQ"
      },
      "outputs": [],
      "source": [
        "# Create a table with Phoenix Suns data\n",
        "suns = nba.where('team', 'Phoenix Suns')"
      ]
    },
    {
      "cell_type": "code",
      "execution_count": null,
      "metadata": {
        "id": "Ht4faffcJfVR"
      },
      "outputs": [],
      "source": [
        "# Subtract averages from the salary columns to compare the two teams\n",
        "np.average(warriors.column('salary')) - np.average(suns.column('salary'))"
      ]
    },
    {
      "cell_type": "code",
      "execution_count": null,
      "metadata": {
        "id": "yvcZVqiGJfVR"
      },
      "outputs": [],
      "source": [
        "# How many rows in the warrior table?\n",
        "warriors.num_rows"
      ]
    },
    {
      "cell_type": "code",
      "execution_count": null,
      "metadata": {
        "id": "TJmMo2MoJfVR"
      },
      "outputs": [],
      "source": [
        "# How many rows in the suns table?\n",
        "suns.num_rows"
      ]
    },
    {
      "cell_type": "markdown",
      "metadata": {
        "id": "CaR9gP1kJfVR"
      },
      "source": [
        "### Saving\n",
        "Remember to save your notebook before closing.\n",
        "Choose **Save** (and make sure you've already saved a copy in your drive) from the **File** menu."
      ]
    }
  ],
  "metadata": {
    "anaconda-cloud": {},
    "colab": {
      "provenance": []
    },
    "kernelspec": {
      "display_name": "Python 3",
      "language": "python",
      "name": "python3"
    },
    "language_info": {
      "codemirror_mode": {
        "name": "ipython",
        "version": 3
      },
      "file_extension": ".py",
      "mimetype": "text/x-python",
      "name": "python",
      "nbconvert_exporter": "python",
      "pygments_lexer": "ipython3",
      "version": "3.8.5"
    }
  },
  "nbformat": 4,
  "nbformat_minor": 0
}
