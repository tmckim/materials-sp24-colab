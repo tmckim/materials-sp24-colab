{
  "cells": [
    {
      "cell_type": "markdown",
      "metadata": {
        "id": "ml2I5wZ_U6WO"
      },
      "source": [
        "<a href=\"https://colab.research.google.com/github/tmckim/materials-sp24-colab/blob/main/lec_demos/lec12.ipynb\" target=\"_parent\"><img src=\"https://colab.research.google.com/assets/colab-badge.svg\" alt=\"Open In Colab\"/></a>"
      ]
    },
    {
      "cell_type": "markdown",
      "metadata": {
        "id": "EiU1HDGvU6WR"
      },
      "source": [
        "## Before you start - Save this notebook!\n",
        "\n",
        "When you open a new Colab notebook from the WebCampus (like you hopefully did for this one), you cannot save changes. So it's  best to store the Colab notebook in your personal drive `\"File > Save a copy in drive...\"` **before** you do anything else.\n",
        "\n",
        "The file will open in a new tab in your web browser, and it is automatically named something like: \"**Copy of lec12.ipynb**\". You can rename this to just the title of the assignment \"**lec12.ipynb**\". Make sure you do keep an informative name (like the name of the assignment) so that you know which files to submit back to WebCampus for grading! More instructions on this are at the end of the notebook.\n",
        "\n",
        "\n",
        "**Where does the notebook get saved in Google Drive?**\n",
        "\n",
        "By default, the notebook will be copied to a folder called “Colab Notebooks” at the root (home directory) of your Google Drive. If you use this for other courses or personal code notebooks, I recommend creating a folder for this course and then moving the assignments AFTER you have completed them. <br>\n",
        "\n",
        "I also recommend you give the folder where you save your notebooks^ a different name than the folder we create below that will store the notebook resources you need each time you work through a course notebook. This includes any data files you will need, links to the images that appear in the notebook, and the files associated with the autograder for answer checking.<br>\n",
        "You should select a name other than '**NS499-DataSci-course-materials**'. <br>\n",
        "This folder gets overwritten with each assignment you work on in the course, so you should **NOT** store your notebooks in this folder that we use for course materials! <br><br>For example, you could create a folder called 'NS499-**notebooks**' or something along those lines.\n",
        "___"
      ]
    },
    {
      "cell_type": "markdown",
      "metadata": {
        "id": "9qxrnTVfUjO_"
      },
      "source": [
        "### We will now do the setup steps as separate cells to help with issues finding files in google drive/colab. <br> If you restart colab, you must rerun all **5** steps in each of these cells!"
      ]
    },
    {
      "cell_type": "code",
      "execution_count": null,
      "metadata": {
        "id": "Wh0xryS-UjO_"
      },
      "outputs": [],
      "source": [
        "# Step 1\n",
        "# Setup and add files needed to access gdrive\n",
        "from google.colab import drive                                   # these lines mount your gdrive to access the files we import below\n",
        "drive.mount('/content/gdrive', force_remount=True)"
      ]
    },
    {
      "cell_type": "code",
      "execution_count": null,
      "metadata": {
        "id": "LOgR0jVwUjPA"
      },
      "outputs": [],
      "source": [
        "# Step 2\n",
        "# Change directory to the correct location in gdrive (modified way to do this from before)\n",
        "import os\n",
        "os.chdir('/content/gdrive/MyDrive/NS499-DataSci-course-materials/')"
      ]
    },
    {
      "cell_type": "code",
      "execution_count": null,
      "metadata": {
        "id": "AI9oGmV0UjPA"
      },
      "outputs": [],
      "source": [
        "# Step 3\n",
        "# Remove the files that were previously there- we will replace with all the old + new ones for this assignment\n",
        "!rm -r materials-sp24-colab"
      ]
    },
    {
      "cell_type": "code",
      "execution_count": null,
      "metadata": {
        "id": "0MqPBOhpUjPA"
      },
      "outputs": [],
      "source": [
        "# Step 4\n",
        "# These lines clone (copy) all the files you will need from where I store the code+data for the course (github)\n",
        "# Second part of the code copies the files to this location and folder in your own gdrive\n",
        "!git clone https://github.com/tmckim/materials-sp24-colab '/content/gdrive/My Drive/NS499-DataSci-course-materials/materials-sp24-colab/'"
      ]
    },
    {
      "cell_type": "code",
      "execution_count": null,
      "metadata": {
        "id": "KQr3P1vKUjPA"
      },
      "outputs": [],
      "source": [
        "# Step 5\n",
        "# Change directory into the folder where the resources for this assignment are stored in gdrive (modified way from before)\n",
        "os.chdir('/content/gdrive/MyDrive/NS499-DataSci-course-materials/materials-sp24-colab/lec_demos/')"
      ]
    },
    {
      "cell_type": "code",
      "execution_count": 19,
      "metadata": {
        "id": "PaihHzG8UjPA"
      },
      "outputs": [],
      "source": [
        "# Import packages and other things needed\n",
        "# Don't change this cell; Just run this cell\n",
        "# If you restart colab, make sure to run this cell again after the first ones above^\n",
        "\n",
        "from datascience import *\n",
        "import numpy as np\n",
        "import warnings\n",
        "warnings.simplefilter(action='ignore',category=np.VisibleDeprecationWarning)\n",
        "\n",
        "%matplotlib inline\n",
        "import matplotlib.pyplot as plt\n",
        "plt.style.use(\"fivethirtyeight\")\n",
        "plt.rcParams[\"patch.force_edgecolor\"] = True"
      ]
    },
    {
      "cell_type": "markdown",
      "metadata": {
        "id": "jMHqHNmyU6WU"
      },
      "source": [
        "## Learning Objectives ##"
      ]
    },
    {
      "cell_type": "markdown",
      "metadata": {
        "id": "P-uR6FmDU6WU"
      },
      "source": [
        "\n",
        "Topics:\n",
        "- conditional statement review\n",
        "- `for` loops\n",
        "- using `apply` for rows\n",
        "- simulation and using `np.random.choice`"
      ]
    },
    {
      "cell_type": "markdown",
      "metadata": {
        "id": "YxQQ-VJPBzZW"
      },
      "source": [
        "## Conditionals Review ##"
      ]
    },
    {
      "cell_type": "markdown",
      "metadata": {
        "id": "h0scEArmCjfN"
      },
      "source": [
        "Compound boolean expressions:"
      ]
    },
    {
      "cell_type": "code",
      "execution_count": 7,
      "metadata": {
        "id": "bcYe8-rnVoCL"
      },
      "outputs": [],
      "source": [
        "x = 7\n",
        "y = 2"
      ]
    },
    {
      "cell_type": "code",
      "execution_count": null,
      "metadata": {
        "id": "2aAeTvFWBX36"
      },
      "outputs": [],
      "source": [
        "12 < x < 20"
      ]
    },
    {
      "cell_type": "code",
      "execution_count": null,
      "metadata": {
        "cellView": "form",
        "id": "iI5uVel9VuNn"
      },
      "outputs": [],
      "source": [
        "#@title Solution\n",
        "# 12 < 7 is False\n",
        "# 7 < 20 is True\n",
        "# overall expression evaluates to: False"
      ]
    },
    {
      "cell_type": "markdown",
      "metadata": {
        "id": "c18XKiJDV_mO"
      },
      "source": [
        "You can separate into 2 statements and use the text `and`\n",
        "Notice that `and` appears in blue. It is a special and is called a Python Keyword. <br>What this means: <br>\n",
        "Python has a set of keywords that are reserved words that cannot be used as variable names, function names, or any other identifiers.<br><br>\n",
        "\n",
        "We've been learning about and using others - more info can be found [here](https://www.w3schools.com/python/python_ref_keywords.asp)"
      ]
    },
    {
      "cell_type": "code",
      "execution_count": null,
      "metadata": {
        "id": "gyFUuEoCCumE"
      },
      "outputs": [],
      "source": [
        "(12 < x) and (x < 20)"
      ]
    },
    {
      "cell_type": "markdown",
      "metadata": {
        "id": "BwmJpWHdXN9-"
      },
      "source": [
        "Notice the difference if we write this with an `or` instead of `and`"
      ]
    },
    {
      "cell_type": "code",
      "execution_count": null,
      "metadata": {
        "id": "U6p-nvQXXMhW"
      },
      "outputs": [],
      "source": [
        "(12 < x) or (x < 20)"
      ]
    },
    {
      "cell_type": "code",
      "execution_count": null,
      "metadata": {
        "cellView": "form",
        "id": "w4epUmOvXnJL"
      },
      "outputs": [],
      "source": [
        "#@title Solution\n",
        "# 12 < 7 is False\n",
        "# 7 < 20 is True\n",
        "# overall expression evaluates to: True"
      ]
    },
    {
      "cell_type": "code",
      "execution_count": null,
      "metadata": {
        "id": "8g5YPdbEDEm6"
      },
      "outputs": [],
      "source": [
        "(12 > x) and (x > 5)"
      ]
    },
    {
      "cell_type": "code",
      "execution_count": null,
      "metadata": {
        "cellView": "form",
        "id": "RvATcXsVXCMn"
      },
      "outputs": [],
      "source": [
        "#@title Solution\n",
        "# 12 > 7 is True\n",
        "# 7 > 5 is True\n",
        "# overall expression evaluates to: True"
      ]
    },
    {
      "cell_type": "markdown",
      "metadata": {
        "id": "dcl0ul2aYQP_"
      },
      "source": [
        "You can also combine arithmetic operations and logical statements."
      ]
    },
    {
      "cell_type": "code",
      "execution_count": null,
      "metadata": {
        "id": "R8mznx6sBX36"
      },
      "outputs": [],
      "source": [
        "10 > x - y < 13"
      ]
    },
    {
      "cell_type": "code",
      "execution_count": null,
      "metadata": {
        "cellView": "form",
        "id": "lOBKuyyfYWmY"
      },
      "outputs": [],
      "source": [
        "#@title Solution\n",
        "# start with the x - y calculation\n",
        "# 7 - 2 = 5\n",
        "# 10 > 5 is True\n",
        "# 5 < 13 is True\n",
        "# overall expression evaluates to: True"
      ]
    },
    {
      "cell_type": "markdown",
      "metadata": {
        "id": "q5gCvylyBX37"
      },
      "source": [
        "(The comparison `12 < x < 20` is equivalent to `12 < x and x < 20`.)"
      ]
    },
    {
      "cell_type": "markdown",
      "metadata": {
        "id": "xXcSzdUvBX37"
      },
      "source": [
        "## Comparisons with arrays"
      ]
    },
    {
      "cell_type": "markdown",
      "metadata": {
        "id": "HtvYZxUFYwTt"
      },
      "source": [
        "What is the sum of the boolean array below?"
      ]
    },
    {
      "cell_type": "code",
      "execution_count": 24,
      "metadata": {
        "id": "CSBigwOzBX37"
      },
      "outputs": [],
      "source": [
        "an_array = make_array(True, False, False, True, True, False)"
      ]
    },
    {
      "cell_type": "code",
      "execution_count": null,
      "metadata": {
        "id": "BvCLTVdUY4qU"
      },
      "outputs": [],
      "source": [
        "sum(an_array)"
      ]
    },
    {
      "cell_type": "markdown",
      "metadata": {
        "id": "fRHJ0amgZCzE"
      },
      "source": [
        "[`np.count_nonzero`](https://numpy.org/doc/stable/reference/generated/numpy.count_nonzero.html) counts the non-zero values in an array. In a boolean array, this means it counts all `True` values. <br>`True` = 1 and `False` = 0. <br>\n",
        "\n",
        "More examples found in:\n",
        "*   [textbook](https://inferentialthinking.com/chapters/09/Randomness.html)\n",
        "*   [Python Reference](https://www.data8.org/sp22/python-reference.html)\n"
      ]
    },
    {
      "cell_type": "code",
      "execution_count": null,
      "metadata": {
        "id": "CW9Gq5E5BX37"
      },
      "outputs": [],
      "source": [
        "np.count_nonzero(an_array)"
      ]
    },
    {
      "cell_type": "markdown",
      "metadata": {
        "id": "pw0lQUJyBX37"
      },
      "source": [
        "## Rows & Apply"
      ]
    },
    {
      "cell_type": "code",
      "execution_count": null,
      "metadata": {
        "id": "gCLNXvHEBX37"
      },
      "outputs": [],
      "source": [
        "# Read in data table\n",
        "survey = Table.read_table('welcome_survey_sp22.csv')\n",
        "survey.show(3)"
      ]
    },
    {
      "cell_type": "code",
      "execution_count": null,
      "metadata": {
        "id": "kMDfAO2xIogI"
      },
      "outputs": [],
      "source": [
        "# first row\n",
        "survey.row(0)"
      ]
    },
    {
      "cell_type": "code",
      "execution_count": null,
      "metadata": {
        "id": "Mr7gJdHqBX37"
      },
      "outputs": [],
      "source": [
        "example_row = survey.row(0)"
      ]
    },
    {
      "cell_type": "code",
      "execution_count": null,
      "metadata": {
        "id": "GdpixJq3IztY"
      },
      "outputs": [],
      "source": [
        "type(example_row)"
      ]
    },
    {
      "cell_type": "code",
      "execution_count": null,
      "metadata": {
        "id": "pXu80qn6BX37"
      },
      "outputs": [],
      "source": [
        "example_row.item(0)"
      ]
    },
    {
      "cell_type": "markdown",
      "metadata": {
        "id": "brrOl3JnI2JB"
      },
      "source": [
        "Getting data (info in our table) from a row"
      ]
    },
    {
      "cell_type": "code",
      "execution_count": null,
      "metadata": {
        "id": "qc-TcryYBX37"
      },
      "outputs": [],
      "source": [
        "example_row.item('Year')"
      ]
    },
    {
      "cell_type": "code",
      "execution_count": null,
      "metadata": {
        "id": "Jt--veSUI6EA"
      },
      "outputs": [],
      "source": [
        "example_row.item(2)"
      ]
    },
    {
      "cell_type": "markdown",
      "metadata": {
        "id": "7hRcxnVbfWkF"
      },
      "source": [
        "## Math on Rows"
      ]
    },
    {
      "cell_type": "code",
      "execution_count": null,
      "metadata": {
        "id": "SslomyWTfZne"
      },
      "outputs": [],
      "source": [
        "row2 = survey.select('Extroversion', 'Number of textees', 'Hours of sleep').row(1)\n",
        "row2"
      ]
    },
    {
      "cell_type": "markdown",
      "metadata": {
        "id": "BcSXV-Kkfwhg"
      },
      "source": [
        "We can apply aggregation functions to that row"
      ]
    },
    {
      "cell_type": "code",
      "execution_count": null,
      "metadata": {
        "id": "dXjFlJgtfzMs"
      },
      "outputs": [],
      "source": [
        "sum(row2)"
      ]
    },
    {
      "cell_type": "markdown",
      "metadata": {
        "id": "835vnI_Pf5AY"
      },
      "source": [
        "Recall that if we wanted to **apply** a function to all the rows of a table we use `apply`"
      ]
    },
    {
      "cell_type": "code",
      "execution_count": null,
      "metadata": {
        "id": "y5tpHfW2gKw_"
      },
      "outputs": [],
      "source": [
        "survey.select('Extroversion', 'Number of textees', 'Hours of sleep')"
      ]
    },
    {
      "cell_type": "code",
      "execution_count": null,
      "metadata": {
        "id": "UKoZogMugYZP"
      },
      "outputs": [],
      "source": [
        "survey.select('Extroversion', 'Number of textees', 'Hours of sleep').apply(sum)"
      ]
    },
    {
      "cell_type": "markdown",
      "metadata": {
        "id": "zYGzqY78gsPc"
      },
      "source": [
        "Let's use this to improve our pivot table"
      ]
    },
    {
      "cell_type": "code",
      "execution_count": null,
      "metadata": {
        "id": "6XiehNtxBX38"
      },
      "outputs": [],
      "source": [
        "# .pivot(rows,column)\n",
        "p = survey.pivot('Sleep position', 'Hours of sleep')\n",
        "p.show()"
      ]
    },
    {
      "cell_type": "markdown",
      "metadata": {
        "id": "cJiByyZXg6VS"
      },
      "source": [
        "Add row totals to the table for the values of sleep positions"
      ]
    },
    {
      "cell_type": "code",
      "execution_count": null,
      "metadata": {
        "id": "D4dYHDPkg5FT"
      },
      "outputs": [],
      "source": [
        "# Add total column to table\n",
        "p.with_column('Total', p.drop('Hours of sleep').apply(sum))"
      ]
    },
    {
      "cell_type": "markdown",
      "metadata": {
        "id": "g-qq97BKhjw1"
      },
      "source": [
        "Why is `Hours of sleep` still in the table?"
      ]
    },
    {
      "cell_type": "markdown",
      "metadata": {
        "id": "GrmFJxaRhxhC"
      },
      "source": [
        "Do the same thing with a `group` and a `join`:"
      ]
    },
    {
      "cell_type": "code",
      "execution_count": null,
      "metadata": {
        "id": "SP6bY8GGh0GQ"
      },
      "outputs": [],
      "source": [
        "p.join('Hours of sleep', survey.group('Hours of sleep')).show()"
      ]
    },
    {
      "cell_type": "markdown",
      "metadata": {
        "id": "SeTSo1esBX38"
      },
      "source": [
        "## Conditional Statements"
      ]
    },
    {
      "cell_type": "markdown",
      "metadata": {
        "id": "EPPgjNP2igae"
      },
      "source": [
        "Conditional statements in python allow us to do different things based on the values in our data"
      ]
    },
    {
      "cell_type": "code",
      "execution_count": null,
      "metadata": {
        "id": "wmep_GquBX38"
      },
      "outputs": [],
      "source": [
        "x = 20"
      ]
    },
    {
      "cell_type": "markdown",
      "metadata": {
        "id": "4TePupmnikIh"
      },
      "source": [
        "If the value of x is greater than or equal to 18 then print 'You can legally vote'"
      ]
    },
    {
      "cell_type": "code",
      "execution_count": null,
      "metadata": {
        "id": "QpX5-hk5BX38"
      },
      "outputs": [],
      "source": [
        "# What happens if x changes?\n",
        "if x >= 18:\n",
        "    print('You can legally vote.')"
      ]
    },
    {
      "cell_type": "markdown",
      "metadata": {
        "id": "jBl43xd2i2a4"
      },
      "source": [
        "Notice that if the boolean expression is False then the body of the if statement is not executed:\n",
        "\n"
      ]
    },
    {
      "cell_type": "code",
      "execution_count": null,
      "metadata": {
        "id": "zgQHWuOsBX38"
      },
      "outputs": [],
      "source": [
        "print(\"Can you drink?\")\n",
        "\n",
        "if x >= 21:\n",
        "    print('You can legally drink.')\n",
        "    print(\"This line of code is never run...\")\n",
        "    x = 0\n",
        "\n",
        "print(\"This is run\")\n",
        "print(\"The value of x is\", x)"
      ]
    },
    {
      "cell_type": "markdown",
      "metadata": {
        "id": "32tld8x6jh0G"
      },
      "source": [
        "Sometimes you want to do something else if the first statement wasn't true:"
      ]
    },
    {
      "cell_type": "code",
      "execution_count": null,
      "metadata": {
        "id": "66yQZrjXjlpg"
      },
      "outputs": [],
      "source": [
        "if x >= 21:\n",
        "    print('You can legally vote and drink.')\n",
        "else:\n",
        "    print('You can legally drink milk.')"
      ]
    },
    {
      "cell_type": "code",
      "execution_count": null,
      "metadata": {
        "id": "Cj2NPx3hkbTK"
      },
      "outputs": [],
      "source": [
        "if x >= 21:\n",
        "    print('You can legally vote and drink.')\n",
        "elif x >= 18:\n",
        "    print('You can legally vote.')\n",
        "else:\n",
        "    print('You can legally drink milk.')"
      ]
    },
    {
      "cell_type": "markdown",
      "metadata": {
        "id": "yQbEevGcjolp"
      },
      "source": [
        "Implementing a function with conditionals and multiple return values:"
      ]
    },
    {
      "cell_type": "code",
      "execution_count": null,
      "metadata": {
        "id": "YwgomR_pBX38"
      },
      "outputs": [],
      "source": [
        "def age(x):\n",
        "    if x >= 18:\n",
        "        return 'You can legally vote.'\n",
        "    if x >= 21:\n",
        "        return 'You can legally drink.'"
      ]
    },
    {
      "cell_type": "code",
      "execution_count": null,
      "metadata": {
        "id": "bKCbrwG7BX38"
      },
      "outputs": [],
      "source": [
        "age(3)"
      ]
    },
    {
      "cell_type": "code",
      "execution_count": null,
      "metadata": {
        "id": "I6E5gO0XBX38"
      },
      "outputs": [],
      "source": [
        "age(20)"
      ]
    },
    {
      "cell_type": "code",
      "execution_count": null,
      "metadata": {
        "id": "A2MrOqo4BX38"
      },
      "outputs": [],
      "source": [
        "age(25)"
      ]
    },
    {
      "cell_type": "code",
      "execution_count": null,
      "metadata": {
        "id": "jBQwnB_RBX38"
      },
      "outputs": [],
      "source": [
        "def age(x):\n",
        "    if x >= 21:\n",
        "        return 'You can legally vote and drink.'\n",
        "    elif x >= 18:\n",
        "        return 'You can legally vote.'\n",
        "    else:\n",
        "        return 'You can legally drink milk.'"
      ]
    },
    {
      "cell_type": "code",
      "execution_count": null,
      "metadata": {
        "id": "jXbVj0_SBX38"
      },
      "outputs": [],
      "source": [
        "age(3)"
      ]
    },
    {
      "cell_type": "code",
      "execution_count": null,
      "metadata": {
        "id": "N5E7xcBhBX38"
      },
      "outputs": [],
      "source": [
        "age(20)"
      ]
    },
    {
      "cell_type": "code",
      "execution_count": null,
      "metadata": {
        "id": "A661Kzg8BX38"
      },
      "outputs": [],
      "source": [
        "age(23)"
      ]
    },
    {
      "cell_type": "markdown",
      "metadata": {
        "id": "H7tT6mTLlcVF"
      },
      "source": [
        "## Putting the pieces together <br>\n",
        "Here we will build a function that returns whether the trip was one day or a round trip"
      ]
    },
    {
      "cell_type": "code",
      "execution_count": null,
      "metadata": {
        "id": "xH7m2hWFBX38"
      },
      "outputs": [],
      "source": [
        "# Bike sharing dataset (already have from above, reminder)\n",
        "trip = Table().read_table('trip.csv')\n",
        "trip.show(3)"
      ]
    },
    {
      "cell_type": "code",
      "execution_count": null,
      "metadata": {
        "id": "Au62kdD-BX38"
      },
      "outputs": [],
      "source": [
        "# Define a function to determine the kind of trip\n",
        "def trip_kind(start, end):\n",
        "    if start == end:\n",
        "        return 'round trip'\n",
        "    else:\n",
        "        return 'one way'"
      ]
    },
    {
      "cell_type": "code",
      "execution_count": null,
      "metadata": {
        "id": "hpNvlYmvl1Sx"
      },
      "outputs": [],
      "source": [
        "# Add a column of the kind of trip to the table by using apply and our new function to the rows of data\n",
        "kinds = trip.with_column('Trip Kind', trip.apply(trip_kind, 'Start Station', 'End Station'))\n",
        "kinds.show(3)"
      ]
    },
    {
      "cell_type": "code",
      "execution_count": null,
      "metadata": {
        "id": "0DDTQdutBX38"
      },
      "outputs": [],
      "source": [
        "# Now create a pivot table\n",
        "kinds_pivot = kinds.where('Duration', are.below(600)).pivot('Trip Kind', 'Start Station').sort('round trip', descending = True).take(np.arange(10))\n",
        "kinds_pivot"
      ]
    },
    {
      "cell_type": "markdown",
      "metadata": {
        "id": "_2l1AxUXBX38"
      },
      "source": [
        "## Simulation"
      ]
    },
    {
      "cell_type": "markdown",
      "metadata": {
        "id": "FrxtfU5goONV"
      },
      "source": [
        "We will start to use simulation in this class. A key element of simulation is leveraging randomness. The `numpy` python library has many functions for generating random events. Today we will use the [`np.random.choice`](https://numpy.org/doc/stable/reference/random/generated/numpy.random.choice.html) function:"
      ]
    },
    {
      "cell_type": "markdown",
      "metadata": {
        "id": "NtGN_4ZYBX39"
      },
      "source": [
        "### Random Selection"
      ]
    },
    {
      "cell_type": "code",
      "execution_count": 28,
      "metadata": {
        "id": "cgrDlbljBX39"
      },
      "outputs": [],
      "source": [
        "mornings = make_array('wake up', 'sleep in')"
      ]
    },
    {
      "cell_type": "code",
      "execution_count": null,
      "metadata": {
        "id": "JGm0GKw5BX39"
      },
      "outputs": [],
      "source": [
        "np.random.choice(mornings)"
      ]
    },
    {
      "cell_type": "code",
      "execution_count": null,
      "metadata": {
        "id": "S1n8r_-fBX39"
      },
      "outputs": [],
      "source": [
        "np.random.choice(mornings)"
      ]
    },
    {
      "cell_type": "code",
      "execution_count": null,
      "metadata": {
        "id": "s46M5qORBX39"
      },
      "outputs": [],
      "source": [
        "np.random.choice(mornings)"
      ]
    },
    {
      "cell_type": "markdown",
      "metadata": {
        "id": "oC9Kczk4BX39"
      },
      "source": [
        "We can also pass an argument that specifies how many times to make a random choice:"
      ]
    },
    {
      "cell_type": "code",
      "execution_count": null,
      "metadata": {
        "id": "Slu5n7BbBX39"
      },
      "outputs": [],
      "source": [
        "np.random.choice(mornings, 7)"
      ]
    },
    {
      "cell_type": "code",
      "execution_count": null,
      "metadata": {
        "id": "GTdhXWLPBX39"
      },
      "outputs": [],
      "source": [
        "morning_week = np.random.choice(mornings, 7)\n",
        "morning_week"
      ]
    },
    {
      "cell_type": "code",
      "execution_count": null,
      "metadata": {
        "id": "L7cNnF_2BX3-"
      },
      "outputs": [],
      "source": [
        "sum(morning_week == 'wake up')"
      ]
    },
    {
      "cell_type": "code",
      "execution_count": null,
      "metadata": {
        "id": "m0u6LT4BBX3-"
      },
      "outputs": [],
      "source": [
        "sum(morning_week == 'sleep in')"
      ]
    },
    {
      "cell_type": "markdown",
      "metadata": {
        "id": "0SlYRs_Co-1F"
      },
      "source": [
        "## Playing a Game of Chance"
      ]
    },
    {
      "cell_type": "markdown",
      "metadata": {
        "id": "NCElhzcXBX39"
      },
      "source": [
        "Let's play a game: we each roll a die.\n",
        "\n",
        "If my number is bigger: you pay me a dollar.\n",
        "\n",
        "If they're the same: we do nothing.\n",
        "\n",
        "If your number is bigger: I pay you a dollar."
      ]
    },
    {
      "cell_type": "markdown",
      "metadata": {
        "id": "_uBMQR_ZBX39"
      },
      "source": [
        "Steps:\n",
        "1. Find a way to simulate two dice rolls.\n",
        "2. Compute how much money we win/lose based on the result.\n",
        "3. Do steps 1 and 2 10,000 times."
      ]
    },
    {
      "cell_type": "markdown",
      "metadata": {
        "id": "NVHLYj-4BX3-"
      },
      "source": [
        "### Simulating the roll of a die"
      ]
    },
    {
      "cell_type": "code",
      "execution_count": null,
      "metadata": {
        "id": "l6qSyrThBX3-"
      },
      "outputs": [],
      "source": [
        "die_faces = np.arange(1, 7)\n",
        "die_faces"
      ]
    },
    {
      "cell_type": "code",
      "execution_count": null,
      "metadata": {
        "id": "tttEtKyaBX3-"
      },
      "outputs": [],
      "source": [
        "np.random.choice(die_faces)"
      ]
    },
    {
      "cell_type": "markdown",
      "metadata": {
        "id": "234yOomMpUIm"
      },
      "source": [
        "Implement a function to simulate a single round of play and return the results"
      ]
    },
    {
      "cell_type": "code",
      "execution_count": null,
      "metadata": {
        "id": "ZOUhFZgJBX3-"
      },
      "outputs": [],
      "source": [
        "def simulate_one_round():\n",
        "    my_roll = np.random.choice(die_faces)\n",
        "    your_roll = np.random.choice(die_faces)\n",
        "\n",
        "# finish function"
      ]
    },
    {
      "cell_type": "code",
      "execution_count": null,
      "metadata": {
        "id": "jIdaLKTLBX3-"
      },
      "outputs": [],
      "source": [
        "simulate_one_round()"
      ]
    },
    {
      "cell_type": "markdown",
      "metadata": {
        "id": "lvlZqB7-BX3-"
      },
      "source": [
        "### Appending Arrays"
      ]
    },
    {
      "cell_type": "markdown",
      "metadata": {
        "id": "GnkZ0Jfc4rDY"
      },
      "source": [
        "Sometimes we will want to collect the outcomes of our simulations into a single array. We can do this by appending each experiment to the end of an array using the numpy [`np.append`](https://numpy.org/doc/stable/reference/generated/numpy.append.html) function."
      ]
    },
    {
      "cell_type": "code",
      "execution_count": null,
      "metadata": {
        "id": "zHcqwoudBX3-"
      },
      "outputs": [],
      "source": [
        "# Setup two arrays\n",
        "first = np.arange(4)\n",
        "second = np.arange(10, 17)"
      ]
    },
    {
      "cell_type": "code",
      "execution_count": null,
      "metadata": {
        "id": "nNm6WQxABX3-"
      },
      "outputs": [],
      "source": [
        "# Add on to the first array\n",
        "np.append(first, 6)"
      ]
    },
    {
      "cell_type": "code",
      "execution_count": null,
      "metadata": {
        "id": "D3UTOprlBX3-"
      },
      "outputs": [],
      "source": [
        "# The first array doesn't change\n",
        "first"
      ]
    },
    {
      "cell_type": "code",
      "execution_count": null,
      "metadata": {
        "id": "PN35FXLgBX3-"
      },
      "outputs": [],
      "source": [
        "# Make a longer array\n",
        "np.append(first, second)"
      ]
    },
    {
      "cell_type": "code",
      "execution_count": null,
      "metadata": {
        "id": "CYkouJeFBX3-"
      },
      "outputs": [],
      "source": [
        "# Again, first doesn't change\n",
        "first"
      ]
    },
    {
      "cell_type": "code",
      "execution_count": null,
      "metadata": {
        "id": "SXS3tGmkBX3-"
      },
      "outputs": [],
      "source": [
        "# And second doesn't change\n",
        "second"
      ]
    },
    {
      "cell_type": "markdown",
      "metadata": {
        "id": "S8dRRotXBX3-"
      },
      "source": [
        "### Repeated Betting ###"
      ]
    },
    {
      "cell_type": "code",
      "execution_count": null,
      "metadata": {
        "id": "6QvQn9VUBX3-"
      },
      "outputs": [],
      "source": [
        "results = make_array()"
      ]
    },
    {
      "cell_type": "code",
      "execution_count": null,
      "metadata": {
        "id": "5JM7YmZKBX3-"
      },
      "outputs": [],
      "source": [
        "results = np.append(results, simulate_one_round())\n",
        "results"
      ]
    },
    {
      "cell_type": "code",
      "execution_count": null,
      "metadata": {
        "id": "aoBRrLUrBX3_"
      },
      "outputs": [],
      "source": [
        "results = np.append(results, simulate_one_round())\n",
        "results"
      ]
    },
    {
      "cell_type": "markdown",
      "metadata": {
        "id": "cH0H6si4BX3_"
      },
      "source": [
        "## `For` Statements"
      ]
    },
    {
      "cell_type": "markdown",
      "metadata": {
        "id": "xbZK6p-m4_R2"
      },
      "source": [
        "The for statement is another way to apply code to each element in a list or an array.\n",
        "\n"
      ]
    },
    {
      "cell_type": "code",
      "execution_count": null,
      "metadata": {
        "id": "vubvVwTpBX3_"
      },
      "outputs": [],
      "source": [
        "for pet in make_array('cat', 'dog', 'rabbit'):\n",
        "    print('I love my ' + pet)"
      ]
    },
    {
      "cell_type": "code",
      "execution_count": null,
      "metadata": {
        "id": "pGp3gJbYBX3_"
      },
      "outputs": [],
      "source": [
        "pet = make_array('cat', 'dog', 'rabbit').item(0)\n",
        "print('I love my ' + pet)\n",
        "\n",
        "pet = make_array('cat', 'dog', 'rabbit').item(1)\n",
        "print('I love my ' + pet)\n",
        "\n",
        "pet = make_array('cat', 'dog', 'rabbit').item(2)\n",
        "print('I love my ' + pet)"
      ]
    },
    {
      "cell_type": "markdown",
      "metadata": {
        "id": "qUfWisgY5Duu"
      },
      "source": [
        "What is the output of this for loop?"
      ]
    },
    {
      "cell_type": "code",
      "execution_count": null,
      "metadata": {
        "id": "WOlEoxM9qh46"
      },
      "outputs": [],
      "source": [
        "x = 0\n",
        "for i in np.arange(1,4):\n",
        "  x = x + i\n",
        "  print(x)\n",
        "\n",
        "print('The final value of x is:', x)"
      ]
    },
    {
      "cell_type": "markdown",
      "metadata": {
        "id": "br0Ovr4s5GIG"
      },
      "source": [
        "Use a for loop to simulate the total outcome of plays of our game of chance:"
      ]
    },
    {
      "cell_type": "code",
      "execution_count": null,
      "metadata": {
        "id": "t4U-vIquBX3_"
      },
      "outputs": [],
      "source": [
        "game_outcomes = make_array()\n",
        "\n",
        "for i in np.arange(5):\n",
        "    game_outcomes = np.append(game_outcomes, simulate_one_round())\n",
        "\n",
        "game_outcomes"
      ]
    },
    {
      "cell_type": "code",
      "execution_count": null,
      "metadata": {
        "id": "_sQ9Ocm5BX3_"
      },
      "outputs": [],
      "source": [
        "game_outcomes = make_array()\n",
        "\n",
        "for i in np.arange(10000):\n",
        "    game_outcomes = np.append(game_outcomes, simulate_one_round())\n",
        "\n",
        "game_outcomes"
      ]
    },
    {
      "cell_type": "code",
      "execution_count": null,
      "metadata": {
        "id": "7M6Fp9ozBX3_"
      },
      "outputs": [],
      "source": [
        "len(game_outcomes)"
      ]
    },
    {
      "cell_type": "code",
      "execution_count": null,
      "metadata": {
        "id": "e1pbfmUGBX3_"
      },
      "outputs": [],
      "source": [
        "results = Table().with_column('My winnings', game_outcomes)"
      ]
    },
    {
      "cell_type": "code",
      "execution_count": null,
      "metadata": {
        "id": "tgx58SWeBX3_"
      },
      "outputs": [],
      "source": [
        "results"
      ]
    },
    {
      "cell_type": "code",
      "execution_count": null,
      "metadata": {
        "id": "mzBOExAdBX3_"
      },
      "outputs": [],
      "source": [
        "results.group('My winnings').barh('My winnings')"
      ]
    },
    {
      "cell_type": "markdown",
      "metadata": {
        "id": "PWHoW-DEBX3_"
      },
      "source": [
        "### Another example: simulating heads in 100 coin tosses"
      ]
    },
    {
      "cell_type": "code",
      "execution_count": null,
      "metadata": {
        "id": "PSaD4pi7BX3_"
      },
      "outputs": [],
      "source": [
        "# Example coin flip\n",
        "coin = make_array('heads', 'tails')"
      ]
    },
    {
      "cell_type": "code",
      "execution_count": null,
      "metadata": {
        "id": "9S13XhoL7IIy"
      },
      "outputs": [],
      "source": [
        "# Use np.random.choice to pick\n",
        "np.random.choice(coin)"
      ]
    },
    {
      "cell_type": "code",
      "execution_count": null,
      "metadata": {
        "id": "Gh7piT3d7OwM"
      },
      "outputs": [],
      "source": [
        "# Pick multiple times\n",
        "ten_picks = np.random.choice(coin, 10)\n",
        "ten_picks"
      ]
    },
    {
      "cell_type": "code",
      "execution_count": null,
      "metadata": {
        "id": "9M-j5Bgv7uq7"
      },
      "outputs": [],
      "source": [
        "ten_picks == 'heads'"
      ]
    },
    {
      "cell_type": "code",
      "execution_count": null,
      "metadata": {
        "id": "aG_R0U5B7yIa"
      },
      "outputs": [],
      "source": [
        "sum(ten_picks == 'heads')"
      ]
    },
    {
      "cell_type": "code",
      "execution_count": null,
      "metadata": {
        "id": "X0FQzWmPBX3_"
      },
      "outputs": [],
      "source": [
        "# Count the sum of heads coin flip results in our array\n",
        "sum(np.random.choice(coin, 10) == 'heads')"
      ]
    },
    {
      "cell_type": "code",
      "execution_count": null,
      "metadata": {
        "id": "T4Lr4-0H79yx"
      },
      "outputs": [],
      "source": [
        "sum(np.random.choice(coin, 100) == 'heads')"
      ]
    },
    {
      "cell_type": "code",
      "execution_count": null,
      "metadata": {
        "id": "63r3GBLtBX3_"
      },
      "outputs": [],
      "source": [
        "# Simulate one outcome\n",
        "\n",
        "def num_heads():\n",
        "    return sum(np.random.choice(coin, 100) == 'heads')"
      ]
    },
    {
      "cell_type": "code",
      "execution_count": null,
      "metadata": {
        "id": "bsCL5q61BX3_"
      },
      "outputs": [],
      "source": [
        "# Decide how many times you want to repeat the experiment\n",
        "repetitions = 10000"
      ]
    },
    {
      "cell_type": "code",
      "execution_count": null,
      "metadata": {
        "id": "Fc2UPTCABX3_"
      },
      "outputs": [],
      "source": [
        "# Simulate that many outcomes\n",
        "outcomes = make_array()\n",
        "\n",
        "for i in np.arange(repetitions):\n",
        "    outcomes = np.append(outcomes, num_heads())"
      ]
    },
    {
      "cell_type": "code",
      "execution_count": null,
      "metadata": {
        "id": "1oLpf_hvBX3_"
      },
      "outputs": [],
      "source": [
        "heads = Table().with_column('Heads', outcomes)\n",
        "heads.hist(bins = np.arange(29.5, 70.6))"
      ]
    },
    {
      "cell_type": "markdown",
      "metadata": {
        "id": "7pK0wMEPBX3_"
      },
      "source": [
        "## Optional: Advanced `where` ##\n",
        "\n",
        "Comparing `where` and boolean values"
      ]
    },
    {
      "cell_type": "code",
      "execution_count": 33,
      "metadata": {
        "id": "VDDR3nijBX4A"
      },
      "outputs": [],
      "source": [
        "ages = make_array(16, 22, 18, 15, 19, 15, 16, 21)\n",
        "age = Table().with_column('Age', ages)"
      ]
    },
    {
      "cell_type": "code",
      "execution_count": null,
      "metadata": {
        "id": "jMq8V0YpBX4A"
      },
      "outputs": [],
      "source": [
        "# preview the age table\n",
        "age"
      ]
    },
    {
      "cell_type": "markdown",
      "metadata": {
        "id": "hgYivt9WcBdS"
      },
      "source": [
        "Use `where` to find `Age` values that are above or equal to the age of 18."
      ]
    },
    {
      "cell_type": "code",
      "execution_count": null,
      "metadata": {
        "id": "TVUjViecBX4A"
      },
      "outputs": [],
      "source": [
        "age.where('Age', are.above_or_equal_to(18))"
      ]
    },
    {
      "cell_type": "markdown",
      "metadata": {
        "id": "HbI9KykVcE8j"
      },
      "source": [
        "Repeat the above, but use boolean logic. This means that when you evaluate what the value of `voter` is in the next cell, you get an array of `True` and `False` values."
      ]
    },
    {
      "cell_type": "code",
      "execution_count": null,
      "metadata": {
        "id": "W-5K9c7ZBX4A"
      },
      "outputs": [],
      "source": [
        "voter = ages >= 18\n",
        "voter"
      ]
    },
    {
      "cell_type": "markdown",
      "metadata": {
        "id": "HDYr3d8jcbQ0"
      },
      "source": [
        "Now we can filter our original `age` table using the `voter` array we made above. Run the cell below and review the output."
      ]
    },
    {
      "cell_type": "code",
      "execution_count": null,
      "metadata": {
        "id": "Csh4XbeUBX4A"
      },
      "outputs": [],
      "source": [
        "age.where(voter)"
      ]
    },
    {
      "cell_type": "markdown",
      "metadata": {
        "id": "vXFGoK7Vchna"
      },
      "source": [
        "Does this make sense? Essentially, you can think about sticking the `voter` array next to our table to match it up with each column. Where there is a `False` entry in our `voter` array, these values did not make it into the output above. Only rows where `voter` array were true were kept."
      ]
    },
    {
      "cell_type": "markdown",
      "metadata": {
        "id": "wz5pfnwGc7LB"
      },
      "source": [
        "Here is a new way to use the `where` predicates in a simplified fashion. Notice there is not `where` below, but we are setting `is_voter` equal to the finding whether a value is above or equal to 18."
      ]
    },
    {
      "cell_type": "code",
      "execution_count": 43,
      "metadata": {
        "id": "oVBg9dQ-BX4A"
      },
      "outputs": [],
      "source": [
        "is_voter = are.above_or_equal_to(18)"
      ]
    },
    {
      "cell_type": "code",
      "execution_count": null,
      "metadata": {
        "id": "s9SNklJOBX4A"
      },
      "outputs": [],
      "source": [
        "type(is_voter)"
      ]
    },
    {
      "cell_type": "markdown",
      "metadata": {
        "id": "DMpDgXEHdT0A"
      },
      "source": [
        "Here you can test out how `is_voter` works:"
      ]
    },
    {
      "cell_type": "code",
      "execution_count": null,
      "metadata": {
        "id": "8Jy1IYVUBX4A"
      },
      "outputs": [],
      "source": [
        "is_voter(22)"
      ]
    },
    {
      "cell_type": "code",
      "execution_count": null,
      "metadata": {
        "id": "3DCmYHgwBX4A"
      },
      "outputs": [],
      "source": [
        "is_voter(3)"
      ]
    },
    {
      "cell_type": "markdown",
      "metadata": {
        "id": "k-UcUUgkdYuX"
      },
      "source": [
        "Essentially, it is testing whether the input you gave it (a number in these cases) is above or equal to 18."
      ]
    },
    {
      "cell_type": "markdown",
      "metadata": {
        "id": "7AvvjCmFdjIn"
      },
      "source": [
        "Once this is created, we are able to use it with `apply`. We can `apply` `is_voter` on the `Age` column of our `age` table. We get out an array of boolean values."
      ]
    },
    {
      "cell_type": "code",
      "execution_count": null,
      "metadata": {
        "id": "cfh8zfHJBX4A"
      },
      "outputs": [],
      "source": [
        "age.apply(is_voter, 'Age')"
      ]
    },
    {
      "cell_type": "markdown",
      "metadata": {
        "id": "R3bRlJOddxq-"
      },
      "source": [
        "Review this output array and the one we got above using logical operators: `>=' 18. Here it is again for reference, and written in a slightly different way."
      ]
    },
    {
      "cell_type": "code",
      "execution_count": null,
      "metadata": {
        "id": "alUq04ebBX4A"
      },
      "outputs": [],
      "source": [
        "ages >= 18"
      ]
    },
    {
      "cell_type": "markdown",
      "metadata": {
        "id": "ERVc1inveCWS"
      },
      "source": [
        "Above, we had set the above expression to be equal to `voter`. It exactly matches the output below"
      ]
    },
    {
      "cell_type": "code",
      "execution_count": null,
      "metadata": {
        "id": "ScVUfoNDBX4A"
      },
      "outputs": [],
      "source": [
        "voter"
      ]
    },
    {
      "cell_type": "markdown",
      "metadata": {
        "id": "GnBuZ3s-eNZE"
      },
      "source": [
        "Here is another example. We can define our own function `my_voter_function` to do the above steps."
      ]
    },
    {
      "cell_type": "code",
      "execution_count": 49,
      "metadata": {
        "id": "9LZ_T3t7BX4A"
      },
      "outputs": [],
      "source": [
        "def my_voter_function(x):\n",
        "    return x >= 18"
      ]
    },
    {
      "cell_type": "markdown",
      "metadata": {
        "id": "2KjgH_7TeTzU"
      },
      "source": [
        "Here is how we usually use `where` in a table to find our conditions of interest."
      ]
    },
    {
      "cell_type": "code",
      "execution_count": null,
      "metadata": {
        "id": "dvNpIVFhBX4A"
      },
      "outputs": [],
      "source": [
        "age.where('Age', are.above_or_equal_to(18))"
      ]
    },
    {
      "cell_type": "markdown",
      "metadata": {
        "id": "U6wYE8_teXRU"
      },
      "source": [
        "Here is an example using our boolean logic when we defined `voter`"
      ]
    },
    {
      "cell_type": "code",
      "execution_count": null,
      "metadata": {
        "id": "85Z6ipWBBX4A"
      },
      "outputs": [],
      "source": [
        "age.where(voter)"
      ]
    },
    {
      "cell_type": "markdown",
      "metadata": {
        "id": "a8YN8_8CecjU"
      },
      "source": [
        "Here is the same output using our own `function` in combination with `where`."
      ]
    },
    {
      "cell_type": "code",
      "execution_count": null,
      "metadata": {
        "id": "ZlQim1ivBX4A"
      },
      "outputs": [],
      "source": [
        "age.where('Age', my_voter_function)"
      ]
    },
    {
      "cell_type": "markdown",
      "metadata": {
        "id": "4L8EPRqpehDq"
      },
      "source": [
        "This is demonstrating that although we typically use the same methods of `where` to work with our tables, the datascience package has been created to be flexible in working with the data and combining methods we learn to write code in different ways to achieve the same end result."
      ]
    },
    {
      "cell_type": "markdown",
      "metadata": {
        "id": "ZvdvEeAIe57Y"
      },
      "source": [
        "## Saving\n",
        "Remember to save your notebook before closing. Choose **Save** (and make sure you've already saved a copy in your drive) from the **File** menu."
      ]
    }
  ],
  "metadata": {
    "colab": {
      "provenance": []
    },
    "kernelspec": {
      "display_name": "Python 3",
      "language": "python",
      "name": "python3"
    },
    "language_info": {
      "codemirror_mode": {
        "name": "ipython",
        "version": 3
      },
      "file_extension": ".py",
      "mimetype": "text/x-python",
      "name": "python",
      "nbconvert_exporter": "python",
      "pygments_lexer": "ipython3",
      "version": "3.10.12"
    }
  },
  "nbformat": 4,
  "nbformat_minor": 0
}
